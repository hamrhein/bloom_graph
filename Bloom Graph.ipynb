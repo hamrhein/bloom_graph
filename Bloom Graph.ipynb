<!DOCTYPE html>
<html>
<head><meta charset="utf-8" />
<title>Bloom Graph</title><script src="https://cdnjs.cloudflare.com/ajax/libs/require.js/2.1.10/require.min.js"></script>
<script src="https://cdnjs.cloudflare.com/ajax/libs/jquery/2.0.3/jquery.min.js"></script>

<style type="text/css">
    /*!
*
* Twitter Bootstrap
*
*/
/*!
 * Bootstrap v3.3.7 (http://getbootstrap.com)
 * Copyright 2011-2016 Twitter, Inc.
 * Licensed under MIT (https://github.com/twbs/bootstrap/blob/master/LICENSE)
 */
/*! normalize.css v3.0.3 | MIT License | github.com/necolas/normalize.css */
html {
  font-family: sans-serif;
  -ms-text-size-adjust: 100%;
  -webkit-text-size-adjust: 100%;
}
body {
  margin: 0;
}
article,
aside,
details,
figcaption,
figure,
footer,
header,
hgroup,
main,
menu,
nav,
section,
summary {
  display: block;
}
audio,
canvas,
progress,
video {
  display: inline-block;
  vertical-align: baseline;
}
audio:not([controls]) {
  display: none;
  height: 0;
}
[hidden],
template {
  display: none;
}
a {
  background-color: transparent;
}
a:active,
a:hover {
  outline: 0;
}
abbr[title] {
  border-bottom: 1px dotted;
}
b,
strong {
  font-weight: bold;
}
dfn {
  font-style: italic;
}
h1 {
  font-size: 2em;
  margin: 0.67em 0;
}
mark {
  background: #ff0;
  color: #000;
}
small {
  font-size: 80%;
}
sub,
sup {
  font-size: 75%;
  line-height: 0;
  position: relative;
  vertical-align: baseline;
}
sup {
  top: -0.5em;
}
sub {
  bottom: -0.25em;
}
img {
  border: 0;
}
svg:not(:root) {
  overflow: hidden;
}
figure {
  margin: 1em 40px;
}
hr {
  box-sizing: content-box;
  height: 0;
}
pre {
  overflow: auto;
}
code,
kbd,
pre,
samp {
  font-family: monospace, monospace;
  font-size: 1em;
}
button,
input,
optgroup,
select,
textarea {
  color: inherit;
  font: inherit;
  margin: 0;
}
button {
  overflow: visible;
}
button,
select {
  text-transform: none;
}
button,
html input[type="button"],
input[type="reset"],
input[type="submit"] {
  -webkit-appearance: button;
  cursor: pointer;
}
button[disabled],
html input[disabled] {
  cursor: default;
}
button::-moz-focus-inner,
input::-moz-focus-inner {
  border: 0;
  padding: 0;
}
input {
  line-height: normal;
}
input[type="checkbox"],
input[type="radio"] {
  box-sizing: border-box;
  padding: 0;
}
input[type="number"]::-webkit-inner-spin-button,
input[type="number"]::-webkit-outer-spin-button {
  height: auto;
}
input[type="search"] {
  -webkit-appearance: textfield;
  box-sizing: content-box;
}
input[type="search"]::-webkit-search-cancel-button,
input[type="search"]::-webkit-search-decoration {
  -webkit-appearance: none;
}
fieldset {
  border: 1px solid #c0c0c0;
  margin: 0 2px;
  padding: 0.35em 0.625em 0.75em;
}
legend {
  border: 0;
  padding: 0;
}
textarea {
  overflow: auto;
}
optgroup {
  font-weight: bold;
}
table {
  border-collapse: collapse;
  border-spacing: 0;
}
td,
th {
  padding: 0;
}
/*! Source: https://github.com/h5bp/html5-boilerplate/blob/master/src/css/main.css */
@media print {
  *,
  *:before,
  *:after {
    background: transparent !important;
    color: #000 !important;
    box-shadow: none !important;
    text-shadow: none !important;
  }
  a,
  a:visited {
    text-decoration: underline;
  }
  a[href]:after {
    content: " (" attr(href) ")";
  }
  abbr[title]:after {
    content: " (" attr(title) ")";
  }
  a[href^="#"]:after,
  a[href^="javascript:"]:after {
    content: "";
  }
  pre,
  blockquote {
    border: 1px solid #999;
    page-break-inside: avoid;
  }
  thead {
    display: table-header-group;
  }
  tr,
  img {
    page-break-inside: avoid;
  }
  img {
    max-width: 100% !important;
  }
  p,
  h2,
  h3 {
    orphans: 3;
    widows: 3;
  }
  h2,
  h3 {
    page-break-after: avoid;
  }
  .navbar {
    display: none;
  }
  .btn > .caret,
  .dropup > .btn > .caret {
    border-top-color: #000 !important;
  }
  .label {
    border: 1px solid #000;
  }
  .table {
    border-collapse: collapse !important;
  }
  .table td,
  .table th {
    background-color: #fff !important;
  }
  .table-bordered th,
  .table-bordered td {
    border: 1px solid #ddd !important;
  }
}
@font-face {
  font-family: 'Glyphicons Halflings';
  src: url('../components/bootstrap/fonts/glyphicons-halflings-regular.eot');
  src: url('../components/bootstrap/fonts/glyphicons-halflings-regular.eot?#iefix') format('embedded-opentype'), url('../components/bootstrap/fonts/glyphicons-halflings-regular.woff2') format('woff2'), url('../components/bootstrap/fonts/glyphicons-halflings-regular.woff') format('woff'), url('../components/bootstrap/fonts/glyphicons-halflings-regular.ttf') format('truetype'), url('../components/bootstrap/fonts/glyphicons-halflings-regular.svg#glyphicons_halflingsregular') format('svg');
}
.glyphicon {
  position: relative;
  top: 1px;
  display: inline-block;
  font-family: 'Glyphicons Halflings';
  font-style: normal;
  font-weight: normal;
  line-height: 1;
  -webkit-font-smoothing: antialiased;
  -moz-osx-font-smoothing: grayscale;
}
.glyphicon-asterisk:before {
  content: "\002a";
}
.glyphicon-plus:before {
  content: "\002b";
}
.glyphicon-euro:before,
.glyphicon-eur:before {
  content: "\20ac";
}
.glyphicon-minus:before {
  content: "\2212";
}
.glyphicon-cloud:before {
  content: "\2601";
}
.glyphicon-envelope:before {
  content: "\2709";
}
.glyphicon-pencil:before {
  content: "\270f";
}
.glyphicon-glass:before {
  content: "\e001";
}
.glyphicon-music:before {
  content: "\e002";
}
.glyphicon-search:before {
  content: "\e003";
}
.glyphicon-heart:before {
  content: "\e005";
}
.glyphicon-star:before {
  content: "\e006";
}
.glyphicon-star-empty:before {
  content: "\e007";
}
.glyphicon-user:before {
  content: "\e008";
}
.glyphicon-film:before {
  content: "\e009";
}
.glyphicon-th-large:before {
  content: "\e010";
}
.glyphicon-th:before {
  content: "\e011";
}
.glyphicon-th-list:before {
  content: "\e012";
}
.glyphicon-ok:before {
  content: "\e013";
}
.glyphicon-remove:before {
  content: "\e014";
}
.glyphicon-zoom-in:before {
  content: "\e015";
}
.glyphicon-zoom-out:before {
  content: "\e016";
}
.glyphicon-off:before {
  content: "\e017";
}
.glyphicon-signal:before {
  content: "\e018";
}
.glyphicon-cog:before {
  content: "\e019";
}
.glyphicon-trash:before {
  content: "\e020";
}
.glyphicon-home:before {
  content: "\e021";
}
.glyphicon-file:before {
  content: "\e022";
}
.glyphicon-time:before {
  content: "\e023";
}
.glyphicon-road:before {
  content: "\e024";
}
.glyphicon-download-alt:before {
  content: "\e025";
}
.glyphicon-download:before {
  content: "\e026";
}
.glyphicon-upload:before {
  content: "\e027";
}
.glyphicon-inbox:before {
  content: "\e028";
}
.glyphicon-play-circle:before {
  content: "\e029";
}
.glyphicon-repeat:before {
  content: "\e030";
}
.glyphicon-refresh:before {
  content: "\e031";
}
.glyphicon-list-alt:before {
  content: "\e032";
}
.glyphicon-lock:before {
  content: "\e033";
}
.glyphicon-flag:before {
  content: "\e034";
}
.glyphicon-headphones:before {
  content: "\e035";
}
.glyphicon-volume-off:before {
  content: "\e036";
}
.glyphicon-volume-down:before {
  content: "\e037";
}
.glyphicon-volume-up:before {
  content: "\e038";
}
.glyphicon-qrcode:before {
  content: "\e039";
}
.glyphicon-barcode:before {
  content: "\e040";
}
.glyphicon-tag:before {
  content: "\e041";
}
.glyphicon-tags:before {
  content: "\e042";
}
.glyphicon-book:before {
  content: "\e043";
}
.glyphicon-bookmark:before {
  content: "\e044";
}
.glyphicon-print:before {
  content: "\e045";
}
.glyphicon-camera:before {
  content: "\e046";
}
.glyphicon-font:before {
  content: "\e047";
}
.glyphicon-bold:before {
  content: "\e048";
}
.glyphicon-italic:before {
  content: "\e049";
}
.glyphicon-text-height:before {
  content: "\e050";
}
.glyphicon-text-width:before {
  content: "\e051";
}
.glyphicon-align-left:before {
  content: "\e052";
}
.glyphicon-align-center:before {
  content: "\e053";
}
.glyphicon-align-right:before {
  content: "\e054";
}
.glyphicon-align-justify:before {
  content: "\e055";
}
.glyphicon-list:before {
  content: "\e056";
}
.glyphicon-indent-left:before {
  content: "\e057";
}
.glyphicon-indent-right:before {
  content: "\e058";
}
.glyphicon-facetime-video:before {
  content: "\e059";
}
.glyphicon-picture:before {
  content: "\e060";
}
.glyphicon-map-marker:before {
  content: "\e062";
}
.glyphicon-adjust:before {
  content: "\e063";
}
.glyphicon-tint:before {
  content: "\e064";
}
.glyphicon-edit:before {
  content: "\e065";
}
.glyphicon-share:before {
  content: "\e066";
}
.glyphicon-check:before {
  content: "\e067";
}
.glyphicon-move:before {
  content: "\e068";
}
.glyphicon-step-backward:before {
  content: "\e069";
}
.glyphicon-fast-backward:before {
  content: "\e070";
}
.glyphicon-backward:before {
  content: "\e071";
}
.glyphicon-play:before {
  content: "\e072";
}
.glyphicon-pause:before {
  content: "\e073";
}
.glyphicon-stop:before {
  content: "\e074";
}
.glyphicon-forward:before {
  content: "\e075";
}
.glyphicon-fast-forward:before {
  content: "\e076";
}
.glyphicon-step-forward:before {
  content: "\e077";
}
.glyphicon-eject:before {
  content: "\e078";
}
.glyphicon-chevron-left:before {
  content: "\e079";
}
.glyphicon-chevron-right:before {
  content: "\e080";
}
.glyphicon-plus-sign:before {
  content: "\e081";
}
.glyphicon-minus-sign:before {
  content: "\e082";
}
.glyphicon-remove-sign:before {
  content: "\e083";
}
.glyphicon-ok-sign:before {
  content: "\e084";
}
.glyphicon-question-sign:before {
  content: "\e085";
}
.glyphicon-info-sign:before {
  content: "\e086";
}
.glyphicon-screenshot:before {
  content: "\e087";
}
.glyphicon-remove-circle:before {
  content: "\e088";
}
.glyphicon-ok-circle:before {
  content: "\e089";
}
.glyphicon-ban-circle:before {
  content: "\e090";
}
.glyphicon-arrow-left:before {
  content: "\e091";
}
.glyphicon-arrow-right:before {
  content: "\e092";
}
.glyphicon-arrow-up:before {
  content: "\e093";
}
.glyphicon-arrow-down:before {
  content: "\e094";
}
.glyphicon-share-alt:before {
  content: "\e095";
}
.glyphicon-resize-full:before {
  content: "\e096";
}
.glyphicon-resize-small:before {
  content: "\e097";
}
.glyphicon-exclamation-sign:before {
  content: "\e101";
}
.glyphicon-gift:before {
  content: "\e102";
}
.glyphicon-leaf:before {
  content: "\e103";
}
.glyphicon-fire:before {
  content: "\e104";
}
.glyphicon-eye-open:before {
  content: "\e105";
}
.glyphicon-eye-close:before {
  content: "\e106";
}
.glyphicon-warning-sign:before {
  content: "\e107";
}
.glyphicon-plane:before {
  content: "\e108";
}
.glyphicon-calendar:before {
  content: "\e109";
}
.glyphicon-random:before {
  content: "\e110";
}
.glyphicon-comment:before {
  content: "\e111";
}
.glyphicon-magnet:before {
  content: "\e112";
}
.glyphicon-chevron-up:before {
  content: "\e113";
}
.glyphicon-chevron-down:before {
  content: "\e114";
}
.glyphicon-retweet:before {
  content: "\e115";
}
.glyphicon-shopping-cart:before {
  content: "\e116";
}
.glyphicon-folder-close:before {
  content: "\e117";
}
.glyphicon-folder-open:before {
  content: "\e118";
}
.glyphicon-resize-vertical:before {
  content: "\e119";
}
.glyphicon-resize-horizontal:before {
  content: "\e120";
}
.glyphicon-hdd:before {
  content: "\e121";
}
.glyphicon-bullhorn:before {
  content: "\e122";
}
.glyphicon-bell:before {
  content: "\e123";
}
.glyphicon-certificate:before {
  content: "\e124";
}
.glyphicon-thumbs-up:before {
  content: "\e125";
}
.glyphicon-thumbs-down:before {
  content: "\e126";
}
.glyphicon-hand-right:before {
  content: "\e127";
}
.glyphicon-hand-left:before {
  content: "\e128";
}
.glyphicon-hand-up:before {
  content: "\e129";
}
.glyphicon-hand-down:before {
  content: "\e130";
}
.glyphicon-circle-arrow-right:before {
  content: "\e131";
}
.glyphicon-circle-arrow-left:before {
  content: "\e132";
}
.glyphicon-circle-arrow-up:before {
  content: "\e133";
}
.glyphicon-circle-arrow-down:before {
  content: "\e134";
}
.glyphicon-globe:before {
  content: "\e135";
}
.glyphicon-wrench:before {
  content: "\e136";
}
.glyphicon-tasks:before {
  content: "\e137";
}
.glyphicon-filter:before {
  content: "\e138";
}
.glyphicon-briefcase:before {
  content: "\e139";
}
.glyphicon-fullscreen:before {
  content: "\e140";
}
.glyphicon-dashboard:before {
  content: "\e141";
}
.glyphicon-paperclip:before {
  content: "\e142";
}
.glyphicon-heart-empty:before {
  content: "\e143";
}
.glyphicon-link:before {
  content: "\e144";
}
.glyphicon-phone:before {
  content: "\e145";
}
.glyphicon-pushpin:before {
  content: "\e146";
}
.glyphicon-usd:before {
  content: "\e148";
}
.glyphicon-gbp:before {
  content: "\e149";
}
.glyphicon-sort:before {
  content: "\e150";
}
.glyphicon-sort-by-alphabet:before {
  content: "\e151";
}
.glyphicon-sort-by-alphabet-alt:before {
  content: "\e152";
}
.glyphicon-sort-by-order:before {
  content: "\e153";
}
.glyphicon-sort-by-order-alt:before {
  content: "\e154";
}
.glyphicon-sort-by-attributes:before {
  content: "\e155";
}
.glyphicon-sort-by-attributes-alt:before {
  content: "\e156";
}
.glyphicon-unchecked:before {
  content: "\e157";
}
.glyphicon-expand:before {
  content: "\e158";
}
.glyphicon-collapse-down:before {
  content: "\e159";
}
.glyphicon-collapse-up:before {
  content: "\e160";
}
.glyphicon-log-in:before {
  content: "\e161";
}
.glyphicon-flash:before {
  content: "\e162";
}
.glyphicon-log-out:before {
  content: "\e163";
}
.glyphicon-new-window:before {
  content: "\e164";
}
.glyphicon-record:before {
  content: "\e165";
}
.glyphicon-save:before {
  content: "\e166";
}
.glyphicon-open:before {
  content: "\e167";
}
.glyphicon-saved:before {
  content: "\e168";
}
.glyphicon-import:before {
  content: "\e169";
}
.glyphicon-export:before {
  content: "\e170";
}
.glyphicon-send:before {
  content: "\e171";
}
.glyphicon-floppy-disk:before {
  content: "\e172";
}
.glyphicon-floppy-saved:before {
  content: "\e173";
}
.glyphicon-floppy-remove:before {
  content: "\e174";
}
.glyphicon-floppy-save:before {
  content: "\e175";
}
.glyphicon-floppy-open:before {
  content: "\e176";
}
.glyphicon-credit-card:before {
  content: "\e177";
}
.glyphicon-transfer:before {
  content: "\e178";
}
.glyphicon-cutlery:before {
  content: "\e179";
}
.glyphicon-header:before {
  content: "\e180";
}
.glyphicon-compressed:before {
  content: "\e181";
}
.glyphicon-earphone:before {
  content: "\e182";
}
.glyphicon-phone-alt:before {
  content: "\e183";
}
.glyphicon-tower:before {
  content: "\e184";
}
.glyphicon-stats:before {
  content: "\e185";
}
.glyphicon-sd-video:before {
  content: "\e186";
}
.glyphicon-hd-video:before {
  content: "\e187";
}
.glyphicon-subtitles:before {
  content: "\e188";
}
.glyphicon-sound-stereo:before {
  content: "\e189";
}
.glyphicon-sound-dolby:before {
  content: "\e190";
}
.glyphicon-sound-5-1:before {
  content: "\e191";
}
.glyphicon-sound-6-1:before {
  content: "\e192";
}
.glyphicon-sound-7-1:before {
  content: "\e193";
}
.glyphicon-copyright-mark:before {
  content: "\e194";
}
.glyphicon-registration-mark:before {
  content: "\e195";
}
.glyphicon-cloud-download:before {
  content: "\e197";
}
.glyphicon-cloud-upload:before {
  content: "\e198";
}
.glyphicon-tree-conifer:before {
  content: "\e199";
}
.glyphicon-tree-deciduous:before {
  content: "\e200";
}
.glyphicon-cd:before {
  content: "\e201";
}
.glyphicon-save-file:before {
  content: "\e202";
}
.glyphicon-open-file:before {
  content: "\e203";
}
.glyphicon-level-up:before {
  content: "\e204";
}
.glyphicon-copy:before {
  content: "\e205";
}
.glyphicon-paste:before {
  content: "\e206";
}
.glyphicon-alert:before {
  content: "\e209";
}
.glyphicon-equalizer:before {
  content: "\e210";
}
.glyphicon-king:before {
  content: "\e211";
}
.glyphicon-queen:before {
  content: "\e212";
}
.glyphicon-pawn:before {
  content: "\e213";
}
.glyphicon-bishop:before {
  content: "\e214";
}
.glyphicon-knight:before {
  content: "\e215";
}
.glyphicon-baby-formula:before {
  content: "\e216";
}
.glyphicon-tent:before {
  content: "\26fa";
}
.glyphicon-blackboard:before {
  content: "\e218";
}
.glyphicon-bed:before {
  content: "\e219";
}
.glyphicon-apple:before {
  content: "\f8ff";
}
.glyphicon-erase:before {
  content: "\e221";
}
.glyphicon-hourglass:before {
  content: "\231b";
}
.glyphicon-lamp:before {
  content: "\e223";
}
.glyphicon-duplicate:before {
  content: "\e224";
}
.glyphicon-piggy-bank:before {
  content: "\e225";
}
.glyphicon-scissors:before {
  content: "\e226";
}
.glyphicon-bitcoin:before {
  content: "\e227";
}
.glyphicon-btc:before {
  content: "\e227";
}
.glyphicon-xbt:before {
  content: "\e227";
}
.glyphicon-yen:before {
  content: "\00a5";
}
.glyphicon-jpy:before {
  content: "\00a5";
}
.glyphicon-ruble:before {
  content: "\20bd";
}
.glyphicon-rub:before {
  content: "\20bd";
}
.glyphicon-scale:before {
  content: "\e230";
}
.glyphicon-ice-lolly:before {
  content: "\e231";
}
.glyphicon-ice-lolly-tasted:before {
  content: "\e232";
}
.glyphicon-education:before {
  content: "\e233";
}
.glyphicon-option-horizontal:before {
  content: "\e234";
}
.glyphicon-option-vertical:before {
  content: "\e235";
}
.glyphicon-menu-hamburger:before {
  content: "\e236";
}
.glyphicon-modal-window:before {
  content: "\e237";
}
.glyphicon-oil:before {
  content: "\e238";
}
.glyphicon-grain:before {
  content: "\e239";
}
.glyphicon-sunglasses:before {
  content: "\e240";
}
.glyphicon-text-size:before {
  content: "\e241";
}
.glyphicon-text-color:before {
  content: "\e242";
}
.glyphicon-text-background:before {
  content: "\e243";
}
.glyphicon-object-align-top:before {
  content: "\e244";
}
.glyphicon-object-align-bottom:before {
  content: "\e245";
}
.glyphicon-object-align-horizontal:before {
  content: "\e246";
}
.glyphicon-object-align-left:before {
  content: "\e247";
}
.glyphicon-object-align-vertical:before {
  content: "\e248";
}
.glyphicon-object-align-right:before {
  content: "\e249";
}
.glyphicon-triangle-right:before {
  content: "\e250";
}
.glyphicon-triangle-left:before {
  content: "\e251";
}
.glyphicon-triangle-bottom:before {
  content: "\e252";
}
.glyphicon-triangle-top:before {
  content: "\e253";
}
.glyphicon-console:before {
  content: "\e254";
}
.glyphicon-superscript:before {
  content: "\e255";
}
.glyphicon-subscript:before {
  content: "\e256";
}
.glyphicon-menu-left:before {
  content: "\e257";
}
.glyphicon-menu-right:before {
  content: "\e258";
}
.glyphicon-menu-down:before {
  content: "\e259";
}
.glyphicon-menu-up:before {
  content: "\e260";
}
* {
  -webkit-box-sizing: border-box;
  -moz-box-sizing: border-box;
  box-sizing: border-box;
}
*:before,
*:after {
  -webkit-box-sizing: border-box;
  -moz-box-sizing: border-box;
  box-sizing: border-box;
}
html {
  font-size: 10px;
  -webkit-tap-highlight-color: rgba(0, 0, 0, 0);
}
body {
  font-family: "Helvetica Neue", Helvetica, Arial, sans-serif;
  font-size: 13px;
  line-height: 1.42857143;
  color: #000000;
  background-color: #ffffff;
}
input,
button,
select,
textarea {
  font-family: inherit;
  font-size: inherit;
  line-height: inherit;
}
a {
  color: #337ab7;
  text-decoration: none;
}
a:hover,
a:focus {
  color: #23527c;
  text-decoration: underline;
}
a:focus {
  outline: 5px auto -webkit-focus-ring-color;
  outline-offset: -2px;
}
figure {
  margin: 0;
}
img {
  vertical-align: middle;
}
.img-responsive,
.thumbnail > img,
.thumbnail a > img,
.carousel-inner > .item > img,
.carousel-inner > .item > a > img {
  display: block;
  max-width: 100%;
  height: auto;
}
.img-rounded {
  border-radius: 3px;
}
.img-thumbnail {
  padding: 4px;
  line-height: 1.42857143;
  background-color: #ffffff;
  border: 1px solid #dddddd;
  border-radius: 2px;
  -webkit-transition: all 0.2s ease-in-out;
  -o-transition: all 0.2s ease-in-out;
  transition: all 0.2s ease-in-out;
  display: inline-block;
  max-width: 100%;
  height: auto;
}
.img-circle {
  border-radius: 50%;
}
hr {
  margin-top: 18px;
  margin-bottom: 18px;
  border: 0;
  border-top: 1px solid #eeeeee;
}
.sr-only {
  position: absolute;
  width: 1px;
  height: 1px;
  margin: -1px;
  padding: 0;
  overflow: hidden;
  clip: rect(0, 0, 0, 0);
  border: 0;
}
.sr-only-focusable:active,
.sr-only-focusable:focus {
  position: static;
  width: auto;
  height: auto;
  margin: 0;
  overflow: visible;
  clip: auto;
}
[role="button"] {
  cursor: pointer;
}
h1,
h2,
h3,
h4,
h5,
h6,
.h1,
.h2,
.h3,
.h4,
.h5,
.h6 {
  font-family: inherit;
  font-weight: 500;
  line-height: 1.1;
  color: inherit;
}
h1 small,
h2 small,
h3 small,
h4 small,
h5 small,
h6 small,
.h1 small,
.h2 small,
.h3 small,
.h4 small,
.h5 small,
.h6 small,
h1 .small,
h2 .small,
h3 .small,
h4 .small,
h5 .small,
h6 .small,
.h1 .small,
.h2 .small,
.h3 .small,
.h4 .small,
.h5 .small,
.h6 .small {
  font-weight: normal;
  line-height: 1;
  color: #777777;
}
h1,
.h1,
h2,
.h2,
h3,
.h3 {
  margin-top: 18px;
  margin-bottom: 9px;
}
h1 small,
.h1 small,
h2 small,
.h2 small,
h3 small,
.h3 small,
h1 .small,
.h1 .small,
h2 .small,
.h2 .small,
h3 .small,
.h3 .small {
  font-size: 65%;
}
h4,
.h4,
h5,
.h5,
h6,
.h6 {
  margin-top: 9px;
  margin-bottom: 9px;
}
h4 small,
.h4 small,
h5 small,
.h5 small,
h6 small,
.h6 small,
h4 .small,
.h4 .small,
h5 .small,
.h5 .small,
h6 .small,
.h6 .small {
  font-size: 75%;
}
h1,
.h1 {
  font-size: 33px;
}
h2,
.h2 {
  font-size: 27px;
}
h3,
.h3 {
  font-size: 23px;
}
h4,
.h4 {
  font-size: 17px;
}
h5,
.h5 {
  font-size: 13px;
}
h6,
.h6 {
  font-size: 12px;
}
p {
  margin: 0 0 9px;
}
.lead {
  margin-bottom: 18px;
  font-size: 14px;
  font-weight: 300;
  line-height: 1.4;
}
@media (min-width: 768px) {
  .lead {
    font-size: 19.5px;
  }
}
small,
.small {
  font-size: 92%;
}
mark,
.mark {
  background-color: #fcf8e3;
  padding: .2em;
}
.text-left {
  text-align: left;
}
.text-right {
  text-align: right;
}
.text-center {
  text-align: center;
}
.text-justify {
  text-align: justify;
}
.text-nowrap {
  white-space: nowrap;
}
.text-lowercase {
  text-transform: lowercase;
}
.text-uppercase {
  text-transform: uppercase;
}
.text-capitalize {
  text-transform: capitalize;
}
.text-muted {
  color: #777777;
}
.text-primary {
  color: #337ab7;
}
a.text-primary:hover,
a.text-primary:focus {
  color: #286090;
}
.text-success {
  color: #3c763d;
}
a.text-success:hover,
a.text-success:focus {
  color: #2b542c;
}
.text-info {
  color: #31708f;
}
a.text-info:hover,
a.text-info:focus {
  color: #245269;
}
.text-warning {
  color: #8a6d3b;
}
a.text-warning:hover,
a.text-warning:focus {
  color: #66512c;
}
.text-danger {
  color: #a94442;
}
a.text-danger:hover,
a.text-danger:focus {
  color: #843534;
}
.bg-primary {
  color: #fff;
  background-color: #337ab7;
}
a.bg-primary:hover,
a.bg-primary:focus {
  background-color: #286090;
}
.bg-success {
  background-color: #dff0d8;
}
a.bg-success:hover,
a.bg-success:focus {
  background-color: #c1e2b3;
}
.bg-info {
  background-color: #d9edf7;
}
a.bg-info:hover,
a.bg-info:focus {
  background-color: #afd9ee;
}
.bg-warning {
  background-color: #fcf8e3;
}
a.bg-warning:hover,
a.bg-warning:focus {
  background-color: #f7ecb5;
}
.bg-danger {
  background-color: #f2dede;
}
a.bg-danger:hover,
a.bg-danger:focus {
  background-color: #e4b9b9;
}
.page-header {
  padding-bottom: 8px;
  margin: 36px 0 18px;
  border-bottom: 1px solid #eeeeee;
}
ul,
ol {
  margin-top: 0;
  margin-bottom: 9px;
}
ul ul,
ol ul,
ul ol,
ol ol {
  margin-bottom: 0;
}
.list-unstyled {
  padding-left: 0;
  list-style: none;
}
.list-inline {
  padding-left: 0;
  list-style: none;
  margin-left: -5px;
}
.list-inline > li {
  display: inline-block;
  padding-left: 5px;
  padding-right: 5px;
}
dl {
  margin-top: 0;
  margin-bottom: 18px;
}
dt,
dd {
  line-height: 1.42857143;
}
dt {
  font-weight: bold;
}
dd {
  margin-left: 0;
}
@media (min-width: 541px) {
  .dl-horizontal dt {
    float: left;
    width: 160px;
    clear: left;
    text-align: right;
    overflow: hidden;
    text-overflow: ellipsis;
    white-space: nowrap;
  }
  .dl-horizontal dd {
    margin-left: 180px;
  }
}
abbr[title],
abbr[data-original-title] {
  cursor: help;
  border-bottom: 1px dotted #777777;
}
.initialism {
  font-size: 90%;
  text-transform: uppercase;
}
blockquote {
  padding: 9px 18px;
  margin: 0 0 18px;
  font-size: inherit;
  border-left: 5px solid #eeeeee;
}
blockquote p:last-child,
blockquote ul:last-child,
blockquote ol:last-child {
  margin-bottom: 0;
}
blockquote footer,
blockquote small,
blockquote .small {
  display: block;
  font-size: 80%;
  line-height: 1.42857143;
  color: #777777;
}
blockquote footer:before,
blockquote small:before,
blockquote .small:before {
  content: '\2014 \00A0';
}
.blockquote-reverse,
blockquote.pull-right {
  padding-right: 15px;
  padding-left: 0;
  border-right: 5px solid #eeeeee;
  border-left: 0;
  text-align: right;
}
.blockquote-reverse footer:before,
blockquote.pull-right footer:before,
.blockquote-reverse small:before,
blockquote.pull-right small:before,
.blockquote-reverse .small:before,
blockquote.pull-right .small:before {
  content: '';
}
.blockquote-reverse footer:after,
blockquote.pull-right footer:after,
.blockquote-reverse small:after,
blockquote.pull-right small:after,
.blockquote-reverse .small:after,
blockquote.pull-right .small:after {
  content: '\00A0 \2014';
}
address {
  margin-bottom: 18px;
  font-style: normal;
  line-height: 1.42857143;
}
code,
kbd,
pre,
samp {
  font-family: monospace;
}
code {
  padding: 2px 4px;
  font-size: 90%;
  color: #c7254e;
  background-color: #f9f2f4;
  border-radius: 2px;
}
kbd {
  padding: 2px 4px;
  font-size: 90%;
  color: #888888;
  background-color: transparent;
  border-radius: 1px;
  box-shadow: inset 0 -1px 0 rgba(0, 0, 0, 0.25);
}
kbd kbd {
  padding: 0;
  font-size: 100%;
  font-weight: bold;
  box-shadow: none;
}
pre {
  display: block;
  padding: 8.5px;
  margin: 0 0 9px;
  font-size: 12px;
  line-height: 1.42857143;
  word-break: break-all;
  word-wrap: break-word;
  color: #333333;
  background-color: #f5f5f5;
  border: 1px solid #cccccc;
  border-radius: 2px;
}
pre code {
  padding: 0;
  font-size: inherit;
  color: inherit;
  white-space: pre-wrap;
  background-color: transparent;
  border-radius: 0;
}
.pre-scrollable {
  max-height: 340px;
  overflow-y: scroll;
}
.container {
  margin-right: auto;
  margin-left: auto;
  padding-left: 0px;
  padding-right: 0px;
}
@media (min-width: 768px) {
  .container {
    width: 768px;
  }
}
@media (min-width: 992px) {
  .container {
    width: 940px;
  }
}
@media (min-width: 1200px) {
  .container {
    width: 1140px;
  }
}
.container-fluid {
  margin-right: auto;
  margin-left: auto;
  padding-left: 0px;
  padding-right: 0px;
}
.row {
  margin-left: 0px;
  margin-right: 0px;
}
.col-xs-1, .col-sm-1, .col-md-1, .col-lg-1, .col-xs-2, .col-sm-2, .col-md-2, .col-lg-2, .col-xs-3, .col-sm-3, .col-md-3, .col-lg-3, .col-xs-4, .col-sm-4, .col-md-4, .col-lg-4, .col-xs-5, .col-sm-5, .col-md-5, .col-lg-5, .col-xs-6, .col-sm-6, .col-md-6, .col-lg-6, .col-xs-7, .col-sm-7, .col-md-7, .col-lg-7, .col-xs-8, .col-sm-8, .col-md-8, .col-lg-8, .col-xs-9, .col-sm-9, .col-md-9, .col-lg-9, .col-xs-10, .col-sm-10, .col-md-10, .col-lg-10, .col-xs-11, .col-sm-11, .col-md-11, .col-lg-11, .col-xs-12, .col-sm-12, .col-md-12, .col-lg-12 {
  position: relative;
  min-height: 1px;
  padding-left: 0px;
  padding-right: 0px;
}
.col-xs-1, .col-xs-2, .col-xs-3, .col-xs-4, .col-xs-5, .col-xs-6, .col-xs-7, .col-xs-8, .col-xs-9, .col-xs-10, .col-xs-11, .col-xs-12 {
  float: left;
}
.col-xs-12 {
  width: 100%;
}
.col-xs-11 {
  width: 91.66666667%;
}
.col-xs-10 {
  width: 83.33333333%;
}
.col-xs-9 {
  width: 75%;
}
.col-xs-8 {
  width: 66.66666667%;
}
.col-xs-7 {
  width: 58.33333333%;
}
.col-xs-6 {
  width: 50%;
}
.col-xs-5 {
  width: 41.66666667%;
}
.col-xs-4 {
  width: 33.33333333%;
}
.col-xs-3 {
  width: 25%;
}
.col-xs-2 {
  width: 16.66666667%;
}
.col-xs-1 {
  width: 8.33333333%;
}
.col-xs-pull-12 {
  right: 100%;
}
.col-xs-pull-11 {
  right: 91.66666667%;
}
.col-xs-pull-10 {
  right: 83.33333333%;
}
.col-xs-pull-9 {
  right: 75%;
}
.col-xs-pull-8 {
  right: 66.66666667%;
}
.col-xs-pull-7 {
  right: 58.33333333%;
}
.col-xs-pull-6 {
  right: 50%;
}
.col-xs-pull-5 {
  right: 41.66666667%;
}
.col-xs-pull-4 {
  right: 33.33333333%;
}
.col-xs-pull-3 {
  right: 25%;
}
.col-xs-pull-2 {
  right: 16.66666667%;
}
.col-xs-pull-1 {
  right: 8.33333333%;
}
.col-xs-pull-0 {
  right: auto;
}
.col-xs-push-12 {
  left: 100%;
}
.col-xs-push-11 {
  left: 91.66666667%;
}
.col-xs-push-10 {
  left: 83.33333333%;
}
.col-xs-push-9 {
  left: 75%;
}
.col-xs-push-8 {
  left: 66.66666667%;
}
.col-xs-push-7 {
  left: 58.33333333%;
}
.col-xs-push-6 {
  left: 50%;
}
.col-xs-push-5 {
  left: 41.66666667%;
}
.col-xs-push-4 {
  left: 33.33333333%;
}
.col-xs-push-3 {
  left: 25%;
}
.col-xs-push-2 {
  left: 16.66666667%;
}
.col-xs-push-1 {
  left: 8.33333333%;
}
.col-xs-push-0 {
  left: auto;
}
.col-xs-offset-12 {
  margin-left: 100%;
}
.col-xs-offset-11 {
  margin-left: 91.66666667%;
}
.col-xs-offset-10 {
  margin-left: 83.33333333%;
}
.col-xs-offset-9 {
  margin-left: 75%;
}
.col-xs-offset-8 {
  margin-left: 66.66666667%;
}
.col-xs-offset-7 {
  margin-left: 58.33333333%;
}
.col-xs-offset-6 {
  margin-left: 50%;
}
.col-xs-offset-5 {
  margin-left: 41.66666667%;
}
.col-xs-offset-4 {
  margin-left: 33.33333333%;
}
.col-xs-offset-3 {
  margin-left: 25%;
}
.col-xs-offset-2 {
  margin-left: 16.66666667%;
}
.col-xs-offset-1 {
  margin-left: 8.33333333%;
}
.col-xs-offset-0 {
  margin-left: 0%;
}
@media (min-width: 768px) {
  .col-sm-1, .col-sm-2, .col-sm-3, .col-sm-4, .col-sm-5, .col-sm-6, .col-sm-7, .col-sm-8, .col-sm-9, .col-sm-10, .col-sm-11, .col-sm-12 {
    float: left;
  }
  .col-sm-12 {
    width: 100%;
  }
  .col-sm-11 {
    width: 91.66666667%;
  }
  .col-sm-10 {
    width: 83.33333333%;
  }
  .col-sm-9 {
    width: 75%;
  }
  .col-sm-8 {
    width: 66.66666667%;
  }
  .col-sm-7 {
    width: 58.33333333%;
  }
  .col-sm-6 {
    width: 50%;
  }
  .col-sm-5 {
    width: 41.66666667%;
  }
  .col-sm-4 {
    width: 33.33333333%;
  }
  .col-sm-3 {
    width: 25%;
  }
  .col-sm-2 {
    width: 16.66666667%;
  }
  .col-sm-1 {
    width: 8.33333333%;
  }
  .col-sm-pull-12 {
    right: 100%;
  }
  .col-sm-pull-11 {
    right: 91.66666667%;
  }
  .col-sm-pull-10 {
    right: 83.33333333%;
  }
  .col-sm-pull-9 {
    right: 75%;
  }
  .col-sm-pull-8 {
    right: 66.66666667%;
  }
  .col-sm-pull-7 {
    right: 58.33333333%;
  }
  .col-sm-pull-6 {
    right: 50%;
  }
  .col-sm-pull-5 {
    right: 41.66666667%;
  }
  .col-sm-pull-4 {
    right: 33.33333333%;
  }
  .col-sm-pull-3 {
    right: 25%;
  }
  .col-sm-pull-2 {
    right: 16.66666667%;
  }
  .col-sm-pull-1 {
    right: 8.33333333%;
  }
  .col-sm-pull-0 {
    right: auto;
  }
  .col-sm-push-12 {
    left: 100%;
  }
  .col-sm-push-11 {
    left: 91.66666667%;
  }
  .col-sm-push-10 {
    left: 83.33333333%;
  }
  .col-sm-push-9 {
    left: 75%;
  }
  .col-sm-push-8 {
    left: 66.66666667%;
  }
  .col-sm-push-7 {
    left: 58.33333333%;
  }
  .col-sm-push-6 {
    left: 50%;
  }
  .col-sm-push-5 {
    left: 41.66666667%;
  }
  .col-sm-push-4 {
    left: 33.33333333%;
  }
  .col-sm-push-3 {
    left: 25%;
  }
  .col-sm-push-2 {
    left: 16.66666667%;
  }
  .col-sm-push-1 {
    left: 8.33333333%;
  }
  .col-sm-push-0 {
    left: auto;
  }
  .col-sm-offset-12 {
    margin-left: 100%;
  }
  .col-sm-offset-11 {
    margin-left: 91.66666667%;
  }
  .col-sm-offset-10 {
    margin-left: 83.33333333%;
  }
  .col-sm-offset-9 {
    margin-left: 75%;
  }
  .col-sm-offset-8 {
    margin-left: 66.66666667%;
  }
  .col-sm-offset-7 {
    margin-left: 58.33333333%;
  }
  .col-sm-offset-6 {
    margin-left: 50%;
  }
  .col-sm-offset-5 {
    margin-left: 41.66666667%;
  }
  .col-sm-offset-4 {
    margin-left: 33.33333333%;
  }
  .col-sm-offset-3 {
    margin-left: 25%;
  }
  .col-sm-offset-2 {
    margin-left: 16.66666667%;
  }
  .col-sm-offset-1 {
    margin-left: 8.33333333%;
  }
  .col-sm-offset-0 {
    margin-left: 0%;
  }
}
@media (min-width: 992px) {
  .col-md-1, .col-md-2, .col-md-3, .col-md-4, .col-md-5, .col-md-6, .col-md-7, .col-md-8, .col-md-9, .col-md-10, .col-md-11, .col-md-12 {
    float: left;
  }
  .col-md-12 {
    width: 100%;
  }
  .col-md-11 {
    width: 91.66666667%;
  }
  .col-md-10 {
    width: 83.33333333%;
  }
  .col-md-9 {
    width: 75%;
  }
  .col-md-8 {
    width: 66.66666667%;
  }
  .col-md-7 {
    width: 58.33333333%;
  }
  .col-md-6 {
    width: 50%;
  }
  .col-md-5 {
    width: 41.66666667%;
  }
  .col-md-4 {
    width: 33.33333333%;
  }
  .col-md-3 {
    width: 25%;
  }
  .col-md-2 {
    width: 16.66666667%;
  }
  .col-md-1 {
    width: 8.33333333%;
  }
  .col-md-pull-12 {
    right: 100%;
  }
  .col-md-pull-11 {
    right: 91.66666667%;
  }
  .col-md-pull-10 {
    right: 83.33333333%;
  }
  .col-md-pull-9 {
    right: 75%;
  }
  .col-md-pull-8 {
    right: 66.66666667%;
  }
  .col-md-pull-7 {
    right: 58.33333333%;
  }
  .col-md-pull-6 {
    right: 50%;
  }
  .col-md-pull-5 {
    right: 41.66666667%;
  }
  .col-md-pull-4 {
    right: 33.33333333%;
  }
  .col-md-pull-3 {
    right: 25%;
  }
  .col-md-pull-2 {
    right: 16.66666667%;
  }
  .col-md-pull-1 {
    right: 8.33333333%;
  }
  .col-md-pull-0 {
    right: auto;
  }
  .col-md-push-12 {
    left: 100%;
  }
  .col-md-push-11 {
    left: 91.66666667%;
  }
  .col-md-push-10 {
    left: 83.33333333%;
  }
  .col-md-push-9 {
    left: 75%;
  }
  .col-md-push-8 {
    left: 66.66666667%;
  }
  .col-md-push-7 {
    left: 58.33333333%;
  }
  .col-md-push-6 {
    left: 50%;
  }
  .col-md-push-5 {
    left: 41.66666667%;
  }
  .col-md-push-4 {
    left: 33.33333333%;
  }
  .col-md-push-3 {
    left: 25%;
  }
  .col-md-push-2 {
    left: 16.66666667%;
  }
  .col-md-push-1 {
    left: 8.33333333%;
  }
  .col-md-push-0 {
    left: auto;
  }
  .col-md-offset-12 {
    margin-left: 100%;
  }
  .col-md-offset-11 {
    margin-left: 91.66666667%;
  }
  .col-md-offset-10 {
    margin-left: 83.33333333%;
  }
  .col-md-offset-9 {
    margin-left: 75%;
  }
  .col-md-offset-8 {
    margin-left: 66.66666667%;
  }
  .col-md-offset-7 {
    margin-left: 58.33333333%;
  }
  .col-md-offset-6 {
    margin-left: 50%;
  }
  .col-md-offset-5 {
    margin-left: 41.66666667%;
  }
  .col-md-offset-4 {
    margin-left: 33.33333333%;
  }
  .col-md-offset-3 {
    margin-left: 25%;
  }
  .col-md-offset-2 {
    margin-left: 16.66666667%;
  }
  .col-md-offset-1 {
    margin-left: 8.33333333%;
  }
  .col-md-offset-0 {
    margin-left: 0%;
  }
}
@media (min-width: 1200px) {
  .col-lg-1, .col-lg-2, .col-lg-3, .col-lg-4, .col-lg-5, .col-lg-6, .col-lg-7, .col-lg-8, .col-lg-9, .col-lg-10, .col-lg-11, .col-lg-12 {
    float: left;
  }
  .col-lg-12 {
    width: 100%;
  }
  .col-lg-11 {
    width: 91.66666667%;
  }
  .col-lg-10 {
    width: 83.33333333%;
  }
  .col-lg-9 {
    width: 75%;
  }
  .col-lg-8 {
    width: 66.66666667%;
  }
  .col-lg-7 {
    width: 58.33333333%;
  }
  .col-lg-6 {
    width: 50%;
  }
  .col-lg-5 {
    width: 41.66666667%;
  }
  .col-lg-4 {
    width: 33.33333333%;
  }
  .col-lg-3 {
    width: 25%;
  }
  .col-lg-2 {
    width: 16.66666667%;
  }
  .col-lg-1 {
    width: 8.33333333%;
  }
  .col-lg-pull-12 {
    right: 100%;
  }
  .col-lg-pull-11 {
    right: 91.66666667%;
  }
  .col-lg-pull-10 {
    right: 83.33333333%;
  }
  .col-lg-pull-9 {
    right: 75%;
  }
  .col-lg-pull-8 {
    right: 66.66666667%;
  }
  .col-lg-pull-7 {
    right: 58.33333333%;
  }
  .col-lg-pull-6 {
    right: 50%;
  }
  .col-lg-pull-5 {
    right: 41.66666667%;
  }
  .col-lg-pull-4 {
    right: 33.33333333%;
  }
  .col-lg-pull-3 {
    right: 25%;
  }
  .col-lg-pull-2 {
    right: 16.66666667%;
  }
  .col-lg-pull-1 {
    right: 8.33333333%;
  }
  .col-lg-pull-0 {
    right: auto;
  }
  .col-lg-push-12 {
    left: 100%;
  }
  .col-lg-push-11 {
    left: 91.66666667%;
  }
  .col-lg-push-10 {
    left: 83.33333333%;
  }
  .col-lg-push-9 {
    left: 75%;
  }
  .col-lg-push-8 {
    left: 66.66666667%;
  }
  .col-lg-push-7 {
    left: 58.33333333%;
  }
  .col-lg-push-6 {
    left: 50%;
  }
  .col-lg-push-5 {
    left: 41.66666667%;
  }
  .col-lg-push-4 {
    left: 33.33333333%;
  }
  .col-lg-push-3 {
    left: 25%;
  }
  .col-lg-push-2 {
    left: 16.66666667%;
  }
  .col-lg-push-1 {
    left: 8.33333333%;
  }
  .col-lg-push-0 {
    left: auto;
  }
  .col-lg-offset-12 {
    margin-left: 100%;
  }
  .col-lg-offset-11 {
    margin-left: 91.66666667%;
  }
  .col-lg-offset-10 {
    margin-left: 83.33333333%;
  }
  .col-lg-offset-9 {
    margin-left: 75%;
  }
  .col-lg-offset-8 {
    margin-left: 66.66666667%;
  }
  .col-lg-offset-7 {
    margin-left: 58.33333333%;
  }
  .col-lg-offset-6 {
    margin-left: 50%;
  }
  .col-lg-offset-5 {
    margin-left: 41.66666667%;
  }
  .col-lg-offset-4 {
    margin-left: 33.33333333%;
  }
  .col-lg-offset-3 {
    margin-left: 25%;
  }
  .col-lg-offset-2 {
    margin-left: 16.66666667%;
  }
  .col-lg-offset-1 {
    margin-left: 8.33333333%;
  }
  .col-lg-offset-0 {
    margin-left: 0%;
  }
}
table {
  background-color: transparent;
}
caption {
  padding-top: 8px;
  padding-bottom: 8px;
  color: #777777;
  text-align: left;
}
th {
  text-align: left;
}
.table {
  width: 100%;
  max-width: 100%;
  margin-bottom: 18px;
}
.table > thead > tr > th,
.table > tbody > tr > th,
.table > tfoot > tr > th,
.table > thead > tr > td,
.table > tbody > tr > td,
.table > tfoot > tr > td {
  padding: 8px;
  line-height: 1.42857143;
  vertical-align: top;
  border-top: 1px solid #dddddd;
}
.table > thead > tr > th {
  vertical-align: bottom;
  border-bottom: 2px solid #dddddd;
}
.table > caption + thead > tr:first-child > th,
.table > colgroup + thead > tr:first-child > th,
.table > thead:first-child > tr:first-child > th,
.table > caption + thead > tr:first-child > td,
.table > colgroup + thead > tr:first-child > td,
.table > thead:first-child > tr:first-child > td {
  border-top: 0;
}
.table > tbody + tbody {
  border-top: 2px solid #dddddd;
}
.table .table {
  background-color: #ffffff;
}
.table-condensed > thead > tr > th,
.table-condensed > tbody > tr > th,
.table-condensed > tfoot > tr > th,
.table-condensed > thead > tr > td,
.table-condensed > tbody > tr > td,
.table-condensed > tfoot > tr > td {
  padding: 5px;
}
.table-bordered {
  border: 1px solid #dddddd;
}
.table-bordered > thead > tr > th,
.table-bordered > tbody > tr > th,
.table-bordered > tfoot > tr > th,
.table-bordered > thead > tr > td,
.table-bordered > tbody > tr > td,
.table-bordered > tfoot > tr > td {
  border: 1px solid #dddddd;
}
.table-bordered > thead > tr > th,
.table-bordered > thead > tr > td {
  border-bottom-width: 2px;
}
.table-striped > tbody > tr:nth-of-type(odd) {
  background-color: #f9f9f9;
}
.table-hover > tbody > tr:hover {
  background-color: #f5f5f5;
}
table col[class*="col-"] {
  position: static;
  float: none;
  display: table-column;
}
table td[class*="col-"],
table th[class*="col-"] {
  position: static;
  float: none;
  display: table-cell;
}
.table > thead > tr > td.active,
.table > tbody > tr > td.active,
.table > tfoot > tr > td.active,
.table > thead > tr > th.active,
.table > tbody > tr > th.active,
.table > tfoot > tr > th.active,
.table > thead > tr.active > td,
.table > tbody > tr.active > td,
.table > tfoot > tr.active > td,
.table > thead > tr.active > th,
.table > tbody > tr.active > th,
.table > tfoot > tr.active > th {
  background-color: #f5f5f5;
}
.table-hover > tbody > tr > td.active:hover,
.table-hover > tbody > tr > th.active:hover,
.table-hover > tbody > tr.active:hover > td,
.table-hover > tbody > tr:hover > .active,
.table-hover > tbody > tr.active:hover > th {
  background-color: #e8e8e8;
}
.table > thead > tr > td.success,
.table > tbody > tr > td.success,
.table > tfoot > tr > td.success,
.table > thead > tr > th.success,
.table > tbody > tr > th.success,
.table > tfoot > tr > th.success,
.table > thead > tr.success > td,
.table > tbody > tr.success > td,
.table > tfoot > tr.success > td,
.table > thead > tr.success > th,
.table > tbody > tr.success > th,
.table > tfoot > tr.success > th {
  background-color: #dff0d8;
}
.table-hover > tbody > tr > td.success:hover,
.table-hover > tbody > tr > th.success:hover,
.table-hover > tbody > tr.success:hover > td,
.table-hover > tbody > tr:hover > .success,
.table-hover > tbody > tr.success:hover > th {
  background-color: #d0e9c6;
}
.table > thead > tr > td.info,
.table > tbody > tr > td.info,
.table > tfoot > tr > td.info,
.table > thead > tr > th.info,
.table > tbody > tr > th.info,
.table > tfoot > tr > th.info,
.table > thead > tr.info > td,
.table > tbody > tr.info > td,
.table > tfoot > tr.info > td,
.table > thead > tr.info > th,
.table > tbody > tr.info > th,
.table > tfoot > tr.info > th {
  background-color: #d9edf7;
}
.table-hover > tbody > tr > td.info:hover,
.table-hover > tbody > tr > th.info:hover,
.table-hover > tbody > tr.info:hover > td,
.table-hover > tbody > tr:hover > .info,
.table-hover > tbody > tr.info:hover > th {
  background-color: #c4e3f3;
}
.table > thead > tr > td.warning,
.table > tbody > tr > td.warning,
.table > tfoot > tr > td.warning,
.table > thead > tr > th.warning,
.table > tbody > tr > th.warning,
.table > tfoot > tr > th.warning,
.table > thead > tr.warning > td,
.table > tbody > tr.warning > td,
.table > tfoot > tr.warning > td,
.table > thead > tr.warning > th,
.table > tbody > tr.warning > th,
.table > tfoot > tr.warning > th {
  background-color: #fcf8e3;
}
.table-hover > tbody > tr > td.warning:hover,
.table-hover > tbody > tr > th.warning:hover,
.table-hover > tbody > tr.warning:hover > td,
.table-hover > tbody > tr:hover > .warning,
.table-hover > tbody > tr.warning:hover > th {
  background-color: #faf2cc;
}
.table > thead > tr > td.danger,
.table > tbody > tr > td.danger,
.table > tfoot > tr > td.danger,
.table > thead > tr > th.danger,
.table > tbody > tr > th.danger,
.table > tfoot > tr > th.danger,
.table > thead > tr.danger > td,
.table > tbody > tr.danger > td,
.table > tfoot > tr.danger > td,
.table > thead > tr.danger > th,
.table > tbody > tr.danger > th,
.table > tfoot > tr.danger > th {
  background-color: #f2dede;
}
.table-hover > tbody > tr > td.danger:hover,
.table-hover > tbody > tr > th.danger:hover,
.table-hover > tbody > tr.danger:hover > td,
.table-hover > tbody > tr:hover > .danger,
.table-hover > tbody > tr.danger:hover > th {
  background-color: #ebcccc;
}
.table-responsive {
  overflow-x: auto;
  min-height: 0.01%;
}
@media screen and (max-width: 767px) {
  .table-responsive {
    width: 100%;
    margin-bottom: 13.5px;
    overflow-y: hidden;
    -ms-overflow-style: -ms-autohiding-scrollbar;
    border: 1px solid #dddddd;
  }
  .table-responsive > .table {
    margin-bottom: 0;
  }
  .table-responsive > .table > thead > tr > th,
  .table-responsive > .table > tbody > tr > th,
  .table-responsive > .table > tfoot > tr > th,
  .table-responsive > .table > thead > tr > td,
  .table-responsive > .table > tbody > tr > td,
  .table-responsive > .table > tfoot > tr > td {
    white-space: nowrap;
  }
  .table-responsive > .table-bordered {
    border: 0;
  }
  .table-responsive > .table-bordered > thead > tr > th:first-child,
  .table-responsive > .table-bordered > tbody > tr > th:first-child,
  .table-responsive > .table-bordered > tfoot > tr > th:first-child,
  .table-responsive > .table-bordered > thead > tr > td:first-child,
  .table-responsive > .table-bordered > tbody > tr > td:first-child,
  .table-responsive > .table-bordered > tfoot > tr > td:first-child {
    border-left: 0;
  }
  .table-responsive > .table-bordered > thead > tr > th:last-child,
  .table-responsive > .table-bordered > tbody > tr > th:last-child,
  .table-responsive > .table-bordered > tfoot > tr > th:last-child,
  .table-responsive > .table-bordered > thead > tr > td:last-child,
  .table-responsive > .table-bordered > tbody > tr > td:last-child,
  .table-responsive > .table-bordered > tfoot > tr > td:last-child {
    border-right: 0;
  }
  .table-responsive > .table-bordered > tbody > tr:last-child > th,
  .table-responsive > .table-bordered > tfoot > tr:last-child > th,
  .table-responsive > .table-bordered > tbody > tr:last-child > td,
  .table-responsive > .table-bordered > tfoot > tr:last-child > td {
    border-bottom: 0;
  }
}
fieldset {
  padding: 0;
  margin: 0;
  border: 0;
  min-width: 0;
}
legend {
  display: block;
  width: 100%;
  padding: 0;
  margin-bottom: 18px;
  font-size: 19.5px;
  line-height: inherit;
  color: #333333;
  border: 0;
  border-bottom: 1px solid #e5e5e5;
}
label {
  display: inline-block;
  max-width: 100%;
  margin-bottom: 5px;
  font-weight: bold;
}
input[type="search"] {
  -webkit-box-sizing: border-box;
  -moz-box-sizing: border-box;
  box-sizing: border-box;
}
input[type="radio"],
input[type="checkbox"] {
  margin: 4px 0 0;
  margin-top: 1px \9;
  line-height: normal;
}
input[type="file"] {
  display: block;
}
input[type="range"] {
  display: block;
  width: 100%;
}
select[multiple],
select[size] {
  height: auto;
}
input[type="file"]:focus,
input[type="radio"]:focus,
input[type="checkbox"]:focus {
  outline: 5px auto -webkit-focus-ring-color;
  outline-offset: -2px;
}
output {
  display: block;
  padding-top: 7px;
  font-size: 13px;
  line-height: 1.42857143;
  color: #555555;
}
.form-control {
  display: block;
  width: 100%;
  height: 32px;
  padding: 6px 12px;
  font-size: 13px;
  line-height: 1.42857143;
  color: #555555;
  background-color: #ffffff;
  background-image: none;
  border: 1px solid #cccccc;
  border-radius: 2px;
  -webkit-box-shadow: inset 0 1px 1px rgba(0, 0, 0, 0.075);
  box-shadow: inset 0 1px 1px rgba(0, 0, 0, 0.075);
  -webkit-transition: border-color ease-in-out .15s, box-shadow ease-in-out .15s;
  -o-transition: border-color ease-in-out .15s, box-shadow ease-in-out .15s;
  transition: border-color ease-in-out .15s, box-shadow ease-in-out .15s;
}
.form-control:focus {
  border-color: #66afe9;
  outline: 0;
  -webkit-box-shadow: inset 0 1px 1px rgba(0,0,0,.075), 0 0 8px rgba(102, 175, 233, 0.6);
  box-shadow: inset 0 1px 1px rgba(0,0,0,.075), 0 0 8px rgba(102, 175, 233, 0.6);
}
.form-control::-moz-placeholder {
  color: #999999;
  opacity: 1;
}
.form-control:-ms-input-placeholder {
  color: #999999;
}
.form-control::-webkit-input-placeholder {
  color: #999999;
}
.form-control::-ms-expand {
  border: 0;
  background-color: transparent;
}
.form-control[disabled],
.form-control[readonly],
fieldset[disabled] .form-control {
  background-color: #eeeeee;
  opacity: 1;
}
.form-control[disabled],
fieldset[disabled] .form-control {
  cursor: not-allowed;
}
textarea.form-control {
  height: auto;
}
input[type="search"] {
  -webkit-appearance: none;
}
@media screen and (-webkit-min-device-pixel-ratio: 0) {
  input[type="date"].form-control,
  input[type="time"].form-control,
  input[type="datetime-local"].form-control,
  input[type="month"].form-control {
    line-height: 32px;
  }
  input[type="date"].input-sm,
  input[type="time"].input-sm,
  input[type="datetime-local"].input-sm,
  input[type="month"].input-sm,
  .input-group-sm input[type="date"],
  .input-group-sm input[type="time"],
  .input-group-sm input[type="datetime-local"],
  .input-group-sm input[type="month"] {
    line-height: 30px;
  }
  input[type="date"].input-lg,
  input[type="time"].input-lg,
  input[type="datetime-local"].input-lg,
  input[type="month"].input-lg,
  .input-group-lg input[type="date"],
  .input-group-lg input[type="time"],
  .input-group-lg input[type="datetime-local"],
  .input-group-lg input[type="month"] {
    line-height: 45px;
  }
}
.form-group {
  margin-bottom: 15px;
}
.radio,
.checkbox {
  position: relative;
  display: block;
  margin-top: 10px;
  margin-bottom: 10px;
}
.radio label,
.checkbox label {
  min-height: 18px;
  padding-left: 20px;
  margin-bottom: 0;
  font-weight: normal;
  cursor: pointer;
}
.radio input[type="radio"],
.radio-inline input[type="radio"],
.checkbox input[type="checkbox"],
.checkbox-inline input[type="checkbox"] {
  position: absolute;
  margin-left: -20px;
  margin-top: 4px \9;
}
.radio + .radio,
.checkbox + .checkbox {
  margin-top: -5px;
}
.radio-inline,
.checkbox-inline {
  position: relative;
  display: inline-block;
  padding-left: 20px;
  margin-bottom: 0;
  vertical-align: middle;
  font-weight: normal;
  cursor: pointer;
}
.radio-inline + .radio-inline,
.checkbox-inline + .checkbox-inline {
  margin-top: 0;
  margin-left: 10px;
}
input[type="radio"][disabled],
input[type="checkbox"][disabled],
input[type="radio"].disabled,
input[type="checkbox"].disabled,
fieldset[disabled] input[type="radio"],
fieldset[disabled] input[type="checkbox"] {
  cursor: not-allowed;
}
.radio-inline.disabled,
.checkbox-inline.disabled,
fieldset[disabled] .radio-inline,
fieldset[disabled] .checkbox-inline {
  cursor: not-allowed;
}
.radio.disabled label,
.checkbox.disabled label,
fieldset[disabled] .radio label,
fieldset[disabled] .checkbox label {
  cursor: not-allowed;
}
.form-control-static {
  padding-top: 7px;
  padding-bottom: 7px;
  margin-bottom: 0;
  min-height: 31px;
}
.form-control-static.input-lg,
.form-control-static.input-sm {
  padding-left: 0;
  padding-right: 0;
}
.input-sm {
  height: 30px;
  padding: 5px 10px;
  font-size: 12px;
  line-height: 1.5;
  border-radius: 1px;
}
select.input-sm {
  height: 30px;
  line-height: 30px;
}
textarea.input-sm,
select[multiple].input-sm {
  height: auto;
}
.form-group-sm .form-control {
  height: 30px;
  padding: 5px 10px;
  font-size: 12px;
  line-height: 1.5;
  border-radius: 1px;
}
.form-group-sm select.form-control {
  height: 30px;
  line-height: 30px;
}
.form-group-sm textarea.form-control,
.form-group-sm select[multiple].form-control {
  height: auto;
}
.form-group-sm .form-control-static {
  height: 30px;
  min-height: 30px;
  padding: 6px 10px;
  font-size: 12px;
  line-height: 1.5;
}
.input-lg {
  height: 45px;
  padding: 10px 16px;
  font-size: 17px;
  line-height: 1.3333333;
  border-radius: 3px;
}
select.input-lg {
  height: 45px;
  line-height: 45px;
}
textarea.input-lg,
select[multiple].input-lg {
  height: auto;
}
.form-group-lg .form-control {
  height: 45px;
  padding: 10px 16px;
  font-size: 17px;
  line-height: 1.3333333;
  border-radius: 3px;
}
.form-group-lg select.form-control {
  height: 45px;
  line-height: 45px;
}
.form-group-lg textarea.form-control,
.form-group-lg select[multiple].form-control {
  height: auto;
}
.form-group-lg .form-control-static {
  height: 45px;
  min-height: 35px;
  padding: 11px 16px;
  font-size: 17px;
  line-height: 1.3333333;
}
.has-feedback {
  position: relative;
}
.has-feedback .form-control {
  padding-right: 40px;
}
.form-control-feedback {
  position: absolute;
  top: 0;
  right: 0;
  z-index: 2;
  display: block;
  width: 32px;
  height: 32px;
  line-height: 32px;
  text-align: center;
  pointer-events: none;
}
.input-lg + .form-control-feedback,
.input-group-lg + .form-control-feedback,
.form-group-lg .form-control + .form-control-feedback {
  width: 45px;
  height: 45px;
  line-height: 45px;
}
.input-sm + .form-control-feedback,
.input-group-sm + .form-control-feedback,
.form-group-sm .form-control + .form-control-feedback {
  width: 30px;
  height: 30px;
  line-height: 30px;
}
.has-success .help-block,
.has-success .control-label,
.has-success .radio,
.has-success .checkbox,
.has-success .radio-inline,
.has-success .checkbox-inline,
.has-success.radio label,
.has-success.checkbox label,
.has-success.radio-inline label,
.has-success.checkbox-inline label {
  color: #3c763d;
}
.has-success .form-control {
  border-color: #3c763d;
  -webkit-box-shadow: inset 0 1px 1px rgba(0, 0, 0, 0.075);
  box-shadow: inset 0 1px 1px rgba(0, 0, 0, 0.075);
}
.has-success .form-control:focus {
  border-color: #2b542c;
  -webkit-box-shadow: inset 0 1px 1px rgba(0, 0, 0, 0.075), 0 0 6px #67b168;
  box-shadow: inset 0 1px 1px rgba(0, 0, 0, 0.075), 0 0 6px #67b168;
}
.has-success .input-group-addon {
  color: #3c763d;
  border-color: #3c763d;
  background-color: #dff0d8;
}
.has-success .form-control-feedback {
  color: #3c763d;
}
.has-warning .help-block,
.has-warning .control-label,
.has-warning .radio,
.has-warning .checkbox,
.has-warning .radio-inline,
.has-warning .checkbox-inline,
.has-warning.radio label,
.has-warning.checkbox label,
.has-warning.radio-inline label,
.has-warning.checkbox-inline label {
  color: #8a6d3b;
}
.has-warning .form-control {
  border-color: #8a6d3b;
  -webkit-box-shadow: inset 0 1px 1px rgba(0, 0, 0, 0.075);
  box-shadow: inset 0 1px 1px rgba(0, 0, 0, 0.075);
}
.has-warning .form-control:focus {
  border-color: #66512c;
  -webkit-box-shadow: inset 0 1px 1px rgba(0, 0, 0, 0.075), 0 0 6px #c0a16b;
  box-shadow: inset 0 1px 1px rgba(0, 0, 0, 0.075), 0 0 6px #c0a16b;
}
.has-warning .input-group-addon {
  color: #8a6d3b;
  border-color: #8a6d3b;
  background-color: #fcf8e3;
}
.has-warning .form-control-feedback {
  color: #8a6d3b;
}
.has-error .help-block,
.has-error .control-label,
.has-error .radio,
.has-error .checkbox,
.has-error .radio-inline,
.has-error .checkbox-inline,
.has-error.radio label,
.has-error.checkbox label,
.has-error.radio-inline label,
.has-error.checkbox-inline label {
  color: #a94442;
}
.has-error .form-control {
  border-color: #a94442;
  -webkit-box-shadow: inset 0 1px 1px rgba(0, 0, 0, 0.075);
  box-shadow: inset 0 1px 1px rgba(0, 0, 0, 0.075);
}
.has-error .form-control:focus {
  border-color: #843534;
  -webkit-box-shadow: inset 0 1px 1px rgba(0, 0, 0, 0.075), 0 0 6px #ce8483;
  box-shadow: inset 0 1px 1px rgba(0, 0, 0, 0.075), 0 0 6px #ce8483;
}
.has-error .input-group-addon {
  color: #a94442;
  border-color: #a94442;
  background-color: #f2dede;
}
.has-error .form-control-feedback {
  color: #a94442;
}
.has-feedback label ~ .form-control-feedback {
  top: 23px;
}
.has-feedback label.sr-only ~ .form-control-feedback {
  top: 0;
}
.help-block {
  display: block;
  margin-top: 5px;
  margin-bottom: 10px;
  color: #404040;
}
@media (min-width: 768px) {
  .form-inline .form-group {
    display: inline-block;
    margin-bottom: 0;
    vertical-align: middle;
  }
  .form-inline .form-control {
    display: inline-block;
    width: auto;
    vertical-align: middle;
  }
  .form-inline .form-control-static {
    display: inline-block;
  }
  .form-inline .input-group {
    display: inline-table;
    vertical-align: middle;
  }
  .form-inline .input-group .input-group-addon,
  .form-inline .input-group .input-group-btn,
  .form-inline .input-group .form-control {
    width: auto;
  }
  .form-inline .input-group > .form-control {
    width: 100%;
  }
  .form-inline .control-label {
    margin-bottom: 0;
    vertical-align: middle;
  }
  .form-inline .radio,
  .form-inline .checkbox {
    display: inline-block;
    margin-top: 0;
    margin-bottom: 0;
    vertical-align: middle;
  }
  .form-inline .radio label,
  .form-inline .checkbox label {
    padding-left: 0;
  }
  .form-inline .radio input[type="radio"],
  .form-inline .checkbox input[type="checkbox"] {
    position: relative;
    margin-left: 0;
  }
  .form-inline .has-feedback .form-control-feedback {
    top: 0;
  }
}
.form-horizontal .radio,
.form-horizontal .checkbox,
.form-horizontal .radio-inline,
.form-horizontal .checkbox-inline {
  margin-top: 0;
  margin-bottom: 0;
  padding-top: 7px;
}
.form-horizontal .radio,
.form-horizontal .checkbox {
  min-height: 25px;
}
.form-horizontal .form-group {
  margin-left: 0px;
  margin-right: 0px;
}
@media (min-width: 768px) {
  .form-horizontal .control-label {
    text-align: right;
    margin-bottom: 0;
    padding-top: 7px;
  }
}
.form-horizontal .has-feedback .form-control-feedback {
  right: 0px;
}
@media (min-width: 768px) {
  .form-horizontal .form-group-lg .control-label {
    padding-top: 11px;
    font-size: 17px;
  }
}
@media (min-width: 768px) {
  .form-horizontal .form-group-sm .control-label {
    padding-top: 6px;
    font-size: 12px;
  }
}
.btn {
  display: inline-block;
  margin-bottom: 0;
  font-weight: normal;
  text-align: center;
  vertical-align: middle;
  touch-action: manipulation;
  cursor: pointer;
  background-image: none;
  border: 1px solid transparent;
  white-space: nowrap;
  padding: 6px 12px;
  font-size: 13px;
  line-height: 1.42857143;
  border-radius: 2px;
  -webkit-user-select: none;
  -moz-user-select: none;
  -ms-user-select: none;
  user-select: none;
}
.btn:focus,
.btn:active:focus,
.btn.active:focus,
.btn.focus,
.btn:active.focus,
.btn.active.focus {
  outline: 5px auto -webkit-focus-ring-color;
  outline-offset: -2px;
}
.btn:hover,
.btn:focus,
.btn.focus {
  color: #333333;
  text-decoration: none;
}
.btn:active,
.btn.active {
  outline: 0;
  background-image: none;
  -webkit-box-shadow: inset 0 3px 5px rgba(0, 0, 0, 0.125);
  box-shadow: inset 0 3px 5px rgba(0, 0, 0, 0.125);
}
.btn.disabled,
.btn[disabled],
fieldset[disabled] .btn {
  cursor: not-allowed;
  opacity: 0.65;
  filter: alpha(opacity=65);
  -webkit-box-shadow: none;
  box-shadow: none;
}
a.btn.disabled,
fieldset[disabled] a.btn {
  pointer-events: none;
}
.btn-default {
  color: #333333;
  background-color: #ffffff;
  border-color: #cccccc;
}
.btn-default:focus,
.btn-default.focus {
  color: #333333;
  background-color: #e6e6e6;
  border-color: #8c8c8c;
}
.btn-default:hover {
  color: #333333;
  background-color: #e6e6e6;
  border-color: #adadad;
}
.btn-default:active,
.btn-default.active,
.open > .dropdown-toggle.btn-default {
  color: #333333;
  background-color: #e6e6e6;
  border-color: #adadad;
}
.btn-default:active:hover,
.btn-default.active:hover,
.open > .dropdown-toggle.btn-default:hover,
.btn-default:active:focus,
.btn-default.active:focus,
.open > .dropdown-toggle.btn-default:focus,
.btn-default:active.focus,
.btn-default.active.focus,
.open > .dropdown-toggle.btn-default.focus {
  color: #333333;
  background-color: #d4d4d4;
  border-color: #8c8c8c;
}
.btn-default:active,
.btn-default.active,
.open > .dropdown-toggle.btn-default {
  background-image: none;
}
.btn-default.disabled:hover,
.btn-default[disabled]:hover,
fieldset[disabled] .btn-default:hover,
.btn-default.disabled:focus,
.btn-default[disabled]:focus,
fieldset[disabled] .btn-default:focus,
.btn-default.disabled.focus,
.btn-default[disabled].focus,
fieldset[disabled] .btn-default.focus {
  background-color: #ffffff;
  border-color: #cccccc;
}
.btn-default .badge {
  color: #ffffff;
  background-color: #333333;
}
.btn-primary {
  color: #ffffff;
  background-color: #337ab7;
  border-color: #2e6da4;
}
.btn-primary:focus,
.btn-primary.focus {
  color: #ffffff;
  background-color: #286090;
  border-color: #122b40;
}
.btn-primary:hover {
  color: #ffffff;
  background-color: #286090;
  border-color: #204d74;
}
.btn-primary:active,
.btn-primary.active,
.open > .dropdown-toggle.btn-primary {
  color: #ffffff;
  background-color: #286090;
  border-color: #204d74;
}
.btn-primary:active:hover,
.btn-primary.active:hover,
.open > .dropdown-toggle.btn-primary:hover,
.btn-primary:active:focus,
.btn-primary.active:focus,
.open > .dropdown-toggle.btn-primary:focus,
.btn-primary:active.focus,
.btn-primary.active.focus,
.open > .dropdown-toggle.btn-primary.focus {
  color: #ffffff;
  background-color: #204d74;
  border-color: #122b40;
}
.btn-primary:active,
.btn-primary.active,
.open > .dropdown-toggle.btn-primary {
  background-image: none;
}
.btn-primary.disabled:hover,
.btn-primary[disabled]:hover,
fieldset[disabled] .btn-primary:hover,
.btn-primary.disabled:focus,
.btn-primary[disabled]:focus,
fieldset[disabled] .btn-primary:focus,
.btn-primary.disabled.focus,
.btn-primary[disabled].focus,
fieldset[disabled] .btn-primary.focus {
  background-color: #337ab7;
  border-color: #2e6da4;
}
.btn-primary .badge {
  color: #337ab7;
  background-color: #ffffff;
}
.btn-success {
  color: #ffffff;
  background-color: #5cb85c;
  border-color: #4cae4c;
}
.btn-success:focus,
.btn-success.focus {
  color: #ffffff;
  background-color: #449d44;
  border-color: #255625;
}
.btn-success:hover {
  color: #ffffff;
  background-color: #449d44;
  border-color: #398439;
}
.btn-success:active,
.btn-success.active,
.open > .dropdown-toggle.btn-success {
  color: #ffffff;
  background-color: #449d44;
  border-color: #398439;
}
.btn-success:active:hover,
.btn-success.active:hover,
.open > .dropdown-toggle.btn-success:hover,
.btn-success:active:focus,
.btn-success.active:focus,
.open > .dropdown-toggle.btn-success:focus,
.btn-success:active.focus,
.btn-success.active.focus,
.open > .dropdown-toggle.btn-success.focus {
  color: #ffffff;
  background-color: #398439;
  border-color: #255625;
}
.btn-success:active,
.btn-success.active,
.open > .dropdown-toggle.btn-success {
  background-image: none;
}
.btn-success.disabled:hover,
.btn-success[disabled]:hover,
fieldset[disabled] .btn-success:hover,
.btn-success.disabled:focus,
.btn-success[disabled]:focus,
fieldset[disabled] .btn-success:focus,
.btn-success.disabled.focus,
.btn-success[disabled].focus,
fieldset[disabled] .btn-success.focus {
  background-color: #5cb85c;
  border-color: #4cae4c;
}
.btn-success .badge {
  color: #5cb85c;
  background-color: #ffffff;
}
.btn-info {
  color: #ffffff;
  background-color: #5bc0de;
  border-color: #46b8da;
}
.btn-info:focus,
.btn-info.focus {
  color: #ffffff;
  background-color: #31b0d5;
  border-color: #1b6d85;
}
.btn-info:hover {
  color: #ffffff;
  background-color: #31b0d5;
  border-color: #269abc;
}
.btn-info:active,
.btn-info.active,
.open > .dropdown-toggle.btn-info {
  color: #ffffff;
  background-color: #31b0d5;
  border-color: #269abc;
}
.btn-info:active:hover,
.btn-info.active:hover,
.open > .dropdown-toggle.btn-info:hover,
.btn-info:active:focus,
.btn-info.active:focus,
.open > .dropdown-toggle.btn-info:focus,
.btn-info:active.focus,
.btn-info.active.focus,
.open > .dropdown-toggle.btn-info.focus {
  color: #ffffff;
  background-color: #269abc;
  border-color: #1b6d85;
}
.btn-info:active,
.btn-info.active,
.open > .dropdown-toggle.btn-info {
  background-image: none;
}
.btn-info.disabled:hover,
.btn-info[disabled]:hover,
fieldset[disabled] .btn-info:hover,
.btn-info.disabled:focus,
.btn-info[disabled]:focus,
fieldset[disabled] .btn-info:focus,
.btn-info.disabled.focus,
.btn-info[disabled].focus,
fieldset[disabled] .btn-info.focus {
  background-color: #5bc0de;
  border-color: #46b8da;
}
.btn-info .badge {
  color: #5bc0de;
  background-color: #ffffff;
}
.btn-warning {
  color: #ffffff;
  background-color: #f0ad4e;
  border-color: #eea236;
}
.btn-warning:focus,
.btn-warning.focus {
  color: #ffffff;
  background-color: #ec971f;
  border-color: #985f0d;
}
.btn-warning:hover {
  color: #ffffff;
  background-color: #ec971f;
  border-color: #d58512;
}
.btn-warning:active,
.btn-warning.active,
.open > .dropdown-toggle.btn-warning {
  color: #ffffff;
  background-color: #ec971f;
  border-color: #d58512;
}
.btn-warning:active:hover,
.btn-warning.active:hover,
.open > .dropdown-toggle.btn-warning:hover,
.btn-warning:active:focus,
.btn-warning.active:focus,
.open > .dropdown-toggle.btn-warning:focus,
.btn-warning:active.focus,
.btn-warning.active.focus,
.open > .dropdown-toggle.btn-warning.focus {
  color: #ffffff;
  background-color: #d58512;
  border-color: #985f0d;
}
.btn-warning:active,
.btn-warning.active,
.open > .dropdown-toggle.btn-warning {
  background-image: none;
}
.btn-warning.disabled:hover,
.btn-warning[disabled]:hover,
fieldset[disabled] .btn-warning:hover,
.btn-warning.disabled:focus,
.btn-warning[disabled]:focus,
fieldset[disabled] .btn-warning:focus,
.btn-warning.disabled.focus,
.btn-warning[disabled].focus,
fieldset[disabled] .btn-warning.focus {
  background-color: #f0ad4e;
  border-color: #eea236;
}
.btn-warning .badge {
  color: #f0ad4e;
  background-color: #ffffff;
}
.btn-danger {
  color: #ffffff;
  background-color: #d9534f;
  border-color: #d43f3a;
}
.btn-danger:focus,
.btn-danger.focus {
  color: #ffffff;
  background-color: #c9302c;
  border-color: #761c19;
}
.btn-danger:hover {
  color: #ffffff;
  background-color: #c9302c;
  border-color: #ac2925;
}
.btn-danger:active,
.btn-danger.active,
.open > .dropdown-toggle.btn-danger {
  color: #ffffff;
  background-color: #c9302c;
  border-color: #ac2925;
}
.btn-danger:active:hover,
.btn-danger.active:hover,
.open > .dropdown-toggle.btn-danger:hover,
.btn-danger:active:focus,
.btn-danger.active:focus,
.open > .dropdown-toggle.btn-danger:focus,
.btn-danger:active.focus,
.btn-danger.active.focus,
.open > .dropdown-toggle.btn-danger.focus {
  color: #ffffff;
  background-color: #ac2925;
  border-color: #761c19;
}
.btn-danger:active,
.btn-danger.active,
.open > .dropdown-toggle.btn-danger {
  background-image: none;
}
.btn-danger.disabled:hover,
.btn-danger[disabled]:hover,
fieldset[disabled] .btn-danger:hover,
.btn-danger.disabled:focus,
.btn-danger[disabled]:focus,
fieldset[disabled] .btn-danger:focus,
.btn-danger.disabled.focus,
.btn-danger[disabled].focus,
fieldset[disabled] .btn-danger.focus {
  background-color: #d9534f;
  border-color: #d43f3a;
}
.btn-danger .badge {
  color: #d9534f;
  background-color: #ffffff;
}
.btn-link {
  color: #337ab7;
  font-weight: normal;
  border-radius: 0;
}
.btn-link,
.btn-link:active,
.btn-link.active,
.btn-link[disabled],
fieldset[disabled] .btn-link {
  background-color: transparent;
  -webkit-box-shadow: none;
  box-shadow: none;
}
.btn-link,
.btn-link:hover,
.btn-link:focus,
.btn-link:active {
  border-color: transparent;
}
.btn-link:hover,
.btn-link:focus {
  color: #23527c;
  text-decoration: underline;
  background-color: transparent;
}
.btn-link[disabled]:hover,
fieldset[disabled] .btn-link:hover,
.btn-link[disabled]:focus,
fieldset[disabled] .btn-link:focus {
  color: #777777;
  text-decoration: none;
}
.btn-lg,
.btn-group-lg > .btn {
  padding: 10px 16px;
  font-size: 17px;
  line-height: 1.3333333;
  border-radius: 3px;
}
.btn-sm,
.btn-group-sm > .btn {
  padding: 5px 10px;
  font-size: 12px;
  line-height: 1.5;
  border-radius: 1px;
}
.btn-xs,
.btn-group-xs > .btn {
  padding: 1px 5px;
  font-size: 12px;
  line-height: 1.5;
  border-radius: 1px;
}
.btn-block {
  display: block;
  width: 100%;
}
.btn-block + .btn-block {
  margin-top: 5px;
}
input[type="submit"].btn-block,
input[type="reset"].btn-block,
input[type="button"].btn-block {
  width: 100%;
}
.fade {
  opacity: 0;
  -webkit-transition: opacity 0.15s linear;
  -o-transition: opacity 0.15s linear;
  transition: opacity 0.15s linear;
}
.fade.in {
  opacity: 1;
}
.collapse {
  display: none;
}
.collapse.in {
  display: block;
}
tr.collapse.in {
  display: table-row;
}
tbody.collapse.in {
  display: table-row-group;
}
.collapsing {
  position: relative;
  height: 0;
  overflow: hidden;
  -webkit-transition-property: height, visibility;
  transition-property: height, visibility;
  -webkit-transition-duration: 0.35s;
  transition-duration: 0.35s;
  -webkit-transition-timing-function: ease;
  transition-timing-function: ease;
}
.caret {
  display: inline-block;
  width: 0;
  height: 0;
  margin-left: 2px;
  vertical-align: middle;
  border-top: 4px dashed;
  border-top: 4px solid \9;
  border-right: 4px solid transparent;
  border-left: 4px solid transparent;
}
.dropup,
.dropdown {
  position: relative;
}
.dropdown-toggle:focus {
  outline: 0;
}
.dropdown-menu {
  position: absolute;
  top: 100%;
  left: 0;
  z-index: 1000;
  display: none;
  float: left;
  min-width: 160px;
  padding: 5px 0;
  margin: 2px 0 0;
  list-style: none;
  font-size: 13px;
  text-align: left;
  background-color: #ffffff;
  border: 1px solid #cccccc;
  border: 1px solid rgba(0, 0, 0, 0.15);
  border-radius: 2px;
  -webkit-box-shadow: 0 6px 12px rgba(0, 0, 0, 0.175);
  box-shadow: 0 6px 12px rgba(0, 0, 0, 0.175);
  background-clip: padding-box;
}
.dropdown-menu.pull-right {
  right: 0;
  left: auto;
}
.dropdown-menu .divider {
  height: 1px;
  margin: 8px 0;
  overflow: hidden;
  background-color: #e5e5e5;
}
.dropdown-menu > li > a {
  display: block;
  padding: 3px 20px;
  clear: both;
  font-weight: normal;
  line-height: 1.42857143;
  color: #333333;
  white-space: nowrap;
}
.dropdown-menu > li > a:hover,
.dropdown-menu > li > a:focus {
  text-decoration: none;
  color: #262626;
  background-color: #f5f5f5;
}
.dropdown-menu > .active > a,
.dropdown-menu > .active > a:hover,
.dropdown-menu > .active > a:focus {
  color: #ffffff;
  text-decoration: none;
  outline: 0;
  background-color: #337ab7;
}
.dropdown-menu > .disabled > a,
.dropdown-menu > .disabled > a:hover,
.dropdown-menu > .disabled > a:focus {
  color: #777777;
}
.dropdown-menu > .disabled > a:hover,
.dropdown-menu > .disabled > a:focus {
  text-decoration: none;
  background-color: transparent;
  background-image: none;
  filter: progid:DXImageTransform.Microsoft.gradient(enabled = false);
  cursor: not-allowed;
}
.open > .dropdown-menu {
  display: block;
}
.open > a {
  outline: 0;
}
.dropdown-menu-right {
  left: auto;
  right: 0;
}
.dropdown-menu-left {
  left: 0;
  right: auto;
}
.dropdown-header {
  display: block;
  padding: 3px 20px;
  font-size: 12px;
  line-height: 1.42857143;
  color: #777777;
  white-space: nowrap;
}
.dropdown-backdrop {
  position: fixed;
  left: 0;
  right: 0;
  bottom: 0;
  top: 0;
  z-index: 990;
}
.pull-right > .dropdown-menu {
  right: 0;
  left: auto;
}
.dropup .caret,
.navbar-fixed-bottom .dropdown .caret {
  border-top: 0;
  border-bottom: 4px dashed;
  border-bottom: 4px solid \9;
  content: "";
}
.dropup .dropdown-menu,
.navbar-fixed-bottom .dropdown .dropdown-menu {
  top: auto;
  bottom: 100%;
  margin-bottom: 2px;
}
@media (min-width: 541px) {
  .navbar-right .dropdown-menu {
    left: auto;
    right: 0;
  }
  .navbar-right .dropdown-menu-left {
    left: 0;
    right: auto;
  }
}
.btn-group,
.btn-group-vertical {
  position: relative;
  display: inline-block;
  vertical-align: middle;
}
.btn-group > .btn,
.btn-group-vertical > .btn {
  position: relative;
  float: left;
}
.btn-group > .btn:hover,
.btn-group-vertical > .btn:hover,
.btn-group > .btn:focus,
.btn-group-vertical > .btn:focus,
.btn-group > .btn:active,
.btn-group-vertical > .btn:active,
.btn-group > .btn.active,
.btn-group-vertical > .btn.active {
  z-index: 2;
}
.btn-group .btn + .btn,
.btn-group .btn + .btn-group,
.btn-group .btn-group + .btn,
.btn-group .btn-group + .btn-group {
  margin-left: -1px;
}
.btn-toolbar {
  margin-left: -5px;
}
.btn-toolbar .btn,
.btn-toolbar .btn-group,
.btn-toolbar .input-group {
  float: left;
}
.btn-toolbar > .btn,
.btn-toolbar > .btn-group,
.btn-toolbar > .input-group {
  margin-left: 5px;
}
.btn-group > .btn:not(:first-child):not(:last-child):not(.dropdown-toggle) {
  border-radius: 0;
}
.btn-group > .btn:first-child {
  margin-left: 0;
}
.btn-group > .btn:first-child:not(:last-child):not(.dropdown-toggle) {
  border-bottom-right-radius: 0;
  border-top-right-radius: 0;
}
.btn-group > .btn:last-child:not(:first-child),
.btn-group > .dropdown-toggle:not(:first-child) {
  border-bottom-left-radius: 0;
  border-top-left-radius: 0;
}
.btn-group > .btn-group {
  float: left;
}
.btn-group > .btn-group:not(:first-child):not(:last-child) > .btn {
  border-radius: 0;
}
.btn-group > .btn-group:first-child:not(:last-child) > .btn:last-child,
.btn-group > .btn-group:first-child:not(:last-child) > .dropdown-toggle {
  border-bottom-right-radius: 0;
  border-top-right-radius: 0;
}
.btn-group > .btn-group:last-child:not(:first-child) > .btn:first-child {
  border-bottom-left-radius: 0;
  border-top-left-radius: 0;
}
.btn-group .dropdown-toggle:active,
.btn-group.open .dropdown-toggle {
  outline: 0;
}
.btn-group > .btn + .dropdown-toggle {
  padding-left: 8px;
  padding-right: 8px;
}
.btn-group > .btn-lg + .dropdown-toggle {
  padding-left: 12px;
  padding-right: 12px;
}
.btn-group.open .dropdown-toggle {
  -webkit-box-shadow: inset 0 3px 5px rgba(0, 0, 0, 0.125);
  box-shadow: inset 0 3px 5px rgba(0, 0, 0, 0.125);
}
.btn-group.open .dropdown-toggle.btn-link {
  -webkit-box-shadow: none;
  box-shadow: none;
}
.btn .caret {
  margin-left: 0;
}
.btn-lg .caret {
  border-width: 5px 5px 0;
  border-bottom-width: 0;
}
.dropup .btn-lg .caret {
  border-width: 0 5px 5px;
}
.btn-group-vertical > .btn,
.btn-group-vertical > .btn-group,
.btn-group-vertical > .btn-group > .btn {
  display: block;
  float: none;
  width: 100%;
  max-width: 100%;
}
.btn-group-vertical > .btn-group > .btn {
  float: none;
}
.btn-group-vertical > .btn + .btn,
.btn-group-vertical > .btn + .btn-group,
.btn-group-vertical > .btn-group + .btn,
.btn-group-vertical > .btn-group + .btn-group {
  margin-top: -1px;
  margin-left: 0;
}
.btn-group-vertical > .btn:not(:first-child):not(:last-child) {
  border-radius: 0;
}
.btn-group-vertical > .btn:first-child:not(:last-child) {
  border-top-right-radius: 2px;
  border-top-left-radius: 2px;
  border-bottom-right-radius: 0;
  border-bottom-left-radius: 0;
}
.btn-group-vertical > .btn:last-child:not(:first-child) {
  border-top-right-radius: 0;
  border-top-left-radius: 0;
  border-bottom-right-radius: 2px;
  border-bottom-left-radius: 2px;
}
.btn-group-vertical > .btn-group:not(:first-child):not(:last-child) > .btn {
  border-radius: 0;
}
.btn-group-vertical > .btn-group:first-child:not(:last-child) > .btn:last-child,
.btn-group-vertical > .btn-group:first-child:not(:last-child) > .dropdown-toggle {
  border-bottom-right-radius: 0;
  border-bottom-left-radius: 0;
}
.btn-group-vertical > .btn-group:last-child:not(:first-child) > .btn:first-child {
  border-top-right-radius: 0;
  border-top-left-radius: 0;
}
.btn-group-justified {
  display: table;
  width: 100%;
  table-layout: fixed;
  border-collapse: separate;
}
.btn-group-justified > .btn,
.btn-group-justified > .btn-group {
  float: none;
  display: table-cell;
  width: 1%;
}
.btn-group-justified > .btn-group .btn {
  width: 100%;
}
.btn-group-justified > .btn-group .dropdown-menu {
  left: auto;
}
[data-toggle="buttons"] > .btn input[type="radio"],
[data-toggle="buttons"] > .btn-group > .btn input[type="radio"],
[data-toggle="buttons"] > .btn input[type="checkbox"],
[data-toggle="buttons"] > .btn-group > .btn input[type="checkbox"] {
  position: absolute;
  clip: rect(0, 0, 0, 0);
  pointer-events: none;
}
.input-group {
  position: relative;
  display: table;
  border-collapse: separate;
}
.input-group[class*="col-"] {
  float: none;
  padding-left: 0;
  padding-right: 0;
}
.input-group .form-control {
  position: relative;
  z-index: 2;
  float: left;
  width: 100%;
  margin-bottom: 0;
}
.input-group .form-control:focus {
  z-index: 3;
}
.input-group-lg > .form-control,
.input-group-lg > .input-group-addon,
.input-group-lg > .input-group-btn > .btn {
  height: 45px;
  padding: 10px 16px;
  font-size: 17px;
  line-height: 1.3333333;
  border-radius: 3px;
}
select.input-group-lg > .form-control,
select.input-group-lg > .input-group-addon,
select.input-group-lg > .input-group-btn > .btn {
  height: 45px;
  line-height: 45px;
}
textarea.input-group-lg > .form-control,
textarea.input-group-lg > .input-group-addon,
textarea.input-group-lg > .input-group-btn > .btn,
select[multiple].input-group-lg > .form-control,
select[multiple].input-group-lg > .input-group-addon,
select[multiple].input-group-lg > .input-group-btn > .btn {
  height: auto;
}
.input-group-sm > .form-control,
.input-group-sm > .input-group-addon,
.input-group-sm > .input-group-btn > .btn {
  height: 30px;
  padding: 5px 10px;
  font-size: 12px;
  line-height: 1.5;
  border-radius: 1px;
}
select.input-group-sm > .form-control,
select.input-group-sm > .input-group-addon,
select.input-group-sm > .input-group-btn > .btn {
  height: 30px;
  line-height: 30px;
}
textarea.input-group-sm > .form-control,
textarea.input-group-sm > .input-group-addon,
textarea.input-group-sm > .input-group-btn > .btn,
select[multiple].input-group-sm > .form-control,
select[multiple].input-group-sm > .input-group-addon,
select[multiple].input-group-sm > .input-group-btn > .btn {
  height: auto;
}
.input-group-addon,
.input-group-btn,
.input-group .form-control {
  display: table-cell;
}
.input-group-addon:not(:first-child):not(:last-child),
.input-group-btn:not(:first-child):not(:last-child),
.input-group .form-control:not(:first-child):not(:last-child) {
  border-radius: 0;
}
.input-group-addon,
.input-group-btn {
  width: 1%;
  white-space: nowrap;
  vertical-align: middle;
}
.input-group-addon {
  padding: 6px 12px;
  font-size: 13px;
  font-weight: normal;
  line-height: 1;
  color: #555555;
  text-align: center;
  background-color: #eeeeee;
  border: 1px solid #cccccc;
  border-radius: 2px;
}
.input-group-addon.input-sm {
  padding: 5px 10px;
  font-size: 12px;
  border-radius: 1px;
}
.input-group-addon.input-lg {
  padding: 10px 16px;
  font-size: 17px;
  border-radius: 3px;
}
.input-group-addon input[type="radio"],
.input-group-addon input[type="checkbox"] {
  margin-top: 0;
}
.input-group .form-control:first-child,
.input-group-addon:first-child,
.input-group-btn:first-child > .btn,
.input-group-btn:first-child > .btn-group > .btn,
.input-group-btn:first-child > .dropdown-toggle,
.input-group-btn:last-child > .btn:not(:last-child):not(.dropdown-toggle),
.input-group-btn:last-child > .btn-group:not(:last-child) > .btn {
  border-bottom-right-radius: 0;
  border-top-right-radius: 0;
}
.input-group-addon:first-child {
  border-right: 0;
}
.input-group .form-control:last-child,
.input-group-addon:last-child,
.input-group-btn:last-child > .btn,
.input-group-btn:last-child > .btn-group > .btn,
.input-group-btn:last-child > .dropdown-toggle,
.input-group-btn:first-child > .btn:not(:first-child),
.input-group-btn:first-child > .btn-group:not(:first-child) > .btn {
  border-bottom-left-radius: 0;
  border-top-left-radius: 0;
}
.input-group-addon:last-child {
  border-left: 0;
}
.input-group-btn {
  position: relative;
  font-size: 0;
  white-space: nowrap;
}
.input-group-btn > .btn {
  position: relative;
}
.input-group-btn > .btn + .btn {
  margin-left: -1px;
}
.input-group-btn > .btn:hover,
.input-group-btn > .btn:focus,
.input-group-btn > .btn:active {
  z-index: 2;
}
.input-group-btn:first-child > .btn,
.input-group-btn:first-child > .btn-group {
  margin-right: -1px;
}
.input-group-btn:last-child > .btn,
.input-group-btn:last-child > .btn-group {
  z-index: 2;
  margin-left: -1px;
}
.nav {
  margin-bottom: 0;
  padding-left: 0;
  list-style: none;
}
.nav > li {
  position: relative;
  display: block;
}
.nav > li > a {
  position: relative;
  display: block;
  padding: 10px 15px;
}
.nav > li > a:hover,
.nav > li > a:focus {
  text-decoration: none;
  background-color: #eeeeee;
}
.nav > li.disabled > a {
  color: #777777;
}
.nav > li.disabled > a:hover,
.nav > li.disabled > a:focus {
  color: #777777;
  text-decoration: none;
  background-color: transparent;
  cursor: not-allowed;
}
.nav .open > a,
.nav .open > a:hover,
.nav .open > a:focus {
  background-color: #eeeeee;
  border-color: #337ab7;
}
.nav .nav-divider {
  height: 1px;
  margin: 8px 0;
  overflow: hidden;
  background-color: #e5e5e5;
}
.nav > li > a > img {
  max-width: none;
}
.nav-tabs {
  border-bottom: 1px solid #dddddd;
}
.nav-tabs > li {
  float: left;
  margin-bottom: -1px;
}
.nav-tabs > li > a {
  margin-right: 2px;
  line-height: 1.42857143;
  border: 1px solid transparent;
  border-radius: 2px 2px 0 0;
}
.nav-tabs > li > a:hover {
  border-color: #eeeeee #eeeeee #dddddd;
}
.nav-tabs > li.active > a,
.nav-tabs > li.active > a:hover,
.nav-tabs > li.active > a:focus {
  color: #555555;
  background-color: #ffffff;
  border: 1px solid #dddddd;
  border-bottom-color: transparent;
  cursor: default;
}
.nav-tabs.nav-justified {
  width: 100%;
  border-bottom: 0;
}
.nav-tabs.nav-justified > li {
  float: none;
}
.nav-tabs.nav-justified > li > a {
  text-align: center;
  margin-bottom: 5px;
}
.nav-tabs.nav-justified > .dropdown .dropdown-menu {
  top: auto;
  left: auto;
}
@media (min-width: 768px) {
  .nav-tabs.nav-justified > li {
    display: table-cell;
    width: 1%;
  }
  .nav-tabs.nav-justified > li > a {
    margin-bottom: 0;
  }
}
.nav-tabs.nav-justified > li > a {
  margin-right: 0;
  border-radius: 2px;
}
.nav-tabs.nav-justified > .active > a,
.nav-tabs.nav-justified > .active > a:hover,
.nav-tabs.nav-justified > .active > a:focus {
  border: 1px solid #dddddd;
}
@media (min-width: 768px) {
  .nav-tabs.nav-justified > li > a {
    border-bottom: 1px solid #dddddd;
    border-radius: 2px 2px 0 0;
  }
  .nav-tabs.nav-justified > .active > a,
  .nav-tabs.nav-justified > .active > a:hover,
  .nav-tabs.nav-justified > .active > a:focus {
    border-bottom-color: #ffffff;
  }
}
.nav-pills > li {
  float: left;
}
.nav-pills > li > a {
  border-radius: 2px;
}
.nav-pills > li + li {
  margin-left: 2px;
}
.nav-pills > li.active > a,
.nav-pills > li.active > a:hover,
.nav-pills > li.active > a:focus {
  color: #ffffff;
  background-color: #337ab7;
}
.nav-stacked > li {
  float: none;
}
.nav-stacked > li + li {
  margin-top: 2px;
  margin-left: 0;
}
.nav-justified {
  width: 100%;
}
.nav-justified > li {
  float: none;
}
.nav-justified > li > a {
  text-align: center;
  margin-bottom: 5px;
}
.nav-justified > .dropdown .dropdown-menu {
  top: auto;
  left: auto;
}
@media (min-width: 768px) {
  .nav-justified > li {
    display: table-cell;
    width: 1%;
  }
  .nav-justified > li > a {
    margin-bottom: 0;
  }
}
.nav-tabs-justified {
  border-bottom: 0;
}
.nav-tabs-justified > li > a {
  margin-right: 0;
  border-radius: 2px;
}
.nav-tabs-justified > .active > a,
.nav-tabs-justified > .active > a:hover,
.nav-tabs-justified > .active > a:focus {
  border: 1px solid #dddddd;
}
@media (min-width: 768px) {
  .nav-tabs-justified > li > a {
    border-bottom: 1px solid #dddddd;
    border-radius: 2px 2px 0 0;
  }
  .nav-tabs-justified > .active > a,
  .nav-tabs-justified > .active > a:hover,
  .nav-tabs-justified > .active > a:focus {
    border-bottom-color: #ffffff;
  }
}
.tab-content > .tab-pane {
  display: none;
}
.tab-content > .active {
  display: block;
}
.nav-tabs .dropdown-menu {
  margin-top: -1px;
  border-top-right-radius: 0;
  border-top-left-radius: 0;
}
.navbar {
  position: relative;
  min-height: 30px;
  margin-bottom: 18px;
  border: 1px solid transparent;
}
@media (min-width: 541px) {
  .navbar {
    border-radius: 2px;
  }
}
@media (min-width: 541px) {
  .navbar-header {
    float: left;
  }
}
.navbar-collapse {
  overflow-x: visible;
  padding-right: 0px;
  padding-left: 0px;
  border-top: 1px solid transparent;
  box-shadow: inset 0 1px 0 rgba(255, 255, 255, 0.1);
  -webkit-overflow-scrolling: touch;
}
.navbar-collapse.in {
  overflow-y: auto;
}
@media (min-width: 541px) {
  .navbar-collapse {
    width: auto;
    border-top: 0;
    box-shadow: none;
  }
  .navbar-collapse.collapse {
    display: block !important;
    height: auto !important;
    padding-bottom: 0;
    overflow: visible !important;
  }
  .navbar-collapse.in {
    overflow-y: visible;
  }
  .navbar-fixed-top .navbar-collapse,
  .navbar-static-top .navbar-collapse,
  .navbar-fixed-bottom .navbar-collapse {
    padding-left: 0;
    padding-right: 0;
  }
}
.navbar-fixed-top .navbar-collapse,
.navbar-fixed-bottom .navbar-collapse {
  max-height: 340px;
}
@media (max-device-width: 540px) and (orientation: landscape) {
  .navbar-fixed-top .navbar-collapse,
  .navbar-fixed-bottom .navbar-collapse {
    max-height: 200px;
  }
}
.container > .navbar-header,
.container-fluid > .navbar-header,
.container > .navbar-collapse,
.container-fluid > .navbar-collapse {
  margin-right: 0px;
  margin-left: 0px;
}
@media (min-width: 541px) {
  .container > .navbar-header,
  .container-fluid > .navbar-header,
  .container > .navbar-collapse,
  .container-fluid > .navbar-collapse {
    margin-right: 0;
    margin-left: 0;
  }
}
.navbar-static-top {
  z-index: 1000;
  border-width: 0 0 1px;
}
@media (min-width: 541px) {
  .navbar-static-top {
    border-radius: 0;
  }
}
.navbar-fixed-top,
.navbar-fixed-bottom {
  position: fixed;
  right: 0;
  left: 0;
  z-index: 1030;
}
@media (min-width: 541px) {
  .navbar-fixed-top,
  .navbar-fixed-bottom {
    border-radius: 0;
  }
}
.navbar-fixed-top {
  top: 0;
  border-width: 0 0 1px;
}
.navbar-fixed-bottom {
  bottom: 0;
  margin-bottom: 0;
  border-width: 1px 0 0;
}
.navbar-brand {
  float: left;
  padding: 6px 0px;
  font-size: 17px;
  line-height: 18px;
  height: 30px;
}
.navbar-brand:hover,
.navbar-brand:focus {
  text-decoration: none;
}
.navbar-brand > img {
  display: block;
}
@media (min-width: 541px) {
  .navbar > .container .navbar-brand,
  .navbar > .container-fluid .navbar-brand {
    margin-left: 0px;
  }
}
.navbar-toggle {
  position: relative;
  float: right;
  margin-right: 0px;
  padding: 9px 10px;
  margin-top: -2px;
  margin-bottom: -2px;
  background-color: transparent;
  background-image: none;
  border: 1px solid transparent;
  border-radius: 2px;
}
.navbar-toggle:focus {
  outline: 0;
}
.navbar-toggle .icon-bar {
  display: block;
  width: 22px;
  height: 2px;
  border-radius: 1px;
}
.navbar-toggle .icon-bar + .icon-bar {
  margin-top: 4px;
}
@media (min-width: 541px) {
  .navbar-toggle {
    display: none;
  }
}
.navbar-nav {
  margin: 3px 0px;
}
.navbar-nav > li > a {
  padding-top: 10px;
  padding-bottom: 10px;
  line-height: 18px;
}
@media (max-width: 540px) {
  .navbar-nav .open .dropdown-menu {
    position: static;
    float: none;
    width: auto;
    margin-top: 0;
    background-color: transparent;
    border: 0;
    box-shadow: none;
  }
  .navbar-nav .open .dropdown-menu > li > a,
  .navbar-nav .open .dropdown-menu .dropdown-header {
    padding: 5px 15px 5px 25px;
  }
  .navbar-nav .open .dropdown-menu > li > a {
    line-height: 18px;
  }
  .navbar-nav .open .dropdown-menu > li > a:hover,
  .navbar-nav .open .dropdown-menu > li > a:focus {
    background-image: none;
  }
}
@media (min-width: 541px) {
  .navbar-nav {
    float: left;
    margin: 0;
  }
  .navbar-nav > li {
    float: left;
  }
  .navbar-nav > li > a {
    padding-top: 6px;
    padding-bottom: 6px;
  }
}
.navbar-form {
  margin-left: 0px;
  margin-right: 0px;
  padding: 10px 0px;
  border-top: 1px solid transparent;
  border-bottom: 1px solid transparent;
  -webkit-box-shadow: inset 0 1px 0 rgba(255, 255, 255, 0.1), 0 1px 0 rgba(255, 255, 255, 0.1);
  box-shadow: inset 0 1px 0 rgba(255, 255, 255, 0.1), 0 1px 0 rgba(255, 255, 255, 0.1);
  margin-top: -1px;
  margin-bottom: -1px;
}
@media (min-width: 768px) {
  .navbar-form .form-group {
    display: inline-block;
    margin-bottom: 0;
    vertical-align: middle;
  }
  .navbar-form .form-control {
    display: inline-block;
    width: auto;
    vertical-align: middle;
  }
  .navbar-form .form-control-static {
    display: inline-block;
  }
  .navbar-form .input-group {
    display: inline-table;
    vertical-align: middle;
  }
  .navbar-form .input-group .input-group-addon,
  .navbar-form .input-group .input-group-btn,
  .navbar-form .input-group .form-control {
    width: auto;
  }
  .navbar-form .input-group > .form-control {
    width: 100%;
  }
  .navbar-form .control-label {
    margin-bottom: 0;
    vertical-align: middle;
  }
  .navbar-form .radio,
  .navbar-form .checkbox {
    display: inline-block;
    margin-top: 0;
    margin-bottom: 0;
    vertical-align: middle;
  }
  .navbar-form .radio label,
  .navbar-form .checkbox label {
    padding-left: 0;
  }
  .navbar-form .radio input[type="radio"],
  .navbar-form .checkbox input[type="checkbox"] {
    position: relative;
    margin-left: 0;
  }
  .navbar-form .has-feedback .form-control-feedback {
    top: 0;
  }
}
@media (max-width: 540px) {
  .navbar-form .form-group {
    margin-bottom: 5px;
  }
  .navbar-form .form-group:last-child {
    margin-bottom: 0;
  }
}
@media (min-width: 541px) {
  .navbar-form {
    width: auto;
    border: 0;
    margin-left: 0;
    margin-right: 0;
    padding-top: 0;
    padding-bottom: 0;
    -webkit-box-shadow: none;
    box-shadow: none;
  }
}
.navbar-nav > li > .dropdown-menu {
  margin-top: 0;
  border-top-right-radius: 0;
  border-top-left-radius: 0;
}
.navbar-fixed-bottom .navbar-nav > li > .dropdown-menu {
  margin-bottom: 0;
  border-top-right-radius: 2px;
  border-top-left-radius: 2px;
  border-bottom-right-radius: 0;
  border-bottom-left-radius: 0;
}
.navbar-btn {
  margin-top: -1px;
  margin-bottom: -1px;
}
.navbar-btn.btn-sm {
  margin-top: 0px;
  margin-bottom: 0px;
}
.navbar-btn.btn-xs {
  margin-top: 4px;
  margin-bottom: 4px;
}
.navbar-text {
  margin-top: 6px;
  margin-bottom: 6px;
}
@media (min-width: 541px) {
  .navbar-text {
    float: left;
    margin-left: 0px;
    margin-right: 0px;
  }
}
@media (min-width: 541px) {
  .navbar-left {
    float: left !important;
    float: left;
  }
  .navbar-right {
    float: right !important;
    float: right;
    margin-right: 0px;
  }
  .navbar-right ~ .navbar-right {
    margin-right: 0;
  }
}
.navbar-default {
  background-color: #f8f8f8;
  border-color: #e7e7e7;
}
.navbar-default .navbar-brand {
  color: #777777;
}
.navbar-default .navbar-brand:hover,
.navbar-default .navbar-brand:focus {
  color: #5e5e5e;
  background-color: transparent;
}
.navbar-default .navbar-text {
  color: #777777;
}
.navbar-default .navbar-nav > li > a {
  color: #777777;
}
.navbar-default .navbar-nav > li > a:hover,
.navbar-default .navbar-nav > li > a:focus {
  color: #333333;
  background-color: transparent;
}
.navbar-default .navbar-nav > .active > a,
.navbar-default .navbar-nav > .active > a:hover,
.navbar-default .navbar-nav > .active > a:focus {
  color: #555555;
  background-color: #e7e7e7;
}
.navbar-default .navbar-nav > .disabled > a,
.navbar-default .navbar-nav > .disabled > a:hover,
.navbar-default .navbar-nav > .disabled > a:focus {
  color: #cccccc;
  background-color: transparent;
}
.navbar-default .navbar-toggle {
  border-color: #dddddd;
}
.navbar-default .navbar-toggle:hover,
.navbar-default .navbar-toggle:focus {
  background-color: #dddddd;
}
.navbar-default .navbar-toggle .icon-bar {
  background-color: #888888;
}
.navbar-default .navbar-collapse,
.navbar-default .navbar-form {
  border-color: #e7e7e7;
}
.navbar-default .navbar-nav > .open > a,
.navbar-default .navbar-nav > .open > a:hover,
.navbar-default .navbar-nav > .open > a:focus {
  background-color: #e7e7e7;
  color: #555555;
}
@media (max-width: 540px) {
  .navbar-default .navbar-nav .open .dropdown-menu > li > a {
    color: #777777;
  }
  .navbar-default .navbar-nav .open .dropdown-menu > li > a:hover,
  .navbar-default .navbar-nav .open .dropdown-menu > li > a:focus {
    color: #333333;
    background-color: transparent;
  }
  .navbar-default .navbar-nav .open .dropdown-menu > .active > a,
  .navbar-default .navbar-nav .open .dropdown-menu > .active > a:hover,
  .navbar-default .navbar-nav .open .dropdown-menu > .active > a:focus {
    color: #555555;
    background-color: #e7e7e7;
  }
  .navbar-default .navbar-nav .open .dropdown-menu > .disabled > a,
  .navbar-default .navbar-nav .open .dropdown-menu > .disabled > a:hover,
  .navbar-default .navbar-nav .open .dropdown-menu > .disabled > a:focus {
    color: #cccccc;
    background-color: transparent;
  }
}
.navbar-default .navbar-link {
  color: #777777;
}
.navbar-default .navbar-link:hover {
  color: #333333;
}
.navbar-default .btn-link {
  color: #777777;
}
.navbar-default .btn-link:hover,
.navbar-default .btn-link:focus {
  color: #333333;
}
.navbar-default .btn-link[disabled]:hover,
fieldset[disabled] .navbar-default .btn-link:hover,
.navbar-default .btn-link[disabled]:focus,
fieldset[disabled] .navbar-default .btn-link:focus {
  color: #cccccc;
}
.navbar-inverse {
  background-color: #222222;
  border-color: #080808;
}
.navbar-inverse .navbar-brand {
  color: #9d9d9d;
}
.navbar-inverse .navbar-brand:hover,
.navbar-inverse .navbar-brand:focus {
  color: #ffffff;
  background-color: transparent;
}
.navbar-inverse .navbar-text {
  color: #9d9d9d;
}
.navbar-inverse .navbar-nav > li > a {
  color: #9d9d9d;
}
.navbar-inverse .navbar-nav > li > a:hover,
.navbar-inverse .navbar-nav > li > a:focus {
  color: #ffffff;
  background-color: transparent;
}
.navbar-inverse .navbar-nav > .active > a,
.navbar-inverse .navbar-nav > .active > a:hover,
.navbar-inverse .navbar-nav > .active > a:focus {
  color: #ffffff;
  background-color: #080808;
}
.navbar-inverse .navbar-nav > .disabled > a,
.navbar-inverse .navbar-nav > .disabled > a:hover,
.navbar-inverse .navbar-nav > .disabled > a:focus {
  color: #444444;
  background-color: transparent;
}
.navbar-inverse .navbar-toggle {
  border-color: #333333;
}
.navbar-inverse .navbar-toggle:hover,
.navbar-inverse .navbar-toggle:focus {
  background-color: #333333;
}
.navbar-inverse .navbar-toggle .icon-bar {
  background-color: #ffffff;
}
.navbar-inverse .navbar-collapse,
.navbar-inverse .navbar-form {
  border-color: #101010;
}
.navbar-inverse .navbar-nav > .open > a,
.navbar-inverse .navbar-nav > .open > a:hover,
.navbar-inverse .navbar-nav > .open > a:focus {
  background-color: #080808;
  color: #ffffff;
}
@media (max-width: 540px) {
  .navbar-inverse .navbar-nav .open .dropdown-menu > .dropdown-header {
    border-color: #080808;
  }
  .navbar-inverse .navbar-nav .open .dropdown-menu .divider {
    background-color: #080808;
  }
  .navbar-inverse .navbar-nav .open .dropdown-menu > li > a {
    color: #9d9d9d;
  }
  .navbar-inverse .navbar-nav .open .dropdown-menu > li > a:hover,
  .navbar-inverse .navbar-nav .open .dropdown-menu > li > a:focus {
    color: #ffffff;
    background-color: transparent;
  }
  .navbar-inverse .navbar-nav .open .dropdown-menu > .active > a,
  .navbar-inverse .navbar-nav .open .dropdown-menu > .active > a:hover,
  .navbar-inverse .navbar-nav .open .dropdown-menu > .active > a:focus {
    color: #ffffff;
    background-color: #080808;
  }
  .navbar-inverse .navbar-nav .open .dropdown-menu > .disabled > a,
  .navbar-inverse .navbar-nav .open .dropdown-menu > .disabled > a:hover,
  .navbar-inverse .navbar-nav .open .dropdown-menu > .disabled > a:focus {
    color: #444444;
    background-color: transparent;
  }
}
.navbar-inverse .navbar-link {
  color: #9d9d9d;
}
.navbar-inverse .navbar-link:hover {
  color: #ffffff;
}
.navbar-inverse .btn-link {
  color: #9d9d9d;
}
.navbar-inverse .btn-link:hover,
.navbar-inverse .btn-link:focus {
  color: #ffffff;
}
.navbar-inverse .btn-link[disabled]:hover,
fieldset[disabled] .navbar-inverse .btn-link:hover,
.navbar-inverse .btn-link[disabled]:focus,
fieldset[disabled] .navbar-inverse .btn-link:focus {
  color: #444444;
}
.breadcrumb {
  padding: 8px 15px;
  margin-bottom: 18px;
  list-style: none;
  background-color: #f5f5f5;
  border-radius: 2px;
}
.breadcrumb > li {
  display: inline-block;
}
.breadcrumb > li + li:before {
  content: "/\00a0";
  padding: 0 5px;
  color: #5e5e5e;
}
.breadcrumb > .active {
  color: #777777;
}
.pagination {
  display: inline-block;
  padding-left: 0;
  margin: 18px 0;
  border-radius: 2px;
}
.pagination > li {
  display: inline;
}
.pagination > li > a,
.pagination > li > span {
  position: relative;
  float: left;
  padding: 6px 12px;
  line-height: 1.42857143;
  text-decoration: none;
  color: #337ab7;
  background-color: #ffffff;
  border: 1px solid #dddddd;
  margin-left: -1px;
}
.pagination > li:first-child > a,
.pagination > li:first-child > span {
  margin-left: 0;
  border-bottom-left-radius: 2px;
  border-top-left-radius: 2px;
}
.pagination > li:last-child > a,
.pagination > li:last-child > span {
  border-bottom-right-radius: 2px;
  border-top-right-radius: 2px;
}
.pagination > li > a:hover,
.pagination > li > span:hover,
.pagination > li > a:focus,
.pagination > li > span:focus {
  z-index: 2;
  color: #23527c;
  background-color: #eeeeee;
  border-color: #dddddd;
}
.pagination > .active > a,
.pagination > .active > span,
.pagination > .active > a:hover,
.pagination > .active > span:hover,
.pagination > .active > a:focus,
.pagination > .active > span:focus {
  z-index: 3;
  color: #ffffff;
  background-color: #337ab7;
  border-color: #337ab7;
  cursor: default;
}
.pagination > .disabled > span,
.pagination > .disabled > span:hover,
.pagination > .disabled > span:focus,
.pagination > .disabled > a,
.pagination > .disabled > a:hover,
.pagination > .disabled > a:focus {
  color: #777777;
  background-color: #ffffff;
  border-color: #dddddd;
  cursor: not-allowed;
}
.pagination-lg > li > a,
.pagination-lg > li > span {
  padding: 10px 16px;
  font-size: 17px;
  line-height: 1.3333333;
}
.pagination-lg > li:first-child > a,
.pagination-lg > li:first-child > span {
  border-bottom-left-radius: 3px;
  border-top-left-radius: 3px;
}
.pagination-lg > li:last-child > a,
.pagination-lg > li:last-child > span {
  border-bottom-right-radius: 3px;
  border-top-right-radius: 3px;
}
.pagination-sm > li > a,
.pagination-sm > li > span {
  padding: 5px 10px;
  font-size: 12px;
  line-height: 1.5;
}
.pagination-sm > li:first-child > a,
.pagination-sm > li:first-child > span {
  border-bottom-left-radius: 1px;
  border-top-left-radius: 1px;
}
.pagination-sm > li:last-child > a,
.pagination-sm > li:last-child > span {
  border-bottom-right-radius: 1px;
  border-top-right-radius: 1px;
}
.pager {
  padding-left: 0;
  margin: 18px 0;
  list-style: none;
  text-align: center;
}
.pager li {
  display: inline;
}
.pager li > a,
.pager li > span {
  display: inline-block;
  padding: 5px 14px;
  background-color: #ffffff;
  border: 1px solid #dddddd;
  border-radius: 15px;
}
.pager li > a:hover,
.pager li > a:focus {
  text-decoration: none;
  background-color: #eeeeee;
}
.pager .next > a,
.pager .next > span {
  float: right;
}
.pager .previous > a,
.pager .previous > span {
  float: left;
}
.pager .disabled > a,
.pager .disabled > a:hover,
.pager .disabled > a:focus,
.pager .disabled > span {
  color: #777777;
  background-color: #ffffff;
  cursor: not-allowed;
}
.label {
  display: inline;
  padding: .2em .6em .3em;
  font-size: 75%;
  font-weight: bold;
  line-height: 1;
  color: #ffffff;
  text-align: center;
  white-space: nowrap;
  vertical-align: baseline;
  border-radius: .25em;
}
a.label:hover,
a.label:focus {
  color: #ffffff;
  text-decoration: none;
  cursor: pointer;
}
.label:empty {
  display: none;
}
.btn .label {
  position: relative;
  top: -1px;
}
.label-default {
  background-color: #777777;
}
.label-default[href]:hover,
.label-default[href]:focus {
  background-color: #5e5e5e;
}
.label-primary {
  background-color: #337ab7;
}
.label-primary[href]:hover,
.label-primary[href]:focus {
  background-color: #286090;
}
.label-success {
  background-color: #5cb85c;
}
.label-success[href]:hover,
.label-success[href]:focus {
  background-color: #449d44;
}
.label-info {
  background-color: #5bc0de;
}
.label-info[href]:hover,
.label-info[href]:focus {
  background-color: #31b0d5;
}
.label-warning {
  background-color: #f0ad4e;
}
.label-warning[href]:hover,
.label-warning[href]:focus {
  background-color: #ec971f;
}
.label-danger {
  background-color: #d9534f;
}
.label-danger[href]:hover,
.label-danger[href]:focus {
  background-color: #c9302c;
}
.badge {
  display: inline-block;
  min-width: 10px;
  padding: 3px 7px;
  font-size: 12px;
  font-weight: bold;
  color: #ffffff;
  line-height: 1;
  vertical-align: middle;
  white-space: nowrap;
  text-align: center;
  background-color: #777777;
  border-radius: 10px;
}
.badge:empty {
  display: none;
}
.btn .badge {
  position: relative;
  top: -1px;
}
.btn-xs .badge,
.btn-group-xs > .btn .badge {
  top: 0;
  padding: 1px 5px;
}
a.badge:hover,
a.badge:focus {
  color: #ffffff;
  text-decoration: none;
  cursor: pointer;
}
.list-group-item.active > .badge,
.nav-pills > .active > a > .badge {
  color: #337ab7;
  background-color: #ffffff;
}
.list-group-item > .badge {
  float: right;
}
.list-group-item > .badge + .badge {
  margin-right: 5px;
}
.nav-pills > li > a > .badge {
  margin-left: 3px;
}
.jumbotron {
  padding-top: 30px;
  padding-bottom: 30px;
  margin-bottom: 30px;
  color: inherit;
  background-color: #eeeeee;
}
.jumbotron h1,
.jumbotron .h1 {
  color: inherit;
}
.jumbotron p {
  margin-bottom: 15px;
  font-size: 20px;
  font-weight: 200;
}
.jumbotron > hr {
  border-top-color: #d5d5d5;
}
.container .jumbotron,
.container-fluid .jumbotron {
  border-radius: 3px;
  padding-left: 0px;
  padding-right: 0px;
}
.jumbotron .container {
  max-width: 100%;
}
@media screen and (min-width: 768px) {
  .jumbotron {
    padding-top: 48px;
    padding-bottom: 48px;
  }
  .container .jumbotron,
  .container-fluid .jumbotron {
    padding-left: 60px;
    padding-right: 60px;
  }
  .jumbotron h1,
  .jumbotron .h1 {
    font-size: 59px;
  }
}
.thumbnail {
  display: block;
  padding: 4px;
  margin-bottom: 18px;
  line-height: 1.42857143;
  background-color: #ffffff;
  border: 1px solid #dddddd;
  border-radius: 2px;
  -webkit-transition: border 0.2s ease-in-out;
  -o-transition: border 0.2s ease-in-out;
  transition: border 0.2s ease-in-out;
}
.thumbnail > img,
.thumbnail a > img {
  margin-left: auto;
  margin-right: auto;
}
a.thumbnail:hover,
a.thumbnail:focus,
a.thumbnail.active {
  border-color: #337ab7;
}
.thumbnail .caption {
  padding: 9px;
  color: #000000;
}
.alert {
  padding: 15px;
  margin-bottom: 18px;
  border: 1px solid transparent;
  border-radius: 2px;
}
.alert h4 {
  margin-top: 0;
  color: inherit;
}
.alert .alert-link {
  font-weight: bold;
}
.alert > p,
.alert > ul {
  margin-bottom: 0;
}
.alert > p + p {
  margin-top: 5px;
}
.alert-dismissable,
.alert-dismissible {
  padding-right: 35px;
}
.alert-dismissable .close,
.alert-dismissible .close {
  position: relative;
  top: -2px;
  right: -21px;
  color: inherit;
}
.alert-success {
  background-color: #dff0d8;
  border-color: #d6e9c6;
  color: #3c763d;
}
.alert-success hr {
  border-top-color: #c9e2b3;
}
.alert-success .alert-link {
  color: #2b542c;
}
.alert-info {
  background-color: #d9edf7;
  border-color: #bce8f1;
  color: #31708f;
}
.alert-info hr {
  border-top-color: #a6e1ec;
}
.alert-info .alert-link {
  color: #245269;
}
.alert-warning {
  background-color: #fcf8e3;
  border-color: #faebcc;
  color: #8a6d3b;
}
.alert-warning hr {
  border-top-color: #f7e1b5;
}
.alert-warning .alert-link {
  color: #66512c;
}
.alert-danger {
  background-color: #f2dede;
  border-color: #ebccd1;
  color: #a94442;
}
.alert-danger hr {
  border-top-color: #e4b9c0;
}
.alert-danger .alert-link {
  color: #843534;
}
@-webkit-keyframes progress-bar-stripes {
  from {
    background-position: 40px 0;
  }
  to {
    background-position: 0 0;
  }
}
@keyframes progress-bar-stripes {
  from {
    background-position: 40px 0;
  }
  to {
    background-position: 0 0;
  }
}
.progress {
  overflow: hidden;
  height: 18px;
  margin-bottom: 18px;
  background-color: #f5f5f5;
  border-radius: 2px;
  -webkit-box-shadow: inset 0 1px 2px rgba(0, 0, 0, 0.1);
  box-shadow: inset 0 1px 2px rgba(0, 0, 0, 0.1);
}
.progress-bar {
  float: left;
  width: 0%;
  height: 100%;
  font-size: 12px;
  line-height: 18px;
  color: #ffffff;
  text-align: center;
  background-color: #337ab7;
  -webkit-box-shadow: inset 0 -1px 0 rgba(0, 0, 0, 0.15);
  box-shadow: inset 0 -1px 0 rgba(0, 0, 0, 0.15);
  -webkit-transition: width 0.6s ease;
  -o-transition: width 0.6s ease;
  transition: width 0.6s ease;
}
.progress-striped .progress-bar,
.progress-bar-striped {
  background-image: -webkit-linear-gradient(45deg, rgba(255, 255, 255, 0.15) 25%, transparent 25%, transparent 50%, rgba(255, 255, 255, 0.15) 50%, rgba(255, 255, 255, 0.15) 75%, transparent 75%, transparent);
  background-image: -o-linear-gradient(45deg, rgba(255, 255, 255, 0.15) 25%, transparent 25%, transparent 50%, rgba(255, 255, 255, 0.15) 50%, rgba(255, 255, 255, 0.15) 75%, transparent 75%, transparent);
  background-image: linear-gradient(45deg, rgba(255, 255, 255, 0.15) 25%, transparent 25%, transparent 50%, rgba(255, 255, 255, 0.15) 50%, rgba(255, 255, 255, 0.15) 75%, transparent 75%, transparent);
  background-size: 40px 40px;
}
.progress.active .progress-bar,
.progress-bar.active {
  -webkit-animation: progress-bar-stripes 2s linear infinite;
  -o-animation: progress-bar-stripes 2s linear infinite;
  animation: progress-bar-stripes 2s linear infinite;
}
.progress-bar-success {
  background-color: #5cb85c;
}
.progress-striped .progress-bar-success {
  background-image: -webkit-linear-gradient(45deg, rgba(255, 255, 255, 0.15) 25%, transparent 25%, transparent 50%, rgba(255, 255, 255, 0.15) 50%, rgba(255, 255, 255, 0.15) 75%, transparent 75%, transparent);
  background-image: -o-linear-gradient(45deg, rgba(255, 255, 255, 0.15) 25%, transparent 25%, transparent 50%, rgba(255, 255, 255, 0.15) 50%, rgba(255, 255, 255, 0.15) 75%, transparent 75%, transparent);
  background-image: linear-gradient(45deg, rgba(255, 255, 255, 0.15) 25%, transparent 25%, transparent 50%, rgba(255, 255, 255, 0.15) 50%, rgba(255, 255, 255, 0.15) 75%, transparent 75%, transparent);
}
.progress-bar-info {
  background-color: #5bc0de;
}
.progress-striped .progress-bar-info {
  background-image: -webkit-linear-gradient(45deg, rgba(255, 255, 255, 0.15) 25%, transparent 25%, transparent 50%, rgba(255, 255, 255, 0.15) 50%, rgba(255, 255, 255, 0.15) 75%, transparent 75%, transparent);
  background-image: -o-linear-gradient(45deg, rgba(255, 255, 255, 0.15) 25%, transparent 25%, transparent 50%, rgba(255, 255, 255, 0.15) 50%, rgba(255, 255, 255, 0.15) 75%, transparent 75%, transparent);
  background-image: linear-gradient(45deg, rgba(255, 255, 255, 0.15) 25%, transparent 25%, transparent 50%, rgba(255, 255, 255, 0.15) 50%, rgba(255, 255, 255, 0.15) 75%, transparent 75%, transparent);
}
.progress-bar-warning {
  background-color: #f0ad4e;
}
.progress-striped .progress-bar-warning {
  background-image: -webkit-linear-gradient(45deg, rgba(255, 255, 255, 0.15) 25%, transparent 25%, transparent 50%, rgba(255, 255, 255, 0.15) 50%, rgba(255, 255, 255, 0.15) 75%, transparent 75%, transparent);
  background-image: -o-linear-gradient(45deg, rgba(255, 255, 255, 0.15) 25%, transparent 25%, transparent 50%, rgba(255, 255, 255, 0.15) 50%, rgba(255, 255, 255, 0.15) 75%, transparent 75%, transparent);
  background-image: linear-gradient(45deg, rgba(255, 255, 255, 0.15) 25%, transparent 25%, transparent 50%, rgba(255, 255, 255, 0.15) 50%, rgba(255, 255, 255, 0.15) 75%, transparent 75%, transparent);
}
.progress-bar-danger {
  background-color: #d9534f;
}
.progress-striped .progress-bar-danger {
  background-image: -webkit-linear-gradient(45deg, rgba(255, 255, 255, 0.15) 25%, transparent 25%, transparent 50%, rgba(255, 255, 255, 0.15) 50%, rgba(255, 255, 255, 0.15) 75%, transparent 75%, transparent);
  background-image: -o-linear-gradient(45deg, rgba(255, 255, 255, 0.15) 25%, transparent 25%, transparent 50%, rgba(255, 255, 255, 0.15) 50%, rgba(255, 255, 255, 0.15) 75%, transparent 75%, transparent);
  background-image: linear-gradient(45deg, rgba(255, 255, 255, 0.15) 25%, transparent 25%, transparent 50%, rgba(255, 255, 255, 0.15) 50%, rgba(255, 255, 255, 0.15) 75%, transparent 75%, transparent);
}
.media {
  margin-top: 15px;
}
.media:first-child {
  margin-top: 0;
}
.media,
.media-body {
  zoom: 1;
  overflow: hidden;
}
.media-body {
  width: 10000px;
}
.media-object {
  display: block;
}
.media-object.img-thumbnail {
  max-width: none;
}
.media-right,
.media > .pull-right {
  padding-left: 10px;
}
.media-left,
.media > .pull-left {
  padding-right: 10px;
}
.media-left,
.media-right,
.media-body {
  display: table-cell;
  vertical-align: top;
}
.media-middle {
  vertical-align: middle;
}
.media-bottom {
  vertical-align: bottom;
}
.media-heading {
  margin-top: 0;
  margin-bottom: 5px;
}
.media-list {
  padding-left: 0;
  list-style: none;
}
.list-group {
  margin-bottom: 20px;
  padding-left: 0;
}
.list-group-item {
  position: relative;
  display: block;
  padding: 10px 15px;
  margin-bottom: -1px;
  background-color: #ffffff;
  border: 1px solid #dddddd;
}
.list-group-item:first-child {
  border-top-right-radius: 2px;
  border-top-left-radius: 2px;
}
.list-group-item:last-child {
  margin-bottom: 0;
  border-bottom-right-radius: 2px;
  border-bottom-left-radius: 2px;
}
a.list-group-item,
button.list-group-item {
  color: #555555;
}
a.list-group-item .list-group-item-heading,
button.list-group-item .list-group-item-heading {
  color: #333333;
}
a.list-group-item:hover,
button.list-group-item:hover,
a.list-group-item:focus,
button.list-group-item:focus {
  text-decoration: none;
  color: #555555;
  background-color: #f5f5f5;
}
button.list-group-item {
  width: 100%;
  text-align: left;
}
.list-group-item.disabled,
.list-group-item.disabled:hover,
.list-group-item.disabled:focus {
  background-color: #eeeeee;
  color: #777777;
  cursor: not-allowed;
}
.list-group-item.disabled .list-group-item-heading,
.list-group-item.disabled:hover .list-group-item-heading,
.list-group-item.disabled:focus .list-group-item-heading {
  color: inherit;
}
.list-group-item.disabled .list-group-item-text,
.list-group-item.disabled:hover .list-group-item-text,
.list-group-item.disabled:focus .list-group-item-text {
  color: #777777;
}
.list-group-item.active,
.list-group-item.active:hover,
.list-group-item.active:focus {
  z-index: 2;
  color: #ffffff;
  background-color: #337ab7;
  border-color: #337ab7;
}
.list-group-item.active .list-group-item-heading,
.list-group-item.active:hover .list-group-item-heading,
.list-group-item.active:focus .list-group-item-heading,
.list-group-item.active .list-group-item-heading > small,
.list-group-item.active:hover .list-group-item-heading > small,
.list-group-item.active:focus .list-group-item-heading > small,
.list-group-item.active .list-group-item-heading > .small,
.list-group-item.active:hover .list-group-item-heading > .small,
.list-group-item.active:focus .list-group-item-heading > .small {
  color: inherit;
}
.list-group-item.active .list-group-item-text,
.list-group-item.active:hover .list-group-item-text,
.list-group-item.active:focus .list-group-item-text {
  color: #c7ddef;
}
.list-group-item-success {
  color: #3c763d;
  background-color: #dff0d8;
}
a.list-group-item-success,
button.list-group-item-success {
  color: #3c763d;
}
a.list-group-item-success .list-group-item-heading,
button.list-group-item-success .list-group-item-heading {
  color: inherit;
}
a.list-group-item-success:hover,
button.list-group-item-success:hover,
a.list-group-item-success:focus,
button.list-group-item-success:focus {
  color: #3c763d;
  background-color: #d0e9c6;
}
a.list-group-item-success.active,
button.list-group-item-success.active,
a.list-group-item-success.active:hover,
button.list-group-item-success.active:hover,
a.list-group-item-success.active:focus,
button.list-group-item-success.active:focus {
  color: #fff;
  background-color: #3c763d;
  border-color: #3c763d;
}
.list-group-item-info {
  color: #31708f;
  background-color: #d9edf7;
}
a.list-group-item-info,
button.list-group-item-info {
  color: #31708f;
}
a.list-group-item-info .list-group-item-heading,
button.list-group-item-info .list-group-item-heading {
  color: inherit;
}
a.list-group-item-info:hover,
button.list-group-item-info:hover,
a.list-group-item-info:focus,
button.list-group-item-info:focus {
  color: #31708f;
  background-color: #c4e3f3;
}
a.list-group-item-info.active,
button.list-group-item-info.active,
a.list-group-item-info.active:hover,
button.list-group-item-info.active:hover,
a.list-group-item-info.active:focus,
button.list-group-item-info.active:focus {
  color: #fff;
  background-color: #31708f;
  border-color: #31708f;
}
.list-group-item-warning {
  color: #8a6d3b;
  background-color: #fcf8e3;
}
a.list-group-item-warning,
button.list-group-item-warning {
  color: #8a6d3b;
}
a.list-group-item-warning .list-group-item-heading,
button.list-group-item-warning .list-group-item-heading {
  color: inherit;
}
a.list-group-item-warning:hover,
button.list-group-item-warning:hover,
a.list-group-item-warning:focus,
button.list-group-item-warning:focus {
  color: #8a6d3b;
  background-color: #faf2cc;
}
a.list-group-item-warning.active,
button.list-group-item-warning.active,
a.list-group-item-warning.active:hover,
button.list-group-item-warning.active:hover,
a.list-group-item-warning.active:focus,
button.list-group-item-warning.active:focus {
  color: #fff;
  background-color: #8a6d3b;
  border-color: #8a6d3b;
}
.list-group-item-danger {
  color: #a94442;
  background-color: #f2dede;
}
a.list-group-item-danger,
button.list-group-item-danger {
  color: #a94442;
}
a.list-group-item-danger .list-group-item-heading,
button.list-group-item-danger .list-group-item-heading {
  color: inherit;
}
a.list-group-item-danger:hover,
button.list-group-item-danger:hover,
a.list-group-item-danger:focus,
button.list-group-item-danger:focus {
  color: #a94442;
  background-color: #ebcccc;
}
a.list-group-item-danger.active,
button.list-group-item-danger.active,
a.list-group-item-danger.active:hover,
button.list-group-item-danger.active:hover,
a.list-group-item-danger.active:focus,
button.list-group-item-danger.active:focus {
  color: #fff;
  background-color: #a94442;
  border-color: #a94442;
}
.list-group-item-heading {
  margin-top: 0;
  margin-bottom: 5px;
}
.list-group-item-text {
  margin-bottom: 0;
  line-height: 1.3;
}
.panel {
  margin-bottom: 18px;
  background-color: #ffffff;
  border: 1px solid transparent;
  border-radius: 2px;
  -webkit-box-shadow: 0 1px 1px rgba(0, 0, 0, 0.05);
  box-shadow: 0 1px 1px rgba(0, 0, 0, 0.05);
}
.panel-body {
  padding: 15px;
}
.panel-heading {
  padding: 10px 15px;
  border-bottom: 1px solid transparent;
  border-top-right-radius: 1px;
  border-top-left-radius: 1px;
}
.panel-heading > .dropdown .dropdown-toggle {
  color: inherit;
}
.panel-title {
  margin-top: 0;
  margin-bottom: 0;
  font-size: 15px;
  color: inherit;
}
.panel-title > a,
.panel-title > small,
.panel-title > .small,
.panel-title > small > a,
.panel-title > .small > a {
  color: inherit;
}
.panel-footer {
  padding: 10px 15px;
  background-color: #f5f5f5;
  border-top: 1px solid #dddddd;
  border-bottom-right-radius: 1px;
  border-bottom-left-radius: 1px;
}
.panel > .list-group,
.panel > .panel-collapse > .list-group {
  margin-bottom: 0;
}
.panel > .list-group .list-group-item,
.panel > .panel-collapse > .list-group .list-group-item {
  border-width: 1px 0;
  border-radius: 0;
}
.panel > .list-group:first-child .list-group-item:first-child,
.panel > .panel-collapse > .list-group:first-child .list-group-item:first-child {
  border-top: 0;
  border-top-right-radius: 1px;
  border-top-left-radius: 1px;
}
.panel > .list-group:last-child .list-group-item:last-child,
.panel > .panel-collapse > .list-group:last-child .list-group-item:last-child {
  border-bottom: 0;
  border-bottom-right-radius: 1px;
  border-bottom-left-radius: 1px;
}
.panel > .panel-heading + .panel-collapse > .list-group .list-group-item:first-child {
  border-top-right-radius: 0;
  border-top-left-radius: 0;
}
.panel-heading + .list-group .list-group-item:first-child {
  border-top-width: 0;
}
.list-group + .panel-footer {
  border-top-width: 0;
}
.panel > .table,
.panel > .table-responsive > .table,
.panel > .panel-collapse > .table {
  margin-bottom: 0;
}
.panel > .table caption,
.panel > .table-responsive > .table caption,
.panel > .panel-collapse > .table caption {
  padding-left: 15px;
  padding-right: 15px;
}
.panel > .table:first-child,
.panel > .table-responsive:first-child > .table:first-child {
  border-top-right-radius: 1px;
  border-top-left-radius: 1px;
}
.panel > .table:first-child > thead:first-child > tr:first-child,
.panel > .table-responsive:first-child > .table:first-child > thead:first-child > tr:first-child,
.panel > .table:first-child > tbody:first-child > tr:first-child,
.panel > .table-responsive:first-child > .table:first-child > tbody:first-child > tr:first-child {
  border-top-left-radius: 1px;
  border-top-right-radius: 1px;
}
.panel > .table:first-child > thead:first-child > tr:first-child td:first-child,
.panel > .table-responsive:first-child > .table:first-child > thead:first-child > tr:first-child td:first-child,
.panel > .table:first-child > tbody:first-child > tr:first-child td:first-child,
.panel > .table-responsive:first-child > .table:first-child > tbody:first-child > tr:first-child td:first-child,
.panel > .table:first-child > thead:first-child > tr:first-child th:first-child,
.panel > .table-responsive:first-child > .table:first-child > thead:first-child > tr:first-child th:first-child,
.panel > .table:first-child > tbody:first-child > tr:first-child th:first-child,
.panel > .table-responsive:first-child > .table:first-child > tbody:first-child > tr:first-child th:first-child {
  border-top-left-radius: 1px;
}
.panel > .table:first-child > thead:first-child > tr:first-child td:last-child,
.panel > .table-responsive:first-child > .table:first-child > thead:first-child > tr:first-child td:last-child,
.panel > .table:first-child > tbody:first-child > tr:first-child td:last-child,
.panel > .table-responsive:first-child > .table:first-child > tbody:first-child > tr:first-child td:last-child,
.panel > .table:first-child > thead:first-child > tr:first-child th:last-child,
.panel > .table-responsive:first-child > .table:first-child > thead:first-child > tr:first-child th:last-child,
.panel > .table:first-child > tbody:first-child > tr:first-child th:last-child,
.panel > .table-responsive:first-child > .table:first-child > tbody:first-child > tr:first-child th:last-child {
  border-top-right-radius: 1px;
}
.panel > .table:last-child,
.panel > .table-responsive:last-child > .table:last-child {
  border-bottom-right-radius: 1px;
  border-bottom-left-radius: 1px;
}
.panel > .table:last-child > tbody:last-child > tr:last-child,
.panel > .table-responsive:last-child > .table:last-child > tbody:last-child > tr:last-child,
.panel > .table:last-child > tfoot:last-child > tr:last-child,
.panel > .table-responsive:last-child > .table:last-child > tfoot:last-child > tr:last-child {
  border-bottom-left-radius: 1px;
  border-bottom-right-radius: 1px;
}
.panel > .table:last-child > tbody:last-child > tr:last-child td:first-child,
.panel > .table-responsive:last-child > .table:last-child > tbody:last-child > tr:last-child td:first-child,
.panel > .table:last-child > tfoot:last-child > tr:last-child td:first-child,
.panel > .table-responsive:last-child > .table:last-child > tfoot:last-child > tr:last-child td:first-child,
.panel > .table:last-child > tbody:last-child > tr:last-child th:first-child,
.panel > .table-responsive:last-child > .table:last-child > tbody:last-child > tr:last-child th:first-child,
.panel > .table:last-child > tfoot:last-child > tr:last-child th:first-child,
.panel > .table-responsive:last-child > .table:last-child > tfoot:last-child > tr:last-child th:first-child {
  border-bottom-left-radius: 1px;
}
.panel > .table:last-child > tbody:last-child > tr:last-child td:last-child,
.panel > .table-responsive:last-child > .table:last-child > tbody:last-child > tr:last-child td:last-child,
.panel > .table:last-child > tfoot:last-child > tr:last-child td:last-child,
.panel > .table-responsive:last-child > .table:last-child > tfoot:last-child > tr:last-child td:last-child,
.panel > .table:last-child > tbody:last-child > tr:last-child th:last-child,
.panel > .table-responsive:last-child > .table:last-child > tbody:last-child > tr:last-child th:last-child,
.panel > .table:last-child > tfoot:last-child > tr:last-child th:last-child,
.panel > .table-responsive:last-child > .table:last-child > tfoot:last-child > tr:last-child th:last-child {
  border-bottom-right-radius: 1px;
}
.panel > .panel-body + .table,
.panel > .panel-body + .table-responsive,
.panel > .table + .panel-body,
.panel > .table-responsive + .panel-body {
  border-top: 1px solid #dddddd;
}
.panel > .table > tbody:first-child > tr:first-child th,
.panel > .table > tbody:first-child > tr:first-child td {
  border-top: 0;
}
.panel > .table-bordered,
.panel > .table-responsive > .table-bordered {
  border: 0;
}
.panel > .table-bordered > thead > tr > th:first-child,
.panel > .table-responsive > .table-bordered > thead > tr > th:first-child,
.panel > .table-bordered > tbody > tr > th:first-child,
.panel > .table-responsive > .table-bordered > tbody > tr > th:first-child,
.panel > .table-bordered > tfoot > tr > th:first-child,
.panel > .table-responsive > .table-bordered > tfoot > tr > th:first-child,
.panel > .table-bordered > thead > tr > td:first-child,
.panel > .table-responsive > .table-bordered > thead > tr > td:first-child,
.panel > .table-bordered > tbody > tr > td:first-child,
.panel > .table-responsive > .table-bordered > tbody > tr > td:first-child,
.panel > .table-bordered > tfoot > tr > td:first-child,
.panel > .table-responsive > .table-bordered > tfoot > tr > td:first-child {
  border-left: 0;
}
.panel > .table-bordered > thead > tr > th:last-child,
.panel > .table-responsive > .table-bordered > thead > tr > th:last-child,
.panel > .table-bordered > tbody > tr > th:last-child,
.panel > .table-responsive > .table-bordered > tbody > tr > th:last-child,
.panel > .table-bordered > tfoot > tr > th:last-child,
.panel > .table-responsive > .table-bordered > tfoot > tr > th:last-child,
.panel > .table-bordered > thead > tr > td:last-child,
.panel > .table-responsive > .table-bordered > thead > tr > td:last-child,
.panel > .table-bordered > tbody > tr > td:last-child,
.panel > .table-responsive > .table-bordered > tbody > tr > td:last-child,
.panel > .table-bordered > tfoot > tr > td:last-child,
.panel > .table-responsive > .table-bordered > tfoot > tr > td:last-child {
  border-right: 0;
}
.panel > .table-bordered > thead > tr:first-child > td,
.panel > .table-responsive > .table-bordered > thead > tr:first-child > td,
.panel > .table-bordered > tbody > tr:first-child > td,
.panel > .table-responsive > .table-bordered > tbody > tr:first-child > td,
.panel > .table-bordered > thead > tr:first-child > th,
.panel > .table-responsive > .table-bordered > thead > tr:first-child > th,
.panel > .table-bordered > tbody > tr:first-child > th,
.panel > .table-responsive > .table-bordered > tbody > tr:first-child > th {
  border-bottom: 0;
}
.panel > .table-bordered > tbody > tr:last-child > td,
.panel > .table-responsive > .table-bordered > tbody > tr:last-child > td,
.panel > .table-bordered > tfoot > tr:last-child > td,
.panel > .table-responsive > .table-bordered > tfoot > tr:last-child > td,
.panel > .table-bordered > tbody > tr:last-child > th,
.panel > .table-responsive > .table-bordered > tbody > tr:last-child > th,
.panel > .table-bordered > tfoot > tr:last-child > th,
.panel > .table-responsive > .table-bordered > tfoot > tr:last-child > th {
  border-bottom: 0;
}
.panel > .table-responsive {
  border: 0;
  margin-bottom: 0;
}
.panel-group {
  margin-bottom: 18px;
}
.panel-group .panel {
  margin-bottom: 0;
  border-radius: 2px;
}
.panel-group .panel + .panel {
  margin-top: 5px;
}
.panel-group .panel-heading {
  border-bottom: 0;
}
.panel-group .panel-heading + .panel-collapse > .panel-body,
.panel-group .panel-heading + .panel-collapse > .list-group {
  border-top: 1px solid #dddddd;
}
.panel-group .panel-footer {
  border-top: 0;
}
.panel-group .panel-footer + .panel-collapse .panel-body {
  border-bottom: 1px solid #dddddd;
}
.panel-default {
  border-color: #dddddd;
}
.panel-default > .panel-heading {
  color: #333333;
  background-color: #f5f5f5;
  border-color: #dddddd;
}
.panel-default > .panel-heading + .panel-collapse > .panel-body {
  border-top-color: #dddddd;
}
.panel-default > .panel-heading .badge {
  color: #f5f5f5;
  background-color: #333333;
}
.panel-default > .panel-footer + .panel-collapse > .panel-body {
  border-bottom-color: #dddddd;
}
.panel-primary {
  border-color: #337ab7;
}
.panel-primary > .panel-heading {
  color: #ffffff;
  background-color: #337ab7;
  border-color: #337ab7;
}
.panel-primary > .panel-heading + .panel-collapse > .panel-body {
  border-top-color: #337ab7;
}
.panel-primary > .panel-heading .badge {
  color: #337ab7;
  background-color: #ffffff;
}
.panel-primary > .panel-footer + .panel-collapse > .panel-body {
  border-bottom-color: #337ab7;
}
.panel-success {
  border-color: #d6e9c6;
}
.panel-success > .panel-heading {
  color: #3c763d;
  background-color: #dff0d8;
  border-color: #d6e9c6;
}
.panel-success > .panel-heading + .panel-collapse > .panel-body {
  border-top-color: #d6e9c6;
}
.panel-success > .panel-heading .badge {
  color: #dff0d8;
  background-color: #3c763d;
}
.panel-success > .panel-footer + .panel-collapse > .panel-body {
  border-bottom-color: #d6e9c6;
}
.panel-info {
  border-color: #bce8f1;
}
.panel-info > .panel-heading {
  color: #31708f;
  background-color: #d9edf7;
  border-color: #bce8f1;
}
.panel-info > .panel-heading + .panel-collapse > .panel-body {
  border-top-color: #bce8f1;
}
.panel-info > .panel-heading .badge {
  color: #d9edf7;
  background-color: #31708f;
}
.panel-info > .panel-footer + .panel-collapse > .panel-body {
  border-bottom-color: #bce8f1;
}
.panel-warning {
  border-color: #faebcc;
}
.panel-warning > .panel-heading {
  color: #8a6d3b;
  background-color: #fcf8e3;
  border-color: #faebcc;
}
.panel-warning > .panel-heading + .panel-collapse > .panel-body {
  border-top-color: #faebcc;
}
.panel-warning > .panel-heading .badge {
  color: #fcf8e3;
  background-color: #8a6d3b;
}
.panel-warning > .panel-footer + .panel-collapse > .panel-body {
  border-bottom-color: #faebcc;
}
.panel-danger {
  border-color: #ebccd1;
}
.panel-danger > .panel-heading {
  color: #a94442;
  background-color: #f2dede;
  border-color: #ebccd1;
}
.panel-danger > .panel-heading + .panel-collapse > .panel-body {
  border-top-color: #ebccd1;
}
.panel-danger > .panel-heading .badge {
  color: #f2dede;
  background-color: #a94442;
}
.panel-danger > .panel-footer + .panel-collapse > .panel-body {
  border-bottom-color: #ebccd1;
}
.embed-responsive {
  position: relative;
  display: block;
  height: 0;
  padding: 0;
  overflow: hidden;
}
.embed-responsive .embed-responsive-item,
.embed-responsive iframe,
.embed-responsive embed,
.embed-responsive object,
.embed-responsive video {
  position: absolute;
  top: 0;
  left: 0;
  bottom: 0;
  height: 100%;
  width: 100%;
  border: 0;
}
.embed-responsive-16by9 {
  padding-bottom: 56.25%;
}
.embed-responsive-4by3 {
  padding-bottom: 75%;
}
.well {
  min-height: 20px;
  padding: 19px;
  margin-bottom: 20px;
  background-color: #f5f5f5;
  border: 1px solid #e3e3e3;
  border-radius: 2px;
  -webkit-box-shadow: inset 0 1px 1px rgba(0, 0, 0, 0.05);
  box-shadow: inset 0 1px 1px rgba(0, 0, 0, 0.05);
}
.well blockquote {
  border-color: #ddd;
  border-color: rgba(0, 0, 0, 0.15);
}
.well-lg {
  padding: 24px;
  border-radius: 3px;
}
.well-sm {
  padding: 9px;
  border-radius: 1px;
}
.close {
  float: right;
  font-size: 19.5px;
  font-weight: bold;
  line-height: 1;
  color: #000000;
  text-shadow: 0 1px 0 #ffffff;
  opacity: 0.2;
  filter: alpha(opacity=20);
}
.close:hover,
.close:focus {
  color: #000000;
  text-decoration: none;
  cursor: pointer;
  opacity: 0.5;
  filter: alpha(opacity=50);
}
button.close {
  padding: 0;
  cursor: pointer;
  background: transparent;
  border: 0;
  -webkit-appearance: none;
}
.modal-open {
  overflow: hidden;
}
.modal {
  display: none;
  overflow: hidden;
  position: fixed;
  top: 0;
  right: 0;
  bottom: 0;
  left: 0;
  z-index: 1050;
  -webkit-overflow-scrolling: touch;
  outline: 0;
}
.modal.fade .modal-dialog {
  -webkit-transform: translate(0, -25%);
  -ms-transform: translate(0, -25%);
  -o-transform: translate(0, -25%);
  transform: translate(0, -25%);
  -webkit-transition: -webkit-transform 0.3s ease-out;
  -moz-transition: -moz-transform 0.3s ease-out;
  -o-transition: -o-transform 0.3s ease-out;
  transition: transform 0.3s ease-out;
}
.modal.in .modal-dialog {
  -webkit-transform: translate(0, 0);
  -ms-transform: translate(0, 0);
  -o-transform: translate(0, 0);
  transform: translate(0, 0);
}
.modal-open .modal {
  overflow-x: hidden;
  overflow-y: auto;
}
.modal-dialog {
  position: relative;
  width: auto;
  margin: 10px;
}
.modal-content {
  position: relative;
  background-color: #ffffff;
  border: 1px solid #999999;
  border: 1px solid rgba(0, 0, 0, 0.2);
  border-radius: 3px;
  -webkit-box-shadow: 0 3px 9px rgba(0, 0, 0, 0.5);
  box-shadow: 0 3px 9px rgba(0, 0, 0, 0.5);
  background-clip: padding-box;
  outline: 0;
}
.modal-backdrop {
  position: fixed;
  top: 0;
  right: 0;
  bottom: 0;
  left: 0;
  z-index: 1040;
  background-color: #000000;
}
.modal-backdrop.fade {
  opacity: 0;
  filter: alpha(opacity=0);
}
.modal-backdrop.in {
  opacity: 0.5;
  filter: alpha(opacity=50);
}
.modal-header {
  padding: 15px;
  border-bottom: 1px solid #e5e5e5;
}
.modal-header .close {
  margin-top: -2px;
}
.modal-title {
  margin: 0;
  line-height: 1.42857143;
}
.modal-body {
  position: relative;
  padding: 15px;
}
.modal-footer {
  padding: 15px;
  text-align: right;
  border-top: 1px solid #e5e5e5;
}
.modal-footer .btn + .btn {
  margin-left: 5px;
  margin-bottom: 0;
}
.modal-footer .btn-group .btn + .btn {
  margin-left: -1px;
}
.modal-footer .btn-block + .btn-block {
  margin-left: 0;
}
.modal-scrollbar-measure {
  position: absolute;
  top: -9999px;
  width: 50px;
  height: 50px;
  overflow: scroll;
}
@media (min-width: 768px) {
  .modal-dialog {
    width: 600px;
    margin: 30px auto;
  }
  .modal-content {
    -webkit-box-shadow: 0 5px 15px rgba(0, 0, 0, 0.5);
    box-shadow: 0 5px 15px rgba(0, 0, 0, 0.5);
  }
  .modal-sm {
    width: 300px;
  }
}
@media (min-width: 992px) {
  .modal-lg {
    width: 900px;
  }
}
.tooltip {
  position: absolute;
  z-index: 1070;
  display: block;
  font-family: "Helvetica Neue", Helvetica, Arial, sans-serif;
  font-style: normal;
  font-weight: normal;
  letter-spacing: normal;
  line-break: auto;
  line-height: 1.42857143;
  text-align: left;
  text-align: start;
  text-decoration: none;
  text-shadow: none;
  text-transform: none;
  white-space: normal;
  word-break: normal;
  word-spacing: normal;
  word-wrap: normal;
  font-size: 12px;
  opacity: 0;
  filter: alpha(opacity=0);
}
.tooltip.in {
  opacity: 0.9;
  filter: alpha(opacity=90);
}
.tooltip.top {
  margin-top: -3px;
  padding: 5px 0;
}
.tooltip.right {
  margin-left: 3px;
  padding: 0 5px;
}
.tooltip.bottom {
  margin-top: 3px;
  padding: 5px 0;
}
.tooltip.left {
  margin-left: -3px;
  padding: 0 5px;
}
.tooltip-inner {
  max-width: 200px;
  padding: 3px 8px;
  color: #ffffff;
  text-align: center;
  background-color: #000000;
  border-radius: 2px;
}
.tooltip-arrow {
  position: absolute;
  width: 0;
  height: 0;
  border-color: transparent;
  border-style: solid;
}
.tooltip.top .tooltip-arrow {
  bottom: 0;
  left: 50%;
  margin-left: -5px;
  border-width: 5px 5px 0;
  border-top-color: #000000;
}
.tooltip.top-left .tooltip-arrow {
  bottom: 0;
  right: 5px;
  margin-bottom: -5px;
  border-width: 5px 5px 0;
  border-top-color: #000000;
}
.tooltip.top-right .tooltip-arrow {
  bottom: 0;
  left: 5px;
  margin-bottom: -5px;
  border-width: 5px 5px 0;
  border-top-color: #000000;
}
.tooltip.right .tooltip-arrow {
  top: 50%;
  left: 0;
  margin-top: -5px;
  border-width: 5px 5px 5px 0;
  border-right-color: #000000;
}
.tooltip.left .tooltip-arrow {
  top: 50%;
  right: 0;
  margin-top: -5px;
  border-width: 5px 0 5px 5px;
  border-left-color: #000000;
}
.tooltip.bottom .tooltip-arrow {
  top: 0;
  left: 50%;
  margin-left: -5px;
  border-width: 0 5px 5px;
  border-bottom-color: #000000;
}
.tooltip.bottom-left .tooltip-arrow {
  top: 0;
  right: 5px;
  margin-top: -5px;
  border-width: 0 5px 5px;
  border-bottom-color: #000000;
}
.tooltip.bottom-right .tooltip-arrow {
  top: 0;
  left: 5px;
  margin-top: -5px;
  border-width: 0 5px 5px;
  border-bottom-color: #000000;
}
.popover {
  position: absolute;
  top: 0;
  left: 0;
  z-index: 1060;
  display: none;
  max-width: 276px;
  padding: 1px;
  font-family: "Helvetica Neue", Helvetica, Arial, sans-serif;
  font-style: normal;
  font-weight: normal;
  letter-spacing: normal;
  line-break: auto;
  line-height: 1.42857143;
  text-align: left;
  text-align: start;
  text-decoration: none;
  text-shadow: none;
  text-transform: none;
  white-space: normal;
  word-break: normal;
  word-spacing: normal;
  word-wrap: normal;
  font-size: 13px;
  background-color: #ffffff;
  background-clip: padding-box;
  border: 1px solid #cccccc;
  border: 1px solid rgba(0, 0, 0, 0.2);
  border-radius: 3px;
  -webkit-box-shadow: 0 5px 10px rgba(0, 0, 0, 0.2);
  box-shadow: 0 5px 10px rgba(0, 0, 0, 0.2);
}
.popover.top {
  margin-top: -10px;
}
.popover.right {
  margin-left: 10px;
}
.popover.bottom {
  margin-top: 10px;
}
.popover.left {
  margin-left: -10px;
}
.popover-title {
  margin: 0;
  padding: 8px 14px;
  font-size: 13px;
  background-color: #f7f7f7;
  border-bottom: 1px solid #ebebeb;
  border-radius: 2px 2px 0 0;
}
.popover-content {
  padding: 9px 14px;
}
.popover > .arrow,
.popover > .arrow:after {
  position: absolute;
  display: block;
  width: 0;
  height: 0;
  border-color: transparent;
  border-style: solid;
}
.popover > .arrow {
  border-width: 11px;
}
.popover > .arrow:after {
  border-width: 10px;
  content: "";
}
.popover.top > .arrow {
  left: 50%;
  margin-left: -11px;
  border-bottom-width: 0;
  border-top-color: #999999;
  border-top-color: rgba(0, 0, 0, 0.25);
  bottom: -11px;
}
.popover.top > .arrow:after {
  content: " ";
  bottom: 1px;
  margin-left: -10px;
  border-bottom-width: 0;
  border-top-color: #ffffff;
}
.popover.right > .arrow {
  top: 50%;
  left: -11px;
  margin-top: -11px;
  border-left-width: 0;
  border-right-color: #999999;
  border-right-color: rgba(0, 0, 0, 0.25);
}
.popover.right > .arrow:after {
  content: " ";
  left: 1px;
  bottom: -10px;
  border-left-width: 0;
  border-right-color: #ffffff;
}
.popover.bottom > .arrow {
  left: 50%;
  margin-left: -11px;
  border-top-width: 0;
  border-bottom-color: #999999;
  border-bottom-color: rgba(0, 0, 0, 0.25);
  top: -11px;
}
.popover.bottom > .arrow:after {
  content: " ";
  top: 1px;
  margin-left: -10px;
  border-top-width: 0;
  border-bottom-color: #ffffff;
}
.popover.left > .arrow {
  top: 50%;
  right: -11px;
  margin-top: -11px;
  border-right-width: 0;
  border-left-color: #999999;
  border-left-color: rgba(0, 0, 0, 0.25);
}
.popover.left > .arrow:after {
  content: " ";
  right: 1px;
  border-right-width: 0;
  border-left-color: #ffffff;
  bottom: -10px;
}
.carousel {
  position: relative;
}
.carousel-inner {
  position: relative;
  overflow: hidden;
  width: 100%;
}
.carousel-inner > .item {
  display: none;
  position: relative;
  -webkit-transition: 0.6s ease-in-out left;
  -o-transition: 0.6s ease-in-out left;
  transition: 0.6s ease-in-out left;
}
.carousel-inner > .item > img,
.carousel-inner > .item > a > img {
  line-height: 1;
}
@media all and (transform-3d), (-webkit-transform-3d) {
  .carousel-inner > .item {
    -webkit-transition: -webkit-transform 0.6s ease-in-out;
    -moz-transition: -moz-transform 0.6s ease-in-out;
    -o-transition: -o-transform 0.6s ease-in-out;
    transition: transform 0.6s ease-in-out;
    -webkit-backface-visibility: hidden;
    -moz-backface-visibility: hidden;
    backface-visibility: hidden;
    -webkit-perspective: 1000px;
    -moz-perspective: 1000px;
    perspective: 1000px;
  }
  .carousel-inner > .item.next,
  .carousel-inner > .item.active.right {
    -webkit-transform: translate3d(100%, 0, 0);
    transform: translate3d(100%, 0, 0);
    left: 0;
  }
  .carousel-inner > .item.prev,
  .carousel-inner > .item.active.left {
    -webkit-transform: translate3d(-100%, 0, 0);
    transform: translate3d(-100%, 0, 0);
    left: 0;
  }
  .carousel-inner > .item.next.left,
  .carousel-inner > .item.prev.right,
  .carousel-inner > .item.active {
    -webkit-transform: translate3d(0, 0, 0);
    transform: translate3d(0, 0, 0);
    left: 0;
  }
}
.carousel-inner > .active,
.carousel-inner > .next,
.carousel-inner > .prev {
  display: block;
}
.carousel-inner > .active {
  left: 0;
}
.carousel-inner > .next,
.carousel-inner > .prev {
  position: absolute;
  top: 0;
  width: 100%;
}
.carousel-inner > .next {
  left: 100%;
}
.carousel-inner > .prev {
  left: -100%;
}
.carousel-inner > .next.left,
.carousel-inner > .prev.right {
  left: 0;
}
.carousel-inner > .active.left {
  left: -100%;
}
.carousel-inner > .active.right {
  left: 100%;
}
.carousel-control {
  position: absolute;
  top: 0;
  left: 0;
  bottom: 0;
  width: 15%;
  opacity: 0.5;
  filter: alpha(opacity=50);
  font-size: 20px;
  color: #ffffff;
  text-align: center;
  text-shadow: 0 1px 2px rgba(0, 0, 0, 0.6);
  background-color: rgba(0, 0, 0, 0);
}
.carousel-control.left {
  background-image: -webkit-linear-gradient(left, rgba(0, 0, 0, 0.5) 0%, rgba(0, 0, 0, 0.0001) 100%);
  background-image: -o-linear-gradient(left, rgba(0, 0, 0, 0.5) 0%, rgba(0, 0, 0, 0.0001) 100%);
  background-image: linear-gradient(to right, rgba(0, 0, 0, 0.5) 0%, rgba(0, 0, 0, 0.0001) 100%);
  background-repeat: repeat-x;
  filter: progid:DXImageTransform.Microsoft.gradient(startColorstr='#80000000', endColorstr='#00000000', GradientType=1);
}
.carousel-control.right {
  left: auto;
  right: 0;
  background-image: -webkit-linear-gradient(left, rgba(0, 0, 0, 0.0001) 0%, rgba(0, 0, 0, 0.5) 100%);
  background-image: -o-linear-gradient(left, rgba(0, 0, 0, 0.0001) 0%, rgba(0, 0, 0, 0.5) 100%);
  background-image: linear-gradient(to right, rgba(0, 0, 0, 0.0001) 0%, rgba(0, 0, 0, 0.5) 100%);
  background-repeat: repeat-x;
  filter: progid:DXImageTransform.Microsoft.gradient(startColorstr='#00000000', endColorstr='#80000000', GradientType=1);
}
.carousel-control:hover,
.carousel-control:focus {
  outline: 0;
  color: #ffffff;
  text-decoration: none;
  opacity: 0.9;
  filter: alpha(opacity=90);
}
.carousel-control .icon-prev,
.carousel-control .icon-next,
.carousel-control .glyphicon-chevron-left,
.carousel-control .glyphicon-chevron-right {
  position: absolute;
  top: 50%;
  margin-top: -10px;
  z-index: 5;
  display: inline-block;
}
.carousel-control .icon-prev,
.carousel-control .glyphicon-chevron-left {
  left: 50%;
  margin-left: -10px;
}
.carousel-control .icon-next,
.carousel-control .glyphicon-chevron-right {
  right: 50%;
  margin-right: -10px;
}
.carousel-control .icon-prev,
.carousel-control .icon-next {
  width: 20px;
  height: 20px;
  line-height: 1;
  font-family: serif;
}
.carousel-control .icon-prev:before {
  content: '\2039';
}
.carousel-control .icon-next:before {
  content: '\203a';
}
.carousel-indicators {
  position: absolute;
  bottom: 10px;
  left: 50%;
  z-index: 15;
  width: 60%;
  margin-left: -30%;
  padding-left: 0;
  list-style: none;
  text-align: center;
}
.carousel-indicators li {
  display: inline-block;
  width: 10px;
  height: 10px;
  margin: 1px;
  text-indent: -999px;
  border: 1px solid #ffffff;
  border-radius: 10px;
  cursor: pointer;
  background-color: #000 \9;
  background-color: rgba(0, 0, 0, 0);
}
.carousel-indicators .active {
  margin: 0;
  width: 12px;
  height: 12px;
  background-color: #ffffff;
}
.carousel-caption {
  position: absolute;
  left: 15%;
  right: 15%;
  bottom: 20px;
  z-index: 10;
  padding-top: 20px;
  padding-bottom: 20px;
  color: #ffffff;
  text-align: center;
  text-shadow: 0 1px 2px rgba(0, 0, 0, 0.6);
}
.carousel-caption .btn {
  text-shadow: none;
}
@media screen and (min-width: 768px) {
  .carousel-control .glyphicon-chevron-left,
  .carousel-control .glyphicon-chevron-right,
  .carousel-control .icon-prev,
  .carousel-control .icon-next {
    width: 30px;
    height: 30px;
    margin-top: -10px;
    font-size: 30px;
  }
  .carousel-control .glyphicon-chevron-left,
  .carousel-control .icon-prev {
    margin-left: -10px;
  }
  .carousel-control .glyphicon-chevron-right,
  .carousel-control .icon-next {
    margin-right: -10px;
  }
  .carousel-caption {
    left: 20%;
    right: 20%;
    padding-bottom: 30px;
  }
  .carousel-indicators {
    bottom: 20px;
  }
}
.clearfix:before,
.clearfix:after,
.dl-horizontal dd:before,
.dl-horizontal dd:after,
.container:before,
.container:after,
.container-fluid:before,
.container-fluid:after,
.row:before,
.row:after,
.form-horizontal .form-group:before,
.form-horizontal .form-group:after,
.btn-toolbar:before,
.btn-toolbar:after,
.btn-group-vertical > .btn-group:before,
.btn-group-vertical > .btn-group:after,
.nav:before,
.nav:after,
.navbar:before,
.navbar:after,
.navbar-header:before,
.navbar-header:after,
.navbar-collapse:before,
.navbar-collapse:after,
.pager:before,
.pager:after,
.panel-body:before,
.panel-body:after,
.modal-header:before,
.modal-header:after,
.modal-footer:before,
.modal-footer:after,
.item_buttons:before,
.item_buttons:after {
  content: " ";
  display: table;
}
.clearfix:after,
.dl-horizontal dd:after,
.container:after,
.container-fluid:after,
.row:after,
.form-horizontal .form-group:after,
.btn-toolbar:after,
.btn-group-vertical > .btn-group:after,
.nav:after,
.navbar:after,
.navbar-header:after,
.navbar-collapse:after,
.pager:after,
.panel-body:after,
.modal-header:after,
.modal-footer:after,
.item_buttons:after {
  clear: both;
}
.center-block {
  display: block;
  margin-left: auto;
  margin-right: auto;
}
.pull-right {
  float: right !important;
}
.pull-left {
  float: left !important;
}
.hide {
  display: none !important;
}
.show {
  display: block !important;
}
.invisible {
  visibility: hidden;
}
.text-hide {
  font: 0/0 a;
  color: transparent;
  text-shadow: none;
  background-color: transparent;
  border: 0;
}
.hidden {
  display: none !important;
}
.affix {
  position: fixed;
}
@-ms-viewport {
  width: device-width;
}
.visible-xs,
.visible-sm,
.visible-md,
.visible-lg {
  display: none !important;
}
.visible-xs-block,
.visible-xs-inline,
.visible-xs-inline-block,
.visible-sm-block,
.visible-sm-inline,
.visible-sm-inline-block,
.visible-md-block,
.visible-md-inline,
.visible-md-inline-block,
.visible-lg-block,
.visible-lg-inline,
.visible-lg-inline-block {
  display: none !important;
}
@media (max-width: 767px) {
  .visible-xs {
    display: block !important;
  }
  table.visible-xs {
    display: table !important;
  }
  tr.visible-xs {
    display: table-row !important;
  }
  th.visible-xs,
  td.visible-xs {
    display: table-cell !important;
  }
}
@media (max-width: 767px) {
  .visible-xs-block {
    display: block !important;
  }
}
@media (max-width: 767px) {
  .visible-xs-inline {
    display: inline !important;
  }
}
@media (max-width: 767px) {
  .visible-xs-inline-block {
    display: inline-block !important;
  }
}
@media (min-width: 768px) and (max-width: 991px) {
  .visible-sm {
    display: block !important;
  }
  table.visible-sm {
    display: table !important;
  }
  tr.visible-sm {
    display: table-row !important;
  }
  th.visible-sm,
  td.visible-sm {
    display: table-cell !important;
  }
}
@media (min-width: 768px) and (max-width: 991px) {
  .visible-sm-block {
    display: block !important;
  }
}
@media (min-width: 768px) and (max-width: 991px) {
  .visible-sm-inline {
    display: inline !important;
  }
}
@media (min-width: 768px) and (max-width: 991px) {
  .visible-sm-inline-block {
    display: inline-block !important;
  }
}
@media (min-width: 992px) and (max-width: 1199px) {
  .visible-md {
    display: block !important;
  }
  table.visible-md {
    display: table !important;
  }
  tr.visible-md {
    display: table-row !important;
  }
  th.visible-md,
  td.visible-md {
    display: table-cell !important;
  }
}
@media (min-width: 992px) and (max-width: 1199px) {
  .visible-md-block {
    display: block !important;
  }
}
@media (min-width: 992px) and (max-width: 1199px) {
  .visible-md-inline {
    display: inline !important;
  }
}
@media (min-width: 992px) and (max-width: 1199px) {
  .visible-md-inline-block {
    display: inline-block !important;
  }
}
@media (min-width: 1200px) {
  .visible-lg {
    display: block !important;
  }
  table.visible-lg {
    display: table !important;
  }
  tr.visible-lg {
    display: table-row !important;
  }
  th.visible-lg,
  td.visible-lg {
    display: table-cell !important;
  }
}
@media (min-width: 1200px) {
  .visible-lg-block {
    display: block !important;
  }
}
@media (min-width: 1200px) {
  .visible-lg-inline {
    display: inline !important;
  }
}
@media (min-width: 1200px) {
  .visible-lg-inline-block {
    display: inline-block !important;
  }
}
@media (max-width: 767px) {
  .hidden-xs {
    display: none !important;
  }
}
@media (min-width: 768px) and (max-width: 991px) {
  .hidden-sm {
    display: none !important;
  }
}
@media (min-width: 992px) and (max-width: 1199px) {
  .hidden-md {
    display: none !important;
  }
}
@media (min-width: 1200px) {
  .hidden-lg {
    display: none !important;
  }
}
.visible-print {
  display: none !important;
}
@media print {
  .visible-print {
    display: block !important;
  }
  table.visible-print {
    display: table !important;
  }
  tr.visible-print {
    display: table-row !important;
  }
  th.visible-print,
  td.visible-print {
    display: table-cell !important;
  }
}
.visible-print-block {
  display: none !important;
}
@media print {
  .visible-print-block {
    display: block !important;
  }
}
.visible-print-inline {
  display: none !important;
}
@media print {
  .visible-print-inline {
    display: inline !important;
  }
}
.visible-print-inline-block {
  display: none !important;
}
@media print {
  .visible-print-inline-block {
    display: inline-block !important;
  }
}
@media print {
  .hidden-print {
    display: none !important;
  }
}
/*!
*
* Font Awesome
*
*/
/*!
 *  Font Awesome 4.7.0 by @davegandy - http://fontawesome.io - @fontawesome
 *  License - http://fontawesome.io/license (Font: SIL OFL 1.1, CSS: MIT License)
 */
/* FONT PATH
 * -------------------------- */
@font-face {
  font-family: 'FontAwesome';
  src: url('../components/font-awesome/fonts/fontawesome-webfont.eot?v=4.7.0');
  src: url('../components/font-awesome/fonts/fontawesome-webfont.eot?#iefix&v=4.7.0') format('embedded-opentype'), url('../components/font-awesome/fonts/fontawesome-webfont.woff2?v=4.7.0') format('woff2'), url('../components/font-awesome/fonts/fontawesome-webfont.woff?v=4.7.0') format('woff'), url('../components/font-awesome/fonts/fontawesome-webfont.ttf?v=4.7.0') format('truetype'), url('../components/font-awesome/fonts/fontawesome-webfont.svg?v=4.7.0#fontawesomeregular') format('svg');
  font-weight: normal;
  font-style: normal;
}
.fa {
  display: inline-block;
  font: normal normal normal 14px/1 FontAwesome;
  font-size: inherit;
  text-rendering: auto;
  -webkit-font-smoothing: antialiased;
  -moz-osx-font-smoothing: grayscale;
}
/* makes the font 33% larger relative to the icon container */
.fa-lg {
  font-size: 1.33333333em;
  line-height: 0.75em;
  vertical-align: -15%;
}
.fa-2x {
  font-size: 2em;
}
.fa-3x {
  font-size: 3em;
}
.fa-4x {
  font-size: 4em;
}
.fa-5x {
  font-size: 5em;
}
.fa-fw {
  width: 1.28571429em;
  text-align: center;
}
.fa-ul {
  padding-left: 0;
  margin-left: 2.14285714em;
  list-style-type: none;
}
.fa-ul > li {
  position: relative;
}
.fa-li {
  position: absolute;
  left: -2.14285714em;
  width: 2.14285714em;
  top: 0.14285714em;
  text-align: center;
}
.fa-li.fa-lg {
  left: -1.85714286em;
}
.fa-border {
  padding: .2em .25em .15em;
  border: solid 0.08em #eeeeee;
  border-radius: .1em;
}
.fa-pull-left {
  float: left;
}
.fa-pull-right {
  float: right;
}
.fa.fa-pull-left {
  margin-right: .3em;
}
.fa.fa-pull-right {
  margin-left: .3em;
}
/* Deprecated as of 4.4.0 */
.pull-right {
  float: right;
}
.pull-left {
  float: left;
}
.fa.pull-left {
  margin-right: .3em;
}
.fa.pull-right {
  margin-left: .3em;
}
.fa-spin {
  -webkit-animation: fa-spin 2s infinite linear;
  animation: fa-spin 2s infinite linear;
}
.fa-pulse {
  -webkit-animation: fa-spin 1s infinite steps(8);
  animation: fa-spin 1s infinite steps(8);
}
@-webkit-keyframes fa-spin {
  0% {
    -webkit-transform: rotate(0deg);
    transform: rotate(0deg);
  }
  100% {
    -webkit-transform: rotate(359deg);
    transform: rotate(359deg);
  }
}
@keyframes fa-spin {
  0% {
    -webkit-transform: rotate(0deg);
    transform: rotate(0deg);
  }
  100% {
    -webkit-transform: rotate(359deg);
    transform: rotate(359deg);
  }
}
.fa-rotate-90 {
  -ms-filter: "progid:DXImageTransform.Microsoft.BasicImage(rotation=1)";
  -webkit-transform: rotate(90deg);
  -ms-transform: rotate(90deg);
  transform: rotate(90deg);
}
.fa-rotate-180 {
  -ms-filter: "progid:DXImageTransform.Microsoft.BasicImage(rotation=2)";
  -webkit-transform: rotate(180deg);
  -ms-transform: rotate(180deg);
  transform: rotate(180deg);
}
.fa-rotate-270 {
  -ms-filter: "progid:DXImageTransform.Microsoft.BasicImage(rotation=3)";
  -webkit-transform: rotate(270deg);
  -ms-transform: rotate(270deg);
  transform: rotate(270deg);
}
.fa-flip-horizontal {
  -ms-filter: "progid:DXImageTransform.Microsoft.BasicImage(rotation=0, mirror=1)";
  -webkit-transform: scale(-1, 1);
  -ms-transform: scale(-1, 1);
  transform: scale(-1, 1);
}
.fa-flip-vertical {
  -ms-filter: "progid:DXImageTransform.Microsoft.BasicImage(rotation=2, mirror=1)";
  -webkit-transform: scale(1, -1);
  -ms-transform: scale(1, -1);
  transform: scale(1, -1);
}
:root .fa-rotate-90,
:root .fa-rotate-180,
:root .fa-rotate-270,
:root .fa-flip-horizontal,
:root .fa-flip-vertical {
  filter: none;
}
.fa-stack {
  position: relative;
  display: inline-block;
  width: 2em;
  height: 2em;
  line-height: 2em;
  vertical-align: middle;
}
.fa-stack-1x,
.fa-stack-2x {
  position: absolute;
  left: 0;
  width: 100%;
  text-align: center;
}
.fa-stack-1x {
  line-height: inherit;
}
.fa-stack-2x {
  font-size: 2em;
}
.fa-inverse {
  color: #ffffff;
}
/* Font Awesome uses the Unicode Private Use Area (PUA) to ensure screen
   readers do not read off random characters that represent icons */
.fa-glass:before {
  content: "\f000";
}
.fa-music:before {
  content: "\f001";
}
.fa-search:before {
  content: "\f002";
}
.fa-envelope-o:before {
  content: "\f003";
}
.fa-heart:before {
  content: "\f004";
}
.fa-star:before {
  content: "\f005";
}
.fa-star-o:before {
  content: "\f006";
}
.fa-user:before {
  content: "\f007";
}
.fa-film:before {
  content: "\f008";
}
.fa-th-large:before {
  content: "\f009";
}
.fa-th:before {
  content: "\f00a";
}
.fa-th-list:before {
  content: "\f00b";
}
.fa-check:before {
  content: "\f00c";
}
.fa-remove:before,
.fa-close:before,
.fa-times:before {
  content: "\f00d";
}
.fa-search-plus:before {
  content: "\f00e";
}
.fa-search-minus:before {
  content: "\f010";
}
.fa-power-off:before {
  content: "\f011";
}
.fa-signal:before {
  content: "\f012";
}
.fa-gear:before,
.fa-cog:before {
  content: "\f013";
}
.fa-trash-o:before {
  content: "\f014";
}
.fa-home:before {
  content: "\f015";
}
.fa-file-o:before {
  content: "\f016";
}
.fa-clock-o:before {
  content: "\f017";
}
.fa-road:before {
  content: "\f018";
}
.fa-download:before {
  content: "\f019";
}
.fa-arrow-circle-o-down:before {
  content: "\f01a";
}
.fa-arrow-circle-o-up:before {
  content: "\f01b";
}
.fa-inbox:before {
  content: "\f01c";
}
.fa-play-circle-o:before {
  content: "\f01d";
}
.fa-rotate-right:before,
.fa-repeat:before {
  content: "\f01e";
}
.fa-refresh:before {
  content: "\f021";
}
.fa-list-alt:before {
  content: "\f022";
}
.fa-lock:before {
  content: "\f023";
}
.fa-flag:before {
  content: "\f024";
}
.fa-headphones:before {
  content: "\f025";
}
.fa-volume-off:before {
  content: "\f026";
}
.fa-volume-down:before {
  content: "\f027";
}
.fa-volume-up:before {
  content: "\f028";
}
.fa-qrcode:before {
  content: "\f029";
}
.fa-barcode:before {
  content: "\f02a";
}
.fa-tag:before {
  content: "\f02b";
}
.fa-tags:before {
  content: "\f02c";
}
.fa-book:before {
  content: "\f02d";
}
.fa-bookmark:before {
  content: "\f02e";
}
.fa-print:before {
  content: "\f02f";
}
.fa-camera:before {
  content: "\f030";
}
.fa-font:before {
  content: "\f031";
}
.fa-bold:before {
  content: "\f032";
}
.fa-italic:before {
  content: "\f033";
}
.fa-text-height:before {
  content: "\f034";
}
.fa-text-width:before {
  content: "\f035";
}
.fa-align-left:before {
  content: "\f036";
}
.fa-align-center:before {
  content: "\f037";
}
.fa-align-right:before {
  content: "\f038";
}
.fa-align-justify:before {
  content: "\f039";
}
.fa-list:before {
  content: "\f03a";
}
.fa-dedent:before,
.fa-outdent:before {
  content: "\f03b";
}
.fa-indent:before {
  content: "\f03c";
}
.fa-video-camera:before {
  content: "\f03d";
}
.fa-photo:before,
.fa-image:before,
.fa-picture-o:before {
  content: "\f03e";
}
.fa-pencil:before {
  content: "\f040";
}
.fa-map-marker:before {
  content: "\f041";
}
.fa-adjust:before {
  content: "\f042";
}
.fa-tint:before {
  content: "\f043";
}
.fa-edit:before,
.fa-pencil-square-o:before {
  content: "\f044";
}
.fa-share-square-o:before {
  content: "\f045";
}
.fa-check-square-o:before {
  content: "\f046";
}
.fa-arrows:before {
  content: "\f047";
}
.fa-step-backward:before {
  content: "\f048";
}
.fa-fast-backward:before {
  content: "\f049";
}
.fa-backward:before {
  content: "\f04a";
}
.fa-play:before {
  content: "\f04b";
}
.fa-pause:before {
  content: "\f04c";
}
.fa-stop:before {
  content: "\f04d";
}
.fa-forward:before {
  content: "\f04e";
}
.fa-fast-forward:before {
  content: "\f050";
}
.fa-step-forward:before {
  content: "\f051";
}
.fa-eject:before {
  content: "\f052";
}
.fa-chevron-left:before {
  content: "\f053";
}
.fa-chevron-right:before {
  content: "\f054";
}
.fa-plus-circle:before {
  content: "\f055";
}
.fa-minus-circle:before {
  content: "\f056";
}
.fa-times-circle:before {
  content: "\f057";
}
.fa-check-circle:before {
  content: "\f058";
}
.fa-question-circle:before {
  content: "\f059";
}
.fa-info-circle:before {
  content: "\f05a";
}
.fa-crosshairs:before {
  content: "\f05b";
}
.fa-times-circle-o:before {
  content: "\f05c";
}
.fa-check-circle-o:before {
  content: "\f05d";
}
.fa-ban:before {
  content: "\f05e";
}
.fa-arrow-left:before {
  content: "\f060";
}
.fa-arrow-right:before {
  content: "\f061";
}
.fa-arrow-up:before {
  content: "\f062";
}
.fa-arrow-down:before {
  content: "\f063";
}
.fa-mail-forward:before,
.fa-share:before {
  content: "\f064";
}
.fa-expand:before {
  content: "\f065";
}
.fa-compress:before {
  content: "\f066";
}
.fa-plus:before {
  content: "\f067";
}
.fa-minus:before {
  content: "\f068";
}
.fa-asterisk:before {
  content: "\f069";
}
.fa-exclamation-circle:before {
  content: "\f06a";
}
.fa-gift:before {
  content: "\f06b";
}
.fa-leaf:before {
  content: "\f06c";
}
.fa-fire:before {
  content: "\f06d";
}
.fa-eye:before {
  content: "\f06e";
}
.fa-eye-slash:before {
  content: "\f070";
}
.fa-warning:before,
.fa-exclamation-triangle:before {
  content: "\f071";
}
.fa-plane:before {
  content: "\f072";
}
.fa-calendar:before {
  content: "\f073";
}
.fa-random:before {
  content: "\f074";
}
.fa-comment:before {
  content: "\f075";
}
.fa-magnet:before {
  content: "\f076";
}
.fa-chevron-up:before {
  content: "\f077";
}
.fa-chevron-down:before {
  content: "\f078";
}
.fa-retweet:before {
  content: "\f079";
}
.fa-shopping-cart:before {
  content: "\f07a";
}
.fa-folder:before {
  content: "\f07b";
}
.fa-folder-open:before {
  content: "\f07c";
}
.fa-arrows-v:before {
  content: "\f07d";
}
.fa-arrows-h:before {
  content: "\f07e";
}
.fa-bar-chart-o:before,
.fa-bar-chart:before {
  content: "\f080";
}
.fa-twitter-square:before {
  content: "\f081";
}
.fa-facebook-square:before {
  content: "\f082";
}
.fa-camera-retro:before {
  content: "\f083";
}
.fa-key:before {
  content: "\f084";
}
.fa-gears:before,
.fa-cogs:before {
  content: "\f085";
}
.fa-comments:before {
  content: "\f086";
}
.fa-thumbs-o-up:before {
  content: "\f087";
}
.fa-thumbs-o-down:before {
  content: "\f088";
}
.fa-star-half:before {
  content: "\f089";
}
.fa-heart-o:before {
  content: "\f08a";
}
.fa-sign-out:before {
  content: "\f08b";
}
.fa-linkedin-square:before {
  content: "\f08c";
}
.fa-thumb-tack:before {
  content: "\f08d";
}
.fa-external-link:before {
  content: "\f08e";
}
.fa-sign-in:before {
  content: "\f090";
}
.fa-trophy:before {
  content: "\f091";
}
.fa-github-square:before {
  content: "\f092";
}
.fa-upload:before {
  content: "\f093";
}
.fa-lemon-o:before {
  content: "\f094";
}
.fa-phone:before {
  content: "\f095";
}
.fa-square-o:before {
  content: "\f096";
}
.fa-bookmark-o:before {
  content: "\f097";
}
.fa-phone-square:before {
  content: "\f098";
}
.fa-twitter:before {
  content: "\f099";
}
.fa-facebook-f:before,
.fa-facebook:before {
  content: "\f09a";
}
.fa-github:before {
  content: "\f09b";
}
.fa-unlock:before {
  content: "\f09c";
}
.fa-credit-card:before {
  content: "\f09d";
}
.fa-feed:before,
.fa-rss:before {
  content: "\f09e";
}
.fa-hdd-o:before {
  content: "\f0a0";
}
.fa-bullhorn:before {
  content: "\f0a1";
}
.fa-bell:before {
  content: "\f0f3";
}
.fa-certificate:before {
  content: "\f0a3";
}
.fa-hand-o-right:before {
  content: "\f0a4";
}
.fa-hand-o-left:before {
  content: "\f0a5";
}
.fa-hand-o-up:before {
  content: "\f0a6";
}
.fa-hand-o-down:before {
  content: "\f0a7";
}
.fa-arrow-circle-left:before {
  content: "\f0a8";
}
.fa-arrow-circle-right:before {
  content: "\f0a9";
}
.fa-arrow-circle-up:before {
  content: "\f0aa";
}
.fa-arrow-circle-down:before {
  content: "\f0ab";
}
.fa-globe:before {
  content: "\f0ac";
}
.fa-wrench:before {
  content: "\f0ad";
}
.fa-tasks:before {
  content: "\f0ae";
}
.fa-filter:before {
  content: "\f0b0";
}
.fa-briefcase:before {
  content: "\f0b1";
}
.fa-arrows-alt:before {
  content: "\f0b2";
}
.fa-group:before,
.fa-users:before {
  content: "\f0c0";
}
.fa-chain:before,
.fa-link:before {
  content: "\f0c1";
}
.fa-cloud:before {
  content: "\f0c2";
}
.fa-flask:before {
  content: "\f0c3";
}
.fa-cut:before,
.fa-scissors:before {
  content: "\f0c4";
}
.fa-copy:before,
.fa-files-o:before {
  content: "\f0c5";
}
.fa-paperclip:before {
  content: "\f0c6";
}
.fa-save:before,
.fa-floppy-o:before {
  content: "\f0c7";
}
.fa-square:before {
  content: "\f0c8";
}
.fa-navicon:before,
.fa-reorder:before,
.fa-bars:before {
  content: "\f0c9";
}
.fa-list-ul:before {
  content: "\f0ca";
}
.fa-list-ol:before {
  content: "\f0cb";
}
.fa-strikethrough:before {
  content: "\f0cc";
}
.fa-underline:before {
  content: "\f0cd";
}
.fa-table:before {
  content: "\f0ce";
}
.fa-magic:before {
  content: "\f0d0";
}
.fa-truck:before {
  content: "\f0d1";
}
.fa-pinterest:before {
  content: "\f0d2";
}
.fa-pinterest-square:before {
  content: "\f0d3";
}
.fa-google-plus-square:before {
  content: "\f0d4";
}
.fa-google-plus:before {
  content: "\f0d5";
}
.fa-money:before {
  content: "\f0d6";
}
.fa-caret-down:before {
  content: "\f0d7";
}
.fa-caret-up:before {
  content: "\f0d8";
}
.fa-caret-left:before {
  content: "\f0d9";
}
.fa-caret-right:before {
  content: "\f0da";
}
.fa-columns:before {
  content: "\f0db";
}
.fa-unsorted:before,
.fa-sort:before {
  content: "\f0dc";
}
.fa-sort-down:before,
.fa-sort-desc:before {
  content: "\f0dd";
}
.fa-sort-up:before,
.fa-sort-asc:before {
  content: "\f0de";
}
.fa-envelope:before {
  content: "\f0e0";
}
.fa-linkedin:before {
  content: "\f0e1";
}
.fa-rotate-left:before,
.fa-undo:before {
  content: "\f0e2";
}
.fa-legal:before,
.fa-gavel:before {
  content: "\f0e3";
}
.fa-dashboard:before,
.fa-tachometer:before {
  content: "\f0e4";
}
.fa-comment-o:before {
  content: "\f0e5";
}
.fa-comments-o:before {
  content: "\f0e6";
}
.fa-flash:before,
.fa-bolt:before {
  content: "\f0e7";
}
.fa-sitemap:before {
  content: "\f0e8";
}
.fa-umbrella:before {
  content: "\f0e9";
}
.fa-paste:before,
.fa-clipboard:before {
  content: "\f0ea";
}
.fa-lightbulb-o:before {
  content: "\f0eb";
}
.fa-exchange:before {
  content: "\f0ec";
}
.fa-cloud-download:before {
  content: "\f0ed";
}
.fa-cloud-upload:before {
  content: "\f0ee";
}
.fa-user-md:before {
  content: "\f0f0";
}
.fa-stethoscope:before {
  content: "\f0f1";
}
.fa-suitcase:before {
  content: "\f0f2";
}
.fa-bell-o:before {
  content: "\f0a2";
}
.fa-coffee:before {
  content: "\f0f4";
}
.fa-cutlery:before {
  content: "\f0f5";
}
.fa-file-text-o:before {
  content: "\f0f6";
}
.fa-building-o:before {
  content: "\f0f7";
}
.fa-hospital-o:before {
  content: "\f0f8";
}
.fa-ambulance:before {
  content: "\f0f9";
}
.fa-medkit:before {
  content: "\f0fa";
}
.fa-fighter-jet:before {
  content: "\f0fb";
}
.fa-beer:before {
  content: "\f0fc";
}
.fa-h-square:before {
  content: "\f0fd";
}
.fa-plus-square:before {
  content: "\f0fe";
}
.fa-angle-double-left:before {
  content: "\f100";
}
.fa-angle-double-right:before {
  content: "\f101";
}
.fa-angle-double-up:before {
  content: "\f102";
}
.fa-angle-double-down:before {
  content: "\f103";
}
.fa-angle-left:before {
  content: "\f104";
}
.fa-angle-right:before {
  content: "\f105";
}
.fa-angle-up:before {
  content: "\f106";
}
.fa-angle-down:before {
  content: "\f107";
}
.fa-desktop:before {
  content: "\f108";
}
.fa-laptop:before {
  content: "\f109";
}
.fa-tablet:before {
  content: "\f10a";
}
.fa-mobile-phone:before,
.fa-mobile:before {
  content: "\f10b";
}
.fa-circle-o:before {
  content: "\f10c";
}
.fa-quote-left:before {
  content: "\f10d";
}
.fa-quote-right:before {
  content: "\f10e";
}
.fa-spinner:before {
  content: "\f110";
}
.fa-circle:before {
  content: "\f111";
}
.fa-mail-reply:before,
.fa-reply:before {
  content: "\f112";
}
.fa-github-alt:before {
  content: "\f113";
}
.fa-folder-o:before {
  content: "\f114";
}
.fa-folder-open-o:before {
  content: "\f115";
}
.fa-smile-o:before {
  content: "\f118";
}
.fa-frown-o:before {
  content: "\f119";
}
.fa-meh-o:before {
  content: "\f11a";
}
.fa-gamepad:before {
  content: "\f11b";
}
.fa-keyboard-o:before {
  content: "\f11c";
}
.fa-flag-o:before {
  content: "\f11d";
}
.fa-flag-checkered:before {
  content: "\f11e";
}
.fa-terminal:before {
  content: "\f120";
}
.fa-code:before {
  content: "\f121";
}
.fa-mail-reply-all:before,
.fa-reply-all:before {
  content: "\f122";
}
.fa-star-half-empty:before,
.fa-star-half-full:before,
.fa-star-half-o:before {
  content: "\f123";
}
.fa-location-arrow:before {
  content: "\f124";
}
.fa-crop:before {
  content: "\f125";
}
.fa-code-fork:before {
  content: "\f126";
}
.fa-unlink:before,
.fa-chain-broken:before {
  content: "\f127";
}
.fa-question:before {
  content: "\f128";
}
.fa-info:before {
  content: "\f129";
}
.fa-exclamation:before {
  content: "\f12a";
}
.fa-superscript:before {
  content: "\f12b";
}
.fa-subscript:before {
  content: "\f12c";
}
.fa-eraser:before {
  content: "\f12d";
}
.fa-puzzle-piece:before {
  content: "\f12e";
}
.fa-microphone:before {
  content: "\f130";
}
.fa-microphone-slash:before {
  content: "\f131";
}
.fa-shield:before {
  content: "\f132";
}
.fa-calendar-o:before {
  content: "\f133";
}
.fa-fire-extinguisher:before {
  content: "\f134";
}
.fa-rocket:before {
  content: "\f135";
}
.fa-maxcdn:before {
  content: "\f136";
}
.fa-chevron-circle-left:before {
  content: "\f137";
}
.fa-chevron-circle-right:before {
  content: "\f138";
}
.fa-chevron-circle-up:before {
  content: "\f139";
}
.fa-chevron-circle-down:before {
  content: "\f13a";
}
.fa-html5:before {
  content: "\f13b";
}
.fa-css3:before {
  content: "\f13c";
}
.fa-anchor:before {
  content: "\f13d";
}
.fa-unlock-alt:before {
  content: "\f13e";
}
.fa-bullseye:before {
  content: "\f140";
}
.fa-ellipsis-h:before {
  content: "\f141";
}
.fa-ellipsis-v:before {
  content: "\f142";
}
.fa-rss-square:before {
  content: "\f143";
}
.fa-play-circle:before {
  content: "\f144";
}
.fa-ticket:before {
  content: "\f145";
}
.fa-minus-square:before {
  content: "\f146";
}
.fa-minus-square-o:before {
  content: "\f147";
}
.fa-level-up:before {
  content: "\f148";
}
.fa-level-down:before {
  content: "\f149";
}
.fa-check-square:before {
  content: "\f14a";
}
.fa-pencil-square:before {
  content: "\f14b";
}
.fa-external-link-square:before {
  content: "\f14c";
}
.fa-share-square:before {
  content: "\f14d";
}
.fa-compass:before {
  content: "\f14e";
}
.fa-toggle-down:before,
.fa-caret-square-o-down:before {
  content: "\f150";
}
.fa-toggle-up:before,
.fa-caret-square-o-up:before {
  content: "\f151";
}
.fa-toggle-right:before,
.fa-caret-square-o-right:before {
  content: "\f152";
}
.fa-euro:before,
.fa-eur:before {
  content: "\f153";
}
.fa-gbp:before {
  content: "\f154";
}
.fa-dollar:before,
.fa-usd:before {
  content: "\f155";
}
.fa-rupee:before,
.fa-inr:before {
  content: "\f156";
}
.fa-cny:before,
.fa-rmb:before,
.fa-yen:before,
.fa-jpy:before {
  content: "\f157";
}
.fa-ruble:before,
.fa-rouble:before,
.fa-rub:before {
  content: "\f158";
}
.fa-won:before,
.fa-krw:before {
  content: "\f159";
}
.fa-bitcoin:before,
.fa-btc:before {
  content: "\f15a";
}
.fa-file:before {
  content: "\f15b";
}
.fa-file-text:before {
  content: "\f15c";
}
.fa-sort-alpha-asc:before {
  content: "\f15d";
}
.fa-sort-alpha-desc:before {
  content: "\f15e";
}
.fa-sort-amount-asc:before {
  content: "\f160";
}
.fa-sort-amount-desc:before {
  content: "\f161";
}
.fa-sort-numeric-asc:before {
  content: "\f162";
}
.fa-sort-numeric-desc:before {
  content: "\f163";
}
.fa-thumbs-up:before {
  content: "\f164";
}
.fa-thumbs-down:before {
  content: "\f165";
}
.fa-youtube-square:before {
  content: "\f166";
}
.fa-youtube:before {
  content: "\f167";
}
.fa-xing:before {
  content: "\f168";
}
.fa-xing-square:before {
  content: "\f169";
}
.fa-youtube-play:before {
  content: "\f16a";
}
.fa-dropbox:before {
  content: "\f16b";
}
.fa-stack-overflow:before {
  content: "\f16c";
}
.fa-instagram:before {
  content: "\f16d";
}
.fa-flickr:before {
  content: "\f16e";
}
.fa-adn:before {
  content: "\f170";
}
.fa-bitbucket:before {
  content: "\f171";
}
.fa-bitbucket-square:before {
  content: "\f172";
}
.fa-tumblr:before {
  content: "\f173";
}
.fa-tumblr-square:before {
  content: "\f174";
}
.fa-long-arrow-down:before {
  content: "\f175";
}
.fa-long-arrow-up:before {
  content: "\f176";
}
.fa-long-arrow-left:before {
  content: "\f177";
}
.fa-long-arrow-right:before {
  content: "\f178";
}
.fa-apple:before {
  content: "\f179";
}
.fa-windows:before {
  content: "\f17a";
}
.fa-android:before {
  content: "\f17b";
}
.fa-linux:before {
  content: "\f17c";
}
.fa-dribbble:before {
  content: "\f17d";
}
.fa-skype:before {
  content: "\f17e";
}
.fa-foursquare:before {
  content: "\f180";
}
.fa-trello:before {
  content: "\f181";
}
.fa-female:before {
  content: "\f182";
}
.fa-male:before {
  content: "\f183";
}
.fa-gittip:before,
.fa-gratipay:before {
  content: "\f184";
}
.fa-sun-o:before {
  content: "\f185";
}
.fa-moon-o:before {
  content: "\f186";
}
.fa-archive:before {
  content: "\f187";
}
.fa-bug:before {
  content: "\f188";
}
.fa-vk:before {
  content: "\f189";
}
.fa-weibo:before {
  content: "\f18a";
}
.fa-renren:before {
  content: "\f18b";
}
.fa-pagelines:before {
  content: "\f18c";
}
.fa-stack-exchange:before {
  content: "\f18d";
}
.fa-arrow-circle-o-right:before {
  content: "\f18e";
}
.fa-arrow-circle-o-left:before {
  content: "\f190";
}
.fa-toggle-left:before,
.fa-caret-square-o-left:before {
  content: "\f191";
}
.fa-dot-circle-o:before {
  content: "\f192";
}
.fa-wheelchair:before {
  content: "\f193";
}
.fa-vimeo-square:before {
  content: "\f194";
}
.fa-turkish-lira:before,
.fa-try:before {
  content: "\f195";
}
.fa-plus-square-o:before {
  content: "\f196";
}
.fa-space-shuttle:before {
  content: "\f197";
}
.fa-slack:before {
  content: "\f198";
}
.fa-envelope-square:before {
  content: "\f199";
}
.fa-wordpress:before {
  content: "\f19a";
}
.fa-openid:before {
  content: "\f19b";
}
.fa-institution:before,
.fa-bank:before,
.fa-university:before {
  content: "\f19c";
}
.fa-mortar-board:before,
.fa-graduation-cap:before {
  content: "\f19d";
}
.fa-yahoo:before {
  content: "\f19e";
}
.fa-google:before {
  content: "\f1a0";
}
.fa-reddit:before {
  content: "\f1a1";
}
.fa-reddit-square:before {
  content: "\f1a2";
}
.fa-stumbleupon-circle:before {
  content: "\f1a3";
}
.fa-stumbleupon:before {
  content: "\f1a4";
}
.fa-delicious:before {
  content: "\f1a5";
}
.fa-digg:before {
  content: "\f1a6";
}
.fa-pied-piper-pp:before {
  content: "\f1a7";
}
.fa-pied-piper-alt:before {
  content: "\f1a8";
}
.fa-drupal:before {
  content: "\f1a9";
}
.fa-joomla:before {
  content: "\f1aa";
}
.fa-language:before {
  content: "\f1ab";
}
.fa-fax:before {
  content: "\f1ac";
}
.fa-building:before {
  content: "\f1ad";
}
.fa-child:before {
  content: "\f1ae";
}
.fa-paw:before {
  content: "\f1b0";
}
.fa-spoon:before {
  content: "\f1b1";
}
.fa-cube:before {
  content: "\f1b2";
}
.fa-cubes:before {
  content: "\f1b3";
}
.fa-behance:before {
  content: "\f1b4";
}
.fa-behance-square:before {
  content: "\f1b5";
}
.fa-steam:before {
  content: "\f1b6";
}
.fa-steam-square:before {
  content: "\f1b7";
}
.fa-recycle:before {
  content: "\f1b8";
}
.fa-automobile:before,
.fa-car:before {
  content: "\f1b9";
}
.fa-cab:before,
.fa-taxi:before {
  content: "\f1ba";
}
.fa-tree:before {
  content: "\f1bb";
}
.fa-spotify:before {
  content: "\f1bc";
}
.fa-deviantart:before {
  content: "\f1bd";
}
.fa-soundcloud:before {
  content: "\f1be";
}
.fa-database:before {
  content: "\f1c0";
}
.fa-file-pdf-o:before {
  content: "\f1c1";
}
.fa-file-word-o:before {
  content: "\f1c2";
}
.fa-file-excel-o:before {
  content: "\f1c3";
}
.fa-file-powerpoint-o:before {
  content: "\f1c4";
}
.fa-file-photo-o:before,
.fa-file-picture-o:before,
.fa-file-image-o:before {
  content: "\f1c5";
}
.fa-file-zip-o:before,
.fa-file-archive-o:before {
  content: "\f1c6";
}
.fa-file-sound-o:before,
.fa-file-audio-o:before {
  content: "\f1c7";
}
.fa-file-movie-o:before,
.fa-file-video-o:before {
  content: "\f1c8";
}
.fa-file-code-o:before {
  content: "\f1c9";
}
.fa-vine:before {
  content: "\f1ca";
}
.fa-codepen:before {
  content: "\f1cb";
}
.fa-jsfiddle:before {
  content: "\f1cc";
}
.fa-life-bouy:before,
.fa-life-buoy:before,
.fa-life-saver:before,
.fa-support:before,
.fa-life-ring:before {
  content: "\f1cd";
}
.fa-circle-o-notch:before {
  content: "\f1ce";
}
.fa-ra:before,
.fa-resistance:before,
.fa-rebel:before {
  content: "\f1d0";
}
.fa-ge:before,
.fa-empire:before {
  content: "\f1d1";
}
.fa-git-square:before {
  content: "\f1d2";
}
.fa-git:before {
  content: "\f1d3";
}
.fa-y-combinator-square:before,
.fa-yc-square:before,
.fa-hacker-news:before {
  content: "\f1d4";
}
.fa-tencent-weibo:before {
  content: "\f1d5";
}
.fa-qq:before {
  content: "\f1d6";
}
.fa-wechat:before,
.fa-weixin:before {
  content: "\f1d7";
}
.fa-send:before,
.fa-paper-plane:before {
  content: "\f1d8";
}
.fa-send-o:before,
.fa-paper-plane-o:before {
  content: "\f1d9";
}
.fa-history:before {
  content: "\f1da";
}
.fa-circle-thin:before {
  content: "\f1db";
}
.fa-header:before {
  content: "\f1dc";
}
.fa-paragraph:before {
  content: "\f1dd";
}
.fa-sliders:before {
  content: "\f1de";
}
.fa-share-alt:before {
  content: "\f1e0";
}
.fa-share-alt-square:before {
  content: "\f1e1";
}
.fa-bomb:before {
  content: "\f1e2";
}
.fa-soccer-ball-o:before,
.fa-futbol-o:before {
  content: "\f1e3";
}
.fa-tty:before {
  content: "\f1e4";
}
.fa-binoculars:before {
  content: "\f1e5";
}
.fa-plug:before {
  content: "\f1e6";
}
.fa-slideshare:before {
  content: "\f1e7";
}
.fa-twitch:before {
  content: "\f1e8";
}
.fa-yelp:before {
  content: "\f1e9";
}
.fa-newspaper-o:before {
  content: "\f1ea";
}
.fa-wifi:before {
  content: "\f1eb";
}
.fa-calculator:before {
  content: "\f1ec";
}
.fa-paypal:before {
  content: "\f1ed";
}
.fa-google-wallet:before {
  content: "\f1ee";
}
.fa-cc-visa:before {
  content: "\f1f0";
}
.fa-cc-mastercard:before {
  content: "\f1f1";
}
.fa-cc-discover:before {
  content: "\f1f2";
}
.fa-cc-amex:before {
  content: "\f1f3";
}
.fa-cc-paypal:before {
  content: "\f1f4";
}
.fa-cc-stripe:before {
  content: "\f1f5";
}
.fa-bell-slash:before {
  content: "\f1f6";
}
.fa-bell-slash-o:before {
  content: "\f1f7";
}
.fa-trash:before {
  content: "\f1f8";
}
.fa-copyright:before {
  content: "\f1f9";
}
.fa-at:before {
  content: "\f1fa";
}
.fa-eyedropper:before {
  content: "\f1fb";
}
.fa-paint-brush:before {
  content: "\f1fc";
}
.fa-birthday-cake:before {
  content: "\f1fd";
}
.fa-area-chart:before {
  content: "\f1fe";
}
.fa-pie-chart:before {
  content: "\f200";
}
.fa-line-chart:before {
  content: "\f201";
}
.fa-lastfm:before {
  content: "\f202";
}
.fa-lastfm-square:before {
  content: "\f203";
}
.fa-toggle-off:before {
  content: "\f204";
}
.fa-toggle-on:before {
  content: "\f205";
}
.fa-bicycle:before {
  content: "\f206";
}
.fa-bus:before {
  content: "\f207";
}
.fa-ioxhost:before {
  content: "\f208";
}
.fa-angellist:before {
  content: "\f209";
}
.fa-cc:before {
  content: "\f20a";
}
.fa-shekel:before,
.fa-sheqel:before,
.fa-ils:before {
  content: "\f20b";
}
.fa-meanpath:before {
  content: "\f20c";
}
.fa-buysellads:before {
  content: "\f20d";
}
.fa-connectdevelop:before {
  content: "\f20e";
}
.fa-dashcube:before {
  content: "\f210";
}
.fa-forumbee:before {
  content: "\f211";
}
.fa-leanpub:before {
  content: "\f212";
}
.fa-sellsy:before {
  content: "\f213";
}
.fa-shirtsinbulk:before {
  content: "\f214";
}
.fa-simplybuilt:before {
  content: "\f215";
}
.fa-skyatlas:before {
  content: "\f216";
}
.fa-cart-plus:before {
  content: "\f217";
}
.fa-cart-arrow-down:before {
  content: "\f218";
}
.fa-diamond:before {
  content: "\f219";
}
.fa-ship:before {
  content: "\f21a";
}
.fa-user-secret:before {
  content: "\f21b";
}
.fa-motorcycle:before {
  content: "\f21c";
}
.fa-street-view:before {
  content: "\f21d";
}
.fa-heartbeat:before {
  content: "\f21e";
}
.fa-venus:before {
  content: "\f221";
}
.fa-mars:before {
  content: "\f222";
}
.fa-mercury:before {
  content: "\f223";
}
.fa-intersex:before,
.fa-transgender:before {
  content: "\f224";
}
.fa-transgender-alt:before {
  content: "\f225";
}
.fa-venus-double:before {
  content: "\f226";
}
.fa-mars-double:before {
  content: "\f227";
}
.fa-venus-mars:before {
  content: "\f228";
}
.fa-mars-stroke:before {
  content: "\f229";
}
.fa-mars-stroke-v:before {
  content: "\f22a";
}
.fa-mars-stroke-h:before {
  content: "\f22b";
}
.fa-neuter:before {
  content: "\f22c";
}
.fa-genderless:before {
  content: "\f22d";
}
.fa-facebook-official:before {
  content: "\f230";
}
.fa-pinterest-p:before {
  content: "\f231";
}
.fa-whatsapp:before {
  content: "\f232";
}
.fa-server:before {
  content: "\f233";
}
.fa-user-plus:before {
  content: "\f234";
}
.fa-user-times:before {
  content: "\f235";
}
.fa-hotel:before,
.fa-bed:before {
  content: "\f236";
}
.fa-viacoin:before {
  content: "\f237";
}
.fa-train:before {
  content: "\f238";
}
.fa-subway:before {
  content: "\f239";
}
.fa-medium:before {
  content: "\f23a";
}
.fa-yc:before,
.fa-y-combinator:before {
  content: "\f23b";
}
.fa-optin-monster:before {
  content: "\f23c";
}
.fa-opencart:before {
  content: "\f23d";
}
.fa-expeditedssl:before {
  content: "\f23e";
}
.fa-battery-4:before,
.fa-battery:before,
.fa-battery-full:before {
  content: "\f240";
}
.fa-battery-3:before,
.fa-battery-three-quarters:before {
  content: "\f241";
}
.fa-battery-2:before,
.fa-battery-half:before {
  content: "\f242";
}
.fa-battery-1:before,
.fa-battery-quarter:before {
  content: "\f243";
}
.fa-battery-0:before,
.fa-battery-empty:before {
  content: "\f244";
}
.fa-mouse-pointer:before {
  content: "\f245";
}
.fa-i-cursor:before {
  content: "\f246";
}
.fa-object-group:before {
  content: "\f247";
}
.fa-object-ungroup:before {
  content: "\f248";
}
.fa-sticky-note:before {
  content: "\f249";
}
.fa-sticky-note-o:before {
  content: "\f24a";
}
.fa-cc-jcb:before {
  content: "\f24b";
}
.fa-cc-diners-club:before {
  content: "\f24c";
}
.fa-clone:before {
  content: "\f24d";
}
.fa-balance-scale:before {
  content: "\f24e";
}
.fa-hourglass-o:before {
  content: "\f250";
}
.fa-hourglass-1:before,
.fa-hourglass-start:before {
  content: "\f251";
}
.fa-hourglass-2:before,
.fa-hourglass-half:before {
  content: "\f252";
}
.fa-hourglass-3:before,
.fa-hourglass-end:before {
  content: "\f253";
}
.fa-hourglass:before {
  content: "\f254";
}
.fa-hand-grab-o:before,
.fa-hand-rock-o:before {
  content: "\f255";
}
.fa-hand-stop-o:before,
.fa-hand-paper-o:before {
  content: "\f256";
}
.fa-hand-scissors-o:before {
  content: "\f257";
}
.fa-hand-lizard-o:before {
  content: "\f258";
}
.fa-hand-spock-o:before {
  content: "\f259";
}
.fa-hand-pointer-o:before {
  content: "\f25a";
}
.fa-hand-peace-o:before {
  content: "\f25b";
}
.fa-trademark:before {
  content: "\f25c";
}
.fa-registered:before {
  content: "\f25d";
}
.fa-creative-commons:before {
  content: "\f25e";
}
.fa-gg:before {
  content: "\f260";
}
.fa-gg-circle:before {
  content: "\f261";
}
.fa-tripadvisor:before {
  content: "\f262";
}
.fa-odnoklassniki:before {
  content: "\f263";
}
.fa-odnoklassniki-square:before {
  content: "\f264";
}
.fa-get-pocket:before {
  content: "\f265";
}
.fa-wikipedia-w:before {
  content: "\f266";
}
.fa-safari:before {
  content: "\f267";
}
.fa-chrome:before {
  content: "\f268";
}
.fa-firefox:before {
  content: "\f269";
}
.fa-opera:before {
  content: "\f26a";
}
.fa-internet-explorer:before {
  content: "\f26b";
}
.fa-tv:before,
.fa-television:before {
  content: "\f26c";
}
.fa-contao:before {
  content: "\f26d";
}
.fa-500px:before {
  content: "\f26e";
}
.fa-amazon:before {
  content: "\f270";
}
.fa-calendar-plus-o:before {
  content: "\f271";
}
.fa-calendar-minus-o:before {
  content: "\f272";
}
.fa-calendar-times-o:before {
  content: "\f273";
}
.fa-calendar-check-o:before {
  content: "\f274";
}
.fa-industry:before {
  content: "\f275";
}
.fa-map-pin:before {
  content: "\f276";
}
.fa-map-signs:before {
  content: "\f277";
}
.fa-map-o:before {
  content: "\f278";
}
.fa-map:before {
  content: "\f279";
}
.fa-commenting:before {
  content: "\f27a";
}
.fa-commenting-o:before {
  content: "\f27b";
}
.fa-houzz:before {
  content: "\f27c";
}
.fa-vimeo:before {
  content: "\f27d";
}
.fa-black-tie:before {
  content: "\f27e";
}
.fa-fonticons:before {
  content: "\f280";
}
.fa-reddit-alien:before {
  content: "\f281";
}
.fa-edge:before {
  content: "\f282";
}
.fa-credit-card-alt:before {
  content: "\f283";
}
.fa-codiepie:before {
  content: "\f284";
}
.fa-modx:before {
  content: "\f285";
}
.fa-fort-awesome:before {
  content: "\f286";
}
.fa-usb:before {
  content: "\f287";
}
.fa-product-hunt:before {
  content: "\f288";
}
.fa-mixcloud:before {
  content: "\f289";
}
.fa-scribd:before {
  content: "\f28a";
}
.fa-pause-circle:before {
  content: "\f28b";
}
.fa-pause-circle-o:before {
  content: "\f28c";
}
.fa-stop-circle:before {
  content: "\f28d";
}
.fa-stop-circle-o:before {
  content: "\f28e";
}
.fa-shopping-bag:before {
  content: "\f290";
}
.fa-shopping-basket:before {
  content: "\f291";
}
.fa-hashtag:before {
  content: "\f292";
}
.fa-bluetooth:before {
  content: "\f293";
}
.fa-bluetooth-b:before {
  content: "\f294";
}
.fa-percent:before {
  content: "\f295";
}
.fa-gitlab:before {
  content: "\f296";
}
.fa-wpbeginner:before {
  content: "\f297";
}
.fa-wpforms:before {
  content: "\f298";
}
.fa-envira:before {
  content: "\f299";
}
.fa-universal-access:before {
  content: "\f29a";
}
.fa-wheelchair-alt:before {
  content: "\f29b";
}
.fa-question-circle-o:before {
  content: "\f29c";
}
.fa-blind:before {
  content: "\f29d";
}
.fa-audio-description:before {
  content: "\f29e";
}
.fa-volume-control-phone:before {
  content: "\f2a0";
}
.fa-braille:before {
  content: "\f2a1";
}
.fa-assistive-listening-systems:before {
  content: "\f2a2";
}
.fa-asl-interpreting:before,
.fa-american-sign-language-interpreting:before {
  content: "\f2a3";
}
.fa-deafness:before,
.fa-hard-of-hearing:before,
.fa-deaf:before {
  content: "\f2a4";
}
.fa-glide:before {
  content: "\f2a5";
}
.fa-glide-g:before {
  content: "\f2a6";
}
.fa-signing:before,
.fa-sign-language:before {
  content: "\f2a7";
}
.fa-low-vision:before {
  content: "\f2a8";
}
.fa-viadeo:before {
  content: "\f2a9";
}
.fa-viadeo-square:before {
  content: "\f2aa";
}
.fa-snapchat:before {
  content: "\f2ab";
}
.fa-snapchat-ghost:before {
  content: "\f2ac";
}
.fa-snapchat-square:before {
  content: "\f2ad";
}
.fa-pied-piper:before {
  content: "\f2ae";
}
.fa-first-order:before {
  content: "\f2b0";
}
.fa-yoast:before {
  content: "\f2b1";
}
.fa-themeisle:before {
  content: "\f2b2";
}
.fa-google-plus-circle:before,
.fa-google-plus-official:before {
  content: "\f2b3";
}
.fa-fa:before,
.fa-font-awesome:before {
  content: "\f2b4";
}
.fa-handshake-o:before {
  content: "\f2b5";
}
.fa-envelope-open:before {
  content: "\f2b6";
}
.fa-envelope-open-o:before {
  content: "\f2b7";
}
.fa-linode:before {
  content: "\f2b8";
}
.fa-address-book:before {
  content: "\f2b9";
}
.fa-address-book-o:before {
  content: "\f2ba";
}
.fa-vcard:before,
.fa-address-card:before {
  content: "\f2bb";
}
.fa-vcard-o:before,
.fa-address-card-o:before {
  content: "\f2bc";
}
.fa-user-circle:before {
  content: "\f2bd";
}
.fa-user-circle-o:before {
  content: "\f2be";
}
.fa-user-o:before {
  content: "\f2c0";
}
.fa-id-badge:before {
  content: "\f2c1";
}
.fa-drivers-license:before,
.fa-id-card:before {
  content: "\f2c2";
}
.fa-drivers-license-o:before,
.fa-id-card-o:before {
  content: "\f2c3";
}
.fa-quora:before {
  content: "\f2c4";
}
.fa-free-code-camp:before {
  content: "\f2c5";
}
.fa-telegram:before {
  content: "\f2c6";
}
.fa-thermometer-4:before,
.fa-thermometer:before,
.fa-thermometer-full:before {
  content: "\f2c7";
}
.fa-thermometer-3:before,
.fa-thermometer-three-quarters:before {
  content: "\f2c8";
}
.fa-thermometer-2:before,
.fa-thermometer-half:before {
  content: "\f2c9";
}
.fa-thermometer-1:before,
.fa-thermometer-quarter:before {
  content: "\f2ca";
}
.fa-thermometer-0:before,
.fa-thermometer-empty:before {
  content: "\f2cb";
}
.fa-shower:before {
  content: "\f2cc";
}
.fa-bathtub:before,
.fa-s15:before,
.fa-bath:before {
  content: "\f2cd";
}
.fa-podcast:before {
  content: "\f2ce";
}
.fa-window-maximize:before {
  content: "\f2d0";
}
.fa-window-minimize:before {
  content: "\f2d1";
}
.fa-window-restore:before {
  content: "\f2d2";
}
.fa-times-rectangle:before,
.fa-window-close:before {
  content: "\f2d3";
}
.fa-times-rectangle-o:before,
.fa-window-close-o:before {
  content: "\f2d4";
}
.fa-bandcamp:before {
  content: "\f2d5";
}
.fa-grav:before {
  content: "\f2d6";
}
.fa-etsy:before {
  content: "\f2d7";
}
.fa-imdb:before {
  content: "\f2d8";
}
.fa-ravelry:before {
  content: "\f2d9";
}
.fa-eercast:before {
  content: "\f2da";
}
.fa-microchip:before {
  content: "\f2db";
}
.fa-snowflake-o:before {
  content: "\f2dc";
}
.fa-superpowers:before {
  content: "\f2dd";
}
.fa-wpexplorer:before {
  content: "\f2de";
}
.fa-meetup:before {
  content: "\f2e0";
}
.sr-only {
  position: absolute;
  width: 1px;
  height: 1px;
  padding: 0;
  margin: -1px;
  overflow: hidden;
  clip: rect(0, 0, 0, 0);
  border: 0;
}
.sr-only-focusable:active,
.sr-only-focusable:focus {
  position: static;
  width: auto;
  height: auto;
  margin: 0;
  overflow: visible;
  clip: auto;
}
.sr-only-focusable:active,
.sr-only-focusable:focus {
  position: static;
  width: auto;
  height: auto;
  margin: 0;
  overflow: visible;
  clip: auto;
}
/*!
*
* IPython base
*
*/
.modal.fade .modal-dialog {
  -webkit-transform: translate(0, 0);
  -ms-transform: translate(0, 0);
  -o-transform: translate(0, 0);
  transform: translate(0, 0);
}
code {
  color: #000000;
}
pre {
  font-size: inherit;
  line-height: inherit;
}
label {
  font-weight: normal;
}
/* Make the page background atleast 100% the height of the view port */
/* Make the page itself atleast 70% the height of the view port */
.border-box-sizing {
  box-sizing: border-box;
  -moz-box-sizing: border-box;
  -webkit-box-sizing: border-box;
}
.corner-all {
  border-radius: 2px;
}
.no-padding {
  padding: 0px;
}
/* Flexible box model classes */
/* Taken from Alex Russell http://infrequently.org/2009/08/css-3-progress/ */
/* This file is a compatability layer.  It allows the usage of flexible box 
model layouts accross multiple browsers, including older browsers.  The newest,
universal implementation of the flexible box model is used when available (see
`Modern browsers` comments below).  Browsers that are known to implement this 
new spec completely include:

    Firefox 28.0+
    Chrome 29.0+
    Internet Explorer 11+ 
    Opera 17.0+

Browsers not listed, including Safari, are supported via the styling under the
`Old browsers` comments below.
*/
.hbox {
  /* Old browsers */
  display: -webkit-box;
  -webkit-box-orient: horizontal;
  -webkit-box-align: stretch;
  display: -moz-box;
  -moz-box-orient: horizontal;
  -moz-box-align: stretch;
  display: box;
  box-orient: horizontal;
  box-align: stretch;
  /* Modern browsers */
  display: flex;
  flex-direction: row;
  align-items: stretch;
}
.hbox > * {
  /* Old browsers */
  -webkit-box-flex: 0;
  -moz-box-flex: 0;
  box-flex: 0;
  /* Modern browsers */
  flex: none;
}
.vbox {
  /* Old browsers */
  display: -webkit-box;
  -webkit-box-orient: vertical;
  -webkit-box-align: stretch;
  display: -moz-box;
  -moz-box-orient: vertical;
  -moz-box-align: stretch;
  display: box;
  box-orient: vertical;
  box-align: stretch;
  /* Modern browsers */
  display: flex;
  flex-direction: column;
  align-items: stretch;
}
.vbox > * {
  /* Old browsers */
  -webkit-box-flex: 0;
  -moz-box-flex: 0;
  box-flex: 0;
  /* Modern browsers */
  flex: none;
}
.hbox.reverse,
.vbox.reverse,
.reverse {
  /* Old browsers */
  -webkit-box-direction: reverse;
  -moz-box-direction: reverse;
  box-direction: reverse;
  /* Modern browsers */
  flex-direction: row-reverse;
}
.hbox.box-flex0,
.vbox.box-flex0,
.box-flex0 {
  /* Old browsers */
  -webkit-box-flex: 0;
  -moz-box-flex: 0;
  box-flex: 0;
  /* Modern browsers */
  flex: none;
  width: auto;
}
.hbox.box-flex1,
.vbox.box-flex1,
.box-flex1 {
  /* Old browsers */
  -webkit-box-flex: 1;
  -moz-box-flex: 1;
  box-flex: 1;
  /* Modern browsers */
  flex: 1;
}
.hbox.box-flex,
.vbox.box-flex,
.box-flex {
  /* Old browsers */
  /* Old browsers */
  -webkit-box-flex: 1;
  -moz-box-flex: 1;
  box-flex: 1;
  /* Modern browsers */
  flex: 1;
}
.hbox.box-flex2,
.vbox.box-flex2,
.box-flex2 {
  /* Old browsers */
  -webkit-box-flex: 2;
  -moz-box-flex: 2;
  box-flex: 2;
  /* Modern browsers */
  flex: 2;
}
.box-group1 {
  /*  Deprecated */
  -webkit-box-flex-group: 1;
  -moz-box-flex-group: 1;
  box-flex-group: 1;
}
.box-group2 {
  /* Deprecated */
  -webkit-box-flex-group: 2;
  -moz-box-flex-group: 2;
  box-flex-group: 2;
}
.hbox.start,
.vbox.start,
.start {
  /* Old browsers */
  -webkit-box-pack: start;
  -moz-box-pack: start;
  box-pack: start;
  /* Modern browsers */
  justify-content: flex-start;
}
.hbox.end,
.vbox.end,
.end {
  /* Old browsers */
  -webkit-box-pack: end;
  -moz-box-pack: end;
  box-pack: end;
  /* Modern browsers */
  justify-content: flex-end;
}
.hbox.center,
.vbox.center,
.center {
  /* Old browsers */
  -webkit-box-pack: center;
  -moz-box-pack: center;
  box-pack: center;
  /* Modern browsers */
  justify-content: center;
}
.hbox.baseline,
.vbox.baseline,
.baseline {
  /* Old browsers */
  -webkit-box-pack: baseline;
  -moz-box-pack: baseline;
  box-pack: baseline;
  /* Modern browsers */
  justify-content: baseline;
}
.hbox.stretch,
.vbox.stretch,
.stretch {
  /* Old browsers */
  -webkit-box-pack: stretch;
  -moz-box-pack: stretch;
  box-pack: stretch;
  /* Modern browsers */
  justify-content: stretch;
}
.hbox.align-start,
.vbox.align-start,
.align-start {
  /* Old browsers */
  -webkit-box-align: start;
  -moz-box-align: start;
  box-align: start;
  /* Modern browsers */
  align-items: flex-start;
}
.hbox.align-end,
.vbox.align-end,
.align-end {
  /* Old browsers */
  -webkit-box-align: end;
  -moz-box-align: end;
  box-align: end;
  /* Modern browsers */
  align-items: flex-end;
}
.hbox.align-center,
.vbox.align-center,
.align-center {
  /* Old browsers */
  -webkit-box-align: center;
  -moz-box-align: center;
  box-align: center;
  /* Modern browsers */
  align-items: center;
}
.hbox.align-baseline,
.vbox.align-baseline,
.align-baseline {
  /* Old browsers */
  -webkit-box-align: baseline;
  -moz-box-align: baseline;
  box-align: baseline;
  /* Modern browsers */
  align-items: baseline;
}
.hbox.align-stretch,
.vbox.align-stretch,
.align-stretch {
  /* Old browsers */
  -webkit-box-align: stretch;
  -moz-box-align: stretch;
  box-align: stretch;
  /* Modern browsers */
  align-items: stretch;
}
div.error {
  margin: 2em;
  text-align: center;
}
div.error > h1 {
  font-size: 500%;
  line-height: normal;
}
div.error > p {
  font-size: 200%;
  line-height: normal;
}
div.traceback-wrapper {
  text-align: left;
  max-width: 800px;
  margin: auto;
}
/**
 * Primary styles
 *
 * Author: Jupyter Development Team
 */
body {
  background-color: #ffffff;
  /* This makes sure that the body covers the entire window and needs to
       be in a different element than the display: box in wrapper below */
  position: absolute;
  left: 0px;
  right: 0px;
  top: 0px;
  bottom: 0px;
  overflow: visible;
}
body > #header {
  /* Initially hidden to prevent FLOUC */
  display: none;
  background-color: #ffffff;
  /* Display over codemirror */
  position: relative;
  z-index: 100;
}
body > #header #header-container {
  padding-bottom: 5px;
  padding-top: 5px;
  box-sizing: border-box;
  -moz-box-sizing: border-box;
  -webkit-box-sizing: border-box;
}
body > #header .header-bar {
  width: 100%;
  height: 1px;
  background: #e7e7e7;
  margin-bottom: -1px;
}
@media print {
  body > #header {
    display: none !important;
  }
}
#header-spacer {
  width: 100%;
  visibility: hidden;
}
@media print {
  #header-spacer {
    display: none;
  }
}
#ipython_notebook {
  padding-left: 0px;
  padding-top: 1px;
  padding-bottom: 1px;
}
@media (max-width: 991px) {
  #ipython_notebook {
    margin-left: 10px;
  }
}
#noscript {
  width: auto;
  padding-top: 16px;
  padding-bottom: 16px;
  text-align: center;
  font-size: 22px;
  color: red;
  font-weight: bold;
}
#ipython_notebook img {
  height: 28px;
}
#site {
  width: 100%;
  display: none;
  box-sizing: border-box;
  -moz-box-sizing: border-box;
  -webkit-box-sizing: border-box;
  overflow: auto;
}
@media print {
  #site {
    height: auto !important;
  }
}
/* Smaller buttons */
.ui-button .ui-button-text {
  padding: 0.2em 0.8em;
  font-size: 77%;
}
input.ui-button {
  padding: 0.3em 0.9em;
}
span#login_widget {
  float: right;
}
span#login_widget > .button,
#logout {
  color: #333333;
  background-color: #ffffff;
  border-color: #cccccc;
}
span#login_widget > .button:focus,
#logout:focus,
span#login_widget > .button.focus,
#logout.focus {
  color: #333333;
  background-color: #e6e6e6;
  border-color: #8c8c8c;
}
span#login_widget > .button:hover,
#logout:hover {
  color: #333333;
  background-color: #e6e6e6;
  border-color: #adadad;
}
span#login_widget > .button:active,
#logout:active,
span#login_widget > .button.active,
#logout.active,
.open > .dropdown-togglespan#login_widget > .button,
.open > .dropdown-toggle#logout {
  color: #333333;
  background-color: #e6e6e6;
  border-color: #adadad;
}
span#login_widget > .button:active:hover,
#logout:active:hover,
span#login_widget > .button.active:hover,
#logout.active:hover,
.open > .dropdown-togglespan#login_widget > .button:hover,
.open > .dropdown-toggle#logout:hover,
span#login_widget > .button:active:focus,
#logout:active:focus,
span#login_widget > .button.active:focus,
#logout.active:focus,
.open > .dropdown-togglespan#login_widget > .button:focus,
.open > .dropdown-toggle#logout:focus,
span#login_widget > .button:active.focus,
#logout:active.focus,
span#login_widget > .button.active.focus,
#logout.active.focus,
.open > .dropdown-togglespan#login_widget > .button.focus,
.open > .dropdown-toggle#logout.focus {
  color: #333333;
  background-color: #d4d4d4;
  border-color: #8c8c8c;
}
span#login_widget > .button:active,
#logout:active,
span#login_widget > .button.active,
#logout.active,
.open > .dropdown-togglespan#login_widget > .button,
.open > .dropdown-toggle#logout {
  background-image: none;
}
span#login_widget > .button.disabled:hover,
#logout.disabled:hover,
span#login_widget > .button[disabled]:hover,
#logout[disabled]:hover,
fieldset[disabled] span#login_widget > .button:hover,
fieldset[disabled] #logout:hover,
span#login_widget > .button.disabled:focus,
#logout.disabled:focus,
span#login_widget > .button[disabled]:focus,
#logout[disabled]:focus,
fieldset[disabled] span#login_widget > .button:focus,
fieldset[disabled] #logout:focus,
span#login_widget > .button.disabled.focus,
#logout.disabled.focus,
span#login_widget > .button[disabled].focus,
#logout[disabled].focus,
fieldset[disabled] span#login_widget > .button.focus,
fieldset[disabled] #logout.focus {
  background-color: #ffffff;
  border-color: #cccccc;
}
span#login_widget > .button .badge,
#logout .badge {
  color: #ffffff;
  background-color: #333333;
}
.nav-header {
  text-transform: none;
}
#header > span {
  margin-top: 10px;
}
.modal_stretch .modal-dialog {
  /* Old browsers */
  display: -webkit-box;
  -webkit-box-orient: vertical;
  -webkit-box-align: stretch;
  display: -moz-box;
  -moz-box-orient: vertical;
  -moz-box-align: stretch;
  display: box;
  box-orient: vertical;
  box-align: stretch;
  /* Modern browsers */
  display: flex;
  flex-direction: column;
  align-items: stretch;
  /* Old browsers */
  -webkit-box-flex: 0;
  -moz-box-flex: 0;
  box-flex: 0;
  /* Modern browsers */
  flex: none;
  min-height: 80vh;
}
.modal_stretch .modal-dialog .modal-body {
  max-height: calc(100vh - 200px);
  overflow: auto;
  flex: 1;
}
@media (min-width: 768px) {
  .modal .modal-dialog {
    width: 700px;
  }
}
@media (min-width: 768px) {
  select.form-control {
    margin-left: 12px;
    margin-right: 12px;
  }
}
/*!
*
* IPython auth
*
*/
.center-nav {
  display: inline-block;
  margin-bottom: -4px;
}
/*!
*
* IPython tree view
*
*/
/* We need an invisible input field on top of the sentense*/
/* "Drag file onto the list ..." */
.alternate_upload {
  background-color: none;
  display: inline;
}
.alternate_upload.form {
  padding: 0;
  margin: 0;
}
.alternate_upload input.fileinput {
  text-align: center;
  vertical-align: middle;
  display: inline;
  opacity: 0;
  z-index: 2;
  width: 12ex;
  margin-right: -12ex;
}
.alternate_upload .btn-upload {
  height: 22px;
}
/**
 * Primary styles
 *
 * Author: Jupyter Development Team
 */
ul#tabs {
  margin-bottom: 4px;
}
ul#tabs a {
  padding-top: 6px;
  padding-bottom: 4px;
}
ul.breadcrumb a:focus,
ul.breadcrumb a:hover {
  text-decoration: none;
}
ul.breadcrumb i.icon-home {
  font-size: 16px;
  margin-right: 4px;
}
ul.breadcrumb span {
  color: #5e5e5e;
}
.list_toolbar {
  padding: 4px 0 4px 0;
  vertical-align: middle;
}
.list_toolbar .tree-buttons {
  padding-top: 1px;
}
.dynamic-buttons {
  padding-top: 3px;
  display: inline-block;
}
.list_toolbar [class*="span"] {
  min-height: 24px;
}
.list_header {
  font-weight: bold;
  background-color: #eeeeee;
}
.list_placeholder {
  font-weight: bold;
  padding-top: 4px;
  padding-bottom: 4px;
  padding-left: 7px;
  padding-right: 7px;
}
.list_container {
  margin-top: 4px;
  margin-bottom: 20px;
  border: 1px solid #dddddd;
  border-radius: 2px;
}
.list_container > div {
  border-bottom: 1px solid #dddddd;
}
.list_container > div:hover .list-item {
  background-color: red;
}
.list_container > div:last-child {
  border: none;
}
.list_item:hover .list_item {
  background-color: #dddddd;
}
.list_item a {
  text-decoration: none;
}
.list_item:hover {
  background-color: #fafafa;
}
.list_header > div,
.list_item > div {
  padding-top: 4px;
  padding-bottom: 4px;
  padding-left: 7px;
  padding-right: 7px;
  line-height: 22px;
}
.list_header > div input,
.list_item > div input {
  margin-right: 7px;
  margin-left: 14px;
  vertical-align: baseline;
  line-height: 22px;
  position: relative;
  top: -1px;
}
.list_header > div .item_link,
.list_item > div .item_link {
  margin-left: -1px;
  vertical-align: baseline;
  line-height: 22px;
}
.new-file input[type=checkbox] {
  visibility: hidden;
}
.item_name {
  line-height: 22px;
  height: 24px;
}
.item_icon {
  font-size: 14px;
  color: #5e5e5e;
  margin-right: 7px;
  margin-left: 7px;
  line-height: 22px;
  vertical-align: baseline;
}
.item_buttons {
  line-height: 1em;
  margin-left: -5px;
}
.item_buttons .btn,
.item_buttons .btn-group,
.item_buttons .input-group {
  float: left;
}
.item_buttons > .btn,
.item_buttons > .btn-group,
.item_buttons > .input-group {
  margin-left: 5px;
}
.item_buttons .btn {
  min-width: 13ex;
}
.item_buttons .running-indicator {
  padding-top: 4px;
  color: #5cb85c;
}
.item_buttons .kernel-name {
  padding-top: 4px;
  color: #5bc0de;
  margin-right: 7px;
  float: left;
}
.toolbar_info {
  height: 24px;
  line-height: 24px;
}
.list_item input:not([type=checkbox]) {
  padding-top: 3px;
  padding-bottom: 3px;
  height: 22px;
  line-height: 14px;
  margin: 0px;
}
.highlight_text {
  color: blue;
}
#project_name {
  display: inline-block;
  padding-left: 7px;
  margin-left: -2px;
}
#project_name > .breadcrumb {
  padding: 0px;
  margin-bottom: 0px;
  background-color: transparent;
  font-weight: bold;
}
#tree-selector {
  padding-right: 0px;
}
#button-select-all {
  min-width: 50px;
}
#select-all {
  margin-left: 7px;
  margin-right: 2px;
}
.menu_icon {
  margin-right: 2px;
}
.tab-content .row {
  margin-left: 0px;
  margin-right: 0px;
}
.folder_icon:before {
  display: inline-block;
  font: normal normal normal 14px/1 FontAwesome;
  font-size: inherit;
  text-rendering: auto;
  -webkit-font-smoothing: antialiased;
  -moz-osx-font-smoothing: grayscale;
  content: "\f114";
}
.folder_icon:before.fa-pull-left {
  margin-right: .3em;
}
.folder_icon:before.fa-pull-right {
  margin-left: .3em;
}
.folder_icon:before.pull-left {
  margin-right: .3em;
}
.folder_icon:before.pull-right {
  margin-left: .3em;
}
.notebook_icon:before {
  display: inline-block;
  font: normal normal normal 14px/1 FontAwesome;
  font-size: inherit;
  text-rendering: auto;
  -webkit-font-smoothing: antialiased;
  -moz-osx-font-smoothing: grayscale;
  content: "\f02d";
  position: relative;
  top: -1px;
}
.notebook_icon:before.fa-pull-left {
  margin-right: .3em;
}
.notebook_icon:before.fa-pull-right {
  margin-left: .3em;
}
.notebook_icon:before.pull-left {
  margin-right: .3em;
}
.notebook_icon:before.pull-right {
  margin-left: .3em;
}
.running_notebook_icon:before {
  display: inline-block;
  font: normal normal normal 14px/1 FontAwesome;
  font-size: inherit;
  text-rendering: auto;
  -webkit-font-smoothing: antialiased;
  -moz-osx-font-smoothing: grayscale;
  content: "\f02d";
  position: relative;
  top: -1px;
  color: #5cb85c;
}
.running_notebook_icon:before.fa-pull-left {
  margin-right: .3em;
}
.running_notebook_icon:before.fa-pull-right {
  margin-left: .3em;
}
.running_notebook_icon:before.pull-left {
  margin-right: .3em;
}
.running_notebook_icon:before.pull-right {
  margin-left: .3em;
}
.file_icon:before {
  display: inline-block;
  font: normal normal normal 14px/1 FontAwesome;
  font-size: inherit;
  text-rendering: auto;
  -webkit-font-smoothing: antialiased;
  -moz-osx-font-smoothing: grayscale;
  content: "\f016";
  position: relative;
  top: -2px;
}
.file_icon:before.fa-pull-left {
  margin-right: .3em;
}
.file_icon:before.fa-pull-right {
  margin-left: .3em;
}
.file_icon:before.pull-left {
  margin-right: .3em;
}
.file_icon:before.pull-right {
  margin-left: .3em;
}
#notebook_toolbar .pull-right {
  padding-top: 0px;
  margin-right: -1px;
}
ul#new-menu {
  left: auto;
  right: 0;
}
.kernel-menu-icon {
  padding-right: 12px;
  width: 24px;
  content: "\f096";
}
.kernel-menu-icon:before {
  content: "\f096";
}
.kernel-menu-icon-current:before {
  content: "\f00c";
}
#tab_content {
  padding-top: 20px;
}
#running .panel-group .panel {
  margin-top: 3px;
  margin-bottom: 1em;
}
#running .panel-group .panel .panel-heading {
  background-color: #eeeeee;
  padding-top: 4px;
  padding-bottom: 4px;
  padding-left: 7px;
  padding-right: 7px;
  line-height: 22px;
}
#running .panel-group .panel .panel-heading a:focus,
#running .panel-group .panel .panel-heading a:hover {
  text-decoration: none;
}
#running .panel-group .panel .panel-body {
  padding: 0px;
}
#running .panel-group .panel .panel-body .list_container {
  margin-top: 0px;
  margin-bottom: 0px;
  border: 0px;
  border-radius: 0px;
}
#running .panel-group .panel .panel-body .list_container .list_item {
  border-bottom: 1px solid #dddddd;
}
#running .panel-group .panel .panel-body .list_container .list_item:last-child {
  border-bottom: 0px;
}
.delete-button {
  display: none;
}
.duplicate-button {
  display: none;
}
.rename-button {
  display: none;
}
.shutdown-button {
  display: none;
}
.dynamic-instructions {
  display: inline-block;
  padding-top: 4px;
}
/*!
*
* IPython text editor webapp
*
*/
.selected-keymap i.fa {
  padding: 0px 5px;
}
.selected-keymap i.fa:before {
  content: "\f00c";
}
#mode-menu {
  overflow: auto;
  max-height: 20em;
}
.edit_app #header {
  -webkit-box-shadow: 0px 0px 12px 1px rgba(87, 87, 87, 0.2);
  box-shadow: 0px 0px 12px 1px rgba(87, 87, 87, 0.2);
}
.edit_app #menubar .navbar {
  /* Use a negative 1 bottom margin, so the border overlaps the border of the
    header */
  margin-bottom: -1px;
}
.dirty-indicator {
  display: inline-block;
  font: normal normal normal 14px/1 FontAwesome;
  font-size: inherit;
  text-rendering: auto;
  -webkit-font-smoothing: antialiased;
  -moz-osx-font-smoothing: grayscale;
  width: 20px;
}
.dirty-indicator.fa-pull-left {
  margin-right: .3em;
}
.dirty-indicator.fa-pull-right {
  margin-left: .3em;
}
.dirty-indicator.pull-left {
  margin-right: .3em;
}
.dirty-indicator.pull-right {
  margin-left: .3em;
}
.dirty-indicator-dirty {
  display: inline-block;
  font: normal normal normal 14px/1 FontAwesome;
  font-size: inherit;
  text-rendering: auto;
  -webkit-font-smoothing: antialiased;
  -moz-osx-font-smoothing: grayscale;
  width: 20px;
}
.dirty-indicator-dirty.fa-pull-left {
  margin-right: .3em;
}
.dirty-indicator-dirty.fa-pull-right {
  margin-left: .3em;
}
.dirty-indicator-dirty.pull-left {
  margin-right: .3em;
}
.dirty-indicator-dirty.pull-right {
  margin-left: .3em;
}
.dirty-indicator-clean {
  display: inline-block;
  font: normal normal normal 14px/1 FontAwesome;
  font-size: inherit;
  text-rendering: auto;
  -webkit-font-smoothing: antialiased;
  -moz-osx-font-smoothing: grayscale;
  width: 20px;
}
.dirty-indicator-clean.fa-pull-left {
  margin-right: .3em;
}
.dirty-indicator-clean.fa-pull-right {
  margin-left: .3em;
}
.dirty-indicator-clean.pull-left {
  margin-right: .3em;
}
.dirty-indicator-clean.pull-right {
  margin-left: .3em;
}
.dirty-indicator-clean:before {
  display: inline-block;
  font: normal normal normal 14px/1 FontAwesome;
  font-size: inherit;
  text-rendering: auto;
  -webkit-font-smoothing: antialiased;
  -moz-osx-font-smoothing: grayscale;
  content: "\f00c";
}
.dirty-indicator-clean:before.fa-pull-left {
  margin-right: .3em;
}
.dirty-indicator-clean:before.fa-pull-right {
  margin-left: .3em;
}
.dirty-indicator-clean:before.pull-left {
  margin-right: .3em;
}
.dirty-indicator-clean:before.pull-right {
  margin-left: .3em;
}
#filename {
  font-size: 16pt;
  display: table;
  padding: 0px 5px;
}
#current-mode {
  padding-left: 5px;
  padding-right: 5px;
}
#texteditor-backdrop {
  padding-top: 20px;
  padding-bottom: 20px;
}
@media not print {
  #texteditor-backdrop {
    background-color: #eeeeee;
  }
}
@media print {
  #texteditor-backdrop #texteditor-container .CodeMirror-gutter,
  #texteditor-backdrop #texteditor-container .CodeMirror-gutters {
    background-color: #ffffff;
  }
}
@media not print {
  #texteditor-backdrop #texteditor-container .CodeMirror-gutter,
  #texteditor-backdrop #texteditor-container .CodeMirror-gutters {
    background-color: #ffffff;
  }
}
@media not print {
  #texteditor-backdrop #texteditor-container {
    padding: 0px;
    background-color: #ffffff;
    -webkit-box-shadow: 0px 0px 12px 1px rgba(87, 87, 87, 0.2);
    box-shadow: 0px 0px 12px 1px rgba(87, 87, 87, 0.2);
  }
}
/*!
*
* IPython notebook
*
*/
/* CSS font colors for translated ANSI colors. */
.ansibold {
  font-weight: bold;
}
/* use dark versions for foreground, to improve visibility */
.ansiblack {
  color: black;
}
.ansired {
  color: darkred;
}
.ansigreen {
  color: darkgreen;
}
.ansiyellow {
  color: #c4a000;
}
.ansiblue {
  color: darkblue;
}
.ansipurple {
  color: darkviolet;
}
.ansicyan {
  color: steelblue;
}
.ansigray {
  color: gray;
}
/* and light for background, for the same reason */
.ansibgblack {
  background-color: black;
}
.ansibgred {
  background-color: red;
}
.ansibggreen {
  background-color: green;
}
.ansibgyellow {
  background-color: yellow;
}
.ansibgblue {
  background-color: blue;
}
.ansibgpurple {
  background-color: magenta;
}
.ansibgcyan {
  background-color: cyan;
}
.ansibggray {
  background-color: gray;
}
div.cell {
  /* Old browsers */
  display: -webkit-box;
  -webkit-box-orient: vertical;
  -webkit-box-align: stretch;
  display: -moz-box;
  -moz-box-orient: vertical;
  -moz-box-align: stretch;
  display: box;
  box-orient: vertical;
  box-align: stretch;
  /* Modern browsers */
  display: flex;
  flex-direction: column;
  align-items: stretch;
  /* Old browsers */
  -webkit-box-flex: 0;
  -moz-box-flex: 0;
  box-flex: 0;
  /* Modern browsers */
  flex: none;
  border-radius: 2px;
  box-sizing: border-box;
  -moz-box-sizing: border-box;
  -webkit-box-sizing: border-box;
  border-width: 1px;
  border-style: solid;
  border-color: transparent;
  width: 100%;
  padding: 5px;
  /* This acts as a spacer between cells, that is outside the border */
  margin: 0px;
  outline: none;
  border-left-width: 1px;
  padding-left: 5px;
  background: linear-gradient(to right, transparent -40px, transparent 1px, transparent 1px, transparent 100%);
}
div.cell.jupyter-soft-selected {
  border-left-color: #90caf9;
  border-left-color: #e3f2fd;
  border-left-width: 1px;
  padding-left: 5px;
  border-right-color: #e3f2fd;
  border-right-width: 1px;
  background: #e3f2fd;
}
@media print {
  div.cell.jupyter-soft-selected {
    border-color: transparent;
  }
}
div.cell.selected {
  border-color: #ababab;
  border-left-width: 0px;
  padding-left: 6px;
  background: linear-gradient(to right, #42a5f5 -40px, #42a5f5 5px, transparent 5px, transparent 100%);
}
@media print {
  div.cell.selected {
    border-color: transparent;
  }
}
div.cell.selected.jupyter-soft-selected {
  border-left-width: 0;
  padding-left: 6px;
  background: linear-gradient(to right, #42a5f5 -40px, #42a5f5 7px, #e3f2fd 7px, #e3f2fd 100%);
}
.edit_mode div.cell.selected {
  border-color: #66bb6a;
  border-left-width: 0px;
  padding-left: 6px;
  background: linear-gradient(to right, #66bb6a -40px, #66bb6a 5px, transparent 5px, transparent 100%);
}
@media print {
  .edit_mode div.cell.selected {
    border-color: transparent;
  }
}
.prompt {
  /* This needs to be wide enough for 3 digit prompt numbers: In[100]: */
  min-width: 14ex;
  /* This padding is tuned to match the padding on the CodeMirror editor. */
  padding: 0.4em;
  margin: 0px;
  font-family: monospace;
  text-align: right;
  /* This has to match that of the the CodeMirror class line-height below */
  line-height: 1.21429em;
  /* Don't highlight prompt number selection */
  -webkit-touch-callout: none;
  -webkit-user-select: none;
  -khtml-user-select: none;
  -moz-user-select: none;
  -ms-user-select: none;
  user-select: none;
  /* Use default cursor */
  cursor: default;
}
@media (max-width: 540px) {
  .prompt {
    text-align: left;
  }
}
div.inner_cell {
  min-width: 0;
  /* Old browsers */
  display: -webkit-box;
  -webkit-box-orient: vertical;
  -webkit-box-align: stretch;
  display: -moz-box;
  -moz-box-orient: vertical;
  -moz-box-align: stretch;
  display: box;
  box-orient: vertical;
  box-align: stretch;
  /* Modern browsers */
  display: flex;
  flex-direction: column;
  align-items: stretch;
  /* Old browsers */
  -webkit-box-flex: 0;
  -moz-box-flex: 0;
  box-flex: 0;
  /* Modern browsers */
  flex: none;
  /* Old browsers */
  -webkit-box-flex: 1;
  -moz-box-flex: 1;
  box-flex: 1;
  /* Modern browsers */
  flex: 1;
}
/* input_area and input_prompt must match in top border and margin for alignment */
div.input_area {
  border: 1px solid #cfcfcf;
  border-radius: 2px;
  background: #f7f7f7;
  line-height: 1.21429em;
}
/* This is needed so that empty prompt areas can collapse to zero height when there
   is no content in the output_subarea and the prompt. The main purpose of this is
   to make sure that empty JavaScript output_subareas have no height. */
div.prompt:empty {
  padding-top: 0;
  padding-bottom: 0;
}
div.unrecognized_cell {
  padding: 5px 5px 5px 0px;
  /* Old browsers */
  display: -webkit-box;
  -webkit-box-orient: horizontal;
  -webkit-box-align: stretch;
  display: -moz-box;
  -moz-box-orient: horizontal;
  -moz-box-align: stretch;
  display: box;
  box-orient: horizontal;
  box-align: stretch;
  /* Modern browsers */
  display: flex;
  flex-direction: row;
  align-items: stretch;
  /* Old browsers */
  -webkit-box-flex: 0;
  -moz-box-flex: 0;
  box-flex: 0;
  /* Modern browsers */
  flex: none;
}
div.unrecognized_cell .inner_cell {
  border-radius: 2px;
  padding: 5px;
  font-weight: bold;
  color: red;
  border: 1px solid #cfcfcf;
  background: #eaeaea;
}
div.unrecognized_cell .inner_cell a {
  color: inherit;
  text-decoration: none;
}
div.unrecognized_cell .inner_cell a:hover {
  color: inherit;
  text-decoration: none;
}
@media (max-width: 540px) {
  div.unrecognized_cell > div.prompt {
    display: none;
  }
}
div.code_cell {
  /* avoid page breaking on code cells when printing */
}
@media print {
  div.code_cell {
    page-break-inside: avoid;
  }
}
/* any special styling for code cells that are currently running goes here */
div.input {
  page-break-inside: avoid;
  /* Old browsers */
  display: -webkit-box;
  -webkit-box-orient: horizontal;
  -webkit-box-align: stretch;
  display: -moz-box;
  -moz-box-orient: horizontal;
  -moz-box-align: stretch;
  display: box;
  box-orient: horizontal;
  box-align: stretch;
  /* Modern browsers */
  display: flex;
  flex-direction: row;
  align-items: stretch;
  /* Old browsers */
  -webkit-box-flex: 0;
  -moz-box-flex: 0;
  box-flex: 0;
  /* Modern browsers */
  flex: none;
}
@media (max-width: 540px) {
  div.input {
    /* Old browsers */
    display: -webkit-box;
    -webkit-box-orient: vertical;
    -webkit-box-align: stretch;
    display: -moz-box;
    -moz-box-orient: vertical;
    -moz-box-align: stretch;
    display: box;
    box-orient: vertical;
    box-align: stretch;
    /* Modern browsers */
    display: flex;
    flex-direction: column;
    align-items: stretch;
    /* Old browsers */
    -webkit-box-flex: 0;
    -moz-box-flex: 0;
    box-flex: 0;
    /* Modern browsers */
    flex: none;
  }
}
/* input_area and input_prompt must match in top border and margin for alignment */
div.input_prompt {
  color: #303f9f;
  border-top: 1px solid transparent;
}
div.input_area > div.highlight {
  margin: 0.4em;
  border: none;
  padding: 0px;
  background-color: transparent;
}
div.input_area > div.highlight > pre {
  margin: 0px;
  border: none;
  padding: 0px;
  background-color: transparent;
}
/* The following gets added to the <head> if it is detected that the user has a
 * monospace font with inconsistent normal/bold/italic height.  See
 * notebookmain.js.  Such fonts will have keywords vertically offset with
 * respect to the rest of the text.  The user should select a better font.
 * See: https://github.com/ipython/ipython/issues/1503
 *
 * .CodeMirror span {
 *      vertical-align: bottom;
 * }
 */
.CodeMirror {
  line-height: 1.21429em;
  /* Changed from 1em to our global default */
  font-size: 14px;
  height: auto;
  /* Changed to auto to autogrow */
  background: none;
  /* Changed from white to allow our bg to show through */
}
.CodeMirror-scroll {
  /*  The CodeMirror docs are a bit fuzzy on if overflow-y should be hidden or visible.*/
  /*  We have found that if it is visible, vertical scrollbars appear with font size changes.*/
  overflow-y: hidden;
  overflow-x: auto;
}
.CodeMirror-lines {
  /* In CM2, this used to be 0.4em, but in CM3 it went to 4px. We need the em value because */
  /* we have set a different line-height and want this to scale with that. */
  padding: 0.4em;
}
.CodeMirror-linenumber {
  padding: 0 8px 0 4px;
}
.CodeMirror-gutters {
  border-bottom-left-radius: 2px;
  border-top-left-radius: 2px;
}
.CodeMirror pre {
  /* In CM3 this went to 4px from 0 in CM2. We need the 0 value because of how we size */
  /* .CodeMirror-lines */
  padding: 0;
  border: 0;
  border-radius: 0;
}
/*

Original style from softwaremaniacs.org (c) Ivan Sagalaev <Maniac@SoftwareManiacs.Org>
Adapted from GitHub theme

*/
.highlight-base {
  color: #000000;
}
.highlight-variable {
  color: #000000;
}
.highlight-variable-2 {
  color: #1a1a1a;
}
.highlight-variable-3 {
  color: #333333;
}
.highlight-string {
  color: #BA2121;
}
.highlight-comment {
  color: #408080;
  font-style: italic;
}
.highlight-number {
  color: #080;
}
.highlight-atom {
  color: #88F;
}
.highlight-keyword {
  color: #008000;
  font-weight: bold;
}
.highlight-builtin {
  color: #008000;
}
.highlight-error {
  color: #f00;
}
.highlight-operator {
  color: #AA22FF;
  font-weight: bold;
}
.highlight-meta {
  color: #AA22FF;
}
/* previously not defined, copying from default codemirror */
.highlight-def {
  color: #00f;
}
.highlight-string-2 {
  color: #f50;
}
.highlight-qualifier {
  color: #555;
}
.highlight-bracket {
  color: #997;
}
.highlight-tag {
  color: #170;
}
.highlight-attribute {
  color: #00c;
}
.highlight-header {
  color: blue;
}
.highlight-quote {
  color: #090;
}
.highlight-link {
  color: #00c;
}
/* apply the same style to codemirror */
.cm-s-ipython span.cm-keyword {
  color: #008000;
  font-weight: bold;
}
.cm-s-ipython span.cm-atom {
  color: #88F;
}
.cm-s-ipython span.cm-number {
  color: #080;
}
.cm-s-ipython span.cm-def {
  color: #00f;
}
.cm-s-ipython span.cm-variable {
  color: #000000;
}
.cm-s-ipython span.cm-operator {
  color: #AA22FF;
  font-weight: bold;
}
.cm-s-ipython span.cm-variable-2 {
  color: #1a1a1a;
}
.cm-s-ipython span.cm-variable-3 {
  color: #333333;
}
.cm-s-ipython span.cm-comment {
  color: #408080;
  font-style: italic;
}
.cm-s-ipython span.cm-string {
  color: #BA2121;
}
.cm-s-ipython span.cm-string-2 {
  color: #f50;
}
.cm-s-ipython span.cm-meta {
  color: #AA22FF;
}
.cm-s-ipython span.cm-qualifier {
  color: #555;
}
.cm-s-ipython span.cm-builtin {
  color: #008000;
}
.cm-s-ipython span.cm-bracket {
  color: #997;
}
.cm-s-ipython span.cm-tag {
  color: #170;
}
.cm-s-ipython span.cm-attribute {
  color: #00c;
}
.cm-s-ipython span.cm-header {
  color: blue;
}
.cm-s-ipython span.cm-quote {
  color: #090;
}
.cm-s-ipython span.cm-link {
  color: #00c;
}
.cm-s-ipython span.cm-error {
  color: #f00;
}
.cm-s-ipython span.cm-tab {
  background: url(data:image/png;base64,iVBORw0KGgoAAAANSUhEUgAAADAAAAAMCAYAAAAkuj5RAAAAAXNSR0IArs4c6QAAAGFJREFUSMft1LsRQFAQheHPowAKoACx3IgEKtaEHujDjORSgWTH/ZOdnZOcM/sgk/kFFWY0qV8foQwS4MKBCS3qR6ixBJvElOobYAtivseIE120FaowJPN75GMu8j/LfMwNjh4HUpwg4LUAAAAASUVORK5CYII=);
  background-position: right;
  background-repeat: no-repeat;
}
div.output_wrapper {
  /* this position must be relative to enable descendents to be absolute within it */
  position: relative;
  /* Old browsers */
  display: -webkit-box;
  -webkit-box-orient: vertical;
  -webkit-box-align: stretch;
  display: -moz-box;
  -moz-box-orient: vertical;
  -moz-box-align: stretch;
  display: box;
  box-orient: vertical;
  box-align: stretch;
  /* Modern browsers */
  display: flex;
  flex-direction: column;
  align-items: stretch;
  /* Old browsers */
  -webkit-box-flex: 0;
  -moz-box-flex: 0;
  box-flex: 0;
  /* Modern browsers */
  flex: none;
  z-index: 1;
}
/* class for the output area when it should be height-limited */
div.output_scroll {
  /* ideally, this would be max-height, but FF barfs all over that */
  height: 24em;
  /* FF needs this *and the wrapper* to specify full width, or it will shrinkwrap */
  width: 100%;
  overflow: auto;
  border-radius: 2px;
  -webkit-box-shadow: inset 0 2px 8px rgba(0, 0, 0, 0.8);
  box-shadow: inset 0 2px 8px rgba(0, 0, 0, 0.8);
  display: block;
}
/* output div while it is collapsed */
div.output_collapsed {
  margin: 0px;
  padding: 0px;
  /* Old browsers */
  display: -webkit-box;
  -webkit-box-orient: vertical;
  -webkit-box-align: stretch;
  display: -moz-box;
  -moz-box-orient: vertical;
  -moz-box-align: stretch;
  display: box;
  box-orient: vertical;
  box-align: stretch;
  /* Modern browsers */
  display: flex;
  flex-direction: column;
  align-items: stretch;
  /* Old browsers */
  -webkit-box-flex: 0;
  -moz-box-flex: 0;
  box-flex: 0;
  /* Modern browsers */
  flex: none;
}
div.out_prompt_overlay {
  height: 100%;
  padding: 0px 0.4em;
  position: absolute;
  border-radius: 2px;
}
div.out_prompt_overlay:hover {
  /* use inner shadow to get border that is computed the same on WebKit/FF */
  -webkit-box-shadow: inset 0 0 1px #000000;
  box-shadow: inset 0 0 1px #000000;
  background: rgba(240, 240, 240, 0.5);
}
div.output_prompt {
  color: #d84315;
}
/* This class is the outer container of all output sections. */
div.output_area {
  padding: 0px;
  page-break-inside: avoid;
  /* Old browsers */
  display: -webkit-box;
  -webkit-box-orient: horizontal;
  -webkit-box-align: stretch;
  display: -moz-box;
  -moz-box-orient: horizontal;
  -moz-box-align: stretch;
  display: box;
  box-orient: horizontal;
  box-align: stretch;
  /* Modern browsers */
  display: flex;
  flex-direction: row;
  align-items: stretch;
  /* Old browsers */
  -webkit-box-flex: 0;
  -moz-box-flex: 0;
  box-flex: 0;
  /* Modern browsers */
  flex: none;
}
div.output_area .MathJax_Display {
  text-align: left !important;
}
div.output_area .rendered_html table {
  margin-left: 0;
  margin-right: 0;
}
div.output_area .rendered_html img {
  margin-left: 0;
  margin-right: 0;
}
div.output_area img,
div.output_area svg {
  max-width: 100%;
  height: auto;
}
div.output_area img.unconfined,
div.output_area svg.unconfined {
  max-width: none;
}
/* This is needed to protect the pre formating from global settings such
   as that of bootstrap */
.output {
  /* Old browsers */
  display: -webkit-box;
  -webkit-box-orient: vertical;
  -webkit-box-align: stretch;
  display: -moz-box;
  -moz-box-orient: vertical;
  -moz-box-align: stretch;
  display: box;
  box-orient: vertical;
  box-align: stretch;
  /* Modern browsers */
  display: flex;
  flex-direction: column;
  align-items: stretch;
  /* Old browsers */
  -webkit-box-flex: 0;
  -moz-box-flex: 0;
  box-flex: 0;
  /* Modern browsers */
  flex: none;
}
@media (max-width: 540px) {
  div.output_area {
    /* Old browsers */
    display: -webkit-box;
    -webkit-box-orient: vertical;
    -webkit-box-align: stretch;
    display: -moz-box;
    -moz-box-orient: vertical;
    -moz-box-align: stretch;
    display: box;
    box-orient: vertical;
    box-align: stretch;
    /* Modern browsers */
    display: flex;
    flex-direction: column;
    align-items: stretch;
    /* Old browsers */
    -webkit-box-flex: 0;
    -moz-box-flex: 0;
    box-flex: 0;
    /* Modern browsers */
    flex: none;
  }
}
div.output_area pre {
  margin: 0;
  padding: 0;
  border: 0;
  vertical-align: baseline;
  color: #000000;
  background-color: transparent;
  border-radius: 0;
}
/* This class is for the output subarea inside the output_area and after
   the prompt div. */
div.output_subarea {
  overflow-x: auto;
  padding: 0.4em;
  /* Old browsers */
  -webkit-box-flex: 1;
  -moz-box-flex: 1;
  box-flex: 1;
  /* Modern browsers */
  flex: 1;
  max-width: calc(100% - 14ex);
}
div.output_scroll div.output_subarea {
  overflow-x: visible;
}
/* The rest of the output_* classes are for special styling of the different
   output types */
/* all text output has this class: */
div.output_text {
  text-align: left;
  color: #000000;
  /* This has to match that of the the CodeMirror class line-height below */
  line-height: 1.21429em;
}
/* stdout/stderr are 'text' as well as 'stream', but execute_result/error are *not* streams */
div.output_stderr {
  background: #fdd;
  /* very light red background for stderr */
}
div.output_latex {
  text-align: left;
}
/* Empty output_javascript divs should have no height */
div.output_javascript:empty {
  padding: 0;
}
.js-error {
  color: darkred;
}
/* raw_input styles */
div.raw_input_container {
  line-height: 1.21429em;
  padding-top: 5px;
}
pre.raw_input_prompt {
  /* nothing needed here. */
}
input.raw_input {
  font-family: monospace;
  font-size: inherit;
  color: inherit;
  width: auto;
  /* make sure input baseline aligns with prompt */
  vertical-align: baseline;
  /* padding + margin = 0.5em between prompt and cursor */
  padding: 0em 0.25em;
  margin: 0em 0.25em;
}
input.raw_input:focus {
  box-shadow: none;
}
p.p-space {
  margin-bottom: 10px;
}
div.output_unrecognized {
  padding: 5px;
  font-weight: bold;
  color: red;
}
div.output_unrecognized a {
  color: inherit;
  text-decoration: none;
}
div.output_unrecognized a:hover {
  color: inherit;
  text-decoration: none;
}
.rendered_html {
  color: #000000;
  /* any extras will just be numbers: */
}
.rendered_html em {
  font-style: italic;
}
.rendered_html strong {
  font-weight: bold;
}
.rendered_html u {
  text-decoration: underline;
}
.rendered_html :link {
  text-decoration: underline;
}
.rendered_html :visited {
  text-decoration: underline;
}
.rendered_html h1 {
  font-size: 185.7%;
  margin: 1.08em 0 0 0;
  font-weight: bold;
  line-height: 1.0;
}
.rendered_html h2 {
  font-size: 157.1%;
  margin: 1.27em 0 0 0;
  font-weight: bold;
  line-height: 1.0;
}
.rendered_html h3 {
  font-size: 128.6%;
  margin: 1.55em 0 0 0;
  font-weight: bold;
  line-height: 1.0;
}
.rendered_html h4 {
  font-size: 100%;
  margin: 2em 0 0 0;
  font-weight: bold;
  line-height: 1.0;
}
.rendered_html h5 {
  font-size: 100%;
  margin: 2em 0 0 0;
  font-weight: bold;
  line-height: 1.0;
  font-style: italic;
}
.rendered_html h6 {
  font-size: 100%;
  margin: 2em 0 0 0;
  font-weight: bold;
  line-height: 1.0;
  font-style: italic;
}
.rendered_html h1:first-child {
  margin-top: 0.538em;
}
.rendered_html h2:first-child {
  margin-top: 0.636em;
}
.rendered_html h3:first-child {
  margin-top: 0.777em;
}
.rendered_html h4:first-child {
  margin-top: 1em;
}
.rendered_html h5:first-child {
  margin-top: 1em;
}
.rendered_html h6:first-child {
  margin-top: 1em;
}
.rendered_html ul {
  list-style: disc;
  margin: 0em 2em;
  padding-left: 0px;
}
.rendered_html ul ul {
  list-style: square;
  margin: 0em 2em;
}
.rendered_html ul ul ul {
  list-style: circle;
  margin: 0em 2em;
}
.rendered_html ol {
  list-style: decimal;
  margin: 0em 2em;
  padding-left: 0px;
}
.rendered_html ol ol {
  list-style: upper-alpha;
  margin: 0em 2em;
}
.rendered_html ol ol ol {
  list-style: lower-alpha;
  margin: 0em 2em;
}
.rendered_html ol ol ol ol {
  list-style: lower-roman;
  margin: 0em 2em;
}
.rendered_html ol ol ol ol ol {
  list-style: decimal;
  margin: 0em 2em;
}
.rendered_html * + ul {
  margin-top: 1em;
}
.rendered_html * + ol {
  margin-top: 1em;
}
.rendered_html hr {
  color: #000000;
  background-color: #000000;
}
.rendered_html pre {
  margin: 1em 2em;
}
.rendered_html pre,
.rendered_html code {
  border: 0;
  background-color: #ffffff;
  color: #000000;
  font-size: 100%;
  padding: 0px;
}
.rendered_html blockquote {
  margin: 1em 2em;
}
.rendered_html table {
  margin-left: auto;
  margin-right: auto;
  border: 1px solid #000000;
  border-collapse: collapse;
}
.rendered_html tr,
.rendered_html th,
.rendered_html td {
  border: 1px solid #000000;
  border-collapse: collapse;
  margin: 1em 2em;
}
.rendered_html td,
.rendered_html th {
  text-align: left;
  vertical-align: middle;
  padding: 4px;
}
.rendered_html th {
  font-weight: bold;
}
.rendered_html * + table {
  margin-top: 1em;
}
.rendered_html p {
  text-align: left;
}
.rendered_html * + p {
  margin-top: 1em;
}
.rendered_html img {
  display: block;
  margin-left: auto;
  margin-right: auto;
}
.rendered_html * + img {
  margin-top: 1em;
}
.rendered_html img,
.rendered_html svg {
  max-width: 100%;
  height: auto;
}
.rendered_html img.unconfined,
.rendered_html svg.unconfined {
  max-width: none;
}
div.text_cell {
  /* Old browsers */
  display: -webkit-box;
  -webkit-box-orient: horizontal;
  -webkit-box-align: stretch;
  display: -moz-box;
  -moz-box-orient: horizontal;
  -moz-box-align: stretch;
  display: box;
  box-orient: horizontal;
  box-align: stretch;
  /* Modern browsers */
  display: flex;
  flex-direction: row;
  align-items: stretch;
  /* Old browsers */
  -webkit-box-flex: 0;
  -moz-box-flex: 0;
  box-flex: 0;
  /* Modern browsers */
  flex: none;
}
@media (max-width: 540px) {
  div.text_cell > div.prompt {
    display: none;
  }
}
div.text_cell_render {
  /*font-family: "Helvetica Neue", Arial, Helvetica, Geneva, sans-serif;*/
  outline: none;
  resize: none;
  width: inherit;
  border-style: none;
  padding: 0.5em 0.5em 0.5em 0.4em;
  color: #000000;
  box-sizing: border-box;
  -moz-box-sizing: border-box;
  -webkit-box-sizing: border-box;
}
a.anchor-link:link {
  text-decoration: none;
  padding: 0px 20px;
  visibility: hidden;
}
h1:hover .anchor-link,
h2:hover .anchor-link,
h3:hover .anchor-link,
h4:hover .anchor-link,
h5:hover .anchor-link,
h6:hover .anchor-link {
  visibility: visible;
}
.text_cell.rendered .input_area {
  display: none;
}
.text_cell.rendered .rendered_html {
  overflow-x: auto;
  overflow-y: hidden;
}
.text_cell.unrendered .text_cell_render {
  display: none;
}
.cm-header-1,
.cm-header-2,
.cm-header-3,
.cm-header-4,
.cm-header-5,
.cm-header-6 {
  font-weight: bold;
  font-family: "Helvetica Neue", Helvetica, Arial, sans-serif;
}
.cm-header-1 {
  font-size: 185.7%;
}
.cm-header-2 {
  font-size: 157.1%;
}
.cm-header-3 {
  font-size: 128.6%;
}
.cm-header-4 {
  font-size: 110%;
}
.cm-header-5 {
  font-size: 100%;
  font-style: italic;
}
.cm-header-6 {
  font-size: 100%;
  font-style: italic;
}
/*!
*
* IPython notebook webapp
*
*/
@media (max-width: 767px) {
  .notebook_app {
    padding-left: 0px;
    padding-right: 0px;
  }
}
#ipython-main-app {
  box-sizing: border-box;
  -moz-box-sizing: border-box;
  -webkit-box-sizing: border-box;
  height: 100%;
}
div#notebook_panel {
  margin: 0px;
  padding: 0px;
  box-sizing: border-box;
  -moz-box-sizing: border-box;
  -webkit-box-sizing: border-box;
  height: 100%;
}
div#notebook {
  font-size: 14px;
  line-height: 20px;
  overflow-y: hidden;
  overflow-x: auto;
  width: 100%;
  /* This spaces the page away from the edge of the notebook area */
  padding-top: 20px;
  margin: 0px;
  outline: none;
  box-sizing: border-box;
  -moz-box-sizing: border-box;
  -webkit-box-sizing: border-box;
  min-height: 100%;
}
@media not print {
  #notebook-container {
    padding: 15px;
    background-color: #ffffff;
    min-height: 0;
    -webkit-box-shadow: 0px 0px 12px 1px rgba(87, 87, 87, 0.2);
    box-shadow: 0px 0px 12px 1px rgba(87, 87, 87, 0.2);
  }
}
@media print {
  #notebook-container {
    width: 100%;
  }
}
div.ui-widget-content {
  border: 1px solid #ababab;
  outline: none;
}
pre.dialog {
  background-color: #f7f7f7;
  border: 1px solid #ddd;
  border-radius: 2px;
  padding: 0.4em;
  padding-left: 2em;
}
p.dialog {
  padding: 0.2em;
}
/* Word-wrap output correctly.  This is the CSS3 spelling, though Firefox seems
   to not honor it correctly.  Webkit browsers (Chrome, rekonq, Safari) do.
 */
pre,
code,
kbd,
samp {
  white-space: pre-wrap;
}
#fonttest {
  font-family: monospace;
}
p {
  margin-bottom: 0;
}
.end_space {
  min-height: 100px;
  transition: height .2s ease;
}
.notebook_app > #header {
  -webkit-box-shadow: 0px 0px 12px 1px rgba(87, 87, 87, 0.2);
  box-shadow: 0px 0px 12px 1px rgba(87, 87, 87, 0.2);
}
@media not print {
  .notebook_app {
    background-color: #eeeeee;
  }
}
kbd {
  border-style: solid;
  border-width: 1px;
  box-shadow: none;
  margin: 2px;
  padding-left: 2px;
  padding-right: 2px;
  padding-top: 1px;
  padding-bottom: 1px;
}
/* CSS for the cell toolbar */
.celltoolbar {
  border: thin solid #CFCFCF;
  border-bottom: none;
  background: #EEE;
  border-radius: 2px 2px 0px 0px;
  width: 100%;
  height: 29px;
  padding-right: 4px;
  /* Old browsers */
  display: -webkit-box;
  -webkit-box-orient: horizontal;
  -webkit-box-align: stretch;
  display: -moz-box;
  -moz-box-orient: horizontal;
  -moz-box-align: stretch;
  display: box;
  box-orient: horizontal;
  box-align: stretch;
  /* Modern browsers */
  display: flex;
  flex-direction: row;
  align-items: stretch;
  /* Old browsers */
  -webkit-box-flex: 0;
  -moz-box-flex: 0;
  box-flex: 0;
  /* Modern browsers */
  flex: none;
  /* Old browsers */
  -webkit-box-pack: end;
  -moz-box-pack: end;
  box-pack: end;
  /* Modern browsers */
  justify-content: flex-end;
  display: -webkit-flex;
}
@media print {
  .celltoolbar {
    display: none;
  }
}
.ctb_hideshow {
  display: none;
  vertical-align: bottom;
}
/* ctb_show is added to the ctb_hideshow div to show the cell toolbar.
   Cell toolbars are only shown when the ctb_global_show class is also set.
*/
.ctb_global_show .ctb_show.ctb_hideshow {
  display: block;
}
.ctb_global_show .ctb_show + .input_area,
.ctb_global_show .ctb_show + div.text_cell_input,
.ctb_global_show .ctb_show ~ div.text_cell_render {
  border-top-right-radius: 0px;
  border-top-left-radius: 0px;
}
.ctb_global_show .ctb_show ~ div.text_cell_render {
  border: 1px solid #cfcfcf;
}
.celltoolbar {
  font-size: 87%;
  padding-top: 3px;
}
.celltoolbar select {
  display: block;
  width: 100%;
  height: 32px;
  padding: 6px 12px;
  font-size: 13px;
  line-height: 1.42857143;
  color: #555555;
  background-color: #ffffff;
  background-image: none;
  border: 1px solid #cccccc;
  border-radius: 2px;
  -webkit-box-shadow: inset 0 1px 1px rgba(0, 0, 0, 0.075);
  box-shadow: inset 0 1px 1px rgba(0, 0, 0, 0.075);
  -webkit-transition: border-color ease-in-out .15s, box-shadow ease-in-out .15s;
  -o-transition: border-color ease-in-out .15s, box-shadow ease-in-out .15s;
  transition: border-color ease-in-out .15s, box-shadow ease-in-out .15s;
  height: 30px;
  padding: 5px 10px;
  font-size: 12px;
  line-height: 1.5;
  border-radius: 1px;
  width: inherit;
  font-size: inherit;
  height: 22px;
  padding: 0px;
  display: inline-block;
}
.celltoolbar select:focus {
  border-color: #66afe9;
  outline: 0;
  -webkit-box-shadow: inset 0 1px 1px rgba(0,0,0,.075), 0 0 8px rgba(102, 175, 233, 0.6);
  box-shadow: inset 0 1px 1px rgba(0,0,0,.075), 0 0 8px rgba(102, 175, 233, 0.6);
}
.celltoolbar select::-moz-placeholder {
  color: #999999;
  opacity: 1;
}
.celltoolbar select:-ms-input-placeholder {
  color: #999999;
}
.celltoolbar select::-webkit-input-placeholder {
  color: #999999;
}
.celltoolbar select::-ms-expand {
  border: 0;
  background-color: transparent;
}
.celltoolbar select[disabled],
.celltoolbar select[readonly],
fieldset[disabled] .celltoolbar select {
  background-color: #eeeeee;
  opacity: 1;
}
.celltoolbar select[disabled],
fieldset[disabled] .celltoolbar select {
  cursor: not-allowed;
}
textarea.celltoolbar select {
  height: auto;
}
select.celltoolbar select {
  height: 30px;
  line-height: 30px;
}
textarea.celltoolbar select,
select[multiple].celltoolbar select {
  height: auto;
}
.celltoolbar label {
  margin-left: 5px;
  margin-right: 5px;
}
.completions {
  position: absolute;
  z-index: 110;
  overflow: hidden;
  border: 1px solid #ababab;
  border-radius: 2px;
  -webkit-box-shadow: 0px 6px 10px -1px #adadad;
  box-shadow: 0px 6px 10px -1px #adadad;
  line-height: 1;
}
.completions select {
  background: white;
  outline: none;
  border: none;
  padding: 0px;
  margin: 0px;
  overflow: auto;
  font-family: monospace;
  font-size: 110%;
  color: #000000;
  width: auto;
}
.completions select option.context {
  color: #286090;
}
#kernel_logo_widget {
  float: right !important;
  float: right;
}
#kernel_logo_widget .current_kernel_logo {
  display: none;
  margin-top: -1px;
  margin-bottom: -1px;
  width: 32px;
  height: 32px;
}
#menubar {
  box-sizing: border-box;
  -moz-box-sizing: border-box;
  -webkit-box-sizing: border-box;
  margin-top: 1px;
}
#menubar .navbar {
  border-top: 1px;
  border-radius: 0px 0px 2px 2px;
  margin-bottom: 0px;
}
#menubar .navbar-toggle {
  float: left;
  padding-top: 7px;
  padding-bottom: 7px;
  border: none;
}
#menubar .navbar-collapse {
  clear: left;
}
.nav-wrapper {
  border-bottom: 1px solid #e7e7e7;
}
i.menu-icon {
  padding-top: 4px;
}
ul#help_menu li a {
  overflow: hidden;
  padding-right: 2.2em;
}
ul#help_menu li a i {
  margin-right: -1.2em;
}
.dropdown-submenu {
  position: relative;
}
.dropdown-submenu > .dropdown-menu {
  top: 0;
  left: 100%;
  margin-top: -6px;
  margin-left: -1px;
}
.dropdown-submenu:hover > .dropdown-menu {
  display: block;
}
.dropdown-submenu > a:after {
  display: inline-block;
  font: normal normal normal 14px/1 FontAwesome;
  font-size: inherit;
  text-rendering: auto;
  -webkit-font-smoothing: antialiased;
  -moz-osx-font-smoothing: grayscale;
  display: block;
  content: "\f0da";
  float: right;
  color: #333333;
  margin-top: 2px;
  margin-right: -10px;
}
.dropdown-submenu > a:after.fa-pull-left {
  margin-right: .3em;
}
.dropdown-submenu > a:after.fa-pull-right {
  margin-left: .3em;
}
.dropdown-submenu > a:after.pull-left {
  margin-right: .3em;
}
.dropdown-submenu > a:after.pull-right {
  margin-left: .3em;
}
.dropdown-submenu:hover > a:after {
  color: #262626;
}
.dropdown-submenu.pull-left {
  float: none;
}
.dropdown-submenu.pull-left > .dropdown-menu {
  left: -100%;
  margin-left: 10px;
}
#notification_area {
  float: right !important;
  float: right;
  z-index: 10;
}
.indicator_area {
  float: right !important;
  float: right;
  color: #777777;
  margin-left: 5px;
  margin-right: 5px;
  width: 11px;
  z-index: 10;
  text-align: center;
  width: auto;
}
#kernel_indicator {
  float: right !important;
  float: right;
  color: #777777;
  margin-left: 5px;
  margin-right: 5px;
  width: 11px;
  z-index: 10;
  text-align: center;
  width: auto;
  border-left: 1px solid;
}
#kernel_indicator .kernel_indicator_name {
  padding-left: 5px;
  padding-right: 5px;
}
#modal_indicator {
  float: right !important;
  float: right;
  color: #777777;
  margin-left: 5px;
  margin-right: 5px;
  width: 11px;
  z-index: 10;
  text-align: center;
  width: auto;
}
#readonly-indicator {
  float: right !important;
  float: right;
  color: #777777;
  margin-left: 5px;
  margin-right: 5px;
  width: 11px;
  z-index: 10;
  text-align: center;
  width: auto;
  margin-top: 2px;
  margin-bottom: 0px;
  margin-left: 0px;
  margin-right: 0px;
  display: none;
}
.modal_indicator:before {
  width: 1.28571429em;
  text-align: center;
}
.edit_mode .modal_indicator:before {
  display: inline-block;
  font: normal normal normal 14px/1 FontAwesome;
  font-size: inherit;
  text-rendering: auto;
  -webkit-font-smoothing: antialiased;
  -moz-osx-font-smoothing: grayscale;
  content: "\f040";
}
.edit_mode .modal_indicator:before.fa-pull-left {
  margin-right: .3em;
}
.edit_mode .modal_indicator:before.fa-pull-right {
  margin-left: .3em;
}
.edit_mode .modal_indicator:before.pull-left {
  margin-right: .3em;
}
.edit_mode .modal_indicator:before.pull-right {
  margin-left: .3em;
}
.command_mode .modal_indicator:before {
  display: inline-block;
  font: normal normal normal 14px/1 FontAwesome;
  font-size: inherit;
  text-rendering: auto;
  -webkit-font-smoothing: antialiased;
  -moz-osx-font-smoothing: grayscale;
  content: ' ';
}
.command_mode .modal_indicator:before.fa-pull-left {
  margin-right: .3em;
}
.command_mode .modal_indicator:before.fa-pull-right {
  margin-left: .3em;
}
.command_mode .modal_indicator:before.pull-left {
  margin-right: .3em;
}
.command_mode .modal_indicator:before.pull-right {
  margin-left: .3em;
}
.kernel_idle_icon:before {
  display: inline-block;
  font: normal normal normal 14px/1 FontAwesome;
  font-size: inherit;
  text-rendering: auto;
  -webkit-font-smoothing: antialiased;
  -moz-osx-font-smoothing: grayscale;
  content: "\f10c";
}
.kernel_idle_icon:before.fa-pull-left {
  margin-right: .3em;
}
.kernel_idle_icon:before.fa-pull-right {
  margin-left: .3em;
}
.kernel_idle_icon:before.pull-left {
  margin-right: .3em;
}
.kernel_idle_icon:before.pull-right {
  margin-left: .3em;
}
.kernel_busy_icon:before {
  display: inline-block;
  font: normal normal normal 14px/1 FontAwesome;
  font-size: inherit;
  text-rendering: auto;
  -webkit-font-smoothing: antialiased;
  -moz-osx-font-smoothing: grayscale;
  content: "\f111";
}
.kernel_busy_icon:before.fa-pull-left {
  margin-right: .3em;
}
.kernel_busy_icon:before.fa-pull-right {
  margin-left: .3em;
}
.kernel_busy_icon:before.pull-left {
  margin-right: .3em;
}
.kernel_busy_icon:before.pull-right {
  margin-left: .3em;
}
.kernel_dead_icon:before {
  display: inline-block;
  font: normal normal normal 14px/1 FontAwesome;
  font-size: inherit;
  text-rendering: auto;
  -webkit-font-smoothing: antialiased;
  -moz-osx-font-smoothing: grayscale;
  content: "\f1e2";
}
.kernel_dead_icon:before.fa-pull-left {
  margin-right: .3em;
}
.kernel_dead_icon:before.fa-pull-right {
  margin-left: .3em;
}
.kernel_dead_icon:before.pull-left {
  margin-right: .3em;
}
.kernel_dead_icon:before.pull-right {
  margin-left: .3em;
}
.kernel_disconnected_icon:before {
  display: inline-block;
  font: normal normal normal 14px/1 FontAwesome;
  font-size: inherit;
  text-rendering: auto;
  -webkit-font-smoothing: antialiased;
  -moz-osx-font-smoothing: grayscale;
  content: "\f127";
}
.kernel_disconnected_icon:before.fa-pull-left {
  margin-right: .3em;
}
.kernel_disconnected_icon:before.fa-pull-right {
  margin-left: .3em;
}
.kernel_disconnected_icon:before.pull-left {
  margin-right: .3em;
}
.kernel_disconnected_icon:before.pull-right {
  margin-left: .3em;
}
.notification_widget {
  color: #777777;
  z-index: 10;
  background: rgba(240, 240, 240, 0.5);
  margin-right: 4px;
  color: #333333;
  background-color: #ffffff;
  border-color: #cccccc;
}
.notification_widget:focus,
.notification_widget.focus {
  color: #333333;
  background-color: #e6e6e6;
  border-color: #8c8c8c;
}
.notification_widget:hover {
  color: #333333;
  background-color: #e6e6e6;
  border-color: #adadad;
}
.notification_widget:active,
.notification_widget.active,
.open > .dropdown-toggle.notification_widget {
  color: #333333;
  background-color: #e6e6e6;
  border-color: #adadad;
}
.notification_widget:active:hover,
.notification_widget.active:hover,
.open > .dropdown-toggle.notification_widget:hover,
.notification_widget:active:focus,
.notification_widget.active:focus,
.open > .dropdown-toggle.notification_widget:focus,
.notification_widget:active.focus,
.notification_widget.active.focus,
.open > .dropdown-toggle.notification_widget.focus {
  color: #333333;
  background-color: #d4d4d4;
  border-color: #8c8c8c;
}
.notification_widget:active,
.notification_widget.active,
.open > .dropdown-toggle.notification_widget {
  background-image: none;
}
.notification_widget.disabled:hover,
.notification_widget[disabled]:hover,
fieldset[disabled] .notification_widget:hover,
.notification_widget.disabled:focus,
.notification_widget[disabled]:focus,
fieldset[disabled] .notification_widget:focus,
.notification_widget.disabled.focus,
.notification_widget[disabled].focus,
fieldset[disabled] .notification_widget.focus {
  background-color: #ffffff;
  border-color: #cccccc;
}
.notification_widget .badge {
  color: #ffffff;
  background-color: #333333;
}
.notification_widget.warning {
  color: #ffffff;
  background-color: #f0ad4e;
  border-color: #eea236;
}
.notification_widget.warning:focus,
.notification_widget.warning.focus {
  color: #ffffff;
  background-color: #ec971f;
  border-color: #985f0d;
}
.notification_widget.warning:hover {
  color: #ffffff;
  background-color: #ec971f;
  border-color: #d58512;
}
.notification_widget.warning:active,
.notification_widget.warning.active,
.open > .dropdown-toggle.notification_widget.warning {
  color: #ffffff;
  background-color: #ec971f;
  border-color: #d58512;
}
.notification_widget.warning:active:hover,
.notification_widget.warning.active:hover,
.open > .dropdown-toggle.notification_widget.warning:hover,
.notification_widget.warning:active:focus,
.notification_widget.warning.active:focus,
.open > .dropdown-toggle.notification_widget.warning:focus,
.notification_widget.warning:active.focus,
.notification_widget.warning.active.focus,
.open > .dropdown-toggle.notification_widget.warning.focus {
  color: #ffffff;
  background-color: #d58512;
  border-color: #985f0d;
}
.notification_widget.warning:active,
.notification_widget.warning.active,
.open > .dropdown-toggle.notification_widget.warning {
  background-image: none;
}
.notification_widget.warning.disabled:hover,
.notification_widget.warning[disabled]:hover,
fieldset[disabled] .notification_widget.warning:hover,
.notification_widget.warning.disabled:focus,
.notification_widget.warning[disabled]:focus,
fieldset[disabled] .notification_widget.warning:focus,
.notification_widget.warning.disabled.focus,
.notification_widget.warning[disabled].focus,
fieldset[disabled] .notification_widget.warning.focus {
  background-color: #f0ad4e;
  border-color: #eea236;
}
.notification_widget.warning .badge {
  color: #f0ad4e;
  background-color: #ffffff;
}
.notification_widget.success {
  color: #ffffff;
  background-color: #5cb85c;
  border-color: #4cae4c;
}
.notification_widget.success:focus,
.notification_widget.success.focus {
  color: #ffffff;
  background-color: #449d44;
  border-color: #255625;
}
.notification_widget.success:hover {
  color: #ffffff;
  background-color: #449d44;
  border-color: #398439;
}
.notification_widget.success:active,
.notification_widget.success.active,
.open > .dropdown-toggle.notification_widget.success {
  color: #ffffff;
  background-color: #449d44;
  border-color: #398439;
}
.notification_widget.success:active:hover,
.notification_widget.success.active:hover,
.open > .dropdown-toggle.notification_widget.success:hover,
.notification_widget.success:active:focus,
.notification_widget.success.active:focus,
.open > .dropdown-toggle.notification_widget.success:focus,
.notification_widget.success:active.focus,
.notification_widget.success.active.focus,
.open > .dropdown-toggle.notification_widget.success.focus {
  color: #ffffff;
  background-color: #398439;
  border-color: #255625;
}
.notification_widget.success:active,
.notification_widget.success.active,
.open > .dropdown-toggle.notification_widget.success {
  background-image: none;
}
.notification_widget.success.disabled:hover,
.notification_widget.success[disabled]:hover,
fieldset[disabled] .notification_widget.success:hover,
.notification_widget.success.disabled:focus,
.notification_widget.success[disabled]:focus,
fieldset[disabled] .notification_widget.success:focus,
.notification_widget.success.disabled.focus,
.notification_widget.success[disabled].focus,
fieldset[disabled] .notification_widget.success.focus {
  background-color: #5cb85c;
  border-color: #4cae4c;
}
.notification_widget.success .badge {
  color: #5cb85c;
  background-color: #ffffff;
}
.notification_widget.info {
  color: #ffffff;
  background-color: #5bc0de;
  border-color: #46b8da;
}
.notification_widget.info:focus,
.notification_widget.info.focus {
  color: #ffffff;
  background-color: #31b0d5;
  border-color: #1b6d85;
}
.notification_widget.info:hover {
  color: #ffffff;
  background-color: #31b0d5;
  border-color: #269abc;
}
.notification_widget.info:active,
.notification_widget.info.active,
.open > .dropdown-toggle.notification_widget.info {
  color: #ffffff;
  background-color: #31b0d5;
  border-color: #269abc;
}
.notification_widget.info:active:hover,
.notification_widget.info.active:hover,
.open > .dropdown-toggle.notification_widget.info:hover,
.notification_widget.info:active:focus,
.notification_widget.info.active:focus,
.open > .dropdown-toggle.notification_widget.info:focus,
.notification_widget.info:active.focus,
.notification_widget.info.active.focus,
.open > .dropdown-toggle.notification_widget.info.focus {
  color: #ffffff;
  background-color: #269abc;
  border-color: #1b6d85;
}
.notification_widget.info:active,
.notification_widget.info.active,
.open > .dropdown-toggle.notification_widget.info {
  background-image: none;
}
.notification_widget.info.disabled:hover,
.notification_widget.info[disabled]:hover,
fieldset[disabled] .notification_widget.info:hover,
.notification_widget.info.disabled:focus,
.notification_widget.info[disabled]:focus,
fieldset[disabled] .notification_widget.info:focus,
.notification_widget.info.disabled.focus,
.notification_widget.info[disabled].focus,
fieldset[disabled] .notification_widget.info.focus {
  background-color: #5bc0de;
  border-color: #46b8da;
}
.notification_widget.info .badge {
  color: #5bc0de;
  background-color: #ffffff;
}
.notification_widget.danger {
  color: #ffffff;
  background-color: #d9534f;
  border-color: #d43f3a;
}
.notification_widget.danger:focus,
.notification_widget.danger.focus {
  color: #ffffff;
  background-color: #c9302c;
  border-color: #761c19;
}
.notification_widget.danger:hover {
  color: #ffffff;
  background-color: #c9302c;
  border-color: #ac2925;
}
.notification_widget.danger:active,
.notification_widget.danger.active,
.open > .dropdown-toggle.notification_widget.danger {
  color: #ffffff;
  background-color: #c9302c;
  border-color: #ac2925;
}
.notification_widget.danger:active:hover,
.notification_widget.danger.active:hover,
.open > .dropdown-toggle.notification_widget.danger:hover,
.notification_widget.danger:active:focus,
.notification_widget.danger.active:focus,
.open > .dropdown-toggle.notification_widget.danger:focus,
.notification_widget.danger:active.focus,
.notification_widget.danger.active.focus,
.open > .dropdown-toggle.notification_widget.danger.focus {
  color: #ffffff;
  background-color: #ac2925;
  border-color: #761c19;
}
.notification_widget.danger:active,
.notification_widget.danger.active,
.open > .dropdown-toggle.notification_widget.danger {
  background-image: none;
}
.notification_widget.danger.disabled:hover,
.notification_widget.danger[disabled]:hover,
fieldset[disabled] .notification_widget.danger:hover,
.notification_widget.danger.disabled:focus,
.notification_widget.danger[disabled]:focus,
fieldset[disabled] .notification_widget.danger:focus,
.notification_widget.danger.disabled.focus,
.notification_widget.danger[disabled].focus,
fieldset[disabled] .notification_widget.danger.focus {
  background-color: #d9534f;
  border-color: #d43f3a;
}
.notification_widget.danger .badge {
  color: #d9534f;
  background-color: #ffffff;
}
div#pager {
  background-color: #ffffff;
  font-size: 14px;
  line-height: 20px;
  overflow: hidden;
  display: none;
  position: fixed;
  bottom: 0px;
  width: 100%;
  max-height: 50%;
  padding-top: 8px;
  -webkit-box-shadow: 0px 0px 12px 1px rgba(87, 87, 87, 0.2);
  box-shadow: 0px 0px 12px 1px rgba(87, 87, 87, 0.2);
  /* Display over codemirror */
  z-index: 100;
  /* Hack which prevents jquery ui resizable from changing top. */
  top: auto !important;
}
div#pager pre {
  line-height: 1.21429em;
  color: #000000;
  background-color: #f7f7f7;
  padding: 0.4em;
}
div#pager #pager-button-area {
  position: absolute;
  top: 8px;
  right: 20px;
}
div#pager #pager-contents {
  position: relative;
  overflow: auto;
  width: 100%;
  height: 100%;
}
div#pager #pager-contents #pager-container {
  position: relative;
  padding: 15px 0px;
  box-sizing: border-box;
  -moz-box-sizing: border-box;
  -webkit-box-sizing: border-box;
}
div#pager .ui-resizable-handle {
  top: 0px;
  height: 8px;
  background: #f7f7f7;
  border-top: 1px solid #cfcfcf;
  border-bottom: 1px solid #cfcfcf;
  /* This injects handle bars (a short, wide = symbol) for 
        the resize handle. */
}
div#pager .ui-resizable-handle::after {
  content: '';
  top: 2px;
  left: 50%;
  height: 3px;
  width: 30px;
  margin-left: -15px;
  position: absolute;
  border-top: 1px solid #cfcfcf;
}
.quickhelp {
  /* Old browsers */
  display: -webkit-box;
  -webkit-box-orient: horizontal;
  -webkit-box-align: stretch;
  display: -moz-box;
  -moz-box-orient: horizontal;
  -moz-box-align: stretch;
  display: box;
  box-orient: horizontal;
  box-align: stretch;
  /* Modern browsers */
  display: flex;
  flex-direction: row;
  align-items: stretch;
  /* Old browsers */
  -webkit-box-flex: 0;
  -moz-box-flex: 0;
  box-flex: 0;
  /* Modern browsers */
  flex: none;
  line-height: 1.8em;
}
.shortcut_key {
  display: inline-block;
  width: 21ex;
  text-align: right;
  font-family: monospace;
}
.shortcut_descr {
  display: inline-block;
  /* Old browsers */
  -webkit-box-flex: 1;
  -moz-box-flex: 1;
  box-flex: 1;
  /* Modern browsers */
  flex: 1;
}
span.save_widget {
  margin-top: 6px;
}
span.save_widget span.filename {
  height: 1em;
  line-height: 1em;
  padding: 3px;
  margin-left: 16px;
  border: none;
  font-size: 146.5%;
  border-radius: 2px;
}
span.save_widget span.filename:hover {
  background-color: #e6e6e6;
}
span.checkpoint_status,
span.autosave_status {
  font-size: small;
}
@media (max-width: 767px) {
  span.save_widget {
    font-size: small;
  }
  span.checkpoint_status,
  span.autosave_status {
    display: none;
  }
}
@media (min-width: 768px) and (max-width: 991px) {
  span.checkpoint_status {
    display: none;
  }
  span.autosave_status {
    font-size: x-small;
  }
}
.toolbar {
  padding: 0px;
  margin-left: -5px;
  margin-top: 2px;
  margin-bottom: 5px;
  box-sizing: border-box;
  -moz-box-sizing: border-box;
  -webkit-box-sizing: border-box;
}
.toolbar select,
.toolbar label {
  width: auto;
  vertical-align: middle;
  margin-right: 2px;
  margin-bottom: 0px;
  display: inline;
  font-size: 92%;
  margin-left: 0.3em;
  margin-right: 0.3em;
  padding: 0px;
  padding-top: 3px;
}
.toolbar .btn {
  padding: 2px 8px;
}
.toolbar .btn-group {
  margin-top: 0px;
  margin-left: 5px;
}
#maintoolbar {
  margin-bottom: -3px;
  margin-top: -8px;
  border: 0px;
  min-height: 27px;
  margin-left: 0px;
  padding-top: 11px;
  padding-bottom: 3px;
}
#maintoolbar .navbar-text {
  float: none;
  vertical-align: middle;
  text-align: right;
  margin-left: 5px;
  margin-right: 0px;
  margin-top: 0px;
}
.select-xs {
  height: 24px;
}
.pulse,
.dropdown-menu > li > a.pulse,
li.pulse > a.dropdown-toggle,
li.pulse.open > a.dropdown-toggle {
  background-color: #F37626;
  color: white;
}
/**
 * Primary styles
 *
 * Author: Jupyter Development Team
 */
/** WARNING IF YOU ARE EDITTING THIS FILE, if this is a .css file, It has a lot
 * of chance of beeing generated from the ../less/[samename].less file, you can
 * try to get back the less file by reverting somme commit in history
 **/
/*
 * We'll try to get something pretty, so we
 * have some strange css to have the scroll bar on
 * the left with fix button on the top right of the tooltip
 */
@-moz-keyframes fadeOut {
  from {
    opacity: 1;
  }
  to {
    opacity: 0;
  }
}
@-webkit-keyframes fadeOut {
  from {
    opacity: 1;
  }
  to {
    opacity: 0;
  }
}
@-moz-keyframes fadeIn {
  from {
    opacity: 0;
  }
  to {
    opacity: 1;
  }
}
@-webkit-keyframes fadeIn {
  from {
    opacity: 0;
  }
  to {
    opacity: 1;
  }
}
/*properties of tooltip after "expand"*/
.bigtooltip {
  overflow: auto;
  height: 200px;
  -webkit-transition-property: height;
  -webkit-transition-duration: 500ms;
  -moz-transition-property: height;
  -moz-transition-duration: 500ms;
  transition-property: height;
  transition-duration: 500ms;
}
/*properties of tooltip before "expand"*/
.smalltooltip {
  -webkit-transition-property: height;
  -webkit-transition-duration: 500ms;
  -moz-transition-property: height;
  -moz-transition-duration: 500ms;
  transition-property: height;
  transition-duration: 500ms;
  text-overflow: ellipsis;
  overflow: hidden;
  height: 80px;
}
.tooltipbuttons {
  position: absolute;
  padding-right: 15px;
  top: 0px;
  right: 0px;
}
.tooltiptext {
  /*avoid the button to overlap on some docstring*/
  padding-right: 30px;
}
.ipython_tooltip {
  max-width: 700px;
  /*fade-in animation when inserted*/
  -webkit-animation: fadeOut 400ms;
  -moz-animation: fadeOut 400ms;
  animation: fadeOut 400ms;
  -webkit-animation: fadeIn 400ms;
  -moz-animation: fadeIn 400ms;
  animation: fadeIn 400ms;
  vertical-align: middle;
  background-color: #f7f7f7;
  overflow: visible;
  border: #ababab 1px solid;
  outline: none;
  padding: 3px;
  margin: 0px;
  padding-left: 7px;
  font-family: monospace;
  min-height: 50px;
  -moz-box-shadow: 0px 6px 10px -1px #adadad;
  -webkit-box-shadow: 0px 6px 10px -1px #adadad;
  box-shadow: 0px 6px 10px -1px #adadad;
  border-radius: 2px;
  position: absolute;
  z-index: 1000;
}
.ipython_tooltip a {
  float: right;
}
.ipython_tooltip .tooltiptext pre {
  border: 0;
  border-radius: 0;
  font-size: 100%;
  background-color: #f7f7f7;
}
.pretooltiparrow {
  left: 0px;
  margin: 0px;
  top: -16px;
  width: 40px;
  height: 16px;
  overflow: hidden;
  position: absolute;
}
.pretooltiparrow:before {
  background-color: #f7f7f7;
  border: 1px #ababab solid;
  z-index: 11;
  content: "";
  position: absolute;
  left: 15px;
  top: 10px;
  width: 25px;
  height: 25px;
  -webkit-transform: rotate(45deg);
  -moz-transform: rotate(45deg);
  -ms-transform: rotate(45deg);
  -o-transform: rotate(45deg);
}
ul.typeahead-list i {
  margin-left: -10px;
  width: 18px;
}
ul.typeahead-list {
  max-height: 80vh;
  overflow: auto;
}
ul.typeahead-list > li > a {
  /** Firefox bug **/
  /* see https://github.com/jupyter/notebook/issues/559 */
  white-space: normal;
}
.cmd-palette .modal-body {
  padding: 7px;
}
.cmd-palette form {
  background: white;
}
.cmd-palette input {
  outline: none;
}
.no-shortcut {
  display: none;
}
.command-shortcut:before {
  content: "(command)";
  padding-right: 3px;
  color: #777777;
}
.edit-shortcut:before {
  content: "(edit)";
  padding-right: 3px;
  color: #777777;
}
#find-and-replace #replace-preview .match,
#find-and-replace #replace-preview .insert {
  background-color: #BBDEFB;
  border-color: #90CAF9;
  border-style: solid;
  border-width: 1px;
  border-radius: 0px;
}
#find-and-replace #replace-preview .replace .match {
  background-color: #FFCDD2;
  border-color: #EF9A9A;
  border-radius: 0px;
}
#find-and-replace #replace-preview .replace .insert {
  background-color: #C8E6C9;
  border-color: #A5D6A7;
  border-radius: 0px;
}
#find-and-replace #replace-preview {
  max-height: 60vh;
  overflow: auto;
}
#find-and-replace #replace-preview pre {
  padding: 5px 10px;
}
.terminal-app {
  background: #eeeeee;
}
.terminal-app #header {
  background: #ffffff;
  -webkit-box-shadow: 0px 0px 12px 1px rgba(87, 87, 87, 0.2);
  box-shadow: 0px 0px 12px 1px rgba(87, 87, 87, 0.2);
}
.terminal-app .terminal {
  float: left;
  font-family: monospace;
  color: white;
  background: black;
  padding: 0.4em;
  border-radius: 2px;
  -webkit-box-shadow: 0px 0px 12px 1px rgba(87, 87, 87, 0.4);
  box-shadow: 0px 0px 12px 1px rgba(87, 87, 87, 0.4);
}
.terminal-app .terminal,
.terminal-app .terminal dummy-screen {
  line-height: 1em;
  font-size: 14px;
}
.terminal-app .terminal-cursor {
  color: black;
  background: white;
}
.terminal-app #terminado-container {
  margin-top: 20px;
}
/*# sourceMappingURL=style.min.css.map */
    </style>
<style type="text/css">
    .highlight .hll { background-color: #ffffcc }
.highlight  { background: #f8f8f8; }
.highlight .c { color: #408080; font-style: italic } /* Comment */
.highlight .err { border: 1px solid #FF0000 } /* Error */
.highlight .k { color: #008000; font-weight: bold } /* Keyword */
.highlight .o { color: #666666 } /* Operator */
.highlight .ch { color: #408080; font-style: italic } /* Comment.Hashbang */
.highlight .cm { color: #408080; font-style: italic } /* Comment.Multiline */
.highlight .cp { color: #BC7A00 } /* Comment.Preproc */
.highlight .cpf { color: #408080; font-style: italic } /* Comment.PreprocFile */
.highlight .c1 { color: #408080; font-style: italic } /* Comment.Single */
.highlight .cs { color: #408080; font-style: italic } /* Comment.Special */
.highlight .gd { color: #A00000 } /* Generic.Deleted */
.highlight .ge { font-style: italic } /* Generic.Emph */
.highlight .gr { color: #FF0000 } /* Generic.Error */
.highlight .gh { color: #000080; font-weight: bold } /* Generic.Heading */
.highlight .gi { color: #00A000 } /* Generic.Inserted */
.highlight .go { color: #888888 } /* Generic.Output */
.highlight .gp { color: #000080; font-weight: bold } /* Generic.Prompt */
.highlight .gs { font-weight: bold } /* Generic.Strong */
.highlight .gu { color: #800080; font-weight: bold } /* Generic.Subheading */
.highlight .gt { color: #0044DD } /* Generic.Traceback */
.highlight .kc { color: #008000; font-weight: bold } /* Keyword.Constant */
.highlight .kd { color: #008000; font-weight: bold } /* Keyword.Declaration */
.highlight .kn { color: #008000; font-weight: bold } /* Keyword.Namespace */
.highlight .kp { color: #008000 } /* Keyword.Pseudo */
.highlight .kr { color: #008000; font-weight: bold } /* Keyword.Reserved */
.highlight .kt { color: #B00040 } /* Keyword.Type */
.highlight .m { color: #666666 } /* Literal.Number */
.highlight .s { color: #BA2121 } /* Literal.String */
.highlight .na { color: #7D9029 } /* Name.Attribute */
.highlight .nb { color: #008000 } /* Name.Builtin */
.highlight .nc { color: #0000FF; font-weight: bold } /* Name.Class */
.highlight .no { color: #880000 } /* Name.Constant */
.highlight .nd { color: #AA22FF } /* Name.Decorator */
.highlight .ni { color: #999999; font-weight: bold } /* Name.Entity */
.highlight .ne { color: #D2413A; font-weight: bold } /* Name.Exception */
.highlight .nf { color: #0000FF } /* Name.Function */
.highlight .nl { color: #A0A000 } /* Name.Label */
.highlight .nn { color: #0000FF; font-weight: bold } /* Name.Namespace */
.highlight .nt { color: #008000; font-weight: bold } /* Name.Tag */
.highlight .nv { color: #19177C } /* Name.Variable */
.highlight .ow { color: #AA22FF; font-weight: bold } /* Operator.Word */
.highlight .w { color: #bbbbbb } /* Text.Whitespace */
.highlight .mb { color: #666666 } /* Literal.Number.Bin */
.highlight .mf { color: #666666 } /* Literal.Number.Float */
.highlight .mh { color: #666666 } /* Literal.Number.Hex */
.highlight .mi { color: #666666 } /* Literal.Number.Integer */
.highlight .mo { color: #666666 } /* Literal.Number.Oct */
.highlight .sa { color: #BA2121 } /* Literal.String.Affix */
.highlight .sb { color: #BA2121 } /* Literal.String.Backtick */
.highlight .sc { color: #BA2121 } /* Literal.String.Char */
.highlight .dl { color: #BA2121 } /* Literal.String.Delimiter */
.highlight .sd { color: #BA2121; font-style: italic } /* Literal.String.Doc */
.highlight .s2 { color: #BA2121 } /* Literal.String.Double */
.highlight .se { color: #BB6622; font-weight: bold } /* Literal.String.Escape */
.highlight .sh { color: #BA2121 } /* Literal.String.Heredoc */
.highlight .si { color: #BB6688; font-weight: bold } /* Literal.String.Interpol */
.highlight .sx { color: #008000 } /* Literal.String.Other */
.highlight .sr { color: #BB6688 } /* Literal.String.Regex */
.highlight .s1 { color: #BA2121 } /* Literal.String.Single */
.highlight .ss { color: #19177C } /* Literal.String.Symbol */
.highlight .bp { color: #008000 } /* Name.Builtin.Pseudo */
.highlight .fm { color: #0000FF } /* Name.Function.Magic */
.highlight .vc { color: #19177C } /* Name.Variable.Class */
.highlight .vg { color: #19177C } /* Name.Variable.Global */
.highlight .vi { color: #19177C } /* Name.Variable.Instance */
.highlight .vm { color: #19177C } /* Name.Variable.Magic */
.highlight .il { color: #666666 } /* Literal.Number.Integer.Long */
    </style>
<style type="text/css">
    
/* Temporary definitions which will become obsolete with Notebook release 5.0 */
.ansi-black-fg { color: #3E424D; }
.ansi-black-bg { background-color: #3E424D; }
.ansi-black-intense-fg { color: #282C36; }
.ansi-black-intense-bg { background-color: #282C36; }
.ansi-red-fg { color: #E75C58; }
.ansi-red-bg { background-color: #E75C58; }
.ansi-red-intense-fg { color: #B22B31; }
.ansi-red-intense-bg { background-color: #B22B31; }
.ansi-green-fg { color: #00A250; }
.ansi-green-bg { background-color: #00A250; }
.ansi-green-intense-fg { color: #007427; }
.ansi-green-intense-bg { background-color: #007427; }
.ansi-yellow-fg { color: #DDB62B; }
.ansi-yellow-bg { background-color: #DDB62B; }
.ansi-yellow-intense-fg { color: #B27D12; }
.ansi-yellow-intense-bg { background-color: #B27D12; }
.ansi-blue-fg { color: #208FFB; }
.ansi-blue-bg { background-color: #208FFB; }
.ansi-blue-intense-fg { color: #0065CA; }
.ansi-blue-intense-bg { background-color: #0065CA; }
.ansi-magenta-fg { color: #D160C4; }
.ansi-magenta-bg { background-color: #D160C4; }
.ansi-magenta-intense-fg { color: #A03196; }
.ansi-magenta-intense-bg { background-color: #A03196; }
.ansi-cyan-fg { color: #60C6C8; }
.ansi-cyan-bg { background-color: #60C6C8; }
.ansi-cyan-intense-fg { color: #258F8F; }
.ansi-cyan-intense-bg { background-color: #258F8F; }
.ansi-white-fg { color: #C5C1B4; }
.ansi-white-bg { background-color: #C5C1B4; }
.ansi-white-intense-fg { color: #A1A6B2; }
.ansi-white-intense-bg { background-color: #A1A6B2; }

.ansi-bold { font-weight: bold; }

    </style>


<style type="text/css">
/* Overrides of notebook CSS for static HTML export */
body {
  overflow: visible;
  padding: 8px;
}

div#notebook {
  overflow: visible;
  border-top: none;
}@media print {
  div.cell {
    display: block;
    page-break-inside: avoid;
  } 
  div.output_wrapper { 
    display: block;
    page-break-inside: avoid; 
  }
  div.output { 
    display: block;
    page-break-inside: avoid; 
  }
}
</style>

<!-- Custom stylesheet, it must be in the same directory as the html file -->
<link rel="stylesheet" href="custom.css">

<!-- Loading mathjax macro -->
<!-- Load mathjax -->
    <script src="https://cdnjs.cloudflare.com/ajax/libs/mathjax/2.7.1/MathJax.js?config=TeX-AMS_HTML"></script>
    <!-- MathJax configuration -->
    <script type="text/x-mathjax-config">
    MathJax.Hub.Config({
        tex2jax: {
            inlineMath: [ ['$','$'], ["\\(","\\)"] ],
            displayMath: [ ['$$','$$'], ["\\[","\\]"] ],
            processEscapes: true,
            processEnvironments: true
        },
        // Center justify equations in code and markdown cells. Elsewhere
        // we use CSS to left justify single line equations in code cells.
        displayAlign: 'center',
        "HTML-CSS": {
            styles: {'.MathJax_Display': {"margin": 0}},
            linebreaks: { automatic: true }
        }
    });
    </script>
    <!-- End of mathjax configuration --></head>
<body>
  <div tabindex="-1" id="notebook" class="border-box-sizing">
    <div class="container" id="notebook-container">

<div class="cell border-box-sizing code_cell rendered">
<div class="input">
<div class="prompt input_prompt">In&nbsp;[1]:</div>
<div class="inner_cell">
    <div class="input_area">
<div class=" highlight hl-ipython3"><pre><span></span><span class="kn">import</span> <span class="nn">pandas</span> <span class="k">as</span> <span class="nn">pd</span>
<span class="kn">import</span> <span class="nn">numpy</span> <span class="k">as</span> <span class="nn">np</span>
<span class="kn">import</span> <span class="nn">pygraphviz</span>
</pre></div>

</div>
</div>
</div>

</div>
<div class="cell border-box-sizing code_cell rendered">
<div class="input">
<div class="prompt input_prompt">In&nbsp;[2]:</div>
<div class="inner_cell">
    <div class="input_area">
<div class=" highlight hl-ipython3"><pre><span></span><span class="k">def</span> <span class="nf">gen_graph</span><span class="p">(</span><span class="n">df</span><span class="p">,</span> <span class="n">penwidth</span><span class="o">=</span><span class="mi">15</span><span class="p">,</span> <span class="n">k</span><span class="o">=</span><span class="s2">&quot;1.0&quot;</span><span class="p">,</span> <span class="n">r</span><span class="o">=</span><span class="s2">&quot;0.5&quot;</span><span class="p">):</span>
    <span class="n">A</span> <span class="o">=</span> <span class="n">pygraphviz</span><span class="o">.</span><span class="n">AGraph</span><span class="p">(</span><span class="n">strict</span><span class="o">=</span><span class="kc">False</span><span class="p">)</span>
    <span class="n">A</span><span class="o">.</span><span class="n">graph_attr</span><span class="p">[</span><span class="s2">&quot;overlap&quot;</span><span class="p">]</span> <span class="o">=</span> <span class="s2">&quot;prism1000&quot;</span>
    <span class="n">A</span><span class="o">.</span><span class="n">graph_attr</span><span class="p">[</span><span class="s2">&quot;splines&quot;</span><span class="p">]</span> <span class="o">=</span> <span class="s2">&quot;true&quot;</span>
    <span class="n">A</span><span class="o">.</span><span class="n">graph_attr</span><span class="p">[</span><span class="s2">&quot;bgcolor&quot;</span><span class="p">]</span> <span class="o">=</span> <span class="s2">&quot;#ffffff&quot;</span>
    <span class="n">A</span><span class="o">.</span><span class="n">graph_attr</span><span class="p">[</span><span class="s2">&quot;outputorder&quot;</span><span class="p">]</span> <span class="o">=</span> <span class="s2">&quot;edgesfirst&quot;</span>
    <span class="n">A</span><span class="o">.</span><span class="n">graph_attr</span><span class="p">[</span><span class="s2">&quot;sep&quot;</span><span class="p">]</span> <span class="o">=</span> <span class="s2">&quot;+20,20&quot;</span>
    <span class="n">A</span><span class="o">.</span><span class="n">graph_attr</span><span class="p">[</span><span class="s2">&quot;esep&quot;</span><span class="p">]</span> <span class="o">=</span> <span class="s2">&quot;+15,15&quot;</span>
    <span class="n">A</span><span class="o">.</span><span class="n">graph_attr</span><span class="p">[</span><span class="s2">&quot;K&quot;</span><span class="p">]</span> <span class="o">=</span> <span class="n">k</span>
    <span class="n">A</span><span class="o">.</span><span class="n">graph_attr</span><span class="p">[</span><span class="s2">&quot;repulsiveforce&quot;</span><span class="p">]</span> <span class="o">=</span> <span class="n">r</span>
    <span class="n">ew</span> <span class="o">=</span> <span class="nb">dict</span><span class="p">()</span>

    <span class="k">for</span> <span class="n">g</span> <span class="ow">in</span> <span class="n">df</span><span class="o">.</span><span class="n">index</span><span class="p">:</span>
        <span class="n">z</span> <span class="o">=</span> <span class="n">df</span><span class="o">.</span><span class="n">loc</span><span class="p">[</span><span class="n">g</span><span class="p">]</span>
        <span class="k">for</span> <span class="n">c</span> <span class="ow">in</span> <span class="p">(</span><span class="n">z</span><span class="p">[</span><span class="n">z</span> <span class="o">&gt;</span> <span class="mi">0</span><span class="p">])</span><span class="o">.</span><span class="n">index</span><span class="p">:</span>
            <span class="n">ekey</span> <span class="o">=</span> <span class="nb">tuple</span><span class="p">(</span><span class="nb">sorted</span><span class="p">([</span><span class="n">g</span><span class="p">,</span> <span class="n">c</span><span class="p">]))</span>
            <span class="n">ew</span><span class="p">[</span><span class="n">ekey</span><span class="p">]</span> <span class="o">=</span> <span class="n">df</span><span class="o">.</span><span class="n">loc</span><span class="p">[</span><span class="n">g</span><span class="p">,</span> <span class="n">c</span><span class="p">]</span>
            <span class="n">A</span><span class="o">.</span><span class="n">add_edge</span><span class="p">(</span><span class="n">g</span><span class="p">,</span> <span class="n">c</span><span class="p">,</span> <span class="n">weight</span><span class="o">=</span><span class="n">df</span><span class="o">.</span><span class="n">loc</span><span class="p">[</span><span class="n">g</span><span class="p">,</span> <span class="n">c</span><span class="p">],</span> <span class="n">style</span><span class="o">=</span><span class="s2">&quot;filled&quot;</span><span class="p">)</span>

    <span class="n">v</span> <span class="o">=</span> <span class="n">ew</span><span class="o">.</span><span class="n">values</span><span class="p">()</span>
    <span class="n">mn</span> <span class="o">=</span> <span class="nb">min</span><span class="p">(</span><span class="n">v</span><span class="p">)</span>
    <span class="n">mx</span> <span class="o">=</span> <span class="nb">max</span><span class="p">(</span><span class="n">v</span><span class="p">)</span>
    <span class="n">d</span> <span class="o">=</span> <span class="n">mx</span> <span class="o">-</span> <span class="n">mn</span>

    <span class="k">if</span> <span class="n">d</span> <span class="o">==</span> <span class="mi">0</span><span class="p">:</span>
        <span class="n">d</span> <span class="o">=</span> <span class="mi">1</span>

    <span class="k">for</span> <span class="n">k</span><span class="p">,</span> <span class="n">v</span> <span class="ow">in</span> <span class="n">ew</span><span class="o">.</span><span class="n">items</span><span class="p">():</span>
        <span class="n">e</span> <span class="o">=</span> <span class="n">A</span><span class="o">.</span><span class="n">get_edge</span><span class="p">(</span><span class="o">*</span><span class="n">k</span><span class="p">)</span>
        <span class="n">pw</span> <span class="o">=</span> <span class="p">((</span><span class="nb">float</span><span class="p">(</span><span class="n">v</span><span class="p">)</span> <span class="o">-</span> <span class="n">mn</span><span class="p">)</span> <span class="o">/</span> <span class="n">d</span><span class="p">)</span>
        <span class="n">e</span><span class="o">.</span><span class="n">attr</span><span class="p">[</span><span class="s2">&quot;penwidth&quot;</span><span class="p">]</span> <span class="o">=</span> <span class="n">pw</span> <span class="o">*</span> <span class="n">penwidth</span> <span class="o">+</span> <span class="mf">2.0</span>

    <span class="k">return</span> <span class="n">A</span>
</pre></div>

</div>
</div>
</div>

</div>
<div class="cell border-box-sizing text_cell rendered"><div class="prompt input_prompt">
</div>
<div class="inner_cell">
<div class="text_cell_render border-box-sizing rendered_html">
<h3 id="Read-in-the-data-files">Read in the data files<a class="anchor-link" href="#Read-in-the-data-files">&#182;</a></h3>
</div>
</div>
</div>
<div class="cell border-box-sizing code_cell rendered">
<div class="input">
<div class="prompt input_prompt">In&nbsp;[3]:</div>
<div class="inner_cell">
    <div class="input_area">
<div class=" highlight hl-ipython3"><pre><span></span><span class="n">df</span> <span class="o">=</span> <span class="n">pd</span><span class="o">.</span><span class="n">read_table</span><span class="p">(</span><span class="s2">&quot;adj_matrix.tsv&quot;</span><span class="p">,</span> <span class="n">sep</span><span class="o">=</span><span class="s2">&quot;</span><span class="se">\t</span><span class="s2">&quot;</span><span class="p">,</span> <span class="n">index_col</span><span class="o">=</span><span class="mi">0</span><span class="p">,</span> <span class="n">header</span><span class="o">=</span><span class="mi">0</span><span class="p">)</span>
<span class="n">cstable</span> <span class="o">=</span> <span class="n">pd</span><span class="o">.</span><span class="n">read_table</span><span class="p">(</span><span class="s2">&quot;cstable.txt&quot;</span><span class="p">,</span> <span class="n">sep</span><span class="o">=</span><span class="s2">&quot;</span><span class="se">\t</span><span class="s2">&quot;</span><span class="p">,</span> <span class="n">index_col</span><span class="o">=</span><span class="mi">0</span><span class="p">,</span> <span class="n">header</span><span class="o">=</span><span class="mi">0</span><span class="p">)</span>
</pre></div>

</div>
</div>
</div>

</div>
<div class="cell border-box-sizing text_cell rendered"><div class="prompt input_prompt">
</div>
<div class="inner_cell">
<div class="text_cell_render border-box-sizing rendered_html">
<h3 id="Remove-any-spaces-that-crept-into-the-cstable-index">Remove any spaces that crept into the cstable index<a class="anchor-link" href="#Remove-any-spaces-that-crept-into-the-cstable-index">&#182;</a></h3>
</div>
</div>
</div>
<div class="cell border-box-sizing code_cell rendered">
<div class="input">
<div class="prompt input_prompt">In&nbsp;[4]:</div>
<div class="inner_cell">
    <div class="input_area">
<div class=" highlight hl-ipython3"><pre><span></span><span class="n">newidx</span> <span class="o">=</span> <span class="p">[</span><span class="n">i</span><span class="o">.</span><span class="n">replace</span><span class="p">(</span><span class="s2">&quot; &quot;</span><span class="p">,</span> <span class="s2">&quot;&quot;</span><span class="p">)</span> <span class="k">for</span> <span class="n">i</span> <span class="ow">in</span> <span class="n">cstable</span><span class="o">.</span><span class="n">index</span><span class="o">.</span><span class="n">tolist</span><span class="p">()]</span>
<span class="n">cstable</span><span class="o">.</span><span class="n">index</span> <span class="o">=</span> <span class="n">newidx</span>
</pre></div>

</div>
</div>
</div>

</div>
<div class="cell border-box-sizing text_cell rendered"><div class="prompt input_prompt">
</div>
<div class="inner_cell">
<div class="text_cell_render border-box-sizing rendered_html">
<h3 id="Scale-the-center-node-sizes">Scale the center node sizes<a class="anchor-link" href="#Scale-the-center-node-sizes">&#182;</a></h3>
</div>
</div>
</div>
<div class="cell border-box-sizing code_cell rendered">
<div class="input">
<div class="prompt input_prompt">In&nbsp;[5]:</div>
<div class="inner_cell">
    <div class="input_area">
<div class=" highlight hl-ipython3"><pre><span></span><span class="n">scale_lo</span> <span class="o">=</span> <span class="mi">1</span>
<span class="n">scale_hi</span> <span class="o">=</span> <span class="mi">2</span>

<span class="n">mn</span> <span class="o">=</span> <span class="n">cstable</span><span class="o">.</span><span class="n">Size</span><span class="o">.</span><span class="n">min</span><span class="p">()</span>
<span class="n">mx</span> <span class="o">=</span> <span class="n">cstable</span><span class="o">.</span><span class="n">Size</span><span class="o">.</span><span class="n">max</span><span class="p">()</span>

<span class="n">c</span> <span class="o">=</span> <span class="n">scale_hi</span> <span class="o">-</span> <span class="n">scale_lo</span>
<span class="n">cstable</span><span class="p">[</span><span class="s2">&quot;nsize&quot;</span><span class="p">]</span> <span class="o">=</span> <span class="n">c</span> <span class="o">*</span> <span class="p">(</span><span class="n">cstable</span><span class="o">.</span><span class="n">Size</span> <span class="o">-</span> <span class="n">mn</span><span class="p">)</span> <span class="o">/</span> <span class="p">(</span><span class="n">mx</span> <span class="o">-</span> <span class="n">mn</span><span class="p">)</span> <span class="o">+</span> <span class="mf">1.0</span>
</pre></div>

</div>
</div>
</div>

</div>
<div class="cell border-box-sizing text_cell rendered"><div class="prompt input_prompt">
</div>
<div class="inner_cell">
<div class="text_cell_render border-box-sizing rendered_html">
<h3 id="Only-use-motifs-(nodes)-with-score-greater-than-2.0-(-log10-pval)">Only use motifs (nodes) with score greater than 2.0 (-log10 pval)<a class="anchor-link" href="#Only-use-motifs-(nodes)-with-score-greater-than-2.0-(-log10-pval)">&#182;</a></h3>
</div>
</div>
</div>
<div class="cell border-box-sizing code_cell rendered">
<div class="input">
<div class="prompt input_prompt">In&nbsp;[6]:</div>
<div class="inner_cell">
    <div class="input_area">
<div class=" highlight hl-ipython3"><pre><span></span><span class="n">df</span><span class="o">.</span><span class="n">where</span><span class="p">(</span><span class="n">df</span> <span class="o">&gt;</span> <span class="mf">2.0</span><span class="p">,</span> <span class="mf">0.0</span><span class="p">,</span> <span class="n">inplace</span><span class="o">=</span><span class="kc">True</span><span class="p">)</span>
</pre></div>

</div>
</div>
</div>

</div>
<div class="cell border-box-sizing text_cell rendered"><div class="prompt input_prompt">
</div>
<div class="inner_cell">
<div class="text_cell_render border-box-sizing rendered_html">
<h3 id="Build-the-center-node-list-off-of-the-motif-filter-results">Build the center node list off of the motif filter results<a class="anchor-link" href="#Build-the-center-node-list-off-of-the-motif-filter-results">&#182;</a></h3>
</div>
</div>
</div>
<div class="cell border-box-sizing code_cell rendered">
<div class="input">
<div class="prompt input_prompt">In&nbsp;[7]:</div>
<div class="inner_cell">
    <div class="input_area">
<div class=" highlight hl-ipython3"><pre><span></span><span class="n">z</span> <span class="o">=</span> <span class="n">df</span><span class="o">.</span><span class="n">any</span><span class="p">()</span>
<span class="n">centers</span> <span class="o">=</span> <span class="n">z</span><span class="p">[</span><span class="n">z</span><span class="p">]</span><span class="o">.</span><span class="n">index</span><span class="o">.</span><span class="n">tolist</span><span class="p">()</span>
</pre></div>

</div>
</div>
</div>

</div>
<div class="cell border-box-sizing text_cell rendered"><div class="prompt input_prompt">
</div>
<div class="inner_cell">
<div class="text_cell_render border-box-sizing rendered_html">
<h3 id="Center-node-color-map">Center node color map<a class="anchor-link" href="#Center-node-color-map">&#182;</a></h3>
</div>
</div>
</div>
<div class="cell border-box-sizing code_cell rendered">
<div class="input">
<div class="prompt input_prompt">In&nbsp;[8]:</div>
<div class="inner_cell">
    <div class="input_area">
<div class=" highlight hl-ipython3"><pre><span></span><span class="n">rmap</span> <span class="o">=</span> <span class="p">[</span><span class="s1">&#39;#ff8c00&#39;</span><span class="p">,</span> <span class="s1">&#39;#5ca904&#39;</span><span class="p">,</span> <span class="s1">&#39;#ffa500&#39;</span><span class="p">,</span> <span class="s1">&#39;#1e90ff&#39;</span><span class="p">,</span> <span class="s1">&#39;#0652ff&#39;</span><span class="p">,</span> <span class="s1">&#39;#6b8ba4&#39;</span><span class="p">,</span> <span class="s1">&#39;#006400&#39;</span><span class="p">,</span> <span class="s1">&#39;#c875c4&#39;</span><span class="p">,</span> <span class="s1">&#39;#ff0000&#39;</span><span class="p">,</span> <span class="s1">&#39;#0000ff&#39;</span><span class="p">,</span> <span class="s1">&#39;#014d4e&#39;</span><span class="p">,</span> <span class="s1">&#39;#15b01a&#39;</span><span class="p">,</span> <span class="s1">&#39;#be0119&#39;</span><span class="p">,</span> <span class="s1">&#39;#cf6275&#39;</span><span class="p">,</span> <span class="s1">&#39;#580f41&#39;</span><span class="p">,</span> <span class="s1">&#39;#7f2b0a&#39;</span><span class="p">,</span> <span class="s1">&#39;#a83c09&#39;</span><span class="p">,</span> <span class="s1">&#39;#7f5e00&#39;</span><span class="p">,</span> <span class="s1">&#39;#030aa7&#39;</span><span class="p">,</span> <span class="s1">&#39;#800080&#39;</span><span class="p">,</span> <span class="s1">&#39;#029386&#39;</span><span class="p">]</span>
</pre></div>

</div>
</div>
</div>

</div>
<div class="cell border-box-sizing text_cell rendered"><div class="prompt input_prompt">
</div>
<div class="inner_cell">
<div class="text_cell_render border-box-sizing rendered_html">
<h3 id="Build-the-graph">Build the graph<a class="anchor-link" href="#Build-the-graph">&#182;</a></h3>
</div>
</div>
</div>
<div class="cell border-box-sizing code_cell rendered">
<div class="input">
<div class="prompt input_prompt">In&nbsp;[9]:</div>
<div class="inner_cell">
    <div class="input_area">
<div class=" highlight hl-ipython3"><pre><span></span><span class="n">A</span> <span class="o">=</span> <span class="n">gen_graph</span><span class="p">(</span><span class="n">df</span><span class="p">,</span> <span class="n">penwidth</span><span class="o">=</span><span class="mi">10</span><span class="p">,</span> <span class="n">k</span><span class="o">=</span><span class="s2">&quot;0.75&quot;</span><span class="p">,</span> <span class="n">r</span><span class="o">=</span><span class="s2">&quot;1.0&quot;</span><span class="p">)</span>
</pre></div>

</div>
</div>
</div>

</div>
<div class="cell border-box-sizing text_cell rendered"><div class="prompt input_prompt">
</div>
<div class="inner_cell">
<div class="text_cell_render border-box-sizing rendered_html">
<h3 id="Set-some-default-node-attributes">Set some default node attributes<a class="anchor-link" href="#Set-some-default-node-attributes">&#182;</a></h3>
</div>
</div>
</div>
<div class="cell border-box-sizing code_cell rendered">
<div class="input">
<div class="prompt input_prompt">In&nbsp;[10]:</div>
<div class="inner_cell">
    <div class="input_area">
<div class=" highlight hl-ipython3"><pre><span></span><span class="k">for</span> <span class="n">n</span> <span class="ow">in</span> <span class="n">A</span><span class="o">.</span><span class="n">nodes</span><span class="p">():</span>
    <span class="n">n</span><span class="o">.</span><span class="n">attr</span><span class="p">[</span><span class="s2">&quot;style&quot;</span><span class="p">]</span> <span class="o">=</span> <span class="s2">&quot;filled&quot;</span>
    <span class="n">n</span><span class="o">.</span><span class="n">attr</span><span class="p">[</span><span class="s2">&quot;fillcolor&quot;</span><span class="p">]</span> <span class="o">=</span> <span class="s2">&quot;#ffffc2&quot;</span>
    <span class="n">n</span><span class="o">.</span><span class="n">attr</span><span class="p">[</span><span class="s2">&quot;fontname&quot;</span><span class="p">]</span> <span class="o">=</span> <span class="s2">&quot;sans serif bold&quot;</span>
    <span class="n">n</span><span class="o">.</span><span class="n">attr</span><span class="p">[</span><span class="s2">&quot;fontsize&quot;</span><span class="p">]</span> <span class="o">=</span> <span class="s2">&quot;16&quot;</span>
</pre></div>

</div>
</div>
</div>

</div>
<div class="cell border-box-sizing text_cell rendered"><div class="prompt input_prompt">
</div>
<div class="inner_cell">
<div class="text_cell_render border-box-sizing rendered_html">
<h3 id="Set-the-center-node-sizes-based-upon-cluster-sizes">Set the center node sizes based upon cluster sizes<a class="anchor-link" href="#Set-the-center-node-sizes-based-upon-cluster-sizes">&#182;</a></h3>
</div>
</div>
</div>
<div class="cell border-box-sizing code_cell rendered">
<div class="input">
<div class="prompt input_prompt">In&nbsp;[11]:</div>
<div class="inner_cell">
    <div class="input_area">
<div class=" highlight hl-ipython3"><pre><span></span><span class="k">for</span> <span class="n">i</span> <span class="ow">in</span> <span class="n">cstable</span><span class="o">.</span><span class="n">index</span><span class="o">.</span><span class="n">tolist</span><span class="p">():</span>
    <span class="k">if</span> <span class="n">i</span> <span class="ow">in</span> <span class="n">A</span><span class="p">:</span>
        <span class="n">n</span> <span class="o">=</span> <span class="n">A</span><span class="o">.</span><span class="n">get_node</span><span class="p">(</span><span class="n">i</span><span class="p">)</span>
        <span class="n">c</span> <span class="o">=</span> <span class="n">cstable</span><span class="o">.</span><span class="n">loc</span><span class="p">[</span><span class="n">i</span><span class="p">]</span><span class="o">.</span><span class="n">nsize</span>
        <span class="n">w</span> <span class="o">=</span> <span class="mf">1.25</span> <span class="o">*</span> <span class="n">c</span>
        <span class="n">h</span> <span class="o">=</span> <span class="mf">1.25</span> <span class="o">*</span> <span class="n">c</span>
        <span class="n">n</span><span class="o">.</span><span class="n">attr</span><span class="p">[</span><span class="s2">&quot;width&quot;</span><span class="p">]</span> <span class="o">=</span> <span class="nb">str</span><span class="p">(</span><span class="n">w</span><span class="p">)</span>
        <span class="n">n</span><span class="o">.</span><span class="n">attr</span><span class="p">[</span><span class="s2">&quot;height&quot;</span><span class="p">]</span> <span class="o">=</span> <span class="nb">str</span><span class="p">(</span><span class="n">h</span><span class="p">)</span>
        <span class="n">n</span><span class="o">.</span><span class="n">attr</span><span class="p">[</span><span class="s2">&quot;fontname&quot;</span><span class="p">]</span> <span class="o">=</span> <span class="s2">&quot;sans serif bold&quot;</span>
        <span class="n">n</span><span class="o">.</span><span class="n">attr</span><span class="p">[</span><span class="s2">&quot;fontsize&quot;</span><span class="p">]</span> <span class="o">=</span> <span class="s2">&quot;48&quot;</span>
</pre></div>

</div>
</div>
</div>

</div>
<div class="cell border-box-sizing text_cell rendered"><div class="prompt input_prompt">
</div>
<div class="inner_cell">
<div class="text_cell_render border-box-sizing rendered_html">
<h3 id="Modify-the-Ubiquitous-node-label-to-make-the-node-round">Modify the Ubiquitous node label to make the node round<a class="anchor-link" href="#Modify-the-Ubiquitous-node-label-to-make-the-node-round">&#182;</a></h3>
</div>
</div>
</div>
<div class="cell border-box-sizing code_cell rendered">
<div class="input">
<div class="prompt input_prompt">In&nbsp;[12]:</div>
<div class="inner_cell">
    <div class="input_area">
<div class=" highlight hl-ipython3"><pre><span></span><span class="n">n</span> <span class="o">=</span> <span class="n">A</span><span class="o">.</span><span class="n">get_node</span><span class="p">(</span><span class="s2">&quot;Ubiquitous&quot;</span><span class="p">)</span>
<span class="n">n</span><span class="o">.</span><span class="n">attr</span><span class="p">[</span><span class="s2">&quot;fontsize&quot;</span><span class="p">]</span> <span class="o">=</span> <span class="mi">32</span>
<span class="n">n</span><span class="o">.</span><span class="n">attr</span><span class="p">[</span><span class="s2">&quot;label&quot;</span><span class="p">]</span> <span class="o">=</span> <span class="s2">&quot;Ubiqui-</span><span class="se">\n</span><span class="s2">tous&quot;</span>
</pre></div>

</div>
</div>
</div>

</div>
<div class="cell border-box-sizing text_cell rendered"><div class="prompt input_prompt">
</div>
<div class="inner_cell">
<div class="text_cell_render border-box-sizing rendered_html">
<h3 id="Set-the-center-node-edge-colors-and-use-the-first-color-in-the-map-for-the-Ubiquitous-node-edges">Set the center node edge colors and use the first color in the map for the Ubiquitous node edges<a class="anchor-link" href="#Set-the-center-node-edge-colors-and-use-the-first-color-in-the-map-for-the-Ubiquitous-node-edges">&#182;</a></h3>
</div>
</div>
</div>
<div class="cell border-box-sizing code_cell rendered">
<div class="input">
<div class="prompt input_prompt">In&nbsp;[13]:</div>
<div class="inner_cell">
    <div class="input_area">
<div class=" highlight hl-ipython3"><pre><span></span><span class="n">i</span> <span class="o">=</span> <span class="mi">1</span>
<span class="k">for</span> <span class="n">j</span> <span class="ow">in</span> <span class="nb">sorted</span><span class="p">(</span><span class="n">centers</span><span class="p">[:</span><span class="o">-</span><span class="mi">1</span><span class="p">],</span> <span class="n">key</span><span class="o">=</span><span class="nb">int</span><span class="p">):</span>
    <span class="k">if</span> <span class="n">j</span> <span class="ow">in</span> <span class="n">A</span><span class="p">:</span>
        <span class="k">for</span> <span class="n">e</span> <span class="ow">in</span> <span class="n">A</span><span class="o">.</span><span class="n">edges</span><span class="p">(</span><span class="n">j</span><span class="p">):</span>
            <span class="n">e</span><span class="o">.</span><span class="n">attr</span><span class="p">[</span><span class="s2">&quot;color&quot;</span><span class="p">]</span> <span class="o">=</span> <span class="n">rmap</span><span class="p">[</span><span class="n">i</span><span class="p">]</span>
        <span class="n">i</span> <span class="o">+=</span> <span class="mi">1</span>

<span class="k">for</span> <span class="n">e</span> <span class="ow">in</span> <span class="n">A</span><span class="o">.</span><span class="n">edges</span><span class="p">(</span><span class="s2">&quot;Ubiquitous&quot;</span><span class="p">):</span>
    <span class="n">e</span><span class="o">.</span><span class="n">attr</span><span class="p">[</span><span class="s2">&quot;color&quot;</span><span class="p">]</span> <span class="o">=</span> <span class="n">rmap</span><span class="p">[</span><span class="mi">0</span><span class="p">]</span>
</pre></div>

</div>
</div>
</div>

</div>
<div class="cell border-box-sizing text_cell rendered"><div class="prompt input_prompt">
</div>
<div class="inner_cell">
<div class="text_cell_render border-box-sizing rendered_html">
<h3 id="Fill-the-nodes-belonging-to-two-or-more-clusters-with-mauve-and-increase-the-outline-thickness">Fill the nodes belonging to two or more clusters with mauve and increase the outline thickness<a class="anchor-link" href="#Fill-the-nodes-belonging-to-two-or-more-clusters-with-mauve-and-increase-the-outline-thickness">&#182;</a></h3>
</div>
</div>
</div>
<div class="cell border-box-sizing code_cell rendered">
<div class="input">
<div class="prompt input_prompt">In&nbsp;[15]:</div>
<div class="inner_cell">
    <div class="input_area">
<div class=" highlight hl-ipython3"><pre><span></span><span class="k">for</span> <span class="n">n</span> <span class="ow">in</span> <span class="n">A</span><span class="o">.</span><span class="n">nodes</span><span class="p">():</span>
    <span class="k">if</span> <span class="n">n</span> <span class="ow">not</span> <span class="ow">in</span> <span class="n">centers</span><span class="p">:</span>
        <span class="k">if</span> <span class="nb">len</span><span class="p">(</span><span class="n">A</span><span class="p">[</span><span class="n">n</span><span class="p">])</span> <span class="o">&gt;</span> <span class="mi">1</span><span class="p">:</span>
            <span class="n">n</span><span class="o">.</span><span class="n">attr</span><span class="p">[</span><span class="s2">&quot;style&quot;</span><span class="p">]</span> <span class="o">=</span> <span class="s2">&quot;filled&quot;</span>
            <span class="n">n</span><span class="o">.</span><span class="n">attr</span><span class="p">[</span><span class="s2">&quot;fillcolor&quot;</span><span class="p">]</span> <span class="o">=</span> <span class="s2">&quot;#e0d0d0&quot;</span>
            <span class="n">n</span><span class="o">.</span><span class="n">attr</span><span class="p">[</span><span class="s2">&quot;penwidth&quot;</span><span class="p">]</span> <span class="o">=</span> <span class="s2">&quot;3&quot;</span>
</pre></div>

</div>
</div>
</div>

</div>
<div class="cell border-box-sizing text_cell rendered"><div class="prompt input_prompt">
</div>
<div class="inner_cell">
<div class="text_cell_render border-box-sizing rendered_html">
<h3 id="Fill-each-center-node-with-the-same-color-as-its-edges">Fill each center node with the same color as its edges<a class="anchor-link" href="#Fill-each-center-node-with-the-same-color-as-its-edges">&#182;</a></h3>
</div>
</div>
</div>
<div class="cell border-box-sizing code_cell rendered">
<div class="input">
<div class="prompt input_prompt">In&nbsp;[16]:</div>
<div class="inner_cell">
    <div class="input_area">
<div class=" highlight hl-ipython3"><pre><span></span><span class="k">for</span> <span class="n">c</span> <span class="ow">in</span> <span class="n">centers</span><span class="p">:</span>
    <span class="n">e</span> <span class="o">=</span> <span class="n">A</span><span class="o">.</span><span class="n">edges</span><span class="p">(</span><span class="n">c</span><span class="p">)[</span><span class="mi">0</span><span class="p">]</span>
    <span class="n">hc</span> <span class="o">=</span> <span class="n">e</span><span class="o">.</span><span class="n">attr</span><span class="p">[</span><span class="s2">&quot;color&quot;</span><span class="p">]</span>
    <span class="n">n</span> <span class="o">=</span> <span class="n">A</span><span class="o">.</span><span class="n">get_node</span><span class="p">(</span><span class="n">c</span><span class="p">)</span>
    <span class="n">n</span><span class="o">.</span><span class="n">attr</span><span class="p">[</span><span class="s2">&quot;style&quot;</span><span class="p">]</span> <span class="o">=</span> <span class="s2">&quot;filled&quot;</span>
    <span class="n">n</span><span class="o">.</span><span class="n">attr</span><span class="p">[</span><span class="s2">&quot;fillcolor&quot;</span><span class="p">]</span> <span class="o">=</span> <span class="s2">&quot;</span><span class="si">{0}</span><span class="s2">90&quot;</span><span class="o">.</span><span class="n">format</span><span class="p">(</span><span class="n">hc</span><span class="p">)</span>
</pre></div>

</div>
</div>
</div>

</div>
<div class="cell border-box-sizing text_cell rendered"><div class="prompt input_prompt">
</div>
<div class="inner_cell">
<div class="text_cell_render border-box-sizing rendered_html">
<h3 id="Fix-up-long-node-labels-to-make-the-shape-not-so-oblong">Fix-up long node labels to make the shape not so oblong<a class="anchor-link" href="#Fix-up-long-node-labels-to-make-the-shape-not-so-oblong">&#182;</a></h3>
</div>
</div>
</div>
<div class="cell border-box-sizing code_cell rendered">
<div class="input">
<div class="prompt input_prompt">In&nbsp;[17]:</div>
<div class="inner_cell">
    <div class="input_area">
<div class=" highlight hl-ipython3"><pre><span></span><span class="n">n</span> <span class="o">=</span> <span class="n">A</span><span class="o">.</span><span class="n">get_node</span><span class="p">(</span><span class="s2">&quot;ENSMUSG00000044690&quot;</span><span class="p">)</span>
<span class="n">n</span><span class="o">.</span><span class="n">attr</span><span class="p">[</span><span class="s2">&quot;label&quot;</span><span class="p">]</span> <span class="o">=</span> <span class="s2">&quot;ENSMUSG-</span><span class="se">\n</span><span class="s2">00000044690&quot;</span>
<span class="n">n</span><span class="o">.</span><span class="n">attr</span><span class="p">[</span><span class="s2">&quot;width&quot;</span><span class="p">]</span> <span class="o">=</span> <span class="mf">1.25</span>

<span class="n">n</span> <span class="o">=</span> <span class="n">A</span><span class="o">.</span><span class="n">get_node</span><span class="p">(</span><span class="s2">&quot;9430076C15Rik&quot;</span><span class="p">)</span>
<span class="n">n</span><span class="o">.</span><span class="n">attr</span><span class="p">[</span><span class="s2">&quot;label&quot;</span><span class="p">]</span> <span class="o">=</span> <span class="s2">&quot;9430076-</span><span class="se">\n</span><span class="s2">C15Rik&quot;</span>
<span class="n">n</span><span class="o">.</span><span class="n">attr</span><span class="p">[</span><span class="s2">&quot;width&quot;</span><span class="p">]</span> <span class="o">=</span> <span class="mf">1.25</span>

<span class="n">n</span> <span class="o">=</span> <span class="n">A</span><span class="o">.</span><span class="n">get_node</span><span class="p">(</span><span class="s2">&quot;IRC900814&quot;</span><span class="p">)</span>
<span class="n">n</span><span class="o">.</span><span class="n">attr</span><span class="p">[</span><span class="s2">&quot;label&quot;</span><span class="p">]</span> <span class="o">=</span> <span class="s2">&quot;IRC90-</span><span class="se">\n</span><span class="s2">0814&quot;</span>
<span class="n">n</span><span class="o">.</span><span class="n">attr</span><span class="p">[</span><span class="s2">&quot;width&quot;</span><span class="p">]</span> <span class="o">=</span> <span class="mf">1.25</span>
</pre></div>

</div>
</div>
</div>

</div>
<div class="cell border-box-sizing text_cell rendered"><div class="prompt input_prompt">
</div>
<div class="inner_cell">
<div class="text_cell_render border-box-sizing rendered_html">
<h3 id="Layout-using-SFDP-(Scaleable-Force-Directed)-algorithm">Layout using SFDP (Scaleable Force-Directed) algorithm<a class="anchor-link" href="#Layout-using-SFDP-(Scaleable-Force-Directed)-algorithm">&#182;</a></h3>
</div>
</div>
</div>
<div class="cell border-box-sizing code_cell rendered">
<div class="input">
<div class="prompt input_prompt">In&nbsp;[19]:</div>
<div class="inner_cell">
    <div class="input_area">
<div class=" highlight hl-ipython3"><pre><span></span><span class="n">A</span><span class="o">.</span><span class="n">layout</span><span class="p">(</span><span class="n">prog</span><span class="o">=</span><span class="s2">&quot;sfdp&quot;</span><span class="p">)</span>
</pre></div>

</div>
</div>
</div>

</div>
<div class="cell border-box-sizing text_cell rendered"><div class="prompt input_prompt">
</div>
<div class="inner_cell">
<div class="text_cell_render border-box-sizing rendered_html">
<h3 id="For-illustrative-purpose,-display-in-notebook-with-Matplotlib">For illustrative purpose, display in notebook with Matplotlib<a class="anchor-link" href="#For-illustrative-purpose,-display-in-notebook-with-Matplotlib">&#182;</a></h3>
</div>
</div>
</div>
<div class="cell border-box-sizing code_cell rendered">
<div class="input">
<div class="prompt input_prompt">In&nbsp;[20]:</div>
<div class="inner_cell">
    <div class="input_area">
<div class=" highlight hl-ipython3"><pre><span></span><span class="kn">import</span> <span class="nn">io</span>
<span class="kn">import</span> <span class="nn">matplotlib.pyplot</span> <span class="k">as</span> <span class="nn">plt</span>
<span class="kn">import</span> <span class="nn">scipy.ndimage</span>
</pre></div>

</div>
</div>
</div>

</div>
<div class="cell border-box-sizing code_cell rendered">
<div class="input">
<div class="prompt input_prompt">In&nbsp;[22]:</div>
<div class="inner_cell">
    <div class="input_area">
<div class=" highlight hl-ipython3"><pre><span></span><span class="o">%</span><span class="k">matplotlib</span> inline

<span class="n">bio</span> <span class="o">=</span> <span class="n">io</span><span class="o">.</span><span class="n">BytesIO</span><span class="p">()</span>
<span class="n">A</span><span class="o">.</span><span class="n">draw</span><span class="p">(</span><span class="n">bio</span><span class="p">,</span> <span class="nb">format</span><span class="o">=</span><span class="s2">&quot;png&quot;</span><span class="p">)</span>
<span class="n">bio</span><span class="o">.</span><span class="n">seek</span><span class="p">(</span><span class="mi">0</span><span class="p">)</span>

<span class="n">img</span> <span class="o">=</span> <span class="n">scipy</span><span class="o">.</span><span class="n">ndimage</span><span class="o">.</span><span class="n">imread</span><span class="p">(</span><span class="n">bio</span><span class="p">)</span>

<span class="n">fig</span> <span class="o">=</span> <span class="n">plt</span><span class="o">.</span><span class="n">figure</span><span class="p">(</span><span class="n">figsize</span><span class="o">=</span><span class="p">(</span><span class="mf">15.36</span><span class="p">,</span> <span class="mf">10.24</span><span class="p">),</span> <span class="n">dpi</span><span class="o">=</span><span class="mi">100</span><span class="p">)</span>
<span class="n">ax</span> <span class="o">=</span> <span class="n">fig</span><span class="o">.</span><span class="n">add_subplot</span><span class="p">(</span><span class="mi">1</span><span class="p">,</span> <span class="mi">1</span><span class="p">,</span> <span class="mi">1</span><span class="p">)</span>
<span class="n">ax</span><span class="o">.</span><span class="n">imshow</span><span class="p">(</span><span class="n">img</span><span class="p">,</span> <span class="n">interpolation</span><span class="o">=</span><span class="s2">&quot;nearest&quot;</span><span class="p">)</span>
<span class="n">ax</span><span class="o">.</span><span class="n">set_axis_off</span><span class="p">()</span>

<span class="n">bio</span><span class="o">.</span><span class="n">close</span><span class="p">()</span>
</pre></div>

</div>
</div>
</div>

<div class="output_wrapper">
<div class="output">


<div class="output_area">

<div class="prompt"></div>




<div class="output_png output_subarea ">
<img src="data:image/png;base64,iVBORw0KGgoAAAANSUhEUgAABOoAAALhCAYAAADhFUsmAAAABHNCSVQICAgIfAhkiAAAAAlwSFlz
AAAPYQAAD2EBqD+naQAAIABJREFUeJzs3Xd8zPcfB/DX9zLlRMTMQOx59h65iK21N1W0CD+btqh5
1G5V1aZq71pVRY2QWEWMiL1XbBESMu/7+yOSJnJ3ufG9kXg9Hw+PH/f9jPfXr0ZePkMQRRFERERE
RERERERkXTJrF0BEREREREREREQM6oiIiIiIiIiIiGwCgzoiIiIiIiIiIiIbwKCOiIiIiIiIiIjI
BjCoIyIiIiIiIiIisgEM6oiIiIiIiIiIiGwAgzoiIiIiIiIiIiIbwKCOiIiIiIiIiIjIBjCoIyIi
IiIiIiIisgEM6oiIiIiIiIiIiGwAgzoiIiIiIiIiIiIbwKCOiIiIiIiIiIjIBjCoIyIiIiIiIiIi
sgEM6oiIiIiIiIiIiGyAvbULMDPR2gUQEREREREREdEnSzCkMVfUEREREVGm8OWXX0IQBHTu3ACb
N0/Gq1e7AQQjIuJvHDu2EAMHtoMgCGjQwB9v3ryxdrlEREREBhNEMUsvOsvSL0dERESUla1Zswbr
1i3A3r0/Gj3GxIm/4/59YMWKFRJWRkRERKQ3g1bUMagjIiIiIpuye/duFC/+GqVKFZJsTFEU0b79
HGzbtl2yMYmIiIj0wKAulSz9ckRERERZTUTE33B3dzXrHE+elICHh4dZ50jt0KFDWLBgMrZu/UHv
Pn/9dRzt249HbGycGSsjIiIiC+AZdURERESU+dy//4fWkE4QlHizdRKytz0AMXwn7EsuSnkmE5RQ
Pw7ErIvxgDocLVe91TmPh8cNSevWxtHREUAwGjRwMCikA4AWLeogNvYggGB8/fXnSEhIMEuNRERE
ZFu4oo6IiIiIbESw1ieCoET/8k5osv8ftEn8EzLv2QAAUQwCoIYg1E/6vvoJnkbnhmeOhlCLQTrm
8pW29HS0v4uxZDI/qNVqycclIiIis+KKOiIiynpWrVqFRo0aQi53gSAIyJXLHS1btsD27TxviuhT
MfCLEviq+w4AgF2Jrh9COiSFdLGr0GXTC0DmgfyuDqjqqPvvxJGRkWasNH1IJ4bvhCAokdOzKwAg
NmQFBEGZrl17/97wKtlP46hq9RFUqlRS2lKJiIjIpnBFHRER2ZwRI0bAw+M9Ro7sZnDfPn1mYu7c
TZDL5WaozHq2bt2K2bN/wokTJ9N8XqNGdQwbNhxdu3a1UmVE0rl7dwsKF7bU2XHmWVF38OAvaNiw
arrPxfCdcKgfjpg/nJH9uzyI/SfpJtuHmxqhw42uODmuD0TxCADg2fLvkK+3rptuzb0akIiIiCTE
yyRSydIvR0SU1Zw/fx6urldRrJi3yWPt2nUM/v6DkD17dgkqs7yWLVugXLmcmDFD88oabWbOXIfV
q4Nw6dJlM1VGZF4vX+5G7tw5zDrHs2elkC9fPjONrnnLqxi+M2W7rloMwpx6DVEz8CDqOgAOghLx
ydt0E55CcOwMUX1Y6wzz51/AoEGDpC6ciIiIzINBXSpZ+uWIiLISmUwGtfqI5ON6enbE48dPJB/X
XCpUKI7Q0BWSjFW//lAcPnxWkrGILEkQhJRtrVIqU6YHrly5I/m4qR05Mg9+fpXSfZ68oi7hen8I
Qn3MrmuPmoEHIaj6YGn1H7GqbWuIYlDKdljd788VdURERJkIg7pUsvTLERFlFfny5cWzZ9vSff7f
F7b/AwBM23gRa74ahCvvj2CBf0OU2XcQdf+ZBvj1hnOOjjq+sLX9L2qPHz+OOnUSzTL2tm3P0a5d
O7OMTWRODg72iI8PNHmcypX74Ny5axJUlLGwsDAoFBFmG//Ro+fw9uavZyIiokyEl0kQEVHmoimk
S5Z4Y0PKCpMxXcrjQWzSv8HExgNOAuDUYgycsmeDrj/S+vZtKWm9UitRorjWkM6+5KKU7wtCQ41t
EsNWwbnsTBR18NP4vF27vMiZ0830QoksLD4+AUlBuy+WdRmLXr2WQxCU6NhxAjZuPIinT18BACIi
3iI4OBT9+/8EQVCiceNJiIqqnNLXUiEdACgUCpjrHwccHPwZ0hEREWVx9tYugIiISBe7El1TVtQ5
yJS4GpN+1Zxg1w6ieFjrGJq2odmSGzf03eoaj37lGqLc3/tRcd7X2NtahQL5CmCgoifirihxR7DT
2vP167+kKZbIClZ+1Qxvnz/ByoNBWLlyZbrn7u6Ary/g6zsQixdbvj7NfGFnZ4fExMMmjzR8+DxM
m7bqQ3BJREREWRm3vhIRkdXdv/8HChXKb7bx8+RpgxcvXpptfNNpPnweSFpRlxxUCkJDvFpZHYPc
fsC6Ng4QBCVEMQhrWjWCsOYA6q0chMJD5+uYx/a3ABN9bN2AdggPO4vvgu5auxSjdfFxhrN/A6xc
+b3efYKCLsDffygSE82zJZ6IiIgsxqCtr1xRR0REVpcrVzMA58w2vm2HdEBiohp2dpq37iZt/d2A
ywlpVxImh3SC4AdRPIJKRVphontx3BpqiYqJLGPD4E54cO4kRp8It3YpRol+9Rw/KgtjzIKVqNCi
S5pn06dPx6FDB/Ho0UO4uLigVq06aNOmDRo1agQAUCp9kZjIm12JiIg+NVxRR0RENkOhKIawsJWS
jefk1BCxsXGSjWde2lfVSYOr6Shz+eO7XqjZ/X8oWLGmtUsxikohBwQBqotR1i6FiIiIrIuXSRAR
UeYUFnYLMTHVsXHjQZPGyZevNQDfTBTSAYAvfvlli+SjbthwAAzpKLM5OFeFKwd2ZuqQrvfagwzp
iIiIyGAM6oiIyKY4OzujSxcVAF8MHLgRxYp1Q0arv0+fvgpX12aYOfM4AF88e/bKEqVK4tmWXQiU
eeFKzyEYNuxX1K79HaKjY0weNzFRjWLFeqJr10kSVElkOed3rkPwbz9h/LkIa5disOtH9kClkGPU
sYcoWKmWtcshIiKiTIhbX4mIKFMQExJwucdglFu/yNqlmOxtSCjOVG8Gr4DuKLV4ltZ2cXFxcHJy
wtSpfTFmzJc6x/zxxw0YOXIRoqKiIJfLpS6ZyCKm18yPck3bo9XkhdYuxWAqhRwu7rkxMvi+tUsh
IiIi22LQ1lcGdURElCkEyrzgr86cB8onuz9zAW59PzXTvweROURHvMDGQZ3Qe90ha5diMJVCjqH7
LsHdu7C1SyEiIiLbw6AulSz9ckREn5LMHNQFuRZHYvS7TFs/kbmp1YmYXCEHVGHR1i7FIOGXz2Fp
p3oYffIxnLPnsHY5REREZJsMCurszVUFERGRVJ5t2YVKBzZbuwyDBbuXhrxsCSjf3rR2KUQ2LTOG
dD/5FUHUy2eZrm4iIiKybVxRR0RENi8zraZ7tTcQFz77AsqoW7BzyWbtcohs2qv7t/DrZxUyXdil
UsjRZsoSVGrT3dqlEBERke3jijoiIspa7N3drF2CXgJlXqif8DDThIpE1pbZQjpRFDGpfHZ0W7gV
JZXNrF0OERERZUEM6oiIyKbFhj+F78sr1i5Dp0CZF0rOn8aAjsgAKoU8U4V0F3dvxtZRX2WqmomI
iCjzYVBHREQ27XiByjYbgIW27AF1bKzN1kdkqzJbSPcoLIQhHREREVkEgzoiIiIDHXH2gWvVCqhy
bJe1SyHKdDJbSKdSyJP+V0fNd+/exenTpxEVFYWCBQuifv36sLfnX7OJiIjIcLxMgoiIbNa/ZXxR
80qwtctIIzNdbEFkazJjSFewYk30Xnco5bPu3bsjOvo+tm+fqtcYly7dQfnyvaBWq81VJhEREdk2
gy6TkJmrCiIiIlO9u3bL2iWkOJqnLEJb9WRIR1lKcHAwFIqyEAQhzTcvL09MnapfEKWvTcO6YdTx
R5KOaU4qhRzdFvyREtL169caQDDWru2nd0gHAOXKFYFafQRAMN682YvGjRuZp2AiIiLKEriijoiI
bNaZGs1R7dQea5fBVXSUZVy6dAmTJg3G5s2TDOq3ZUsgRoxYigcPHho178PQ0/jtC3+oLkYZ1d/S
VAo5xp9/DTt7B+TLlxfPnm2TdPynT18hf/7Wko5JRERENsugFXUM6oiIyCbZQjgW7F4aPqMHo9Co
gVatg8hUzZvXxp49syQZ6/Tpq/D0bI4CBQro1f7vad/g6oE/MeLQDUnmN6ejy3/GgTnjU7bnbto0
CZ07N0jXrpGzEgdjAQh2ENWBsBOUSBSD0rTZ/VULtFj5Bm/FIGTXMl9iYh3Y2dlJ/BZERERkYwwK
6njKLRERkQYZBYWHDh3CzZs3AQC1a9dG+fLlLVUakYGCJQvpAKB69dIA7kAuL4no6Hc62756cBun
1i/OFOfSLW5fC0+uXUypNSAgAEuXfqm1vSgGQRCUAOKhBiBk+x6IOQb102nI3vwKokP+wmcblDrn
/PXXYRg+fJ6Eb0FERESZHc+oIyIig6jVagwZMgSCICBnTlc0bFgNnTo1gFJZGS4uzhAEAd26dTNp
jpvfToLvyysSVWy4j0O6w4cPo1AhDwDBKd8aNHBAQEAZBASUQfnyr1M+v3JlLQTBoH80IzKb1681
bx0XBCWgjv8QNCHlf1Or4uiH2JhICIKfxjGio/dlOP+vzctnipDu/I61aUI6ANi9e4fOPoKghHed
FgAcAADi++kQxYOQ5R+D6JC+es07fHgno2smIiKirIlbX4mIKEMuLtnw8uUuZMvmZHDfp09fwcOj
DQz588Za214To6IRlKNEytxnzpxBXNxp1KmjMGq8o0dDUa8et82SdQwYMAALF3bV+EwQlCkrwlL/
bzaZEnEikCgGQf3yCuzy9MOI1Ssw+8tiGsepUaM/Tp26pPFZZrnhdUWvprh35mi6WgsX9sHdu2s1
9mnkrMSBmCAUsFdiQ2QQlNlT/TzGroad9wKc7PMYNWbcB5C0+k6Ta9fuo1SpL6R9ISIiIrI1PKMu
lSz9ckRE5mRnZ4fExMOSj+vu3hIREa91tjnfpDMq/bNJ8rl1CZR5oX7cfQj2SadC3Ly5EcWLe0sy
doECHfDw4VNJxiLSl5OTE2JjD2h8pi2o61nEH6vvJkIUgyATlFCneqbJ1q1H0L79uHSfZ5aQTqWQ
I6e3D4btu6zx+ezZg/DNN53NWIGvGccmIiIiG8GgLpUs/XJEROYycGA7LFgw3GzjV63aFyEhVzU+
e77tb+Rt95nZ5tbk4xV8Fy6sQMWKxdO1S94e2HXeUqwfVNqgOezs6iMxMdG0QokMoFarIZMdM+sc
JUt+jevX014SoVLI8V3QXchz5TXr3KZSKeQo5f85us7brLNd3boVcOzYAsnnf/euKlxcXCQfl4iI
iGyOQUEdz6gjIrKy69evo0yZUsiRIztmzx6EkJDf8PjxDty+vQnbt09F374tIQgCxo1Lv2rFHL75
povGkE4M35nuPKvU51ppelZ/3hONc4SELEPFiiU0Pgvr0Mf44o2gaZutppAumSgGYcPgAACAIGuC
y1P7YGxIIgrZ+yEGgLzqMo39zLE6kUgXmUyGbNkam218tVqdLqRb1tUPFVt1yxQhXbNRMzMM6QDg
2LFQrFt3X7K5PT3bAvBlSEdEREQacUUdEZEVDB06FHnyRGP8+J5G9VcoeiEs7JbEVQHv3r2Di0uI
xmdi+E64DM2OxKu3ER+2JtWNh8CYM4GYWvYGBJcALL97GF8XisLu6Bxo4ap9y1yS9Nu+LHk+naa5
QkNDUaFCpMb26bYLypohbHIBrG++BFOr2uncIggAL16UQZ48eSR9B6KMODjYIz4+UNIxJ0xYjsmT
V6b7XFU+O1QXoySdS2oqhRxy9zz4LviewX2PBB5C5y4d8eSp7osmPhYScg2jR2/E/v2atyITERFR
lmbQijp7c1VBRETp9e7dAsuXj8LcuR1MGicsbCWSbhkFmjSZjH/+2W96cQD27duHtm11BUkyrC//
FzqG/ffJf8FU0lbQr31ksBdaIEEMwpbOcoQmAhXsNI8WFxcHR0fHlB8fdixkkZDuxc59uDdtrsa5
KlSogOSfW02KlgtIeeeahe1T/tj9L8Tzgyge0diXIR1ZQ3x8AgDgiy++wODBvqhVq5zRYzk5NURs
bBwmT04fsmeGc+lUCjm+OXQTrvk8jeoLAE+ean7HkJAQREdHo0CBAihatGiaZ1Wr+mL/fsuuFiYi
IqLMiSvqiIgs5Pr19ShZsqDW5/FBv8JOOcSoMwl8fDrh3r3HxheXhvaQSkqvXr1Brlyfp/nMEqvp
1HHxuDftVxRRfaO1zfr1E9GtWyNJ53V0bIi4uDhJxyQylr9/fbx//wKbN6tQqFB+re369p2FDRsO
4cmTp8iePbvWdpklpBtz6ikcXbS/h66++pxnR0RERKQBz6gjIrI1M2b01xjSNXJW4mR8xv1n1dZ9
ztS9e5sRHi5NwBUZWUGScTLycUiX8OYtCgz+2qxzxj1+imOeFXSGdADQrdskbNx4ULJ57e39GdKR
TQkMPIyTJ8NQqFAHAL5QKZohaSt62m/Llu1CVFR0hiHdxEyw3XVC6BuDQ7oLf66HSiFH2+m/MaQj
IiIii2BQR0RkAaNHf6FXuztqwPHDuW8/+3+WcgbcqJOxeBUTk+byho8NGtTV9EIBuLm5AfDFs2cR
koz3sbNnr0PT2XTBOUuhxNwpZpkTACKPnkJo617wfXlFr/ZduqhQoEAXk+f9888IJCQkmDwOkbk8
uRoKB6dsRvVd0KoK/AeNhyAY9A/FFqVSyFG1w1eQybTswdfRb/uYvlCFRaNiS2l+fyUiIiLKCM+o
IyKyIUVk//0LyneHo5BNSNrDf0ZV6sMXwtq/GM6WzUnSWvLlawUAkMtdcPfuJuTNm9Ok8QoV6ob7
9x+gSpX0IZ25HXYsBL93t1Ht1B69+wTKvBA84RsAvoiJiUG2bNlw+fIalCnjo7Pf3Ll/YM6cHbh7
N+mg+latTKmcyPwWd6ht1LbV2OgolGvWHn79R5uhKmkkr/YzJEhMiI3BlKq50W/LcXiWqWjG6oiI
iIjS4xl1REQWsHTpdwgIMG9ic/16fpQsWdKscwwfPhy//PILfv55EIYP76S13Zo1+9Cjx1SoVCpM
nDgxw3FD6rRE1eO7pCw1xaPFq+Hdv4fe7RMiIhGcpyz8Ex9l2Pb27dsAkO7geKLMxNjz5Wz9XDpj
6vu1eXm8enAbY0NeGL3KkIiIiOgjBm09YFBHRGQhz579iXz53M0ydqVKvXH+/HWzjK2vmHsP4exT
wKi+5rpE4v7MBVDHxqLwhBF611Hx73XI1cxf8lqIbJUxgVZmCOnKNW2PjrNXG9QHgE2/FxEREWVK
vEyCiMgW5cvXCpMnr5R83HLl+lk9pAOAV/8cMbqvsQGfLk9WbUbci5d6hXS3vp+KQDtv+KvDGdLR
JyUxIR59NwYZ1Gdq1Tzot/mYmSoynUohRwllU4NDunJN2zGkIwDAihUrIAgCNmyYiKSb0PX71qNH
Mzg4OODixYtWqpyIiLICrqgjIrKCtm3boG3bcujRo5lR/T//fBR27ToKmcx2/r3lfJPOqPTPJoP7
3Ro1BcVmjpO0liDX4vCNuArBXvdRrGJCAg47FjLLaj6izMDQlXGz/Yuh+fc/oWyTtmasyngqhRwj
jz6AS85cercHuIrOWgIDA3Hjxg3ExMTA09MTvr6+8PDwsHgdoaGhmDZtBDZuzPioBkPlyNEcb97Y
9q3IRERkdtz6mkqWfjkiyhr279+PNm1ao2hRL6hUvdCgQRW4u7sCAM6fv4Hdu0/gxx83omXLNliz
Zo2Vq9Uu0M5br3Pd0vWTeNtrVOgVZCvmAzu5i852h518UHBEAIpNHyvZ3ESZjaFB3aQKrpgY+taM
FRlPpZBj4M4Q5C1WWu/2dvYOGH/+tZkro3///Re1atXCiROLUKtWOb37NWv2Hbp1G4AePfQ/Z9RQ
58//jkqVSpht/GStW4/Bzp3BZp+HiIhsEoO6VLL0yxFR1meus9vMwdhajQ34NIl//hLnG3dC9fMH
dc+ZiX5eiczJkKDOls+lMyR0i416i+m1PDBg+2nkK1HWAtV9ujw9PfD48RZJxqpatS/OnLli0A2+
urx9+xauruc1PhMEJV6rg9DGWYm9sUFIe6e6CEHwgyh+tGU8MRpylxZYfnInulTOoXHcmzcfoXjx
LpLUT0REmQrPqCMiyirKrluImHsPrV2G2RzzrChZSAdRxIkiNXSGdOFL13KrK9EHK3o1xWdjZuvV
dm7Tcmg/a4WZKzKOqnx2ANArpJvdoDim1/LA+POvGdKZ0bhx4wAESxbSAUBIyDIIwlEUL15MkvG0
hXTJcsr8Ur5f2F6JN1cOAQAE4b9zTJf/MBsO2ZrjPQDYyREdG4iuVVpoHbN4cW+MGvWFSXUTEVHW
x6COiMiG5e/aBieK1LB2GWYT9/S5JONEHAjGjeEToIy6pfF5YlQ0AmVe8Arojvpx9yWZkyizu3fm
KGp0659hu78mD4Fn2Uoo/1knC1RlGJVCjjINWuq10k+lkKNgpVpQhUXDzt7BAtV9mgoX9sGUKU3T
fS6G74QgKAEAMkEJuzwz0rVJfu7v4Q9BUKLq1Lvp2ty8uRJHjy4wqcYDBw5k2EZM3IS4VD/OXqYB
mjkrAagBAG5fHkOfCTuREBMNlw/hnVymxIkI3RcrzZyZ8a85IiL6tOk+ZZuIiMhMXgf/i7JrTfti
K9ntsdNR9d+/NT6LOHQUL/7cx1V0REY6s3m5TW55/bV5eXiWqYjOczfobHdy7QLsnTHSJt/BWGq1
GtWqVUVCQhTWrx8PhaKIQf07d1Zh+/ZgXLx4EaVKlZK0trt312p95tz+G4hQo+jgcbiz/iwaZ/fD
/qgjEAQl9vfPDQBYG6nG4ZfecHB6jpCxhTWOU69eBRQvXgw3b2r+x5mMNGrUCEk3teog88DxuLQf
7Y1J2u4qCEpErqkLYS0g2OWGmPga7zaNxzsRqO2uYVtsKomJatjZGVU2ERF9InhGHRGRjRPValwL
+Balf/vZ2qXoZOi5b1KdE6drnECZF6oc2wW32lVNnocoKzm1YQku7d2Kr1b9o7OdrZ5Lt7Z/G9w8
uj/D2rLSra7Pnz9HmTIl8eLFn5KP3bPnNFSt2hxDhgwxaZywsDAoFBEan4nhO+EyNAdi/pgIMXEL
7PKtQOKL0fj+dDxmKkdA/X4eBEEJUTwEQWgEUTwMQWgAUTykcbzBg3/BvHlbja61SJHCuHPH8hc0
Xb+eHyVLlrT4vEREZFU8o46IKCsRZDI8/n2jtcuQnMzR9K1n2kK6l7sP4Ii8KPzV4QzpiDT4e+qI
DEO6xe1r2WTApVLIcfv4IZ21xUZHQaWQY8D20zb5DoaoXLkSgGDkzXvVLCEdAKxaNQZDhlQGEIxB
g9oZPY5CociwzcerzWbUaAj1+3mpPrHH5a29Ic/VXmtIBwDnzj0xtkwAwJ07dwH4IjLSMv99qFQr
APgypCMiogwxqCMiygS8+/ewdgmSCspRAn4x90waQ1tIF750LWTOzvCLvm3S+ESfuifXLlq7hHQm
V3QDAEwIfaO1zewGxTG9Zv4scWHEV199hnPn5ml8JghKCIIS9nkHo5GzMuXHIpLOgJO5jgSA/57J
/NP01Wb+/OGIjdUekGWkZcuZmuv1ao33Wz7UIMuPxBejgfiL+GLaf6vFk0O8Mu2+RPQr7avlZs/e
hKNHjxldY2pubs2watVtzJy5TpLxPlalSh+8fVsJKtXvZhmfiIiyHgZ1RESZQMmFM3BHpd/tjJlB
YpRpKxi0hXSHHQshZ/06cG9Yz6Txs4q4uDgULFgAPj6e+PXXoUg6kyn9t4sXV2HIkA4QBAHTp0+3
ZslkAe8iXmbYxha3vD65dhHqxASddakUcrx99jhLXBiRLZszVqz4XmcbUQxC4osLAIATcUE4NDAv
KqluQZTlgBh1Mk07iIkAgDc7pyDhwQgUGx6qdVwnJwecP29csLRr11+ws6uvX2OH8lj7fTWDxs+f
vw2++Wa+4YXp0LNnT4watRiALzp3no9q1QIQH59g1FhXr96Hk1NDLFoUBsAXZ89eg6urq6T1EhFR
1sYz6oiIMgmpznQzF0Pqu9Ttfyi3fpFR89yfuQCFRg00af6sLH/+fPjttxFo2bKuyWO5u3+OS5eu
wsvLS4LKCAA6deoEQXiJdevGw95e+4nyixfvxP/+Nxvbt29HmzZtJK1BpZBj3NlXsHd00vh8ckU3
fBd0F9nc3CWd1xRvnoXj5wYlMgzpKrbsirbTf7NgZeak+7KDpBV0Mhx9dAATijTAwVigSOVquH16
CAT7pFXYix4cxh/F6+NgLOBdpwUeHhsJ2YdVd0D6bajp+Zr0BrVrl8eJEwtNGiNZePgLzJ17EjNn
al6xZ063bt3C5s2bsWfP33j06CEiIl7D3T0nqlevibp168KzhicK5iuImkVqWrw2IiLKFAw6o45B
HRFRJvFowQrkrF8H8nLS3tAnFX2DsrPKNqgStMOoOS62/QqllvwIx3x50nx+NJ8C9Z6Faezz/v17
9OzZE1u2bAEAlCrlg4IF8yEi4i3u3HmMV68i0bBhA4wcOQpNmjQxqi5rO378ODw8HqBoUfMFamXK
9MCVK3fMNn5W1qlTA2zePMmkMWJi4tCo0QRJtvtltFpu16TBaDlR83ZLa1jRswnuhRzTWnNWujAi
tYYNq+HgwTlanyddvJAUtDVyVmLK2yDUckja9qoW/7udtKETcCAmCEuaNseqBtNwYtxsiPFr0c+r
PlpcO4yWOhd7mRbUJUtMTISra3aMGtUVEyd+pVefsLA7qFq1D+7duw8PDw9J6jCnkX+MxKwOs6xd
BhER2SYGdalk6Zcjok+PLa8a07c2Y9/h3ZUbeLxiI4rNGv/fh6KIQDvvNOMtW7YMJ07swO+/jzZ4
jmQ//bQR8+btwr17940ew1Ls7OyQmHjYInPdu/cEPj4dLTJXVlCwYAE8eLBB0jFfvXqDXLk+N2kM
XUGdrW153TC4E64F7tZZr4NTNowNeWHhyizj0aNt8PbOa5W5nz4tifz585t9ntu3byMuLg5lppWB
uDpz/9XqQI7IAAAgAElEQVRd6CtAXJa534GIiMyCt74SEWVVdtnl1i7BZE7exq2MOFOjeZqQLvbh
YxzNXz4lpPPx8QQQjL59S5sU0gHAt992wb176wAEIzR0JR4/fmzSeOby+vVrrSGdGL4T9iUXpfl+
8qHyACAIfoA6HC1XvU3V6Q0adRyOmjM1B5Q+Ph549GibpO+QVTk5OWoM6Ro5KyHI/DD296QVoNXk
fhBkjdO0ibx5Hm7O/pi46lK6/rly5UB09H6Taus8V3N4+PuXjbQ+swZ1YoLWkO5dxEuoFHIM3RuW
ZUM6APD2bofs2ZtadM5372IA+FokpAOAokWLonTp0hjeYrhF5jMncZkIuwDtW9qJiIj0waCOiCgT
Ub65gUCZ8dsbN23ahFKlSkAQBPj5VcaAAW0xeXJvjB7dHV9+2RTFihWAIAhQKn3x8mXGB84bKlDm
hToPzhrVT/n2ZsqPIwKPIax9b9R7FoZ69eoCCMa9e5slrPQ/FSoUg6fnTTRpUsMs45viiy8+M7jP
u7jf0WzJkw8/kuG3ds6QCUrEABDsOuDvAG+d/b298+LUqVOGF/uJiY09qPWZqD6Cab0HAIhHyDsR
cKoGQagPQIQg84db8UqIjAnE5F7/09hfLndGqVI+RtU1tVpelGnYSuOz++dOaH1maWp1IiZXdNMY
0s2sWwCzfAthYuhbuBcoYoXqLCsq6h0ePy6Ozz8fZdZ5Nm8OxPjx/8DFpXHGjc3g504/o+fvPa0y
t5QOjDiAVcdXWbsMIiLKxOytXQARERnG0SOfXu2GDh2KmJi7WLLk25TPOnf2QufO+t7kdznNj+zs
6uP9+/dwdHTUt1RJfLxV9sHsxSg4oh+q/vs3Ro7shqNHZ2jsJwhKvLjzG/IU6ZPhgenKuU8QNDRp
pV9heyXuJqRv/88/s5F0uLs0ZzZJ4dSpK4Z3ciiOqBF+AIDXW1bDqfU3AAA7AKL6H8Tt/ynDIcqW
LWv4vJ+Q1atXo0cP7QGSICjhXacFgKRbScX30wHEQxD89DjcP8m1a2uNqi0+5p3Gz21py+vO8f1x
bvsajfVkvQsj9OPp6Yndu4+n/DggIAC7dm3HgQOzUa6c4WFlXFw82rcfj0ePonH27HkAQKdOvujU
SbKSjbL6xGqs+jpzh1z+pf2x7t91OHDlABqVaWTtcoiIKBPiGXVERJmQrnPeChf2wd27xn0Rr49H
j55jy5b7GDZsmN41AcD9WQuRt8PnyFZU/5VAwTlLwff1tZQf3xwxEc4+BVFgaB/8/fff+Owz7aeg
Jx+0PrNmA4z69xAEWROI6r0QHHrh8FAZ9rZWYVbbeUh8MRuCXUvMaemEg60X4WLf9hqDumQ5cnyG
N2/ean1uebpvhpRa9+5TsHbtPovOmTlp/v+lkbMSB2KCUMBeiQ2RQVBmT/rvVBCUEGNXw857AfDi
X6gBQOYCMXGvxnGePHkFD4/WBlelKZCbUcsTg/8OhTyXdc5CS23T0K64cvDPdDUeXjgVhxdOs5kw
0VaFhITg9OnTOHfuHCIiIuDu7o48efLglyu/IHqb7f/cVZtSDWfGnbF2GZKw72ePhCUJ1i6DiIhs
Ay+TSCVLvxwRfbqO5i+Pek8vpvlMrVbj/fuDkMudLVKDTOYHtVqd8uOMgjpDL5F4vu1vOOTJhZzK
WgCA2+NmwKmAF7z79wAA+PrWQ3DwdK39k4O6vHZKPE8MgiBrDFG9B4LD1xDjV0MQlLgSG4TSjoBi
/A2ETZJD5roQhWKDdAZ1RYt2xe3bD/V+D3Pr168flizpbpG5KlXqjfPnr1tkrsxOrT4Cmcx8J4zM
m3cegwcPNqjP1pFfIad3ITQcmvYGWltZTRf3PhrTqudLV0tWvdXV0njRgeXx55yIiD7gZRJERFld
vacXcbJ47TSfyWTHtIZ0yRcIAED4tmlwKjwa1XPVx9QzMdjavT3qzbqd6pKBpP9VLQ5O0+9javUR
yOXZTH0Vra4FfJsS0t1R/QQnL4+UkA4AgoOPZjhGjjxtcfBpIACgZmEnBD1J+oIpOcQr45T0frny
uMLJ5Wuoo6dkOObEiVMNfhdzWrJkCQBfFCxo3ttYK1QYkGlCuhs3bmDmzJkYPHgwRo8ejWXLliEu
Ls6iNchkfoiJMc+cVaoMMTikA4CLf29OF9L90rSsxgDs1KlTEAQB69ZNQNLqQM3fdu6cDmdnJ0yY
MMHwF0kl6uUzrSGdU3ZXhnQSqFKoirVL0EvJsSWtXYJkbky9gTHbx1i7DCIiymS4oo6IKJM64uwD
v5h7AIBGjRriwAGV1rbJgduYM4GYVs0/5Rys5MDKSabE08Qg5BT++yz1c92SzmzTtWIu8vgZuNWp
pve7BbmVhDIyKRR6vu1v5G2n+dKEpK1dYXqPayp7e38kJNjWVqag7MWQ+O49ik0fi0KjBuL27dso
UaIEXr3aDTc3428JXr58N/799xWWLl0qYbXSc3Z2wunTS1G+fFGD+o0atRhv37ph4cKFZqosybZt
29CunTRbSgsV6oj7959k3FCLj1fOJcTGYGadAim3pvbr1w/jxjVBwYL6nYOpTdLvG/r/FWxm3QJ4
HxmRprZZ9Qri3etXDOgklhlWeGWGGg1x8vZJhD4MRYAywNqlEBGR9XDraypZ+uWIiJLDsWbNmmLv
3nFa26UO3Drmq486QfvR8+5ceH7nhtcrHeDa4SkS7+7+76wsiYM6Q7a9pm4bdeEy7kz6CeW36b4A
Y/XqsejRo5le4xsjKuo99u17i/bt25ttDkO82LUfF1sn3Y6Y0c/r8+fPMWzYMKxfvx6VK5dCnTpl
UbBgPri7u+L27cc4d+4GAgPPwtHREevXb0CrVrZx62dGevdugeXLpbkF09BgyRiXLl2Cv78vnj3b
aVC/kJBrGDp0BY4ePWbS/FcP7sK+WaMxdN+llM+Sg7uEhAQ8e7YLXl55TJrjYw0aTMChQ4E620yq
4ApRrU4TyHGrq3n1W9MPS75cYu0ytDp15xSq+FSBvSzr3HnnNsQNkb9GWrsMIiKyHgZ1qWTplyMi
ejj3N8DODgUGfQVLXyoAAFOnrsbYscsASBPUhbXvjbLrF0Hm5IiEN29xplpT1Lp+PMN+APDmzRtU
rlwWt25t0P8FMrBv3ynMmfMP9u61jcsTDjv5QIyPR73nl+CQ293a5VjFuXPnULlylOTjzpu3FYMH
/yL5uNqcPXsWM2bMwI4dOxAfH5/yeW65I35euAw9evTQ0dtwH6+m2ztzFPIUKYlqnXpD0+8dYvhO
yLxno1rTZji9dwxiQ1bAudoKDcG9qPO22r/+ikSLFi00Pts5/n84t311upCu5hcD0Pz7Hw1+R9JP
ZlixlhlqNFRWfCciItIbz6gjIvpUFBjaBzeGjAUA9OmzyqJzL1y4PSWk0+XK18PhF307w3ZiYiIS
Xr+BzMkRAHAsn0LvkA4AcuTIgVu3HgLwRUiICwRBiSlTVuvdHwBCQ28hX77WWLv2HgBfNG36jdVD
utBWPREo88JZ39aoH3sP/urwTzaki4qK0hrSCYISgqCEZ/NtAACZY0+tbTSdvTh4cHuEhq6UtF5d
qlSpgs2bNyMuLg6iKKZ8G1TYXvKQTpOTa+ajWqfeKF++uNY2diW6Iv7QXtxSA87VVgBAurMsBcFf
5zwtWrhp/HxR2xppQro9079LCRMZ0pmXuEzEketHrF3GJ0dcJqLV/MyxYpmIiKwr66wpJyL6RPmr
wxEo88JvH1asVaxYARcuLDDbfGFhd3D+vAwDBvyc5vPcLRprbP9k5SaU+X1OhuP+W8Y3JZi71LV/
yvl7xnhTvSVEtRoQDPrHK1So4Itnz3oZPa9UglyLIzH6HYpNH4sKf1o2gLVl798HInv2nFqfJ23d
9gfQDrIC1QEkBUoyAIliEEQxCBUc/fBzhOaQokKFYnB2dkJMTKwZqreexIT4ND9Ovbru4sUV2vvd
2IBQmTOKyYDZdR1QM/Ag6jr8tyVefPYXgKSbn92+PIbINXU1jhMYGAh///8CPZVCDm9FVajCoiGK
IiaVz84LIyys6ZymiFkUY+0ytBKXiWgwuwEOfXPI2qVIakG3BRi2cRh+6WL66t2jR4+iSZNG2L//
Z9StW17vfsHBoWjceAQCAw+jdu3aGXcgIiKL44o6IqIsoNL+zSnfv3AhFIAvVKqD6NRpomRzJH1x
Xg8KRQ9079493XPPHulvHRUTEpCvY8sMxw6UeaWEdIEyL5TbsNjoOlO22RoY0lnbi137ESjzwpnq
zaB8exP+6nAUGjXQ2mXZlLx5tYd0AHBq+XTI8lZP81mlbALUqf66czFeRCMdd2zkzOlqUo2mavzN
VERHvJB0zB8qu+PbI3f++yDVr42EhESt/exKdMWLbfXhUHp+ymdymRLqD2dZCvlapGx51RbSAUgX
0tUfMAZ9NwbhzdNHmFQ+O745dBPfnzT+kgwyXMyiGAh9bfv3yMCrus83zIwK5iqIXaG7jD4Tc8eO
HRgypAOAYNSrJ+Ldu/0GhXQA4OtbATExB1C7dgKAYAwY0Ba7d+82qh4iIjIPnlFHRJRFZHQOXKdO
nbBlyxYMHdoBffq0hEJRRGO7gwdDsGzZX9i69Qg2b96Mtm3bmq0mALga8C1KL/1J7/baxL+MwNG8
5Yzuby2BMi8A+KTPndOXrgskkld5yQQl4sQgOBedj0dz3sI/sBkuDn+K07mb4VFAK5wethUzajho
nWPcuH2YMmWKuV5BLx+fJyfleL91q48+6w+nPOvVqxdWruwt2Vwfa9FiNP7661hKHf22HIdnmYqY
UcsTMVFvuIrOin4/+jvaVmkLdxfb/H3nxrMbcMvmhnyu+t9CLIoiPDzyo0iRfPj554GoU0ehs310
dAy6dZuM3btPYMeOHVrPU5SaMefVffddV/z44wAzVQQMHfor5s7dYrbxiYg+cbxMIpUs/XJEZH7D
hg3D9u2bcPTofBQsmPEXCwsWbMegQXPw+PFjeHh4WKDC/8Q9eYbTVZqgbvh5o/ofdiyE+nH3jer7
4s9/kKdVk3Sf6xO8nSxZB7WuHzcppDtbtyWiL12H7+trRvW3tNBWPfHyr/1wq1sdVYINuwWUzHdp
ysCBc7BgwTazja8vcwZ1msb29a2E4OB5ks2XLCEhEfb29VPmLdukLTr9vJa3utoQW7/gQJ/6hg8f
jhw5XmPSpK8lmfOPPw7j55//xvHjJyQZTxt9f+737NmD5s2zax7jwz9Q+DspsTc2CE7JDxKjIXdp
geUnd6JL5RyoJvdDyHtHHN86EHXa/azzNvfAwIQ0q2CJiEgSDOpSydIvR0TmIZe7IDpamgsEli79
E1WrdkHVqlUlGS8jt0ZPgV327Cg8bphR/Y0Ny477VEOde2fSfHax3ddQbFkGwc5Oa7/DTj6oH3vP
pJDOlL6WlHzuXN3w83D00H+FCKWXK5cbXr36S9IxW7f+ETt3/inpmMZSKeQYGXwfLu65JRnv1PrF
qNGtf4YBYLNmtbB3r+kXOTx69By7d79AQEAAzu9Yix3j+kEVFo3DC6fi8MJpDOhsjC2HdVceX0EZ
zzIan5UvX1znGYtSGDfuN0yZYr5zQj//9XPsHqJ92+m7d+/g4hKi9bkgKAFZLtS3f4W9sUFw/nDJ
S3IQlxTkHYQgNASc60J8Pz0l3NMlLq4mHB0djXgjIiLSgre+EhEZL1iykA4AAgJaoWrVd2jRQvv5
TVIqNmMc7kyYZZG5Uot9kD4oe7Fjr86QLlDmhfqx9/By94EsG9JpOneOIZ3pXr2KxB9/PMXKlXtM
Hsvbuz0AX5sJ6QDg69X7Mcu3kCRjzWlcGjW69der7d69JwH4QhCUePXqjcFzVasWgHfvqsLbux0C
AgIQ9eJpSkinUsgZ0tmo5T2XW7sErcp4lkGe4XnSfBYZGQkgWGNI18hZiUgRUD/YBrcvj6V51rFB
APL6pL9R+cT2HRpvggaAKVP6AAjG9OnTjX4HXSLfRyIuIU7rc3f3jLclL2wQi9QjJIdwcpkSJyKO
AEja6i++1/8d8uXLq3dbQ925cwcLFy5Ev3790L17d4wePRp79pj+ezkRUVbCoI6IKIXmLXWCoIQg
KFFo8LmU738+90aaZ/EA3OySvj/13/fpxvjrrxl4+tQyWxyTb4E1RraiPoBEK63tc2g/lD/IrST8
1eEQ1WpcHzLO4LGfrt1qsyGdOjYOgTIvBMq84Fa7KvzV4ah2eq+1y8pyOnTogF69pgHwRefO8zFu
3G969UtISETlyn3w11+RUCmaoW+ud+Yt1AiFqtSRbKzIxw8AAKry2fUOyURRRK5cn+Pqwdf4qf0Y
9OixLOX3uly5WqR8v1atb3D5cm4AvgB8cebMFbi4uAAAjiyajp/qF8XEi1FQKeSQu+fJUiHdlClT
0L59fST9uaH929ixPeDurvsSFGv7ut7XNn2xxMuol2l+7OYWqrN9Tplfyvfjg37FmyuH0HtPPLYc
Wop/h7l+uKcY8HBrhFXHnqN22zYZ1vD99/UMrlsfR0cdhdP/nLQ+nzZtWoZj/G//Hhz/KOt7t2k8
3olAbXe/NJ87fAgktQWTyWbMmJnhvPqIi4uDIAg4dGgukn9NFCnyEAMGlMeSJd2xdm0/zJjx+Yet
vf/9usmZ0xXbtln/GAIiImvh1lciIgBbtkxGx46az2RJv01EhCD4QxQPw77kIiRc/x8AQCYoce73
RhgR1QsHB2teDbNu3X188cUXUpefTtyzF0h4GQGXMiUM7mtMAPZxn7inz+GYX/u/yD+YsxQFhwcY
NVf40rWIOHwM5dYvMqifuSWfO1dq8Sx4BaS/FZcsLyYmBs7OzjrbhGz5HbsmDba5EEmqc+qSxzFm
PGNr+NHXB9ERLzBs32X80rQsRh17iGxutnlhgSHi4uLQsWND7NyZcXiiyZYtgZDJyqF9+/YSV2a6
vy/+jSJ5imjdZmptjv0dEbc4OY3Sfk5lI2cltm77HMcKFUfXmR540TcEgnII7D88b120IbbfPgi7
j/5c12c7aFIb83xpoWv78Zw5gzF8eCezzKvJ1KmrMXbsMpPG2Lx5M9q3zw87O9PXhDg4+CM+PsHk
cYiIrIxn1KWSpV+OiKSk/S/+af4CH/sAQraeENWHACBNUJfU7jAEWUuIas1nzuTP3wZPn77U+Exq
gXbe8Ht/FzJH7TdcauwnQVCna4zkZ1LMY21BOUogMSqa585lAZMr5IBanWgzgd29M0exoldTk+r5
56cxiH75DBd2bbBYSKdSyFF/wBgcXpgUZtnKz6epGjSoikOHfpFsvJMnHVCrVi3JxpOC6yBXvJ3/
1qA+w4cPx/r1qxESsgwFCqT9x5nTp6/iiy+mYMyYSejVq5dJtd16fgs/7fsJi7ovQkZB3YGYINgL
Ssi7T8eLviGwUw6BDPFJ57QhaWto2DIVygccApxqwT72JJJjIF1hXcuWM7Frl7RnY6amK6yrVq0q
zpyR7r8/berUGWnSJRonTpxA7drmCdXc3VsiIuK1WcYmIrIAnlFHRGSoqKj021VTEwQlHKutgeD8
BSAmaNw2cn33YDi7tdUa0gFAs2YtTK5VX/6Jj3DE2cfgfnnbfYa4Zy8M6yTo92ePsSFd/ItXNhPS
Xek5BIEyL5xS1IfyzQ2eO5dFTAh9k7JNc3GH2tYuBz7VTN9qd3zlXLSdrt+W4NRUCjnGnnluVL9O
czfg8MJpqD9gTJYJ6ebOHaoxpBMEJbK5tU75cV1FJ+T27op7MUmBkSDzw9jfwzSOWatWvNnqNdbb
+W/13gI7c2Z/AMGYM6cdnj7dkS6kA4Dq1Uvj+vW16NWrGIBgNG5cA2q1Ol07fRTLWwx/hPwBtahG
qVLaVywfiEkK2hLEIESuqQsH5ZAPX+w4QBSDUoI4RV9V0o9jZiH+w+e6QrotWwLNGtIBgHqpGm/e
az4b8syZEAC+KFasq1nm9vHpBMDXpJDuyZMnWkM64aMtt6mPFGnkrMTJ+P/a/f5Ec1gZEbELuXPn
Mro+IqLMhCvqiIgAHDlyBH5+lvi3C18LzJGWuVeuRRw6ijenzsNn9CAAwL9llah5Of0XPJHHTkOw
t8PjFRtRarH+F17EPnqCU+X84Pv6mt59pKaOjcORbIUBwCbCQjKvBa2r4vmtq1YPmkzd/prcPzbq
LZyyaz8zMrW1/dvA3tEJXX7dpPc8anUiJlfIgQotuiL0L8NX79myLl06Y+PGQRqfJa2o7gtBaAwX
IRHR6v9+30te2aVrS2Xu3C3x8qVtrRBKUCegx/IeWN93vcbnDg4OiI8/ZNIcbdr8hB07jDuzNXnV
mUwmg1p9xKQ69FWlSh+cPWuZP3/0vYF3y5YtGDp0AMLDjT/HrUiRLvj++4kICAgweozUDh2aiwYN
qmh8JghKdNu6C+vbt4Qopv110chZiSlvg1D27ynoFz8MGzu2gCge1jGT5f8eRUQkAa6oIyIylJ+f
HzZseGi28d+8iYYomucw6ozUuHAQxzwqmG38a/1HpoR0APDu6k2N7c76tkb2yuURc/eB3mOfrtQQ
pys3slpId6lzPwTKvBC+eDX81eEM6T4RA3eG4JtDN6FSyHFgznir1VG7x2BMq5HfqL7ih5VLKoVc
75AuNjoKN4/uNyikO7t1JSZXyAEAWS6kA4CoKO1/LiTe2ABBaABV8J949yFbEV/tQba2BwAkhRMl
PtO++uvly12S1ioFe5k9dl3QXFfRot4mh3QAsGPHt0ZfsCEuE+H5reeHlXm+aN58pMn1aPPy5Rvc
u1fIYiEdkPR++qxq7NixI8LDnyP5Ihe1ui4mTw6Eg0MDCIISbm6foWixrnBz+yxpR4BjQ/zww2Go
1XVT+ty580iykA6A1pAu2Yb2LXU+z9nmH2zs+BkA3asu4+NtbzUqEZHUGNQREX3QtWtXAL4oV64f
EhON257zsb59Z2G3rBNeL7oFQc/toVKTly+DsusWIjb8qd59ikz6Tu+272/eTfP94rNV6doEyrzg
n/gIIbU+Q8W9G/QaN1DmhernD6LeM81bx8wlKEcJBMq8EHPvIcptWgJ/dTgKDO1j0RrI+lzzeUIV
Fg3FZ52gUsjNdoi8Lk1HzkDcuyij+k6q4GpQaBYf+x7Ta+Y3qM+kCq74a/IQAMCoYw+zXEgHALt3
H9f6zK5EV4hiECbWc4UoHoEgKCHLPT3luSgG4d2+tQjW8tMyb95WqcuVhKYtsK6u2XH79sZ0bVNv
WwQAqMNhX3Q+dn7ZEvPuq1HZUfPtohERu7B1q3Hvf3/mfRQalXRh0549JwD4IiamOgRBidWrTbth
u1y5XggJcQHgi9y5P4ePj+HHR5hK37AuNZlMhgkTJiA+Ph6iKCIy8i1u33qIyMi3EEURcXFxGD9+
PGQy833p9913C3U+V2dwWYdoX+jDduSfsUvHUYkODoadu0tElBlx6ysRkRaJiYnIls0Z9+//AQ8P
/c9FmTFjHRYv3oO7d++l+TxQ5gUnbw/UeXBW6lL1YugW2JvfTUbxHycYNK6mOSKPnYada3acrtRQ
7/ktfR7dlZ5D8GTNH5CXLYkaYYctNi9lHiqFHDI7e0y4EGnxeY291AGCANVF/YI+Q+dJHh+imCUD
urS0X15girAwdygUCrOMbarX715j/M7xmNd1HgDg8uU1KFu2cLp2ydsWazt+2MqoDod98W24P+ER
6u2rh3sbZyJRS0BTtGhX3L5t3Er23qt6Y0D9AajqU1Vrm6CgICxbtgxr165N+czdPQciIpLOgata
tTJ69+6L//3vf0bVYG4e33jgyewnJo1x4MoBNCrTSKKK9GGeXyvJxo//Bz/88INZ5yAiMhNufSUi
koKdnR3i4uLh4dEayVtFTp1ywtSpQejUaR4aN56Efv3WYs2au4iPr5XSZvToxelCOiDpbLM6D87i
fJPOCJR5IfriFYu+T/IlDvp6MHuxJPOe9W2Ni22/0it4C1+61mIhnTo2DoEyLwTKvFBm1a/wV4cz
pCOtVGHRaDBkIlQKOSIf679921S1ug9EYnyccZ31/MdYlUKO7kv0PzNMpZCnjJ/1Qzrg6dOSko+Z
L19rmw3pACCnS06sPrE65cdqtWH/9u3Vazpub/gcpR20f11i7MUSALC853JUm1JNZxulUok1a9ZA
FMWUb69eRSatju0DnDlz1mZDOgDoXa+3yWMsOrxIgkoM4YvLl++aZeTly68zpCOiTwZX1BERWYmo
VuOwfQF4fNkBZVb9arF59Q3CUrc7f/48mjdtiifPnqU8r6goj/mLFiJe2Qn+6nDcGjUFhUYOhENu
9zRj1H0SivAla1B4/HCd8x22LwDPPt0MumjCGJc698OzLbtQYs5kbmklo6gUcuT2KY7Buy9YbD5D
ArF1A9rBOXtOlPRrhvKfd9LZ9srBP7FjTF98/69+W+OTQ7pmo2ehVveBeteUFVy4sAIVKxY3eZy8
1duhVIdSODrqqARVmVfy5Qbu7jkRESHtmXp79kShefPmJo2h7+ULmlwOv4yyXmVNmt/cTHk/Kfob
q0uXLti4UZrfH6pX74fTpy9LMhYRkRUZtKKOQR0RkQ1IiHyDYPfSKDRqIIpNH2v2+TIK6+7evYsd
A77B5yXL6T3m+EO7MXDBL/D1TbqR7Wiesqj7LAwXW/ZAhd1rdfY19yq65JWEtW//C+fCBc02D306
RLUakyq4wqdaPXy1cp9Z5zJqWyqQYZ9bxw9iTUArvcaeVME16YIKA7bTZlXNmjVFo0bF8e23XfRq
n5CQCAcH/3TnHLoNccOb92+sEqQYIjns8fTMg8ePt0sypqdnRzx+bNq2zmTGhlHWCrEMZUqdtvCO
s2fPxpQpk/Dq1V96ndX7ww+rEBh4C4cOBVqgOiIii2FQl0qWfjkiypoC7bwBUTRrcBVz7yGiLlxG
nlZN0nweHh6OXf1HoEFR47d6PXobCbteHZB76SY8XbdN53vEPnqC4wWrmOVdee4cWcIvTcrgdfh9
swX2p8wAACAASURBVG4BVSnkGH8uAnYOjnq3z+lVCMP+0b29Xt8AMDn4c/MogOEHrHMDsy1btmwZ
1qxZjeDgpBVyXl6eaNGiJRYuXAg7O7sM+1f5oQrO3T9n9UBFl8eRj+Hp5gm53AXR0aYF0336rMJv
v/0mUWVJK+PG7RiHbQO2GdTvxK0TqF2stmR1mJPrIFe8na/jhgUtbCGo08by5+cREVkVg7pUsvTL
EVHWFnEgGOebdEa1M/vgWqW85OMHyrxQP+4+BHt7AECu7K74t4/u7amGqLRgBqJ1nK11qmJDxD15
hnpPL0o2pzouHkeck27ps+RlFEQqhRyNhv+Aer1HSD522N4/8Me3PfUOA/UJ4FQKOcaGvICDU7YM
2wHAmFNP4eiSXb+CyShCXwHODs54v/C9tUtJ5+PAp1+/1liy5FuDxqhUqTfOn78udWkAAMVEBY6O
OoqcLjkN6mfLQVZq8w/NR82iNVG9cHWD+mWW9yMi+gTwMgkioqzAvZEv/NXhcK1SPuWShbhnLyQb
318djiPOhfH+5l1cHTJO0pAOAM4PHI0bwyYgJiYm3bNAmRdqXDgoSUgXefQUAmVe+LesEjJHB/ir
wxnSkcWpwqJRqHItqBRyXN6/Q9KxFc066N32ty/8M2yjUsjx/b9PdYZ0C1pVgUohR+HqvlCFRTOk
swBxmYj3C9+j05JOEPoa9Pd5sxOXiWlqWrJkJ5IvUFq9+g4EQYmaNf+Hfv1+Qr9+P6F06S8hCErM
n38hpZ25QjoACJsUBuUsJV5EGfZn5LdNDQsbrWVQg0FYc2KNwf36+NrmOayn7pyydglERDaNK+qI
iDIRdUwsjrgUgaNnftR9dM708dRq3BqhMr2wDOT4fiDy588PQJrz6JIv4gCA2rdOwrlIIZNrJJKK
SiGHvZMzxoW8lHTM8edfw87eIcN2Q/ddgrt3YY3P1w1oB0GQoduCP3SOAXyaF0bYEqGvgLGfj8WU
NlOsXUoKY1ZoWXJVlzFzhb8Oh1dO/W9EtyZD3+/289somreoGSsyjt+Pfjjy3RFrl0FEZElcUUdE
lFXJnJ3grw5H3UfncNihYMolCcayREgHAG+mL0hZFWhKSHel5xAEyrzw4MdFKSvnGNKRrVGFRaNW
9wFQKeSIjpBmFWz7WSvwQyX9tvVpC+ni3kXhRtA+vUK6pHdgSGdN4jIRnarZ1uq6j1fWmauPsYyZ
y/s7bzNVIz1xmQjH/vqdVQkARfMWxbO3zzJuaGFB14OsXQIRkU1jUEdElEnVj38Af3U4Ig4EI1Dm
hYgDwQb1/6NLbzNVplm9MSOMCunExEQEyrwQKPNCmVW/wl8djkKjGCCQbWs0/AeowqLxo68PlnSs
Y/J45T/rBAAYMmQIBEFAXUVJdPavhU71a6J8MR8IgoBvhg3VOca0Gvl1nl2n722xZDkVClRICZ+W
Bi21djkAgHcL3+H1u9cG9fm26bf488KfZqooreOjj6PXil56tx/eWNpjH8xtS/8t2BO2R+/2M/bM
MGM1RERkDtz6SkSUhYQvXYtr/Uei0KiBKDZ9rNZ2ZUuXxs5mnSxY2Yd5509DfEJChu1uDBuPh78u
h7NPAdTmWTaUySUmxOOHSjlR0q+5ztVsmnT/4gt0U3hCEAxbJRR88RoSC5TBzJkzAei+YIIXRmQe
Ql8Br399DbdsblatI2B1AAb6D0TFghX17lNkdBGEqkLh6uxqxsqSnLt/Dj/v/xlreut3rltmu3Rh
xp4ZaKZohkoFK2XY1hbfzRZrIiIyM976mkqWfjkiIl0CZV6wd3eD78sr6Z7dGDbBChUlKfHLZI2f
pz53jpdBUFb0o7Iwol8912vFWp3atTG+dT1J5t2/YgH+99sOlPBtku4ZV9FlPqXHl8aIxiMQoAyw
ah2O/R0Rt1j7zd6aWDKgKTamGEInhkLuJM+wre9MXwSPMmxVuinCw8Ph7e2NK1fWonRp3cc3rF37
D778cgpevXoFd3f3lM/tAuyQuDQxw7lsMRSzxZqIiMyMZ9QREVFS2OX78goude6X5iw7Q1fmSC2P
a440P77WfyQCZV64O3kOb2ylLO27oLtQhUVDpZAjZMvvWtvNG9JDspAOABp/NRDVmrdN9zlDuszp
6g9XEf463Opn18UtjjPqvLoOi/S/xdgUt6bdQvZB+q0QDR4VjHwj8pm5ouQ/f4Ph5XULohiUYUgH
AN27N4EoBsHdPQyRkXvRvHkzAEDi0kSr/zdARETmwRV1RESfiLchoThTvRkKDOmjtU3JuT9oeeKI
60NHZdj2ytDxsNOjljz/Z++842u63zj+PjdDhj2qYsXehNgkxKqtrWqLapXG3qpGjaD2HjVi1uig
6mdrlZDEXkFsasfesnPv+f1xJRK5e4vv+/XKy73nfM/zPOfcyL33c57RsjERTb4ARPac4P1Ek0gm
yzLbJn2Pk8I691GfR8fw5fif+bV3Wy7t28knk5ZSqVV7q/gS2AZHyEwyNgZFNwWqYJUVIzLNnzWv
5cWLFyle/B5OTpb5vx0dHUdsbGVy5cpFjv45eDZXe8/AXANy8Xi25SZQW4IGMxqwZ/Aee4chEAgE
tkRk1AkEgozHyJEjKVw4Hw8fbgHCDPqJitqIl1cewsPD7RW2Q5HFtyJBdYsbtHZMs47s6dgp1ZYE
6uy6bLFY5CrlRPac4L0mKDI6JbtuUs0P8atbl51TfrCaSAeQzdODHZOHcGnfToIio4VIlwGQl8gU
GVaEV/Gv7BqDMZldqmCVTTPBVMEqFN30/79KvpaWxsnJiVKlHmgQ6WRcXBvzeZe5AEhSQ01RIUn+
6bZ6erqRO/d5Ll68yLO5z/hw8Ida/e8atMuM6K1D/4a6B98IBALB+47IqBMIBA5LdHQ09epV5dgx
y0y6q1u3D+Hhpyxi611lSN1GdKuqfQKlivR3cN5kzklc6j9Sw0F3KDlPXcZnaEZdyTnjyeDvPwKB
wQR91Zoa5UvZzJ8sQ/Ph02zmT2B9nLo5sbzzcr6p/Y3dYjA2I82W2YC7z+9m59mdTPtM9++9dWLS
3PvOVfInQQ5941tqCCQiy6FIkv/rf+sDKuRU61ITExOHh0djGs9srFOQu3T/EiXzljTjHCzH3ot7
qV+qvr3DEAgEAlsjMuoEAsG7T9euLfH0PGExkQ4gPHw+EGb3Hm32RJdIB/reFCz3lvF7u84WsyUQ
vOvYUqQDkCRoVbuKTX0KDOPIkSMEBwczZcoUJk6cSHBwsEFZ4cpgJdP+nkb31d1tEKVmjM2sezn/
JcVGFLNiRG9oWKYhqw6sIiFJ9/ALS4t0HTt21Lov4bUglzpjLlmke64KRX6wFVneq9O+h4cboM6a
03Xte6zpYVzgVuTvs3/bOwS7EhkZiSRJTJ3aE0MrROLidtOkSXV8fAyfsiwQCN5tREadQCBwQDTf
fU7+MHvw7h5qqLahyD+DLHny8uLB+pS7z/LTY/wQWZbKB5fyzZjt3Hyxk3wu6W398stOvvlmgjVP
wiExdtqr8sUJyqzYBsCYziPpmE3DFwETMupA+/RXgeB9onq1qoxtG5Bu+x/zZ/LLHc19tbZP+v6t
LTLNh8/QuHbRuO8ppOFvIMCuB0pmzpxpTLgCC1G/fn327duXbnuFsmWpUKYM2bJmRVIoePbsGRcu
X+bE6dPp1pYrV47IyMg02z7++WNiEmL4Z+A/VotdF7Is49zd2aBppAC5B+bm0axHVo7qDYZkzFky
q2716tV06uStcZ+7VI+XCdtxcW32WqBryPwm7mQJ/oPOxbugSvxDHc/rzzfa8QPg+uPreOfS7MuY
c5JlmW7durF06VIKFfoQL6/cJCYmcfz4BZydnRk+fDjjxpn+/l15XGVOjj5p8vHG8Msvv9C1a1f8
/CrRokVNfHyKkyNHFv77L4q9eyNYsWI7efPm5dy5C7i7u1s1Fnd3N2JjLVOG/ODBU6pV68ONGzct
Yk8gENgEozJFhFAnEAgciuDgIXTr1lrjvjelIP6o7gzGpX4U6xsdosWCX3AlWchTpNyBPrlxBbVH
PCP2/ECN9saNW8no0cuscyIOyIMHD3g+cb7B6+f+OZ35d2IBkJzzcLG3ljvyQqgTCExmx+QhGrcn
C3XuObz44/svmfrzIsKjYlL2pxbrmg+fnvL4o49a0PTDBAb+skvj2rdpNkyUwNqC2bNnM3Cg+r1o
zqRJtGnWzCJ2Dxw5Qodu3QDo3bs38+fPJyYhhknbJzH+Y23DgaxPpp6ZiF8Yb9BaWw/E0Odv1q5Z
DGys+XODKfTp05b58wdYzF5qSpT4lsuXr6Q813Zuus45Pj6e0qWLcu3a7ybFoP5s5hglz4GBgbRs
WZQ2ZkzN7tp1CsuWbbVgVJpvPlsKZ+cAkpKSrOpDIBBYBCHUpSJDn5xAkDHR/oEmOaNuf9Qeasnb
cKkfRdKl72ixIppt32Z/vV9ClvelOUbXnegQxRcWixxAcnHBKbNHynOXHNnT7HfOkU3n89TrnbJ4
Ijk7a1+bPZVtScI5e1addv8+dADfR9EYws1Lm2m0Q93Pz8mzOOe/09F0Xgh1AoFJuLi4sHm85i/w
OzbtplmbtM3lp0+YwZ5X6o82myd9T/JfhzdCnRPbJ6kFhoWTZ7DluXqtLqFuyOrtRJ49a/pJCHRy
+vRpKlWqRPZs2YjQkEFnSZp/8QXnLl5k2bJlDI8czr4f9lH6w9JW9amNl3EvyTMwD3EL4wxab+tJ
sC7dXUhcnKh1v6XFpGHDvmLyZMuWJbdrN4b169NOTt18ajONyjTCw9UjzXav772Imp5+eNOIEZ2Y
OLGbReIpUOBLbt++o3edNYS6vn37Mm/e5xa12aTJYP7554jJx8fExODhcTz9jsQzSK69U542zAQ/
vQylpgtIUj1UdwahyK/OkD4TF0r5TKCQ/CFzTVQvp2r0tXLlDjp3nmhyrAKBwCYYJdQ5618iEAgE
tiM2Nh5390xa9yeLbnIUKC//hiT9xnNVKJkU/jxThfJ46Q9cU0JRZ7WoVyFwrFZbDx8+e2+mjiY9
fY7r/dvw6LzetUs3zmLqTfUEwZIVPmNrgzLWDk8geC/5c3QfrfveFukAPq6Wkz0hjwG0COJvyg23
vzDsi/A3fhUNWicwngoVKhAZGcn1iIh0++SH6ynSeAIVa7di8wLjMt8+blaHtTv24/nW9u1/qEsl
vX182Lx5M2VGlbFpplpqsrhl4cW8Fzh1czKoDPaLql9w5NoRqhepboPo4I/ufzB151R+aPqDxv1+
Jfws6m/y5DX4+lbh+PE5FrHXsuVktm7dk25760qtNQphW/tpyhALs5hIB3D79u/06vUJCxZstJhN
Q2jb9lM2bLBcBmQy//wzAwjj8eOy5MqVy+jjZXk/4JZ+h0uFNANDGrmln+rrVKI9cX+6kbn1FuL+
boWsyAqvDmn11blzMyRJEkO6BIIMhBgmIRAIHIrlyy9q3Zc6M07yaqPuSSeHklWCeFUo2SQoGjiV
Ik6k7DsdnL73UzL79hlWlpMRcM6Rjer19H/xaLNwfIpIN+SLIUKkEwisiKuLcfdL+70W6SDtbdnt
kwanPG4+fDrNh09H+fr7WvA47dl0AOW9CxgVg8BwtIl0yWw8FkHikS3cUEEpHx9ALbKp/61Gyeq1
Um2T8a7sqz7u96E6/V6PiKB169ZGD3ewNK7OriQsSmDcFv3Z0791+40aE2vYICo1n1b5lInbJ2oV
NkJ/CMWpm6H54YZx/PgJwI+SJbsQHp6+56A+du48zOzZxwE/tm7dpnXd1YlXiXqW9iZklUJph8cc
PLhI47GS5I8i29CUx6m3q1I91saCBYPIly+3jrOwLNHR0VpFOknyp/++OAIy+ac8T6aRmz+HEt/8
q+uccuU6Z1Jsnp4aRDoDUV7+DZdKK4j9uxUTqjYA1QsAFt3WnnX6+LEly3UFAoG9ERl1AoHAoUju
sdOnj/UmWx07doGqVQP57DOruXBIChQowGU9a86nGog37Y9pvN296lL/USmPS85JnwVSJtW21GsF
AkFaDh48aNT61H3o3i5ljb+vvXR1YdhtJjQQYpytmT17tk6RDuCTqj5ICjcKa7ltfmRkVfqHJHA9
IgJvHx+99lKz9bff8PX1RT4u27wHXGqcFE6MbjXaoBiShUVbxfps7jNy9M/B0zlPNe4Pah1kFb+X
LqV/J161ahU7d+7kzJlTZMqUidKly9K8eXM6dOjAxXsXmbxjMiu+XUHTpvrtF81TVON1PHD1ALWL
1eZ///sfH39cTuvx0yscJ4fijXDVNHM9YuRQnJxaISu3ALrbity9a7uMuhEjOjNnTj+t+zc2bEIx
y+qtNsGpRHuSLvVMERCTr7Uk+dNDy3UvUaIjjx8/s1mMAoHAuoiMOoFA4HD06dMH8MPVNX3pl7n0
7PkrVasGWtyuwDiuPHlo7xAEAruycaPhX2ZTi3TbNPSb+2T2TvUDyYntk75n+6TvqZ1ZnUl1cpdp
DeIF5tG7d2+2/v23zjUbj0VwcmZjin88namNc+PtUznNfklSv4ZlKvtw/ehfFK3fG1BSpN5oyr3O
vNNGx+7dGTNmDKAWwI5cM73XliUwNLtPXiLTa20vG0Sk5umcp1rjGtVyFHN3z7VJHF9//TW//vor
Z86c5dixE6xZs4YOHToAUOrDUjx69Yg7z/T3f0tGk9jZcIb6M9XLly91Hjso/F9eFvo45fnf0TLu
gKR6/sa+zim0tuPevSc6999MCmVvgs4lVmPxYt2ZeMnX8N84dX869bZ9SF5tSLrUM2VN6mut7brH
xycKkU4gyGCIYRICgcDhmTJlClu2/Ep4uOETS1Pj7t6Y8PD9+Pr6Wjiyd48pTdrwaVnrZSsaSqm5
P6FS2a5xuEDgaPTt25fm+fWXRunKpHt7TcOvBzK4zOv0EdUjmv+4EoAtk77XOeRFTH61DpIkGZUF
Z0m8fXzSlHXaM6suNYbEYY9Y3Xu5E7sg1iFi0YaxAzfejj3tc+tNIr148SalSnU0OC5zOHfuHGXL
Pta/0GxM61kYGhqKv791y88HDpzHrFnrrOpDIBBYBKP+GIiMOoFA4PAMHTqU8PBTqD8o+REZmYNv
vlmKQlEPSfLHw6MxkuSPJPnj7BzA6NG7SEysmbI+NjZOiHRAaNYSLDiw195hAHDhwgV7hyAQ2BU/
P31f/FQGiXSpCdm0O+Xx7fA32VzvYOVXhkCWZbx9fGj6uWWnUepi8KhR6UQ6UGdY5eifw2ZxaENe
IuPWU7dAbY/eeou+WsT8PelvBspLZH49/KtNY9GGKlhl1HV5uy9daoKCdmvdZy4lSuiYEm9hypYt
S86cra3qY+fOaJOP9ff3B/zw9GxiuYBeo1KpqFKlnxDpBIIMisioEwgEggzKxR4/EBW8BoAa50Lx
KF0cgMsDRtszLABKzNbfXFwgyOjsmDxE6765E2aw85X2jzFjxn9PjdedhlMLeprQJ/KJjDrrk1zG
unTOHBrVq2dR27fu3MGvRQtA3Vzfw8ND4zrvYd5cn3zdor5NxREz6/468RcX7l1gRPMRdo1DH8bE
k3rtttPbaFGxRcq+R48eER8fSv78eSwSl4tLAImJSUbFZCmeP3/O/v3BNG9e02I2nZzqo1Tqn1hs
LOXLl6N+/VLMn2/cpNonT15Qrtw3bN68g2rVqlk8LoFAYHWMugMlhDqBQCDIQFwLmsH1cTMAqB9/
A8nFJd0aF2dnzvUZkW67rfjkj+WcuXUdyVnMMxK831hKqAP48sfpvNBQFWdIJp4Q6mxH7ty5efxY
XaqnUCiYN2UKLRo3NspG2KFDdOrRI+W5s7MziYmJBh3rSKKTvlii46MpPao0t6besllM2oZLVP2p
KsdGHrNZHLqQZRmvIV7cnX5X79rW81uzuc/mlOd7LuyhQekGadYsXbqU2NhI+vZta1I8LVsOY9my
v8ibN69B6635O/jq1SuKFSvM/fv/M+l4WZZRKOppnQZsKWpOrImrsyuhP6h7zh0/fpzQ0FAuXLjA
s2fPKFy4MJUqVaJJkybkyWMZIVUgENgdIdSlIkOfnEAgEABEBa/hYo8fAPB7egHnbFn1ro8+d8kW
oWmkxOxxKYJijQvheJQsardYBAJ7kjdXDlYO+c6uMTQfPt3qX0oFmomJieGTTz7hn3/+Meq46tWr
c/jwYaRAib8H/E2TcoaX1TmSUAf64/H63ouo6VE2jEhzTMb2h7M2waHBlMxbkvql6utdm/p8nLs7
k7RYe9Zbjx49+OOPX/ntt9E0bVpD45rly7fRtesUTp48iY+eoSb64rEmSqWS+vXrERl5mvnzB9Ci
RS2yZ8+csj8i4jIrVuxg7tw/WbBgAT179rR6TABFhxelZtGa/BroGCXVAoHAZgihLhUZ+uQEAsH7
y6MtuzjT5hsgbVmrLlSxcezzVItirdyfczJwsFVj1ETpuT+hTDVE4nn4EU74f0z9hJsiw07w3hEd
HU3ovCC7xiCy6eyHLEOODvDsN9NtfLbwMzac2GCU8NFkVhP+GWicOGhN9Ak39hAXXXu4krAo7bjQ
wkMLc2PKDZvGoYtMPTMRvzBe77rU18/Ya2mNa28vsdgRROrwK+FsPbWVyW0n2zUOgUBgF8QwCYFA
IMhoyEolIQovQhReXB4witytGhOgiiJAFaVXpJNVKkIUXoRmK5lyzKvoaJ7HpZ9wZ00G7NyYRqQD
yFa3OgGqKCRnZ0IUXux1LmDTmAQCe+Lp6cmXExbazb++3nYC65GQBEevmCfSAfzZ88+U4QuVxho2
0XvXuV3mObUw+oZH2GO4RMKiBJy6pR3DYkzmoi2IXxhv0HWRl8h8MOgDAJwV7+cNsfikeIY1G2bX
GFy6u3D/xX0h0gkEAoMQQp1AIBA4MMni3IUuA1NEthKzxxt1/F7nAvg9vUD9hJtp9r0MXmvpcHWy
7cIZnfsDVFHUT7rNXpeC7PcyvpxGIHgXef7ylV38yjKi5NVOxMRDse5QvYTlbMpLZDb03GCQcHNz
yk29a2yNPjFuyEdD+P3o7zaMCDb23pjm+ZKvlzB4ne0z0XVhqIj58OVDgJSeaIbipMgYM6Pderox
6dNJdvPv1M2JHQN20LaKaX0ABQLB+4cQ6gQCgcCBSHr6PEWcO+HXJkWcK/PLXKPs3JzyMyEKL7xH
DyZAFZW2b50sE6LwIkAVReahtunJcq15XUIUXgatrZ94izpRESLDTvDe0MIOmW0Vvupnc58CeBYN
PgPg1jLL2y7+QfEU4WbKzila1xXMWZA8A01rUB8XF0fDhg2oVKkk69ePA8IM/lm7djSlSnnTrFlT
kpLS90nTJTpN/Wwq7YPbmxSzqbSu1DpdPDN3zbRpDIbwZM4TOi7tqHNNcolsrWK1+O2I4Wmci75a
ZFZsAnXJbfjQcBqVaWTvUAQCwTuE6FEnEAgEdkZWKtnrUhCAAv26GpUx9zZJz14QlrM0oM5Qe5uo
4DVc7DmUAOWdlG2vXr3i7sipJvvUx6tvPqFy5coAKQKhMex1KYhL7pzUuXvKGuEJBHYj5tkTptYt
SFBkNCULeTGnl+4v25ZiyZEr/PXXRv0LBRblwTNoPAZOzbG+ryk7pzBswzCtPbmM6ddVoUJ5/vrr
R0qUsPyNk1OnrtCzZzAHDhw0KDZ79Bl722fFoIqcDjpt0xj0UX5Mec4EnUGStGfXfbviW1Z8u8Lu
vdrs4V/fEA1rMWXnFBqWbkhV76o29y0QCBwOMUwiFRn65AQCwbvLkfL1iT53CbdC+al1/ajZ9lQJ
iexzK4zC3Y160f9pXKNPJGtQvDSLW35udizJlJ03gUSlMt328LwVqHtfdxmsJh6s38LZL7pTYdMv
5G7V2BIhCgR24frRMFZ+25SgyOg02ytWKM+Ujs2s6vuXiFv8/rttSwgFcOUu5M0OWdxt67f76u4E
hwZrFEZ0CSZOTk4olXutHF163N0bExsbpzO2CkEVOBNk/HsIQJcuXVixYgWlShWmYEF137bIyGvc
u/eITp06sWLFCpyc0pd7po6n++ruLO602CT/1iTPwDw8nPVQ6/7kczBUKAtcFciSr5dYMkQAWsxt
wbZ+2yxuVxuyLOsUMK2FFChxduxZynqVtblvgUDgkIhhEgKBQOCInG79DSEKL/Z5FqV65F4CVFEW
EelCFF7scytMgCrKZJEOYM+VCyyZO4/YpESz4pGBxc4xJL4egPE2de+fMbgMNjUftGulLtctX4oQ
hRfxUffNilMgsAdB5T25d/F0OpEO4PSZSPI1tU5WnUolU+27oUKkswOnrsHg5bYX6QAWd1qcIs7c
eXYnzb4K+SuQqEz/937ZsmFaRTpJ8tf4bzqU0ZTI15wW3/2SZvPMug2RJH8k9+EaD4uN3cWYMd/q
LIO9+eQmSSrDsqPmzJnDX39NILn8dvnyb5HlUC5cWM2uXTPYtWsGd+/+hSyHsmpVIE5OB4Aw+vdv
x7hx41LsyEtkFN3UX5sWd1ps8+EWhvBw1kOdcd2cchOlSknRPEUNsrc0bKmlQktDi4otrGJXG649
XG3qD4RIJxAIzEdk1AkEAoEV2Z+vEgn31Xe4jS351Mc+t8KoEhIpMWscBfp/p3mRLBPilN8g33eX
/06+Ll8C6i83/hejyOyayeB4wm5c5XThPMyePTvN9gvdvqd0cPoeXCEKL+on3ERyNm0K3aMtuzjT
5huRYSd4J9i7YAJ7F0zUKNBpolPjunRoWMsivluOmJFu4rLANuw/D4t2wuqB9o4ESo0sxaX7l9Jk
U72dXXX48GJq1NAuLkiSP55+fYgOm48shyJJ/shyKAq3L5Hjo9JsA8iu8OeZ6s0Ag5l1GzIofLfe
WFeu3EHnzhO1Zn/pywrz9a3C8ePm1xjfv/+EgwdlPv74Y3ad20Xjsur3mlO3TlEkdxGyumfVY8G2
PHj5gFm7ZmkdnCAFSjye/Zicnjn12rJWiapSpeTA1QP4lfCzuG1N2LrUVgqUODbyGL6FfW3moM75
DAAAIABJREFUUyAQvBOI0tdUZOiTEwgEjsflAaO4PVfdJbxK6P/IVre6xX2EZiuJ8uUr/F9cximz
p9Z1IQovKmxcQe42HxlkNyxXGfwen9e4b/To0YwfPx6fAoXI556ZB3ExHL91nQEDBjBr1iyddqPP
XUJOUpK5Ypl0+6KWrCVqyRqqHtlhUIzaCFF4oXB1oV7cDbPsCASW5vH1y8xr6WOwQPc2hQoWYHFv
45voP3sVw6ydhzly7JhJfgXmk/VLeOGACYwFfyhIrsy5iBgdAbwRMl68eEHWrLp7gUqSPwsaedLr
3+gUUQ4UyPLelP3JIt2GwK/p9V8T7u/+Cknyp2CfOdycVzndOu34pYkvXSxaBZgwPXaN5+zZa5Qr
9zVuPd2IWxinx7992XZ6G9k9slOneJ10+7L3y86zuc9oOKMhuwfrFkyteX7+U/2NnkBrKqVHlebC
+As28eXUzQllcPqWHwKBQIAQ6tKQoU9OIBA4BrfnLOXywNEAesUzc7gWNIPr42bgnCObVkEtGWOH
Nrw4dJysNQ27+2vKQAhdxzzesQfP0sVxK1LIKJva/IDlsxcFAlMIKu9J/V4jqN/rR7NtxcbGki1r
Vj6p60vnjzRnoizasoeQ05d48fKl2f4E5vF7GHxpm4Qhk7j68CrFRxRHGawkISmB83fPU7lQZfSJ
XMkCW5p/VVvI6f8X8ftX8EoVikLyJ/r3enh+uQ8gjSDnJvkTD/j0GMfJhfX1RPnmAmoTjRTdFKiC
32SLdu7cnJUr05fVNnLz56eXodR29Uf1lkDo7ezPf0mhevsBTZy4mhEjgtPE8ujVI3Jnzq3nSNuj
S2T738n/8cmCT/SKcNYU6mwlctpy8IdLdxd2DthJwzINbeJPIBC8cwihLhUZ+uQEAoH9SB5sAFD7
1gky5f/Qqv6MEaAsLaRZwj7A8RrN8T28XeO+8DzlqLxvI55lSxptVxMiw05gT05t/pWNIwJNzqIT
vNvM3gxuLtDDunNBLEKmnplISEoA1H3YOnfuzMqVXe0cFUybdoghQ4ak2aZJ3Plm+Tf80iV1HzzN
QmOyUNcskz9PVWqBMfbFOjxyDqCQHMV/SaHM/O0E7ctE87tnHQaX0Cbbpc3yc9SsOoDMfTLzav6r
dNuT+9jpi9uaQzNsdd1s5cejlwfreqyjZcWWVvclEAjeWcQwCYFAILAGz8OPEKLwIkThRaZ8eQlQ
RRGgirKqSLfXuQAhCi/KrJyjVxyTXw9vMFZEuzZ6qk0y0NyKFda6r+7Ds5xq8gUvjpy0iK8AVRT1
4m4Q4pTfpMEVAoGpBJX3JHPuvEKke08Z+7t6uuu7INIBxC+MTxEypECJlStX8vx5RbvGlJhYM51I
B2kHOiTzS5dfUoQnlQF9GJ+l0mzcs36OnPTmvW9IhwHk9/Fjxaoreu0kxyIvkfn454/1rrcHXep0
4VW8BqFOkhjdarTe47v5d7NGWBmOKw+uENQ6SIh0AoHAooiMOoFAINBBssjj1e0rSi2aajO/+9y9
UcUnUC/uBgpXF73rI9sF4tWtEzkba5nAp4P9+StT547hApmpGXUA+zyLap1MCxB38w5Hyvrj/+qq
Sfa1cW/Ves537k+V/VvIVks0eBZYnqDyngwJvY5nzjz2DkVgIJIk8XH/rRTVMoVye3AHKhRSsm7d
HwbZy9QW4jdYMkLbcuLmCXzH++KV3Ys709QTYiVJMqCXnPmoS2kN+9heYEgBbk+7nfb415lTiYkh
uLiYNqDIMNLWMweHBnP14VWmtJ1iRZ+mk7N/Tp7MeZJue3BosF2FOEMy3T7+uA23b19i2rSeBARU
5ty560yYsIrdu09z757+qe+91/Zmbvu5OCmcLBV2Ovym+PFhtg9Z32O91XwIBIIMgyh9TUWGPjmB
QGB5Eh8+JjxvBQBytWxMxc2/6DnCslzs8QNRwWvIlP9Dat86YdAxIQovym9YRp5PjE/h2OtcgPpJ
t/UvfMufORl4+o5PuP+QmPOXyV6/tsk+tPHq9HmO+jTE78kFnLM71rQ+wbvJz218eXj1gsige0e4
evUqnYeup3rzYUYdt3FmY/6L3KV1/xfT4I/0SWDvJK49XVEqlWma4iuVSvLm/YCWLauzcuUIs318
8UUQBw5c5NYt495/AA79d4gJ2yawpe+WlG23n96m+Zzm7Oq5i7x5L5kdnyZOncpKpUqV0mzz7O1J
9M/RDl0Cqyk2e08mnblrJoMaD9K4z1Bx2M+vL2FhEVr3W/s16bi0I1cfXOXQiENW8yEQCDIUQqhL
RYY+OYFAYBlUcfHs8ygCgPfowRQJGmyXOEwZhGCuaHakQgDVz4QYdYy5PgHkxEQkF+2ZgodK1Kbs
6nkGD7gwluQMO59//iBHIwfu+C5wWJ7c+o+5zSow5swrJMmoz14CO1GxXiCNv1lilo01I7y4fy/t
379mY2FGFyhb0CzTDkXIhRAazGiAMliJQtLeKScyMpJ169axYcN6zp1LP1mzQoVytG3bjs8//5yy
M8taTDgZv3U8OT1z0jugd8q27P2y82DmA0aPHM3kyZqzJE0hJiaOxMTqZMuWTeP+ZEFo+F/DmfTp
JIv5tSQfDPqABzMfpDw3tE+dLZFlGZUqFCcn4zozzZ17kn79+qXbbk2hbvzW8SwJW8LNKTctbvvm
zZuMGTOGtWvXkpiYiK9vaXLkyEKOHJl5/PgFhw6dJSYmjlq1atK3bz/atzd+KrhAILALQqhLRYY+
OYFAYB72KmvVFkfFravJ1dzwaWFmZ7Y55SdAecf44ywg1Bli42CxmpT7fRFZq/mY5UsX0ZEXOFKx
AX6Pz+OcQ/OXMIHgbX6qkhPfdl1pNnyavUMRGEjveU9w88xpEVtnQpfyz8rvAPAbBqsHgfcHFjHt
cFha0LGkeOI/1Z/FnRZTJl8ZjfadnJxQKvea58N/BKGhuifhJvt1UjiRtDjJLH/WosXcFmzrty3l
eWxiLB69PLS+FvFJ8WRyzmTVmDac2EDbKm1TbdF/nbWT9obb05inLA1bypCPrJPmmpxJaQl8fCoR
EFCKWbP6mmXnzJn/qFixM0lJSTg5Wa/cVyAQmIwQ6lKRoU9OIBAYxwm/NjzffxSXnNmp++icvcNh
r3MBZJVKLZYZkZFz6qMveXkykroPIs3y/3DjDpPKZS0h1BlqJ+biVSIaf07tm8fN9mdIPGBcRqPg
/SKovCdZ8+Zn0G7rlNYJLE+BgoX5Yqx1pj8v3gmv1lnFtMMhBUq4OrsSvzDebFsu3V048uMRKheq
bLatvRf34l/SP03WnyYxcP78+fTt25eFCwfTo0cbjbaWL99G165TCA8Pp06dOkbHIgVKZHLORNzC
OKOPtQVvX5d6U+ux74d9GteuPLCSzrU72yyenDlz8OTJZu1rJX+d5bD9+89lzpw3feKslU334OUD
8g7Ka7ZtZ2dnkpKMq2Ywlj/+2EOePH40aNDAqn4EAoHBCKEuFRn65AQCgX7Of9OPe6v/RHJyon7i
LXuHA8DZL7rzYP0WPEoWpcaFcKOODVF44fPvOnI0qGtWDOc796fMyjkmHWspoQ7gQIHK1L6te5DF
8wPHcC9WGNe8tmnSH5qlOEgS/i8u28SfwPGJe/mcybW8RB+6d4yEhASGr3G1qo8ZXaxq3qFIzq7r
17Afc7407f0jmQJDCjCm9RgC/QItEldq4WTqzqlkdstMr/q9TDreHGpOqsnBYQctVg6/detW9uzZ
w9GjR4iKusPTp8/IkSM7RYoUpWrVanTq1Ily5coZbK/Dkg78GvgroD7vIz8eoZp3tXTrAlcFsuRr
88rE9ZH6uv/11wQ+/VT7MCx9Qp2aN1l11hDqlColzt2dzbJ7/fp1vL1t+1lUoahn0ERkgUBgdYx6
YzCuCYBAIBC8AxwqWZsQhRchCi/KrJxDgCrKYUS6EIUXD9ZvIUAVZZJIF6CKMlukA3WPNkcgf8/O
yImJOtdkq12VAwV9UUbH2CQm/5dX8H9xOeV3SPB+E1Tek7+GdRUi3TvI8NX6J2aby6cDtlvdh6Mg
L5EZ2WIkc3fPTRHtTOX2tNusP7aeDks6WCSu1PH80PQHeq/treMI63Hn6R0U3Yz/erVhwwYkSeLC
hbWoS0DVPy1bZmPmzE8IC5vE1aurePJkM1evruLff4OYPLkF5co9SbN+8eIhSJLE4cOHNfrZeHJj
mufVJ1TXuC78snGfT0whX7Z8KY8//NAyZenJtKrUyqL2ALNFujNnzugU6SZWbcDkC2pBTZL8eRQZ
gqRoihy1CeeSC9k+uh/OhadRK2s91oTfYd6gkQDcfZ6oFjK12FWp9lGnTkWT4xYIBPZBZNQJBIIM
QXJZK1ivdLF+/frs26e5TORtMmXKxMmTJylTRt07x9yySktmsV3/aTbeIweYfLwlYzHGXojCy+gy
YUsQlqM0qrg46sVet6lfgX1Z+GkN7l+KFALdO0qe/GX4evx5m/ia1yMTCQnml4S+S6QWxswRL6bs
nELHGh0pkKOARWJKHYuhWVVLwpZYJLMvtd/cmXPzcNZDnes2b96MShXJxx9bb6BR9erdWbt2EyVK
lEgTn7xE5uHLh3ww6AON18hWU2w7LevE6q6rzS4FPXHiElWqdAUgLjEONxc3S4UIWOZ6REfvwtNT
e1wTqzZAseZfhpVWpGQQSlIAqjsDcKkfRdL5lkgu3UBWvycpcpRD+WQhkuSP5JobVfxfOv2fPZvT
qOxLgUBgcURGnUAgyPjcW7U+JeMp4cEjqoRtIkAVZVEBacCAAUiShCRJ/L50Kb/MmcP1iAiDfi4e
PkymuLiU45u6PDYptkPFa3HUt4lFz+vaGMdqgB+gimKfu7dB6yK/6M79XzfqXWtJ/J5eoF7sdZ6H
HyFE4YUq1jH7Dwksw6E1PxNU3pOefx0WIt07SocOHW0m0gH0XRTP3bt3bebPEZCXyCnCRfM5zU3O
sBvadChRz6LI1NP8wQVvZ9a9/VwbgX6BZmcIvh3Ho1ePWBKmuXQ0SxZPIIzWrXNYVaQDOHJkMSVK
3APC6NGjR0p8RYYVIU8W27ST0MWaQ2sASEoybwhHhQpfpzx27+Vulq23sZRoqUuk00wikKpk1akg
smoHALIciurp2ZTHJVWPOKvUbe2PP/4w0r9AILAnIqNOIBC8Mzz9N4yIJl8AUD1yL55lS1rFz5kz
Z6hYsSJFvb3Z87//WcTmnrAwuvTty44dO2jatKlBxxwqXguf3etxK2x+pkEykW27Un7DMp1r6tWr
R2iovl4w2smaNStHjx6lZEnDX5/HO/aQpUoFg/rQHSlfn+qRe02Oz1xuz1nK5YGjqXp0J1l8RTlJ
RiKovCeBv+0jf4Wq9g5FYAaDliqRFIZNPZzZVbtAM2iZ4R8jj+2cxr511pkw6egcvX40TQmlKaLG
k+gn5BqQyyKCSGphJSYhhmcxz/DKrruNgTUyyDTZvHVrAwULah4R3MjNn4hmP/JgbjQ5RuTl2ZRH
HM7Thtqu/iTJocyu25BB4btT1idFLMel8srXvdsSOXB8ExV9PyOzjpicnOqjVCrx+t6LqOlRSIES
39b5luWdl+uN3RqsPriacvnLUaVQFbp3787ixV8ZbePtHmyWjN2StrJly8rz59v0L7QCSUlKnJ3r
28W3QCBIQWTUCQQC2xMeHs7AgQOpVasWOXPmRJIkcubMiY+PDz/88IPWfin6iD57MSVzThkbl5I1
Zy2Rrnz58lSsWJHrEREWE+kAGvj5cT0igmbNmvHBB5o/pKcmROFlcZEO1JNe32br1q0pmX+SJNGh
TRuDMwc1/fy9fj3VqlZNsdeuXTu9ceVq1oD9+SoZdA7VI/fatXdcgf7fEaCKQhUbp/69jIm1WywC
y7C216fMCChGUGS0EOneccLCwgwW6SxJ1abvp0gHUM27GvISOaXcUAqUqDTWsL/nyeT0zEnS4iSL
ZLalzqTzcPUg/5D8eo9pW6Wt2X41xZE6U7BVq5ZaRbqUYzZPSLctm/Qmr0qS/PH+WJ1V7lp5JStb
efB3NIALtYp46o1JqdzLnj17iJoeRZNZTfh7wN+s2L/C0FOyOJ1qdcJ3vC8AixcvJjq6Cvv3nzH4
+EmTwtMNSmhW3vhp9pqQAiVUwZYbwvD8+QsUinoWs2cojx+/ECKdQPAOIoQ6gUBgNNmyZUsj7EiS
RL/evfFUKBjSsyd7N23iekQEezdtYsKwYSgSEujyzTfpjsmfX/OH59Rlrc/3H00R53K3amz1czt7
9izXIyLSbZcfrqdY61kpz3/eGUHDGpUB6Fjdh5PJVRuq23Td8kKr/esRETx8+JBTp05pXZPcs83S
It3T3eFpSmjz5s2rFubat08jtDVt2NAsP/ny5uV0WFiKvayZMiFJEjly5NB5XIAqymABzpi11iJb
3eoEqKK4u2QtIQovXhxN/3sjcGwSYqMJKu/JZ9NWMTjkqr3DEViA9p0Hm3Rc0a5PGLRMTvNjLK9e
vTLJd0YhdkEs8hIZZ4Uzd5/dRQqUaDzT8PdtJ4UT8hKZnP3NHywQ/XM0HwxSi2KGlMD+2fNPAqYH
mO33bfJkzsOJmycAiIrS/zfmsTIU52I/p9n2TAZnYFD4bmQ5lBub1J9FZKDzlhiaZjHuPbvh6/f4
3ed306RcExSSfb8O7h2yl9GbRgPg6elJnTq9mD79MG3ajNC4fvLktfz882nAj+HDh6fZl7VvVrb3
N3/Ai3N3Z65OvGqx6b3JqFQqvv46GFtVtJUo0ZFcuVrYxJdAILAsovRVIBDoRalU4uzsDMCQPn3o
/d13FrO9b/9+vumtns72s5SbmnVqUyVsk8XsG0P58uXZtnatxn3yw/UUaay+050s5JWt7MO5kxF0
rO7D/gT1uusntvMoNjfV6lTnQkQE2rruePv4pPugdm/Vep4fOEqpRVMtcj5vkywARkdHkzlzZo2C
pLXx9vGhatWqHD16VOuafe7eBg9usPRgC3PZ5+6NU5bM1H0QadD6K1eucPLkSZ4+fUq+fPmoUqWK
VgFbYFmCyns6bA+6Fy9e8Nlnbdm16186dfqIvn3bUq1a6TRrnj59ycGDZ1m+fBsbNuxj+PDhTJw4
0U4ROw6Dl+tfk5rk0teiXZ/wcW3dNxP0MaebC0lJuqdYv0/M2T2HAb+rBxe5OLmQsCjB4GMtVXKY
2o4+m9Yq9yw6rCg1itZgStMpFCp0w+L2jedNX7xkAXN9j/V85vtZmu22KH1NJmf/nDyZ80TvusJD
C3NjivZraIm4v1r6Fau7rra4SKeJtm0/pV+/AOrV87GYTUnyJyEhARcX60+9FggERmHUHxUh1AkE
Ap0kf1Cxhajj7aP+oGKvv0ulSpXin3XrNO6TH66neNfbXN08EIDilX3YfSSCwi7qjLrvD0RQ2fnN
+tbVKjNs/0lqu2r29bZQtzdTYfJ9+4XVRLrUSJKk9fWUH++kaKt1XDuwHG+fyqzr4MWy8mtZ3Dw7
xT9fxEePgqm09BDdirpQ4vMFXPr5g5TrknhkKS7Vv6O4jw8XIiJw1uhBs0iZmic7Q8jZ1PDMBkcT
6yD9lN/Q0FDq1Utf8lKoQAEqlClDtqxZuffgAZHnz/Pg0aM0a4oXL87ly5etH/R7wriKWXFyzcSP
x3RPZLQ1mTN78uefY2natIbZttq1G02xYjWYPHmyBSJ7tzBVqEtHplIMWnDBKFu3L4Xyx2R/4wJ4
D2g0sxG7z6t7q3nn8uba5GsGHWcJ0SVRmcjZqLP4FPTh+I3jjPrfKK0ZVx///DH/6225lhepkQIl
Jn4ykfGfjSMm5h+r+DCEHTte0azZm9LQa4+use30Nvr+1tekibmWxFCfNx7foHCuwhr3JffeM5UT
N09Qb2o9Xs5/abINU0lMTOSzz9py+PABxo79lm++aYqbm5YPkUB4+GlmzVrPli0H2LBhA61atbJh
tAKBwASEUJeKDH1yAoG1kSSJw7t2kTdP2gb/41tUYdkdTX07FFzbNZyiH02iVr3W/DorKCUTzbts
bfb+uoATe9bx6aCJOoU/fUKONcmXNy+H/rHuh+jPu3ThRUwM58+rpxKGKLyon3QbSWG98pPDZf2p
cS4Ud3d3dvzxB0UKa/6QOzSgCt4rjtHTW4G3jw/XIyLw9qnM+o75qTZka8o2UL9O13b9mEbATN6u
T9jV9xobK745olgHb4TuPLlzc/Tff02yEXboEJ1eT+vLli0bz549s1h87xOnNv/KxhGBDpdFV716
WY4cWWw1+7lzt+LRo/fnd8ZiQh3Qeo6K4pmNy6qZ0cU4/+8TQZuDGLtlLAC3pt6iQA797R0sIRhl
6ZOFp3Of4qxwJlPPTMQvjNe6tsSPJbg8wTo3RpLPZffu3ZQo8ZRChfJaxY8mNm/eT+vWw7TGBdhd
qFOqlDh3d9brV1tsNSbW4PAI0/oh67NtLxwtHoFAYBZimIRAIDCf5Kyrt0U6gFHbTnD9xEZwLpci
yKj7kan7sPx15AS/zhqDt4+6h9vGYxFMqnCVposuUaXB53p9nw4Ls0nJgSbuPXhAnx9+sJr9mQsW
cOTEiTQiXYAqyqoiHUDMhSsAxMXF4V2okNZ1k9dPYGrHbq+fqV8DJ2Tarb0NQPMcCpZdSwRkXIqn
L4E2RKQzhABVFOc79zd4fd0HkRwoUNlsv5bCyckJSZLYvXEj1yMiTBbpAPxq1kzp9zf6+++RJIlj
x45ZMNqMT1B5T3IWKupQIp2rqysQZlWRDuDRoy1AGGfOGN6g3RyuXbvGypUrGTx4MB06dKB79+6M
GTOGXbt22cS/sbzdl27Qsjc3oTb3F6VjliSodRDyEhn/kv4U/KGgQYMjDOkvp4+X81/i0l39WsYv
jNdp78qDK2b50kXyufjV86NQoc+4c6coP/64xGr+ALJkaUpSUi2tIh3As7mOIeQ7KZy4MeWGya/3
kWtHzPLviKJYoF+gvUMQCAR2QltlkkAgEJiJRHJS6ydVfShYuiZhvxs2qTVrlixWjEs3siyzYcMG
vH18aOjvz7K5cy1iN+rePWo3bcqYMWOQZZmIxp/z6vR5m2SBXR87I8WPLMs6S1+l3M24tl9dFnM9
4iQAV1OtXRByIuXx5T/7qPdvTuXLAJHO0IxJ75EDeRVxlsw+5fSudcmdk9q3TzpEZp2265tcIl3u
wCiq/N2QyAn1aftJE+JylGDb8p9TSr/zfbmU8L75KFW3BadORpB6jl/bVq1o26oVn379NSdOn7Zb
5um7QlB5Tyq1au9QAh3A6tUjSUjYrXFfIzd//o0LJX7rRD74ox7PpjzicJ42jMziz08vQ6mZSjvK
JPnzSg7FhUQU7t/gUqE58Ue+0mi3QoVnlC1bhnPnzlvkHLp27cqzZ1fZsGF8mu1FikCRIsWAYhqO
CkvzTJZlFIp63Lhxg0I6biDYltQigdJuUWRk9g3Zl/JYUzbX2yQLXAmLEnBxMk08lZfI5BqQi6jp
USn2NPmc9tk0k+wbE4cUKJHdIztP5zxlwoRVKfvi4uLInj0bAQFVmDatJ+XLFzHY7v79Zxg0aAFZ
suTl33/f/G15+VL/375s7tkAGLphKFPaTjHibCxPoZyFdL4+ADM+n6Fxuzk3eB1RpHPEmAQCge0Q
Qp1AILA4n1RVCw6nT0bAo/VsPPamf1vx12KEt287rh9fb68QddK2bVtkWcbPzy9FPDmxdy85s2c3
2lby8fCm916IwgvfA1vIWtPXMgHr4drYGXiPeTMJMVmsu3TkyOusHtugUqkoWqUKPXv2NGi9e3Fv
QpzyE6C8Y7CPuo/OcaBgFWrfOqF/sRXQJYK+zaWl7ak5YTtDyr55K059rJ+O76N/rVpFlYAAOnbs
yFotA1DeZy7u3c5vfdo5nECXTKdOH+ncL0nqPmdZv0rb17CWq3q7LIemrHEBmmZuRHTsPjwkf0Cz
UAdw7lyw6UG/Zvjwr5g0qTvLlnU225YkSchyKHADuIEk+dtWfH75G2Rp/9bG1P7Fx2RrIy+RCQ4N
RgqUqFigIqfGaJ6InizeGFoyq4nHsx+niB8TPpnAon2L6FGvR5o133/0PXsv7qV+qfom+TCE5HN5
W4hxc3MjLk57WW5q3j62Th0/Dh/uZXZM9hbqklEFq7QKVYMaD0q3rceaHiQtTjLJl6MKYl/V1P63
XCAQZHzEJxCBQKCRTZs26S5jVBTh+jG1QJB6jZSnHdcj2r1Zl6cdqQsSrxiYcXX79m1TwrYoYWHq
7I/Y2FgyZ86MSpW2L5+HuzvFiqjveD95+pQ7d++ms/HkyRNy5HgzSdAeGV/lfl2YbluyWAewZvFi
6tYwv4G9LkwdFBKgvGPUNXPJmZ2CA7rpX+gAlPzuN852aIb3ubsmlQufCAnB28dHCHVvEVTek08m
LnFYkc4QZDk5oy7t9oMJbzLqZDmU0i7+nFXC39Ey7sD6Lzw5rYSKTpaPycXFmcTEECZN6m5546+R
5VBUqn0cOuRC7dq1rebnjcNonT3qvgk2boKrrFICVrj4GZxu/t3o5t8N72HeOkUTeYlM1r5ZeTHv
hcm+UmdrSYFSOqEOIGB6gNWFm2T/mftk5tX8V0YfHz403ApROQ6SJOnMrPvv4X8UzVM05fnifYtZ
9NUio/2U+LEE2/ptMytWa+Co4qFAILAdokedQCDQSOvWrdm4cSPePj4cslE/rKSkJLx9fDh//jz5
8+e3iU9DcHd3R6lUIstymp979++zYtUqVqxaRdj+/en2y7Jsd5EuNGsJPviyjcZ9yTEGDhiAt48P
3j4+LFuzxiJ+T54+nWLT28eHxMREkzNljL1mBQf3SJm66shEbx9Ax+HB4o3YQoyvnIPxlXMQFBlN
pdYd7B2OTp480S40/BsXCkCmliN4vroOklcbarqot9d8K8vyQmIo5Zx4nZUGn/2+Q6dIp1Cknzxs
CDNn9iExMUTjPknyT/lJDJ2L6q19AN7O/um2S5I/J2I0xaigdm0lnTt3NilWS+FZ6gf74GGBAAAg
AElEQVRyGam5bVv8hXWCeU+4Pvl6ijjz+WLN/WxfzHthds+6t8U6eyEvkYmOjzYphjrF6+DZ21P/
QiOZ/vd0AIrkNrzs1ppoe41qTapltu2wy2EkJCXQvEJzs21ZGieFEPwFgvcdMfVV8E7z4sULfvvt
NzZs+JNjx47x9GnahrgffpgXX19fPv/8C9q3b4+Li2gMbQoRERFUrqzOi/t340aKF7HcB7gkpZLi
vuoS0KFDhzJ58mSL2bYpp4OhouZMrr3OBcjf51tKzB6vcb81MbZ0FGDSpEmMGDHCZJ/t2rVj3bp1
Jh+vidCsJfB/YdwkPnsIo2vXruXPX39l9sSJVvfl7eODUqlEYeVBJI7Osq8acivi0DuXQVeqVGEu
XrSMMG4IDRuOYffuPUYf5+aWibg4XcNQVEhSfWQ5lMTQuXy0pyah474nQRWKk+SPLIfi7exP0ZHT
CR33PUmqUL7OXo/Vz+UUgVE7fkbH26rXekpWbad/oRX44OEUhg4dahffGREpUGJrv620qNAi3b7u
q7tz4uYJjv541Cz78hIZ917uxC6ITbPPe5g31ydfN9m2MciyjKKbglaVWrG5z2b9B7xG0U2BKlil
f6ERJF+TIX8OsXq/PmN4O8Ps7ec3Ht+gcC7N0+w1sfnUZsZsGsPJ0SctGqclENl0AkGGxai7MkKo
E7wzrFmzhk6dOhEVtZF8+XKZZevs2WvUqNGDTZu20LBhQwtF+H6QOXNmoqPffCHuGxjI4N69DT5+
9bp1jHpLxMgQf4dWV4ZO6T/w2XO4QdzNO7gVskJm4u198EEVcLXt0A9TrqU9rr8kSWTJnJkz4dYr
TfL28WHYsGFMmjTJaj4cndjnT5lSpwCjTj7FycV2vRYtyY4dO8iT5zZVq5a2mo9ly7bRtavpN0DG
jPmWsWO7aN0vSf6cjg2lghskhs5F8u/HvLoN+XD7bjpkeyPUXUkKZV7dhgwMf93o/uW/OJU+jfJO
+n5TyTx/XpFs2bIZFa9PZV8a9j1u1DGWYob2yyQwkcx9MuOkcOL53Ofp9v1+9Hd6renFkzlPTLYv
BUq08WnD0KZDqVWsVprtthZLPHp54KRw4uX8lzb1m5rk894ZuZOm5ZvaLQ5NpH5NUj/u82sf5neY
b7ItR8O5u7PJ/fYEAoFDY5RQ937fhhc4PMuWLWPv3rlAGF99VRhZDjVbpAMoV64Ir179TcOGrkAY
q1b9SNeuXc22+z7w6tWrNKWdWfLkSVPiqO/n2r8T05WHZggepO8xZu8JpAe9q1nHsFMmUBrW8NqS
BKiiOFZVdxN+TcfYugxWlmV8KldWi2njxlnUdr1WrVKm5r7PIt3kmvnYOXkIQZHR76xIB9CsWTOq
Vg1k/34FFSp8azG79+8/eV3m6meWSAdw6pR+EaSiu39KmWv8f/uZ/qIK7bPCtvGNkZw/T7MdoHqF
Lynmt1mnSAcYLdIBRJy0j0gnsA6v5r9iUadFGssfv6z2JQeGH2D2v7NNth+zIIZp7aZRe3Lanojz
O8wnPsm273MxC2LY2HujUaWw47daNlO/Xsl6FBtRzOFEOkhbBtukXJOU7T+H/GyUHUcW6VSySoh0
AoEAEBl1AgelS5cuLF9uuS8thhIdHccvv1ymVy/TJ2cZw4wZM/jpp/E8e/ac9u0b4etbihIlCpA9
e2YSEhJ5+vQl58/f4PjxS2zeHE7FiuUZOXI07drZp6zHYizIDb0e2TsKyzJDgsHqPznxt+9yoJCv
XUU6UJfc1k+ywlCOWyHwYXVwsXx/HH2c+7ovZVfNM/q4R5v/IXfrJvoXWpiAgAD27t0LwLzJk2nV
1PgvP+0DAzl4VF3eNXLkSMaPt30JtaNw7Ugov3Rp9s6VuRpLp06dWLNmDePHf8fAgZ/j6emmde39
+0/o3XsWGzbsY+nSpVa56ZQ7dw4ePTK8JM8S3L5dhAIFTJvu6eaemd4/G9+g3xz+N7EkV69csqnP
jIAsy1y7do18+fLh7u6uc60UKNG/YX9mf5lWmGs6uyluLm78r/f/TIrBracbcQvj9JZX2hJFNwUK
SaFXtLFGjI4sZLWe35ppn03jacxTahatCRgXb7UJ1QhqFUSLiunLqR0BR772AoHAbETpayoy9Mll
VOLj95Apk+ZecnLUJg7naUNtV3/uKkP50MkfVcI/OLk24bEqlJwKf6SstVA9n4L0ujfOB9UmsvE7
FX79LqO89iku9aP4LeAg3Z925sm6Bhr9REZeo3z5ry16Xk5OTsTG7sLV1bJ98vbvP4O/f1+USqVF
7VoVWQWz3WBggr0jsRyvhboQhRd+Ty/gnC2rvSOyHpf+hJKf2c29Kf3q7ixYiSJTJvJ1bW+lqAyj
W7duLFmyxOD148aNY9SoUVaM6N0gMT6WCb65M7xA9zYPIh+wsMJCxshj7B0KAMOGfcXkydab+grg
4dGEmJhY/Qv1MHBJIgon2/SlPbl7HnvW9rWJr3cVJycnjhxZjK9vKYOPefDgKXnztkmTeZ/cz02T
mGGOyNFoZiMWdFxAqZGlUmxUDKrI6aDTJtmzFFKgxJKvl/Cd33ca94dcCCGgdIDFfT6d85TsHtlN
Ov7y5cuMHz+e1atXkzmzB76+pShVqiA5cmTh6dOXPH36kuPHL/Hff3fw9a3MoEHf06GD4QOAkl/n
e8/vse3MNuqXqk+xPMX0Hvf18q+pWrgq/Rr2M+m8rI1SpWTbmW20rtTa3qEIBALrIIS6VGTok8uI
eHnlIypKexN6OWoTivwzeCWH4gkpYhzKW0iufUH1hBJO0LiAglKFnei373UvnMTrSO6DUd38GkX+
GQBciQulWCbtsRQq1I6bN++ZdT4ffdSEjRuH4OGhPRvCkixduhUvr3o0b+54E6zScXI+xNyHOhkk
O2iGRMiQfHbPokvm6rCfKDZ5pHWMH5kM1YdZx7aBhOetQN37Z4w6Zp9nUepF/2eliMwgVTamID1B
5T3xruZH5xU77R2KzRkrjXUYkS6ZsLAwJk36ge3bp1rMZkJCIu7ujS16w+nKlSssDC1uMXu62HMa
MrnAIcfpve8w1KpVgYMHF5htZ9iwxYweHYyHhwegFmtuTblFgZxpsy7NEevcerrxbO4zrj++TukP
1X0j91/ZT53idcwL3kzWHlrLV8u+0npeWftm5cU87ZOkTUEKlPir1198UvkTnetiY2PJli0bs2f3
oVcv3WsN4cmTF5Qu3Yl//tmDj4+PzrWTtk9ixMYRBr3eugReR0Fk0wkEGR7Ro07w7lKzZkm9aw6+
+o3Mr3vhJPPkr2VkqvEFAJeS9rLgpsebnfG3kDJ1QU7aAIBTifbI8l6Ku+m+A3nu3Cojo0/LsGFf
8fffoywi0klvna82vvuuJc2bZ2HOnP5m+7Q6lfvA4YzRY0sVF+9QIh3AzanmfzHSyqNI69k2kELf
90SVkGjUMfWi/7N5vzqB6Ty6fpmg8p4ERUa/lyLdBPcJ1BpUS/9CG+Pn58f27QcBP+LiqiFJ/owZ
s9woG1eu3KFChW9p0GA04IerawOLZ4UXL16c4AHG97gzFvf/RnJytlqky9TW6u7eGQoXLgSEWUSk
A5g8uTseHseRJPX3HHmJTMGhBXHu7pxmXeo+ZsYStzAO917ulBlVJmVb3Sl1TQ/aQnSs2VHneb2M
s87wie/Xf691X86cOYAw3N2PkZCw2yIindpuVh482ISPz0sgjPLlixETE5NunRQo8e95XdOo06JJ
pBs7diwKhYLx478jImI5x48vJSioC5IkcfjwYXNPxWgal21sc58CgcBxEUKdwKHIn7+i/kWu+ZGV
m1PEK2fXxky714i4A8klbQpk1faU5ZJbR5CTUtYrL/+Gi0dL4uUQnW6yZjWnkW6Y9vKgFyeQnD42
wzbIT3agq/tO//6fMWzYV2b5sAmDktTZRO8wEY0/Z/+HFQmYafrUOWvgmi+v9YzfO2I92wZSaEgv
9rkVNvo4ewyX0MkBx8qWchSCynsSuX3de1fqmpqkuCSazLB9X0VjcHNzQ5Zlxo5dAfil/IxzDknz
/O2f4sW/5MyZK+zZo/t92FxevnjOf6e3Wc3+uiBvfvrpp5Tn8RvUYt3xq1Zz+U5w8eJFbtxYm267
HLUJSfI3+OajJmQ5lD59+qgfL5HZ98O+dAKWKlhlsliXeqooQMuKLU2O1dLIS2SkbhKfLvg0zfYL
4y9Y3FfzCs3572H6DHRPTw8gjCdPbNOzMjJyJR4ex/HwSN+/8MK9C3Spq3/Ucu3JtdOIdO7ubkAY
Y8Y0QKXax6hR3+DjUwJf31IEBX2LLIdSo0YCEIaTk5MFz0Y7UqDEPwP/sYrtW7duUbFiebJk8WT6
9N5AmNafCxfW0r59IyRJYvTo0VaJRyAQGIYofRU4HK6uriQk7LZrDKVKdeXiRdOaQn/0UQ3+/nu6
1v0Di9bHY/1uJvg6IUn+xO/5hBphbYgY0xlZDlWX874Yw3XPhvzXty2XR/5JD696b/bJochPdhCd
sxmZ9cTy+efzWLdOeymxwzDLBQYalx3lCKSZ6rq+IbSz7+9tMncWrSJ/D8v2WEyDA5VqmjpZ92CR
6tS6Zn/BkRkS1BgBdSfYOxKHIKi8J18t3kTxOo3sHYpdccSSV2NwtPjd3NzpvcD8vnepubL5Ezb9
b6PW/ZnaqoW795MwjVvlqE241I8iy5XfeKgKpWebWSxa1w2X7EOI/7s0rvW3Iqv+4dT15/z13ddk
XbiRwSW05RT4pXkmBUoMaDSAWV/MSrPN1FLCZKEuOZPN0UoSbTH4Ir1Nza8rJLemmYUs70WS6iHL
+3AuuZDuHhu52nstOwOz09StIX/GhZKZN61rcir8uasKJZ9TAFsWNMSv32VU8b9o9ZM8ZOanbT8x
6n+j9J7ztyu+pUKBCgxqPAhPT3eio00Tw3r3/p2ffzZuuqwxtJrXii19t1jE1pgxY4iPv2rxfqLq
18yx/h8IBO8YovRV8G6TkJBAYmJNfvzR8IbrlqJ16+GAn8kiHcDFi7d07p/1XwgTqwYQ9/zN1NMs
2TzSLsrSgM96baVwz5/omE/9fzom6iwoshgVS/HitunPYzaFGkKibSf0mYOclJReIMpWxH4BvcWl
XvbtH2dLAlRRhOetYPRxWXwrEndd9/9VmyFEOraM7ZtS5vq+i3SxT2Lx6ay7N5Mjc2zhMbod62bv
MNIQFxdLC+89FrEV/fwuEzvG6xTpQC3SZf0SflxjEbcZimcyOANLN2/kBe7IcecB8JulbjlSpeZ4
Rk1szopVVwy2KS+RWX1odZpMOnPKYJMFoIhbEXSv1x2lyrEGdplzbqbQuXNnvWuu/FKbo/Fpt038
sRb3ol4ALrydmyZJ/jx9rfs8UYZQp8tXyEp9nwXVN9hGttDfg1clq1h5YCWDGg/CyclJr0gnSQ21
7vv55y/ZtWuXXp+mIAVKFhHpNm/ezK1bGxg7tpFVhv7IcigQRp48OSxuWyAQpEdk1AkcHg8PN2Ji
rPPmmIxCUQ+lUpnS+8R8tN91tBVhYafx8+tt7zAMx4GytHRxqml7nh88jv/zt8TcwxOgxo/2Ceot
TM0yMxgHe61uTl9Ioe97Gn2c1a+TITjYtbQ1yqRExvtkZ0jodTxz5rF3OA6Bo2WjGYujx5+/WDW+
/PGoScf+9VNxrv1nuHgEkKQEz8/ft+w63Rl1SRc+QXL+mohf/s/eWUZHcbZh+Jq4EALBCYXgDkGK
R3C3ogUKlI/gxVscgpNCcA8UKVakRVu0hAQoLZLQQosTLHgIQeI7348lG1uX7AbmOicn2XntmdnN
7Mw9j7Sn0+qX3D57koRTHWkc1pWQEQXJ7diQh6d7UHuvD1dmqspd7KV0a1yiPM+csbzNUsZaolcd
pN+3qHdRuDm7GW3uG09ucOPZDdpUaYMgCB+EGuWIkfuIK9weJ8EbEBQedWUf7WD45d8ZWMqa1g7e
/KTCo84eEKwaIcq0EdTl772m9yR9e+bP5OCSvrycvoOdvQpqsSYkJSVjY+OrVV9dsBtkR8LqBIPm
cHNzJSrqoJEs0o6wsBxUq1YtS9eUkMjmSFVf0/BR79ynyrRp05gxYwa9e7dgzZqxODjYaTXu+fNo
Bg0K5OefT7F48WJGjDBtwYUcOZx4+/aISddQhYtLC968yYa5nSxctFAr7FxYADVVJ17OKmRx8Vg5
qClnbAws8H3SV3Qzu1hngccyq/Cv5My0v98gWEnO/SlMt5pO5+2dqditorlN0ZuNPhvpe6qvuc3Q
yN27d2neeRRth+5V2SfuXRQrh+chKSnJ4FxV/z2EL+bCf6aLnrMwTPfA8saNApQpo774mOAn0LZq
W/YPk+dSsxtkx6lvT1G3pG4FWmJiY3Ad7sr5Sed58fYFLSppn784NDQUX19f9u+fS+vW+heGGT16
OStX7uXu3QgKFSqUqd2UYqImsSuradhwCidPBqcLTVZGWrtlMhlWVmcy9/kgFqa+bkwn5yQmRZ+i
mk2m7h9QLhDry8rglQzxHWLQHAMGtGPt2m+VtomR+7AvEkiCLCRdSHL8HkecBjkSf6abUgEVIH7/
LGTtJpM5O2BajHs8JCQ+ciShLg0f9c5J6Mj2evDl2SxdMiIigrlzR7BmTdYIODlztiQmJvuEkGbi
aH9otBxsDK+Uq4rjx4/TtKn2lbXq1q3LmZAQgu2Kqhd0Li6GGiONYKFhBNsUwTfpoWkXsVBxKdiu
KL4J93UeZzax7sxUODfTIo+lKZlVIw+ypCSmXn5tblMsDkv3RtPEqRmn8JnqY24z9Obx48c4ODiQ
O7fpQrs+ldx1O3bsoHt3d6PP26bNPA4e1K5ASOlJpbn17JZCsCk6riijmoxiVNNROq154r8TNFko
D8nXJIR17NiBrl2r8uWXpgvhL1++N8eOhVKkSBHFNsFPoFbxWvw50bjVSgU/gXmd5jGuxTh2795N
584mLFSlgfLl/fjvv2sKu0D5+1FzVk0uTL6QYWtmkfH16XXkbnyYuFc/YOeUE0FozKvDrcjv95TJ
vsWZulmZp75xhSnjiKvqcwfGFW6HS7EFJN8/iCieUhRzSRHkVAl1GYVMZfzww0369dNc0ENCQgKQ
hLp0fNQ7J6EHZhQY5s2bx927fxhdtKtQoQ9ffeXHhAkTjDqv2TDBe3Tx4kVq1qwJQNlSpTj000/Y
aOkdcSw4GL+RqQKcynPmuVlQR3POFF2ZMmUKc+bMQSaTGW3O/v37s3TpUhwd1T8nVcmxgdB0jdHs
MRZRx0LIUbkcdgXz6zROFp8AgoCVna2JLFNBSsXjT0ioS8lDJ5GZ7C7SwcexD1lB06lw/zlcX2Vu
S0yPvb0d8fGGF1qysWlIUlKSzuNkogzrAdYKMaTlkpb8MuQXHGx1eyDYd0NfNp3dpFJU6dOnD5s2
9dfZPkOIjHxB4cIdAVgfup5/H/9LYNdAo65RdXpV/n74d/pQYg1hsMZm0aKdjBq1LN22Sv6VuPro
aqb349X7VxQeW5jYTMVjjOUNaDyh7tmbZ7x484IKhSsYOJMmoa49TZ19OPMehUdd0mVvhByTEZN/
USrUaSPSAcTH18Le3sRRHBISHw+SUJeGj3rnJPTEQryBfvvtN0aPHsmNG7fo0aMJX3/diho1yuLq
6pyuX2TkCy5evM6K5Xs4cvQCzZo1ZdWq1ZQoUcJMlpuYiMPgoX1oiSYEQcDKyoo7ly4ZZT4PT3mS
90znzqP9odk6g+besmULX331Vbptw/r3Z/iAAdjZaRfirQ2bduxgxvffk5xG/KtXrx5nzmQODcnE
P+uhUl8QDAsDMxXZKgQ2UIDC9eBLLY57Nse/kjNun5Vg+G//mNsUi+Td03csKLgg24tcS4ovYcRd
06aV+Jj4VLzrAAICAti+fT3h4eu1HtO+/UQKFqzAL86/8GzhM4PWT+u5JPgJ3Jpzi5L5Suo0R56R
eYh6F5VJHBoypCMrV45Wvq7gjZWtPY/eHaOgLXKR5MbgNIKI74dKqfLX1m5jSI4KxErwRiaGULpQ
K8q07sahdX1U2uXjM4lTp0IQ/AQal2/M8dHHddovTdgMtGFFjxUM9ElfoKBKlcpMnNiJ7t1VF2HQ
l1u3HlGxYm/i4zPnbktMTmTzH5vpv6l/pvdClYeaMXK4LVp0gVGjdPPGVIexQpWHDx/O0qVdjGCR
bkRHvyVXrpZZvq6ERDZGEurS8FHvnIQBWIhYpxO/9YF/N5vd7tq1a1GtWiFWr9bdM3DDhl/p128e
YWFheHqqqWpohPfHxsaG5ORkIsLDDZpHFR6ennh5eRES8uGJ4/b6egkuKQVM8ubJw4UThnsdGMLo
yZP5+aD8QlZlHsds8L+TbcS6bHAs0/LkyRMOHz7M06dPefXqFblz56ZGjRrUrVsXZ2dnpWP8KzlT
xqclPVbszmJrsxcfgyfax7AP5mDdMRi2BuKkfxG12A2yo0O1DuwcuFPvOfKOysvLty8Rg0QuRFyg
7ty6JK5J1GkOwU9goM9AVvdaDcDVq5upWFF11feMHkoZhTrHlgv5wu9/bOvUFlEMIXjUVzRcfI9b
SSGU/PA8zNHKm9eyENQ9rvP2nkhISKjJ8tSB5rDfpKQkvv76a7Zs2cKXXzZh7NjuVK+uOpfg7duP
2L79BIGBP2Fn50BYWDiFCxfWyh4HWwfiEuN0KhpSq9bn/PXXQo3zK+P9+xo4OTnpNVYZ155cI5dj
Lgq6alfIQht27pxB164NjTafOuztGysVUSUkJNSik1AnZXCW+DQZI6aGnWUXWm6S/z5uWNJZfZCL
SaFAKH/+GaiXSAfw9detEMUQPD3fAKEsWTKCgQOVlJC3MiwEcd26dSpFup61PAlLEz0T8TpO4SXX
s1Zm8dBDhaAYER5OaGiacINI3fIfCoKAIAhEhIcTER5udpEOYOGsWQp75s2ZY8QqyFlLQ1kkRQsV
VhxjZT9BQUFKx51y9MgaI+MtNz/b3r17lR6zihUqcGDPHu5dvw5xcdy7fh3/yZNxc3PL1NfO1pbv
yjnhf+WdJNJpIC46jgbjG5jbDIOxzymFP+lD/6Zykc6+k7ktsWwSViewtf9WhWikDy8WveDl4pcI
fgI1PWrybNEznecTg0TWnEpN/aBOpEtBELxZG3b4wwQZ0ljkqMb2Tm0VL8PCXmBtLXAtWi447fHr
Tc6GA9SKdADFislFpD71+nD35V3NO6IDY5qNIb9Lfu48v6O2n42NDT/++COiKLJt2zGqV/8f8lBR
+Y/g553udcmS3Zk8OYhXr2J4+vSZViJdCnGJcekq3GojUP7113nAi+rVtQ9RLl68O+BlVJEOoPyU
8kYV6QC6dp3KL7+8ICbGdOklrKx8AC9JpJOQyAIkjzqJT5vluWHYK3NboRuBAoyRoaMorxf9+rXm
hx/Gm3ydV6/ecPDgy/RhnwYU/0gRwJTRs5YnZz5cX6T0Ke7pyd3w8NQ26xJEXPwZgJItZ3P7t0kq
19q4dy/Tpk3TyTtKEAQO79xJOTVV68pV8+RaWDiPz62jUJ3+eHh6cis8nLKeniR/sL2kpycy4G54
OOLzXYTn7kLfzz05HRbOvDbVmX7wEimFyzw8PRX7O3HHP8zpXhkPz+pEhKsPCfbw9CQ6OhpXV1f5
Bgv1Art79266cPBff/qJCmXLquw/5Ntv+fXYMQAcHByIjZXns/m35xDKLJ+LTW5X0xq8Mh/EvrCY
YxkZGYm7uzzxe7nSpTm8a5dB8714+ZJaTZsqcita+rVGWFgYP/30E8+fP8fGxoYCBQrQrVs3KlY0
ffXVj8ET7WPYB0sgby9oVg22jTG3JZaN4CfwbOEz8rnk02t8XGIcjkMcEYNERFGk5qyaXJxyUWcb
xCCRx4/3UqhQHtX9MnjUpSTy9xw6l7Dl9XHscpLYXXUQhObydqtGiLLfM/W/nRxCCTXuFRUqDODf
f/9LZ5sxcR7qzPuE9wbNawy7IqMj2XF+B2N2jsHV0ZXopdG8jX/Lned3qFKkik52+Pr6EB8fRWDg
EOrVqwRAaOjfjBy5nC5d+jB+vOmuf9ecWpMplNgYVJpWiftR94lZFkOuXK7Mnz8QP7+2mgeqoVq1
/nTv3o9x48YZyUoJiU8WnW7eVRaflpD4JOh/G3Y1gS7GzedhUlK8AU14g5+cnIy19VmVIl39Sl25
9sqaS7e3UyxNPubEkKU0DutKyAjdnhLmzu3CV1+54O6en0ePPuShifxDX/M18suFcKp9OPuVrubJ
4XOpol5agW9qq+rc/k29kHXkyBG5UKclgiBw7c8/cdCQfPdkYFc8PD2xzlmO2yHyp7+lqrfCtfFc
Xp+QFw5JxorwgMaMOPGGxR+uT2NEcAG2PpQxO2WyxLNgkyo4zOleGcTXFGg6S6O9EeHh5MqVSy60
/L0GvonRel+zihTPP13CnFfOn6/4+0J4OIIg0Lx5cw4fPpw1IbCxL0w7v5ZERUWRJ4/8JtOYYeJ5
8+RR5IVMSEhQvEeWINhduHCBOnXqkJR0UrGtWjWoVq11hp5RpCTpTk6WYWPjy5MnTyhQwHhVD2/9
disrnrlIZBNebAFR/LRy1+mDGCQyfs94Ag4H6CX8ONg6IAaJCH4C12ZdY1q7aeQekZtXS7R/cFu/
VH0EP4Gk1UmA6oeKKQn5M/5OIXZXw/Ttst/V9ldGnTqDFSJdCrXn1DZqBdjYRPnDLP/9/vi38zfa
vLri/q07YpDImJ1jeB0r90x3Geai9ecgrVgYHHwqU7uXlxcXLw41nsEabDDmnPld8vN04VPFtujo
9J77v/zyCzNnTics7DKVK5eiXLnPKFQoD3FxCURGvuDs2atERb2mX79+BAQEkDdvXgDCwq4b1VYJ
CQntkDzqJCQAFtnBqGzmxm1SsU51BamUBMcpNLT3JjgB6s1YTbDPcepuELm4cU+6J8Gle0/n2qxX
WBddDKi/8Pzyy+ls334crm6Ein31st7NzY0m3t7Mnz5dr/HaUrJ6dZKSk+UvtLWobrYAACAASURB
VHw/1Hn7paWsZzXOnPmTmvVrEREens4jzsPTk4g/lhPj2ICcH17fPTaJ8NxdONq1JpFDjjErzzaG
hBTl+zZFKFSyGh6envx74SKTh86mpOx3DpWaya/jtKte5uHpKRdYLMybrn379uzfv99oAtODR4/w
at0aURQJzVUWr2gTXpwGCjA6yaxFOVxdXSnq7s7B7duVtmf8zFnZ2HPnwp+Iz3dR6n8PubW+CCWa
z6WuTzu2LfIH2TvK1/bm+x9/p2055R6JHp6eHDhwgDZt2phqt1Ry4MA82ratb5S5Zs/ezKRJmcOn
deVj8ET7GPbBEnnyCmqNhfva1174JCk9qTRrvlpDo3KN9Bq/9c+t9PmhD0lrknQWUNLmbqtWzZOw
sGUaRhiX5GQZcXE1M+UIfZ/wHuehzkYXg87cOkODgAZ6z2sMgSpljov3LlJzVk1Ac+48gJjYGEpP
Kp1OyDIXwdeD8S3ra/A8W//cSq91vYz+PktISJgMKUedhITODH8Lm6ua2wrd2Wn8pLHdunXTqp8Y
9RuOHY/zX7L8nHN2qvwJpH3lLvzQypaVj1JC3kK4uXkaNw+d02re7ds/3PBV7AtBxXQz/gNRUVHs
2rePLTv1TzqtiSYdO6armopdTq3GiaKoMu9dWq6Hh5HX2U4hlKQVoyLCw+GDSJfyWsjXhWo2MO7n
CyxpkhuXakP5cURbCpWspujjZGPNwjVTGRoUrJNIt3fv3g+vLMf1RxRFlSJdyvFN/f05ITOaMOPP
KCABD09PSvh8nWncZ+7u3A0LQxAEHMuYsqryh4tqM4p0V65cISYmRqVIR9w5cvjOYMF/yYpNdy78
Sek+P6br9vNfl9i2aBoentXAypn/zl/km+4+KteNCA+nbVvDwnB0pU6d2kCo0UQ6gEmTegOhzJgx
Q+85FhRYgK+/r9FsMheOeRzNbcJHScHccpFOyl2nnpuzb5KQlKB37rqetXuytvdahQCkyzxikEhR
t6IIfgJhYeGAFyVK9Obatft62aItPXrM4NChGKytfZQW8nGyc8LW2paXb18add0GAQ1wtnc2KE+g
Iaw4uYKbs28CUKNYDQBiV8ZqNbbAmAIWIdJVmlbJYJHOf78/gp9Az9o9JZFOQuIjRhLqJCQArO2g
2TpzW6EbY0R4EAyJ74067fLly9W2y8RTCII3VnnmAhAvigjWqflZ4v/ZRb9fExniLj+9CII3JXtO
JeGt/GKqlIaA+wcPnqW+iNH/YlcURSbPmaOVKKbrvB6enjx68iR9GF9j7Z+kp8xhbNuMyaYdO/Dw
9OTZs2e0b98ekmI/5Ea0DKysrNR60qX1BgPo/fMLfhjYiJlt6rDtfDiy12FKx6WEaNb86zdOWmmf
2FongjxMM68OVK5cWe3xK1t3EFcWt2P5lzUV2zw8Pbm56SslvQVSxMeQwB64VlNf8GbssGEMGzZM
H7N1pk2b1pw7t0Bpm02ZVQAKz9+U372rtEQQvBEcxuJm5S0/36lQS6ZObchPP/2kl23vnr3DZ5pq
UVMf7t69S48ePRAEgXr1qjBqVFfWrv2WY8cWsWvXDNau/ZYhQzpSsGBeBEFg0KBBREdH671eUK0g
vnvxnRH3QCIj8XugSwDs1e5Z1ydJi0otFCJb2H3l53Z19KvfTzFeV7HuftR9BEEg1/BcANy5c5dy
5XoCXixdGkbp0j3TX9fowaZNhxEEbw4ffgd4sW3bMVq3zhiqn57E5ETyjspr0LoZEYNE+tTtA8CT
10+MOrc2DNs2jFL5S3HqRmrIqoOtg5oRcgQ/QWtBz9Rcjbyq99iIlxEIfgL+7fwlgU5C4hNAylEn
IZFCwc8tLrRPIybIV5cvXz7y5y/Ls2f7VPQQMoSuNknXesEb2DBC8Tq1bxNELYrF5sihX/iKMkRR
5N27d+TIkQOAk/v2UbyYfl56x0+dov+IEYp505HwBir01tm2K1eu4FG5MgCLZs+mo4YLb1Nz9/59
GrZrB0DhwoXT7+cSp+z1vwHISH0aNdnTFs9156lpA3W9aqPOl234gAGAvArsmcKe1I80Xu424IMA
bTneicqIF+X22Qmp73lEeDge1Ztw90j6BNg9WnxO5a/XI775m3lJg7m8Qb235uUrV2jVvr3xjVbC
wYM6JgMXX/HjleRM4fkpIp4yunTRvXLf3JxzabWilc7jMjJhwgSOHdvLhQtrASheHLZtG8y2bYPV
jlu5cnSaV/8AkJSUTJEinZk+fbbyatxKiDxv4lyOEgDsGgfPoqXcdZoQg0R2XdjFkK1D+GOC7nlu
M4p12oghKX1fx76mycImHB+dmvN4+PDhDB8+PNOY/fv3ExwczPnzfxEZ+YhXr6LJnTsXJUqUpFGj
xky8OBFxd+raffp40afP7EzzqGNBlwVM2TtFpzHasOrUKlb1WkWhsYXMJhb5zvfVuq8p8sHpy/Dt
w/Wy5UHUA4qOK8qrJa8sZl8kJCRMj5SjToJjx46xbNlSDhw4CEC5ch7kzetKQkISL1++5vbthwB0
6dKFESNGUL++8cKHLJLluWCY/h4GZsEEAmPjxo04ccK0Od7S4uLSgjdvMpSU31QF+vxttDViYmJS
q5emwTVnTnLnyoVMJuP+w4eZ2nPnzk1UVJTqiRc7wMg4g+377LPPeJhm/RpVq7JzwwasrYzv/Lxk
zRoWrVqVbtvbt2+VhtEQHw1HB0Bb04US64ogCIQeOsRnHyqVpiXFm65SdU/qTfqZozO7MdmTD0Kd
jCq1P+ePcxdxVqGVKXLyAU+37MGlRhWcypc2nvEW8kBA23yJxuS/Gzdo2bVrFhaVUJ1v06bMKpJu
DM5QlTEYQWiIKKZ6bKS0q0e7UPIUDMnr1rdvXzZu/J9eY3Xhn3/uEBLylqFDlSdWl3LTmYc9Z6FH
oCTYaULwE/jxfz/Sq04vncc6DXEiLjEOEVFrYcR2oC1JsiT2DN7DF9W/0HnNtMhEGTm/ycnb5W8N
mgdMV7gA4NDwQ7SqrP0DB0NsKTWxFLfm3Eo3z5CtQ1jZc6VJ1jMFutrzw+kf+N+m/1nUPkhISBiE
VPVVQjVv377F1dWVy5c3UKlScQCaNnWgadPvAG3CV2Sk3PiEhFzGx+cbkpKSsLY2X64lozMs2mJu
pLWm9TbY2Qi6/m60KU+ckM9VvXo1jh6dSd68ypPDG0rz5mM5cuTPzCIdQPkeRl0rZ86cSgWCV69e
8fz5c2xCx1Lifw90nzg53gjWwYMH6dc+evQoJatXN8rcGRkzZoz2Ysny3Bb3/yCKokqhKWXblUsf
2jqdT9Nqxd9/XlQ57/fL0ocwF+jVKWuqwJqBlGP4z+nTuHzwOjUl85cvZ8W6dVla+VUmk2Glk9Bt
hZi4l1xODfH/YTkTvpR7pqkT6y5fvkXVqtoLdaGzQ5kUO0kHm1L5998fs0SkA6hcuQSVK4O9vR3x
8emLLSW+T8SlsEuW2CGRnk71IL6e5F2nCTFI5HzEeb3Emvcr33P8v+M0XdhU6/Huud25Pus6DoMd
eBL4hAI59a8ObSVYYW9jT2JyIrbWtnrPU2ycfhEEmhCDROrOrUvrpa2zTES6/fx2utff7f4uW4l0
uhThuPfyHh7jPRCDRPo16GdiyyQkJCwVyaPuE8HGxoakpJMmXUN+I/MRHfLsJtYFCjAyXp5vz0Q4
OjowblwP/P0zJ+LXluRkGXZ2jdixYwddunRR3/nWXijVQe+1dCb2JTjm0dwvI4tsYVSi8e3RhzXu
MPCR8eb7O0guRFbLmpxiupAS1nz1zBnlnoA64unjQ/Tr10rPY2/Dr5LDs6LBa/AgWF4ExoLOLSl5
+ZbOnUu7li2NPn/fYcMIPn0aR0dH3r83bk5NTVy6dInq1ZU8BDAiCQm1sbPT/ryrvyeaau9AgOT7
x7ApNhNRDMGmzCoSjubDrtnzdF6DIP+uTr47XN72XyucvUJ5d1a915G39zeEhKSK4sbypmvTpjXx
8c/ZuHE87u75tB6XnCzjm28Ws2rVXt68eaNIb/CpUeRrqFka9k40tyWWjSGiTdrKrtr0fbP8DS7D
XIwiEhkqNgl+AoVzFebRfCNeE3yg9pza/HX3L3I75SZqiZqIgwz26Ls/xcYV417APZyGOPF2xVus
B1irnGva/mlMb5d1ESHaoO2+C34Cjxc8pqCr7ikVJCQkLB6p6qtEKgUK5AdCTS7SQUouslDq1atr
8rWyhDEirDRuIl6TMkaExfYmXSI2Ng5//x+Qh3l5ERVVEX//E7i5tZMnXxe8cXNro/hbELxpXdGX
06cFxRhrax+Sk5M1i3QAb41/cakWfUQ6gKHaXaRmCW+N7Pl1bIBFinQAzs7OiKJIxfr1DSrMce3G
DTw8PalQsaLKhw3nqzfVe/507GxodE9RQxFFEVEUCVy9WlHkZMwU/XMbJctkNP3iC8VcFatWRRTF
LBfpAKpXr87Vq24mmfv9+zji4j7XSaS7eegmVra6X3rlz695H1JEOoDkm9uxLr6URVuV585Madva
6X/EXvhVbQ4+gJCQZbx58waAtTXXMvCSdjnsMiKTyWjQoCpy0TGUgwfHc+xYoE4iHYC1tRUrV45G
FEPIkSMMCGX2bD/69++vl13ZlYcb5CKdVBlWPWKQiNsINxoENNBrLHwQWjQ8jBaDRH7951cWdl1o
lMqoYpDIob8P6T3et6wvj+Y/YvlJ9UXC9OHPiX8iCAKv3r8y+twZuffyHvcC7gEQmxiLlaD6HPrk
9RNCbmhKVZC1TNs/TaNI5zPfRyE+SiKdedm4cSM2NjZUqVKarl0b0bVrI8qW9SBHDmcOHDhgbvMk
PiEkj7qPmISE37GzU+4yX8fVl5yDxrG2Z0GK5b2PrW8kSTdSQ3wiZSH0cPDmcHwIDuny98if1G9v
+AcDX/UlaqfyxP+3bj2iVKnuJtu3LCU7etZZir2BHy5UGy2Fat/oPn5bXeihe0Jog7i4CGqM0r6/
JR1vMK49lrZvGmjTpg2HDqXe1Azo04cenTvj8dlnim1n//qLxWvW8NfF1PDXR48eUbiw5gqvRgmB
zUbHNDg4mIYNG+o0pkaNGvz222/ky6eb8JIVTJ06lQYNctGs2ecGzbNs2R4KF/aiUyfd1RF9PdHq
1avM2bNqwrwEb2RiiOJRrU2ZVfwdIKNS94vI4n/I5FF39eduH9pWY2XXFzHxocY8fP/9l5fy5cuz
0H0hox+NVts3I3Z2diQknNBpjCGUKtWDW7f0SGOQjRm6GnadgWc/mtsSy0Zfry7rAdZYCVZELogk
n4vq81vhsYW5M/cOt5/fpop/FZLXJhtiLo5DHHm/4r3C81lXgkKDGLB5gMnCQFstbcVv//ymtbeY
PnakLfDx64hfaVmpJREvI/DI45Gu38V7Fzl85TCTWuuXWsBUqNvvzX9sZuGxhYRPzdp8sRLpKV26
KDdvbtVpjNLc2hIS6tHpRC4JdR8pLi7OvHlzWGV72ot2MXIfVu6B8r8/CHIg4GsnKhXqUp6834oL
oaQaBy4bm4YkJSUZbZ/MhwgbKsLX/5rbEO0IHQ9/BViGGBCY5nykjz3mEDUWWsNoHS6sLU14MZY9
N3ZBqY5glQ1Tmf7SBjoeZNasWaxfv56IiAhFk6+vLxMmTKBZs2Y6Txsd+ieCtTWu9Wrqb5ulfV7U
ocHWJ2FPKFgtez7579GjB/nyJbJkSeaKjMro2XMmhQpVYcGCBXqveeb7M5xfeZ6RESP1nEF96Ksp
CQo6gJ/f93oJjWFhP1CtmvJiLGk9+WSPxii5FlHeBtAqny+/vbBCFFXnZtU1LPljwL4TxO0GPXWd
T4Ki44piZ22nKE6gLSN3jGTpiaWEjgulfinVhdVShJkeQT3Y/td2g0WyrArd1QeP8R7ce3lPq7x8
xhDqxCCRNsvacPCbg5n6OQ1x4v3KrPfc1hfBTyB2ZSwOtg7mNuWTRRAELYpFqSdPnva8fGlBkTUS
lowU+ioBCxcqr9KmCuvSX6Y7UcWe68GZDCm3UtrlfYMp5aDe08JQrwXLQYBma+HqJnMboh1e88xt
QSppb/KvW07FULWIMt36G7EqrUVxoGv2FOkA7si96iZPnszdu3cVoZ2iKHLy5Em9RDqAXF61udSg
nf52mTg03ahoISie+f5MFhljfLZt28aSJbtICcnP+DNd+D3d661bjxok0gEcH3fcAJEO7tzJXOE4
K+jefTp+ft9zasYpag2rpdPYggULqBTpIPW64k5S6vWFvQAJadrSXnv8PLg4CUDc39sZ9p/mlB62
tud0svdjIH4PDFsD646Z2xLL5X7AfW7NuaVzeOri7ovpWL0jDQIasOCI6vNBiqi0zW8bgMFhsGKQ
iO1A/YtKmJKIeREAFBxjmoc2vvN9FcczBWXhwIKfYJEinbL3vvSk0lSfWR0xSJREOjPStGktg0U6
gJcv9+Hq+mnmSZUwLZJQ95GyY8cFte2iGEL1Uh3wqDQEkOezEQRv/vvgSORQeyCJKu7Rkm9ux9ap
DfGi+ovk1q3VJ6fOVrg3gJvZqLzaGDG9N5slcLCb7mMEC68mHPsc8lY2txXpKdEakmINmyM7eX1l
xMS2N5RFEhehZ0hdcgIUME0VX6Oi5TG8suNKFhhjHuxcjOuF9e6Z4eExJUqUQJ7n09fgubSlYMHO
7NhxHIDgacG0XKZbsZHjx+erbV/Xtj0Vhi+ieJpT/bHhhei4IVpp/44r19FxQzSOVVfROp8PoN5r
X99wwezOikHQpb6Uu04TYpCI3SA73sa/1XrMnsF7iF0Zy7e7v6X98vYq+839Yi7rT69Pl+POEArn
KsybuDc6j3u68CntPVXbaQxMWV311I1TAORwyEHy2mTik+IZ3ji9J7T7t+5qbbh06RL29vbkz+9G
t26NGD++F926NSJfvtw4ONizefNmk9nfoVr6gmiCn8DN2Te5NOWSydaU0Iwoihw7FphpexMHb86l
dVSRPce6yEIAHr9OVJnP9fXr30xhpsQnjhT6+hEzZswYAgOzsGJmGo4ceU/z5s3NsrZJyU4ChixJ
Xo3UEuxNEQ09h0DjFdqNCR1vHu9AXd5jS/w8iMmwqwl01bOAjCXuk7Zkke1656rLDsdWBxuNVfnz
U8BUx8rGxoZff/3eaB7s69YdZOLEH3j27Hm67frarymsSFl4a+Ey5Xl0fY2iXRRDFCk6bBxzkPj+
1zTjG6kNfZXjpbPdHxPHwqHNTLmnnYRq9AnLFPwECroW5PGCx0rbq06vyuVplxV9wTBRy5DQ0e9a
fEdApwC919ZE++Xt2X95v1r7dLU/ISmBgT8O5Nydc1x7ci1d+GsKhccWJnJB5u/j8eN7MW+e7kVv
AgK2UqFCa9q2bavz2IyktbXA6AL0a9CPuV/MzdQvKiqKQYMGsWvXLjp08GLs2O7Ur6/+IfC7d3Hs
2RNMUNAhzp27ytKlSxk8eLDBNn8qlCvnwbVrmRN6NnHwZtabELo7ehORFAKySGxK/UzSnWGK7ytV
32ny7ysLv8aTMDdS6KuEnMDAQMCLkiW/zLI1/f03AF4fp0gHlumppgorG8hXBRZZUH6ecNXJ0DPx
l+kuKNVSTIfqnl6ZL7jMjmAND4L1G5sdhCRV3P8dSrTJkqUayiI5aaW5+EQ6lucyjTHGJDu//yZg
X7995jZBI0lJSTRrNhrwIjm5Ht27r0AQvPn667kEB4cRGxufaUx09Fs2bPgVH5/hCII3gwdvIyXE
t3//AKOJdIDmKpliiOJHKNweUQxRiHQp7YCiLa1IJ29XL9KtX39DL7s/Jpp6ykU6ybtOPWKQiM1A
Gwb+qL24IwaJPHn9BOsByr3/L0+7nEmgqzStkkE2ug531Wvs94e/13tdbdg3zPjnS/vB9mz4egPX
nlzj2sxrPHz1kJkdZirarz+5nqlwRMmSRYBQvUQ6gHHjetK2bS6KFjUslFcmyljfZz0gF+yeLnyq
EOmOHz9OjhxOvHr1KxCKm9tVdu78BlEM4ZdfZmsU6QCcnR3o3bsFoaHLSEz8ncGDK5FSTXvt2m/J
k8c01c4/FmxtdU/tIoohlM2mGWEksieSR90nhCAIJCcHY2VlXH323bs4cuRo9mk9RchON7SBgrwQ
hlt589lw9zf4uZX871ZboXwPzWMW2cKoRM39jE30bbB1AudC6vstdYbhFlrtSZ/P5/HB0GSVaezJ
CrL4f/LOpLkUmzgCa2cn7QYECpC/GnxloeEuehy/uS5zmfBmgokMMj/G8oI74HeAtkGGe2fog6H7
8OLaCxLfJ1KouobzoQYaNqzByZOLDZpDF0JD/6ZOnQHY2lpmXi9zUWEoFMgFJ2eb2xLL5fmb5xQd
V5TYldqnkLAaYCXPg6rEW+zV+1dUnV6V+wH3AagxqwbNKjRT6lmlDW4j3Hi68Cm21tp/ti/eu0jN
WTVNGqIKckHKu4w3p749pbJdFxsEP4EdA3aw++Judg3alWl8xtcxMYfJmdNZ/x3IQFRUDG5urfUa
m7EABhincIGuJCUlM3PmSaZPn56l61oiAYcDGL9nPAAFHxfk8UHj5s5++bICefLkMeqcEh8dkked
hHJEUcTKygfw4quv1pIzZ0uOHj2v8zy7dwdjZ9eIESN2A144Ozf9tEQ6kN/QLrTw/GkpjBFhQwXz
2lA8TV6jX3tq7v/HdPOIdAC5SspFK00kWl7SYoO4vNrcFujPn7OzXDgvMXsCIS6ldBv0EYl0gNnE
p+zGpXUW+r5rwYryKwwW6QBOnryITFafYsW6GsEq1Vy7dp8TJxLw8hoqiXRK+HeFXKSTvOtUk88l
H7ErY3XKKSdbK6NT9U5Kx+R2yo1MJuPl25cAxMTGcO7OOc7ePquXfVFLorAbpFukRI1iNfRaS1fE
IJGQG8YRok7fOs02v210X9ud3Rd3cyHiAit7pkZlZBTpZs3yUyrSNXHwRhB8kT34GdevziBG7sOm
zCqsBG9kKMlJlgY3t5xMnPiVXvZPaTNFYaPcQSI0y0U6ABsba6ZPb0Jc3An++eefLF/fHPx0/ifs
Btkh+AkIfgJ9fuhDkiyJcS3GIQbJBfXHBx+TnKxj8Tg1XL9+XxLpJIyOJNR9ovz444/ExLxVhMzo
8tO58xQSLqxgSdGl5jHeUhidDKe+NbcV2mEJIbsDH2rf96y/yczQilsaQjg2V80+HpXakJ08RJVx
eopZltU6BNbc/3vqMOC9r9Rd/xCu7EDZ9mUNnuPeqXvYOJonVmZxscUGedMZO6+elZUV9+49JuVa
Ytq049jbN+blyxi95+zfP4D27ecr5ixXrieNGzc2ksUfL/F7YNIWyJV1mVGyHWKQyPM3z3Eaop3X
9O7BuzNVJ03h4fyHuH/rTrIsmZuzb1LJvRILjy6kzTL90jWoWscScHF00ak4hyq8ArxoV7UdnkU9
EYNEPp/9OYN95Q9Ry04um8kzb/Lk3irnep+wDmWSjDY3wXPmDNDBajmCn8C83+YhBokEBAxCJlPu
YQipeTrlv2UIgo+iLaOI2NrBm7dKxsr/9lFZ6ADAwcGOypWjcXT8eKrM+u/3V4hxFadV5PkbedqG
bp93I2F1gkKU29RvEzZWmb+Hra19cHTUId2NCmxsGlK2rBZOCBISOiIJdRL6UWWAZYg/5ubdY0i0
0PBHZRz+2nxr53BP/VvT5ya/p2ltMZTnf5vbAuOR3UW6QAHGGO+pqK7kaaPlRV7NsaY1RB+M8N4/
v/pcc6dsSve93fm5188GzbHRdyOT3k/S3NEEvL7/Wu+xWVEoZPr06cTHJ5AnT2vSPgz84w8bvsi/
iIEDt9C16zIGDtzCrFmnOH48nowPDtetO8i+fftNaufHyuxeEL1d7l1nRMeSj4p8Lvl4v/K9TqKY
KhEtblUcNgPlYsGyL5dx+tZpCrnq760aNjVMbdVZZXZpUzXWx8ebqVP7kpLvTNVPr17NOXkyc9Gq
mKUxuAxz0doudeQYloPw++FEvIxQCHOJyYlUKVJFt4lsS2FbNH3ovZMAd0z4uU9YncD9+/cZN06z
gCOL//CwIvEK2BTVea07i4cx9uxx+uS34rmGr/TY2GM6z28JnL19ViHKeYz3IPp9NP7t/BVi3NXp
V8nnkk/neWNj40hMrEPTpqN1Hlu1aj/Ai6Qk9dXHJST0RRLqJAwjRazLTmKVMWm1BZYa54LE5IwR
4epG89pQf4Z2/b4KM60dhvD8suULW0UbgajFFeirm+DRQmO38ePH4+DggJOTA15ennTt2oimTWuR
K5cLgiDQvn177t69awTDdWRvO7OHk1bZv4mQnKU1d/SZb3pjdMFIAu22NtuMYIzl8s/W7BkqlJyQ
TJN5TfQaO93KvNV869atS9XnVVmzZg07d+5kzZo1TJ48mSZN9NsfCfXE74Gp22DBL+a2xHIRg0Ry
DMtBl9VdtO4v+AlEvIzItL30JPn3xZPAJ6wLXae3Z5znZ57sv6ybSJ3zm5wq2xwc7IFQTp2azYwZ
/9M415Ytk2nY0AYIpVo14z9cTRHmxCCR4uOLK7bbDbJj16BdmfrHxyuPXz0eF4Ij8kIAr3+sj1C4
PUk3BvNWFkIJK3l7HTVR8u/exelkd9qQ3Bw5cmg3JuUP2yqQdI93icn0bqJ98Y+So/5mfl1bNj79
nfx2H4dn164LuxTCnP9+f+qVrKcQ5SLmRZDLyXgFumxtbTl27DzgRZs286hdezA3b2aOArp48Tol
S36Jn99mwIvLl28azQYJCWVIxSQkjIOlJ0o3NdnJK8nctqZ407mWgP63M7f/sx4qa75INCnqClmY
+/hpw/0T8PQSfK4hNFvFvri7F2b+fD969ND9xjg2Nh4XlxY8fvyYfPl0f7qpExbyXpzOV5EGz68q
b/xrHoROsAg7FRjxuGWF55U5MWT/lpZcSsOZDancQ3MFP2Ojr91LSy2ldMvStFzWUnNnE/Kxf64s
kbhEcO0uF+4klBMTG0OBMQW0LjQh+Akkr03GSkj1i6gwtQIHvjlAyXwlqN5SPgAAIABJREFUFX0A
vQs92A2yI2F1gtb2KFsnKuoQbm6qRTxt2Ls3lA4dJgKwL2wf3mW9ye2UW6v1M2I/2J52Vdux++Ju
RjQewQDvAVQoXEHt+EePHuHufsegfVDGs2dlyZ8/v1Z9fzr/E93Xdk9nY48eTdm2barR7dIXKysf
ZDLLc6G99uQa5afIi96t7b0WPy8/M1skIWESpGISEmZgjCgX6bJRKOydO3fo1asXNjY2CIKAjY0N
JUsWwc3NFUEQEASBihXLM2vWLOLiNDxRy05hwAMemNfWhh/CD16ruKA62l/t8OXLl/PFFz5oCssQ
xRB8fKrx9dd6hPt2OQEyFULd0Cjd58tqijaGkO8090sjRi5evJiUY/fo0U96iXQAjo72JCWdJF++
a0Co0atMK7AQkQ6gwfOrqnPVhU6Q57O0FCzouGUH8lXQX2x+deeVWUQ6ANeirjqPmS5M5+uQr80u
0m3w3sDYpxYYKv6R42ArF+n+uikVm1BFTsecxK6MxWqAFf77/TX2F4NErAdYIwxIveb6d8a/+M73
JTI6UtEH0Nuz7tDwQ3yz/Rut+j78/iHXn15XvH7//j0Qmkmky1xgIQEruz4AJN3crzQXWocOXpw9
K68c375ae9xGuGXqo22l2oSkBHZflOf8W3JiCRUKV6D0pNJqRT53d3fAi8qVjZPipWzZXoCX1iId
kEmkA9i27Ri5cumXi9CY3LjxgJiYqhYj0gUcDkDwEyg5US5YlytYTuExJ4l0EhJyJKFOwrikCFbv
n5nbknTcuXMHQRB49mw/KWJEiRKP2LJlIElJJxHFEJKSTnL79naiog4iiiGIYghXr65l8mQfHBzO
K8YtWTICW1tb4uPj0y8yRoTNFp5bDcClCFjbQbJ2T2CNTvURqX9vr6/1sNKliwKhDBtWlZ9/nqWx
vyAInDq1lA0b+gGh5MypXQgCAEW84djAzNv/CgCH3Jm3Z0cCBfiQXNfTswwjR5qmKpxMdoqEhN+N
P3Frywq5bCiL5Gr3QcobBQv5qjWBSNd4zseduH/wlcGEzgnVb7CZnoc8+usRI++N1GnMdGE6fuf9
cCls/lQO90Pv45w/c/VGiayhVmm5YCeJdaqRrZXRu25vrcQ1MUgEMb0Q9+D7B7h/656+D/qJdU0r
NGX578u16uue251yk8spXi9YoF7gEwRvBMEba6EJYqI8vYVji+sq+9erV4nVq1VXkNdGqEtMTmR4
4+Hy9dN40BV10y5325U6twm+lkxAwFat+mdkyZLdbN58l+vX7+k0TvATaF6xudK26OjXgBcuLi2z
XCi7fv0+hw7FUKZMD3LmNMxr0lB6/9BbEcqaUoH19hwlkTUSEhKAJNRJmIIxIqwuBD+UMbcleHtX
I0WUE8UQ8uc3XGQZMaIziYm/Y2//F4mJJ8mdO02ehKqDVHuKWRIj42GxvbmtgMizGrtMnDgRCOXm
Tf0uulKIifkNCOXIkSPaDbiyIfO20PEG2WCJVKpUkvDw9UrbBMGbU9desXvFWoPWsLOzRS50G4lA
AcpZXrnCZzsz5AuyJC9bE3nSNZjQgNPzTht9XktBEAR+n6S70Hx83HGmycwTurmu9jqd+u/7eh99
TvahcE0tKhhLfDLE74HaY6GG7jnWPwlK5CuhdfVVMUiUR2qk6ZtxrCFinb5VYOVFIzTMLYaQnLwD
6+JdaeHgTdKdAwC4fnVGaf/Bg+WVWed8MSdTmzZCnd0gO7zLePN+xXtK5CsBgNUAK06MOaF2nNsI
Nz777jPEIBHfcr6MG7caecGZ6wiCNwcOKLd3377TuLm1YcOGW4AXI0YsoXdv1RVk1XF45GG17W/e
vMXKyocXL8qrtclQeveeTdOm0wEvypbtSevWrU2yjjZU9q+M4Cew/PflbO63GTFIxL+dv9nskZDI
TkhCnYRpGJ0M3vPNdqNapEgBIJSQkKUmXcfW1oZXrw4AodjZ2cmFug3lTbqm0ag33XxCQuc0Vaee
XlTZrVKlisyZo30Y1rMzv6gtTw/QvLkTI0aMUNtHJbXNU73R6OxtpxBtrlzZqLqfTTF8yuWm89AB
JIYspcrX+wERQfDl6NRvEJGLec9i4xAEb76p2IhdagpNvn6tfxVKBdG3oIx2Cb2zmoayyMwhsF/8
ah5j0mLicNcTE9TfQH2KnPneNDdg2uBaTPuw160tt3Lj0A08fD1MZ5COtA1qa24TJD7w5wK4uFDy
rlOHGCRqFQorWyvD1dE1kzg36qdRitfRS6M5OPwgrsN1D12/O+8u9ebV08pe24Fywez1a90KwR2O
k0ebALz+UXlERIUK8mvgCS0nZGrTNvS186rOOA114vac2yTJkpTOlRbBTyBqSRQPvn+Qqa1///6I
okjbtuPJWDUavGjffgJRUa/1S5OSZv0m5bVPF5I3b95MNs2ffw5rGx/c3TuxePEuHjxQH5kUHBzG
N98sxsGhCZ9/PpKLF50Uc23efJhjx47rvT+GsvvibgQ/gbbL2vKP/z+IQSLDGg0zmz0SEtkVSaiT
MB2l2qeGwsZEZMmSO3bsAEJ5+HC30nZB8OaxCA3tvYn/8BpZokLcmbPjH8o7+jDpfCIgYmXfmfi3
r9n6XCT/53PStGUmIeEE+/fPk3urLbIzzQ4ak7pTwakArCmS9WsXS3NBs6Wm0i6xsbFcuaI8hGLQ
Z778ETiUyZeS+aFVYwTBm+KjLlGgwSJFn9f7ZmNbUbkn2JIlnXW3eakLNNAccpstuC1/Ip6crCF3
WlL60I/wDe1A9gS7OgNpNmOZIrIvv6MDAMN6l+bcVdVl6rX2ZlTH+tLQdqfh85iI2ldPyf8IKib/
Xdy8+b4sKSddgQL5uXVLfo7W9ufevV0IgkBsrHbJ202Btb212dbWlenCdEZGaBf2Ol2YTuefOvPt
Mw1FZ7KQOc5zqN6/urnNkMhA/B55VVjnrua2xDKRrZXh385fo1db9NJo6peqj+AncPu5POSvWtFq
dF4lvyZxdXTl8oPL+Jbx1dlDziOPh9bhoUky+ff0lSvKQ91TKqGmiHJYFSbpTqrQotiegfj4RK5e
/VfxOuM+2Nuoj+SQiTKG+A5BEAReLn4JgO1AW2Z3nK20v+AncPPZTb0LcRgLG2sbjo0+prmjGr67
8R3JSTIePXrGyJFL+eyzTigTFlN+fH2Hs2zZHuLi4jl//iI1apgmfYm2rA1Zi+An8PLtSzrX6IwY
JHLgG/m15r1798ibNw/Nm9fm3btjaPPd/+TJPr76qjmlS5fkzZs35tkpCQkzIwl1EqZnjAjry8Cq
giZfqnt3d419Clv5pN9glfqEb2L3yvStZsfzl0mMKtEQWfxu7HO40jOfwLPzExVtqmjXrj558rjB
qATLCntTxeAn8PYRiGZILttomfLt1vILuVKlSqocuuahjLpjVjC7RiP6/XoCO+/h3F0kv7lLuYDM
1eEIiVcHqJzjm280JF+2zZDTLvGt+v7ZiSLy/wFra2uePXulslvai3Fb7+HyLwyrQsT/8WWmPqIY
QtlxawisZ6Nyvq5dDbzLW2RnMaKTKpzKl5Z71cXch5LtzGtMFol0vQ73Utl2+fJlNm6Uh68/fbqH
UqU0n6PTUqxYQUQxBEfHC+zaNYM//vjDQGt1Z8SdEdw4cEPr/ht9N5qtIINjHket+qVUVbXPaQEp
ENKQ+F5FER8JszO2I7zbKfeui5feJqWkhKCeuaXao/b0uNOMaTaGUhNL0XlVZ3rX7c2Jayd4/uY5
ABNbTeT60+scGXkE6wG6PSTYMWCH1qG4+Ublo379+ri7d9NpDXXY2zdS267Jo852oC17Lu1BFEXc
nN3UVnlNaSudv7Te9hoDwU9AFA37ntW2Gq4lIvgJOAx2YID3AMQgkTw58gCwYMECBg1qD4RSrNh9
XrzYy5EjC3B2dtBq3oIF3fjxx8ncvLkRF5dwIJSgoO/Ys0cqSy3x6SAJdRJZw6gE6LjfIsSr2HM9
OJPmIjP53QvF35u+7M7KAsNY28KRkWOqEplWv4p/oGhTR6lSH0LfxohwynI8FVQyRoSFZvAYqZbG
Df5QmnxjyfIiHW3bqhY5XL6Ql7q3F+QXNkn/XkrfIfkhgn0Ftcu3aaOhClfzDHmevOaq729p2KlI
Cr/UGboFK17mz581YlKlSioKLeiCqkq8FkaZb33lf3TYZz4jstCTrmTzkiwvmzmZea5crlStGkPf
vsYRrbp0aUjdukl4eWVt0R6Xwi5sb7dd6/73Tt2j1rBaJrRIOdOF6Xz3QnO15xSRTkJCH+L3wLKD
MFR1zYBPGjFI5Pbz22oFswVdFrB/2H72XNrDmVtneLXkFflHp1YXvTbzGi2XtOTuvLs8fv1Yp/Uv
TrlIhxUdNPZ78VZ+7fvoUSRnzlgRb4D6eunSDeLiPtfYT5NQJxNlPI15Sp4ceUiWJRPYNTBTnx3n
d2A70NZyhC0BktaofoCvjlvPbmVbkU7wE6g5qyZikEjcqjjF9rx58wChjB1bm9WrjVu928+vLZ06
5QdCqVOntlHnlpCwRCShTiLrKFgrNRT2oRETy6chXz71ooMohuBQeyAJshDsP7y2ds6r8Arqs30H
935pD0CxoUsonPY/xP4zRZs6Tp8OS33x+Vi4nDVXs3v27MHBwYHPPivIN990Yu3ab1m79lv8/ftR
p04l7O3t2blTRcjgsGhYmTdL7ExH6Y7y39d2ZGpavXo1v/yiPLwiZo88dDZOJm9Pfi5PWqzwALMu
gixO9XHv3Xs2zZsrr86loGw32P8hMc+JYVArmxWSqDtV+fbE90o2euHtPdEkZri5tQG8uHLlqmET
WVAIpybc82/n/XPVnoUmxwzH6uWNl+leBwQMIjr6YKZ+guCNles4xd/K2gHqdVigMt9kaOgyjFqc
JIvp1q0bdepU4siRQDKG+9y4sY0+fVpStOhnxMXFqZ8oA3nLqT+H3zl+x6JFOku2TSI9YzvCikFy
77oQA0/tHyO96/ZGDBJxGOxAbKLysP22VdsiBok0CGigEGvSinvJa5PpvrY7v1/7nSl7p2i9dvWi
1Yl+H83NZzfV9ksrDtWvXx97+0aIYgMEwVsr0e7evSfUq/cd4EX16v/DwSGzp5QYJDJtb+r/tL2t
eg/e/C5ysfLFohfYDLRhdNP0lUwEP4Hun3cncY1lPLQT/ASmtdHvnCX4CTyKfpStRLreP/TGfrD8
PRSDRC5MvpCuPTHxJC9e7M00romDN8X8zgHyIiRi5D4EwZtcheQP6ZNjHmNr5U1K3ErKd3+XRgOo
1zZAqS3nzi0gO18HSEhog2Cou66F81HvXLZmdWGIfQ6jjP9lW7x4Ye7e/cno82rD4cPvaNGiRfqN
GyrA1/8qH2AgBQsW4MSJ+VSsWFznsXnytOfly6jUDYECjJEBWez1mOJl2WE/lGybSWQ4dmwRTZsq
z2OnD5Mnr2PWrE3a25YiLmcTkUjB+6fyHIQZ+aUNdMwsoKTg4VGMAwdmULlyCYOWd3Jqxvv3Rswr
tr8ztFOee9Li+PB5OVOwCvWf/G2WtbOai2suUmOgPEfOyZMnadhQuVApCN6UtoamRawoW8ya4afk
hSjyWHsz5nIwkyr7KgR3QfBWmQsJYMeOR3Tv3t3Ie6IcbUWkI6OOIFgJNAtslm67lZUVMtkpvdYu
W7YX16/fU9tHk32BhQNJeJvAhBj1SdnNiSTUZU/uPIHyQ+WedhKZ8Z3vy+3nt5UWOgBIliVjM1B+
vkwR69KKN4KfQMdqHfm2+bfULVlX63W18dTS1Cc+Pp7t27dz7do1AAKuBCAe1O37Je0a1WdW59KU
S2r7dv+8O3O+mEPxvMUztVmaqKWvTZa4L+poENCAM7fOqLX50aOfcXfPp7StiYM3IQmQIAvB9asz
RAe8wNY3kvg9jkRU7EtJK2jt4M1PcSHkIP13v73gTawYotKzaPXqfQwatMDAPZSQyDJ0usmWPOok
zMOgSBj4yCShsHfvRrJ370tu3Xpk9LlVMW3aDyQl1c0s0oFcpDPyfsrzt4Xy5MluvUQ6gJcv9wGh
5Mz5IRfbGBECzXhK2KvcG7Jp01EUKaJH8Qcl2Ns31l6ky+44FSDTs4o1RdSKdAAREfeoXLkP4MXM
mcEIgjczZ27i/XvV3j27dwfj7t6JkSP3kJLo2Kgi3bKc2UekSxNGnhRthCq3umBGQbnGwBoE5JY/
+e7WTX0uwhtJway876R4XdHJhxJjlzCxkm7nnx49euhuqJ40maddRb9zi8+lE+nGjRsHhOot0gFc
v74FCEUQVH+PqMs1t9B9IS2XtrRokQ4w+BnR1atXGTp0KCVLlsTd3Z369euzYIF0A2dqShSUi3RS
ZVjlBH8bzIPvH6gMhbW2slYIIIKfwItFL3Aaknp+FINEfgn7hQ4rOvAuXvsqrRkryuqDvb09ffv2
Zd68ecybN48pftp79ilDXehr04VNAdg+YDslJqR/UGiJwpbHeA+Oj9a9sqol7osq/o38F8FP4PS4
0xptViXSpfBadgqbYvMVr5Nvbsemyg+U1PC1r8mdQ54HT0Li40QS6iTMh1P+VG8lI9OhQwdKlerO
+vU3+PLL6UafPwW5e7YX06dvwMZGTaibEfdz+fJR3Lq10ShzAcTE/IbCfbxgLXkOs6xkjOZCFg8f
PgW8sLVtRHS07kUd8uRpD3gRH5+gu30ABbJpFcLrGUKd3+omXk+ZMgVRFJnitB4nx0aoqj7WufMU
Hj16xuLFi41idiYSslHFL1GmEMt84u7JC0tkBRbg9RkXLRdzz537U0NPK0TZr4pX/8aKXPh+BGPO
pub5sf0Q+iLY9lU5y5kzqhO2G5v64+rrPMba2pqAAA25MHVAFEM4enRhpu0hM0MY/1p5aP50YTrt
1rejQmf1OTszsnz5csqWLY0gCFSqVJKvvmrO+PG9CAgYxPjxvfDza0vNmuURBIEiRdyZPXs2iYn6
e8jPsp/FNJlu3nQxMTEIgqD4adWiBQVy5mTj0qX8smkTo/z8uHb5cro+48dnsxQG2Yj4PdB0KpQd
bG5LLJOMoa3K2gHyjsrLiCYjGLB5QLq2Z2+ekWNYDlXDlbL4uPrvZDFIxHag+rxxaZnRfgb15+l+
LkxBnVB3/D+56DX70OxMHoWWKGzde3mPxuUb6zTGUvclIzJRhuAnUDxfcSPaK1DnReqDYuvSXyK+
X0XPPdEq+idx+aa8wIrlHzEJCdMghb5K6ER8fDxbtmzhr7/+4tKlC9y//4Bnz55ja2tLjhzOeHgU
4/PPa1O/fn1atWpF3rxa5j3bXh8iz5r8RjM+Pp4OHdpz4sQJpkzpw5QpfTSOuXMnkvnzt7N69T5W
dYJBddHfzqsboWJf/cYiv1FT5lXRxMGb43GpIWLKQsaiZOBmlYggNEUUg1Ws4CW/4feaB7XG6W2n
zmQUMXU4vkFBQezfv4/HjyMpVqw49evXZ/To0anzGvKZ+skbuoXIK75mrAKrgb///psJE8bz66+/
0bx5bVq3roOvbzWVIaUvX8Zw4cI1fvzxCLt2BePs7My4ceM/eOToyZbPodf51NeBVloJo+kIFORV
YtMUoMhSLECA0pqUz3EaexOjorF1y2X6dS3sGOXI4czbt4dNNr9OIexGYrXnagaFqy+KkhK++c8/
/1C5cuYbEDFyH7a+kdS7t53v34ZQJ819a8p5WxB8EEXVHnhXrtylUqXemdZMywbvDdwPva8xlHTz
5s2MHz+GyMif1fbTh4CAraxde5Tbt+9o7KtL2KuNjQ3JyclsWrECn/q6iwYenvJiJB/59a9ZydMT
ItaBi3ZFiD8p7r64S4kJJdRWMwXY7redBUcXpMsDltKmi3iiSRzSVTzStf/kfZOZ1X4WAI0CG/H7
mN/Vzus4xJHYlbFM2z+Nd/HvWNDF8rxi4xLjcLDVrnopQO4RufHI40HY1DDNnc2MvmJipUoVuXIl
6yvM+PufwN/fP8vXlZDQE528diShTkIpvXr1Yteunfz88yxat9Y+J4Y6Ll26QZcu02jZsgPLl2eu
EIgsCRbZWtwNZzrSCkrdTkER5cnOVbLGXR7yqweLFy9m5MgaSttShLrUGz1vEk51xmViQWL35MS+
3UsS/uxJ8Hf96Xm3G492NVU6z6RJh5k9e3bW3/inPa45i4FfhHHn1ndf3j+F1xFQSH11qYiICIoX
L87GjRPp00dJ+LORsLdvzJIlSxk0SMsKqhn3PfE92Dqp7p+RU2PhQqB5/yctUIRSSaAA38Rkqrh7
0qowDWWRplvTgo7P4mKLGXlvJADNmzfjyBHDQqWU4ezcjHfvjBharSWaxKSVlVbSekVrivkUo1q1
soSFrcvUR4zch5W7vJKhTAzBWvBGli4n328IQktaFLBi5I1gmudUtZqX3Car6Zk80QILBVJnZB21
XoCNG9fkxIlFavbWuIwfv4auXUdTvXpm7+RXd16xr98++gb31TiPIAj07taNGRMMD+P18PSUxDoT
su4YDFsDcdkka0FWI/gJJK1JwtrKWmkbQCHXQkQuSP/dYTfIjsTkRKOKazYDbbSuXPq/Tf9jfZ/1
Wq8N8jDRiHkRtFjcgsMjMz/AScnTZ2NloygU0XdDXzZ+vVGndbIKXcSsitMqsqrnKrzL6Hi/kMVY
DbBiapup+Lfz13uOJUuWMGJE1kWgFC3ag/v3led+lJCwUKQcdRK688cff1CoUD5SKs9t2TKQ+PgT
RhPpAKpXL8Pt29tZvrybYp0OHby5c+fD03YrG5OFwhqNMSJ0kSc/5ycfODlCt/EG5OX7448/dB4j
WAmKU8Lytp0Y+LS7SpFOvsZZ+R9+92CHlz5m6kdaL6+y6vNb6T63KC/ooQ9OBeDyKqVNMpmMHDmc
gFA8PB4giiEmFekA4uNPMGhQRSCUQ4e+59ChQ9oPvvmzbiIdyEW6UXqGCxsDHYT7Gzdu0KJFcwRB
wNe3Olu3TuXevV1krKqZ8hMSspyRI7vg7p4fOzs7tm/fbpitKf/XGUQ6gGLjhyEmaXcTpPOaFiTS
Aby+n5qX78iRo8hk9WnV6jujzN2581SSkuqaRaTThudXn1PMpxgATk6qc8ZZl/6SU8MLUn+Bsoc2
zoDA3AEeHL2i+2dmujCdbj93UynSyVM0hGapSAcwb95Aqld/x5o132ZqW1pyqVYinZOTEx6ffZZJ
pOtZyxMPT0+Fp1zXrZEk/Lv6w2sZlWrVYNGBzEVdIsLD1eb9kzCM/k3lIp2Uu045YpBI+Snluf38
ttI2gCcxTzKFy+4atOv/7J13VBRXG4efWZoVxIq9V+waYwMbtiiaROxKEg0aEzuJmthLYokYsSvR
xG5Qv0RNYm+LvcXeYi9gBUFF6s73x7DLLjtbWWA1POdw2J259847W2bn/u5bqFG8htEw2rR0rd+V
E7dPGNyfrEo2e6zlnyyn+9LuZrcHKUwUDIe+Fv26KADOjs6AJITZq0i3+cxmln9qnlApBAh82fxL
uxfphAAB1TJVukQ6gGHDhgFeuLl9YBO7DOHo2ALwyhbpsnnnyRbq/uNI+VrCaNQoiYgI24e+mOKP
P76nXLmHQBiVKlWUNqrFuu3+RvtmGaVapk6Oz8yzXHizsmjDb78ZrmR7OSU1kDrcVf3/vS5eCIXb
kXC8N4O3bebaSuMJ0fft2y89cC0FDw9ZbKP1aL2GJ3803MxaXj2AZxes63tljc5TURQJDh6GQnGY
V6922sA46+jQoREdOrgSH7+PJUvMCDfYauFs6V6KIK0wP3+NzVEZFioaN26Ev3871MJbpUqP2bFj
HKKo5MCBYHr3bk3p0h4G+3t712Lu3KE8fLiZhIS99OxZQjPWo0dbEASBmJgYMw1NuR4YCCsu98N3
HHAuZeZYZmKHIh3AuLhx3NhxQ/NcoVDw999HAS+GDAll6lTLwlVnzFhLuXJ9AS82bdpvPBeoHfHV
V/K50IRinUm6Pgjv4FCOfF1c400H2tfvg9Se8itBjeXPVZ2nc7KQ6k33+slrjcdfiUYlZPv179+R
pKT9Bm0WUvIC5ld46zx3KDgFAEXKc8dKi3X6JEU/QBC8if/zB248j9P0k2PgwE6cOhVicL8x3rx5
w4Ft22T3/X7qLHfOntU8r9RLfU1UcPHEaYLHy99P1PL05Jtv9MXDbGxH/GYo2Ad6BWW1JfbH9e+v
M2/vPHJ+qR8jLIaIGo9PbVGuc+3OlC5Qmu8/+t5ssS50YCjv/2A4MkAMEak8rrLZdoeeCjXdSAZD
Qt3Tl09pU60Nrxe+tvs8bn6L/ejXpJ/JdkKAQMKSBL5q8VUmWGUdeQbnYeDqgTZ9vUVRJKbbK4QA
b5Yvv26ziqydOn3LkCGhgBdJGbHwmU02dki2UPcfZc+ePUAYM2Z0MNhGELx5/jqRdu+NNTxQ7FXN
TXld52asv/QSQWiW0r8ZZ5dP5rYKdg77nHY5vDFWBuD69RVIk+RH0gS0/Sr7964r2lB6HCTANgs8
wQJV8OaZxYdcv/6B7PbwZKXeNifvoSiHGRYq0jJ//lndDZnt3dhAa2KrtI0HjoYhMbCuEUTftryv
1krzyJEjEYRDDBtmuAqtsUmqoTYuCm/NNmP75HBxceKLLzw5etTGuUE2+mStEDQvj97x3d1dUYtp
R47MYtUqI9emdODhkR9RVOLqeg4I4+XLnWzZssVwhyAFOObEmEd7C1U4R8s3tI2BdirSATi4OLC2
/VrZffPnz2f8+J8xVJTk4np3vW1jxizh1q07mWG6SQIjArm29ZpZbXv16kWxYh/b3IZnz6LJl689
K1uu1BSQmOIwhcgbkUbDcqtVq8Ly5abzXQqCN1FpPlqq53uARESFGyBV69O5JqV4pbl0/I4KBXJg
6tayfv0qODmlipD9j/Q3ade9e/co5mH+79m42k5sOnXWZLsta9dmV4bNBJ6tgXWBknfdVsOOXf9J
gnsE82bRG4QAgSM3j+jsUwsokztP1hHltg3ZRutqrSmUt5DZYp1bFF2OAAAgAElEQVSpYhbXH183
2+Y2nm1MN5JB7TEnx67Lu8wW6UaNGoUgCNSuXYnvvw9gz56fiIr6G22v+X/+WcHy5WP48EMvBEGg
fft2XLx40Sq71Zhrn7qdseIZWUmV8VVo9mMzXi14xdK+S20yphAgSH+CdO5iiEj//v1ZsmQLaX/X
t26Nolu3+ZQq1QtB8Nb8FSjQmT59lrJr1xuZPoeYP3++TWzNJpu3hWyh7j+Kj4/hsByAkeWa8+3J
/TxbMJidp8JI2P8TCkc/yjt6cyg8dcVckX+6ps+piCX0qt6BkatWAFA+r0Cdz/dSVgFtg39GPwuH
PB4e/6Y+UYtFSfYZ6kSvozAyZWXn+kb4par5fRcZL2UuR8+ePYmJqcWTJ1EW9zVGhw7TGTJkiP6O
og1hsfmTo3ThlfpZyhCvuqGv4Gf5Qg7mMmfOR6YbOVUBVAiCJEwLQjNIOI7CZRBnxkleHf0mjeLK
zt8QFK3Y1NuPF6pUoVV7H6pnOvuM0aiRpxVnZIAgAYQs/nlIfK15+PHHHwFhREVZEOqrPZRyHoZK
aCQq5+Ed/Mho/7x5c9G5c35WrJDxkkpOCQ0eFmvSjrg7NgjTsGORTs1EcSLbh263uF/1ntUzwBrb
kccjDxs6bzC4v+IHFXWeh4c/pXp1M/NJmoGHx4cULChVkb2z/w4uri5MFiYzOnI0JRuXNNrXycnw
BFkbUVTinmYufziwOAqFD1cSJG82h4o9dYoVOboW1zyX8uwdMHkclUr6DE91nmrQA1CbUqVKEf7I
8Pf0o/qpoa/aHPreR9qukK9mfu3GDfLm1Q9XzyZjiN8MDSpCKdPa7H8OMUTk5J2TTNo6SW/79L+n
s3XIVh2h7b0y7zHQeyCxi2JxG+pm1jG8Knpx48kN2X2WeFXtHL6TkaEjzW6fN4f0HTMmXO0L3Cdr
w969ezUh++q/WbN8EUUlZ88uZ+xYf3x86uPurvs9rlOnIv37d+CPP35AFJVs3z6W6tWjNGN89JE3
vr7mV+U2Jzx4+8XtsmLevXv3KFasKLVrV2L9+omkTcXx998/0rx5XVxcXFAqzbvnsxYhQODq1Ksc
/MZwwSJziUuMQwgQqD+tvkacM4dOnToRGhrKvXv3EUVR8/f8eSRr1qyhTRvrhOBssnnXyBbqspFl
WGAtFk7eReXRqSstTYMW0L2SA02LSZWOxCd/IsZLHkpufQ/jUHAgoqhkjv9nwCtuJjZCFA/w6V+J
Fh9fpdKaVgeKEJwL1sgXUshyBIfUiXPkVfO90Kz0WHN1daVw4U64uqY/B0TOnK0BL/7662/5Br2O
SgUV3hUCRfjJvAmr1SReBRR8oNHCHUHhhmO198mdUgJv+cSOVG3bHcRE/NZuQjvoRXsfioJYUjQv
IcFAPrnEWPDdaNl5jDQ/Z02G4LcbADc3V/73P8MTgkHlm9NtjXGhTY7bP31FuRGpeasiVQCJCEJz
g3369euAdGOtxVwXaDzZrGO2SH7IfkUxi23V8BaIdGpOzLfObcZcjzV7483zN/Tc1lNv+8WLlwAv
8uc3f0KYllGjFgNePHr0HIDgcsEMvjZYE+rq4mZ84Q3g3LnzxMcb/y1Wi22RKt0UCo1nr0elOkiV
lNW2pOuD9PoYem6I5GTp+qJKtKwKtVzxh7UnpLBXdehraO9ifP7rSeo7QtOxe6R9Zw7LjtfWz8+C
EPdsbIGHO9xbnp27To5hrYbhW8tXz/PtzaI3jNgwgh/9ftTZN/XDqeT6MhdHxhyhxewWJsdXjlJS
cWxFg/styXv3027z81xGBkcC8h51tSbVAqSKsNrUqVMZCKNVK2ejIfvW8vvv37Nt22ggjN27f0rN
l20Ax4GORoWoahOq0f/X/po2V65coVmzOkAYpUrdJTw8lLNnl9Ozp34Kmg8+aMiBA8HEx+/B21sA
whg2rCs//6xfkMhaNp7aaLOw4tZzWiMECATvDUYMEXUqE2eTTTa2I1uoy0aW0l8Fs/+TaBwcWhK8
fp5sG6FwR81NefTqJojiLvK6NGfvnT1AHoZ3iiWH20f82sGJk9/24e94yGtGWCBIeY10CBShRoD9
h8KqCRIwq+hwoGh1Lr6YmJeoXcLz5+/E6tWm86WtW7cHQfDmvPIJ4MWbN3GmDzQkJvNe9277Mv4Y
+cpZnX+vYsXPTLZRfyf+ilOSBxDFveBYhYR/PtURvrXbpn1sap8cCQmJODsbECF/7wiVDIfr6hAk
mN82o1hdF0pLN7PR0ca96JbcUhHaJ9XrMzX03lvn+W0VdHJrxrVkIP4w5UZe4FhQTU2//Ao4MGoQ
xfxMh9OOHZvS5ndf6X+jCWadFoBbIysXHN4ikQ4kr7oltSwPxzbmsWbPrGm/RireY4DIyGjAi+jo
muTK1YZZs9YZbLtlyyEEwZv//e8p4KXXNvpuNEtqLTEa6iqHi0tLZsyQD0vOXKRCRaJKxMXVtMio
RhRFytapYzMrqrz/PpMmTSIxORHPiZ4IAQLOXzhz+u5pmx0jG8PEb4Zus6CE6XRf/ynqla4nG6Z6
44cbHLl5BJ9qPjr7xBCR6hOr83Hdj80Sz4yFwOZwzJE+4w3gqHCk2NfFZD3qzj88r7ELSCnwEiZb
NTujaN26PuXKPeTnnw2nB/jfIMN5vDst6MSodqM0FXqvXFlD1arPOHhQfv5kDsHBQ/n888okJR3Q
LGxYixAg0L5G+3SLdI4DHRECBHaP3I0YIjK6nel0Ctlkk431CO94afp3+uTSi79/uwzL8WQtp09f
o169z403ChLgkwtQ0I7DpNTCVvGm0CPMeNvnl6UwP4/3Mt4uNUECfLgVyvua135eHil0NDNQv3aF
aoL/uYw5xlwX+PKZbIVOWXs6/w4VPgTgyJEj1Kjxkrx5LaygmoFUrRrAlStX9XeoxR1zRZ6VNeDZ
xawXhHTsNf79iT70M+6tdnD3zARKetZEEFohinsRBG9eJ+5n0qeBfD+gHO0PNubgxJHEq5T8vO0C
u0YO5/GgX9hX/w9a/dONw8O7cT9JSTEzYvRXr75D32bFYWMrScg253OkxX5FMVqows3vMMcxNcT+
LWJNuzX02dHHoj5qLzF75RfvX/hMqS/YW2O3cpoS73GWVQOcLExm8NXBFKhcwKJ+aalVqyLnzq1I
1xiW8PnnMxk7dj5ly5bVbLP2vVZXatUuHmEJno0b8zo2llevXpE7t3xILMCl8EtUnyjdZ1QrVo0z
48/g4mi+sJiN+bh0gQe/QCHXrLbEvrj48CJDNwxlX2DqIubKIyv5etPXPHv5TEd4EQIEXsx7QfSb
aErlN168KDYhlopjK/LwR/3K0xlVzEEIEBjScgjzes7T2x6/OD7F287w7/3TFaNYVH86E2s6kAg4
C94gOCGq/kIQ2qQsaCaiyPkJTjU+IP5En5RQfCUKwRuVqGTHl73pu/Q+j5KVRtPx1K8/nFOnUgV7
Y6+J9r68efPw8qXlaR/Mwd29A1FRlnn/VviuAkVci3B4jLxHsTmoRd2kpUk4KMxNYpRNNtkYwCLP
l2yPuv8wq1bt4OzZvJoKclnJ9ev3GTdup2mRDqQJ/IamUjisvaIWGR4eMu2NVqAarG2Q8TZpEyjC
H53g7ELz2g99lfnejE/Pm25jLcPjYb4FM4ItqbnpGjduTN68bQkNjWDkyAUZYJz5NG8+DvCSF+ms
wR5EOkSoO1TzzN/feIVIt6afo4rfRElPyTtOFPem/FeSy9GBWWvm4uQ9lD3j65OoUqIABvjWYNO/
ewkbWUpTdCVZNE+ke/HiFX379JJEOtdSFot0AHnqWLDIECS8lSIdQJ8dfZiWY1pWm2FTPt3/KScX
nrTJWPvHWxbOpRa20ivSAZw79y/gxZ498eTN2y7d48kxbNg86tcfDnjx889/6oh06UGcLf2VqS3l
pavbogUvXxm/j5k4Y4am/dzgYERRNCrSAXgW89TkXbo0+RIuji40ndlUkzQ9bS6xbKwnfjMoL2aH
w6alevHq/PHlHzoecJ80/oSdw3eiEBR6nnX5huaj0thKqETjIeW5nHPx7JV8QTPfWr4kGam4rk2f
ny1biDGUo87Z0Zlly5YZ7Vuo3wwm1WohiW8p24IaC7gr2hDsLY3bLo8Pr9+sI+Gk7lgLWjqB6hkT
PSZgTt3wU6fmah4bEulEUdTZd/XqVYMiXVoPf2uIivrL7Jx6KlGFECBw44cbVol00W+iEQIEHAY4
aK6B2SKd/XPp0iVGjx5N/fp1EQRB569Bg/qMHTuWK1euZLWZ2VhAtlD3H6d27drky9ce8EIQvPn3
X/mqohlBUlIyOXL4AF5UqtSLadMsmNANfgGfXX7LQmFNtF3fOGPtkTvm3sEQJpMg3xCvIzLOHjWB
luUssv446atq261bN+bM+Q3wYvDg32jU6Evb2WaAr79eSMWKn6IOeT5wwEQyYGcLxMhIO8kNNi8P
tAjWPF21ahWXL6dfmLAFpUt3k66Xc1Ju9QPuWjXOe6d3mZer7i0Ld5WjaN2iFrXvss6+Z+qCg8Df
gw3k9MxAMsrT0MfHh5cvX6O+poSHl6dt26k4ObVg+PB5HD58wWj/hw+fMm7cz+TL9wH583di48ZH
mrGCgzfqeKVos2f0Hj5ea2FV3K1+qdfsXkc1Cch37tpFnebNNUKc3F+pihU17T//3IwFQQMcGn1I
M3Gd1GkS285t0wh3+Ybms3rcbKBLY0mwyxbrdHHN6aoXrlq3VF2ez5VyVqYV6+KT4nEYYFpUiV8c
LxsCu3XwVpwGmletdO1xy0Lp0wp1fZb3YdpH0r3/mTNnjPZ9tWUZoqgkbkdHGn9/B4CRh/bwstSH
mjY7X4vkBDZ21xXhB++Tcv4en1DZIntbz2nN1sFbZfcpBih0BLxhwz4xOtazi/twLN0WVBEsvq9i
i39nRh1L0q2gDXrPtZk1q4dZNs/fN98qr8hlymUIAQK/nfwNMUQkeVkW5yrOxiBjxoyhZEkPXr7c
ibooiadnJDNnduTUqWBEUanzd+LET3z/fTuqVn2maR8V9TdFihRg0qRJWXou2RgmW6jLRoMoilSs
2BPw4s8/o3F0bEHv3lNsMnZysopRoxYjCN4cGuwNQd44LmhLXFy89YO6loERifYv1uVPqQRryk6X
LLjJDxThxEz4Sz8JumzbJelIhG82Wq/T6bmGm9mC920T+r1gwQKOHr2AeoL67FlV/P1DEARv+vad
xu7d5ifaPXv2X779dil587ajUKGPOHxYoRl39uwN/PvvTfMNK5Yi/uY1XVWRX6rYhyiUqF89tVq1
aoAXxYp1Izk5k4RcLb75ZhHgxd27Eanf43S+VpUW/EDySyNeQO+ASAfQ/0h/JgvmFdsAqfLr/gm2
Txxub1xYe4EJKvNyG04WJvPBwvQXDzKHYsWKsXPnLhITk5g7dyNNmnyJ+voDXjw+X0nnefHiHzNt
2kpevHhJZGQUXbt2Nes4h2cdpkavGmZalbKo8u9m6WmgKFUkT6F+/fokJibqVA9M+zdlim3uZdLi
W8tXI9y9mPcCAP8V/hrxbtXRVRly3HeZ+M1QJgA6f5/VltgXYoiIR6AHr+Oliuj5cuVDtUz6PdQW
3OS2GaJL3S6cuqN/f1K1WFWzbJIrDmGMtELd2mNrGfuBdB+2ZInxnKZ5OksVtF3ajuLU2DKa3L1J
d0Yy9GCqJz2A34btOs9VWnl+I0yEvQI4O7ckSZXEvqv78K2lmyLm3yf/ynrZFS5s/B6+YHUvku7u
BEQEAQQBtLNPGRPo1BQqZPgYsQmxmvxxw1oNMzmWNurrVe/3eyOGiAzwHmBR/2wyh8OHD/Pppx8A
YcyY0YH79zemKw2Pu3teHj/+g0mTWgFhdOvWknPnMijlUDZWkZ2jLpvMxZBYld4J6W/e8CDMvie2
6nPPUwwG6ucFkdooMs+jTJvlFcDFHfqYCOn6uw/c/hu+isxYe7Q/Jxn9npoSRH71lHL5ec1I33FO
zICwb1OfZ8Zn9fRcyFcRHJygjJFy98tKwcv79vH9MVOgOnLkCE2aNGHr1un4+jaxqQl9+04jf/4q
BAenevYxL7ckIhbwhE8v2uQ4BnPVzcsNQ1/b5Bj2giUeYfaepy6tfaokFd/n+p7xCeOtHkOO3/v+
zpXfr5CckGzR2BlF7NNYchWyTcoJs9/jzPwtyEASkxOpPaU2l8Mv46hw5Nh3x6hX2k4r2dsRLl1g
4RfweeustsR+iE+KJ8egHHr56XI65UQQBF4vfK3ZBpj0rFIMUGjEPW3MzVU3evNoZnaZabKd+zB3
AtsEMq7DOKPHmDVrEKNG9TI5Xkbx00+nGDpsKG5D3Xi1QHcxTQgQUI5S4lXRS69fXFwcOXLYJi2C
IWbOPMLo0foFHKzJK1hyVEkeRD1g98jd+FTVr0Sbjf2gVCpTqgFnHufOuVKrVq1MPeZ/hOwcddnY
MYEi+Ibqbw8SzK+UKkd3pZTHyd696wBehRsRLFVZcw79b8DjU7CikvF2H6yBuCizh/XwKMKPP36J
2s067d/UqZ9TtmwZ/Y5FMnECYyoEtkaAJNLtTucKo7ZIl1kUbwynfjQu0oH9iHQAFc0Lh2vcuDGi
KOLrOwa1d8+FC/n45JOfEQRvihfvQrduE5k5cy3r1+9hz55TbNy4n2XLtjJq1GLef39QSrvuzJ17
Gm0vodWrd+qKdEGCJNJ9ftNmIh1AC1U4J2q21N0YJLxzIh1Arz97cVdpXaiwvVGioa6H6tE5R2k0
opFFYygcjd9+/dr8V27vv03i60S7EOkAjgQdsck4U52mmhbpQsqkXpc/v2U/1ycrcXJw4tLkS4gh
IolLE6lXuh6rjq7SeLL4zjezsNN/jPjN4NcYCvfNakvsBxdHF71QWDFE5E3iG6oVq8bcPXM122qV
rGXSs061TCXb5uiYo2bZM2vHLLPanRl/RsejbtSmUbLtRo1azJYtkcTHJ5o1rq3In78T4IVnG08c
BzrKinRiiCgr0gHkyJGDtm2nZph9jo4t9EQ6IUBg1o5ZFol0QoCAyyAX7s+6jxgiZot0dk7Xrn4G
RTqfHN4cS/mauPW1LBehQvBGEFoa3F+rVgwjRoywaMxsbE+2R102WcfDQ7BB/gcvXTflQQKMSACF
eTk2Mh1THgLJ8XB1PXh+mmkmaQgSpAT5xnJvPTwMEcegfqDBJtOnD+Tbby1LMpwrV2tiY+N0bQFJ
HKza26KxLOZAIOQrB7W/0t+nSgKFY/pDEbXf92FvwDGH9WOZS+JrWFRQOp4h1J5i9jARfnETEl9B
IRus4gUJIChgZHpyrIiSlytk2Ouj41X3joS7GsJcL6qZ7jMZHaXvNWAvJL5O5NrWa1TvKRUFmVNi
DgNODiBP0Tw2GV9MFplbZi4xD2LsyrNwWo5pjIsbZ7qhCUx+Dt4RLzprKDiiIM9fSbnHtg7eqhd2
91/GpQvEbZJCBrORyDc0H8/nPtck+lcLbl4VvVCOUtJtaTc8XD1M5ixLUiVRcHhBTfi2GnM8tSzx
5pqzew4jW4/UsdVYX5VKhYODA2fOLKdOnYpmHcMSPD0/YdSoiXzyiZRfzmumF8dvHydhSYJOO0vO
8eHDhxQvfsumdi5bdoUBA1IXi92HueOaw5W7M81b/FqmXMbA1QPxqerD7pG7bWpbNhmN4UrIPjm8
2ZuSQcq1z3Rudz9E1eCi5FUu50b8QQTBGwWQLCqZvf4MPau+pmSj9SQ/CgC3OiiElojiPoPjSxiY
p2chu3fvZvz4sRw/fhIvr9p06PA+lSuXomBBN+LiEoiKesnJk1fZu/cfzpy5yhdffMHs2bNNFpDK
JLI96rJ5SyjeVLoJryazVKrxsLOCQBF+coY1dhpWEihCbg/psdw5OrjArizKDxEoQsw9WOxhuE3x
JnDwa9ldmzdvBsIsFukAYmN3A2EcPpxmVehvy8eymOZBUmENORSOcDmdeYbSvs+ZIdIBOOWGpDjj
bexFpAO4vtE2Ip2a9Ih0810zXKQDyavu9aVr77xIBzBRnMiO4TtMtgs4EZAJ1liPU24nNvfarHn+
8uFLi0S6bQHbjO6f4jjF7kQ6gOR42yQWFxwM/LYH50q9Vg6Jfue/D3I8++mZJuedby1fgvcGa7zu
hm2wLO/Uu0b8Zhi8FAplwi3B28KLeS+o8F0FeoVIoaJqMenE7RPkG5aP0IGhbDu3je3Dthv1rHNU
OCJYqYAmLU3ixpMbZrVNm6OuuHtxo+0VCgWiKFKnTj/Ai1u3ivPeeyPIl+8DNmzYa7aNly7dxstr
CA4OzQkJuYrae/7SpVsaka7QiEKUL1ye0+N1C+BYGlZavHhxwIsWLcZz8eJts/ul5c2beNzdfQEv
jUh3+MZhhACBqOAos0S62lNqIwQIfNbkM8QQMVukewc5mqDU5GIM6PE3B3b4c3JZQ1RA7ZwCqhSp
55tewyle2wsx7grtiwxDIXgDSaQjU3ym4ePTikGDPkQdjdW6dQ6OHQtCFJUolfMYPbo3H37oRdOm
NfHxqU/Xri2YNWsQp09LBWgWL+5F7txnNP1z587J1q3yRWLsjWyPumzsC0Pi3IhESTCxZjx7vdm/
sws2t5Uet5wHdYbo7s9K23d8Cje2wGADYa4xd6XQJC376tatw5kz8/SaCoK35kfkwcJhTK00mzpH
5jF01h7iXm83sFrgJYmtqhSf7sx6HQy95kEClOsAH/1p/bhqPtwC5TtZN461xzb0+gUJUmXYIdGZ
Z48xNraCrubffBskSJA+u9YUaLm+EbZ1kx5n0ufOYK66d5ANnTfQ/ffuCArjk8JZBWYx6rl8aJSl
nD59mqgo6Vrm7u5OvXrpX8TR9gqzNKeeofaxz2L5sdCPAHYn0oFtcgfun7CfFlNa6G7Uvj62XwnV
/NN1jP8C/iv8WX10NQAr+63Ev9F/6zVz6QKXF0J5I2uK9s6KFSvo378/ly6tolq1Mmb12bfvDK1a
Defw4cM0btxYZ5+2oCQECCQtTcJpoBOqEBVrjq1h1o5ZRL6O5MGPDwyOLydK2dKrrmdIT9YHrKfh
Dw05fvu4VZVJrT22MZy/cKZe6XrsHrmbPC7Soku+ofmoWrQqR781LwRYm8YzGnMl4gpRwan30FOn
TmXChAl4edXm00/bUqpUEQRB4MmTKNav38u2bYcZNGgQixYt0hsv15e5KJi3IPdm3jN57DGbxzBz
x0zOTTxHzRI1LbY9G/siLGwhXl5Z8z6Ghu6nWzfzil7ZmiJFCvP48WbTDdNJUlIyJ044611PM5Bs
j7q3kb59+9Kzpw+GcnldubIm5YL+JCvNzHgCRRgg80P0k5N1OezU+cceHrKJeTalTJvUwhH7hkLk
Fd39/mch2rbu82bT7leIfwELDAgdrqWl/68jNJvkRDpt8udqpXn3vpgYSMLr7TgIzWTbduvWEobp
V//McL6IgCQDYaIf/Qn7rfBoWFVb93lminTmYC8iHcArA0VWLEFM+U5ZI9IFCZJIl9sjU8XhFqpw
lG4m8kO+I/TY0oMpDqYrcL6JNBKubYBixYryxRedSfv7Wa9eLD4+Lvj4uFCvXqze/iFDulCoUEGL
j2ctuQrKF2SwZ5HOViinplZf5OWDVJHOMWeKh/1/S3CyllX9Vmk87/wb+XMp/JLG8678d+V5k2j5
9+dtIn4z3H4sCXZvE2fOnGHLlulAGP36VUQUlWaLdAAtW9ZFFJU0bpwMhPH11z1ITJQWNLXz1okh
Io4DHRnXcRxCgECfhn3wLObJ6v6rNd53crxa8IoS3+jm4PRws50auuXsFgCO3z5uk/FCT4Vycmz6
CjgoBiiInh/NZ00+04h0VcZXYffI3VaJdEKAwJExR3REOoDx48cjiiJK5T/06zcDH58RtGo1nJ49
J7N16yFEUdQT6YZtGIYQIBC7KNakSKf+/s/oMgMxRPxPinTHjx8nZ84cVK5chhUrxmBoTp32b9u2
GXh51cbdPR+bNm3KKvNl8fL6inv3Hmf6cS9fvpNlIh2EpVukM6eKMoCjowONGyfTrFmddB0vo8gW
6rKYEiWKA2GsXj2A9esN35xXrVoaUVRSuPA1EhL28fTp08wzMrPJW1K6Yf9SRpQMUlgeEhsowp/d
U8PY7Aotb6dfqkmCnZpCteDn8lljFkh2xUcbFusCRVhSzKyhero2Q/lyL1HPXmq2uSm8ORp9QLZ9
aOhkXQ/KxEwS7XJ7SOFXaclZQPpvQoyU5amdljq/sgYEh6y2Ig02+I7OcYCOGyzrc3h86nUlUJQE
28xAy9tR9ToLhOksYqI4kQ0fWvgeGaBatao8frwFCCM8PJQlS+TD8o0xf/5wnj79HQgjOnoHRYua
npg65rTCwxup8MQ3T7/R2z5ZmAzYt0jnNdaGuWqCBFhWUnocKGbNwsw7hGcxT41wd/OHm+R0yonv
fF/N5H3S1klZbaLN8aklCXZvg1gXFRXFmTPLqVv3NZ07N7XZuLNnf4WT0zFmzvwCSBXrDl4/iBgi
MvXPqYSNCkMIEFg/YD0tg1pSOG9hNp+RnwTndsnN01e684uI2REmC1I8n/ucl3EvjbYBeJMgCcjq
nHrppfvS7tQvU9/q/kKAQMKSBHJ9mYsB3gM027774DveK/OeRWO1m9uOXF/msomXoFqgC+4RbHS8
hy8eIgQIdFvaTfP9/y+xZcsWunZtgVpwe//9BN682c21a6vp16+D2eP4+jYhLGw+UVHb8PMrohmv
TZsGfPfddxlkvfmUKuVHw4aDMu141ar5U00uLVUmkJi43+A+dfGM+D9/sKh4xst1Y2m58ClT67Tk
TwOxvgcPzmPnziBLzc1w7FG5+M9w6dIqHjywfLLi7OxEoUJXcXS0bqLw1pCzkHQD30AmqXiQYJnw
NvChFApnr1Vh1WLdP/N1xS9TFUkzGo1Y5y6/P19505VigTmLvGjTaT1tp0h5TBwEb64kKmnoaua5
LS5srsXpZ9AjWJlmJXKQjVazKne3zTi24O++UqVke8Ka8PVDgP8AACAASURBVHZtTkoeSWa/zklv
pO/XsWnQZWfmhpqnCUlunvSA/QrzhO93gWtbrhnd79nd0+j+EydOAGFcvryMIkXy28wuN7fcRERs
BMLYt89wkuXum637Lu8K3KW3bXUbKYTRnkU6gJbTDFeIM4cdw3fQ6yeX1N+0Mm3sNzXFO8C2Ids0
k/dJnSZx6MYhjXDnOsQ1q82zGfGbwXMwNM/6+bQslSpVxN39InXr6t8rzRz0LSXK9kEFjCzXnHsq
/f7aniGP/viB92U8q0aP7g2EsWnTJsQQke0XtlPimxLELorFa5YXUfOiNCGiwXuDGff7OB5FP5K1
N35xvJ4w51nME2OpkvLnzm/RZyp/rvRfsyuOrZguYUr9ejgNdNILGbY0lFwIENgxfAexi9K34HDn
+R2zBLpy35ZDCBC4EnEFMUQkdGBouo5bq1YNSpb0YNWqsZjjgXblyhq6dm2BIAgcOHAgXce2Bg+P
gkAYnTvnZ+NG0x761rJrVxA//NAeCKN//44ZdhxzOHbsIuCVkk7I9r+bKpUq5VrjxeXL1udWTA85
crjg5GR8HtDI2ZscvlKu47nePiy+r8Ih5RrpIHjredIJgjd5e33P/sFdmHA2mY4uhsdu27ZB+k4g
A8gW6rKMMDw9y+psMddNU01S0n569WptS6PsE68Z0s283g29aFnRCRe3VOFrW1ebm5lu1Of3OkK/
6t3x77PGJvXxK3eHRTJiWf8bEPUvAN27T5LtLopKivaZRvhfPYlIVrK0tRPJopJiRhZUW7ZMcbdW
Cy6Jr9NxAhaSqwjEPtYtwiA4SO9JQwsrHqpznamx1NMrozicVe7sJkivUKccZf7EP0iQvCcbTZT6
lGmTvmNbwopKsnbW+P0XEh694+kNUpgoTtR4kcnht8GP4/Pkw6MaNapOgwbyy6KOCulGzbzf00QE
wZucH+2R3duypRN+fi1k91VoXwFRlf6b5d2jdnNr9y27F+kOTDyQvgGWV+B48HEqJn8LLYKlz3+X
nTaxLRvzaFqhqUa4i5kfo9n+LhSsuLQADvwAOf1g9u9ZbY0u16+vMLBHZMySIzy4vQYF8NNtFaUd
vFHd/1/qNUyUUlMIQnPizq/nTNNvjR5L8gaCGV1m8ODHBxoPL/eh7vg38teIU1cfXWX3ZcOFBbTD
aAEuTr6IYoBtpoxuQ930vPasoVDeQlb3Vb8O6v+imPrYEm8/IUDgUvildHuyKQYoKD26NGUKlDE4
1sDVAxECBMZsHsOt6bcQQ0R8qvpYfKy4uDgpvYyW8Hbu3CLu39+Iv387s8aoWrU0GzdOQRSVNG/u
oBnn2bM/6datm6nuVtO6dQMgjEeP9L/kguCNc442nHumX/SojKM3Mhq4LI/++AFB0F+UWr58NBCG
UrnAMqNtjCiKGkENvOjUaRZ58rTlwIF/zB5jz55T5MzZGj+/YM04CkWzDBEALSE+PsFkm6MJSuK2
SZ/Tvt+0YkrAOs17qwJyak2fb7+U0gJEbppCoZb9eN9VYN9b5ryfXUwiC+jQ4QP++kv/x1addF/6
fwDB6VMS9tan1T/duLZwKo+vL5QdLyqqOu7uBjye3kUijsO6hvL7zJ2kH5kERyfb52r+gnySFxuk
2jc3Bww3Ub0zowkSIFdhee+yFO+gN2/2kDOnkeUKM3j69AWFCvnqjg2Z/16lLcJgTXGPtCJyVnze
5OwOEuCzy5C/aubbY4xVtaXcjNYQJEDh2tDXxM2K+j1xygVDM1EA1j5+mvdj5syZjBkzxuwhzp8/
T40aNWxtmSzXrl2jRo0a9OrVivnzh5M3r3x+tbRMmvQLkyf/QkREBB4e8qGkh2cepsnoJgbHkCte
0LdvX1avlq+K/XN7H7b0+B/bPlF7dsQjCNJiVvy+j2j+0RaORqfc0gnOiKo9iJHbydXfiTe/G57w
tGkzhV279Ce1m3pswm+Dn9lFFqLvRuPg4kAej9QKsZOFyXQN7Uq1rtVM9s9K0lVIIuU7N/nrSXYv
SGYDSaokGv7QkNN3T+OgcODANwdoWsF24ZoZzZsE8PCHaDtYF/P29kKp/MFom8p5m5Fr1K+0+OUz
ht84wJtlo6gy6BgAiaISJ625gRp1gS457twpSZkyZTTPtUWpx3MeU2RkEb18dnLsurSLNp6pC1jx
SfG4OBq+v7sUfgnPYsY9odN66lkrcOUbmo8X815Y1TetSPe/M/+jy+IuFtly+9ltPCd4ptuDrtH0
Rhy7dczosfMOzsur+FfpFgPPnz9PQsJx6tevkq5xzMXZuRUJCaaFF3PZtGkqfn7NDe5Xz6ELO3hz
KEGJx/XDlG61iKjwtZRx9Oby9emM3pmP+YM8mTN0PFM33SIqfC2C0BxR3I+gaImo2kvxHvsJ/+17
RNGwR72EDVNBZCL3HkeSw9mRwu726lUdlmVHfvYsmoIFM9xzMruYhL3z4oXhikuy7SNfEf3vBYP7
a9f+jyUMLfp+ymr8dv19QQLs+Mz0GI0nZX1YqSEGv4BijaTHavuGx0mVWLOSQBFin8DyivL7I6+Q
M6cP/v7We//5+U3QFem0UVeAzSz8dsOhsanPP5SSILPGyoqRgeau52Uwb1JWsu1NpAN4eT99/Y2J
dKtqpX6fhsRkuUjXunVrBEFAEAROHDrEnbNnzf5r1bKlpm9GrF7v2LGD9u0bAWFUrvyEhIS9/Prr
d2aLdACTJn2GKCrx8PgXCOPHH79kyBDdytZNRjdhXgXL8j4+fHjF4D5RBAcH6T0WBG9aubTmQbJS
M6k99OJASjsliOZPIAoZcNy49Nsls8cAmFtmrp5I51baze5FOqvR8nhf+PN8vo0x7g2UjX3gqHDk
1LhTiCEiSUuTaFqhKdvObdN43fnON/AbbSfkdJZEOpcukJzFP7uDBn1pdL8geHP9lUjY+LL0H1CZ
0g7eJLyS8rhV0HIwFxy7IYrStazBjDVGx9QW6SDVO+7q1KsUGVmEsNFhehVi5Wjj2UZnn4uji9Fc
dZ7FPLn7/K5R22xFTFyM6UYypBXpyn1bjqHrh1okggkBAo9jHqdLpKs0thJCgMDRb4/KHvvqo6sI
AQJuQ914ueBl+qvaOjtRs2a0rEgnCN4oHFpw7FESYvgWBMGbivWlXK93FwyjQDdJsPLJIXl5jl1x
UdO3SfVu1Gg4UvaYCQl7iYnZkS671YSHhxsV6bQJrO9I0L5E3Kp9S1T4GgShFQDO5Zqw4MtB8HIv
Y45UIip8DU3mPCT5/jgEoRmiaj+C0JKHG1qZdZxKlSpYezpZSqki+ZmyfFtWm2GErBFAly//KzNE
OovJFuqygEuXTMd+b/nmK83jfPnzGGkJVarY4YQ7MyjTTpr05kjjTXjpV2lycGKm6THUYt0T812G
M4WeR1Ifq8WFm3ZwYQ0U4cUNiIvU3/6LNNlctWoHHTpM5+lT81c7J036hUuX8rNpk+EkonrVUzOa
0j5wXGslvHwnSex5fMa8/ouLpNlgJ6LwosJQpWdWWyFP2s+VuQQJ0MdI5bcgAZ6el/JdBorgnNe6
46SHFJEuODgYQRAo7OamEd7mTJtm0VAn9+zR9I198QJBENixI/03xK9fvyYxcT/t2uVm+/ZZ6R5P
m2++6cn8+d2Iivqb5cuXa7ZH3Ywy0kufo0cvGtwXsGMP2/w7aDxP9sbvooSDsTDYZBQFphP3xxQm
ntMPl1Gzfv1ei2w0h3Ud1wEw/M5wm4+d5fzqmfq75ZIPAkWeXX2Oc15ng11EUaRmzZoaAdrYX2Bg
YCadSDZqfGv5asJmtw2R7kWKjCyiEe9WHV2VxRbqE78ZJqyDPBkXiWeSnj2N/9aqxbc8gOeYpYii
khpfz0cUlfybqMRR3SYpNQfZ8dGlDI735In89VQMEQncGMiZCWfwmunFLL9ZZol1iUsTyTc0taBY
TuecRs+nzJgyRvcD9Hivh8k2xhACBFTLLFdg1efrONBRI9ZN/XAqD340z3nCf4W/Jp9dw3IGonpM
MHnbZIQAgevfX5cV38ZsHoMQIPAg6gFiiEj0vGirjqPN1atXSUgw7h2mSt5Po6JSuKdDxZ4sa3ib
WpNuUmbIP0RunKRpdzRByQ/9JfFZELw5fDGUC8fmGBzX1TU39eunf45apEja+2l5xKR4xpxIYmlr
JwBO/jwN9zZSkb52U09JjfK2JPH0ck7+PI3Vw4vjVHIKR8dW4tM/IhHFA2bbVKGCAaeFt4AFX/fm
pw2GQ9+zHi8cHeXTjmQE/fv/Sv/+MzLteJaQHfqaZei6dtZ08uZCcg5ElX6iadO8ne63lhIREcHm
zZu5cOECHh4e+Pj44OWlde7PLugXAQCo1BV8TSRajX0Miz0yNDTxypUrLF26lFOnThIREY67uzt1
69bHx8fHsFfM1Q3wV8qNnlpUtIdw3SABSrcGv13622XsmzhxIgsWzCcyUrqJ9CztyoRZIeZ5A/1c
DqJTxO2sOPf9w6ScSmBZGK62t2Z5X/hwq+1tMwdbhPBmFtbY9vAwbGhqIIdlylqU3Gc1M1lUGL58
giAIrF6yBK+G1t3kG2PG3Lks+fVXq3OMfPJJe1au1M/GLoZvQVH8JykdgyYEqxWiKIlXZRy9uZWk
xCFlHwDJr6lYoiuVOnTnr58/kT3eo0eReHh0BmCKwxQmJOvnTYx5EINrCf3wjIYNq3Ps2GKrztNS
OnYcw59/ylcXU4eDmhsWuitwF22C2uj0fVs4teQU9b8wUV1xVe3UKtfV+kL7VPFmqvNUxieM12k+
ffp0TUW97aGhVK1kujCRGvXnHSApKQkHB3urYP3f5NCNQ3jNlO7LmlRoIlUcFbJ+kcqlCxyfDbXL
mm6bEdSvX5VTp5Zl6DEUimaoVMYFrFfxr8g7WHehylQY7DLlMl7EvmBUu1EAOgJfWoztU+//4aMf
+O737/Bv7M/Kz1YatTct8/bOo1PtTpQpUMaifmk96UzZqU34i3CKf1M83YUrJvpOZFKnSXr79lzZ
Q+s5rZnRZQaj28kUz0sngYE9CAr6yuB+KR+igkMP99BI/AtF8SDK1qnPrZNDERylohqL7x9gU4Xm
7I2H4o078uDwKM39QIcc3vwVZzgUWyL989SiRT1SCj1lPUWLfkRExLOsNiNdPI9+RWJSMh4F3LLa
FJMIgsCpUyHUq1fZJuMNHDibR49EtmzJknmZRT+I2UJdFlGiRBEePNiU7nGuXy9CJQtubt8mzp8/
T6dO7bhz5zeTbZcv/4uQkP0cO3YcQspCzB39Rl4z5CvIamMjESMyMpICBQoQG7vb4pxtXl5DqFPH
m3nzUkLCHoTBbykeIYGilJ+v17F025huggSo3A06ar0/iz2k3F+f3zLd19zXOfZJqndaVud4e/MM
Hp2Aki3BMYfhPgkvYb6WwJCVwpi2/UEC5C0BA9IZYppRWJsHcOgrcMqdum3fEPgnJeFvVouSKeck
CAI3z5zBQaHvyF6mdm3unJVy89WqW4/l37Wj68xr3D65SWefuu3Ns2eRkyVu3blDyw8/tFisUygU
qFQHZfeJ4VtwKDOPq2/2UtkxVair6uHEn3d20DJ3qlA3u39dPlo4l3Ipl7x8Cm9eqAzfwE+a9AuT
Jq2wSrRycnIiMdFUDpn0YWriG1Q0iMCIQLPs39xzM13WdwHePpEu6U0SjjmNFHq5vlG3cE6a79xk
xWQmqlLPNzk5GUdHR9xcXTmnNDXBM02Z2pK39Tt+P/vW4r/Cn9VHpcrGc3vMZVirrClYcf4OvBco
edplBTdv3mTTph9TKrTajubNh3HggJme/imohTkPNw8eRT9CtUylKRYhJ0hpC1t3n91lsXIxMz7W
90B5+vIpuV1yk8tZPk2CECDg5OBEYnIiycuSUQiWBXZZIrCl7aP2xFMMUJg9hhAgsDdwLy2rWFfx
WggQaFKhCYdGH9Lb5/yFM4nJidybeY+S+UtaNb5ZNgiC0ZyGgtYimxi+Bafm4SRdH0RBB2+eJCtR
IBUzaeWiYtpLJX45vVkfraTGld9xf+8nqZ+R8SVs41By4MCBlOIVWYePzyT27LG9l31WMHj2WhZ8
bdvrUWbQvXt3QkNDadOmAX36tKZjx8a4u+suQFy/fp89e06xdu0eTp26xo8//sjQoUOzyGIdsoU6
Lez65HLnzsXr19ZVPXvx4hXO1CVXPvPcgd8mQkJC6NGjlEX5kLSpWfNLzp+/AHMcQZQJZzI1cQ8S
pLBHP8vdgp2dnUlIsN0FPEcOH+Li4lO9hgDcysHnN212jHQRJEDTH+D9b3W3mfMaWyKgZFVBCQBV
EvxaDfpdl56/uAlr34OvjIRp2kMRCTVphTorbAkLC+PAgQMolQeJiookKioKd3d3ypevSP369Wnf
vj3Vq1e3ra3mEFIGYu7qewyCVJE4X/n025QeUs5HFEUUCoWO4KaNWmj4at1pvqnmAEm3KNNgEHfO
7NTsu3P2LGVr1+b6ki4oGo6XFerUY1n+u244ea8YvoVcw1yJ2yQJLZJQ1wJR3IegaE9pRayOR52g
aIeo2gGqSASHj80IJZFu4Ld8toXOv3TW2/u/Pv/j4zUfy/YMDw9nypQvWbLEtqGQgYELGTx4OmXL
Gne/ub3vNgUqFuCnUj+ZFN60xbm3Tahb3WY1fXf1ld+pfa0bHgcO+gtTac9XEASD3wVruXD5Mr69
emWLdW8Bt57eovx30rW5qFtR/v3+X3K75DbRy3a4dMk6sQ5ApVLh4OCQLg+RNWt2MWLEYp4+td6r
Ry3WOSgcSFYlE7MgBs8JnoS/CCdpaZJse+1QWWu86tTHFBBQhVgWvlr066JEzI6wqI/alrJjyjLL
bxbdlnYzS6SLfB1JoRGFSF5mOCWCqeMO8B7A0r5LZfd5uHlYfC7pI+sS9AcHn2HYMOvF+R7LevDb
yVSHgLMTztKpqS8XL4ZYPU+0BknQfPd+X95WsU6Ot+RcsotJvC28fh0LeJErVxuTbbVxdGxBvnzt
yaWKlG6S5cSot5Q6dWoTEFAlXRff8+cXsWzZNzAyST6Bv1aCa1kCRSjX0aJCEy9evCAmZodNRTqA
uLg9QBh5q7QFp5RchdG37KcIRqAIh77T32aOfbdlioGYIlam4mxGo3CEqH9Tny+vAHEW5NXy/NTm
JmUUvr6+VKpUmtu3Q5Fu7KQ/Ly8YP745u3dP5NSpYG7eXMWpU8H89ttgvvmmIdWrR+m0379/Hs7O
TuzaZUG4qZgMTaZYZrAhkS5QtBuRDmD//v00btDAaPM7Z89KIh1Q5r1u3DmzU2cfSCtPFb/YTPna
dWxq6vHjl022SbqqHTpj/NZBfHEJwbGXRflezv4qL9xcWGu4kFKxYsVYsuQPwIthwzYxZoz+pMhc
goM34e8fAngRFLTBpEgHULZlWTb3tmzG/7aJdAC3dst4SGv/jvqGSp91GZEuLYZEOvHpRsp3+knz
XC1Qa6Oc1RP/BvK5SmtUq8blo0ftIswyG+OUK1ROk+8ufHY4uV1y4zvfV5Pvbsxm8ytgW0P8Zmj4
DdQdkaGHMYhCoUAURerV+xzwQqVqwsiRv+Pk1BJB8KZ160B6955Ct24T8fEZiSB4U6jQR8yceQRp
YcOLPn2mpkukg1TPuWSVNIdwHexKzwY98anqoxFStTk9/rTmcfKyZGpMtL7yuGiFH8Wj6EcWtVeL
dBXHVmT5p8sZvXm0WSKdECBw/PZxq0Q6IUCg7JiyiCGijkg3cPVAhACBgasHIoaImSzSAXhx4EDm
5+KuW3eoRSLdoRuHNNcBIUDAf4U/GwZs0FwvxBCRWiVrcffuPfLmbQt4IQjehIYayW9tJVeu3MXJ
qSUqVRPA650U6QD8WppIafEWUaxgPtON3jKyPersjIcPHzJixAg2bpTi8HPlyom//ycsXmwiH0+Q
AN0PQglDSbPtH0PhV+pE4CUHB6NYPIw7SeocSTsQhFa8TEnEK4+Wu/UcBxBlhDtjHjxBAvQ4BMWb
GGxSpEhhHj+Wn6ypXcrzK7yJUCkxOI1RhSM4SAl2DbmQFyzoy7MjIakhRiMSQOFk2PbMJEiAz65A
/pSKUqtqQdR1GPZGvv2VdfB3b/O9p9QTQtdSEJA5VcVkbQgUYWMruLfPsO13dsDm9qnP7ST0kiBB
Eq+FVF+ssWPHUr58Mv36dchwM7p3n8RvvxkRsq3xsvz4Lyj7AcTcg5DSUpGMDus0TaZMmUJw8BxO
nlxKuXLFzBp28+aD+PmNJy4uDhcXy8LWdWxLcy4Z4UUkh3UedZAVK+7nzrlSq1YtQApbvPH3DSp2
0E3QnF5ha4rjFDqe6EhkpOQB6+7uTr16VlZulmGyMBnApI23dt9i54ideH3nRfVeNvA+zUR03gPt
RZhu+6Fkc6N9b+y4QYV2UnW8uLg4XF1d+fekfuEX8elGyraWKobfOXtWE/KdNvT7swa1+eWE4e+R
9Z//bOyNF7EvqDK+Co9jHuOa05UjY47gWczTpsfI2x2G+sL3fWw6rE0RVSJxz+LIWdh4IQdrCd4b
zPANqUVtNn+xGb+lfoiiqCdsmeNVd+7+OWqWkArDvH79mk6dO7Fv7z5KVStF4QqFERQC0c+ieXj+
IaVKluJ/m/5HlSr61Ui1yf1Vbl4vNL9Su3a4K8CpcaeoV9r4dV8IENg9cjc+VX3MPg7A7We3Kfdt
Ob3XYuOpjXRb2o16petxatwpi8a0JRW+q8DNp1IUzsXJF6lZsibJyQcy7Hg9e05m9OjZ1JZZbFGz
8shKPv3lU83zL5t/ycLeC21qx/r161mwYD5HjhwFwN3dleLFC5GUlExkZAxPnkj3BN7eXnTp4mcv
YZFZwlviiWaSK3ciqFqmaFabYYrs0Fct3umT00OVCD85Q/9/Id/bWDZafqKonT+hjKO3llC3lw45
vPktzkyhDiShbo6BoDFDIsGykvDygRERwfAEN61QVz1XM268Eem8cAVnhvXnfpKIS5uvidten4Ku
fRn5awjf+ZUzOJ4oNkU4PBaOTzduc1YQJEjhoOoqvEECfBEOuQ1cNC0RZrQnh1l1ztr2bvfXSZSu
106brH6PtIW6FFtUKhWhoVPo0cO8MvS2pGnTwRw6dE5/hzVCXaAoeWb+7wP46E8o14Fnz57Rs+cH
7N4dZBN7HRyak5xswcq6gfNYs2YNffv2zVCxrkzt2oSHh1O0qHU3KrNnf8XXX6evIp85REbG4Ozc
jDx5dK/ccqJcaJdQum22vmxjRnuwmSvUZYYtGcWh6YdomqsNJKUsvFT/DNquMKuv9jk/fPiQ+nXr
ckzG01Z8upEK/R9wc6vk5qQt0MVeD6G70odtn5fNFur+42iLSn0b9WVVv/RXm01KBree8NpEzbGs
5Piow7w/y/CCcXpJW2Ti2w++JXhPMLtH7qZx+cY6bbUFuk9WfMLKfroFIfr07cO1mGs06WmZvUkJ
SawbsY7I5/ppRRwHOsqG48qRVqQz5UX3IvYF7sPcLc59t+3cNjot6ETi0kQcFak5PLst7cbGUxt5
9tMzCuQpYNGYtmDmjpkar1Rj35EnT55QpEgRVq78Dn//dlYfLykpmVq1+tO0qQ9Ll+p7tW87t43O
Cztrrssda3bUVI7Oxn5ISEzC2clILlo75018AjldDFeWtyOyhTot3umTM4g6kX1WCwQWY3uhbty4
nUybNk1/R9pk/2ocXKQ8O2lJioPgnAZeU/OFuhxCqsdjxxJO/PkgkZKdv+beH530zlWO3r2XsHbt
WtjcDu6khMbZ0/scJMDIZFAnCDYmvrxtQp3aDrXoVbUXfLBWvo02Wf3+BAnQ9x9YXQcCRaZOncr4
8c0NNh9QvyMhp2MAcxIEp1b9VAdDqj1gX4lKjGcdSiOiv3kOOc28qVW/D+pKz/mrwmeXGTOmDzNm
DDRvDAvx9BzIpUsmQkRNfKaVSiXNmjXjxunTONqwSuX4H35gdWgoz58/J3/+/Okaq0GD9zh4cLrF
RXDMpWvXYDZulC+ktLX/Vjot76S3/f6R+5RsbF2ybXsQ6la2WMnji4/57MBnFPIsJNtm3bp19O7d
m08/bc/Ikd2pUUN/webkyavMmfMbGzbsJSIiAg8PD9uchDHu7ILNbVOfW3g9y4z8dNqUqV2b6Nho
tl/czs5LO9lxcQcR0fJhZgXzFKTX+71oV70d7TzbZYfNvoUkq5Jp9mMzDt+QKjOHjQ6jaYWmVo3l
0gWi1kGujLn0pYtnp59QsF7hDD+OWtwCaFOtDf/c/4fb02/r5BDcdm4b+6/tZ063OboedoLAsPW2
KRRyettpwtaGaWyypPiDGCKS88ucxCXGmewnBAhs/GIjfvX8zLbtxpMbVBxbUdbbEEwLg7ZGO+dj
bpfcxMyPsbhIh5qIiAgWL17MggXziYp6AUieaFFRMZo2fn5+9O3bl06d9H+rI6IjKPFNCVQp0UtF
3YoSPjvcKluyyVzedq+6Pw7+w4fNbJsWJoPIFuq0eKdPziyCBGi9FGoOyGpLzMBSoW4XgtACMCYo
mFFpyFA+tWGx4JhTv61raQi4Y9JubdvVQl3CtSO4V5/A7DWz8Yy7yAef/8KlqD1Ucn6Jq2tngveG
8lkT+Ymc3vnMyw2JsdLjrBaDtEkrVhgSL4IEaDgOmkw1b0w1WXmuwTmlcN7VdeHJP4bPS409vC9q
e1ovg5oBGA1xTDyPkOtHxMSVCELzlMIB3tzZ9AFl/HYgoEKVsu1NTCgjjuRhe4cPKDduNsopX5OU
UuFzZuPW3JywlWXtDIfqTJu2inHjQlJtNPe1+rkcRN+GbvsgtCX0OsqrvNXJk0c+/4p/zfasvvAa
XBpQOumEjqiYFlNCeWRkDPnzGwgTtuAcAgMDmTNnDgAzJkygx8fyxRKMEbx0KT+lpERISEjAycn2
YfBPnz6lWLGinDv3C9WqlbG4f2xsHLlzt+Hvv/+mffv2pjsA24dsp/183bbWim2Z4cG2sOpCClYp
SO3PalO5k3xieDkxLyoqis6dW6JUzku3DZUr9+HanGJ/VgAAIABJREFUNRunBAjOCUlxPIkoQuGG
NawqrnR0zlGccztTb2BqyNnriIvkKVYjQ8Q6W3rTXQq/xJ4re1imXMblcMMCfd9GffGp6kP397rj
4miHCs9/FHXYIVguFmR1sQlDZLRXnRq14DS/53y+/+t73HO7E9gmkP5N+2vaeE70RPmNkviYeEau
GIlHhQxaNBDB8bwjs6fPNtm0x7IebBiwwSzBrMyYMiztu5S2nm0NtkmLXAVX9bHSetVlJK3ntGbP
lT0AhA4MpWv9rplyXG1WHV3FJys+0TzP9pJ7N5izfhcje1qWN99eeIuExmyhTot3+uQswspqj5lJ
1apVuHIlxGbjPXsWTcGVvjAkGpxlvOd0ECHIwPQ97et2f78kEKRsv3z5MtWqPU+/wSZo02YKu3al
mSzZmyikRvvztrUL1BkMJVvotrm6Hv7qZZ7d9nSeV9ZC1d7y36ljU+HwhNTnWW0r6BRYuHHjBhUq
GEtirEqp6HmQDjm8+SsuRRRPXIjze8fg7AoSUoQ6ABw8KM0jbiQpmd+0FSMO7WVlzx5MiOvJ3d/1
K3jqHEmlQqFoJhXm2OQDfU4bba9zPmqvxrwlYMB9nj//iwIFZL7jYhSCQ3dElRRqp/b+q5CzGbfj
RPY8PojHtilU/3wvvzw/yGcFmpEcPgvHyiGoYpbLHj5//o5ERkbL22QpSW9oVTUX+27obi5ZvDg1
qlUjn6srT58/59CxY7yJ0/X07dOnD6tXr7b8mOnk+fPnrFy5kqNHj3LhwjmePHmKu3s+KlasRNOm
XsSNj2OaKOPFbCZy4po9C3V3Dtzh9ePXnA45jf8ef4N2jH0zFscc0kTOxcWZ+HjbFh4CG1Wlu7gC
dqZOyKeOmcL4xPFWDaV5/dXXoCL1oM8pgoODGT58OD8HB+PTrFn67AW8O3bk3oMHWR7yeuL2CVYd
XcWWs1t4EPVAtk3TCk3pXLszHWt1pIqH8bxc2dgW3/m+/Hn+TwC2Dt6Kby1fg21dusDuKeBt25R4
6eLxkQiKNM6c/EtCgICLkwvJqmQcBAcK5S1E2OgwyhQoo2njUNiBIfOGZIo9uxbt4rJSXjBPSErA
ZZCLJty1aYWmhI2WX5CMfhNNvqH5LPJ6S1ulNeZNDG5D3fREu4ximXIZA1dLkQI+VX3YPdLyRZP0
sOTgEgatGaR53q9pP5Z/In9/lM3bzZDZa5n/dohdemQLdW8n7/TJWcz1jVIhAnsQDwzg4OBgkySn
UVEvcV8h4/li6tzPL4PdBkLn0vbVmpzHxcXx4sVOPDzSF3ZmiMKFP+bJk6fyO9WTIDkPwKwiIQbm
u6W+Zsa86t42oU4m55vOPm2y2lbQrYQKJCbux8lYHoqkKPK5fkz5997n9MEZskLdyxTP0EuPd9C2
cEsuXZ9OpQ//4OH5HzUinnOTr4g/1N3gYQoV+kiqWmdpCLR7RUh4Ba8jtPoZ8BI0INQ5pHjOSR65
yRovOsl2hRnVSrU8W60V6VbVBrey0Pl3vV03b97kzJkzREVFUbRoUVq2bEnu3KmhR/ae6yw99l3e
dJlqftV0tk1xmMKE5AkGemSMHZawrsM6/v37X4PH0rbj2rW1VK5cKsNs2br1MJ06WVE18+4e2NQ6
9XnKZ9qq13BDU3h4mMlfT2JiTD/IKx+2rA417f7RR8ycaPn7VKlBAxISEhg0aBCLFi2yuH9W8zjm
Mb8c/oVt57Zx5OYR2Tal8pfi47of83Hdj/GqaEaEQDZmc+jGIbxnSeJ2vdL1ODH2hE7I4K1HUPUr
+/KuyyyvOkj1FsvtkpvYhFicHZyJWywtGJXyLMXH4y33BE8P4dfCCZ2om0gwKjaKQiMKkbQ0CSFA
4Mz4M9QpJR/+JgQIrOy3Ev9G8gsqcu21c7ypPdmW9l3KAO+Mi1LSzhfooHDg+dznuOV0y7DjabPt
3DY+XPihJnQ1s8TIbOyH+Rv3MqRr5uevTi/vqlD39mYNzMZyKnWVbr5PzIQjE+VzsWUxycnJeHpW
49Il/YSk5iII3ogJBqpDqUWL0j7yoTw1B0h/Ryb9n73zDIviasPwPRQpIoiKvSCW2EWxl9Uollhj
wWgsMYli19iNxh6NGrFXNPYSNVbsYFTsFaKxRcWOBRVF6WW/H8Oyu2xvgH7c18UFO3POmTPD7O7M
M+/7vHBuqmpfj9aiaT3IxZqyPti33U7Bgu1xds5FVNRBo+eeHpmRvUaRTnEeCx2zhjAEYgRj94ty
EaPnVfNFdb5/IAocmUUBPUuZt99j2XkYQlF51Iqt7ZdERR3G2VmDg5yNK+9ijqe9lErFyJ+EkHJA
bwByfVGPpEQx9eJhkihyPbtWP7W9bl+76dPXGy7SxbwSf39/WywIo08/wZVvK1iLApxdLUqkLi5h
JyAIEg4/P0GRgGkIgoS1b8SK09KUvalpvyfUDvn771sZPTr1htnYc9pPgJEpaPq+LlWqFKVKldLY
fVLKpCwt1o1+NZrgX4OR/GJ4FfIKnSuo7FvfS32NmseY12OM6mcodw/e1bguZI08JbtPn7asXq1+
TjZll/P2t1cU3lSfD0ujueDWnjq2AFIE2x+RJq4hEbBFe4p2u3b1qVKlNNeu3VO7Xi2KDxh6XIEC
1dNeOhfVFY0O3FgPh3uLfzddAl1Pc//IfWoPvatRpAPSIuBGjhyJe7oKgdWrVKFGtWq45s7Nk6dP
OXX+PE+ePVNqc/XqVapV+yQ8adRSwLkA474ax7iv9BNWI2MiCfgngB2Xd6RFhqWnQuEK+Hj50LZq
W51VLv/faVC6ASn+KUrLhv05jEXHxHT0BV0XEL9zWJZKhbW2N5+3qS5kEWrR8dEUdCnIi/cvEPoK
/FD1hwwX6QAKf1GYn/78ialfTcXFxYX/Xv6H13SvNJFOU5RcbGIsjgMdDfK5q168elp7K18rtRVw
zUnuobl5HytG6q/suTJDfO7Upa/uG7yPZH8Dimdl89lx59GLzJ5CNgpkR9T9PxP1GFaVyDrijhpc
XJy5fn0NxYsX0NgmOTmF/Pnbs3fvfho0SGcirMl/ThEbe9F3TB0fnoC/huiH9D5sQ6PB1jFt0bNn
zyhatCg7dkyjc+fGOqdx9uy/tGg+kiFDf2LmzJm6552edJFTWQaZmLHmC0j8CP2eKa+rOgC8dURD
KP4fK/8IzVdbZq764idAuW5Q+mv4IrUi5fMLsKWOvE1W+T9oEJMeP36Mi8tNXFy0l3wwJzVq+HL5
8i2t89KIYiRjfk+xQEYqly5dombNjHrwYIJIF/UIVrmb7dzIymLd4WGHafJrE3LkMrwK18rqK+l3
VTmyeZbLLMa91z9SLCOPjbaCEsrz0O5nCqLQLQ3fqyDUwfops+k99QAzrh1nfGVrnV6KIjqir7Y3
EW0cZKg5J+Mi47B3tVft619c/G7MkQuGRKmuJ2ufm/+PhL8Lxz/Ynx1Xdmj03POp4YOPl0+meF5l
ZW6E36DGrzVJeRlDQh6B6KXROOZw1N3RQsS+isUhf8ZlT+Qbno83H99Q0KUg39TQHCWfkewct5Mz
V89gZ21HwVEF1Qpb0fHROA120kv0kolWsrYlxpbg8dvHpPinmL3IjKxaLIBXCS8u/3LZrOOnp/+m
/qw8KQ9++KX1L0z/Wg9v6Gz+b5m57gDje2vwY86iXL//lMqlimb2NPQhO6IuGz1xLi5enO9uC2H7
s46woMD796o3AZGRkbi6uqa9traGN2/eqR9Atk/SFDEKRx1JcXIhqHOgGG0nI1cxcYw3N2BdJeV+
fgJY2cLwhFQBwQq+3gulRN+TIkWKGOSZU69eQz5MGwyN8undR4nSHeDe7qznR9jvqbLIokjno/BX
c91CnWN+eUTV3d2ZL9QBtN4CK4vIhTpFke4ToHjx4kBx4uPjsbe3JyHhb+0psUZy/XoYNWv6EhcX
L4p0sW9gWT7DztF/14jvNdn501O5cETNmjWpUKE8N2/6m3HmymzeHEj37tPEF8a8x5bmgWpDzfre
nCydnGUFkZYLWxo9t35X+zG/2HyGPxmetiw+Kt6c08tyWJfpRtI/EgTrDqQ86a20LjC5PINrniAx
RW1Xw7gfAHsUqvVpiez8vcDvTEyYCFfmw4kR4sLWW8H3sRkmkk1GUjh3Yaa0m8KUdlP0ah/wTwD+
wf4aI/e8SngxtOlQutbsSg4bw8X4T4mKhSsSu0ws3JW3u5TkZJiybwpTA1IF+raT9T6u5uDa3KsZ
lv4K8Hr+a+rMrEONInpmE2QAnWZ1YtLuSaw/v16tEFd5SmVGtxitU6ST+RZKV0lpUbEFQl8Baytr
klYmmW2uySnJ2PSTX1s9nPXQIhFzicmJdFzWUek9u7LnSlb0WMGKHivMvr1sPl/CX2u4p86i3H3y
8lMR6QwmW6jLBjqkVurZ4AkR/2QtkUcNiiKd3ghW8v26uhCO/6S+nRqPHgDyVhRf/9VM9PKRkZIo
3rTb5hRveDZWF2+CjD2GI5LFansfnkFjP8P6tt8lFzKykljnVET8vbKImG6tOLcSzTT3U8S5hFyo
i3ur96aPHj1K69at+fHHVowd252SJTUbMV+4cJNp09Zz+/Zzjh07jru7u+aBR0phaz34qKGSXJlO
es/Rohz+XmcTOzs7JUF5yZIlDBkyhCFDOrFo0TCDNnfr1iPGjVvJgQPnOHz4MN7e3lSu3JC4uNT0
ioM9xSIihp6bR36EOhPFYh0a+t68KUbq5czpQHT0UcPG10GePO14+zZSfGHMe8uC78fJ0snMLTCX
US9HWWR8U5gsncz9o/cp1VxzGq8mop6qj9T6lLGx+ZKkpONq1yX9J5p1S5NFz0JF2X/T9HYwXS6u
6Yqms7PzJj4+nbCZ/ntP1/noX5yUxB9hRWHoHw5ew7W3V+DCogsqlXuz+bRoW7Wt1mILipy+d5od
l3ew5O8lad5WilQoXIFhTYfRu17vT17Ue7MZVgfCb+unIN05JW15VGwUdWfV5Wb4TZzsnDg//jwV
C1umEkWhRkUsMq42HO87YuORtW4ZXRxdVAQvxcIS2vBZ4UPAPwHELY/DP9gfoa/A9n7bzSaguY9z
59EbsRL35LaTzS7MhUWE0Wx+M8IiwgDIZZ+Lg8MOZldezcYsfCJeb2msCTjNbwOzyH2XmclOfc1G
FT9B9GlrZrxP3CeDnxU6T5O220V/P0U214IXl1Tb1p0M9aaIx3B4ghgFZAyLXWDQGzCm3HtWToGt
2h/+WaGaNqxrrgE+8N9f8tda2letWoUzZ+bi5GR6asjx4yEcPvyM2bNnq65Mf5yzUsELGeY6F6TJ
MM/GtHHu7oabG9QWT9DKPGsxIhagcF3opt50PT3Nmnnj5VWQWbM0FIfRgbPzVxw/fhIvLwWfpywm
0skIGhvEo+BH/HjuR92NMxhjo+oiwyLJ6ZYzLXX22PhjNJ2pn8Hx9s7baTCuAYVrFDZ4u8aw+avN
3Dt8T2U/n4c8Z0enHQwNG5q2rEiR/Dx7ZjnDKzu7psTHJ8gXRFyDDVXlr3tcFquvpkexmETDWVBr
LH998xedt3U2eA5ZNcozm8zn6I2jbLm4hfVn16td365qO76t/S3f1MwaKZbasOsEz9dDHif16xU9
wBSLEpiDC2PPUHt2xkTVWVlZMXTLUN0NM4Eji49w64z4kE7oK7Cg6wKGNdX8gNFxoCPxSfEk+yen
FcuIWRaDg61p14tBt4JoNk/8/PRw8+D+zPsmjadI+Ltwio0pliaC21rb8vT3p+TPld9s28gmm/Ts
PH6FTl9+Gj6nn1AhCciu+qrEZ71zFufUOLHwRFYRHSyNbH+1kT41VlZJVx2djsDOFsYfP/9iYtGE
b3Sb8ytx5EcxVRAs9r87evQo48eP48qVENzcXClevADPn78hPDyCihXLs3v3XsqUKaPa0U8AZ3eI
eqi7IqwipyfABQXfvnTtd+zYQevWuXF0VOOnZCZ27DhO+/bjyJEjNSLg2CAIXSbOZe/XcG+vxvll
GuYS6nQUP9Crf5/74OJhWL8Xl0RRXIYx+/HhqfheSu17584dTp48SVhYGK6urpQoUYIvv/ySAgU0
+2ACYkRov2fa2ygyzxq+OQlFGuhuawYSYxKZmXNmlhRIjBVuMrqfsSR8SGBr+6189/d3SsunClMZ
/mS42oIM/v6j8fVtp7LcWPLkacPbt+/lC3RVoA7sJ1Y5BxgcCXa5lVZfXHKRWoNrYQzZQl025uTO
izv4HfVj0/lNxCaq+gm3rtKa0S1G06hsIzW9LY+hxSYazG7AmXtnAHQKS5q45hdClZGWL6TStWtX
Cn5d0OLbMYVF3y7Cdagrbxa8Ubs+9Eko1aZVQ7pKmua3FzIpBM9inmrb60OxMcV4GvkUgMu/XDZL
4ZZxO8cx+7D8HsRX4svKnv8HARPZZEnMKX49evQIDw8PIiL2kSePHgWqUunefTo2NoVYv179gx0Z
2ULdp8tnvXMZhp8V5CkH36s3IP7sSE6ABXba21jngJ8UUouu+Ys3PukpUh+enTE+um59FUhJMvzY
WyC6SxAEo3zMHByaERurYPQvm9t31yFfJXgVCpfnQqtNmgcJXSYKYzIU9ql3796sW6c+kih05zZq
fLOSx7F/U1jD4ZcsfEHwMPFCNDnqOTYu32hNLfvwwZNcuXLJ90Wd997nJNRdnC2K2MaOYUpEmZ8A
XwfAnrbGjZEQJUanmvT/SPWfNKbwRQbz9t5blpRbwqSkSRm+bW1IpVJ2dd9Fpy2GpSbs7rWbDhs6
pL0Onh6MZKLuSrKZIRQtKrOIoXeVo070mYe1tTV37mymdGnD09kuX75Nw4ZD1H++gmj5MEJWwU8K
83OI3ydlO0PbHVrHNuUYhgWG4dHMQFE+m2xMJDYxlo3nNrLh3IY0IUwR7/Le+Ep8LVIsw64TbB8D
7Wsb3lexuEAhl0KEz9VgqZGOW/7/Ut63ku6GJvDTnxpsYrIYC7ouUFkmq+Arq15rb2tP7DINheN0
oCiimUNAk8yRcOquvLjQ8h7L6d+ov0ljZpONOXny8i3FCuQxaYzFixfz5ZcuVKpU0uT5WFk1IiVF
vVHv5iPn6d7ik/EJN0ios7LULLL5jBiZIgpFfgL8mTHRIZmKdQ7xJnukVPRGU0dygng8ZDdFVXzF
9vbp/POepV4szrcTvecM5btrkLOgWJ3XEEZKxf0AWJJbe1sdVKv2BXAKqTTYqGIDsbGBwCk6dJDI
5wawvrL4O78n3NqsfRAb9ZFy8fHxGkW6R0uHIfnDiaQkUaQTBAnjOvgCUvK7eLM1VO6BZe8g+ilZ
O2v2sJORK1eo9gbt9+gc45Mis0S6JanvpT1twcGIAivSZNNFuvj3n4xIB5CndB66H+xOxM2ITNm+
JgRB4Ma2Gwb367ChAwkf5Gmcxyep93dTJDk+mTylTbu4NIbIe5GE/BGiu2E6kpOTKV26K9CQ27fd
qOI+AEGQ0KzZSMaOXcHs2ZsZPXoZ1ar1QRAkNG06mUePigMNqVGjr1ykU/w+AvEc/OakfHn8exie
KC7XIdIBRgfPLiixIFukyyZTcLB1wFfiy+mxp5Gukqr8BI4IxKeGD0kpSfx64FfKTiiL0FdQ+em+
urvGyriaiN8Jdb4QBTtDaVu1bdocZSJdl5Vd0uaz4Zz6lNmoe+/VLjcXV65csej45qTSl3LBcsq+
KQh9BQrnFq0PuqzsgnSV1CCRLiwiLO34FxhRgFmdZqX9jwwR6d7FvKPB7AZK55d/sD/BY4KVzs1s
ke7/h5SUFPz8/ChZsgSCINC0aQ1mz+5PUNB84uKOIVaHV/8TFraNnTt/5ZdfvqNIkfwIgkDt2rXY
tm2b2edZrEAe5m013u95zpwBDBniaRaRDiAl5SRwijVr1qis+4REOoPJjqjLYHbv3k2XLl3o0qUx
Awd2oH79ykrrP3yIYd++M4wYsZQCBQpx7Nhx3NzcMmm2GvAT4Me7kLt0Zs8k45BF5mij1ljR2wdg
gT0ka6hSaMxN/L5O4vgFDUhFUrxpG5EEgoaqtxoYNWoUc+e2N6iPPnh7TyFoUW841EssZOLRRre4
cWsLHFQIa05tmytXTj58OKy2y3CPxjhsP8bMGuJ+C4IEqTQ47be1ICFZGkyliXf5d2pOrHItIyX6
17T12ujffzMrVqwQ/88/xVkkgtEsmBpRd3wYXF1keP9XIWJhFVOOhanH1FTB7M0N2Ogl/n/14epC
OP8rDMx8kWyqMJWxb8di72q5VHBjMCZKS7GPPv1nucxi3PtxRs/RWKYKU3Eu6qxUqdbU/dVJ9AtY
ofBwIXcpKNUersyDfJXFBz1GIk2WIlgbrtZlp71m87kQFhGGf7C/UjqijAqFK+Ar8WXQl4OwSecl
bGgqrD5ceXSFWjNqkSJNoULhCoROCoVYsHGwMep9qg9tRrShdK1P5zp/d8huHr99TCm3UtyPuE/S
yiSsrfS/7pV51gEEjgjEu7y3ltaqBN0Kos2iNsQnidf+hVwKETAkwCxpsdl8mpQv/wWFCjmxevUY
PDwyxjMX4MiRi7RsOYrZs2czZswYo8cxNqU0Pv5v7OxU05gEQQKCwPP4kxTUkOWUGLwIa8lQHZFk
DdP+Sk5Jwdrqk4o7y059VSDTd27+/PkkJNxh7FjTc6cLF+7Iw4fP5B5Zmc2inKL4M+Tzq86nlbd3
YG057W0GvgIHN9gmgaen1LcxVEQ4MVxMAf1JgwCojgV2YvSfgdv7+PEjTk6q0SHS8L3YNg5Pq1Co
SdQq2mwlhyaVp3JD9Wlqly7ZUzPlKJz+RZ46qm1+9/bAXnkKnKytvb0dcXFBGjqBtZWEFCmsenmS
vgUaIZUGE7J4PNWHnhb3RxpMje8XcmXdTh4kBRPxSw9qzXqctk4TZ85YUb9+fYj8D44PhwcHVeaW
JTBVqDO2eMKgt6rRpYaOYeciRgFlhkj3z3JRQM5VLGO2ZwHWf7ketwputFraKrOnYhLrGq+j94ne
AGxtt5Vu+7ppbZ9ZQtFUYSqA0rYNnctUYSoTEydiZaPjojN9qj2I52sH81T8+/fPf6nU1biUupk5
ZzI+erxZ5pFNNp8Sp++dxj/Yn43nNgKQ462UhDzie7Vn3Z4MazrM7KLNhTFnqBPZIG0b5ipYERQU
xP7X+80yVkaxqt8qrt+7joeb7oje2YdnM26n+EDHp4YP2/tt13s7spRaGdlecvozdepUpkyZwpAh
nejZswU1ayrfS50/f4MZMzayf/9Zk0WmjKZVq6/4+ec2NGxYJbOnohEvr758991Ahg7VrzjMmoDT
/NDWsEy6KlUqc+3aMrXrlAMmTiBYfUXvEgmsfXBcFPGAhJOdadFpF8dfp2i8D/vwIYZcuVoAn5w/
HWQLdUpk2s6tWbOGnj1LGpUqqIvx4/2ZOXOj2cc1Gj9BrBBbxTezZ5LxqLthUkRWfGKJK8S/U11v
6M39pd/FVMQ03yEdnPoZKvSEdRXFIg59H+jVrVOnxuzcOV1luTR8L1ZF/MS/FaLT0n5bt2Zv9xTa
b4wGBKTSk2rHX7ToL4YOXSgevzzl4MNjyFVCsxffw8Ow8yv5a4XjFhMTaNEiEunx9f0df/998gVZ
1Z8OTBPqXl+HrQ1giL7pNUZ4uakjMUZ8CADQ9bTo82gIpopm+78Ro2H1TWHOgiKdjIUlFyKZKKHa
D5Y3HdcXY4S0hR4LGRYmGq6HBYXh4a35RuxTFeqkUinTrKZpbq+ucFFqdVZz86kU8cjm8yMyJpKw
iDCuPr5KWEQYrz++5uHrh4S9DiPiQwQf4j5k9hQNIse7CBKdqyK1ElNa7W3tsbOx432s8vdqDpsc
9K7Xm6FNh1KxcEW9x3+w8x4lOylHveUclJOYhBgA3ix4Q56chlsBlG9YnhaDWhjcLzNJTkxmcc/F
ate9eP+CQqPE6GMHWwfeLXpHDhvtQQ/h78Jpt6QdVx7JU4DX/7CeXnV7mW/S/weUKVOcu3d12Nto
IT4+EXv7pmRFvaJKlcqsXTsML68vMnsqBlOiRBcuXgzVWUgtJUWKlZX+2lK1al8QErJa7TqZGOcf
cpi+no5c/LkXdRbnJeXj/LT7SFlE3frWTYn1D2RgEU0PLsWous9dqDO/ipQNY8eOZfbsNhYbf+ZM
39Sw0iYW24ZBKFbv/HoflGqbufPJSGT7HtBFvJFKz19iuXaK1BdFh/SijqFCSs3RkKuo/uJAw9/k
24h6qN82gHHjNH/oWZfplhZRJ6Ojq8Cy5s15nnQU200/k7DhN1ysJKSg3ghz6NDO4h+yaLphsTo8
/DR/rjk6NkP0b7A858/fUBbpsjKJMab1X19F//NyWX6IfW0ewUom0kHGi3Rry0HVgVBdj6eNp8bB
7T+zrEgHMOzBMGY4zDCbUHfjxg1++eUXTp48QWSk/MFDrlxOSCQSBgwYSOvWrbWOMSFmApeWXqLm
oJp6b/fdA/m2NjbbqFEMkkql5MyfU+06S5MjVw4lPz0ADHAb0CjS/VEa3t2Xvy5cH7qdNm6SeuKY
z9Gi42fzaXP7xW0uPbjE6XunCXkcwq3nt/gY/1Hv/q6OrpTKX4pSbuKPh5sHnsU88XDzwNXRFa8S
Xp9VuuDOs8/41k93OuyTt0+48/IO0w9M5+iNo0RGR2pt36RcE7rX7o57SikEhRvp6KXRSu2m7JvC
1ADxQcLQpkNZ2HWhzjkbK9K9ufOAXb8FEBMv/17M17k73Tup95ld2E15LnbFy9J/9ldq2+rC2lb5
A9dugB0JSeJn8vZ+25Gu0vxdfSP8BpUmy6OIbaxsuPPrHS7/ctmoufy/Ex8fz4oVYxg2rLNJIh2A
nZ1tamTVKSZMWMWMGeaJGjUFBwd7YmMDNUaOfQo8erQd+I9Xry4watRfbNig/riu2nuSfh0a6z2u
jU0uretlwR19pUeoMzeOeQ3vqLRp6taYE69TkGoQ6SIjP+CamrTjaJ9FsgwtRHZEnUVQLxp420s4
Fi8/SQ/EB9PKhPPr5cu3FChgfg8xk5CmwDxrykD4AAAgAElEQVTrLH3zalFkFTI1UaC6GGW3NK/q
um5noHA9/bbz8Ajc3SVGMurD1voQflb8W4//jSAIakOO00fUNSrfgeC7tkiTtiEIjdL6lMzXnA5T
f2PeIPUX20WLdubp05fii3nW4FoW3t7WPLf7AbCnnfy1mnayL05LkJCQSM+eK9i2TU16hKL46jUC
GvtZZA4G8/wCbEk1WDX0/fjgEOxqpV8/P0H0ZTOm4EN6NlYX/e3AuJRbUz53FjpCl7+hkB6mtH4C
DHgBjtqfRGYVjI10yp/fjf37Z1CrVnmD+9669YgKFXqqfQpu6HzuH72PRzMPBEHQ2nd1ndX0CuxF
jlwZf+EWPD2Y45OOK83t6KijNJ/bXK/+SvuVHC/6XypihM+oMUTcjMCtgnG+uNlpr1mfK4+ucOru
Kc7cO0PAPwFpflqacLJzolbJWtR0r0mTck2oWbImro4m2Br8H2PXCR6sgsIm1ro5fe800/eLYh7A
edfT1IlsgGMOx7RIOhl1S9VlRLMRdPbqnLbsY/xHas+szc3wm9ha2xIyKUQpii8kJIT1d9YbNbf0
whtoFurUtQVAsGHYlkFGbf+PwX/wscNHvMt7EzhC/fXgwmMLlarZ1i9dnyM/HSGnXeY85PnccHFx
5v37Axbdxs2bealQoYJFt6GOevXqcvbsHIP7KdoECYKEvF9P4NWiaBKLdaRj7kb0P7WLv8cOZv7B
rQiChDXhJ1nq3pgrCVL12UtCYy7uGYJn+07EXdiAS/2dPL41nz1W7gwuZZxf26hRS5k790+V5cZF
rFk2eOLIkRhatGhBckoKSMHaOtuj7lMlw3euYsVS3LixTu06b3sJAXEncRQasVBiS+nAYzxt15Iv
Dxym8/R7lJn7IxPenaSaDbjbSLiXFIyTICFOi1fWrl0RdOzY0UJ7YyJ+gnKBhf83To0ThTtNDIyA
ZWpuiKr0hWb+usd/FQobq+knTry4JPpu/btWfK1Hn6SkE9jYWOrGsKHyS5nYNTgS7NRUqf3vLwjw
kb/WMf8SJYozZEhbRo3qavQMe/T4leTkPGzdulV7w6xaSOLaKgj0hUK14dvzhvXVR/Tys4JmK8yX
8q4oTrTdAWU7a2+vNBcTRTq9+5spvTcTmCpMZVLyJKXIC3WYmqaiibZtfyYgQB4JZox/22TpZPwK
+THy+UitbTILxe3v77efVktb6fabk/Xb+w/c3a28YkQyCBl7AZqV016lUin29vYkJCTobFu/fn1O
n7Zs5GFG8uTtEzac28DB6wc5e/+sxnYOtg40q9AM7wre+Hj5UNClYAbOMht9UCw2ERwcTKNGjfTq
d/nyZby8VB9+3lxxnQr9K6ss9w/2p9/GfkrL6pWqx5uPb7jzUh7F4uzgzKKui6jhXoNKkythvc6a
wRsHG7BHcjZN2UfHn9viaCekCXHqhLrLvyzhzH3RwmXY1mFpy2V9ygztR6u6hlua3Lt4j/3z9hP+
LpxS40sRlygvBnVq7CkalDbMb8sQwiLC0lK3w16LaduP3zzmY/xHXka9JDImkuj4aD7GfyQ6Plr3
gCZia22Lk50TrjldcXVM/VH4u4hrEQo6F8Q1pysl8pYgn1M+k0V4bRllMpGp/9wbrBjhik3pXSSF
aT7PdBV227z5Md27Z1zK4/LlIxkw4Guj+spSPmVi2zQvW37ePYjkYh15tXsexTvuQWYXJAgSBCB3
x0lE7pqmQagTx4uXBmOnsMz+60nE7ZkGWCGVnjBqrnZ2TYmPl3/HGptaOmbMt8yZM0B3QwPZty+S
du3EwA1LpL0+e/aMPn1+5PDhI7RuXY9evVpQo8YXuLrmwtU1F2Fh4YSE3OXEiRD++OMAXl41WLFi
JRUr6m1ZkJ36mpncvBmmo4UYqbSoUVMAfA8fTnvjvavbjvweY7ixRXwCr8/lube3YVWJMhTFlNjh
CWClocRLJhMdHc3Lly+JjIzE1dWV3LlzkyePiY88QRQoG87SHGUnE+kq94Xrq+TLr60Sf3SJAfk9
oe9D/USGgjVhs0LFWGmKzhtAG5vGZv+gXbPmAD/8oEW4XeYGwxNVlyfrvjFT5NGjx0qvAwMD+f33
OQQGBuHq6oyHR2FcXXPx9u0Hrl69DcC31WDilluUKyea227adET3hlKSDJpXhhKbWn20VDvt7dKz
WocRc1KsGH1mbrFKMYIoK4p0+7uKxUM+QZEORO80bWLK7du3KVcuwiIiHUBAwG/AKQ4e/ECrVq1o
NLkRUqkUQdDvmiVnATHaYVjYMOLexWGfO2tVtE3PlVVXaLNShwXGzU1wqCcwRS7SlfWBtvobm5ub
+mMMTDfPAJo0acLx48cBOH/0KAXz59fZZ/eBA2nnVlZ8IH363ml2XN7B+rPrVfzKZBRyKUSvur1o
U7UNDUo3YELrCUxoPSGDZ5qNuYndkYKQGh1bqEABHoaG6uyTnJJC9caNeR8VhZWVFcnJcp/iCv0r
c//P/yjVtaxSH1+JL74S9Q/Sdlzewbhd4wiLCCMqNorea3tTq2QtHO0caTHGeG+6HlP0u96QiXSa
uLvIH+rqZ3ivSOlapSk1vhT7Bu8jdlms0rpN5zex/MRyDlw7oPE9pwtBEMibMy9uudxwzCFaBCQk
JRCdEE1YhK77P5F6perRp2Efvq39LXY2dkbNw5JExkTy8PVD3kS/EUXHiDBeRr3kaeRTHr15RNjr
MJJT1P//LvXTHGRQ1dkKQZDgm+7ht32D7cTudMau3RsKX1nJwyTN4pwiiYk39N8pE9m6dbLRIp0M
RdFx4uVjCIKEOGlHxt2qj1Q6goLW8uJ7ya8mIbh5IwjTNI4Vf2QO9WY8pF9JK7ptfUnKm59x/FF7
ITx9iI8/hpWVFSkpKSaNM2fOFrZu3UqhQhE0bmy6/YqtbRMSExNpZ+AtjT4IgsCLF3soUCAPRYrA
oUMTAPXftR4ehfHwKEynTo1YvFgWmfsWWRShtXVjHj9+TJEiRcwyt2yhzsyIF4TqQz6D4uRvnqEn
j6msz91iJAmp+sLDJFGA0xZNt3btQb7/vqHG9VmGkVJ5Gl4m3OT26tWLzZs3M2tWP0aPVq0YmDMn
eKRpEzHAM7XjREVF07btz1y+fIeAgP00aaKnR2CtseJPQhQsdlFdryjSKeIniCmhP6jm76fhXEKs
sKmP2DD4Hby8DDu89U5PnjNnC0ePHiU8/AS9exvnGwIQGHiZsDBH+vXTINI5F4fo55CsRqQDMdrK
BJo1a0azZs20N/IT4EB5KGfAObpbux9XphL3Vvxdpa9h/d4/0HxuLMoF0mTzv4+lChcEhoydUSLd
+irw7Tmw/bRTYzSJdY8fP6ZcuQi1fQRBguBcl5T3s1XSNxot2s6JIQWVllexlXA9SfPFYqtWuThy
5AgtprQwKApr1ItRANg42OBX2I+xkeYvomAqResW5dauW5TvWF5zPP/Lq7BJHhUzddQUJs+dkiUE
4E0tNtHjSA+D+/2z4R8kE9VX+DYVQRBoWKeOXmKGIh1at6ZDql+iIAgIgmDyjYc2YhNj2XF5B/7B
/py5d0ZtmwqFK+Ar8cXHy4cGpRvQoHQDvfzCsvl8yJ8/PxEREQafz9ZWVvwTLH6mXrx6FUEQ+OKL
L7h9W3zQ+PpqhIpQpw2fGj741PBRu04xLdTiWDlpWGH852FYRJiS35w6vMt707NuT7rV6oatdeYE
ESSlJLHh3AZWn1rNqbvK9411S9XFz8ePuqXqZvi8XB1dcS2eGllnoOvFay2Vgve8PIG7PQhCE1Z2
2ZS2XLASDIwxEnF3z5ho4UaNJJw8OcOkMRSvh2R/y35vHl8bgBfJwTrbKq6zazGGyy2ACSdSl3xF
bLqgfGNJSZEXArTS82GqOrp1E++53717h6urK3fubKZs2WJ692/RYhSVKjXAz8+PxETV+8O8LsZf
k2/fvh17+zDatatvsripSHLyCSAMCCN37ja8e2fcQwEZ2UKdBXj6tCRFi+pXXROMU7937DjO99//
ZnC/TKNQbfFGROY1ZsGbkk6dOlKwICxdOhyADRv6smGDgWKFGpydc3Ly5CKFJad49SqSAgXaExMT
g4ODtmIIQA5ncb9jI0TzfX2I/E8UE4a8F/urw94VhkbD8oKib5Ym7FxEkc42JyRGI14I6f4Abt68
OSBGedrZ2TF//iAGDuygs9/mzYH07DmdhIREmjXTISj3faS9gm5SrOZ15uKbE7CtsWF9Hh61xEzM
Q0yq8OJggN/U0jxoPCf8BBgSBTm0G8UaxbzUFOu+D/Xvk1EiXRau6moM6sS6jx9PAu4a+5SOPscg
98YslIg3NFs6tWL/h2Da5JLAELlwN/7yca4nwbq2jhyJhhYarqEaNxbH6XOhj0Fzn55jOhMTJhL3
Lk7tevfGmvchI0iOT+bfP/8VhTpFIv6BDZ6qHUZKYdTULHN+3T96X3cjNez5bo9F0l4FQeDqiRPk
ya3GDsEAHoaG8v3gwaneq4Yd6/3X9rPx3Ea2X1Yf5ehTw4dutbrRoVoHetXtlV0RMhuNCIJAyRIl
uGSgSJeeWtWr8zA0lGqNGqWd00VbFDfTLDMYKzUPr01EW9EIk8aVStmyZQvBwcE8efIYJ6dc1KhR
gzZt2hjll2ZjZaPzM0Mx8lGGr8SXlT319KfOYOrUGca9e+vUrnNPDYKXSv8GSEt7rdmpIUL+giRc
AJCnMeq6N549+yCNGxsedWko332np3f4Z0ZycjLW1tbkcTb9AXXu3LlVvnuDgoI4dOgQ1679w4fo
GNyLF6d58+b07t0bKysx4+vIkQsax0xKTmZyH+N8+hcsGMpPP/kAhYzqry/v3u3nzJll1K8/0Ogx
Pin3vU+FokWLAg1xcNARwWMEL1++Zfbss/j4TDL72PowYcIEGjb0JDx8N2LkoOrP8uUjEQSBI0fU
pA6WaivelCR+FG+AY16ZZV5Dhgzh48ejwCl27hyeJtJZmvz5XZFKg3FwuAycwtVVg5imiIObeAxG
StX7saljsYt2IcvWEfo/094GUo99qjeGn+Fv//j4eAYOnIfoMaf9p/uL6aT8DjYLDXxaqW4fEvWv
KGc0RRuBjb3uY6gJ7yxW/emj+shQrcRFwsh0USdnp8jFKkuIdLLjXel7MUJU3z6WFun+ag7bm2QZ
EcWcyMQ6GRUquGtt/19SMCuR5xt03/WR1k6w4xv5BZxUGswMrxSC4oP5bt9hWjppjrCysxM/E4rU
KqI0D12kJKaemxreot8d/07vsSzB86vPubnjJsSkFsrxE8QfmUjX9ZT8s3+kNNM99RR5fft1lpkL
iKLGw9BQFZFOGrGDEAXHAXdPT5W/FZfJWLtkCdvXrGHM/DF4z/NG6Cuo/JQcV5K1Z9YqpXW1qdKG
bf22IV0lVfuzvd92OlTT/eAqm/9vBEHgzKFDHN+7V2Xd0m9rsPyB8vdu+vO6/dqHKv1CTp5kz8aN
LFmyhCJNi3FhjPpIziyN1PwPYd+8eWPyGHFxcTRqVA3FextBOE337sVZubIHBw+OZ/v2IYwZU5cK
Fd4otdu581emTtX/e00bPjV8uD/zvtJnjkykk0qlfLPyG6XPsHVn15llu8Zy79598uVra1Cf4GGG
R8Z16ODHoUOHDe5nDP/999TgPoWcm7Ii+DUAgYsWkrtIT5PXvdgzE0GQZ3IJggTZN9X23+ZS5ysx
Y+njnTPYO8ltNzrU7U7DLksN3gdra/EBerKFItG9vb3x8/MjMDCI82fP8ueff/LDDz+kiXS6+Gn+
n0ZF+0mlwakinSoy7788VhIMyeOys5Kk9U1P/fqVgVOcOHHCsImmki3UWZDY2DigIf7+t5g/3zTP
GUGQEL9+JAUKtGfs2IxN+Vm+fDl//jkFOMWMGS05dWoxhQtrrvA4YMDXSKXBtGjhCJxS/6azdRJv
VpLijBdG0uY3ksWLu+DkpBrRJg3fK6ZuCRKW3EjE3UaC4keOIDQlMXgRkoWaI9FauTVO+3CUjaWJ
yMgDwCkGDNDT121wpHgcPHR4GcnwE8Q0PHUIqems+oh1sgqdJh57nduRoc92fI5prmqYERF1AMNS
t3PIiKiIquY3TTWJWPWpjBo58gNUS2fs6ydARKjlxCpF78EWa/TrkxEi3aqS0PGAWAVWDUOHDk1L
pzPmJyt4iyqKdblytdTYTvZUO+nhiDTLBtmyzn8eUnoNtjTNQbplqlSp8n3a39X7VjdozncP3mXw
rcEqT2ePDNfDU9KS/LdD/vdyhRsP38dyca6I5YzMTWVpecMv5AE+hH/IcIGvQw1PtQKdxEHgbgpg
pf4BWK3q1fl9xO8EjQhSK7o9mPWA7+t/j7WV5avrZvP/R5FC2qM3GtWoxoLj/3EwSv7Z9mvnWtxd
0UljH8/KlRkyZIjObccmxqYVOrjy6ApBt4LYdXUX686uwz/Yn9mHZzNu5ziV4hMWJznS7EOGh4cb
3ffcuXNcurQKe/tL6TJo9KdTp0ZMntwEOIWDg+W8VAVBUHmI0Lteb/yD/ZXEuyn7plhsDup4/fod
M2YEW8RqIC4uAam0Abt37zH72JooUEC1gIs2rAUJz6OOMbhRRyCO5qOu8e7ZWgSbLunWobQuoHdb
jesAvP6snbaNRxt+oWDqrXXi2aXsKjOA84dEL/Rc5X4m7uN+rIv6EdC7LdX8NzK7mPGFlSI/xOhu
ZAZuPjD+fasvVapU1umLLAgSIlM/gq1S7/eFtN+N6LnzDaS8wMpWvE/8q3tn3qXozozMleueUXPO
FuoyAF9fX4YPX4ws0mjOnHMIgoQGDQYzYcIqduw4zuHDF/D330f//nMpUqQTxYt/y+HD0Wl9pFIp
dj3PiDeZ6goTWIhatSoyYEAlunZtavQYYq77KRwd1aSGOhcXb2B2tzVKNDpxYpFOg0/rMt3YNaAk
q7aJoeOtCzdWEdti/92VtqyMYyMEQcLXy+4Rd20rg28dT2unb5ry8uXfcvas5spsKnQIEI+DraPu
tq+vaz9W+oh1lX/Uf26mYIhYV7yJ6H+mjiT1qW4WQbCGmxszbnuWwtCIun/XQpPF8tcLHUX/w/YW
vCBakGqk3Ptf/dr7CeqLjeiDNFnParYC9H2gUvxGSWyLj+dhaKjRPz6tWimN5+fnZ9w+mchk6WRm
ucziw4do/vjjQIZs8+zZf7l2TX7B0ta/rUFRdVtabyHvF3lZVkE5gvX8AgMrG5sD/+LyqLmALvLl
sqjUkVLIpd6PJStF0wHUHFjTqH7ziswz80x0s/tyqJLHl+zvDecu0syrGscun8jwOWWTjak8SpLy
05dlaeUsv1ZafS+BMv138s9C7de5Vx5dwaGPU1rl0fQ42Drg6uiKh5sHXiW88C7vTcfqHeldrze+
El/GthzLrE6zMiylMl+aFq7++9i2enOjxy5cuLBR/XLnzkXduknUrFnO6G2nJzY2kPfvMybyS4av
xFdJvJvSbgpT9k3JUPFuwoQJWFk1YtOmRwQGXjZ5vB49fuXAgSjs7ZvqXYDKXAwfPpzSpb/Vu71M
nrQFiA9BsHcHbCD5ldK6RFBatysgSuO6lvYSnv0pvw/3XFc17e/d8/ewb/Xf2KbewzoKorCU8jKE
XQFRVC1rRYWq7hhy5ezlNUx3IzMT8t9j3Y0UsLUx/IHazZu3dLaRSoNx1XiKCdy48lxpSefNf6HD
+AoAT88yerRSJVuoywTGjBmDVCrl9Ol/mDFjAz4+k2jZchS+vr+zYsVenj17xePHT2jZMl2Ug5Wt
eOFfsbdlI6FSiYs7xsWLKzSul0WiaYswUyQm5ihNm9ZQv1ImVK0tB3/pnzKsbyWZDstWc+1X8anj
gfATpK+z5FCxI2/Wiqat92LFC4e9g37AoepyWrs1ApIMCoMFGDWqv4E9EL3mRkrB2V13Wz8Brmmo
sKRLrGuoUNTB0ueSoZF16tpJLRN6rZYRSernkB5DI9YymlgD0j92pqvy5idA9wui/6GlWKvg6ZJX
j7LmMo88KyOtVefZahfpkmJVhLyjR4+miWmKQtuIgcb7TQC0bNpUabyN69albSejafJrE5ZXXs6P
P87C2rqxRbc1YIAf9eqpRp569dP/ibVjPvFhxuvbr802L4OYn0Muzn14Ii7LWyHduWWe/2NiYiK9
evVCEAS+/bYZa9aM48qV1Tx7touwsG2cObOM2bP7U6dOJWxtbZk/f75R24mLjKPV0lZmmbOlEdx8
qKbwEaBsym/Lw5AQSmm5si1f3kB39GyyySAehoZSvV5N4tItu7uiE1WHaX9g5lXCiyplqxIx9zmu
jhb83tbB4m4LWZj6I+P1X5tVlnXfJBcCFnZfiTQlWWn9wNHGv0/zjcunJEq1XdyWhccWkpSSpLGP
j09n3r07qLJcMSvHWFxccjJ9umF+rOZmSrspKuLdnpA92PSzSTtOBUYUIOhWkFm326NHD5o1Gw40
5OjRWARBwqxZm7VG2z158opu3aZiZdWI06cFoCGbNh2hdevMK9524/Y9nF30K6i31DsXiy9Giu9j
u7pIPwQS/NsIOm7cobTOFpTWrX21ReO6w3HKQSKRf8tTN7vsOEDc31uRnd39Fv/GMf8O3I/bxNpX
W+hUajxlvz+DviZEtWqN4MqVq3q2Nh8hdwwT6qb7Gm45kZSk+TMA5ME4b1OCsQNSVIp5nODqzEpg
VZCUxA1q+2qidGnjrFmErFi23ox81jtH4kexCmOzlVBFfQl2Y4mJCcTRUTVk29tekla9NjF4EU1D
unDqpy5IpcFplf9a20vYFheMplpO48cfYubMmdoncHG2GDmoI/rl8eO/KF68gMb10vC9WBXxw8bB
ieiYg5S1kRCWFIyjICFOGowgNCXhZHuahnRhb+4FuH43iw93zuJaaRJzN83lp2/ElBpBaIJU+rf8
y9rGA2niOq1z27DhAb16mWgs/d8O5UgNTfx4F3KXVl2uK4JocW5IeA8Iqt5k5kZR+NI0p+R4WGCv
2iZ4DFz6XXd/cyFNhnk20OZP+OIb9W3+ag6PAjNuTobiJ0DhutBNj8hOxfMko4onyM4HSxd0uLEe
zk7WXqhiRSHo9wwE+R2+IAj4TZ9Op7aG+a2YirunJ/3792f58uUZts3khGR+tfs1LcJrxIgRlCoF
gwaZ7r21dWsQBw7cZ9OmTVrbGRJhNifvHGLfxiq1t1iE2p8N4Fk676cCXtBDNUpAFhnYbV83trbb
qnE+r66/wrmYM/a5lb9jBwwYgIeHoLY6uTEUK9aZs2cvU6yY9iprxh673/P/zk8Pf8LW0fxVEyMi
IsifP7/B1TG14e7paXAxiWyyMQcpKSlYW1ub9XwG1XP6wpgz1J5T36QxTan6urjbQrRdSQ7bqhyp
oyjOaWpjKAu6LtCrXfi7cPaG7iXgnwAODvtZbRtp+F5sG4fzZsYLcvpMZUD7+azY7ouN/VcknOxM
jsb7kaYcRRAkHJlSjRbTHiFNVi+q+vgsZMeOv4zer4zk7qu7jNo+in3/7FNa3rtebxZ0XYCLg/mL
gGQkJ+6cYMflHaw4uYIUNYEAkrISfCW+dK/dXWn5gwcPiIk5RcWKJTNqqhmGlVUjtQLq4LmbWTKq
u5oe5sWQ7YxYuI15wzTcm+nFKd1NzMjEiUeZPn267KVBT3KzhbrPgfCzsLW+mW+u1Z/EmoQ6EJBK
xXLOuoS6jh1/YdeukxrWpiOwHzw4CL5PNDa5dGmVWUPVzUG1akMICTHjBdnNDXBIhxpfspXoq5Ue
bSLHiRFwJTUKw+LiV4q8umfeiprTHf0EyFcJEOC7a+Kyk6Ph8lx5m6wgJKWPuMuKQl2/p+BURHc7
1zLww39ZU6Sbn0P0Lyyqo3KwOvZ1FkXX9lpq1qvZZ1kEnSbcPT25FxrKF56eJJM+qsd03D09uXLl
CtWr6+/fZipRT6NYUGIBk5KVCxUtX76cgQMHMmNGX8aP76mhtxw/v22MGrWUOXPmMHr0aP23/ySK
5IRkXEvpjgaZKkzlh9M/UKx+MaVlZhPqjg+Dq+n8iYrUh67afV5kQl3BagV5fes1E2InaGynONc+
ffqwerXlCmG8eRNF7twt08yhFYl9G0sOpxxY5zA8jcQi4ujVhXBcFArOuw6k7o/LTH5//TxtGlt3
7bKISPfu3TvKlfuCL74ozIoVIylfXs+COMCsWZv55ZfVnDt3jpo1jUs9zubT4cmTJxQvXtws3xfn
L1+ma58+REVFkSuXQpEnKUYF9AbdCqLT8k5ExUbRPm973D3dTZ5jZqGvUKeM+nsemVD3xbM/uRF9
EkGQ8DbuBHnsG5NwsjNNQ7oQPKxgaqDCcQTrThqFOmvrxiQna7B3MRF/f39mzvyVR4+U75VcXJwZ
OXIUEydONOv2Vp9azdLjSwl9ov5c9nDzoEHpBtQvXZ/aJWtTtVhVte2M5cX7F/wb/i+3n9/m0sNL
XH50mZvhN7X2qelek29rf4tPDR+K5NZxXayD5cuX4+b2ms6dG5s0TlagadPhHDhwGnt79X6KB85c
o3V9Dd7oZsQQoc4c4qG1tTXJySdMGkMX06atY9KkP9IvNugT2sgcomyyFIXriTeaCx3F9K1MEAxO
/FyOfI028Pqk7giy8HADUvKapfpl+AmQr7JcuFGgZs2+VK5cievXMy4CRRPe3iMICrpkXpEOoEIv
8WdpHrEypzoeHFQvtMjSYNWdF43nyYU6PyvLRtUJVmLU0soi8OaGGDGpmIKryOv0Il4miGCy45YY
DbY6ypPrW703o9El0snISJFOlpL7zQndbZfmga82GCfS+ReDelOh0g/q18uiN9Ptc2ys7sIlds3m
ULp6K1ya/sb7Yz+TdGsp/e915fjEptwPDcXdsxoPQ0Nw96zGpOo5+GHNBTw8PQlLXffg2DTKDHvN
vU3fqx3/YWhohkf/OBd1pseRHkTciMCtolva8gEDBuhdHEcUbpYwcuQSw7dfzFlv4af92vZKIp1Z
eHMT1qVLwa4+FL5UjfjQhFsFNyJuRsQDSGoAACAASURBVPAi5AV1htfRq0+/fu1ZvXqUITM1mLx5
nYGzuLl1ICJCOWV4Tt45RoltH59/xNXDTCl2/sXlacRtt6e9J+sA0h+WpqWEh548SW4X/SM5duzd
y+jJk3F1dTXre2n37t0sWTKTY8fmkTs3vHhhXJTMuHHdGTeuOxAHnCIk5C5r1oSwePFiXV2z+QQp
VqwYUqk07Xw+ffAgRQ30Uwt7+JAmX4t+dWrPaQEib7zBtWJetf0D/gmg26puRMdHpy2T+dO9X/Qe
ABsbGwZvGqy2f1bn7vm70NXwfh8/xqotSCfjRvRJBKvmhG74hppNflVZf3GVD7vvxYOgeYxXr14Z
PjENbNiwgY0blxAYKPrb+vqWx9d3s5YeohA5e/ZmTp9+RkBAgEnb79OwD30a6p/Om5icyLWn1wiL
CCPsdVial2JkdKT4OyZSJWXbwdaBQrkL4Z7XnbxOeXFzcqN43uJULVqVgi4FKehSEO/ymVOYS3ZN
9OjRIxo2rM3jxzt09Mh6lCzZkwcPHnLsmGYPwccv32aISJcZyETzXr16MXLkl1StqiYrzQhevnxL
4cIdSU5OZtIkI+5d0pEt1H1ODEutzOInQAlv6Byovb0Wtm8/TpcuX6osD1LIk7eVDCVYAgwTl8ku
/w/Eac/TXtfCQJN7UE7L6xkC+T2VVl+/Lgo73bt3p2pVZ8aM0d/40xwIgoSUlBSCgi5ZdkOD3oq/
tfmn+QlQcwxIZsuXaRPr0vzspBj9OFZfnArD1/tgTzsxvbnct+CW7kug+0XYXEt5maIQ5mScUbBR
OBeHRU66BSxP0zzLMg0/QYwUyiiRDmBZasXhoo20t1vtATVGQzkjrrqvLoIux9Wng4PoLxjwjdp9
vnz5MuXKltW5iZZOL1jh9xXunj9jU34QQd08wUrNzZGGm6msiIe3B1OFqfwc9TM5cuUwuL+skqyx
UVb9rupXcdCztydTraZSrn05vtktpj/YOBhxOZOcIC9oIiNvBeh9w/CxgAqdK3BymhgtXnOA+gip
3T138+U08bt11qz+rFypXqSzEiTESoPT/FStBAkJ0uC0izZBkJAoDcZekJAMxB/rQ44mvbAVJMRI
g9X60URE7KZJky/5+2+xQJI0WcrgO8bdkPsV9jMtmm6BvSiWg87PHpkgkd7DsWeXLtSvXZuC+fPz
6OlTjv79NwcC5dc9lSpVMqtAd/HiRWrViqdDh3x06GD+IhrVqpVh8eIywClsbL7U6aeTzaeJuvPZ
LV8+xgwZQpsWLXBIjWyJjo5m76FDjP9VLgxZW1vrPKf/W38bp59y892a77jy6Eracp8aPmzvt52P
Sz5q7NtlZReSa1sm6isjOLjwIEK0wMqeK/GV6G8J9P59RZycwlSWC4Xbk/Sf+Lc05SgA93oCiJHn
waluOM9jrBjSdgTSpK1qx8+ZsznR0bofAupi7dq1fPVVHnr1KkmvXoYXoRo7tjtjxwKcom7d0Zw7
lzFFmGytbfEq4YVXCcMqqGZ1SpQowePHLwCIioqiTJmSPHu2ExsjCh1YmkWL/mL27B08eyZWV33w
4KHOPnM2HsqQtFdD6dehsdnG2rBB7jV38+ZNKlasSI8ezZk9uz+FC+fT2X/AAD9WrNjLvHnzGD58
OAUKYNbI2ezU18+ZJa4Q/87oG/Dx43syc6Z5ve+srRuRPCfdfGzsYZiBX2BLXCElEYZqvuAAuHXr
Fi1aNKdYMVcWLhxCjRqmpchOnryGadPWMXHiRKZNm2bSWGZBW4QdqP7vtQkyhqQjmsrW+mLKNkDN
0SCZozqXFqtFMe+H/+DaKghMPReLSuAbPVOnzYGfAA75YGCE6nIZQ6P1q9ibkehb4RRU2k2ePJm5
c+cQGrqGMmWKqnT78CGGfv3mEhPjyJ49ew2bk5rtqbCtMXQ5JlbgNRQ/md+iBjVMj+OiK/VVHa1r
V+PAhRAA3D1r8jBUvWivbZ28jSdBQUE0bWp8tW1TWCtZS/EGxWk60/Dt/+b8GwkfEowWcfQV+mRp
ppOlk7l78C4v/3lJg58b6N7Ax3AxqleRLxdAddOrnEWGRbKo1KK0ealDtn8XLlygdu0EjWPJPF+l
bw/h+KMtcXumKZkVO/gcJ+6vyQz+O5AlTZqJ61LeIlh3RCo9oWOmDZXmYgwG91X8rhqRrOQH+Snw
4MF2SpYspHZd/fKdeBTnwOMHm1QqtNVx/4p/qo0kdrc3yVHPsXH5Ju3/GLhoIdNO23Bq+yCN201O
rqc2ZTmbzwv7jp2I27UTgDt37mBra4uHhweg2Xdu3M5xzD4sfyCbwyYHi7stpvGDhpT9Tncxhg3n
NvDdGjHlPnBEILkdclNzRk0KOBega00jHpBlARYeW0iJvCW4MfUGToOVDXhezXuFWy43DT3Fm+tb
tzZTqZJ5/cdKl+7NvXv3TR4nKuowzs46sjuM4NGj4pQooX/Kfjb6c+vWLSSShhQtmpdVq0aZfA+q
D1u3BtG37+8MGDCI33//XXcHLfjvCcb3a+MLqRhCRnnhGcrQeVtYNMKswT/ZHnUKfNY7pzd+VlCw
hhipZCCurrmJjDQtRBpEI93Nmx/T85UexRWGJ4gVbvXBTzDpJuvBgwfcuHGD8PBwIiMjcXV1xdXV
FQ8PD6pUqYKtrcI8ZCJD/3DIqf6CPdPQFmGX/vhoEir0KfZgThbYiREt6rbnJ4jVPVOSxHV3d8G+
TuK68t2hlXZjerOyqgREPVY/RxlZzZ9OQ1qnEotyQmJMWpuEhAS2bJlC7976VbZS5NmzCPr2XcXB
g4e0N/QT4LvrqR6EGjjYE97f168IhrrxNe1zShLM11H5VQFBENi7eTNVK+pRkdaMuHt60q5dO/bu
NUAAtQB+hfxou6otZdvoji5Mz1RhKkP+G0KeMnkM7ruk3BIG39YvyksmFu3rs48G4xqQp7SW7R3q
BTc3yl8LVqJgZGYUBURN6ydLJxMVFYWz8z8ax6nt0phcfUcyv949am2sTJW/f8VlwDj+6FmYYhWr
4OBznNgdYmSeIEhIiVyOVZ6RSFMO6zHLhhwcfJBWS4yr9Kq3SCf7jLdxkEf8f4IsWjSMoUM7q113
Y0YftrRcwQwvMdZRECRM616FV/UHsHhAxTShNXa3d9p6UaiLQ8gxiDNDYtjWfiMLJeojQlNSUrCy
0hF9nM0njVW79qTsU/95HxUbRRO/JiyOmk+9SPGGuWqxqqzqtYqa7pp9DZ8cekSxr5TFl6BbQTSb
1wyA9T+sp1fdXvTb2A//YH+8Snhx+Rd5ClzZOmVp9dOnUQlaRlJ8EktPLwXgu3rfsf7sekDc19aV
W5NvuHJ0zIclH3CyU3XT/u2336hc2Yo2beqZNB9N5vzG8Pz5HgoVUo3Y/3BhAy71d/L41nz2WLmz
p2Jjfv0QTB1b0VP81w/BvB/Vh5aL/tNRldL0FL1sDCM0NJQVK1awa9dOIiJe4+LiRP36lSlfvjgu
Lk4UKCCmAkdGfiAy8iNv30Zx9epdrly5DUDDhg3o1KkznTp1omhR1QfqpjLRfw/Tfb82+7ia0Feo
W3fgDL1bm1YwxxAsICBmC3UKfNY7ZxAyI/8qvnLfNwOwsbEhKem4wf0+fIhh+vRjzJmTGjGlTVBS
R+ut+qW++Qmit01ZH91tTWFjdXgVQoZUSTWUt3dgrZanNYoChS6xrvtFKJgB5taaxK70y5+cgO2p
qdjqIvAsjbpIMCOEul9++YUZM2bwzTdN6NGjOc2a1cTOTlWUDg29y4YNR1i2bA9NmjRh+/YdODlp
Ks+ihrXl4e1t7fNSOAdKly7GvXtb9B9fAytX7qNfPw1P8PSJpjs7BW5tFqsYG4o2kS72DezraHAk
piw1adLo0fzQ3bJP+tw9xXT+kydPIpFkzBNMXUy3nc7ERMNNqKXJUqbZTLN4tNYG7w30CurFQo+F
DAtT87BGVr1Zkb4Pwdly0QPahLrllZfTcmFLSjYRIzb++GMcP/7Y2mJzUYen52BCQ/+xTDSdNCX1
eEvVRyF/smivENeqRhcOXXnBjGvHmVDlS6TSYJWISBWhLv4cVm5BvF0Sg+fVbjxcoNkH6NkzD4oU
Mc38/P+JatWqEWpARHSvXr1Yv369BWeknUNXrvDww0V+2vYTCUnyKNs2VdqwoucKiuQuwsVxZ6k1
S3/h6MKYMzj9lJtKk8WHYrM6zWJsy7EANJvXjKBbQbSp0oaAIeofxAvtBIZ9a3qUcUayZdgWXr18
pRQpWL90fWZ1mkXD2XIhatCXg1jUbRHWvsqRqrHLYrG3VTbUL1SoIJ0712fxYt2VcI8du4K393AL
fYer/wySfZ4IggT7rydR/9A0FaGujq3iAwL1XL+em8qVK5t5ztl8ygybt5WFI8xTgV4f9BXEMjry
TtFX1ExkC3UKfNY7ZxSxr2GZGwxPFCOWjKBcubJAAhMn9qJt23ppodj37z9j27a/mTBhFb/99hvj
xo3TPEjcW1iq3uxWI1+tFwsqaESaWhAhi1WtzGgCusB/GoxNDRHrMmrf1AleiufHSCl8fAYrU58Y
1ZsKdZUrU1qcY4MhdKnBQl3btm3o1asWPj6qfo/GcOXKHWrU6Kvbd8lP0O615SeAdQ74KZ7w8N16
+TC420h4mKR4oZeCIDRWe/Gnkq71ZyN4Fqz9nPpvBxz1hcFaUrk1oU2k21AV3KqKRSmMpFRhF8Ke
RwHwy8iR9Ompu/qpLqJjYqjl7U10jBhp9PTp0yx5M26soDPNZhrSZKlRfWflnsW4d1q+PxTmVrJp
SR4ce6C8nUdB8Fcz5cYZ9HmmTahTdyznzBmQYZ6qTk4t+fgxmnuH7lH6K+OMk6VSKa9vvcatQmoK
WVKsWMgKwMUD+pie4pX10CzUfdg8nuOlBxE4pA/5Vu1niueXhEUdw8O5qXahLvVvNyt4kRyskjKr
THa0iy4Ub6Q2LFuGpJ7+otaqDRuYMU/0HGzZsiWHDumIDDeSsIgwhv05jP3X9qctE162Y9ukHvjU
0P2QWVMKrIzwd+EUHVMUqVRKj/zd2ThDnnlQYmwJHr99TOCIQI0G/HGJcTgMdMC7vDeBIwIZsmkI
1lnQa0sTUqQs7Kpc/MdtuBuvP4oO2oEjAvHI50Gp8aVU+k5uO5mdV3fy7zN5IbOYZTE42GouDpGx
qP8Mymkl4X5yMAUixc8ZY4W6b79dzpYtpj+szebz4N3HGHI7ZaydT1YU6rYFXeQb71q6GxpGtlCn
wGe9cyZjhqITZiP+PSwxsHLm4Hdgp6ECnJ9gcMU+g3lxETbXFgXP4YmW246xrHKHqEfq1ykW50jv
FyRLm8zIqEF1opefAJX7wt2dMOiNvE1jP/AakTHzUjdHxfnJUBAB7O3tiIsLypApaUyt0CZcyUzc
R0q5eNGfWrVUvWy87SVEWQlcCPuZ+k3n8EvI3wx0lDCpuS0/HkoErABxu5ov/lJvLmUiq7aU8ecX
4MNj4yJiNe6ricL9X81EwWdYjJi6p8DXX39tUmpq6dKluXz5Mi4GVLDMTIwV6yztgRbyRwj7+uwD
YHLKRDFqXBGF//28efMIDt7Dnj0zjJrP0qW72bLlPGfOaE/JNlSokxEQMIu2bS2TzlGiRBcePXqe
9npru61022fck/KpwlQmz50ivnDICwNfa23/ORAWFoaHh35FsHTdEBtK+/a/s3fvPrON9zkhlUqx
srLC1taWu5fMV8jL3dMTQRAMSluMT4pn8t7JSp5xAF4lvAgYEkAhF9XvPteu3Xi7dYve0Rrxb+OI
uPyKos2LcyP8Rlq0nKxqqyI1fq3BlUdX2N5vu1YR8N6re5SZUIYCzgV44fdCad3Nmzfxv+av19wy
m0OLDnHn7J20VN6nvz+lSG7lB19T9k1haoD4+WxtZU3SyiRO3zudFm0nXSUlISmB/pv6s/bMWrXb
6d+4P8u7L7fszqQSFhHGpvOb2HJxC7enr7Lw1rIfBmQjZ+zSv5g9SL3dg6XQV4A7d/0+dSuriu2W
wEKiYLZQp8BnvXNmITFG9Koa8AIcC2T2bERkabqGoK1Awk9xYG2nfr05yMrRdaA53VhRcEp/jObb
QUpCxvrxpRe+NL1uOAtqjc2YOSkiS6PTItRNm/Yjkyb1/h975x0WxdlF8d8sIIiioiJ2sXfFXkFU
NGosMVHTjKaIxIolscWI2LtiB4yxJRp7jT1Wgl3sJVGxd7EhdXe+P4Zddtk2uyzFfJzn4WF35i13
Ztu8Z849N8NDu3OnFCVLlkzZYIy8+msAnJ0PLeZCrQEYu0vr6+TNtrhDOAvNCPZ2oNze/fR1lhR1
6oXorKYtGXJ0v9GYTp3KSd26dZPPkwKGGvEDe31H8gG09PMT8xAWFzXcTxkvKem+uWrZmCC9xqIy
XT7PaSGuMhsZTdaF1gml92nzxYw0xJiaPCrTHjpL6VzHjh1jw4Zgpk+3bVXmqKhH9Ov3Kzt2/Gk8
nlTHvKTBEpqNaUb5D8ubHNvBwYGTJ0Pw9DTdzhz69ZvN27cueil9Vr0e9w7DH80QRRj349j39j2c
VuzaNYM2bRpk2HyVKvXi6tVrGTbf+4SjR4/i5eVlcdEfueg/bBjb9+zRUa9Hv4tmxIYRhB7WJa+6
1u3KlI+nUMatjEVzmPKmS43Tt09Td0JdwDAxB5A/ID/R76K5PO4ylYtUNqnAm7prKiM2jOBc4Dlq
FNdPuy48tDCPXz8moOX7kf4657M5Os/VBFzMghicc+grgzrM66BRNg5sOZDgz4J1yM+HMx5SOG9h
nT5XHl7h1/BfCd4frJOibEt4lfeik2cnvm78NQVyp2QdFS7szqNH69NlztQ3crLx/43MKuogJ9V2
97GLfNDQhMe1DZGYpESpUuGUQ6ZnvnxYRNS9X2W3smF7ODhLC9Ljk6QFtTI+syOS1F1DxZQ/Oe/p
mYL0lzqddqgoecpZ6o1nCYaKUhrhTAFu7ki/eazFUBG+uay/faYA2z+V9s/R9eVgcPL7YHHR9I9P
Df97KY9f34HPjKQbqdLnAsks1BVIjZDI4eELjZJ0fcr60G1Vyt1qQfBO/t8M8cEW7CssMrAvxePE
UfDGlGazZEkt5eSDCOMNz86X/tcaYGI0TSRpUoa4uLhokdhGSLr4V9aRdAArahnut7EdrP/AcpJu
pgAHAmBIUrqR7oFioIbIed+Qlth/afyLxX16n+5ter4b22CmQK+ByUqD+sOl1y2ZpCta1I2GDRNt
TtIBeHgUZseOkRw9ugClUl5Bivsn7psl6QASExPx9PwW8OLOnVI0a/YTguDNyJEh7N9/mujoNylj
3n/KunUH6NYtEEHwZtCgDUjKCC8WLNiYNpLu/tGU39Vbf8JQ8f+apANo0+YHGjcextOnL9N1HkdH
X8Arm6QzAVMknYenJ6U9PYkWQXy6jrIdZwO6j9W4u+prvKaf1Rtj/rRp/NC/P4IgIPgJdAvpRnRM
NCFfhSCGiTp/a/3X2pyk23dlH4KfNPfYrWOpU6qOZr5JHSdp2rn0d0HwE3j06hEvgl8gholULiKp
5Eu289AbVz3m8DbDEcNEPZKuW0g3BD8BR3tHxDCR2AOxFh1XZiD482AEP91r/KblmiKGiaw/vR7B
T2BFhK71xbYB2zTnc+7+uQh+AtUCqxG/KB4xTKRw3sKac3X69mkAKhepzLQu0zRttP++afKNzvjf
Nv1Wr42cv8PDDjO09VAdkg7g0aPHfP215b+j5pAjR8tski4bGixY/1fmVV6VsUzfdtR4AS5bY/Cc
NelB0lmMbKIuGxKaBycTTo7ShfmdvzI7ohQMVaUi7kwg7kXK4mKmAJdXQJGGuiqo6Ou2j3GQlErI
pvbSHKLtqwmmCfkrS/GVSuXbdG2tFG+rEOn/W630noFvpf9WkJyCIDB16vdIii3Df7NmSRfBV68m
Eyq5i6VUBgwrBfFGFkNv7hnenhEYKkqKz1SYPHkyTZoYN+JdfFPF2u66d2cFwZvNNwynyKriX6c8
EVUkAuY0pt26tZAerG4MlbvrN1C/jlqVLt3cOhoca1/cYdTJngMP7addDjT+dGryzpSabt++U1Qs
kqzQNPaZ3fGF9HmxlBRb3UTyDOzzSH/fTAE+/hM+PShvrJlCSsr9UDF9U+WT8f9G1gWKgdyLuEfM
kxiL56v1bS39jerv9s0dwa0GbhNuIiJKSlvg8ePHwBEePNio1/XN8RUo7DuREPOKNvV+Mjhn/Mkl
eHTbip0WYR4f9wpB0K+82bRpDezs/iZv3jyabSIiNb4yXhjAEpQsWZJ2Fz5EFEUmT15Fy5aDcHVt
h5qMK1bsY7p2HcPatX8hiiJz5swxOpZZki72acq5DXaGYk1TfnO9ppAUl4TCIfuS8e+/I9jS/jFB
wl+IYlMEwZuwMMOG/HKwd+8pBMGb9esfo35d4+OzwA3TLI5D20yfcyFXVVxlXLqMW30Zj1JuBvf1
79ULwGoyzhicPv5Eh6QL3h+sIYUC1kgKNt/KvhryZmzHsZq2dSfU5eRPEey7Il07vJn/RkMspUYR
n2LER8eTu39uBD+Bp2+easZMjbKjyiL4CXSt0xUxTOT2VOnmX0hICPO6z7PJcacHtk3fhihKx9Rm
Ths9wq5Hox6IYSI9GvXQnOPU0CbKagTV0LRTk7J1StVBJao021++0782Xfr1Up1xfukpkWq/hv+q
6af+6xbSzapjXbZsGeDFwYNKLly4adUYAEqligED1gJeJCRk0o3vbGQ57Iy4gF+nzCtkprBtwYY0
o0kN63x8bQ3rqglkwyTUvhlDhnzKxIl+ODnl0Nm/f/9pWrUawpQpUxg2bFgmRWkCQ0W4tFy6YP/m
skTyZCWoF/aGKvqlxs6e0h/AR1ulvolvpWPr9xyc8ts+trm5pbgc81lnjG8EiYmJNGxYn7i4V8ye
3Z/Wrc1XZT179h9++GEhFy/e4fHjJ9Blj7QjNfm211+KN6Q4fH0RClQFh1xS2mvMQ9OeZ8koWLAA
T59uQhDkKbGGDPmUIUM+BZ4CT8mTpx2vX7+RKroeHgabOhju+PaB2bHTHanO3xdffAHcMdr85ZEe
KBy7EBe9lBzO0qJeXalLdX+oXvuU0ZOIjpeemaOzNm7UOuftVurHq04f1vIjfPo0mlmz+ie/DrZB
fHwivr6DpblMVVl9fAq+tZA0D3aGT3ZDcQN+Kgvd5JN+MwWJ2MmkdHU14fU+qpOsiX1UzCgm5Zpk
8fF2/KUjJxeepF7ferqfOWd3DVGbAxC0PzFJ4YDhhXeehksQxcPkSFaoFrfzpsG8UDb2682R+3vw
rjKZBXXC+XHZHn7ZPAOAxX3r4pSzA0NWGPYsAnj1KkVJLSBQu1dtvTaGtplDYkwirqVdLe6XGpt7
bjZ87l/dgiXJ5EMZ06T5xJwT38v3qy1xPPg4uwbtYvCdweQpof4e1z9nf//9N3v37iUi4m+ePXtK
TEwMRYoUpUKFinTs2JF27dpp2rZq5YUoDs6wY/iv4OWrV5QqUcLo/sVt4yhdvwM3dxgrQJbElTsv
sFdAXHxS+gRpbOZcZzWE0ZzP5hDQMsBkiqm67cWgi5wafQqAC3MiwcylueAncMz1KG/nvzXaRu3p
Bhgk8ADy9c/Hyc0nqfeR+WvOjIRKqeJhg4cIfgJimMiuQbsA6bhdnV15EfxCp736+Ir+UJSHrx4a
PN6r41OU+IKfgP9Kf8127faOfRxJSErg6virVCxc0WiM3zT5Rk9tt/bUWj3C0MHOgaVfL6V7QwM3
WVPBx8dH83jAgAGsW7eac+d+wd3d8HomKUmJl9cAnJwKcODAQezsYN48/RtP2fj/xtlrd2jbKPMq
/yYmmRe4dGlRNwMigREL1zOlb8Z69BlDtkedDSGXoEiNdesO0LHjcBwd09FHzVqcCYYDg7Ku/5oa
L/+FXyzw9Bmqgtd3rU+7M4ekOAhO1iSlYfzw8HAGDPiOM2dsZyTbu/d0qlRpwSCGgdJIQuXnf0PR
RtJjMx58cXFxODnZzsi5R48wVtRMRTQNToDZyYR3npLgZ6RIRkbg2h+w/TPdbUNF2rZtxM6d0zIn
JkBjBpyaVA12hu/+hZBiRl9De3t7kpIOpDmCihW7c+3abfO+jTKIX4N9BryGHC6624+MgH82wbdm
0sTUpESrEKhh3vssvZEUm8R09+mMfD0ys0OxCpaSdUFCEHaOdoyOG235PGr/Obea0EM/3W2sMJax
YnIbExU61RXyCguSUq6YAu4oD2OX7Lso2H+OmLQagIUtfem7f5/Gk9FckYCjRwWaNm1q8LzsHLiT
tnPbWnLYgG08DX9v/zvNxjSjWP1kY/Xnl2BZssdLla9kV0N+X4llW2DfiH2ETw2nzZw2NAjIOI+6
bBiHIAjp5k+nRvTLl9Ty8TFfZd0MGk5qyPFbxwEQohujWh9usn2SKgkHfynlyhgRZMx/7l70PUoM
K6HxXTPWTiWqsOst6fSNEXQgkVUPZjygSN4i9FnaB0fnrLNOUfvSHbx2kOYzmuscx6NXjyjyQxGT
x+bc15nYxFiTbQAd77pCLoV4POuxzn61N+CR4UdoWq6pVcdy6cElei7tqUmz1cbsT2czyHeQVeNm
IxtykFm+dJbEkJH+dOl8PrI96jIaERERwBGr/Zy6dm2Oo+MJKlQoab5xRqN2gLSgnpcnfX3e0op8
5VLSdNqvMd9+pkIi6TzaSNUdbX1s9k666bb3jC8eDeH+/fuoVIdo0kRlU5IOIDT0RwYNqsPjz9ex
KOd8w41WN055bKh4QjKOHj1qlqTzsFenkLWUFd+KFX5sKbdZd+OWj1MevzauXMsQVDSsPtu5MwIn
J98MDga2bQtHQ9KF6FY5494RKaU4t2mvwaSkJMCLChWs+2EaODCYo0cFiaT7K9n/zpYk3SJ3qU9q
km6mALUHmSbpEl5L7VxKSGNkAZIOwD6nPT3392R5i+XmG2dBjFGNsSgNNlAMRBlvgSXAtm4wUyBg
VDCx75K9VA2QdCCp2KL/ldTL+sFruwAAIABJREFUhw4ZX7zHqA4z5fPBOOVuS/DquUZaqXB1bk7i
0GUAXN8xAIXCh/1Rpis5N21qfIF2Yt4Jk30NwRbE2KTck/jk908oVvZlSlrrmbkpv5XZJJ1JxDyO
IUgIwq2KG4FiYDZJl4XQokULPDw90238Z8+fW03SOfZxRPATcOnvwpM3Tzg26hhimEji4iQKOJY2
2EepUmpSI+0V9poUSmNqrQbTmnByVIofbekRpRH8BJ6/fY4YJhL8WbCmXcIr3fRGwU/ArredJrXT
GNRKNXXF2kXfZky1UznYNzHl+9inog9imKjxmQMonLewZptzX/1iEgDvFr5DDBPpMK+DwZRYNaoW
rap5Pcq7l9e8TtvOSenXam/ApuWaUvnnygh+AutOrbPoeKoWrcqp0acM+tblz5UfhZ9CL4XWa5oX
96Iz0QomG/8J7Dp2kdmDPjPfMJORUf50MbHxzBmcdc5HtqIujcid25m3b3fbdMz4+PpZU10Hkr/b
0oqSwkmR+SaLsjDbAVQWpDakh8LOgsqwGzdO5OOP9X0CfJ28+eeradwOaygVIRAPcXt+AB4DziGK
B/F18mbCm8OMdvFmfzyAAlE8SEOPtpyrNZTYTYZJpHfv4nC+eQ92f6u/s3kw1B5o4hgME5Da6hMP
e3W10Jaonk7Hrvg0VHFrABWCohWiypjXmZf5irWZhTd3IVSLWE8Vj7XqWkvg6zuEfftSkaQzBfC/
n0LMBeeEgFhpe6+bkNfwIsEgZgp8sKcVe/bspUyZYnh4FOHevadcv36b6tWrsmhRCE2apLpTf2oG
HPoRet+RiDEDY1qlpDPUZ7YDDDZRYmOmAAWrQ8/zls2XwRBFkWubr1Gpc6XMDsUqBCmCCFRZpqwz
Sfpof+YLVoOeF8z2SV1pNTx8oUnPSFvj5cvq5MuXTxNL6lgtJbpUiSpUShX2Tla6k4hKghQTJCVi
gSrw9SXrxknGdLfp/Pj0xzSN8T5hYs6JJMUlMUY5BkGRhW9QZgMh2dfIVuq6pKQkytWtS/ny5bl+
3bQ1w7Zz2+g4X/J57e3dm5CvQky2T11AwjXAlZfvXmoUa5Zi9887aPOoPc/nPCd/LuM2LmpVnZqM
Mqcg67KoC1sit5AYYvj3tfvU7hQsVdDieG2Fm49vMrXbVE3RDG3Y9bZDJar0jlHwE/iq0Ves+Nb0
zQnBT8CjgAe3ptwyG4f265/POR/RwfpWN3kH5uV17Os0qe3koM+qPiw+tNhsu5L5S+JdwZuONTvi
XcEb9zzu6RZTNrI+Xr59x5MXr6lQUt/jMqNhTsWWUaq/DJjHoouKbI+6NOCff/4xStIJgjeJ4mGc
BG+UoLdoN5VGc+fORsqXN12iONPgWkFaNG/rBtfXSQtlRRZ/G2kv5uUo5ywg1WRDW5XoNUWqUGgA
7do14s8/jadPPvxlGISlvG88BpzF0cAhRSQcpmEyjxpxZiDO3xkPzdnZiWsOOajY96nk86WNAwFw
Ywt01SLTksmfr7/+mmXLTAysh0Tytj6STNLByQ2rQDBOSLdq5cveYf5w3vTFb6YgNQklqnS839Q3
QKKjo/HwKMmDBxvJlStVZV0rUKRIZ8aMGU+fPn30STo11CSdmuB6nlzx1xKS7n44KOzZvXuPZQEe
+hEQ0pek+3cL/NndOEk3U4CcFvjVZTIEQWBHvx2UalaKnPlzmu+QRjRv3pyDBw+abbd8+XJ69DDm
75SCHvt6MNV1KsOjDX+nGcLxucdpMDCVOmldy5QiRk75JQ/RZPzw+Ade3XlF3pJ5DY5XrEEx7h9P
KYTTpEnfDCHLBwyYw7x5G0jm6Awi4W0Cdo7mSsHoYnyO8ZYr2B6fhlV1OX2sDru2tCNQHAekXQU3
3mE8Pyf+bHG/J0+esGHDBnbv3s3hw4eIjtY1YK9UqQKenrXp3Lkz3bpZZ65uaxwce5BDQYeyCbr3
CKIo8vz5cwoWlIijL7p0YdJoy9LrAUrXqqX53TYmYOixtAcrIyRbjrX+a+lat6tZ0ksNNUmn9kd7
POuxQWJHDrQJt2PDjpok6QAaRjcFP+hatytr/deaHXvp10tZ32e90Tarhq+iSJkifDrJdt62cnDr
zC22TJOITo8RHkRNidJrowxV8vvx3xH8BBIWJ+BgJ10Ii2EiKyJWIPgJqEJVGoI3NdSvp+AnULtk
bU7/rJ+KqkaHmh007cduHat5Xbb230qHmpLH8qu5rzTtSw4vyd0Xd2WRupZiUfdFLOqur3i8+fQm
IzaO0Cj87ry4w6pjqyjrVpaudbsCcOzmMQ5dP8SFexe4/PAyZ+/oV0FOT5RxK0P+XPkpXbA0rs6u
FMxdkDw58+Dq7Cr95ZJ8Wl2d9f1ao99Jn6HomGii30Xz5M0T7r64S/S7aO6+uMu1R9c0bcyhZoma
fOT5ET4VffCp6GOz48vKGL14U6anvMrFz98a8S23MT5rVT9D5pGLbEVdGuDs7MS7d3sN7svZ9QBx
mxbh2qk30RvHkXCoC3l+KszZdvuYWXsBS9q0NLOIMGCWnhWxqQPc3P7eLIo1SF7UyIIt1YPnQ6XC
DWDknBlPkfV18mZb3CFcSs1AeWc7ongAwb47YnQ/8n71lnq7JmoUdRPepBB14oudOH/nYFRRlwIt
jzNDUBcjSH4cGBhIUJDhMY0p6vIoEtn14hAXDl+kPuep1Wk5osowGdSr13KWLFliOJ6s8H7Tjqva
N/DBUlndRowYwfTp03FwsMfXty5eXtVxdXXBxcWZR49ecPr0NSIiLnPz5n06derE77//jrOz4dQN
gzENFWFtc6g7VDKInylAvxfgZIEpvbWkGhjuZyuSbo4jdN6uX71Y3b6UL3Qx/J2c1ZGe6YUBAQHM
nSulek76+We++OQTs32+GziQ/Yelz3BiYiL29sZvyPw1+i9u7rtJr2O9ZMWjc6zhP8OxCSk7jbxP
TJ2ffcP3cW3LNfpd7aezXaVSUbZsCW7dkmGHYAGmTfudIkUa89VXX5mNc5zdOEbHjZZdMXWyy2RG
vpHpW6jtN1d7IEEt8tucZJLzvsybNw8dOzZi5UrLCZLUiI5+g7t7J0aOHEVQUMZUR7687jLruq3D
d4ovTYbr+3ll4/3B8OHDmTbNcq/Y6OhojSoWJM+w6mOrI4oiTco14ciwI0bJHXMQehRGSHDn4qzV
VClaxaoxrj26RqWfK1EkbxEezEgpqPXPiquU72FYjV1mZBminkfh6uzK5W4XcW9sWrWnTnU1B8FP
wM3FjXwH89FuWDuz7W2BrVO3cvOsbqVTc/EKfgLFXItxb9o9ve1gXlmobqsQFChD5ds22Pvbo1Qp
yWGfg/hFhis4N53alPB/w2lfoz3bBlhfNTot2H1pNz+u+5EL9y/obB/TYQxBHd/PyvS2xPO3z9l0
dhMHrx3k4LWD3H9532C7VlVa8WGND+nk2QmPAh4ZG2QakBV86bRhKp6RCzcwua/569a04v7TlxRz
M3Hn1TbIVtRlFMz9aH+c5wkbNvgiCOMAqNfFG/d8Z3gXmxHRZRA6J//ApIcKLT3hXicl1jVNJQWR
MaiLGOQuBv5p9IOo0Vv6U/sFWXy+BBo+20440KtoC6KTDgLweos32CpbeqgIs+wklZg2tCuHzhQI
ChIxRixqk9BRSYeTt6Wo8hp1qA5UR1QZ/5FYsmSJ9MBrilQwICvj4q+yibopU6YwZcqUlA3LqkmV
dtOK4Jwpqr67B6HbAS2FUjqTdIuS0yfSk6QzNs4cJ7DP+f589xhBelWCFQSBqpUqWZwa9svcFA83
B4dkVYKRG3stJrTgztE77ArYRZvgNmbHdinqolskAmBQHNgZ/xJrPbO10X1lW5fFPqc9Gz7fwCer
Uy7mFAoFt25JF9cPHjygZMmSREQsol49y9KMExOTaNFiEN269WLAgAEMGyb/RpqoEmWTdAA5C5hR
VaYi5xgqsuXbLSjPKAkUPzbd10IEKYIMFv94/PgxVatW4tmzrYBu1du0wtXVhYSE5O8tjpCUpKR+
/UGcOZM+hQOChCDq9K7zf+nB91/E9CtXrfKV6zi/o8ZzrK9PXxZ8uQBVqMpML+PI8X0OEpWJ7B2y
F+FlA52UV0swdddURmwYwcWgiwaJpfI9KnF67HHqjE1RKHcL6aZRUKn7HB8WbpKos4SkezzzMe5D
3Xly5gnC1wKdCnfCw9PDwiOTB5VSRbWYasw5O0dvn9qDzljc6v2p22ir5uIXxZPDPofR+dVtc/fP
jVKlJHah+QVcUohktXP036MGVXYAR4cf1TwOPRyK/0p/mpRrorM9vfFB1Q/4oOoHBvftu7KPERtG
6BW38K3sy8a+G3FxcjHY77+EArkL0MurF7285N2ABHjw8gHrTq9j3al1hP+rv64skrcIvb1707Vu
V6oWrWrLcC1Gz3aNTe5PSEjg66+/ZvXq1TRvXptevdrTsGEVXF1dyJcvN7duPeT06Wvs3n2C5ct3
0aZNG5YvX0H+/KYVvtbgzbs4m49pCJOX78hS5CVkK+psAMuKBMjBl1+O57ffLEw5yyq4uQM2tX9/
F81/j4UIGXeS8pWD7/5J21xPz8GKZDPk5PO1adMmOnfOeO+PihW/49q1VH4s2vFpw7WC5FUIMFTk
9etd5MmTy8YRpVoIp1bVZYX317+bYUvnlOfWxmQVYWtiHO3xLB17jiN8tBU8DF+8GURIMXj7QEo3
7fvEcExycXa+5HPnF5WyTe0HaIi4C3gnkXT/IVibapganp6enDt3zqaVET08PU0ugh+eeUjiu0RK
NjVRGGmvP5wPJeiHsVSvfZ6PT2+QPf8cjzkMijJc/W5WsVm8efAmTYRLWonSS39cYv1n63XGsGRM
g21FJcxKvqeaym8uSAiiyfAm+E6xfREbURQZpxinE0/r1q3Ys2eMzeeSi/v3n/LqVSWqVLFOlaTG
oaBDHBx7kB77elC6pQWWANnI0kjtAWcIKyJW0HNpTwCbqpk6zOvA9vPb9dIa7Tp9hHLLZhM99aEm
2kK+CqG3t/niR6d+Pkbd8Q0pPLQwb+Pf8i7hnR7JeG/PHYq31v9edu7rjE9FH/4M+NPsPLn65eLu
tLsUGFQAMUzkdexr8g7Mm0J8KQQCfg+QeZSmcfT3o5zaekqW+s0cyRi8P5hBawYZJOXO3jlL7fG1
eTb7GQVyFzAb182nNyk7qqymqq4lUB+Locqx2hi7dSxB24JkpSpnJlKn1apRpWgVxnYYq0mtzQo4
ceIEn33WjVKlCvDTT93x9ZWXUXXixBUmTVrJli1HmTRpEiNHylS7W4gDVw+wPGI5y//WLy72Ua2P
6NW0Fx/W+NBm8xlSr3Xp8gmtW5ehd++ONplj27Zwxo1bz8mTp6yOSY3tR8/RvmlNm8RlCjfvP6VM
MTfzDdMGixR12URdGmHrC9fo6De4JhQG99o2GzNT8FsDeHQChih1vLveKyxyh3dPzLdLK8miJqG+
uQz5K3P9+nXKlXuIQpEx523IkE3MmjXLfHw6ENB8vIaKjBnzNePGWeJXZxjTp6/mxx8Xmo8hKxB1
oBtXphJ1olTJWDsO9QLfkrEtjeVBREqFYLkKOGNY0xTylYc2v6Zs+6UcVOgiqSq1x20+R6pI/R+F
LZR1giAYJOk8PD2JiozU+l+PqDPbKdPmF27uGQVApVqe7DwdSWkDX0HmyLogIYjhL4bj5JrKk/F1
FIRpkSJDVQQJ4yw6TlPnJXVBCWswp9QcBt02TATKwZKGS7h//L4mhktrL3Hpj0t022Deg03v2NTf
LQaKQUwrMI0qXarQPqS91bFaGk+lSh5cvbrSZJ9qTs244toW1aM/Napq8cEWjrt1or2TN6uiD9M2
b4otQvz2SdxtNITyBVtrtgmCN0niYUy5+l286Eq1atWsPq70IjezkXkwRNJtP7+dDvMkFVOB3AUI
Hx5utIqqNRixYQRTd001Sqi9fveOyn36cn/5Mlnj5eqXi3cJ72T73qnhM92Hw9cPIyKaVIhdCblI
Zf+Uz429vz2v5r4il6P5G63B+4PxrexLtcBqOoo0kEg0URRR9FYghokEBATw16W/aNmrpUXHEfsm
lhU/rSD2SayGfPNf6U/o4VDc87rzaMYjo33lKAKNpcIC5BmQBxcnF+5PN5zeaGy8wA6BjO04VnYf
gFexr8g3UEqvezjjIYXzGjfyzyy1nS2w+sRqJu6YyKUHur9fbau1ZUTbEXhX0C+aZyvExsbi7Oyc
bj61Pj4BdOr0FYMHD06X8Q0hNjGWxQcXs/DgQv598q/OvpolajK9y3RaVTFgC2MAV6IeUtlDUtjW
r1+PEydMrAFtADe3zjx9+sxkm8xOxc3A+bOJOi1kyMHt3buXVq3SbhTv6fkdkZHX4fY+WJ/8YTNR
eOC9gNogPKsQK9bgxjbYLOMOQ1rIg5c3JFICNOfKzs4OpfKgdePJgJ2dD0qlTN8NU0U4BAUMURIX
F0fFiqW5fdvyO4CVKn3FiRPnyZMnj7wYssr7STum5PNg1Ri2IntbzgfPftaNa0tfOkvH+mcDOLtD
Ma2qaKnHmCmA9zSol/WqT65cuZKgoCBu3Lghq70gCIwYMYJJkyYZbZMWsk4QBP49dcqgr5yHp6SS
VZN4ElG3ibId1nBjxw+aNsaUeOaIOr3Y7x+FNVoKWS0V5C+NfiFvqbx0WdNF9rGd/eUstb6rZXBO
gDzF8zD4rnUXz4fGHaLZmGZW9dWOQX3slryGq1qG0b1d8mI/jwf46VcdnOA0Acc8jvz4JP0/AxMc
JzA6Xkp7rVu3DqdO6aeeaSNq2U+U/uYoongIQUhegNl7oLr9CcfdOnGoaQtOD93Guk/bAnAu5jA1
kq031Z6mCsGbuD0dsWv1g0miToJlPr62IHKzkTWh6NiJw7N+pOXMliQkJQCkW5VNtSJPjqJKjsIP
JMKnuGtx7k67a1Esz94+w22wpP445n6UBhNM+yuqq7+q5zSX9qmGKIrUHl+byLuRDPIdxOxPZ6MS
Vdj52yGG6pN22lCpVHz55ZesWbMG91LuuJVzQxAE3kW/48bpG3g382b9uvW4ubnx+/Hf+XLJl5qU
1XcL35HTIadsT7mcfXOaTU01NdaNpzcoN6ocUVOiKFWglNnzAkjnobcdNUvUJHKM5ep1NRFpTmUH
sO7UOrqFdDMa//uGFRErmLt/rl56bRm3MgxvM1yWmjQ1lixZwrffls8woQNAzpytiI3NmNRMOQg9
HMrUXVO5+VTX03Fgy4EEtAxg1vIIDSG1Z88sWreulyFxPX78Anf3Tkb3j12yhbG99Pf/MHctMwam
f8GpocF/MDMgQwrkZBN1WsjQg7O2yty2beG0bDnQsGF87LOUSpzvsVH6e+dhZwxyqsaWaZ/i3Wft
+B3WSUoiYOPGjfTv/z0PHshPETOGli0H06hRGyZMmGC+sbHYDCFV9d+HDx/SuHFD7OxUDB7clc6d
vShatCAPHz7n8OFzjBnzK2/fJvD3Nw8p5Yq890VWJOpCS0qpmWpYE9fp2VAnjXflUn++Et/CXBf5
8UQuhL8Doe9Ty+ds9xtU/kJ3uyXnYUMbcMgNHbWqzGmPsaoOPIm0jgRNJ+TOnZuYmBjN87a+vgzu
04cKZcvK6p+UlMT8JUuYs3ixzvbw8HAaN07xDbGWrDOmpgOJaJvdtgRDDjhy69h6PaJuTLvaVFp6
ii8KG77QLV2rFkql0qxH63SXYfw4dnrKhlYhkj9nKlh6jMbaBwlBNBvTjEPjDllNxrx58AaXotZ7
71hM1MVFw4L8BP0wlsCtl6CD4Zsc2/23c2PvDQJuZoyKNEgRRKAqJe4WLery11+zTfSIQxB0VXGp
FXUNtesxJf2DkCsYMX4+jgpv4lUp/SQIiOIhM1HKI+rCp4azb8S+bILuP4QHLx9QYlgJVMk+ulM+
mcLwNul3Q1utnLMkVdYcSacec3ib4Uz5ZIrRdoagJofsFHbkzZmX53OkCtnaRJwh3Nt9G7eWhXHq
42QR0SP4CTQu25i/b/xtUE2nfm5qzFazWrF3iPn1i+AnMOGjCZy6fYrNZzcjhomcu3sOz3GejG4/
mvGdxhvt+yr2FfUm1OP6xOtG2xiKPTUKDy3M49ePLSbDBD8B38q+so7TVFxyqsIe/fcoXlOl78A3
89+Q2zG3VXNmZey5tIcZe2aw97L++ezZuCeDfQdTs0RKOuTSpSP49lvbpYdaip9+2sXEiRMzbX65
2PJ3BH/eWEZQq3YULmzYT25A+ebM+OeAYevzxAs4+l4j/pD+DVbt337jMPzbvfnwWT7y1r8JmxFK
t+U7wun5YYYVksom6rSQaQd348YN2rVrw507d+nc2YuaNcvy7NkrDh06z8mTl1mxYoXBinFmkRQn
mcaDVBChu7zc7ywDdbXVgFiwT7sKMb1w9+5dnjx5gqurK0WKFCFnTgM+WLNzgCrR9EB+UZBH3p05
HcggNleuXMnKlSuIiIjg7dsU0kChUNCkSWMGDRrMxx8nm4s/PgWr6qWd4Ep4DfPyGt733T+Sd58c
LK0A0ak8/szFNsteSucE8JmVdnLLVtAmEBuOhibGLyT1IWLhd7Y+np6HFTV1yVJLyDJlvFSQwVL1
HUDFbtD+D93taVHxHRkhef99c1Xal4UUxWpi6sNWrVgwfbqZ1tYhKSmJcnUl75SNGzfSuXNnq8i6
mTNnMi4oiPNHbO+halZRZ2Ga+pMLT1hUY5FFx3h53WWqdNX1KVOfp2kFpjHs+TDZY6XGs6vPKFjJ
Op9QWUTdfFeIfwkOzjAwhrvhd4l/E0+5NvrfnUFCEM3HNcf75/RLEUqNhLcJTHaZrBP327dvyZ37
bIbFYA69ek1jyRLThMnkPJNJeJOQTdC9x1B7dYHke3Xwh4O4uaT4B8lVrFkDSyqDpkbzUT8R3NuP
Gh4eOtv3XdlHq1mtZHvPpcadF3coNVy6nlzrv1bPA+z+vru4NymCfU7DdQKrBVZj7kdzaVGrhew5
BT+BioUrcu3RNc25UKqU5Pg+B38G/MkHVT+wiY+cdjv1WNp9LK3Uaq6dUqXE3t+eOqXqcGq04XWU
4Cdgr7AnMcTMdX4qqD3x0qJ6KzGsBPei71E8X3HuTjevtFQrPRWCgqSQJKsrFL+PePbsGQULXjG6
X3ywBQefByRd74MgNEMUD/F9CR96DqpKo6ELEB9swc5jLldj91PRvplGFS6Kh3WIJzkk1IQJhxg9
Ou3Vz9MLuqSX8etD9bGKL3bi/J0DN4bGUcxrGmCHmDBXQ9Q1qPQJJ649pUbgUs6NLSfrHCkUzVCp
9Av1KJUq7Ox0bxArVSpevomlQF5b+6DrIoPTbrOJOi38pw8OgNAS8OaeRHoFvEflZJMNxfn+IeQy
7s+Qnpg7dy5z5kxjx44pVK5sGZk2bNgiZsxYQ1JSEoqNH0jpyqZgjcpOveB1doc+xr05ZENNsn0e
DkVNV/uRHVtqWEP2WNI/K6rq0uKft7kTfJTGhUZqUndfHzi3WH4clpJrS8rCq5u6c1ozjqHU1l43
4cwcODM3y7y+o0ePZuLEidw6ezZDL35L16qFKEreP3/2/5N289tZ1F8QBLb9/jvV02i8r43+w4ZR
rkoVZs9Opa7SLnggzQ5DpQsxOURjkBBE0bpF8TvpJysOQ2OqtwUJQSgcFPycYF1Bjj0/7KH1DOMV
Zs3FBSlE3Ta/bXQI6wBLK0oFeAQ7GJJkMG5t3D50m61+WxlwfYBVcaQFxl6vgwcP4uNjPiE1vXH7
9iNKlTJuUp4Yk8ik3JMY8WoEjnlsVQr9v4Hbt29z9OhRzp49y507d4iOjsbV1RVXV8nzz9fXl8qV
K2dKbOpiDCClvt2YZNpGID1IOkVvBaIo8mDGA4rkNV4h1ew4qWJTV4C1VvmUkJSAYx9H7BR2ODk4
8Xb+W6NtjanqBD+B0z+fJnF+rEnVXeo+VyZcocrPVVj2zTJ6NOqh2Q7y1XRy26QeW/ATaFGpBfuH
7jc4ryk49nEkflG8RfMZQqIykRzf52DHwB20q27Zb7BaNXll/BUqFbas0rihGOWmc8cmxuLcV8rQ
kpve/D6jefM6HDhg3JrBEFGnJpTyfrSblwvjcA7IQ9z6QNRqbmuJugMHztK8+UBbHp5NsXrPcT5v
ra4QbZyoe3V0CZ9sdmd243+pv7I6cZvHEfnHp3h+uh4xaRV2hRegvNMR+4o7qR9ziNd9Q7k4voKs
c2SoeOHth88pVUS/mEtm+9alEyxaSLynLv/Z0KD3XWlBGxALO3tIi92ZAryVb4iaKWgVIsV9brG8
dFIboVixoty4sQY4wsCBtbh5c7XFJB3AtGl9UKkOoVCEQ5cxlFtUnOefmZDb39wuHedv9eVPMlSE
/i/h3WPbnKMceaQxVzeB2Q7m25uLzRAsidPQGH+PtSqcTEU+eemOBnFjq+3iUMNSks6S6sX3jmiR
dFp3xGYKBj21TM6bmqTzvwdLykDz4CxD0tWtW5eJEycSFRlpkKTz8PQkJjGJRlP078h7eKb4fjSp
7YmKFH84gITDPxP1Kk5nmzZunT3LzTNnEASB59efc++YvgG2KYiiSIcvvqC2j49F/YzBw9OT7Xv2
6JJ0t/dJr52apLNzlF47rfeGmjwzhUAxkAenHsiO5aPlH5ncr0rUv1srF2d/sY1y7N8RH9GhUkfp
/Hx7VTovqUi6+RXnGyQci9Qpkikk3dlfzuJew93gPh8fH8BLKz0141Gr1gCTJF2QEMT0QtMJFAP/
r0m67t27IwiC3l+jBg1Y99tv5FCp8Klfn6+7dsWnfn083N05FR7Oh23bGuxXqFAhnj9/bpPYbj69
SdXAqgh+AoKfgP9KfwC2DdgmFSUIEzOUpKv8c2UEP4HXsa9RhaoQw0SbkXTqY0xYnIAYJlpF0gl+
AsWHFQcgKSTJJEkHULC2fsVCNUlWu6T8InXt57UnZkEMlUdXRhRFDUmnhpowKjsqDdc/BqBOYXYN
cGVAiwH8dfUvnf25HXN0T56CAAAgAElEQVSTpEwy1FUHT2c95dEr8ze4Uyv2UsPBzgExTCR4f7DR
NsYw5ZMpiGEisQlScYznb637DKk/F+tPrde8p0whp0NOTZ8c9jlQ9FYg+AlEv4u2av6sjuPHL1vW
IeYYLh9LRSBfb0lJVU262k+nWfSdf0AwYEllAvv2Zd0st9GLN2mRdPDwofH3Y96mvdg3owPVPx5M
7CZfRPEwNbv1QxQPgF0xlE8nQc6GJN0J4u/nB7k4vgKALPuv1CQdwN6TFr6GNsTwBevNN8pEZBN1
/yW0XZG8SBLh5o4U0m5b+pswWo3GY6V4Q4qnK2HXokVz4Aj37/9B2bLFbD7+v//+ToFij2i1q55p
L61HJ1NeFzlwzCudnxx5pD6bOqQ92KEi5K+c9vOdHmRdhOkFfZbEd7rVl9hs3CzV5piVTLh23Jg8
txVl1eWmKwP8kbxI92iD5qbQbAf48oRkgC8Hhkg6QQGimGUIOjVOnz5t1OtNjWoNmhAxoi4vD4+l
jn8YzeqpPTYSeXtnH6Xr61ZDvvUmntL1vyOH93g88jqZvLWmUCi4dvw4kdUjWdlqJcp4C3z6wkoj
zgAvr6Z4eHrq+eHJRdnatfHw9KSz0JmxjOXCbxekCsMzhZSiR+obL4MMGyrLIesqtK9gto0aNXvU
1GtbpI60uP7h8Q80HW69iXzcSxuYQs8U+G1qrZTfYyOv8vPrKRfKL6NeSt5wYiA5cmeOAmJrr618
f+57k22kLAwvKlb8jnXrDqR7TCNGhHD0qAB4cfas4c/i9ELTNUrAUTGj0j2mrAZRFHWItbJFixIV
Gan3F7F7N8GTJ+PfsycftmpF0wYN+LBVK7745BPGjRzJgS1bDPZbExqKe6FCmvFXrFghK66pu6Zq
iIUc3+dg27ltlHErw6WgSxoiwZwXV2rYgqQLWBOA4Cew7dw2roy/ghgmkieniUJWMnHu1i2qly6O
4CcwYsMIzTFaA3t/e8qNkn6bn8x6Inucsp9V4NK8c5rnqZVsDaY2Mfs7EvU8irql6pKrn5Rupt1f
4SctG48Ml9Q4N5/eJDLQ8iIKxqD263v57iVzP5+rsy9mQQxv49/i8L35G815cuahwugKGh9DU1CT
s6YIsN2DdqMKVSH4CQTvN11EJDVqlayFGCby942/reqvxpzP5mjeU+rPVdXAqmb7qQloV2dXnPo4
IfgJXH101aoYsiLevTNTQKRoJ5Ku9wGQvE9zNeT1Bt/k54cRinYidl1z7Cp+qvFGFcXDuJYsj6ja
pRlHDgk1btyv1h5GuuPl23c6z4sU+YidO49l2PwSMWjYny7y+h29bRdu3M8QNV1MrHnlbWYiO/X1
/wXalUuzdFEKUVoEtl0OVXqYby4LhuW9apPrBVVacq7VOAotHcm+OOmL2NfJm/3xAApEcS+C0BKn
j8YQu8lXoyhwa96XJ399ZnBsR8eWxMcnSOm9e/1Nh9coUCIs5UBNgtXoLS2O04qZAtQeKKmYrMXD
Y/B7I/3tstOxk19zbRgjbE5Oh8PDTLfJDCwsCLFad6fSK+3UUH/t+SwZz5pUVZA8F/2irBtjcREp
3R2kKscvb0gedxWz5s0EU0UZAO7FQ3FH8PCsy5haChynHKPQ/Fa0Gr9fKtIQeQKPWk0pJsRw5Ewk
ZZKrqXrUakLU2XCT1VW1ofaFW9dtHfX61MOjuYfhhtu6wfV1Rl8TBwcHkpJS1AgFCxSgtY8PeVxc
uHv/PgeOHuVdbMpntlSpUkRFRaHoKJHPqmZbuX65AquXSsVDLPX/MpcGGyQEMUY5BkFhnuzfN3wf
vlN9Nc+fXHxCoWqFNONYE5+cGHWwswdcXik9brucoKq3NPPKOVb1/hnuM/jh8Q8Wx2pLpKXKMMD9
+/fp2LE9UVG3WLZsBB06yDdmfvnyLdOnr2bSpJV07dqVtWvlVQ7f1GMT51ee/7/1oVOrfMePGsVX
3TL2O1StBN4auZXOCzujVEnkT2CHQMZ2HGvz+ZQqFTk6f4xyy2aL+6qLL5TMX5LbU2/bPDapGuen
KB53QJlGElHwEyjkUognb+STc6lxfFg4jV564eflZ5AINVV04lTUKc7dO0ev5b1Y0nMJ3zXVvdEk
+Am4OLnwet5rzXM5cVb6uRJXx8sjh7TTUdVpw4aUb3LmHbFhBN4VvGWlrb6Je0OeAXlkjS34CWkq
4pAWD8TUcO7rTGyi9LutClXJtuhQ+/QBvJr7yiZkdWbC3t6epKT0v3lkCJMnr2LkSBusyTIJrVvX
Z8+emeky9qVLt/Dw+IRcuYz7zBlKcc2ItNe5a/cxsJuv+Ya2RXbqazYMoGyHlLv7XfamqLrmWl/h
Ln2QvPDPV16KL9w6nyE1jh83/cXZtZAPj/0XcH6h/kVLRMJhRPEg4IDq+UjNdlE8zJmN3/Dm4UOj
48bH7+fatWsSoTZUNK2yiwiSjvWEjMpfQ0WpMuD5UNsoEIeKkh9YWsYq0tAwaZgUJ3NcA22M9av3
Y8rjDR/ICi9D0PeZ7vO/ZHpU1Opv/Zypz9G/W+QXLpmpgB7nzLczNJeapFtSVj5JFxctjaEm6UJL
wes7Uv8sStLJQfHk7LqoyFN8++sJvnRX0Gr8/uRtJwGBqLPhhJ+JRAEaUi7qbHhyG/MkXXd/f548
eQJA17Vd+ePjP/QbzRRgcVHpu8HEa5KYmKjxvRNFkfMXLtCsdWvKVKlCTz8/Hj1+rLM/6tdOMFNA
1WwrX7nfQ3GoI7/7jiVQDGTgjYEECUGMzyG/eEqgGMikXJNM7h9nN07WWL5TfflnR0radqFqhXh4
xvh3ss3w99iU389GY1J+Vy28sdQ+pD0gEWSZTdLZAsWKFeP06bM8f/6SDh1GIN05T/mbUfg4l9cV
0NsOXuTL15aJE1cgiqIskk6VqJJ8DesU/b8m6RbNmEFUZKQeSRf8aV08PD3x8PRk/StR87jRlFN8
WV967PNFXwBmjx+kk37/9MDPeHhKBW0mj/Snincrg/NHRUZyav9+Onp25OGEhxqlT3qQdAC5unS1
mKRTq45UoqQosjVJ1y2kG4KfwIc1PkRII0kn+Ak0nSopgR/PsrziqDYaRjflWP6jRtWKxopNAHSY
34Fey3uhDFXSa3kvg220SbpHM+X5J/dqangsQ6jgLqXRzdk3h4TFCTr7NISdTDJqyidTmPTnJB6+
Mv/b4OLkYjYVVjuOgoMKWpwOq91fDBOpOLqi1WOo8W7hO8QwkYmdJ2rSXFvNMvy51Yadwk4TR56c
ecjxfY40Kf4yG9JNSC9Klcq4a8r27Ufw7FnlLE/S9Z/xm8n9e/acALzIk6edTVR2Z8/+g52dD+BF
1ao9TJJ0hqBUqhj1dfpX8L1+53G6z5FWZBN1/69QLy4GvpGqyKoXHvGvMjsyCUUbSfHVHijF9fC4
VcM0aGDaSL2tdyH2BVlewbFW52+Iu7rJZJtKlbTMYwWFVhqUERwZKR3riprG2wBU6KqroIraLTNq
IxgqSpU100LW1ehtNO1N1riGzst6M4buUXvMj5tZODvPfJtd30ALGe0M4fFpKJ9c0bdXsp/Plo9S
SDRTePcEEMGthry55mr9wKpfpz+8oZjM9MJ/NsIvZXXfs+1Xw2DdC/ALFy5Qr149gx5J2n8DB2ac
Ue/bt2/x8PQ0WKEqI9CwdWuOHj+Om1uK79Dw6OGSYkxNGJ2YKp3b7+V7vKlRpEgRevfuzY8//kjX
rl1xcXGR1Nfq34MzyalHbZezPOw0qq1bGLd6DYqOnXAt40qgGEi9PvUIEoJMEnDa8J3qy+KaptNw
134iT1H1e/vfdZ7/2e9PACp2rEj7xe1ljSEL2ufEvU7Kd7mRtPH4V/E4uRqvaj7BcQJ1etdJs4rN
VhifY3y6xxHzOEavUq81CKsXxnhHKd4GAQ3Md/gPQhAE1i9bRltfw0qAgD9OaW4CdMkr/f5GRUYS
MUIi4DadimRy9RskAYN/1jZhV9F+V8pNy5CdZ7h8cBFlO6YqHpOMggUKEBUZSaFChdJ+UCag6NiJ
uI0bZLVV+98lJCVoSAh7hXFiyhqoCcC1/msl77kun1udjtstpBs1xkq/xdsHbE+zwkqtcBNVxsep
E9SA1/++NNj36Zun7BuyD7vednqxGCKU3PMY9rRMje+8vjPfKBnXJlwDYPAfgzXbTkad1GkjipLa
Tg6ODj9K1THmU0Q1Y4eJKASFWQItblGcJg21x1LrMoCuTZCq6RYYVCDNhN2odqM07/l9V/Zp3qdj
t46V1V/tpRjQMoB8A/NpUrjfN9y+/RDw4ty5PJQq1c3m129eXv359ttfAS+2bw+nYEHrqsRnJBQy
shQAXr9+Q9u2PwJeJCY2pHv3EATBm2bNBrJq1R5u3nxAdPQblEoVN28+YO3aA3zzzWTs7Hz46KMZ
vHxZHfCiVq1vUSrlW7XULF9C53nA7NUULZjPgiO0HNGvYwge8nm6zmELZBN12ZDSE9ULD3Vxh5mC
tDjJbOR0k+J6cyd54WjbOz3frl/L9m9BkUO6AyMI3gbMspUoCkwmbvM4nTbV/Uz7KXUzlopijrB7
el7X/8kYhopQ5SvY0Cbt6jqvKSlKS6WV+fpqI3lDsIasu70XktKvkvGzZ89o2bIFhQsXZMiQT1m3
bhynTy9h377ZBAcHUL9+VQRBYN26dfIGHGrhxcClZRbHrMGquhIBBpC3DEQulN93kbt8JVzEOEhM
9rUok3x3a8cXIKqk9HRz2NAWrqyCfi+QUpyTFbPJVYcVCoWGgPuwbVuG+vsb9EjS/ssJOsTdZ58Z
Tj+3BXLlyoUoipSpXZtKDTKOFFi8bBkenp7kcnFBz55itgOBsycR1ERIIdltAfX3vtoiwT6nQbWY
ausWWtSogaJjJwp++SVtgtsQKAZSxrcMQUIQl9ZeMjlN/f71yV0kNzsH7jS4P1AM5MrGK7JCTl2d
VV1w47Mtn5EQk2BysWoMResWlR48v5RyTl7dTDkXZc37hC6svpC+F/oa3a9MUGr86LIC0lJ8I6Og
SpJUdM3HNSdQlTXOW2airpEiNGqU9vTkhhHFbue6nnz+x2NS01cennU5PrWN1hYlNw5toVD1aibn
+rF/f/r06SMjasshx5Nuxu4ZEnF2aq3G/05d6fLp06eMGjUKNzc3nd+N4sWL069fP/75R14xpdO3
TyP4CVT4qYKe91z/Dy1Xfqh98tadWsfmfpsRw0TyOVu/MH0d+1onDbXBtCZcmG1csX0lVPd7WtFb
gSpURYPSDRj8x2CjhOG/kyRP3ppBZm4oa+FdwjtcnV1lt0+N0R+Opv7ElEJsF4MuAlJFVrl4EfzC
IiJMGaokp0NOBD+BV7GmBQximEjTck3TRLQ9n/McMUykx9IeaSbs1DGJYSIDWw4kaFuQhrSTe85e
zn2JGCYy5ZMplBpeSqfwy/uCmjVrcvv2QxSKZqjV2/36rUEQvClRoitDhy5g9+4TGvIJ4ObNB+zb
d4qpU3/Dy2sAguBN9+4hPHpUXjPGkSPnWLp0aSYemWU4HHmduUO+sLifg4MDq1atQhRFDh06S/fu
4ylT5lNcXdthZ9eMMmU+pVu3Mfz6658olUo2b95CvnzWfYd90143q61UYf0KsLbGz6GbsVNkfRos
26MuG6ZxeQXs7Ck9bhUiKacyGzMFsMsBg8wTSkqlEju7vzMgKF3Y2fnIv5vw4gr8akZp8MUxKGKC
KNjQRlLWOTjDwBj5gRrCLHsQlbbxTkuNit0kTzJL+g5RSopENeJfwvzki77+0eAo74fh4MGDTJw4
jL17rfdhSExM4qOPprNjx5+GG6SO3dQ5tNafTt1vpgCCnVRJUu5YFs2p5R1YuD58eTy5umuUvBTb
2TlSVHMzBchdFPzv4+/vT2hoKH2++YbhAQEyYzGNcnXrkpSURFJSEnZ2djYZ0xAKFSrE06dPAZg7
eTId27a1ybgx795R08uLpOTvjMTEROzttZbRMwVwyC0poLWQJkXWmWA4MEh3m4V+lR+MCWRvZCSL
+/Wl9wdSKvrp0NNs999OzgI5GfZsmNG+90/cZ4XvCka+Hqm3787RO/zq9ausY9M+B6kfg4U+dTMF
rl2qRMXGCSlKVZlIiktiYs6UCnLG5g0Sgmg6oiktJ7e0aPz0Qkap+tIyT5AQxJd/fkm5thYUvvkP
w5x3Zo/6nhxO/urttuAka/vV07T/sr4nP/wdSa3krxdN2qtdeaJOr0veVpeoyFOaff4hBxnZwPjv
rIenJ8+fPyd//vxpPLIUnLlxg+4zZ3F54QKD+w15fL1+/Zq8efNqnn/RpQsTf/rJbJrkrIULmRsa
qnl+9OhRmjRpQnxSPE59nPCt7MveIYZ9nS0tbuE+xJ3qxauz/8p+m/iTgXQuzo89T/Vi1XW2m/Ki
uzT/PFX719D0PzbqGI0mN2LhlwtpVKYRNUvoEnGNpzQm4kaETmqo3PhHbhzJ5I8nW3xMALkcc/F2
/lu9+Sz1qtPuZ+l5t8RPrszIMtx6dssmr63gJ+Dm4saTWU/SPBaA/0p/Qg+HUrlIZa48vMKyb5bR
s3FPi8fJMyAPb+LepJsfZTZsi4zwerMlVu2KoHsbA77nNoRSpSL6zTsK5rXOYzKNsIiJzybqsiEf
r25KvlQgKbnayqv8lW6YKYBbTehh3udpyJBPmTUrDX5gFqBT20C27PzLfMPUuH8U1hiuiKOBKWJK
lSiRIwC974JLcctjUOPuQVjbPG1k3Sw7SXmVGgp7GGzirt6VVfDnV7rbUsehTYiZifHevXu4u/+D
g4Nt018Uimb6kvojI6RURDmxWUPUiSqpcEWpVnAt2Y9sXh5IeGte0Rf/Cs4tgvoyUxlSn+Pr6yFv
aSn1T07fwYmwvBpE/wNd90MJHwRBIG+ePJw7bL56ljXw8PSkevXqnD9/Pl3GBzTnpfGGRkREROjs
yp8vHx3btsXXx4fqlSuTN49kzvw2JoZbt29z4coVdu3fz+G/dW8eKBQKhqiG4KJwYYxyjLRRXRjC
zA0SiwiQ55dgWSp1TBq/yxOVShw7S2nY2gvWkNohPDr7iNFxo7FzNEyeHgw8SNORTbF30v9sBglB
1Pq2Fh1/MV3J+Ld2v/Hln19q+lhM1Knf53aOxtP3ZeB0yGm2f79d89zYvAuqLMAxjyO9jhn2bOrb
ty8hISFs3DiBTp1Mp5e/fPmWUaNCWbRoMydPnqRu3boWxby45mJqfVeLBgPTVy16669brGqzip8T
LPOc3TdiH+FTw7OM8jCr4K+//qJly5ayPC7TG3VbtuTZ8+f6yt80wnvESA5P0SV3OszrwPbz29na
fysdaqYoW0VRRJGsjLDFOSlfrx6JiYlMXzedH7oY94+0hKSr8FMFop5HkahMRBmqRCHYRslhjnhS
JalQ2Bue68nxx9TbWJ+rE67i3NdZk8ZpaDxtsqr7ku78duI3xFB5r7nbYDeezn4qq60ar2Nfk3dg
Xs2cqeM6FXWKehMlq4yaxWpyNvCs7LHTm6xTtw8fEU7jso0tmsfYWOUKleOfifLUn3LHLF+oPP88
kca0llgMWBPA3P1z6e3d2+IKztlIf8QlJOLoYC/b0zEzsCP8PB82SbHiyQhiMZPJy2yiTgv/6YPL
dMx2AFWSlHpnofrAppgpyFpk3b9/n6tX19GypQyiwQpoiJvTc+BgsrdG+Y+hozxvFQ20CTdj+Owo
FDNSVe/XSvDiWtpfl9hnsNBNKjog188sNTa0hahd+tvzlYXv/jXeL7UyTbvSaOr9JsiuatXKcvHi
MlmhWotnzyrrelTIJRH//BLamTZ41YO2mk49fnqo6VIfw4MI+KOZnq+c7BiB3LlzszosjBpV9NWj
6uqnNWt5cvJsJMbe/Ucn+tJ9nVS4w9iCzMPTkx49erB8uYzUXEugPp7PwzWpu6nx+PFjVq9ezbZt
2zh79izR0dGAdOzly5enXr16dOrUiXbtjFSgS4olyGEavl3P02StvO8NUSXy5MIT3Gsa8QqKfQoL
U3lIObkmpyPbDqV7+XH7yRPOz5tLtVIpiktzhJkpolEuCTnBcQKj40frtH9w8gE5cuegQKUC+hep
8/NJxHVON+irr1a4ffg2pbxlFmZRD1lxPs+vp1R+NhS3sXMhCAKiaBvyOiLiEp9/PomoqDtm22ak
mm7A9QHkLy9fcRUkBFG7V206hJlPNf5/xKNHjyhSpAhL582jhZeZG3zpBA9PT4oUKcKDB5b7Y5qC
NgF2+cFlqgZWNarecXZ2JjY2Nl1IS7Wi0NA6yenjT3j62ypccuY0OcaeS3v4YI6kNp7z2RwCWhpW
kSuVSlavXs3mzZvZv38/L1+meMi5uLhQv359WrVqxZdffknx4tJNWDmEkylV3fFh4bz7NoEWM1sg
honkD8jPi2DDvwuCn8DuQbtpXbW1xUSXNcSYul/FwhU11WJzfJ9Dp7iEtao6a2OylKxrMKkBJ26d
sKly0pL55aD0iNJEPY9izmdzGLRmEDkdcvJu4Turxhq7dSxB24LoWrcra/3l+cxmI33xPqjptGM8
dTWK2hVLoUhnYnH5jnB6fii/Mr2NkV31NRsZhMGJ0iK81w3JM0vt52NIRZWeGCpKJN1MAZZXN9qs
WLFitGw5CPCiW7e5tGo1JE3Tvn0biyB4c/9+GcArRV1VZ1CKn1GHdTDHMeXcyPF/UzhIfQeY8MVY
01QaLy5af983V6X+r26mzXMuZ0FpnBU1pYIj1uCTnRKxkRovb5j2rUtNKL2+Da9uyZ5WqVQiiofT
naQDKFjwCrVqGfEL+s2IUuXQD5aTdACtw3Sfz3YAe+Om9RrMFPQr05pqq8ZQUXqtVjeWT9L1uqFH
0gHExMQYJOkM4craH/Hw9MRv7XUe7xmJh6cnFfpsoOlP+8wuyKIiI1mxwoZq31n20vH0e67jr2cI
7u7uDBo0iP379/PixQtN9dQ3b95w5swZQkJCDJN0MxXSHKokiTipM4QgIYhb+82/5wWFQGjdUN2N
l1ekfOdok3Tq7yUbk3QAt5aEodq6hRoDBqLo2EmzPVAMpMf+HgQJQYTWCdXrFygGagis1HAu6Ezk
MvMLcGWClDJc+ePKvIySFrhF6xUlf7n8jFMkV5FVf2fOsoP+L6XzYICkAziz5IzZOVNDm6Sr7Vfb
aDs1MRYTE8OcOQOBIzYj6QAaNapKVNRvwBFcXIyndWR0IQu5JF3cyzhNbNkknXEULlwYURTxHzIE
D09PSteqlSHzDg8K0lSRFUUx3Ug6wU/ArrcdVYpWMVpN1snJCYWRNGC9Sre1ajFs4Va9fcqY+5Qz
8vsdFRlJp7Zt8fHx0dl+6OJFqpYsaZKki7gRgeAn8MGcD1jw5QKNST/Azp079Yok2dvbs/a332jR
sCGHtm7V8WX9e+dOvunWjX8vXaJOrVqaPiyRSP41a9YYjcOpgPHrg4bRTTUkXUx8DM0rNTfYrsQw
yei9ddXWRL8zcM2Zjrj26JqGoDLkr6ZIXsZa6usmhom4BljmmyeGiXTy7ITgJ3Do+iGz7Y+POq5R
A66ISPs1idp3zm2wG3a9bWPxcWuKlKab00F6Lw9sOVDjkzd111QzvXUxtuNYxDCRtf5rCT0ciuAn
4ODvYJM4s2EdSrrbzo4gI7Bse3i6k3TPX8VkJklnMbIVddlIH6xvBbf3SY8HvIYcLhk394EAqVqh
OV83Izhz5gxXrlzhwYMH5M2bl2LFitG4cWNcXa03w9XBH83gXvLCTK7f1+8NzVe+NaSWevsAQooZ
3y8XCa9hXt708a0zlx6qjb7PIGcBSQ0zX50CLBhI+zxicDhB8EZ1fygOPg94MfkJRVc14avzE3ge
tIa13QsDoHAcSOLpOpRdXIML7faQq91w7AVvVGYW0yVKdOXu3UfyfOqsSXvVVqrZOUqEWEhx8+Ms
qyYVgvCWcdGlHXvrJXA+BApUhTa/mumo5WdXf7jkl/iVbiqKKV+l1Iq6ClpG6VGRkfj592DvydtE
nTnEmHa1qbT0FF8UNn6fSb2ItBoJb6SUYkjbe94YXt+GMA/Je3GIaS/LICGI9iHtqdPbhBL4+jpm
N4ig//D5ODhoLWY+OyK/Oq8N8e/Dh1Tw/x7QTYd98e8L5pWfx1d7v6KMbxmdPsaII7mE0i+NfuG7
iO+YmHMiP8X+BI9PE1R4O4EzxsJHW2UVgbB0ztR91DB2HN+f+x73Gu4oFApUKsMLvat/bqJGx2Am
/RrM0JZROPg8IOl6H8QHWzSPm1T+hFi3Mpw5PJ2ITZtp/PEsk2TfnDmnGTRI149w9+DdfDD7A4uO
0VrIPZ9BQhA9D/TEw8cj/YN6zzHObpxOsZTSLUpzvNJxFi5MKSyUK1cupo4ZQ/sPLH+dr9+4wdf9
+vHg0SPNtg8//JDt27eb6GU9ugcH8dvFsdQpVYdTo0/J6iPnNwUkX77fTkRqtmnvg/+xd9bRUdxv
F/9MPBACAUKQAsH1B8GluLS4Q5EGKBDcoTgkwYpDcAilRYqW4oUWd9fiGtwCARKI77x/TGZdZjeb
QPtyz+Gwu/O1md2d7Ny5z73wQ3k/fjlt+oaA/t+T3F268mD5z0bbdlzekb3X9/Ls7TNiFsXg6uQK
gIuLC/Hx0rk5JdR/5evU4WW4dDNO/2+fMVWdvjrLvbc70QuNh3cJARIxqFqqslmJZquiToZMeL2c
9RLvdN4GbVydXIlZZL11QXLWJh8Ta/rY09ftZeRLfAb74F/Jn5Vd7Hdz8tyDc5SdWJYNPTaQLUM2
qk6tSu5MuQmbEmbzmCM2jWDq7qlk9shsdRn0F9iGMUs2M7FH80+9DIs4dOEm1UsV4qcVfzKyk4lq
EzviM1AZWsVE2te06Qu+QEYrLePd01Ml7y6w2qzcJtQMkf7d3a5RErkrT5ApXbo0pUubVkQkG99p
XaBpHxtzF5PtT0r/m1OhzRTA0xcCtFQ4HtklomFuOml73obQ3IYf2i6eGpKoUiBUDrJ+DO1ySP11
myJDOl6ElVp3u6sG8jAAACAASURBVBcmqfxc02s10u175kwo5coVtric4cFHWbVnHC2yjkdMIukA
xPh/mDviEQ92bSXgl9es+zAcVyAOcBWqEScextg9wkePNtK8eTM2pwQvcmmxro9YYqzk41d9uuW+
r69C5yuW24X9rXns5A7FO8PNdZZJutdX4dckJavgAMU6SynCyUDYxQvkK1OR0ZMXEh9xh0vXbnLg
qPQdWPlURZgZki5ZeHkRViUpU1KCoJvrAfEfJGJZ4fiBYiB7R+wlWAhmxLsRuHpKF37s6QGXNQq1
QWMgeGgQgc8bKfMRTEHkz5YN1batuDZvgUOTpkRuWE9aNzcy5s+oo6DTJm/k1/UJneLtiisieh6f
fAx3t5MQkxSuUro/kJFX9V6SOW9m634ZpRB8SvjQu3dvkyTdw4WDKL+tJnEJBwEQn4YZtLk6qRs1
Vq9nUhnp51ul5s2AWWbnHThQ9/OQ2mo6S1heZTmPjj36rNb0OUJfeVqwUUHabW+nft6RjixYoAlf
ePHiBT169KDvcOuToQsWLMj+gwcpVKiQ7QtWgJzDcvI44jG/tN3L6gHKz7mjR4/mx77W+Q47Ytvd
ex9vb54+fUr27NlN+tLJRv2ARGglqUJ+//13WrduzbKQEOpUr27D7Mpweu9e9WNZoScTgy4ZXHXa
apN0t1feoOCRIhbJKmsIKXvjpxY/MWbLGMY3HU+WwVkM1lqrcC3239hvE+lmzpdPST9r+oqhojrt
1x7lq1nSaY6FECDQv3Z/Qtom//qqTO4yiKEiKlGFY3dHGpZoyI5+O6gytQrH7hwz8IhUgiktpzCl
pfS7MGRfSLLLbL/AMt5Gfv7H9sC5G9QsI12vPXmV8mrdjzFxTO/XJsXnsSe+lL5aAZVKRb163+Li
4sy8eQO5eVMqL4EjvHq1nbVrA6leXZKlp6iZ+b8N5YdrSq6qz9SUZK22zvjaauRrLM35zzJpvsuG
ZVefHNrHJi5Sc2y2mziRyG1N4X2Y1H+uXslT/0hJXXNvp3myzxKGiHAiGDbWsb2/MZhak3dJqQTX
WFvntAbNAwMDFZF0AH06FOCH77fQI48DbX7TqAZE1QG6DqtN8xXLCN3YABUQA7gAogmSTsbmzUNS
JmRlby/J9P8PrbtNjw5AWdNG14AVyj0RNn0LDknucAM+SiWfrYwn3alxeLhE0rXYIYWEDE6EjMaP
f58+fWjawfhdLFlhcEntTydw99wpunxbBmev/Jw+coo8aQSdtqbg6+fHRWsVC4mx0rFaVcryd8xa
HPpRGvvaSugflTS2dd/BOlPqEBj3I7N9gqWLdf3zWdKaA8VAgrOmjOLFFsRu/oOtY8aQrs13BuWw
7Xe0J1gIRkwUdV7XJyNarmkJ6JaW6iDmDcwUGBI4A16ck14bIkLNEIq1KYZ3MW/GO463747ZgHEq
KSSkZs2sJtvMnnGBfpMaApL61xiKjV7GhR7tTW43haioKAA2tNpAyY4lLbS2H6JfR9PlaBeT28c7
jidXlVxfSDoTmFdwHsFCsPp74ZnTk0AxkEAxUIekMwYfHx+2bNmiLsHX/9d93nyExk2Mbrt582aK
kXSPIx6rS+tuTriD6+sWdK5tXQrypEmTmD5/vtk2vn5+5G+/TP04EcMz76W5zTgQp5V+awQvXr1S
k3SJW7fobHsZ+RIhQGDp4aWcGX1GInCSSDpvb29at25N2MWLBiSd+Gojvn6lk9ZWSr1GXz8/EtCs
Z0SLCjxOkJ7nLVOB8+EJADSr/zWFBu0yut6wixepXrmyeh2lRpXl1DDJgkRfSffmymuzpJHPYI33
addfu9pEMFUraN25SkYalzSAlBo7aeckxjYyDKN5MPUB+2/sV7fffcWIJ7IFJC5NJEN/06nGpiCG
irg5u1lVdhvSNkRN8g1YZ5/Ue3ktIW1DEAIE8o7Ma7mDAjgIDoihIjv67cC5hzPH7hxDDBXVPoVC
gMDzd88tD6SHAbUHIIaKfFz4kddRrzWE53+7wi/VMbj9N596CRax6YD0m21wyPpUUbkNm78Rd9d/
Vzn2F6LOAp49e0aePDmAIzg4HGP37jHExe2nX7+WFCqUS93O2zsD7drV4dChuYjiYUqUeAcc4dKl
X8iVK+cnW/9nBwcnzYXw92chNLd00Tk7Bb84MhmWs6Y0193tKTdXclCkvebYNFitIe329TFsO0Q0
7xkW/0Hqu1nrrleOKhqSYKYAe3vbts4hIjzcZzvhZ46si3xk+HpvIzL5sL8k0kPGWymYwtnZvF+O
KB5GyN6UhFu9KD58IW/3NGfxvYNs6KB78exZrS9/fJ+RdA2G45DUTzGK+ltu42tFKdKGWhq/wvtJ
P8wzFrHc780NaK7wsy6XrarilAdUhF+BM9MkddgfDc0n+QLz58/n0tWrZi+IkoN/rl3D18+PQ4cO
UbKkQiLi7R1pX+e42ZegOx4kjftrMUn1OESEoh2tH+fAAM15YG5aRkz8icAZQQQPDWLzpT+MrjlQ
DGRBkQUmBkx9NC5fTq1A0SbrCjQsQKAYyHin8UxJr1Fgjv442oCsGxM7hvmF9C7K5eOyqxMMEfEI
iuSPhbqhN63Wt+Jg0MFUM8HIVNC4cjtYCFZfNJ8/f8tk/9n3DjC5bE3exyaYbBP52yh6Lpht9Y83
Dw/p5s31TddptqKZlb1tx7TM08j5tfHfQMFCMIMeDaLOFBtv/PxHcTDooJqce3Nb8pOUyblBDwfZ
bZ4qxZR5htoL8gX5V15fIYaK9KjaFx//jsT8YWXglhb0E7RlyP5ud9Z047fTGr83eZuMkv236GzT
R0KiZE3QMHg8swO6qb/HMtnoM9iHiJAIxFCRsr6am89v374lPDzc7I0lwcmR+3pCtbCLF9WlTv61
S3Ov3lK+Snrh3rlTtKgjzbF5nXmV5M9z59KrSxdOndJYprRcJN300CbbXrqYL0N8Ganx8Vx+bLnZ
tqbQtUpXm/pt7Ws8UXfdaY0nX66M0nXYpcBLfIz7SP2Q+lbP4yA4cG38NaJioyw31kP0wmhWdllp
k0de9gzZre6nZNx7P91DCBAoO9F+Yoj4JfGIoSIbz27ErZcbdyffRQwVef1BItoyD8pseRAjyOSR
Se29F5sQqz5HxCbY6K39BWrkze5tudFngtSqeGhcJfVuUtoLXzzqTGD48OFMndrInmuhevX+HDqk
PEL8/yXWVYEnSeEDg+KkYIWUgJxYmxLlbSmBu9thSxPpcc+nkDab7vY5bpZDI/T3VSbaCraGxjYm
NM0U4KtquuW8SjHL0XTwiClfN234n4dVWiXKQ0RMedOlJlSqr3GYrWX0q78v29tYd7y1STOlibL6
/Sy1ExxBTJTShDfWgoEWPkszBfhfV0nteH+3VKJsBTw9PYmMjKR86dJsWG7bj3+AhIQE8peVfoy2
ohVlvcoy/I2CMq/lBSHittXeZSYhJkoKRICutyFDfuvHuLoCdnc2vq1/JDgbBgMEC8Gky5GOwY91
g3FElchUr6mMeDfC+nWkMGSyTrt87MPLD8zwmUH1wOrUCKoBGJZnhmQPomzpfXxd86gUHuSoW84l
9ynTvQx+P/jxVcWv1K912t8J35q+itc43mk84xLGWbVfwUIw2ctm5+nZpwbqMMNS09Q9Ty1fvpMu
XaZ8kpJXY3MGC8FkK5ON7me7p+paPmfok9NVR1Wl1qRaKTrnrSdPKdyrl9FSTntBCBBwc3Yz8D8r
3qcva4f9yP+0EqJtQcaMGYmIiEjR1NeKQ4bSq0EDOtaqyYB1A5i7by5pXdMSNd80sWPOPw8kRV3h
aemJ2zMMEYGwixd0vPN8/fxwEqDj/L2M+zqzgb+e+G4bhYOcuTnbPDEl++t5D/Jmu/NmKk7TeHPI
JZj3/7hLnhb5jO9HUpvigcXpU7MPvWr0MjufvdF2aVvWn1nPzDYzKZO7DFExUTSa10iHbPzt1G98
v+x7nX62KP9+O/Ubz94+Y+i3FioVTEAIEHAUHElYavpGizFsPLuRNkva2DXNVcbKEyvptLwTCUsS
cHSwTwCFjAYhDdh1ZZfOumXiMXZRLC5OLskaX/bgc3RwJGGJdcf0/zs+Ax82i3gb9ZEMHmkYs3gz
E3umvJfeZ3RMvqS+JhcODg52J+kADh2aCxzRpIN+gSHaHtWoRI6N1agm5JIme0FOrJXH/9whl/EO
EeH0lKT0Qi2LyYExyogbfaKn2Ta4tTF56rjHRyTvOGsxOFHyQjMGY+m9+kmVq0pbNOI3hT1zQ8iQ
Q1a+xZIhbW06jd4JQGCPkTplZc+3TEYQlF8wOThYOK3e2qh8oQeHaN7X5QUhbZLyL5eFMiFrSDqQ
iKZmW2FdVWUk3RARMhSAYp2sJukA3r9/jyiKfJ/rvLrcx9fPj5LVqrFs1Soi3r416HPr7l1GjB+v
0z5/2bLExMQgiiIbxY0MfzOcY1OPESwEE//RiMJvtou0/jz1pX1ILkknJzpHv9Z8P5WSdJcWab6T
MwVdku7b5ZrxhohGSTqQVDadD3Y2uMgXHASaLGvC8enG1SafEqptW6lYqBAOTZpSqKd00Zc2S1oC
xUAOBR9iYTHJDH9s3FgWZuujPj4DjpRh78460vEwQtKBdDwKNS3Er9V/1Xndt6Yvk9JMUrxGv862
qT6fnjVU9Bonx6raNL4tKF++h5qkG/VhVKrNawrBQjBj48eaJOmOHj1KhQoVDFIxjf0rXLgwc+bM
SeU9sB9W1V2lU9aaPnd6tXIupUk6gII5sqfIuCH7pBK811FSWaU+SXfzyRO2jR2TbJIOUKdry38T
7PH7Ok+pUvj6+fHixQtEUeTu8+ece7kFIUBg8aHFiKGiWZIOYObMmZSuaTxFVRv3L5o+R9+5cJH1
fesg1074+vkhOKQHEslTfRyxB0Yy+5bp30AqlYrWrVvTaXknwqPCEbSuDx26O6gJlpcnLZcvXn16
1SaS7vjd5P0N2nZRSuodsmEINabXoGEJyRogUaXZ7w4VpIvvy0GS5ZCj4MiZsDNWz9WhQgeuPr3K
uQe2XW+IoSKJYqLVKrnWZVury2GrTbOtTNgUOlbqiBgqMuPvGQgBAqfuWwilswJ/DvgTMVRUJ7xO
3T1VrY776+pfanWcrZA9+BKWJPAx7qN6PGPpv1/w78OYxZsB+BCTOurJljU/rXezrfiiqNNDr169
WLSovdFtx4e2o9sfz/nj9gEKO0oeMqJ4GPHpVk55N6VikvhLEKojiqYVRgkJiTg51bB2af+/oa0o
qzpFKme1J34tBq+v/XsUdjIWZJI8mtLlhO4Pk14UNaWM5qC9rzJhU6I71F1i/ToWZtaQFdbClBrQ
0cWQNFpd1ixpuyjNYHr1slTWFYPg0gcxbgmCU3uyis95kngYx6TvM2i+2wA52u7j6fpJiOJ+hTtU
VZf47HgJvLVK8qxJfLVFTbcgoxSmYqkEVw42AEmh+eGZcpVeiDt8dxiylrO8D8ZwbaVUslh3ifSZ
S8LDhw+ZMWMGq1evJiJC11i2SJEi9O7dm74KDcQTYxOZ6DZRUpxN/Fn6ftdfYVsJqjaWfAVRT6xP
VD06Ck79ZHxbhZFQZXKylhUsBOPi4cLIyJHq12bnmk3fG31xTvN5enIYU9epgyZmBBGTvTVvi8wl
q59EUI93HI/gIDA23tCryKB/EjkW9TwK13SuTPaYrFhN9vjkY7UiTylMpb6aU7GZS39NLn755U/K
l/+eYsWK8ebOG/4e+jdtt7RNkblMYU3DNaTxTkOzX5shJoqMdxqvcyxWrFhB586ddfqULF6coGHD
KFWiBJZw5/59Vqxdy6oNugrlH3/8kWnTptllH+yNzR03c3mVxsPYPaM7w14P+2TrMRWOYAuEAIGc
GXPycOpDk23O372L/6xZXF1g//L8+Ph4XFw0Kp4GdesyPTiYtGnSmO03dvJknc/QjRs31P58Ds3r
Imbey6C6g5jVxnxoiz4EQaDjd98xfuRIy41TAL5+fhy4cYCaM2pKBEqiiOAocPfVXTaf36xWjp0Z
dYJykysZ9F9/Zj1tl7alSckm7Lqyi7jFZuxWTKDLr11Y3tl21bw+0SMTWvJjGS49XahXvB7bL23X
aWsLCo8tzMmRJ8mQxnrfOgDfEb48eP3ApvkP3DhArZm1UkRdB3D31V3yj8rPg6kP1GXD9oQQINCo
RCO299O8D/lH5efuq7t0r9adJf42XF/oQQ65AFjRZQUdKyXzN91/EPeevvrsS1/7zvgNIFVUbp+R
mg6sVNR9Ier0cOHCckqVKmB0m3TxfgjBsQli4nYdos4hx0xpQnEXglCfej4ODLx1kG89Tc2UenfU
/3OIDoeFSSegvI2U+3ApwS9FJG+v7g8l8uvfBJnIkcv5zofAgYHm+7hnklJxQUOegG2EW+RjWJrT
ttI/c4o+UyW7RtDteleWLetkfq7YEzh470X1fiyCUIMG3tD3+A4aFGhgQNTVc6vG7pjDCEIt24m6
SuOgspbiSSlRt7mxFEzh5iV59y1N+lFV1N90YIUqQSrrtjT+gYHS50Mb5vo83A8bayv3rzMH+dik
Bik+Ny3Ef+TJh1osC6zGuMRxCA423OGVzwtKiT5VvJRW/Pqa8e0150Bp+xlJy/jw4gMzss5QTBR9
DnBv2YrY+HiG57zDT3mvQen+XHrUhS2dtjAucRzjHaUyVMFRet8s7c/WLlu5+MtFg2NQrE0xWq1v
lSL7EHE3grn55wKQ5X9Z6HVZUp4sKLqAt/ffMjp6tNn+a9eu5dKlnUyZ0iNZ64iPT8DFpRaRkZFq
TzpVgooJzhM+yWdAfq8OjDvA4QmHCRQDCQ8Px9tb+vtdqVw51oaG2n3eoKlT+XXtWgCqVKnCkSOf
1hLh1dVXLCy+UOc1nQTnT4jkEnVTd09lxKYRbOixgdZlW5tte+jKFcasWs2RqclLBVeK5cuX06NH
DxISzJfNTZkyheF6ybi5h+fm4ZuH7Bqwi3rF69m8BtnTLiVKc02hQLlyxMfHI4qGiaanhh+j4psq
BkSQKl6Fg7PuDV4hQGD/kP3JIo4cuzuSuNS2ygd5DR6uHkTFRhG/JJ7Wi1tTOldpxm0dZ7AmIUAg
dlEswzcNZ87eOTyb8Yys6U2H95iDWy83YhbF2LzuPCPyEPY6zObjJgQIFPQpyM2JN21egzkcvXOU
qlOrEtg4kKAmQXYf3xiZCuDUw4lEVSKR8yPxcDVeKWAtXHu5EpcQx5y2cxhQ2/6/q/5t+PP4ZRpU
tnyjSxvr1q1j4MABvHjxktKlC1OqVD4KFPgKL690REREEhERxbFjVzh69BJOTk707NmTuXPnqs9v
1iIi8iOeadw4eOEmtcsq8NxOJsb/vJ1xXe1gc2MffCHqtGD1zh0/vojKlYsb3ebZci/vN9XBzaEa
MarDZhR11ajn48DcJwcpYNIS4AtRZzckRENI0h1TnzJSSIU9MFMwrur6N0BWuDXeIHnQKSltlYkT
bfWiLWTK4uzK1Fn6sBNZ1/RwFbZuNa9OchSqoQJeqw5zqEdHWoSGAUlhE3LZq1NexPhfARQTdadO
uVChQgXd9fmUhu+1VIB7ukNdBQnE+mo698wSSW3uuCoh0dZUgmcnIV8TuCuVlVgcU26zOLvkkWgL
luaUyNzBCZInXkpBVEn+h2B0v3b02MG5pefMExe7OsK1VcoUptoEtzHI38FUxC/VfuHhkYfqffws
ybrjQVKCNMAQFY5NmyOKooG6LlfVXLz85yWdD3bGp6QPMRExTM041ez+6O+v/FwURcU/LE/PO035
fuUVtd38/Wau/3Gd+Oh4Kg6qyLezpLCY8Y7jGZdondedjJs3bzLyh5HsvbKHyEipzM7Ly5OIiPcA
lC9fjoCA7nTr1s3kGL9W/5UHhx98svc+WAimYOOCVOhfgQZ9G3Dz5k0WzZhB/TqpGx4he42l5u9d
feVchjwZGHDv87uItIWok8m5+CXxODk4We4AuDRvQeSG9bg6p766V+k+aqu3hBdN7Ord5+joqC7L
TQnSrkaTJoQ9lJSMoihy8t5JKv1UyYAoOTXsGBWmfW3Q39jrQoCAgICImCzCKTnqsIKjC3Jr0i2E
AIE6Reqw9/petaruyfQnZM+gKd8WAgQmNZ/E6M2j1eRecuZO7trlMXJ65eThNNMqU0v9M6bNyOs5
JlLP7YDG8xqz4/KOFFPxCQECZXKX4ewY3Wuzjss7surEKqa0nMLwevarkpK/x0puHvwXYU49dvTo
URo0qEd4+DZcXOx7Lm7TJhAvrwIsWWJZNZmaaroD525Qs0zhFJ/HCnwh6rRg9c4FBQURFGRdTLy1
iIqKxsPj849N/tdCLk0D+6h2UlMBpBAHDx7k1KlTJCQk8NVXX9GgQQO1SkEHl5fCniSVRtsjkgeZ
JeiXWpbuL5VSWoM/GkgJpSlF1mmTMUbbWpHSaiekT9+Qd++ki2iD/bDlOBgrTe79EtxNyNkXZ4Oe
z8yPe2+HpNSrPh0O/Wh5bbOcJF+8b5fD9lbQ773yfVBDqxQ7Jb9D7x9AqK/ied4/fs/snLPJWycv
/nv8NSXY5j7vce9hRUl4H2Z8e9Zy0P4kCJ+H/WuwEKwOaPgsyLp392FZXumxkSCP+MREXJu3wN3F
hQ+/S16OxkpKg4VgircrTss1LY1OM8F1AkWaF6HVOklBt2fYHupOq2sVcba45GJ6XuqpqO2kNJNI
iE6gaKuiFGtTjKKti6rXaesxT+77NcFlAo4ujoyK+jS+dKvrrSYxJpGwQ2EEEUTWLFk4+fffRtvK
RFq2tss43vU+eer+RNjF8+Tx80NI35R7h4LJ4+cHaapw//h8reRojQk/QM0f1/NLh0JG51iwbBnT
589PUbIu+nU00zLrltx+8u+cBVhD1MmJrY+mGUlnN4Mlu/8i4NtvcLBRfZFcmNvHKlOrcOzOMdK5
pSMmPoa4xXFU/nEYx6enTOm0fnkuwJA+fejbrZvimwhLVqxgypw5Op/lDRs20Lq1REpUm1aNI7eP
GBAvu67son7x+lydd4li/XTTD00RdWB7CWlERAQZB2REXGn7d27NqTW0r9BevZa+tfoS1DhInTKq
vTbtklOH7g7q4/M5kHVf5/+ao8OP2tT/2btnZB+aPcWINBnlJ5XnTNgZqwh4ayC/J8b2Q35/jww/
QpX8VliKWIBzD2cSVAn/r9R2/Wb8xjw9Aix9ek/evduZamtIk6YuHz+aVqQaW2NK4TMre4UvYRLJ
Q1BQEM7OKWvi6+FSMUXH/3+PHo81Juy7OmrM2i8rUDEZgzzW5sbSOKLtMn5bsGbNGgoVyo2UFCj9
q1HDkeHDKzN6dDU6dcqLt/cN9bY5c/pTuHDSxUqJ7pr1yyTdNxaOg3y8hohQdzGcn2t92ESLP2GI
SuqnX2JpDkqUXSARIcV/MNk0/M+US7EzBh2SzhxurLN+8JkCOLlJj02RdIjwwbIhNJsbQ8bClkm6
eztgbjooNxQcnCDqsW0k3RxXiaRrsz8FSbqkctxQX81nXQE8c3gQOCMI/3odOe3fkuBBI6W+2iTd
8SDdwId56XVJuvordEMfOpxOcZIuMTGRhg0bGhjr16lTh/Pnz+u0DRQDeXTsET+l+4lAMdAgdCJV
EPlIc/wOD9ccKyNBHs6Ojqi2bSU6Lg6HJk2JiYsjUAwkbZa0gK7/3JW1V0xOOTZ2LFfXX1U/rzut
LpvabUJUKf8Mvrj8QnHbhOgERERKdyutTped4DyBAg2N22hYgipBRa9/bE9XDBaCqTqq6icj6QDu
/nWXsENhBIqBeKZLZ5KkkyAlZJ4YISU4z6zniYiKXO00ASCiQ3rEj5oL3bCLFwk7ORvfcl2kxxcv
cGB6O5Mz9OnWjVkTJ3LqlP3M1GXIgRAySdfjfA91KMS/HXIwxMoTKxFDRatJuqmbNnH32bPPiqQr
NKYQQoDA2C1jKZa9GADv570nbnEcO8+e5eGrVym2HmdnZ4msEEWExk1QqVQI7u7qAAsl/6ISEoiO
jlaPI4qimqQL2RvC7Re3jZIhDUIaABD1yDAIo3C3Ylbvy8ePH82GveTx9SX9Vk+zbSyFf7SvoOsZ
Pq/dPDIPysy4xuNwd9ENIwubEqZ+7O3hrSZ8Lj+6jK3Q9sRLzhjH7hyzeZxs6bOp15G2T9pkrcUc
To8+jRgqsuDAgmTvszGolqoQQ0U8+noY9R4UQ0WKZS+GECDg1MM+RGH8knjEUJEBtQfQZkkbhACB
oG1Bdhn7c8WgdhohUIcOHYAjikg67RC95OLjxz3AEaM3H+48fkmJAqljLfXizXtCBpn+XfBvwBdF
nRls3Die1q0tpzYpRePG09j+7VGI1Us0LPcjVPs8jY//czgyAk5PlR4nJ5QiFVR2v/wykh9+aJCs
McLD33H0aALNmukFLGiTXs7pID7S9CCDE+Den7aXw+74Dm5usK6fOWKw0z+QOak8fVN9CNttvF31
GWRpMIWXL/9QPq+VuH//GXnytDHcYEpRp6Q01ZSaru5iKGHCw0rpuCUC4HKo7ppMrb1vBMz3su0z
LpdPp0Twi4wk/zmznn36mOMKiXGGqjlVgrRNVBEyeSBv32QgcEaQZru9vTCthPxjJ23atOzfsgUf
Y+rZJPQbMYLtu6XvxJYtW2jaVApsCBaCqTenHvvH7mfk+xQ2N9/eRpNunIxzpH7YhDZR9/eQv3l0
4hFdj3c12tdY+WvLNS0p3s64tYWl/pbaApTvV576c+sDMNVrKsMjbPvs26qmm5N7Du8evvssCCJ5
H0JCQmhWo4aCHiK+fmW4v2cksd6tKeznR9j53eStuYi8UVu5k3R/rPSgbZyf3YSwixd5u2c45VcV
5dayGvhWaEnYBcu2F75+fslW1T08+pBfqv6i89rncMytxat37/Dx72hAZE3cOZGxW8YStzgOZ0fb
y6PsGVRh8xpaVUL0OgnA7O9mM7CO5NsrBAgGRvSd58whJi6edcN+TNE1ubVoSc/69ZgTEGDXcYUA
gYiQCKMhr4KCwwAAIABJREFUCNrKsMSYRCKuviZzmSw6bS5OOYffCCkZsejYolx/fp03IW/wSuOl
GUfrwvvE7t1ky2qbB5yMh48fU61RIwBcXFyIjTW0mhmxaQRTWk5RK9OO3TlmMlRC+7WMAzIS8THC
oI0tsIey7s2HN2QamMkua/Gv5M/KLgp/9yRzLjkc4sCBAzRoUJ/o6D1Wj9Os2WjSpcvNqlWrDMY3
pzb06OvBh9gPyfIbNAVZTbvEfwndqxlPIf+34Y8D52iRlG7apk0tNmwwfXNWEKqRtmpfyp2az+7Y
w7gl2XkJQjVqezmw981BtcWX4NAQUWVI9jV0q8b6mMOYcxtMTFTh6Fhd/Tw1FW6foZoOvpS+6iDZ
OxcXF0f69J42nZgANm06xIIF+9i//4DhxlsbpQsaffR5IxnIf0HKIuaNlJoKkLsOtLLhPU4Bwu7C
hQuUKmV4xzM5cHevS3S0ERnyTAcUf03kIAGAgAfgaUVilOzjNThRueJIaRmsgnbt2tVh7Vr7XUg9
efKKGTOOMHv2bOMNZjnpKi+tIeoWZtYEfMilqtpj6EMpSacNSyRdckIjUprElj32lAQyaJdId7sH
6fNIj19fhV/NEDbNtnFuX3Z29NhBoyWNKNP908S6J9eIPH+ZMiQkJqqJidm5ZpO7am4in0bS6YAZ
Xz1b8OSoRrXb4wl4ZDffXiGcmjZDJYpsGjmSb/L9jxk+MwDUCkFTBIn+tslpJzPqwyjm5J7DwAcW
QnaM9LfUFjRBEpdWXGJL5y02kTe2kHSJcYlMdJ1Iq/WtKNbGemWMvREsBBNwJoDsZaXPgKOjI/f0
1J7a8PdvzYlbz7lx6giOrzYS690aNwDVc/LWXITq3Vb1d0Auc3V0cqX7kKkMb1dDqxTW/HcleNo0
gqdMIWdO2+7m/+T5E3GRmuTLZiuaUbJjSTM9Pm8cu36dqsNHqMk0IUAgQ5oMRIREWOhpGZ3nzOHX
gZa/Z/bGzL9nMnSjlGZKbBbElbrKWFMkx7VHjyg7aDAfk0ruUwopQV7GJ8bj0tPFJAFkjGQyVuqq
/Zo+CdahQwfWrFnDgW3byJPL/mmhAEdOnsS/Z0+mT5/O0KFD1a+793YnemG0zpoyD8rM66jXOmsE
yZ/PobsDYqioDrJIbgmvDHuQdfYaJ2RfCAPXDUS1VGWzob9SODo6kph40G7jeXh8S1TUR53XLL1H
V59epXhgcbNtkgPZp8/efnmpDV1iynyIkiBUI6cj5HNETdSBgCgeUm9/pzqMpxCDIHzLhbG+TPNb
zNqW3wIOiOJBRUSdBOm34d+nrlEsb3ZyeNuWqGwNzl4Po2wR3xSfxwZ8Ieq0YPed69u3LwsWLGDA
gFbUrVuOIkVy4+WVjps3H7Jnz1kWL95GXJyKe/fuky5dOusGl83WtaHEzPwL7IP5GSD2HbhlhD5W
GrdubiyRKoPiwCG5Bp3GT65TK9ZmxKl4gwATQagupREnyZb/iTlMcSNhcmvWPKJ9+/aGG0BSGR4Z
oWx5rfdJCaBgm/eaNaSoHck6AG/vzDx/vglHR9vKExs2HM6mTftxc3Mz3zDUV/JM01+DJfJrZzto
uFbzXD/JVx87voOop5L/oCkoIemiX8FCH0CE7kkJs0PMl6QYICEGQtylxN+ut63rqwQLMkJMhGV1
m5goEaUAvZ5DGh94sBd+r2u8vYIAmmAhmGxlstH9bOrddRUEgT1//EGBvHmTPZa2imhRiUW8/Ocl
tSbVouooO4QaJcfLUiFi4uJI06o1Xh4ehK9ezXjH8QC4ZXAj5m2MUWLr0bFHHJt+jLZb2uq8rpQI
s4WoA3RKjK0l3B4cfsDp+adpvUGZAfbHVx+ZnmW6TXOlJPSPnSAIODg4mCXrUhrfde3KqXPnrFbT
6YdCFG1dVPH7kxo4d+4c9+7dw8vLizpWhnSM++03Jq7fgOizjeH1hjOlpX3SWFtM/omWlSvToUZ1
y42TATnUQoa+Qk6bFBMCBLPKmdRQ/6XEHMM2DWP67ukmyYstF7bg6e5JrcK6lj7nJ56h9JhyOq+d
CzxFmeAKgC5xIggCTo6O3Dl3jtSAr5+fTlmsTGzprCnp8bXx19h5eSdDv9UQe0KAgJODE/FL4hEC
BMJnh5N5UObPhmSTx4laEEVal+SVstqLhDSGI0eOUDUFcw+NWcb4jffjn8f/mE0Klkm1OkXqsGew
bSIac+ixqgdLDy8lr3de7k6+a/fxUxLWEnWygi5GlIi6gyOL0PLY14TvrcHKp5nonL8Lqvj1JkMy
rSXqvqjpgC9EnQ7+vTtn6sLy+7PSheW/FImJiRQqVICYmA9MmtQNf/9vcHAwTZqsWbOXH374iapV
q7Jt23bSpEmTOguViTeAvm/BNb2yfnJprY0Ea8uWNdi0aYLRbYJQjTppBHZ8OISLEaLOqeAiYn53
w+PHzMT8ZUjqKAoxsZRgKaNEd43nn7VlgTMFSJMFein0gDJHwg2KlzzULi6EfX2Mt8lYBH64ZvDy
hg0b6NChA999V5P27etSqVIxvLwkcv3KlfusXv03s2atp2vXbixatEjZWmX8WlxSbcmQybEFGSXF
rCmYKnu1VU0n9/fIIQWsGGv7WwXIVVP63OaqDRnyKkulNTZPSqjo5O9ipUCoHGS8jbZyru9byVPP
lGKuYGspidUGrKq7int776U4KSIIglFlUI0KpQiLFcnWdpnaz0sbvn5+lBywha0/+BrdJv+9f3Ts
EcurLKf9jva2+ajJJcRO7jDgo+X2doJcCpu4dQvjHcYz/M1wswmw+oTRzW032Tt8L32umzhXaGF6
lun8+FJZCZw+Ube2yVoyFcjENzOtC41SSg5GPY9iZraZuHq6MuKdwhssqYRgh2AQDYnDAQMGMHfu
XFo0asSsiRNTbT0qlYq8pUvj6enJu3fvFPfT93McGz8WB6dPa+vs5+fHpUuXdF77X9Gi5MqRg3fv
33NUz38vd+7chIWFGR2r8bzG7DzwHhIy2JU8+mbsOPo2bkST8soSk5XgwI0D1JqpIZrcnN24EnyF
fN75TPaRSTElZYIpTdI1DB7P2Tt3eLHKvqWKQkCSz9tS0zfVzBFLZ8ecpOxELc9sERDAsbsjKlHF
7Um3aVm3JS+ePePUHuOESB4/P25evIiLsY0JF3nq4Ed2B8M+9y2oxPOUKmWUqBMEgaDGQdwLv0ee
zHnUfmPa+1hkbBFuPL+BGCqSb1Q+7k6+i0tPF+IT4+1CaDn1cCJhSUKyxxECBDpX7swvP/xiubGC
sewZAmEuWFEWBcSJhynqXp07MSI5+4bwYORDHHLMBEAUD5PRoRoRIjSY8zM7Bxj/nZE1a3OePw83
eD3TwEy8+fDG4vvlPcib8Khwbk26RYEstnnCmkPQtiCCtweT2SMzr2annHelvTDjt78Y2kFKnS9d
uhDnzy/7xCuCt2+jyJChfqoSZ+8/ROPs5Ii7q9Ez06fGF6JOC/+tnVtdFl7o3dFKnxe6fb6M/7t3
7xg16gcWLBhk13H9/LqyceNOChSw/4nZKPb00BBT3R9COgWlMzJp1/kKZFJajmT6Doja6FNwRvW4
v1GirtCTdfS/tJ8e+U0lolpxe2y2s+TdpRQdTkupl0oQcQuWF1JeImeOrMtaTpr7yEg4bUIRYCuB
dGcr5G9qfb91VeDJMd35z0yXSjUdTfzhWJJDOh4ykkvSrakIz7Qu3Iy1nSlIn89f/wcoD2JQY246
iI+CJpugQAvr+lqCxf1PKtuuvwKOBRpPYk1B/885vnN49+Ad41Tj7F568mO/fvTt1s3gdV8/PwQH
V+6fP0XCuWnkD/iTcdXc6DxnN/n8/Li1uCWtrvsbJepOnDnDj8HBPHqkMYMPFoLpcb4HWUtZ8H6J
eiKlaYNB2XtiYiLNmjVjx44dRrumcXcnX548FClYkExeXnh6evL+/XsSEhN5+uwZl65e5fHTpyan
/v3332nZUjfdVSbsAreXptO+TqyovcIowRUsBNPzYk98SvqonweKgWxsvZHWG82rok7PO035fsrI
Bm1SJ0vxLITfDGds3FhFfbXHMEfSxUXF8VO6nwAYGzcWB+fPMwtMCdkof1+cnJy4eOgQHmnta5Be
o0kTwh4+BGDixImMHj3aYp+YiBimZpyqWaODoDghOCWxdu1a2rdvjyAI3L9wwer+3QcN4u8DB0if
Pj0J3yfwIfaD+uJX3wMyuUgO4bXj8g4az9PcYGxbri2ru63G0cFMursJrDyxkk7LOykiZVKapEuJ
8ZWqqCypv4yVv8a8jqHI9CKEvQ5Tq+nMlZP7+vkRdvEi4rttFA5ypqvHDhZuPwY4Enb2ZzVR17TZ
t1wKe8GdixfJn9RH7mtubFEUdfZDe9+zDc3G83fPOTbiGAWyFMA7nca7Vb+PmuhDQBVqZbWAEdhL
WXfn5R0KjC5gl7HOPThH2YlleTv3LendFYoLTMLytYisxsqUrxDhd0IRn27FucZT0t1ZyyvVYWTK
UHBqiZiwycxc5q9LhACBRd8vomd18ynsMqnWvVp3lvinTCVax+UdWXViFUWzF+Vq8FXLHT4xQkJC
GDCg9CebP126+kRGRjFg1lq+yuLFj9/XS5V5P2M1HXwh6nTw3925d/dgmZG7ieWHSwbunxj37t3j
wYMd1KxZKkXnGTFiCVOmrE7ROQygrTqru0RSl5mDbKyfpRT4my/9+d//8vPPP4Z311Y2rU/HrbsA
6Y+k6skQo0Rdwq1eajmzPq5evU+xYh0NXreIpbmk5EZz0A6ksDY0wj0z9FZwp8ocWSf7jyktlbVm
fbb0W18dHmu9B0o836xR0+3pCc9Pm/483dwglcV6l4RXl0yTdCV7Sd5i4f/YVsZsan3Jgblxl3wl
kUYFW2vCCrSRrSK0P2Hf9VhA1LMoZmafif/f/uStm/wy1YsXL+Jlgfjz9SvNnZ/b0uBkE/7u5cG2
6K/o/7Vlny5jRvrBQjADHwwkfS4jP+zlm0N5GkALjZGwr68vDx5oSrvn/vQTTerXV7J7VqNtt26c
PKspTT59+jTlypWjzpix7L98md4Hi+Id6Ub1cdWpEVxDp69+CapMIikhkxKiE3ByV6ZOMJama63q
UvZDNFhHTAKT3CfhnNb5k6a4KoG1Jb/Pnz8ne/bsBp/JQb160fCbb8ifJ4/Jvi9evWLn33+zct06
wh7p/n3au3cvtWsbV4PoY6LrRBLjNGVWQ54NwSOr5UKe1EC5cuU4e/aszR6V2hg7eTKrNmzQOdYO
TZqSzt2dd+ttSCPXQ8l+/bk0b67i9mUnluXcA+nGs72M8eWSuEJOPbmhQAWfkiTd6Vu3qTh0qF3H
/2rYVzyJeELHSh1Z0WWF2bZjtoyhe7Xu5Mpo2k8uMSYRRzddIlQIELg+4TpFxhZRRNQ1/bo0Hi3H
MLbkDZruKEXsgZHsmuZP/WFrCDu/hTWPMtI+6wXyNd1Kyeh9bDh0nuKl/Dh16hQly1ck7KJp8rld
r14cP37cJFEnP1YtVal96bT3Q2734PUDwqPCKZ6jOG693OxWJtpxeUe7BTrYi/gDSNc3Hend0/N4
+mPLjU3CNFEnX2toICIINVE9GYRzjack3l6rvgYxdT2ijZCQ8wwYYN5vWCWqcOzuqPhc4dTDiURV
IpHzI/FwTZnz+dE7R6k6tSpZ0mXhxSzlKfEphc0Hz9O8hnFSrkKF8pw6NTPV1iK975rP82dOnKU2
vhB1WvhP75wOTHmMfYJSWQcHB1SqQ0a3ySftqL9nkO7bbQYncO2TevzhudS+0Ib2b3+j/7S9xHzY
hSkNQc2aYzlw4KAd90IhtAnTtFmh5zPz7WcKkqJqoGGylQbmfQVsxZMnecmRI4ftA5gjwfTR5gDk
rKGs7YJMkveYEk80s2mwlyHz/0y3UeBFZoB56aGf8nIpNYyp2cwRdVubQ4PV4JykLJH3wdEZBsYZ
tjc3VvxHKRE18/+ME3CvLsPaytB6L7y8CHt7WUe2yerSr6rCd+Z/gFkFUwTd8SA4ESyVWSZEG/b7
jOwAgoVgHF0dGRMzRnmnqKfSufuaJg2tw4mWTB5rqMiaMuFHlm3ex43z5+HcNNrf+J4LIa25fVpS
b8afnGBSUff7tm2s376d06dPG133gHsDyJAnA7w4D6uTjqdW2f+9e/fIl0861y2YPp2GdU14/qUw
/lelCpFRUtjOw1evyN1FSn0N3F7agCCalGYSmQpmoudF6U7884vP8SnhwwTnCXZVS2kTdbUn1+bU
3FMMeTbEqv76a4//GM/ktJMRHAXGJXx6ZZcSBAvBZMyfkX63+1ndT73/osjYgQPZsHs3t27dMtnH
x8eHNm3a0LNnT4oWLWrVfK9vvmZ+4fnq5x7ZPBjyVPn7lRpo164d69atMyBJTAVn+Pr50WjGaVTr
O3PyUQzndxumna9Yt47AKVPUF1AOTZoS2K4dge3aGrS1BgV79GTz6FEUMxMyUHVqVY7ekZIdDww9
QI1CNZI1pzaCtgUxYccEta+VEgLOqWkzHv/6C1m97B/c5tS0GWPafkdQu3Z2GS8yNhLPvp4AvJv7
Dk93T4t95CAFS7g86wIlBmtuqE8fNIVhUVIquBgqcu7cOcqWLWsXstgaaN9U0ifqMntkpm35trz9
+Jbrz65z5ckVXJxceD9P43cWHhWO9yBvA1Wd7whfHrx+YBdSrHKTylzYc56YmFjKlClMmTIF8fJK
h5eXB8+eveb27SecP3+b58/Dady4EaNGjaZixYomx7MnWScr9R5OfUjOjLaE51hW1F1LOMyvvQOZ
teoMHz/+iVOSoi7hRnMEp464iTHIEXbmyTrrjPCEAIFtfbfRuKQR32Y9yGQapIyPnww57CKNSxo+
LPiQYvOYgxIy7M2bN2TKlImzZ0MpU6aQXefPmbM1Y8eOp3t3XfFKapN0/wJS8AtRp4X/9M6ZhbEy
WWcP6PvGDmEHphEbG4urq+GFoAxBqMbeD4epk1Y60Z8Z6UvZySs5PeJ7jgWsZHD+GhTI4s7Rp3/h
dUwi6g4PyJrUt7o6jcYYTp92pbwdfVFswixHyS8LJDLOVJnjXA+I/2CUIImPj8fR8bhZ7z5r4enZ
gPfvI+0zmDWEnVICaF1VSdmlpL25+WWC0FSblEoi1ceqUhIJpj2vOXLNGjWdIl86AaOlrL+VhyLf
w9Nj8PGVpJS0JvghJVR0xsZ8/xBCcxtvbwvhmsqYnWs27x+9l8iHuPewox3c/1O3kYsnVBwNpfqD
k244iSUVA0BCElG3oYOydFVjajptBAvBDBgVQoaKdQw8/JKbPpsS+PDhA8W+/hp/f39Wv31H4PbS
Bj5iqgQVs3PNJoNvBroelwi9Cc4TGBMzhsinkXjmtHzBawkPjz7kl6q/4JzWmfgP8bTe2JqirZQT
R9Fvovml2i/0vtJb/dp4p/GIKpFA1ecTEGEJsm+eNUrCDa02cH3Tdd0+ggAp9Lt0Y5uNXNuo8Stt
vaE1RVtbR/KlFsydA+SSwVWzRzJ3/z1mV3zN9xvDmX30Is094OHqzgwRJrKxw1dG+x4/fpxKlSrZ
RVGWt1sAeydOIG9Ww/J5WdVkz6AKbRQdV5Trz67rXID7+Hfk+PRp5DOyHhkxcXFM37yZsd99Z/c1
2VulV2p8Kf558g8uji58XKjMD9Qawkcn6bW7wJmsJyj3rBI5M+bk4VSpfLxOnTrs27cv1c7/vn5+
TJo0iVGjJAVx5SmVOT7iOACrTqyi43KpMkQ/YEIlqnAQNOd/IUBgY8+NtCrTSmebECCQwysHj6cp
V5x9801datfOx/Dh9iEA9u07R506gzh8+DBVtRIbhACB2EWxuDjZx1vLZ7APLyNfWk1SZc6cifDw
LXZZgzlMnfobw4cvtrpfZEwknv08rUpplZNy7aXgNYVXka/IMjgLkLLkoD5sIagSExPp3r07y5cv
x9//W9q0qUm9ehVwcjJuOXDixFU2bNjP4sXbKFeuHL/+uoK8ZgLP+s74DSBVibMJy7cztotlEvcT
4gtRp4X/9M5ZhY8vYVFWDA6JnS9669evxK5dpj2htO/EFHVKSpxx9oeEB2q/A/n/uEOt1ESdEvl0
aOh2AgJSxo/KZszzhLgkgqzPG3AzcvfWBPlRv349Nm/+ETc32/9gp037LR9mpocPz43OkSzIHmFK
oHRepUSQObLO0QUab4QtJrzlrD0G+kmsSrAkh6SU0p5zpR90NPJDd21laHcM9blb3je3DNAnQrft
TAH6R0qkuzHMFKQS4Hf3Je/K9Hl1t8mEoeAIna9CRoV31GY5SWmq9vr8nA+BAwMhx9fQVlJZsMhH
Ok/pIxnhD6mC2HfwWzmI0CI8s1eCWvPAp4zNARSCIPBj3770MeJVZy1MknSyj2ZSEvNEl4m03tSa
Qo01nwslpCGq+/iWH0PY2d8MfIfyNZnN3W2D1OsAifDrUN6Poccv0rKsH7cuXsQJiDs4GlWNSXRN
2lbKSaRgx5XcWtnJ5NS/rl1L0NSpPDnzhNByoQQ3Pq9zoZyc8ldVgspigMCKmisIOxhG5R8rc3z6
cZ25lEB7HT+l+4m4qLjPKsFVKYKFYL6q+BVdT3S12PbaxmtsbLPRcD9TgKTTJ+dSwlPS3rh37x41
q1fnsAnfR/k7VqD7Bm4vbaPzGkDMxZkUn5aBO2uMvxfy+SC5pJJ+f9mwP7BxIEFNgmwe1xzkEjhT
PlyW9unsnTvUHj3GLuW+2mg0fjxnbtsvMCI+MR6XntJvP2su9pvMb8K2vtsUt3/zz2vSF8hAvGM8
rRa3YuflnXQs0xEfbx+mtdT9PZ05c2Zev37NgB49GNSrl4kRbcPw4GDWb95MyZIluaj396b/2v7M
bacpq9Ym5+QSR5m0M1X+Kj839tgUZs3qy+DB9idzjeHVq7d07ryInTv/JPPAzDQv3ZzQjqF2G18I
EHB2dCZusZEKDROIjo4mImI32bNntts6tPHttxP466+/kz2OECCQzi2djqLSEt5+fIvXAC8cHRzt
EgxiDrLaDlKWuLOnksweY/Wd8RsOgsDcIe3tsialc37majqwkqj7PN2Iv8D+SJNFKi0ckqSyabpZ
ev3FOenCXf63ywYPMy3s3n3SYhtRPEwRLbLeJfEBfsG/qp8LQjXydRin81z7f1MYOdJ+f9Tshn7v
Ncf82krNcdb215K3r0gq2zwtGVrv2rUbN7faJCZWRhCq8fJlhIlJNFCpVBQs+D1z514AqvLhw0ep
HHeIKHkXyvNvb5P8fZM/T0owU5BKGC2OKYJvPcuqPXPzJsZJ5Z+m1IzG0pTN4YYNP+hlYlTGPz9D
633G2z49gdHztj5JB+Doap6kA4mkqzLRNEkHMDhBGUn38YXUx14k3a6O0ngnJ0jjVRil+Uxqk3Tl
h2u+F58TSXdpse75cqUfRIdDl1ua9Q4Rod1xdTmu/x5/AsVAzi09R7AQrEMamIMoikyfP1+n1M1a
+Pr54evnR/6A7jg0acpXnX+QFH7y+rN/La23lZToNyZuDOuarGNDa+mYV6xY0Y4qChU45KJlRgfe
JH2Umpf1Q4WgNp0uOHAnetpC4q6swhw6J5WXZS8rKQsHnfPDoUlTMrXX/FgbpxrH84vSd7J8X+Wq
64u/Wt73B4clr76irYoiOFhHAE1wmaBDIDZe2vhfSdLJUELSTUk/heiI6BQl6WLfxxIsBKu/b55f
eRIoBhIoBn72JB1A3rx5efjYston/vRkvfNDPL5+fhTuvIoDK42/Fy/Dw3F0tD6gQR+Z2ndAtW0r
PVb1QAgQaDyvMXGL4xBDxRQh6Y7eOYoQIPA44jFiqGgTSSeKIuUHD7E7SefQpCkrBw22G0lXfXp1
XHq64F/J3+oL+6O3j1rVPuP/MnF23Ence7uzo59EDLe/9x0FsxQ0aBseHo4oitx88ED9t6VSvXo8
evLEoK0lXL91i+Jff60eJ62XF6IoGpB0APmyGPpxV8hTAUBNsvRb24/K+SrrtJnWSpdofDX7Ffuu
S7/DtNV4+siUKQNwJNVIOgBv7wzs3DkSUTzMHy3+YNmRZTj1sE+CK0j7+37ee4QAgV1Xdinq4+7u
TvbszcmYsYnd1gHg6lobqGoXkg509821l6uiPhnSZEAMFUlYksCAdQMQAgSKBSoN/bMOxbIXQwwV
1X6JQoCAECBw4/kNu87zbcXidhlHFEXmDEqeHYKspEtNkg6gQeX/pep8qYEvirovkHB5qeQ9pY8S
3aXABKtgnceaErWcMljnc/BJ8eKcVJ4MULo/1AzRbIt9C/O9LIYsREREIIoiGTNmtH5+tQeaKwyM
Md9WCWRfNLnk0hyUED6y4io5yroGq+HP721fg4xdnaRkUWtgbF2m5nx6HLIn/cBMjIU5bsbbWyqd
leFVELrcTHoiSspHbZJO6b5vqAWPDkifQfdk3lGVA1hkBd0sB8OLcv8LkMV2UsruSIiGkLSoP8+V
g6CSfUiUYCGYoq2L0nqD+eRRGdrkwrgff6RLB+N3DC9dvcp3XboQEyt5YAalDYIPSQqvJG9Bh0PS
j+4bixZRMIfxstkJLhMQHAQednzI6D59LC9QS1HX9OvSeLYJZlqjr8iWr5RaUTe8TmlG7z2PJyp8
yzTna8cHSao5aQhtRZCstpveqByLdp0hvQVuRVsxKCvU5ETLQxWH4p7RnZ29dqrJoT++/4NyvcuR
s7J5756fK/1skXzSVuxtar8JnxI+VBlRxfyCtfoqVfcB/Pzzz0yYMEEnyMNW5MmTh7Fjx/LDDz8k
e6zJaSeTIXcGel/rbbKNKIqMdxhvfD9LlIDLl5O9juPTj7Nn2B7185ZrW1K8rX0uXlIbipSsNkD+
rmw9dYrmkybbpKjzbNOGyPQbyeudl7uT71psf+XKFZ4/f05ERAReXl5ky5aNYsWUXRQrTcWMjovD
o3UbEreaLtdLifAIe4+56OAiev/W2yblja0eZ6eGHSPj0CwUyFKAJ2+f8HhyGG87RfFtsW8t9j19
+jREhsVKAAAgAElEQVTffPMN795Z5+WbK1cu9u7dS4ECBSy23Xl5Jw1LNFQ/H7BuAHP3zSWzR2Ze
zX6lo5zT9+azpKrb3HszzUo1U7c/eXIxFSsa/2zKqabb2l6nyYqcJD7cjpi4D8GxtroSKPz+MjLn
6aZ+vvzpIfzfrMK5+DJE8TBBi48Q3Gu0xWseUayCS08XElQJdldh1Z1Vl3039qFaal36rUqlwtXV
lbNnl1KyZH7F/e7ceUKRIt+zZctWGjZsaLlDMiEECDaXt8qfF6UeeMmFPN+ewXuoU6ROssYSsVKq
ZQLJUaXFJyQyaM46XJydmDUg9Yhu+Neo6eBL6asO/tM7l6KQS6L0oYC4e/XqFZkyXbOrx5o5HD9+
hconekNRf6ifcr4DKQZVAsxO8g3UL0Wem1YiweqvgKLJUzsaxe914cFe6fGgeHBI5h28yEdSSqwl
KH2vZgpQoDk0MTTG1mljCvVXmlaJWkPWXZgHpawwSFdK1M1yhMFahs+myLT1NSBdDmjwm5ExkspS
XdND7HvdUI5fi0PnK9aTdPbyojswAM7PlVSARTrAZb1zR0p9rpODOW4SYdp8B+Q1/FF57949ALO+
HIqnyj2Hdw/fWaWi6ty5MytWGCeOCxQowMGDB8meXYuAmykQPDSIbtvLkaNRA/XLA0NDmbt9BxnT
eRD+m+Hnanml5Tw6+Ygggj4rbzp9FKlYkZjYWFQq6XOvTZwV7NGTO8+ekfV9Gka/qEKf633UbQLF
QFTxKhycTf+dUkKgyfM1X9mcCz9foNNB02W6xsY2NUemTJl48+aNzmstGjWiT9eu5DOThqoUd+7f
Z35oKFv+1PVO9Pb25tGjR7i6KlMmgOXjNNljMo4ujgx/Y8JLqEYNOHhQ8XzG5tfGv1mVqA17k3W+
fn5UrFiREydO4NCkKV3r1iW0X1/F/UuNL8XFRxc5NPQw1Qppboy+ePGCsmXL8tiECrBA3rz4eHuT
3tOTd+/f8/zlS+7cv2+0be7cuTlz5gwLTiwgeHswqqUqRSpIS4SZvQm1s3fuUH7wELuOWSKoBP88
+cckMXP06FE2bdrEkSNHiIiIIFu2bFSsWJHBgwfjO97XqrJGbfj2zM21oOt4BnqSsCSBU8OOoerh
QKV8lWzeF23vu+Ti6J2jVMmve/NDm4ALPRJK95XdFZW/Aoz8YyQ/tfhJvV3eliFDet6+NV5uDhqi
LuF6IwTn7iB+MLDsEcXDTK1Qi+Gn9idVAWluXluThDp//h/07TsbrwFevP341u5knVxCvsR/Cd2r
dbfcwQxWrlzJ+fPnefr0KV5eXlSoUIF69erp/g75BBACBB5Pf0yODNaH6MXEx+De2x0HwUFRKIs9
UCywGNeeXmNDjw20LqvsJm5KoN/MNcyzQQk3c81fJCSqePziDfM+AWG2bs9p2tb9xD71yvCFqNPC
f3rnUh2mkmXLD5fKKvUQGxtL7drlOXp0vmEfO8DffyKrVv1luOHudtiiJdX+NxJ4s11AFS+VL3ZL
umMtB1DUmAllBtt/Tm2PMDlBNTmYKUD+ZnDHjCGtkuRQWY1lMUDBBARHicgyBmuIK2tIK6VEnfa4
cZGSpyGCLtn24pwUAjHYyD7ozyOPNd8L2h2VSMr3D+B/3Yx+R02Ol1yCztT7kS4ndH+YvLFTAqG5
pQCLISrkv6GNGjVi586d6iZD+/albfPmZM6UCYCEhAS27d7NlDlzeBkeDoCbmxvR0UaSaRUgWAjG
0cWRMbFWJMYag6iSCGDQUUO+uf2GeQXnGSUxzt25S7nB0jnl/Yb1eLhpClCDhWCCCAJg14YNFClo
WBL1KdC2WzdOnj3Lhw8fSJMmjc42fV+6LLW+I9wjhs29htG0/tdMyzSNYa+HWSSYrCHqZCglif7s
8ydnFp5Rt9cmI+ZPm0ajb75RNE5K4MWrV1TQSvU19zsxJE8I/n/5k7GgobL71dVXLCy+0PwxsbHk
dZL7JBJiNN5C/xVyThsRdyPImF86rskh7Lr278++w4d13kelxJWsXvpzwJ80HLUY1batREdHq79z
rq6uXDh4kDTu7javTx8fPn6kWGVNGWNMTIxZ4vjF27e8ePuWEr6+Rrfbm6RLCWWePsEk+8EBZM6U
iXlTplCpXDmT/ZetWsXEmTPVz4cMGcKMGTMUz3tq2DEqRlRBDBWp3b8W4/tP4Ov8thNt9iTqLj++
TImvSui8Zk4pV2tmLfYP2Q9oQgd6Vu/Jou8XAeDWy42YRTE6Y4mhIoIgmCXQ1ETdLcmfT5+gk/93
EKqhSnquejmO/WnqUMejmlVE3aNHL8mZsyWg8Su8Pek2+bMoV7IphRAgEL0wGjdnN8uN/4UQAoRk
p7F6D/ImPCqcW5NuUSCLZRWoPSB/xo8MP2JAVKcU/jh4nhY1Slvd71OERujP/y9R04GVRJ39CuC/
4L+P8sOlfzJOT4EjIyUCT1t9V7AVNN6Iq6srR49eAqBVq5a4uLxnzZpxJAd9+84mW7YyjB492jhJ
B5CvsSHRIJM9MvTLTT83DNK6M6qd4DsoDlSJSYEADsbJG1vR64X0f9RTKQwBbCx9TsIQUfKLm2NG
mfH4iGUSrGhH8Ckrtev1HNL4GJ/LFDkkJoJ7Joh+bbjteJBU0mgJ5X603MYUnNzA3dvw9RB33f2e
l5RAOUSvHGF1WePH565sGK2X8Cofz+NB8OI8DPgIThYuot7egZ8LJD+4wdR7MDhR+rx+bjBCTI4Y
MYKpU6fSvmVLsxfHTk5OtGjUiBaNGqlf++faNQRBwMXFhdik8lOlkImGvSP2cmzqMeuJhxUlIPwf
KbDGyOclY4GMagWXg7MDY+PGqreVyZ9PfeHZZMJEdpw5A0Di1i0MuDeAGj0PUv2bgzh81wZRlPb9
ztnUT96ds3gxcxZLCXEdOnTgRNI69VG2Z1nOLtasb+zjKgScDmCq11SaN56G6vVWbu+0Iu1YAQQH
AVGljHDSJhIdHR1RqVSc2bsX78wpY9ptLXy8vdWf/ecvXyIIAo6OjiQkGJpuvw17a5Skk8u7zX6O
v/nGapJOmxhNlyMdgx+nwE2rT4zNHTdzeZVUCiyKIo8FgZxJXnSd2rYleISRG6Z6OHj0KJ37Smq5
Dh06mCVbjaHurLrsvb4XMVQkpG0IDk2a8uLnZamSAJ02TRqd8d2SbhyY2odsHTuZJM4cmjQlaqP9
fE7tTdK9jHyJz2AfDeGUdHxXLV5M1YoVFY/Tzd+fbv7+6ue9hg5FEARatmzJ77//brJfOV+J/BMF
UW3GH+bxgLg7sZAMTsjJ3X6Xl2ld0xq8VrdoXdqVb4d7b3eiF0bj4epBbEIsrk6uHLhxQN0unVs6
ABYfWqwm6mIWxegQe2olnihizrpHyN6UhFua5zLZpv+/Su95ba3H6D02hf37o+iUdMni7OhM4ayF
KTq2KE38mvB7L9Pvpy0QQ0Vce7kSlxCXqimlqQVtMtealFhtvJot2RA9evNITaDFL4nHKblVSGag
/V7kHp6bh28emizJvfXwOQVzmU66Vor9Z69bRdTN3bCPsGfSjepPSZRN6tnik82d0viiqPsC++He
DthspKbfyR06/QMZNIawjx8/ZuzYsaxcKSndSpUqiJdXOpydHXn58i3nzkkmm+3bt2f58uVWleEo
huyDJuNzJ+9AtyT5+7PwVxd4dVkKYGipzCDWKmgTL8lRWZkqpdaGk7tEKllaTxofibAztd1aKN2v
Y2Ph6wnK2mqvI0NeaPkXZMhv2EZ7bmNqtm0tocnvGNyAiXsP89KDszvERxuSdEtzSWXISvZNnndg
jORZaAuMHfeac6D0ANvGS2nMcQPXDAafI0EQcHN15capU8kafur/sXfeYVFcfxf/zNLBhti72DUq
lqixR9GYKGAvv9gVe8HeRewaUbG32I0FW9RYsYO9YDcWQI29oCIIUvb9Y9hly2xlUfT1PI+Pu3fu
3Ll3dtndOXO+58ybx+KVK02+OFbFgxMPWF1nNR7LPajYXc8PJ8W57/sa7I3zq3x68SnLKi+j97Xe
5Pghh/rGD09gZTGx5D4Z0UnWrJndg/I+/6PGiBrcvXuX4hrKugkjRiiDHSyBhIQEhk+YwHbV5Mu8
+Sjj5cX1hYZV2lJpr7YZbVnRJpzw58/x3V2Rhv4N+Wmw7vIuUxR1bXa0IfJ+JD8NMVwuphjXmGTf
36u4EfJJRtj+4ZSbn4trPi8p2u0/tSTdiNBQtf8vbZ2Jz9XyrG2enUJulbh9fBelG48jLHg1hdzc
uLx3IxUadyficghzA48yd8ogg8TLnMWLCVi6VO097Sf4UW9SPWqNVfeHNdZzDxcXeC1xA0UDF5dd
ZE/PlPfBgPsDcHaVSFD/yrHRYyN39txBkAmMT0y+qamhOJwwYQJ+fn46RkiBq6sr9+9L+8dFx8aS
sXUbScJJ8BYQBEHNv0rm6cXxYUOpXbu29Psk6S6FKiaXatnW5M7qHyj+vyVafXt1b8ulF9ac27Ue
iKNstZo0bD8a/37NmDPJh4Btx3S+D+Pi4ihRtSpnzpyhatWqyvYaw0fQqFJFxrXR9kMq3N2bKR06
8L86+oPIjEF7f3/2nL/A200mJsDrQcZ+GXHJ4MLqrqvJQx5KlCjBX8uWUb2K5cq3fnR352VyCIQm
NP3a/mv7iLz189FgdgMmP5uQKkVc7OtY7F0so9C6/vg6P+TV9prUVNVZ97QmYWkCu67swr2UO462
jsp+uTLn4umsp8p9K06qyKVxl5TPZT1kRAZEktkhM3fu/EXx4vr9S9MSdnbukjf68g3LR+HshTl9
/3SaJZWmxt/ta4AlS353X9mN5wJPahStQfAI00JcUoOaM2oSci9EbQ0rdp2ku2fqfdqDzt/E/cfS
RvVVqOhmDWiNva1Nqo9tLgbN3cQcn9SFX3xmfC99VcE3vbh0j+hnYpLpx1fa23JWgjbHwUb7TtkX
xb6OcFMlZbDpLlGhlx6hWuJb0D3Fa84S5v+aUA0b8dgiKq/Mwe7W6om3Uvh5DlT00b19XkaxBFhT
eaaAqWSdTQYYEGW4nynlr7pKUhW4MAuKNU9JZlX0rzUNqqioJXQdU6GolCdpk3SmlK/6C2CbCfqb
ZgSttr8qSrWH3/SndH5RrC4Dr29KnhtBEFg+dy4N6tY1edhadX+i/NjjLHBXTxpWDTlIDbTCJxTE
dypVtROtJ/JbiwNUrnJKfYPETQvntu14FxNDHrss/Beo7pEnl8vp2rUrq1evNnsumhAEgQULFtCn
j3ZAQac5c1l39CirfXzoWO9nyf2PjD3CySknyeWWi56XeyrJo4NDDtLQv6GYCupxifWJbfjfP9J+
LNMyTmNU1Ci981QQdW5d3PBa6WVwXX6CHznL5aT31d7cOnMGB3v9F7O/V3Fj6ri65P+xmpKoK9xg
CoAWQaf6/69L7vDTrrZkmH2ewSWtdPYD9SAPffgQHc0PNWogl8sJmRFC0MggNUJuYemFvLr9Ct8k
I0g6I0pe9/Tcw8VlF5XPv8XyVkh5D1nZWTE2Nrn03cEBevSAAMM3D01VeSn+llX3EbwFyQtOxdjG
+OUVcnPjVmgopZLVf3llELQrgHpDAjm9WSTXPx0bQ7l/6pDx8HDOXgrF1cT3oeZnqq61Tw0M5O8z
Zznrb7j80xBknl78t3oVecwJ7tIBwVsgemE0Tn2deD/7PZkyZZJcu+KctP3RjbXnQ+lSxY2QTwAy
wg+Nomi3/0h8uIaI0FDk78/g6v4H4ee2qY3x6dMnilepovVdpFoC6jrKlY2J66g6swajto2i6dkm
ZhN1T47+R56f85m1rxTOhZ+jSmFt8tJQUITi8fP3z8k1JBcJSxOwkqUkHvdc15OlHZaqjafY57ff
fmXv3tEWW4MxKFu2C9eu3dPbJ2O/jGzw3kDPdT3ViEdLIuBwAD6bfL5JdZ0C0XHRZOiXwWJrzDM0
D0/fPf2sZaoArZe2JvBCIH1LrE+1om3K6j2M6dzEYL93Hz4yZsl28mZ3ZlSn3wz2T2sMCdiM/2cO
rkglvpe+fovo0qULf/21gbFjO/Lbb6Ic/uLFf5kzZyuCYMfNm5aNebYInHJJp5Zeng9HBoiea1Jo
FQQF6qft3HTh17XSfnanJsBplbvY6UEtpFniq0iSXZRdLLdMiIW6s6HSoNQfq1wP8R+IJMHu1uLj
bvfUlJIGoSirvBOYMoYmjg4S/9Warl5qrcCAKNHs31+A5v9AYY0vCn1lsFKI/wDHBovnSh/q/KH2
tFWrluzYvoOVw91pVrMIGR1TSJoXrt4EHrvL+DXnaFkWlg7RGOv4MKg8VHwsVyEcDZF0CiWdfVaI
fSNuf3sP/qqWsm7nYtD1DnphrhedVClzg6XK90bmzJl5/1793MtkMn4oWZK8efIQFRXF7Xv3eCWh
opHyGrMYDvWEW+thgG6PkuZNmkiSdJqEBsC90FA2zhnFvCNhzKn2mkdvPzK4mq3WvhGhocm+N6n7
Megr94Wry0iYYcOUkWPpcKgHrkOM8BxUxeNg2FxH7f02/g8bGBSHnzARG0cbRkfrvjCJTFaS+Al+
jLX2Zepv4jlxzZWLe8uWsmrVKlatWmX0dDbO9aSdzy7l84lWE+l8rDMFahkOo1kzyIc1g0Qy/9yd
u1QbOhR7W1titqbcBKg3uR4np5zkWegz4t7FIbMWS69Pzz5NQ/+G9Pu3H2OKZMG2WXPae26WvNiv
PdZ4JU7oqlCDRF1YkBhE0utKL3oLvQ2SdArk9JiLq5sbGRrPBcCqQCelok4a8fx3OZRxa6fg6tWT
wSErsEQeXAYn8cZa1OMoNZLO5HLtoUN1knRvw98S4JpCTnU41AFX99QHt6Q3qJKQaueteHHIlQtM
8Lps9pPxJZIA72JiaF2zJh1XdmTd6XUkLUuSvGA1haRzdXPjyuVQHICxbja4rTjPwCpu2OWrw+Ds
ydYRic8oPmgfEZenUMRtODLASt+gElD9TNVF0r2OiiKDvUOqSboHL15QuLu3RUtdB24ayIPXD9SC
Dwyd30IV3ammcqIUfeUvA5XPxe8mGRGhl7T2t7W1JfzyZbXvIilS66KvqCQvksOE33QSeLTvgUWJ
uvex73VuezH7BbIeMqUC9O6LuxTLUYwWFVso++TMJNqlWPe0Vnufbz6/WY2oi1sSpzwXe/emVKiM
HDmS4OB9FvfbvnjxXypX9lZ6MBoi6QCiFkSx7sw6wqeFm53yawgD6w9kYP2BFB5ZmIjXEd8kYedk
56T2/h/RaATTW5j4m0oFT2Y9UT5WEJ2ZHTLzdt7bVM9VH7b03AI9U9RtlSdX5uKDi7Sq3ErcZgKe
vjJ8w/5Le9Fp4ivzpjML3xV16Rjnz5/nyJE/GTHCuDfhixeRdOu2jN27dacWpVs8CIJtv6iTFqrI
WUkkeTKnox/sikRLBdJbgqWWqivFKN8iiPoPliWXB5jrZadJgErBOxwyFZLe5i+gFb6gts0EGCCt
goOD6dmhOTdWmp6GpEDP2UfwGTKCUrmtoUTyHSDFPLuHQebCKW2DE8QgDFX4CylKlEHxcKQ/WNmK
6id/wbACdGUJiLyjMwBGJ1QVlQokn6+aNWsSEhICwMFt2yhexLwf+QoSDPSb15sMfwG8H0Am3QTQ
zJkzafPLLzrnpbyISgilWM+b3J3nQtFO97m3VVR7FWk8i/v/DNW5f6rWs6okvPlX6+aAn+BHlsJZ
GBgmccMgKQG21IXHIertP/nq9GR8cPwBq+uuNopsUSiAvM95k+fHPLh29ybihRhEo0/lpom7V/dR
rNyvauOmRjWVq0NHXrx7x4np06hZujR/ZP+DmFdiCa+v3JeYVzFEPY4iR7kcCIJA1JMoNvy2gd3N
XrDv4kXGt2vLBJXy3Y+vP+Lgot/fUdUzzZgyWUWfPXv24OHhka4TdTVRyM2NoKAggt2DleuYaDWR
7me6k+dHExL+JNR0qr5s8O2q5yZaT0SeKK5da41mBmusPnyYzvWNv7kp8/RCnnOX3gvw2Tv/ZnBT
kXguXbo0Hu7u9OnWTbKv/M12CtebmDx4FsaWi1YSdfkzyTjzNkmFTAIbtyEscN1Bz+0ica26Dati
RFzUrbr3X7iQU5cucbdIUTaPGE6jitq2AJbwkcvYug3Nf/pJeUPAEhC8BWW5Wv+N/alcsDKdqnfS
S9QVcnNjclUndlyKZmOyom7DuRSiTlEGL54/gYjQyzqPr/guUpSIqs5L9b2w8/JONvy5jsAF26SG
MQhLBkkA/Bn8J91qar/3msxvwt5re5HL5UriE1IUdqfun6J6ETGURCr9VdGu2ibrIVOOpwsHDhyg
S5fOZM5sT48eTWjd+mfy5pXwIU7G/v1nmTt3KwcOnKVHjx4sWbLEqCRjfVCSvMnKTEWZb1pA8BY4
NfJUqlKA0zsUJbHGpkwbC4X339y2cxlYP+3EHVKElcd8D/Zc3WOx0tx+szYwvpsHOZwzpXosS2H/
mes0qqZdFp/O8b30VQVf7eJat67Hli2GfUikEBkZhbPzl5ejphpJCaIH2009pXQF3UUFnFPuzzcv
fVCU1gHIrKHf2/RR3nuop0i2KJDaVE9NpNbLzl8GdpkhTs/dJ13jbqopEhK6SkRNgY6SSPkRy3/B
WrnPJzExUVvddn2VqPDrF6m+g+paut2Fd+HgXAIy5oXZ1npJGLX9U5Neq0IExsbG4uDgQPMmTZg9
ebLxYxpA1IcPlK1Zkxo1ahAcnIofF38Wg/cRIqFpAGfOnCGnnR0ymXbghVeNimRq7UeHPA9p2MIT
13r+hB2bQyG3itw7cwRre2fLE3UKdSxA//dgm1Fn13UN1lHAaiV1GhxT35C3BrQ1/fz5CX44ZHVg
+OvhBvsJVgK/7/2dIg1TyNmgK1doOC4lNOjvsWPxqCKdVjihk8CENernJrVkHUBcfDwOLVpStXhx
GvmLyu3spbPz8uZLZaCG6v83t96kdMvSyDxFYkL1Ij/6RTROOaQ/wx+fe8yKqivIkCsDH559MJgg
K0fOBPkEZdv58+epUqUKnr/+yrxp01K15rRE76FD2RcURGhoKDvddtJ0TVNKepVkepbpqX6t1jVY
p1QagmGC7vz585w4cYI7d+4QGRlJZGQkzs7OODs7U7FiRcqWLUt1lcTQ9AIFoatWwq7A2bNQrZpZ
JN2bqA8IAjhn0FGhoIKAwwH4rB+P8LquQSIrc5u2vNu8SfncGFWdJmpUdOPkpVAsFSP06vVrKtev
r1dNZwmSztKBEXK5XCSAVMgfNUWbAaJOQWTeCZUm6mSP1nDpUiiRO/rR9Eg9Li2QNlZXfBfZ9LQh
fqn4veg+252Dgw4iSw57urHgKvJmMspOKEt8QDzWjqYXXt1cdI3SfcqavJ8u+O7yxc9T+npIlYDr
8GcH1p9ZL1n+Gp8YT+2ZtfEs78mo31LsDOr71+fwkMM6x0zPUCXr0nquVaZU4XzE+XR/TlKLkdtG
MmP/jDRZZ1q+rwwpywIvBNJ6aWtK5ynNDb8bWtv1EV5vo2IYu3RHulOufcVquu9EnQq+ysXVquXG
yZPzUzVGVFQMGTNKK0S+ejy/KHrJKQgxKchsRON/qdLJz4nXN2BDlRRj9rw1oM2JL5uAqZqAm6WI
WL5qKagqr1oeEolUU+AviIEGiToSMzPkgZ6PtdsVyrzUknWZC4vKNiBL5ky83dnV+H3NRKWO87h4
+jjkSzaClSp5VV1Dk80QugjKdhPPR6C7/mRXRWiKrnOnCanyVo359OnTh8WLF6epGqhM9epEx8SY
p0bzF2DgR7EE3EiYcyFqCNUbNcL5mQsLfBdQd0JdwztsbSCqi/Wl76qmMitgk4HTL+ZwcMpjhr8a
blAFZgh3dt9ho+dGhj4bilNO3TcaFpZayNuItwgyQWfZ7F/HT9De31/53LthQ5b26wvAhM4yJqzW
VsNagqxTIMOvLYixSWDogbI4fbKRJOpUj9dk4kT2XriIk709UVs2c3LqSWqNljZpXlV7Fc9Dn1Op
ZyVOzTplkKjTtb127dqcPHkSmUxG2CXt0rUvBdeKFUlKSqJevXocPnyYSTaTSEoQX6+c5XPSK7SX
6YMmq8ZUlYjFmxSn3e4UJeOAAQOYP1/6N1CZkiWpVrkyRQoXJnOmTGTOlIl379/z7v17rt+8ya27
d7l89arkvnPnzmXgwM9rWaFYZ9UBVWkU0Ei7gyBAaCiUL2/W+KuCDtPFXb+aLj4xHttetiQuS8Ta
qxmAXiJKQVRpegROYAIN6tZl+dy5Zs01NVAo7r42ku7hm4cUGVVESYwB2PexJ3ZRrPJ5tmzZsLe1
JWRfGgSCJaOQmxvx8fHY9LbRSRhCihpO8Ba4VeU6Jb3LmHwseZIcQWY5VVKXVV1Y1UXaVkHwFtjY
YyPj/x7Pncl3ELwFrGXWxC+Np9rUapwZfUatLxhW1SnautXsxopOKyy2jrSAKlkXPCKYGkUtp2TU
dbzAXoG0rNQyTY/zpeE+253Dtw4r3xeK76T5833o3r0J9vbaVicgfj6tXXuAESOWki1bDq5f175O
nX9kPgM2DsDBxoGYRQYC9IyEKaRV8L1gas2oRfaM2Xkx+4Xe/c/fDGfN3lPpjhCTA1fuPMStuGGr
lHSI70SdCr66xclkMpKSjmu1C0JtZaR3IevaRCSckNymilu3HlCqVPu0m2x6xZ1AODES3oXp75fZ
VbwYzlnp88xLFbGRsChbSqmvMb5iaYX7/8DOZAPRnyZAdQuVHKkmvaqWdRqDBc6iH5uuUmh7Z+j7
Rrtdl2rMBLLOZoQV8Yf6Gd3fUrBpuID46Yn65z44EWZbiX1WlYY3t/Qr5PwFkbQe9MnwBPxlqH1k
1pwCVbXJlyNHjlC/fn1JUkuzFEfTtP63qhXosmkNw1r0J+LSceTvdlFygg3/zvlVayyAiEePqOvh
YTxZ5y8Dl1LQWfuOoV7s68jhv9fhvhSLkXWF3NzIkiULkZEpysiHwQ9Z13AdCR/FsiN7Z3tGjL2A
BE0AACAASURBVEn2JdRURD45JXrKJWmku/22AUrpL7+e6jSV+Jj4VJNdCsJO3zhhQWFs9NhIQmwC
Q54MIUNuw8oegIDduxm0XP0iaFqnjoxoIXoLWZKsU5Alfh4iCZa062/29ttLgZoF+KHtD5LHajlt
OttPn8bzViF23pU29FeM+789/+OvJn/pnK9mAq0+7N27l8aNGyuf29raEjB1Kr+6m3jTwwTcvnMH
j99/Jz4+hUzYt28fjRqlEEumlPjqwpW1V9jZaafWONbW1qK6GGjl5cUfRqSamovmHTtyKZnIK1Gi
BLdvW97fV5XQ1HmuLl2CSpXMUtGpomy//lxbIE1qlhpXitvPbquX9nl6sWPMaLySk1NP+5/m4NCD
OsfPXCAzbXa0IXdFsWohKSkJKyvRkqF3ly6MSEPis2XnzlxQ+LEln6f2/v5EfojmH9/xan1TS7DJ
PL0InjmD6iVLmj9hDQjeAh8WfMDJTv1mh/NAZyID1BXzXbt2ZdWqVRa/WbRt926GjBuHXC6nwIgC
PJzxUG37omOL6FM3JbDnqv9lyg2pgOAtcMY52OQS1quzLlFuqJ6UcjNQclxJbk+S/jstPb40WZ2y
EnIvRLL8VdOLr0HpBhwcpP5+j46LZs/VPbT5Ud2QXvAWyJslL//98Z9F12NpKNZ498Vdio8p/llU
b4K3wPQW0xnR6AuLIdIIgiCQlHTcomWwtWr15+RJ9b/vj/Efcewjli2/nPOSbBnMCwJMjbos8EIg
vVYPJpdLJjW1Xb9ZG+jmWYsKEmTYvXv3qFSpItmyZaJr11/x8qrFDz+oX+Ndvx7O7t0hrFy5j4wZ
s7J5cyDFihUza46a+IrVdPCdqFPDV7i4k5KtgiCaWo++cJQNVX8mIuGEkqDTRdQB4J/6WHol7J3B
zln8394ZbDODg4sYGpEhr9jmkA0yFUzpl95wbgYEjwG5EUmJ5XpAgyVY1NdNH1RTXEEyeTHNcWUJ
BPUWHxd0F1VxloCCbLLLol3SqQ+zrfW/VlLKI4WCzAyybuApNwL61TF+fhZG+NP3FP7fypSGXc3h
7g7xcbay8Oqaccmui7LBx9eGfQnj3sGCLOptv5+DXNKliqBfeWaIqAN1zzdDRJ2iv1HfU6ak8j4O
hk3JKikVb8mYmBicnJwo5urKoe3bjRtLAx9jYylVrRq+vr5MmDBB91wBbBx5WT+CQPcJdO+/Als7
DULVUDmzAZwNOMt+n/2pJrz8BD8y5M7AkCeaqSjqfQC6n+1O3ip5dfbTxOWTq6hQqwsAT968ofbI
UYQ9ewaA7+6K+HlcolWNGkzr1BHXXLnMmv+ubru4vDLFuynLrooMWr6C6K2BLMgbQNeQrrgUd9Ha
Lz4xEbtmYhmZFAmgWLPMWkZSQpLkeQ4/Es7OTjsZ9Mi8UJ+XL1/Svn17Dh7UTaY4OTlRunhxcmTL
pqUye/7yJXfDwnj3Xrchu6urK+fPnyerjlRLxTrdp7tTY4Tpio2VNVby6NQj5XPFeVJcBB3bvZtC
+fObPG5qsX7LFsZOnYqLiwuvXkmk05sIxXnSVAhqQSaDkyehRurVL1IE1fmI81SZUkXrgj2wdSA3
A3VXIpwp8ZJ9t403zG/evDk7duxQPm/l5cW08eOxtjI1IgLCIiIYNGYMV26kXCiuWrWKzp07q/WT
Wq8lSDpLquguP7xMxUkVJQmTIqOLcH/qfZ37Kv4mUkvYPX/5kqoNGgAiyRkZE0nWgVnV5tRwTkMt
0gogYkcYhfcWMYuos7Q/HUgr3jS3A0qiLnx6OI3nNeaG3w01Pz6HPg7UL1WfCxEXeOb/zOAxFOMO
ajCI2a0NhI19YbiOciVsmihO+BylsCAGo8w7PO+bKod1cytOaOifaXqMkSOXMn36eq32iw8uUnly
ZQpkLcCDGQ9MGjM1xFX/WRuYn7xv0K0gGsxuQC6HYoSMCMFVxXvR3t6O2Nggs46hCZmsDklJOoQY
3z6+p75+q1CQcRu+1ARiI8V/hoNhPi/sncGltKiQy1lJ/D+LK7hISParjNBdDvsgCA56i75WIJZx
qvq6aaLiQDEp1FJlrJoprpBCOimQ1mmz5XuJ/0AsL06t95zmvssLm+aVNjhZTaSLZLsTqE3QVBwI
eaqL7f0iRXJQcTwd4zx8CwXqDSTAsjeCTUbh3JmIO9gfG/cAZOH/pJB0tpnUSToHF+gjcWGZlABz
bMTH+s7v2/vwZ1H1tlSSQl8MfxYV16P3/SRPVgwCBRtAy4OS/R0dHZHL5QwYMEBZarV/yxZKFi+u
dwoJiYn8UL06sXFiybYWsfjqGqwpJz4WZOCQHT6+hPgYsu/PQZ+hqBHzp2ad4tAwBUnuR9M1TSnf
0fTSuKoDq1J1YFWlMs7cBE1fuS9X1l7Rq3JTlJCurLkSa3trRr0fJdlPE3+v6Kok6vJkzcq9ZSmh
NJ+iPlH89220G9GO6Vu3MXqtdiJ3rTKlmfj779T5QbehsOefnmpE3UAPD4oftObivXuM+CmYN6dz
krHCf1rluzZWVvjursjC3+8h8/Ti3eZNZHTQLitOSkjSeV7X1pdIETcB2bNn58CBA5LbgkYGka1k
Noq0KEJoaCjPnj3T8m3LnTs3ZcqUwdlZ5cbZvXtQvTokB4Dow7n55wAYnzje5HK2/QP3c3aemCRp
ZWvF2ARfSEzkyZMn5M2bl783bKB8Ge3vafnLQAo3mEp+19Kc3K7/F0/CxZnIKg1X80Hr1b0tl15Y
c26XeDFUtIKYSKpZxN2+dWvat26N38yZZqczx72PY3pmMZinUo9KNFnaRP8OZgZGGIPouGgy9MvA
rZG3+PPWn2oqSE00WdqESj3Uqwlm7zSNrNqucTNj6qxZFK1kXoWCs7Mza9aswcNDdxiSFKGWtd3/
ODhpolnHjP30CceWrSxK0gUcDlDzSdNE2Ev9lR5yuVz596HAEn9/GhkRFjIjIIDFKsnbqu9nTZIO
4NBN6Ruxz08/Ff8eviKtw90pd/kY/5GfS/5MqXGliI0XS4sTliZQYWIFLo+/zMdFH5XkmyakXi8F
8bfl/BaaujWldnELCh8sjGfvnvH47WPyZsn72XzrAtoGENA2AMFbYED9AQS0/czCAgvj8ePtkiRd
1M0TZHWbRLP2HgSu2pqywSovDkmPcWg5gU4XJjInPEnZvnhcZQbMDOJTtHY5+/TpPYGTeHuvZfny
5cr2SgUrKV+zmjNqEnIvhF39duFRXk9AXDIc7KRLcY2B6rvEvZQ7Scvl9J+1gY/CCwT3HBwfP5/a
tctbjKQDkisHTxISco1Hj7LStm1bo/f9ytV0JuO7oi6doWvXxqxcOdKCI0p76+hFbCTERaYQc4Ye
v38AH1N/NzpdImsJyF4eclQUFUpXl8CnKCP3LSkmaxb1suycNNNmDSV9WgKa6az934nkkblQ9bLT
58eliqR4mGPgy0hKRZepIHhHqLepYPgemDn+8/oWGYMzOwKoVhDEmy/yFJKu/kJw66O9g6LUuP15
yFlZelDN9w6Y7CX48OFDChYs+FnSKnfu3YvP6NHSF9BPTsHGGmI5sBRZrgh2EWTQ93UKYWsCkpKS
yJ49O2/eSJRZa+DGjRuULl06pUHhNyeFH4dD7RlGz0OeJGdphaU8v/ocgGKNi/G/PealD/sJfjRb
24xyHcqZvX/Wolnpf7e/zu1tdrRhc7PNRin5png7MWZ5tM7tk+0n0+KvFpRqXkpnn6ArV/D7ayMh
t26ptdcoVYq53t5UKlqELS23kBCTwN19dxmXMA6ZlYyk+CTmFZ2HzwMfZJ5eWqmvivUo1iHz9EIQ
BBL/3qncpkC73e0o3kSd0P2nzz84ZHXg5JSTFk8xjQyLJLB1ID0u9DBvgH//hZIl9ZJGUxynEP8x
nu6nu5OvWj6jh15YaiGvbqf8JvCV+8KhQ5Cs8DHkB6mpzL335//43+32hAa04M6502xeNoUxf+7l
+tkQrJOJurj/zlC22RBunA/BDvh0bAzl/qnD7T8a0qWKGwvOaRN1mjAl+CXqSRSz84oqm2Evh+GY
zUDq4qdPYGdncZLOxb01vuE1iQyTVqo7uzrTblc7spfJjszTi0yOjrzdtFGrX2pVZYlJSdg0bcaH
wC042tkZ3sFENPabiJ2NDdtHp9wAaDV9BlYyGZuGDzN5vPL9B2Bjbc2FOZZTShkiLPIOy8uL9y/U
/Or0QebpRfTWQDwbNyYoyPBF8rBhw5g5c6bkvKRIm0qTKnFx3EWt9rPDQ6gWWZN1FdfQvndHo+aq
QPj2+xRubl7yuy4Yo6i7NekWpcaVUpJUYxqPYXLTyVr7C94CP5f8mSNDjhh1HEUQiLOjM28CDP8O
+JLQnP/nUtYBTNg1Ab/dfl+tuu7evU0ULSpdCaBZtTa1cj1k64MYWVKGINQB5OL2xAdMv5ufkSVT
fo86tjpKTODPeo6s/xo9Nj4Whz7izUF953bCir+Z0N30a834hESsrWRqJb4KIszHpxVz5w4weUxz
YKzCTg5c/vcBFUsUTPtJpR2+l76q4KtcXFLSccn0QVMRHp6PwoVN8AX7VvAuTFTYvPlXVLK8uQWv
roukYnqFvbOoaHLrI3qKmYMdHhC2J+V55+vSqkJLQFOZ1uMhZDSzdEk14bLKCJHcNPX4mlAl7F7f
gNU/qLcl799mPWyenf5IOgVsGy7g0+720GiVqAiTUo3dCYTdrfWXFUudr1QoJPft28dvv/2WpmSd
QtE2gQlq7Z2mhFPIbo36/BXnAKDBUrFs/XNiWX6IkvCxSeO5qHp+2TjaMPjxYOyzGBegYYz/nD74
CX44uzoz4L72D7k19dZgbWfNvf336HaqG/l+0k/y3L9+kCI/NNS5fX2j9SR8TKDz8c5mzRWg18JF
LFNRpuV2dqbH2sL4yn0JbB2IfRZ7PJZ5MGHjRiZu3MSTNavJ5eyspSJsM2MmgSEh1CxdmvozxHOd
u1JuScLMFG86U3Fm7hmq+VRL/UCCAA8fgkrpaWRYJPOKiIS+q7srHQ51MGooVeJydPRobBxVvsuS
lWRyuZz7Fy9iY6P7e04XUbcs4zR8M/rz96AqyT2tuPdnG2SVhuOqWmKf+IxClX8j4rLoSWgsUdex
Tx+Oh4QYtUaD5a2qsICKTvH3qgvlOpSj2dpmesdIqxAG22bNSUhMtKgyTROac3Ro0ZLgGTOoVNR0
UsjSpa7GkhQZ+mbgw8IPBsdTpFZbYo6Ct0DMohgcbBy02nXN99P7T5QYXoKIxAiaVmjKjj47JPt9
LhhDOGmWv2qqyqbvm87IX0cieAtMbTaV0TtGa40ZnxjPipMr6F23t1p72Mswio0tRlJSUronojTP
lWMfRzzdPNnUY5OevSyHtafX0mllp3R/nlQREhJCjRr6SaJbwccpXWsccvmJFKKu2EMEa5HIXvzo
GL1yP1Ij6vTaUiWjbduFbNpk/GuTfVB2Xn14ha+HLxM8JyjbZ288yOB2un9D6YKmOk3xPDh4ITVr
St/MlQm1+Sg/gdTtmMGudfG5d4wCGhSGINRHLj8ssUcKLl++S4UK+gP8vhE13XeiTgVf8eKkveqM
xYEDMfzyyzea+vql8C4MHhyG5xfg6Vl4eeUzT0CAPNWgyijjFHRxb0XFkSId16U0tL+gOx3UXGiS
QMYq5PSN5ZgTej/T31fq2KrIkBd6JpMnCR8hwFFM3E1OV138uzO9u3cyb56fEY8y1iX/8Wb6E211
kW4WJuiU2FQTHocgDAXnzJm5fFw7AMdcbN21i6Hjx7N48WJ69VJJldzdGu4Esn7PfO4fe622jylk
Qqqx01P0k1SFvbOobM1b8/PMQQdu77zN5mabAbDNaMuINyOQWeu/6fMw+CGraq0yqyz24rKL7Om5
R5KIirwfybyi87CytUKQCYz5OEbnOBM6CUxYo/99OS3jNEZFGVdOqwt+gh+u7q6EBYVRuXdlhtzZ
yh3HFJWE6oVx8M2b1B45ihVvvOgarP3jUebphe/u5Fp5AXyT1M9B1OMobDPaMj3zdIsTdZYM2gDA
1hZiY0Emw0/wI2fZnDy/9pxM+TMx6KFhbz1Vgq731d7kKJtDu5MKWWVjY8O9Cxd0jieWvk4BwHPk
BmYX+4f/3W7P8kzTGZ9hFn8PqoIgy4Y8KVJJ1NWrWoGIODmzjl9maJ0K4nHchnB39f8o5CaWYxq6
saBLUfcp6hPTMk0DoO/NvmQrZYLhtxkk3cPgh6yusxp5kvR+dXzr4PXGi87VOzP/rwijCR0pgir4
5k3sbGz40UyTb5mnqOL4nCRd1MePzNy2jUntTQtLO3fnLtWGDrXoXKtPr46Xm5dBU32HPg7Exsca
JDASEhNpNmUqu8ePS/XcBG8Bz/Ke/N1Pe72GyC+Fqg70K3lUIU+UI1hZ3tPZWKJOJsi4N/UerqNc
tYg6xePwV+G4jhK/56TG1HUs2162xCfG69wvPUFzDZ1WduKXMr/wv6rmqfDNnUPt4rU5Psxyvw3T
FrqvuRUe8YJVFpISdimJulll6vIq8URyn7rIE9YoiTrFPrY1+hIX3Ebn2JcvZ6BChQpmzVhBTscv
jefPv0Po2cx0f+0/d5+km4d4TaQgwS5cuEDlyh91H1fFHz9KfgJFfFjDpW/4YUZzNaLO1bo29xNO
8M/Z/1jXsTM3mgdwfZpuAUlwsEDNmtK/o5fuOG7WGtMhvhN1KviqF5chgyMfPkh70+jC2LEr8PVd
ofdu9Xd8QTw6Bo9Pwn8ndJfFWQKCleh5Vao95FQxXnt9A9ZVgkTRSwvXJtBst/QYpkKeJCaSqiJT
IfAON32s5QXhfXI6WYfLkMPNtOOqotb0FF9CfwF+8iWu0ijsTn1FaVU/z1V//uk9zM8snpcOl9W3
xX+AeRm1x0gtQael2LwBLqWZP38+AwaIqqr+3t4M6dvX5KFv3L5N42SPimzZsvHy5cuUjWvLw8ur
Kc8lQk6CRgYRMkNdCZO/Rn46He6ElZ3pxuYAXF8FByTu7jnlgl5PzRvzMyN0VSh/dxUv0grWKUjn
Y5319vcTzPPD8xP8yFk+J71Ce0lu63KiC6tqr9JJLk3sasP4lYbLwSxBUGmml+7osIOr66/iK/el
Upu+XP4okvsDPJow19ub4WOXMOvqPj5u24qdxveqn+CHn8clfHdX1JqXn+CH+3R3yncsb3QSrrHz
TwuF3gshJ4vpQ5FfinD/4H2s7a0ZE6ObXFXMRYExH8dgba/H9vjqVSgn3qEXBIFsLi5cOKz/Drsx
0AyrSc04zs7OamXuJpe3qkIuF0MjDPzGjnoSxRK3JcS8jJHc3mhuI6oOrKp83uHPDmoeaOX6D+Dq
/HmS+6qi3pgxHLt23aJBDJ+DpOs4ew5hz54RPDPFKsCcOds0bcaYNq21Stt1ISwsjPfv31OwYEF1
f0cVCN4Cl8dfxi2/nt8nKn3ntZtH/3rSlgEAo9asJTQ8jH26QohMgGb6qSrq+9cnaHCQ3kRLBVGX
1yoP/y15bNQxrwdc4YeBpnupGoKxRJ1q6muXGl1Y3H4xjec1JmhwEMO3Dmdmy5nKvqN+G8XUZlMl
x2q+qDnb+2iHSan626Vnsm775e00c2um9voWGV2ELA5ZJEud0wqHbx3GfbZ7uj5XCmTLloVXryx0
LWQkEhOTsLJKPfEUeCGQdf9c4I19CMEjgo3eb+3eU3T8rbry+dkbYVQt48r27dtp3jy7zv1kQm0+
yU/gZV+bzbEnyCjUQS4/yg/j7tFoUw/6/HuMno612RN7AmdZbd4nncAa+HRtLY6/vSLh0WCdY//1
1yP+9z9pQvkbUdPBd6JODd/E4nr27En+/EmMHSvtFXHo0AW6dZvNw4ePJLd/xzeA8H1wbQXc3yUG
BlgK1g6QrzZEqBDCNadC1dQpV5AniomtAHaZIC45cdAnDqxMMD2NfgZLcouPDSn1Tk+CU+N1b1cQ
Vf4CiW4DsDLRGP1L4lrYK8p2S06JUqjkpMqNLa2gm59J3ZNRlx9cMry9vVmxYoXJh9FKXXwRCuuS
7zIWagQttA15DeHYhGMc91O/m2vvbE/HQx3JXSm3eudDPeDqcrSQtya0TZ26OT1hT889XFwm/lCX
MpNXwE/wI3fF3PS4aHzZruJ8S5FICnJJH8mUmPAJK2vDnw2pJar8BD9qja7FyaknlXMa83EMH559
IKBwgHLsiBcvcO3uDcAc7+44O2Wg89y5agSBn+DH/h8ecbbwSyWxp7oNLFv2mlYk3bJKy3Au4syj
reeItclI/Ce53uOoEnTdTncz7F/n6Qm7dqk1FStWjHv37rF87lwa1K2bmumnCv1GjGDPgQPMmjWL
IUPEVGPVvxOzzveMGbB7NwRrXzRt9NjInT13JHcr7lGcdrt0E0lShMWaI0foVK+ewSnJPL2I37kD
KxVbldSSdJkdHYmU8LuzJDTnaM6c9e2TPXt2ycTfAvny4eToyJNnz6QTk38F+V7jvltbLWnF4VuH
9XqcyTy9iNy0kcyOJpDBOqCPpFNsN0SenBp5gg6yLuz5YRcn84XQo7bh74K0SHwF4+b74PUD8jnn
w7qnNTv67KDZomZaqrq1p9fS8aeOyraYTzE42mqfb33HE7wFOv7UkbWn16ZrAkpqDQGHAxi0eRBJ
yz5v2qbgLVAuXzmu+H7uKiTTIJPJkkMO0h7//HOaxo2HW2y8ORsPMqhdQ3INycXz988Z0WgE01vo
txFSJb40SbCEhGNYW5t5k9tM6CMuB83dxBwf4wMn0jm+E3Uq+KYX9x3aGDZsGLNmzaJfv+b4+LSi
SBFpc1BNPHjwjNmztzBv3lbtkruvGY+D4fZGuLnO+BAMXajuBz/pIcL0QeETB+BcDCLvio9VU1kN
wRQvOz0lsTeytqdMIRfjjpmOMGrFKaZVPA9tjkE+lS+zhS4Qq3EBYKzXnyaSy0uVaHsy7cs5b66F
fSolyC6lRbWeJZEUD+t/lCxXDz5Sk8N73bWUK/8fEBsZy4ysolKlcP3CdAxSvxmUGJfIZPvJDH81
HAcX40rmp2aYSnx0vBbBsaXFFl7efMnHyI9EP4/W2m5M+asCliDrFOhysgsFahYQ2yRKWAHCDoXR
KWgZIbdu0cXdnVVBQfzjO55zlVMUpn4eoh9a0q6/lfPb0XGHQd8wU+ZsaZJOoURVEJYAVrYyxn4a
r6UEuxl4k8DW4meDlZ0VY2PHGn8gifLPmFcx/JH9D2KJZTriZ1WBfPk4sWeP1AgWRZkaNYiOFgNM
FL+BU1Xeqorktar6/Gkif438dDnZRa+iSQFFkmv80nisZeqKxU0nT9K2lnGBYZpk1cOXLymQXbdq
QhfkcjlWXk21iOm0gOqcPyUkYN+8hUkknc/y5Sw/cJDorYFq7Yrz7j9pEi30pMwaQuEKFZDL5fj6
+jJBjwpO8BbI4piFyABpD1nHlq2I0ZijOZixfwZjd4wlISlBJ4kU/iqcLRe2GCzVBXgQFM6zg0+o
FlnTKFIqrYg6rwVekuW7mhC8BZzsnNjdbzf1/OshXy7n6bunjP97PMs7LleSV73X92bpiaXI5XKz
yEzBW6B6keqcun/qqyPr9LV/jvnkzJSTZ/5G2Np8QYgJ4Pq95cyFk1NDoqN1l5Wai2lr9jKq029q
bQrvzKxOWXk997XWPh/j4nGws6HfrL9YMFRbxfb8+d/kzJnV4nOVQrNmY9ixQ/c5v3b/P8oWMT7Q
Kp3jO1Gngm96cd8BtWrVpFKl3GmWTFO5cg8aNGjKtGnT0mT8dIM7gXCgu1hSaSrMMcxXEGkuZUQS
D0S1XPFWpu0PuhVj+zrDzTVqTU/fQ+666Tc8wiBUS2D3dRQJWFWYkwB8qKeYwpuaMUzB/s5wI/l1
KdoM7iUbVVvCOw/gxAg4r518p8Sva6C0tjp5UZlFvLz5Uq2tjm8d6k6oa5l5fQVQqH0EmcC4+HEI
yapTBWFnyvnwE/zIXyO/mr9bQmwC84vPp9upbszJP0eNeJrU1ZZxKz8ZPdfUEFd+gh/OhZ2JDI/E
J8KHuYXEv6vR0aNBDjZO6iWuW9tspeXmlgBcjYjAbYD4GVLnTm48oooT9SQKX7mvshTQd3dFixK/
cwvNxSfCxyJjKeAn+NHpSCcK/VxISdLZZ7FnROQIiI6G5s3hwAHio+OZmiGlRMysc55MXqmWqEsp
Ords2UKbNup+Pl6//soffn7Y2pqgxE7Gi1evmLt4MX9t26bW/u+//1K8uJjQq6q8Nbm8VQOzhSFE
oZ2GriCDTUWGfhnwb+VPzzo9JbdXGOjD5YC5kttUUdHHh9Cw8FQr0xQq05MzplOjlO4UZksgtUo6
macX/y5ZTLE8eZRt1tbWJCYmWjwEqWTVqsTGxUn6G8rlcmrNrCVZkjZj2zaW7NtP+AoJNbeJELwF
lndcjhw53rV0E6imkDRnh4t/q8YSdc+Cn5CrZh6D/UzFzss7aVqhqcF+muWvmv50p++fxjW7Kzkz
5TSoOmy5uCVbe2+V3DZi2whWhazixewXX4z0Mga7ruxi2t5pnB51Wmvbl5r3k7dPyDssb7o9Z6q4
c+cOzZv/yvXrq1M1TsOGQyhbthb+/v6WmZgE/Fbswre7p87tHvM92HN1D2u6rqHjTx25FfGUUoXE
ypKxS3cwuaf0DcX8+fPx6FHaqqbz5m3D48dPdG4fOGcjAYOMDG76OvCdqFPBN724/69Yu3YtDx6c
YNy4zxsEMHv2Zrp1m0LmzJk/63HNwbVr1yhXrhyjRrVn8OA2ZMuWMuf4+ASWLPmbAQMCWLduHe0N
GTInJUBgfdFXz1hUHAA/BxjXV+FHl9lVDOwA4xVhJ0fCuWTvmo5XILtEStG8jKJvG3DBqS2VS+Q0
bl7pEH0DjrGwlS08O6++wZTzDXB0IFxSUXvoIK9SjfgYWFUiJRG1w2V4dTVFQTckCRO/s1Jw1Acu
6VlzzkrQfC84ShjbG4FPUZ9Y/+t6HoWoWwpU6lGJJkubmDXm14STU09yZMwRAIa9GIZjrsevbgAA
IABJREFUdpHA8BP8aDCzAdWHVde3O6Cu2FIgKSGJSTaTJEthExLisLaWyhKTxkTriYxPME/lq6qq
A+h0tBOF6hbCT+anpaqTIgW3tNxCh48bibcSy4gUJILCt67+rTwcurvYrLmp4pjvMZxyOPFj3x9T
PRZAfEw8U52mKtfjJ/hhbW9NjrI58D6XcoEf//MvTD2W8hqbS4pOcZhC09iN/O30P0Z/GG3y/suX
L6d3794kJiaavK+Liwtjx47Fx0eb5Nzbby/nF4qfo+au7czcMxwYpO0jPPz1cByyOjBgwADmz59v
1Fhz5sxRzjPwQiCtl7Y2eDFrLHkl8/SigqsrF+fOAUS/tvidpid5yjy9iN4aiIMZpKmp+HHwYM7P
nq08rqkknWZ/QRCoVrkym8ywZjAWUmEkugghS5e6Koio9WfWs/D3hQb7GgMFUffi9zdUKFCBfM66
FS0xz2JwzJX6taQGuoi67mu6M95jPAWyFlDrc3zYcSoUqEBGewlPX6D2zNqcGC79u1foIYA8JWU2
aVmSUQrZzw1DysAvRZgJ3gKOto5EL4z+Isc3F/3792fFiuXExsZRpowruXO7YGNjxYsXb7l69R4J
CYl06tSJadOmkStXrs82L585G5lrBJmVJE/CqocVfUusZ8HQ3432fdu4cSMvX55hwICWlpgujRuP
oF27PoavP4Hpa/cysuNvBvt9RfhO1Kngm17c/zfs3LmTLFkeUreueQk5lsKlS3e4ds2aTp3SV2Lo
3bt3GTOmJ1u2+BnurIHdu0OoUKE9+fKZKC0+NQFOG3k8l9LQ+oiY6KoLW34WAzccssHHZN8YwQoG
G/Dl+/AEliaXOdtmhP7aysDJv8oYOzxtlJefExFBARRSqNFNIdg0XytzlJCGoFrGKrOBQXGAoE6o
Dk4QX1NjcXWZqPrTB1OJylQgsHUgNwNvqrXp83v7FnBn9x02eop3VYc+G4pTTif8BD+yFs1K/7u6
zdEV8BP8KN6kOO12t1NrU5B1lXtXpvGixiaVvwLs6LiDZ5ef0ftab5PXpErUjXgzAkEmIFgJTMs4
TTIYQqoNUFPSLenbh6eNzijb/Lt1Y5CX7rvchvA24i0bPTaatT4p+Mn8yFEmB72v9UYulzNRNlG5
TXV9qudmfNdHCH8aT26olnwqSe0PHyCD5QI1jIEucmd6lunEvRPDlEwl6ORJciZaTdRqr81xfpaL
pLarqyvh4WKAUt/u3RnWr59RY/cfOZLd+/cDsP/ofn6p+4vBfUwh6hT9kuRyfJYtZ15P4z/74+Lj
cWjRMk1DI1ShOl9TSLr3MTFkadtOsr9L1qxcOnpUq13+MpCi3f4jw6M1BF8OpVcVN4aeCqWCdcq2
+7sGKR/fXZKDKzl+p4KO3BRVsu6/yP/4781/VCtSTef6UoOEpARsetogXy7nzvM79F7fm8ND9Ae0
xCXEYWfkzZBjw4JwEByoOrMG1j2tSViq+3fY+bFn+HFyNZ3bzcXFBxepVNC479ZPCZ9ovaQ1u67u
wkqwIn5pSkCRgpTKPzw/j2Y+UiPszCWyVAlBWQ/ZZ/d+MxaG1nh70m1K5CrxmWcFb2Pe4jzQ+atQ
16V3mBq0MD/wMGHPHzH3aleyOGTWWZYvhcTERH79tREvXjxg+vQeNGqkv3Lg4MHztGw5nqpVq7Fv
336srfWETmngGwqQUMV3ok4F3/Ti/r9g0qRJjBtX90tPQxKxsT9ib2//hecQy8ePR3B2lr4raCpm
zTrL0KFDUz/Qnrbw72bj+uoijRRJo4KVGGKQlPzDy1CZpKI01rk4dP1XfHzUsqVjXwoxcQk4Nlpg
uKOqLyBYNuEXOWyqBY+Tk1br/AGVVd4zWxuIqcaCFQz6pDeAgpdXxLLr5xf0HzItiEULYkfHHVxd
d1Wt7VtV3+323s2lFaInW9M1TdnZaSejP4zWKhnVhJ/gR7/b/XApIXpEvn/0ns0tNtP9bHcmyiZi
28OfUUtNK79/cv4Jy6sul/SWMwRNVR1A1YFVaTS3kVY/XUTdT0N+ouGshgAMzTyOpdVuku2DPeEh
G1KVinlh8QXiouKoMTz1nk93995lU9NNjPs0DoCTU05y7a9rvLz5kkGPBpEpXyYuLrvInp4p/nDK
9V67Bk+fQsOGkmOrEnPpzedRQYi8e/BOWd5sCjkXFhTGugbrtNpHvhuJXSY7iIyEW7egenWsrKxI
SkqySFnl7bt3adSqFeXLlydUz3jGED62zZqTkJhoFvEFkK9zF568eZPuSTqpsAwFHB0duXVau/wP
RDKucIMpCDInwi+F8LsBom7/IAiv6EPDzNLXWqpEnaayy6llKxb16W1U+IchCN4CbwLe4OzoTJ6h
efh38r86lWGq+5hCiiw8upAW1s3IvVa8Capv37Typ2uxuAXbem8z3DEZqgTcsF+GKZNee6ztwbKO
y5R99vvs58nbJ3Rd3dUgGWcsWVd0dFGmNp9K68qtjZ7v54BcLmdlyEq61ewmuf3U/VPM3D+TnX13
fuaZiQg4HIDPJp/vhF0qYAqhNXrxdqb2bs7IhVuZ3jdFIad4L0cvjJYMWfnc2H7sEs3rVvzS00gL
mETUGU9rfsd3fAEYIulkdgOIv1iJIkvKEbGgAoKVByRFI0++ux0+py/1H/bkSoN9NA3vwtF+LUmS
n0AQaiOXn8C62EIS7vYFULbJhNokGWkkam9/nl69NrBkyZJUr9Uc3L9/nyJFnmBv4AeaKRg6tCpV
q1bh7NlzYkPYHrj2J9xLwy/xQz21VVMuZaDxXynk0qWAFLJtVWl4c0t83PIQFHRX31dB5C3MCv4C
nXfnZLWveYlBQr0A/lg3gKF5tT9bhXoBYJ0L+cE2EnuadgwA+RHD/nmOdtYEBwdTs6ZEyIPqOQKx
fLiKYdNog7iyGIL6iI9dykCHS9BWxXMnbE8KOVqhv/iaaOLFZVExGfdO/7HK9YAGSzC7JPYLodna
ZlrBARs9NmqRQeU6lLNYwMCXgsdyDzyWiz6G84qKJM2CUgt4/+g94+LHIbOWJmZ95b5MtJqIPElM
Fc2UPxNdTnRhomxisroOPkz4QIbcxquv8vyYh2oDqzEn/xwGPRpk9pqcXZ2JDIuk0dxGHB51mPrT
6hu13+nZp5VEXcb31kQd2Ia1R1MlyeDUspVZCppTs04x4H7qFcB+gh/u092VJN1E64k4ZHUg5mUM
vnJfkuKT1N6jWkRW2bJQrhxERSlVcapec+12tdNPfj18CAVM92ezBBK27VCubXzCeAQrw58pM7LO
IDYyVq1N8m/20iXw9oaLFxEEgVrVqrHOQr8DShYrRkRoKMWrVGHIkCGp8jZKSEzEt52oZDX1fahJ
8qU1rLyacnCSqFg0laTT17ehDpJZedwCnehhvYGBQUaoSuRJ3HyeRMPM+lXhmiSdpVR0irEV4+65
uoewaWHY21j+hnHfn/vy/r6B72vlpCx+eAC2X9pu9r5/HPhDSdQt67iMQiMLETE9AoBfyvyC4C2w
tMNSvWPo8/uDlNJXxWvSa30vlhxfwpEhR8yet6UhCALd13TXSdRVL1Kd3JlzY9/bntjFsZJ90hID
6w9kYP2BBn0Dv8MyeB/9EZ85m5g7SP2aSHHeg24F0WB2A0rnKc0NPwsHu5mAIxdufatEnUn4TtR9
R7rFrl27DCrp5PHXmDfyEQ/2/c3WSBnyxN0IQvLdyrgQXAdf43liObwz9mfwmxGc6geqduWJ9wKB
vsBHEEQ1iBx4ExuLi0NDRpWyYtqtRL0JQEuW/M6iRYvo06dPapZrFlxdHyP1C8ndvjaHP9kgT/oH
QWjIP3En+M0EW5mzZ/1TiBcbRyjrDT0fQwbLGwXzOFhUZ2ni9Q1YW156n6JN4FwyUXfMB14lf5n8
5AvVJ6T06yumofaylybp5FE3kXkdYt3ugbR3EttMIc2+FFZN7UXNvdfFJ5qpqZrnwFS8viEmpCYk
J1P9ugbK9xb/KfDhMSzND8jBLjP0eZVCjl6cozd1Vwlzk2m/IqiWeiqwo+OOb4q8G3AvhUyalmka
k2wmAeB93ps8lbU/L8Ynip5yquWwihLY8YnjmVikDQ5RlRn+arjRc/hlzi/c3nnb5LmX71ieK2vF
JODIsEiarRNfg+DpwZJEXVhYGJGRkRQqVCilUeWaQpAJxLyM4eTPI/hp8E/IPL1wsrNnfLu2Jl2o
WyLhVZHSqlnS2mpLK2W7XoJOFXI5CAJ+TADE19B9urvu/qqYMQMW6vbMSgtEP49mVq5ZAAx+PBjH
XE7KYBRNvP/vPXPyz9Fq7/dvP1yK60gHDwmBqVPh4kWyZcvGTz/+KEnSFXJz44+gyzR79ydFWywg
IjSUhH8XU7TNUsJCQ1HQ2Q2rVOBeJk/CgtQ/F+6cO0chNzedRJ23AQJKAd924vefKWXY7f39PytJ
t/zAQaxlMtzLlydj6zZGHff83btUHTLUYN+dO3ciCIKk2lHI3or7uwCSSX73UIlt6o91afP3HBD9
Cvtu6EvhbIUJmxbG4StX+PPgIYucx5hPMTj1dVJeUA/fOhwnOyealDOs2h6xbQQvZr8w+Zi3ll2n
csZKuBTQn4JcsnsZk8dOC1wYe4Htl7Zja23LpwT1cKIHrx8AIiFR5486APSo3QPbXrZ8WiIdZLSs
4zKDqrqPiz7i2MeR6LholrRfwrXH11h+crlBku9zwlCZ7+L2i+n7c98v6lunGv6RsDQBK5kJFinf
YTQm92rG2CW6PUrdS7krXwvXUa6EvwpnQP0BBLT9PPYyAP39//oWS17NwvfS1+9IxzhpsMeZ2y8Z
VLMVG54fwzX5M10Q6iGXH2HZ7mscHOzD896rODnQCuuCC0l8HIxcfgIroTYfPmyj/Q7Y1j67morO
UVabxx8PkdW+IXL5cRPmK0E2pSFu375NyZIvJbe529dm85qfydb2KAG1bSh66DDB3sOYtvYsYIVc
fhRBqM27pBNk0smppN163r59y+TJkwkKOsjDh48oXbo0LVu2Ujf9/vBELKF8fVP3QFKQ2aSUyJbr
IZZM6ih7NYaoUyjqhneYhxzYtr4fzfNYpfRVUdR5tV/IricJZHYtSWzYbeKU4yQi1FuAzKUciYE/
c2nleiqtf03ggYG0tDGTHFQEKbiUhs5m3PWSJ8L8TGLgA+j2eVMlUmXWotrtiI8yoEMnnHJDu2Ax
JOT/OXbu3Mm///5LZGQkzs7OuLu7U6mSuu/OiUknODo+xUOpVItStN6avkpoTMGeXnu4uPQiVrZW
jI0bq7Ofn+CHzwMfMhfIzKeoT0ztZ8eENXL8BD96X+1NjrLGh4H4CX70vdWXbCX1X1Rq7uPg4sDH
1yIxfSP/DS59usSCtkaUl2ug8fzGeCd5s0SuTtrIPL1Y3LsPvRcvon758hyapO1zpjqf1JJ0mmNE
PY5idr7ZWv0cXBx0EqIJHxOY4jgFUEktTU5vNQnm7GMmFKnFudxy0fNyikK7VO8+3Fq8CFAn8VLm
COM+6VaCqsHZGV69Aqvk7wAdBBCIRJ0AyJEBYllsITc3IkIvU6jiz0RcOkbzGhW4THnCQ1brPKRU
SIExUC29NlWhptjvc0ExP3N894zB69evyZYtG5eOHiWrs3NqpiqJQm5u2NraEhcXh+AtcMfvMSV6
9bbYOZT1kHFy+ElqFBXLS00lVMwlYM4ODyFLKWdKnirDfp/9/FJG2zvx4T8RFGhcyOSxjYE589bn
P6dQ1amqtwwdQy6XM2nPJMZ76A8uKjG2BIG9AimXr5zZc09LLD+5nIVHFhLqq788Pz3M+0LEBX6c
8iPv5r0jk4N2kvZ3qMPY0td+szYAmEWCKUqUHWwciFkUY/L+puDN+2iyZnJK02N8QXwvff2Orx+C
IOhVsSlQrWR2Tr86ptamKHvt4VGWHh4pxroJ/01VPk5MHntbcuCMaqlrTNKJ5HFMIelAJpORlPT5
zGRLlCgBSBN1AC5t/JC38WNeHVEZMm3tWUI3t8GtzVaIf8iaiH1ksW1DUryRPnKpRO7cudizZzKV
KpUgSxaYNcsL8NLoJZKz/fvPJX/+qgwfrkFAvbgMG2ukqL2kkJRiIMzVZTwLWUauOqlTxw3rMI8H
f/eldNOFtGi/gKQjA7U+aUMWr2XXkwTqtXJndMHXuM/SHkeXqsMceB1vwt+7TPCcU016zVsD2pyA
ARKJW5qJsKpIShD95FRRuoNIhlo7GD+XbxQ3btzghx9+0Gp3r1OHYq6uZMqUiYjbt+m0ejU3bqsr
wOzs7IhOiMYqmQAIbB2oVDzZO9sz4o0FSpgtjD/++IPhw9WJnmHDhjFz5kyaLGlCkyVN+PThU0r5
YeJ4rb8BVWWXr9wXt1qdlUTTJNtJ1JtUjxojjPM+UlXmGfu3VndCXY5OOMocxzls9t5MVarSla5G
7auJf/r/A8B+n/20X9meV+/FQBxFCSzA4StXdKZuppakW9dwHWGHwtTGCHAN4G34W62+uo4z2W4y
iZ8SqeNbR7tPsrLucxFvxkJB0AkyQXJdFyfO0lKx6iMpdeLJE3j0iMQEuL7hipYnpRTCjk7jlP2v
/P6TGwCy7K0AASHpLSDnUjREhK42bR4mIGZrIG+iPihLSg3hS5N0xqTRmlNG6uLiglwuVyZzWsJL
EOD3nj0JOXuWGzduULp0abEM8rkngiBYtNRVNVXUVCJFLpfT6IdGhjvqwNtbYknw4mOLJYm6p8cf
pxlRZ2moquoEb4GN5zYaVCQKgoDvLl+DRN2d53eoOKmiMnTDGBLwc8K7ljc91hr2+U0P865cqDLy
5XIy9stIjkw5uD/1/heby7eETI72WFkZcUNKAooSZYCOKzuy7vQ65radq2yzFL7RAAmz8Z2o+450
iWnTDKQ8pkP89Zf+L3FLQxAEbt16QKlSBbW2BcWmEI8DjotkpYL4lLcWPfk6FoSOn4Gka9DAnUOH
fHn6NNDofebPVyjgTtK7918sXrxYfJqjAgzUuJNjIBU0tx/IU2kXUm9gNwpktObD4YEI9QLIM/sh
Twer+y7VDBR/zB7uLZaACLMua0t6bSwn5XdJCNe9UTXh1Sk3dLgoquU0FXOHeornzxAcskG9eVDS
cPz7/0coLqDs7OwIv3xZ+VwXRkq0PXn2TJmG1aFDB9ZuWavcdnHZRePLFNMYqmvr0Lq11gXv3CVL
1PrI5XLlfBeXXcyL6y/ocKgDru4pSktfuS9yuaiiG/5qES655uIn+NHtdDd2dNxB0Mggo9esIOuM
6X/t2jX2ntnLzwN/ZjOW/Sxc33U9+332M2z7MK49vEb0VvHzT+bpRWJSEmX69uWGSkloakk6P8FP
GQyh2tbQvyEHhxxUtkkd49iEYxz3O0720tn1qh8BkaSrVg3OnDF7rpbCo1OPWFljpSRBFxsZy4ys
M9TaojMnMfOt/pTyyLBIzgac5ez8sxo1GXKG8Qd/oE3uxcXFYWennaSp+NuoofI47NAYAMKTn0eE
XtY7n0Jubjx9+lSrff6ePfRvYrjk0d7WFseWrYxWqcHnJ+nuL1+GzNOL91s2S4ZBKBCwezfDVq5K
1fzkcjlWXk0p5OambJs7dSpNf/vN6DGqNmjA85fiTdLBgwcTnPy3IHgLCC8bWvT8/TjlRzXCxBwC
RdZDZjbpkql0Zt7ffEdkQCRZfbIa3sHCaFyuscn79K/Xn7h4Mdk55lOMmjH+rUm3GLBxAPPazUMQ
/o+98w5rImuj+G9CFUXB3kXsHexrQWy74irYe1sVe197xd4L9vatvS8WLGsvqGtXdO2uiqhYUFGQ
Dsn3x5CQkB4ClvU8Dw+ZmXvvvDPJJHPPvO85Ah3WdEC2RkbHtR3Z0nOL1jENOX8p9eqU130tZJ2h
8cjbxa+Kx1Ly5aiCiKURPHr7CMFb4Pmc5+R3zP/FYvnWceb6A8KjYsxCgm3svpGN3cV7VHNqC8bF
J+Dt5Zbqcb4n/CDqfuCrxL17z0zqF+i3g8ptVzF/y1IGeDhimaWtgqASBPHil8kCRA23WBj7v+VM
715WYSTh5vuagMG5Tdr33btBJvVLDUqV6oQhJcLG4vx5CTXNYOD1889VOXbMdCFsgBUrOlCyZAnu
33+guUH5XupuoCvzQqQ4udk3ranWsQUbUbgvLFIGGbWTK7XLqjogvX/0BtAtkG6Fqh4ioMhE+RQR
qz2meslkWplO7bndXXPp3x8jkjSilA0kbLJA+/OiRp1cpy4mTCTkHhpAlNaaBtXG6W/3AwA0adKE
gwcPcu/iRTKk0v05b+7cisl8p969EQSBs2fPUqtWLSr1qkSlXmKpbNS7KAVpJ0gEheZbWsPW1pbY
2Fi9mShD+vRhSJ8+imU5aSeTyej7j6hzuCDfAiJCIshWIhsD7g9QtJOTbLIuPvjIZFzyvUS5DuWo
NbqWUUSWIWRdBpsM7Om7h7ol6ho0pqmY22KumGG3sRPvPrxD6r+P/L/9xr3nLxSZdWennzWZpJO7
rmpzpZWTdCm3B58LZl3tdQCMjx2Pu4+74Tu9fh3i4sDaCOFTMyL0TijLy4qlrMrHlRiXyDSbaSpt
s5fKTv+74sOpXydPIfROKCfGnuCBv5bfkxQo3rQ41QZVw7lhEZDJSPkuTWKSzvLX1EBOBuXOrX5P
MmTNWp1EXY6OnbC2tGTAylUGEUf2bUT5hvQk6aoO+x1XZ2fm7t5NyIb1ZNLxHSrx9OLs7FnE7THd
XMCxXXsioqNJ3KdqjPXzzz8zZOxYg8e5fPkyVapUUVkneAu8XxBBVnvDjXD0Ycj2IbiXcFfZR3oT
PiW7lOHy6L9xsHPQWn5tnSXtvgdGe2h6rKUbi9svFskDAcpNKsfjmcnZWCVzl2TJySUsbr9Y5Xi2
Xtqqk6gDw86/LrJO7tL7pdG6UmuD2n0tJGOxnMWQrZGRc1hOQiNCv3g83yp2nbyaJp4v8vdjdcBq
em/qja2VLdHLdVQ96cAw3x0/sulS4AdR9wNfJby8TBBhlYUxMdKDhARtDpwSqivd2F6IC+Anazem
d1ctsZUIbsTJAoy+OLJmddHfKE1Qm4IFCxAcvDXVI1lZ1SU+PsEsJN2JE4s4elSdpJOToimXf8pc
h/6HthK2ewUDF6hOtu7fX0vGjHZERhqoi9AnRPHSU4s+HQDWRQEY1G4xrQ4MYMUc8RxaOldTaTbZ
eyk+JwdxeqV4I3dvuepNOkAbe4GdETISAQtSknRiJl3iqxt8eF2Cevu067sZbWKRrQzkqgRvromO
quvVSy8BUSuu9bEfmnFmgiAI+G3YwLLp01XWy0J3UbjhdJxK1+D01uW83O7Nr9daETj3lyR9qkAm
eFYmg88ZVncXL7SF5wJprjS/27xKdKLz7NCBW3fvqkwo7LLbqZAT25tt58E+kXQY9O8gHIuYfyKQ
GiJC3k8QBF68eEG+fPkY9nKYYrucUOp5qSf5quZjkmwSl45lVSmHlZNuk4XJZC2alYGPBurdrzay
LqNtRvz6+LGnr/4SO3Nicxcxw27QgUG8+PchIJIPFV26c2qfupmBPkgTpEy1msok2SQ1wwhlKG+7
tvoaB3ofUBC8JmfwxcV9kRJYudtsgRoFFLH/UesPnp9/rtLOwsaCxNhEAN7de6c4J1WB5T4iwVdr
dC3cxrthldFK/45z5NB5rOYuqYyMiqJMjRqKck1t+9SF9xERSP33UbB7d5b20V2h8CUy6fJ06UrF
IkX469o1do4eRW4tunHyDLjUxCbx9GLHqJGEbd+mcfvRo0c1rteHuIQEbHrmBKsws5MHbnPcmN9m
PlWcqpBneB62eW8zaR9NlzRVlGKaAkMkBFzHqd8PmQM3n9+kVlEN7vYGYv+A/TRdov6g9tPiTzRc
0FBBRBkK2RoZQ3cMZWFb3d/X2si6BGnCV0F87eyz0+A4ZGtkFBhZgOK5inPi9xN626cl5GYogreA
lYWVVgOQH9COJWlIgvVy60UvNzFpQm58AxisM/ij5FUz/tNE3ZQpU/Dx8WHz5gl06KDfwez+/WA6
dZqGhUUmLl26kg4R/nfRokULVqz4nb59m5ltTJnsNBPK1WXRU3GS+JO1G/lqqD6RPjukDdcjjCfp
Dhz4myFDvpyGVHCwOFGxsLAgJuY4VlbGHYGdXUOiomKIjzf9hk4ZkZGR1K9fSev2+IDFWLsfQCZN
vkG+GCHjYu32SBzLMFBd95zIyCNmiS0lRpe3Y9atKPI2SRKPFyyIX1tdpU2vriUUmW4WDgUoouHe
bse+Qeys54tlUjsbQDlvLqsAH2SQrcN2rnXKRqXN71MffEp31WItoNpYkbj7gTSDIAjMnzqVShU0
uxLvuRpIzNxfaLTyIfdXXgGuAL+IIvIuriDJSFDFjKxG98Tef+tWilaurDOWdntFR0eZTMYUiahD
lb96fnpc6GHKoalBI0knfYRTxaSn8ta12NjkPqd/2cnEatpLo4ICA8mfP78awTBJNolPwZ9YVGgR
AAPuD6Baw4EELW5Jm/5/MlmYzJjwMSwptoSBDwfy/MJzg7PrUpJ123ttx6+PnxFHb34sbrIY95Lu
nL5/mitNJlJj/zQcB3Yxiog4P/s8FxddVDkHyu8/qBJ0c7LNIfpDNMNeDlOsP3XqFPXq1TN4nx06
dGDLFqWMk3TUqzs/+zzHRx8HxOOa5TBLjZBUhpykq9KvCr8s/AUL62TJgcAnTymeLy92GkpVNcLA
Y5R/ruWE3cyJE2nfooVh+0jClLlz+SPpHKfG6O3AFfH+1BAtty9B0gG8/fSJw9evc3nBfIpoyBgE
aDt7Dmdu3zY5NqtmzcmS0c7sxxaXkIBtq6bIchwGK/OUfCkjPDqcV59eUcWpCmUmleHVPPXSZ0Nx
4NYBs7hnKj7fKQieB3/cpUT30qkeXxN+3/U7x4cdN6lvdvvsWrXnMmfIzPF7yeMmSBN4s+CNQeMu
Or5IL1EHSU6w/e2Q9JIgXS1qV1tKLL+aLLX4VfEGx/F8znMGbhuIbV9bYlbEpEPVgJCHAAAgAElE
QVR0uiFbIyM6PhrBW9BqcPIDqoiITN/3zc7aTvHZOvfvOWrPrk2pPKW4O0WzOWB8QiKdPX5KzxC/
GfznXF+HDBlCuXK29OhhvO5BSsTFxWNv34jY2LRj9efMmcOECeO5d28Tzs55NbaRyWTUrj0QS0sH
Tp82zgDha0dMzAlsbQ1Pq7eQuCGVATZVuTz0NVVnBQOiMYQg1El6LZa+TosIoFUGN7Z9CsAtU3Lp
642hbTj8/gw1HQ170iaVSpEsdNfumvmFMHr0aGbPnk2dOq54eFTF2TkvwcFvCQi4ib//OaZMmcKE
CRPSZN99+/ZlxYoOGrcJghtxZ1pR/0YbAgbnVmTUpfyvGcY50cpkMoTTQ42M3jywreer5PqaRqi7
KO3G/gGt0JVhJs+oA3gaeJ3CFZvR0uEF405cJ6sgak51WXmWKdXtFX2cG0zhyXHtJayjZs5k+/bt
Bse39detPDr0CIAhQUPIUiiLwX1TwsrSkn+vXdO4TZ4hKNd7ujjHA8efZ1LCxVWj9tbMhQtZuX69
1n1Fvo1kXi7RhUXWxQefDeJPuJyUaTCrASfGnmBi4kSDyTq542nJXiXJksH082BuTD4wmXbSdgx+
MphR6zcwd/dugwiFycJkOh/tjHPD5MzYXW12cXdX8g3wJNkkIkIiWJBvgWJZjqpVq3LlyhWyOjpy
/VSyy7A+zPb1ZcU6sVRWcd945QosXw5J6zUiFWSecilr/ur5eXHxhcp2GTIEBOpMqmNU6a7BZgQO
DvBR3YjDEAjZssMH1YcxjlmyUKxIEaJjYnj4+DGxsaoSCL1792blSlXHYG2w8GqmVsIph5x8G9Gi
ObO7ddM6xpci6SSeXkgEgePTpuFeTnMGuMTTixfr15E3q/G6aKuPHKHf8hUkaDk/qYHE0wtZLn+e
znpK4dGF04RwUXYtVTaRUIaPjw+TJ+vWW9SG0qVLs3HjRjXncW24NPI81cNqUTBrQYI/BKsc86WR
56k2xwwlGBqQWkLr78d/U3NWTYrmLMqj6Y9Utvnf9MezgieFRhcie6bsXBt/jX9e/kO5fOX0jlvO
pxz/+Pyjt13DhQ3J75CfK0FXuD35tso2wVsgclmkin5eesOytyW3Jt2idF7DiNbbL29TzqfcFycZ
lVFzVk0uPLmgIEP/q9CXjfa1ZKtVmlqJ68HX8R/gT9MKydmuX0t86QSjKpD/M0Tds2fPKFQoOM12
5OzchSdPdIi7G4HY2Fg2bpyAt7d2bS1diIuLZ9asc0ycmL7mBmkH82uwmQunTt2gbt1BySv2NYN/
lW56LazBYyOU0FaO+30iISEBS8sLGrdpI+qQRWFl1YRHn0/ipE2q5lksvL4MwSfF/3EROuM49Loo
jRunnpQ3BT+IOiXEhEFsmPjf2NdfIYTh2jPhZKG7CHRsjasljGpQkXHHr5MZKU6VmtO/6Gs+DTnG
5r5uBAUGsnxvAL/kCub3u1XZ26O41v2t2LaNWbNmmRSrnOSqPa429aYZnkElx+FduyhVXD02ZxcX
inRYxbGR1VjbrQoua69Q2TKZvNOG04GBdO3aVec+T/uc5vSBcQjXfqbfnX7kKJ2DhJgEpmeYzviY
8UyznabIlqs2qBqNfLU7GspkMo4MTZts3NTi8tPLTNwn/k5nbNWa6Lg4Ynb7YW2pnhEtL/tUJt2e
HH/CpoabFMs5y+ak/oz6bPPcpkZexcTEkCFDBtxr1WL90qWpitvJxQVXV1euX7+un4gzgezSpDUn
R26X3PS+kXqzqaM3bvCzq6v2Bhs2gKsrlC9v9NjKBNhJvwnUazkVgHfv3nHv3j3s7OwoXbo0GTKY
7pS96dQpOtfVrK8o8fTCvVxZTqYoy1dG0V69efL69Rch6baNGEGOLJmpp+XcmuLqCnDv+QvK9O9P
/N49Ok0pjMUif3+GbZqGzOEK89vMZ1jDYWmWFTXj0AzGNh6rNn7hwoUJCgpSLA/o2ZPhAwaYtI/L
167x+8SJPH/5MnmdBt09OeREXS+3XsxsMZNSE0opMtC+ZqJOuaxV0ziCt0DowlByDM1hVKabMXEJ
vQRmNJvBmMZj1LbVmFWDD5EfuD/1voae6QNTHIRt+9kSu0K7znJ6QyqTYtHLgg3dN9Dlpy5fOpwv
gm+FqJMjOj4au34iSf1izivyOZqmDf+N4gdRpwQZQNu29dmxw0dtYwNbN05KiyKN+4OClm6sjAqg
n50bTxICUP6Jd7JUX6cdxmX8KCMkJITcuR8hMeMNRr58bXn5MkR/w68cgwcPxte31ZcOQwVNm85m
//4Dhnd4dhz8fgGZ0pOfLM7QcBUU0l96/a0hc+ZMhIf/ZbbxDh2KoLERzmwAs2bNYnS112aL4WtD
aIAvOcynXa0Zto5g4yj+T/k6Yx7VdZnyJr/+jnHu3Dlq166dJgLyKeHk4pKqMjg54iLimJl5JgBN
VjVRmFPoQ1FnZ07sUdVzk33YTeF6SWWWEgfGl4/EZe0VhlZz5ey1G1rJujPnz9OlXz+DY543KA+R
S5KNKSbJJnHJ9xKHhxxmwIMBrK+znmEhw5gimcLExIlqekpTp06lyvu00U8yJxotEonGkA8fyN/t
N0A1yyll9qByKagyrDNZMyZCfUIYGxuLra2t3s9rzYounL0eSFjgTir9Np+gG5e0tj1y8iS9hw0T
P5tZs8KHD5oblikDd+7o3K8cu9ru4u5O1dKYUi1L0ebPNshkMrV7o1rVqlG/Th1KFitGolRKyKtX
nDx7lsMnVLWUNF0/ujLS2LQJXFygnP7smpSQeHrhmCkT77duwaeroMgKNSfazJ7NzlGapTbkJGF5
JycCF2vO8P+SmXSWFhbsGTeWXzWU9FcYOAgbKysuLzDOgGrH2XO0nzvXrMfjPq0dZ56JTtDKWW2v
Pr1i/839Ci0mc6PAyAJ4VvBkWcdlWFhYIJVK+a1DByaNVHcbNifi4+MplkTUhYeHY2+fnPH9bP9T
/i36hAevH9Cvbj8Vcuf5X88o4FEoTWJKa6LOfoA9EUsjELwFwpeEk3lgZsMJOGPIOm+BglkLcmPi
DbJmVM8Q/dKlsKbs/0vHrA2Ct0DMihhsLA2UNvhOMHLpLuYM0GwSMmDeFnI42DOpp2c6R2UYBs3f
yvqgPkTERDCp6SR8PH2+dEhpjR9EnRJkogC95qfpDWzdCJcIXI46g4Vjb/a/WaUg6iwEd8JOtKDi
popIN41NWlefYjktORdyhJxaJB9u3XpM+fLdjA40MDAQFxfN2UHPlg6mYoAX73dqz4bQVS5oYeFO
YmKi0TF9jXB1deHGjSVfNIZixX7j0aN/zTfgu9twvA+8PK+6vtJQqD0TLL7dHxxn53w8eWJ4yZ42
eHrOwd9/v9H9pk+fzrgaoane/9eK12d8yW2vv50aLG2hYAORIM5X64emnQkoU6YMd+/eTVOyzsnF
hZ7WPckflx+AEl4laLunrcZSKGMwWTJZkW+uVj76OQQOtFF8H+nKHjQWxpKOcqIj/Hk4CwuKukA5
Sueg351+TBYmU6BmAZ6ff67Iruv7T19ylk12ST485LBZ4k5ryJDhscgDgMiYGIUDp++9BnwM+siE
eFGi4OXll6ytthaAvFXyEnJFfAiXuUBmhgZrL/HXVqotC91F0R4vkAZv4GlgoIKoc1YiWnVlSNZo
1IhWbdrgu3ix9qy6atXgknbCT5YoY4rlFJV19WfUp9YYUUT+06dPODg4AHD3wgXsTMhCk5dm7927
Fy8vL8X6bosWsX6IBrMhZ2d48sTo/Ug8vchqn4l3W9KOpJPvRxsppY+E+5IknZWFBbu1kHQSTy+i
/f7ExsoAc48kfI6JIXObtnzasR37VGQnHr93nIYLGiqWbWJcidl0Xa2dj78PR+4c4cIYzdUCqYXg
LVAmbxlmVJqBl5cXC6ZNo4UOZ9+0gvx6kX9XJ8Yk0mdqb9a+/R+yNTKkMilWva1IXJ2284o+m/uw
spNhpeCaICfq7k65S3mf8sSvitfaBuDnMj9zZIhh2dfj9oxjenPtGava9qON3LLsbcnwn4czq6Vp
mfOpwdKTS+lRuwcZrIy7hr5Wss6mrw1xCXFfZWxphclr/bUScYZm071//57hw4ezfv16nJzy0rZt
XSpVKo6joz2OjvY8ffqKR49ecOnSXfbtO4ebW22mT59BrVqmG75oik1+rWgr+9eEpUuXsmPHds6d
U51HZ8qUkRo1ajB27Djq1Kljcpxmxg+iTgmy0ND95MjhoHFjA1s39secwU6ogyxxF4cScimIOl4c
x6LgbGTSY4qMOguhLjLZKT0aWmBaVp328k5BcBMPRhaAk6Ubt/7xIUPoberfaMPlUV2IiTmq0sZ8
MX29GDduHOHh91myRIejpxkxcuQK4uNzsXCh8e58qcLDXRAwGj6lmDTkqiRm4n0DBMu4ceOYPl17
aZouREXFsHPnS7rp0NnRhfXr19OtUGpIhliEeiu5dXww5cyX6Go+mFL6Ko2HF2ch5Dw8PiCWEBuK
PNWhZDvxzy6X8fv+zhAaGkrOnDn5uW5dVpvxu0F5olRl2DCu/fuYmV27MKplS1F7LP8CBdEmJ65M
wYctI8j6ep7qypwu4LUXMotZEiEhIeTLly/VZJ2Tiwv1stTjxEfDneOC7p/BqWTyzdWeLnu4tekW
ADnK5KB4k+Kcn30eC2sLyrQtw+3tt0EGE+In0K9uPzwrfJ1PkDXBw9dDMTGOS0igb84xrKv1UEGo
KJsnZC2SlQ+PP9BgVgNqjtJfdqaLqCvccDr9/3eGEZWyGE3UybfLdBlLuLiAhv7TrKeRGJ880c+c
PzNDn6uSjeZ0UgUonFTqKpWKWe0aCS8TNfWUCTC/lR1p3msjEjOI+GvblyaibciaNSzef4BWNWto
zLizb9OWyJiYdCfpnHr0JOTDB/zGjKFpVfUMV1NKXeVOrq1NsKhvuaIlu6/vRiJImNtsLcNX7sXF
uTDXF2n/Pc05LCebe2zm5zI/G70/Q1B2Ulkal23MnNZz9LpsV+mzirXtMlPGvT1dq7rwt1Vtnp5f
gpOLC+uuBFLXSrwuq406xI72eXFyceHGoW24Nm5PUGAgi3adYtH0oTr3sWztWuYuXar4Ttr5+1ZO
ugYoiLP0IGkSpYmpMsJ48PoBJSeUZEKTCUw9MFVjvJJeEmQyGbky5+L1/NcsOLaAYQ2HaRhNHU6j
nQiaFWRQW5lMhkVvC2QymdbzFvQ+KM10D/XB1PfzayXrQIzt3cJ3ZMuU7UuHkuaYsHovU3upmy+O
XbGb8MhojUTd//73P8aMGcGrV3uwsEj9BKd9+8kkJDiwa9efBrW/8TCYovlzYm+nWeto44WNdP2j
KxYSCxXn6iFDhpCY+DxV8397+0YsX76Szp07mzxGKvCDqFOCbNGiQQwZojkdVCTqAsgAIH2jQtRZ
CW7YCBApDaCwgqhzI/LlCjIWGIks8aCO3ZqTqJMiWHaia7YQ5r4+TRUrN/5NCEAWsJhKJxpzvMBK
hmafydbm9XWSh0+e5MPZ2Vnr9m8Zu3btokOH9ly8uJJKlUqYZcyQkHcUK9aBgIBzBgvupjteBMCF
yaJeW0o4NQL3eZCtTPrHpQVNmzbBw6M4/fo119u2atXezJmzHHd391Tt8/Xr1+S+l5onlNqIukRc
uqwn6LPAx93dDR4tPvw9WdtsxT5rFga1qcLoZqVSERtwbysU9YSizcE5rbX4ZHBzJdzfJhJ9upCl
MFQcIhqs/AfQtm1bdu7cCcCvDRuybO5co8dwa9KE4BeiWH58fDyWGnTKZvv5MWbDRioVLcKVBcnW
yKF3QllbfS1xn0VjowI1C/Dbmd8QLJLuBw7/BnfWa9jpHKgyAkgmggSJwMREVX3T9+/fkz17dob1
68egXsaVfN26exfPDh34448/6NKhC9NsRe2xZhuaUaGLZtdcZUiliWqEx/o663kW8AyA3jd6s8p1
FQCWtpb0CexDzlI5OThI12/014lPP32ion1Ftv66letTLdh/+QoTDrgikYnvY+F6hXl68ikW1haM
jx1v8Lj6Muosn2/gzo1A6qQFUVe6NNwVy1nDn4ezoOACBKX71OFvhpMxZ0aNMY8YMID+PXsafJzv
A3dSqdsMnfG2/u03rty4IU6YZTLVJ/YmmkekzFJbP9OdbmNOGz2OMfvTRGzpypYLj4rCoV37dCfp
fp08haM3AjkyxUdNk+7Fu/cU7N7dqJiK9erNkzdvtJcta4H9AHs+x37Gf4A/eTOWpsqwYbg6O3Nt
kf4HLIK3QOLqRCRC2jyts+1rS2xCrKiTpoekA/Gaq/VLWzbPHkPHqi6EJECtXBKc81rgtPIK4aNr
Yz/1LN1rJJv9BAUGsqJTZfpuvqoYQ99+ilWpQlyc+Jsi16KTyqRIBAkvP77EdZwLb5eZt2Lh8+fP
fPz4EWtra3LmzKm/gx4I3gJZMmThU/QnrYSS4C3Q+afOLGyzkOxDs6dJ+StAsXHFmOw5mY5rO+rs
9yXIrwRpAla9rb47si7zwMxExER8tfGZC2NX7GZGX3WX8QHztrBwSDusLJPvoQRB0JNslHpUrOjN
1at3dUp5GaObl6FeBpZ0GETPnubPMG7ZcgJ+fqfNPq4O/CDqlJB0cOYxIxCE+shkurMBOnZcwZYt
W00YXXOM2S3ceJso6uMJgjuFLKQ8SQggMWAx9W+0YZ/DIgZkmcqeFvWJlunIqJvvpnl9xjzJ5W/5
an5VxI454O/vz4kTJzh+/CivXr0mLEy8CXdwyELu3Llo1aoNDRs2xM1Ny/n5HhD9Dm4sFUk9TbDL
BSXbgssAcCyWvrGZipgP4jHdWCIeny5UNNXMQYZQb7HKmriTg8la35fPMqjVrC7zXeOoNuk8FtlL
krDzF/xnrsDrWJzCQMKqni8JiIYS55evo9af4dzd2Qerj+8o3/tPok6k0mgiZUbd4/0QfBwe7ILI
V/r7ZystXv/FW4vfAebGo91wbSG8PKd5exZncJsl7v87wqhRo5gzZ47B7W/dukU5E/SwZvv5cf3Q
LDaWvoUNGtzHy/fi2MFf+ds32YG13+1+5CiTQ+e4693X8+yMSIQ1mN2AmiPFrBU5YQdQ382N/y1e
rLH/hBkz2JREXP711180aqQ5o3ZJ8SV8ePRBZ1agrhJCuV4diPpscZ/jOJzlMJO66XeD/Voh16tT
zqCb3PQ6k/ZXxMrOirGRY40e05DJvyko7OrKgQMHkrVDNZB1MsesTPmo+j2nz61XEAT2bdlChTLq
9yMdq7qw5bLqsYikwxWcXMRsLfFYpTi5VifohnrG8KRZszhz8SJPnz6l0pChIlljawsxMfoOWQ0p
ybF5g/IwfLEB372pwObTp+mk4SGWxNOLf1evwjm3qjD39rNn6TB3XrqTdBZezZDJZFyYN5dqKQxp
JJ5eJO7ba3Bpk8TTi9Y1a7JjlOFabZsvbqbz/zoTtzIOx3YdiYqN5fWmjeTMYrj7c1qTEIK3wIB6
A1jSXpR0MfRajft7Ci3vdiLz6hZsuRxIEY8ZjM+7B6eVV/itikjCHRpVi8azzylIucIuLjw1kIAH
8TpZv20bkEzUKZ8PY8/N58+fVbTv5HCvVYumv/xC+TJlKJYioeDugwdcv3mT/UeOcCmF+3j27Nl5
8+aNTjJAueT07KOz1C6mnkjhPMaZp++SzQCNOSZjz0HmgZm5P/U++Ubk09lPXo6dngTTnht76L+l
PyHzjNc1rzytMlFxUdydcld/4y+AQqMKqTkWf0/QpFF39V4Q6w+eV5BhXbo0YuPGcanaj3Ga/RAb
G09CQjUyZlR9GGcoSXfz5k0qVAg3IVLjYap0mQn4QdQpQXFwFy+upHr1tCWhxo79ixkzZpjUt3Tp
wty9u9HMESnDgCy/sEdiOdzTv+DVRQg3wiXXoSjkdBVLMfP+BDnKg43mkuMf+Erx4iw82AEPtkP0
e+3tbB2hiCfkd4MC7iLZYk4kRMPfk+C6LyRqIB+MgbU9lDU8400d6hl1Qj1RoFtOxikv6yLqTi5a
S33/SEqXdWLdiIZULWCXiriScF1JLPynSVDDx7j+ES/g2VEIOiL+xX4yrJ9NFshdFQo3gjw/ide8
Kbi/DQJGQcRz9W3FWsLPa757YwqdiP8M1xfDufEo/ZypouJgqLuIjSdP0W3RImytrYn6c5fOYZVL
SCVWEtr6taV4U82us/NyzSPybSQAWQplYUiQWG6wbt06unfXfG0Vr1uXtUuWcmJOGYN0uuSOrgCt
d7amdOvSim3zB+fjd9+X2roCcKD3Aa6tFidx1QZX07u/rxkn7p0g09FkhxiZIEOQCUxuep3LC+ZT
uWhRk8Y1N1n3a7t23Ll/X1VzUCKBpLJSZaIRwMHJgcFPDXswoStWNaJO+o4KPXZzc10vFfLh5vE1
eI3cSNB1zQ9B5ZmAEk8vpPnywrhxkD+/QfHJ0Wb2bP48/7eCAEtLXTo5BqxcxdI+6q63Tj16Ehwa
qkbGfYqKwvELZNJduH+fmiNHafzMGlPquvrIEfosW250/IK3wOu5YeTp0pWfXV05PNnHqP4hH0P0
kimphZzkUSZ7Lly4wJCBA9n5v/+l2X4Nhfwaufz0MrIV8VSbU5Mxu8cws4VoSnRp5Hks+9tSqZD2
qpM7d+5QtmxZxbI5v4OCX7zATUnDT9N8tu/mvqw8s1Kvq6vgLTCr5SwCgwPZ1mubwTHMOzKPIQ2H
YClRz4DXBk3vu662oQtDyZ4pu8HjpwaCt0DU8iij9eoAlpxcwuDtg5Gulupv/IUgeAtcHHuRaoW/
7fuElBi8cBu+Q9urrBswbwsjO3tQMFdWcuXKxps3mrOQZSH7sHIPIeFhXwShDjLZGa37SUnUHe7X
kc6rnvM6MQDdRerJHMTn6FgyZdCvvb5jxw7ats2rcVvEpY1kqelHzKeNeLrP4fAVVb1Imzp/EntG
3YBSIrghwxKZTEMlmoZY0wg/iDolqBycRCJBKtX+ATQVHh4j+avBxeQVPR+bRF4MGtSKxYtTmWGj
AVJpTbM6yepFXDiE3oLQm+L/N9fE19IE/X1TwiqjSPplKw0OxcDBWTy3WZz/2xP4rwUvAuDlWXh+
Gt4G6s9uMwckllCiHTj9DIU9IIOGG5jPIbC5EkS+JqpMf+xsDL+JUkXqiDqLer5Ildpmb+jLeyX9
5WcnBlMwNb4A8oy6mDD4qws8SeFCbGEtkl2l08Cy/v1dkdwLuQCvLxlH7CvDKhNkLQm5KorXtYMz
ZCkCD3fC5dnq7fPVhBZ/iSTst4RPT+DDA3h1CZ4dE8+bNvJNjqwloEJfo7NCfffvZ+iatRTInp1n
fxg24Ts8+DCXFieL/msqTT074ywnxyXf4HQ42IFijTVn4con4/ev7aVkJXXtFG047XOaM5PF3+mB
DweStVhWnj04S6ES+m+eLCQW32TJa0os9l1MdaE6MpkMxyKOuO5rQJ0xopvruiGD6VpPu7FUSsiN
Q8pvKk+Lzi3YtmYNP1VJnROuk4sLgiAotN7kWFlhJW9uvVFZN5x5ZJRpNsrSBkOJOlnELQq79SXo
xnlFXEGBgWw9E4gLN2g8ZDVBNzQL/8tJiIVz5zH0WRAsXWpUjDeePKHSkKEKAumk3wR+ajSUDBpc
Hc0JXWWvrzZuIJeDg9r6N5s2ksOILLLU4vm7dxTq3oMHK1dQLG/yROv+ixeU7tffINJNbqoSt2c3
lhaG65T9uvhXLj+9yvvH1Y3uK8ez988Y7TfaKMLGWCiTNP879z961OqRvM3M2ozG4vylS3Ts3Rup
VBRzF7wFLjqeo9ocMbParp8dUcujeLb/KU7+zhrJJrlLs0Qi4cl1dWOOtEBKEww5DCHGlNvMbzPf
YJ065b7GQNJLIorlG9B3tN9oouOj8W2n2cXZ3EhNFmnIxxAaLWrELZ9bZo7KfCjvU55/Xv7zXWXX
acpQU12nvbJQFrIPST6507aALHE7Evs57Gn5hPP9/Mg9xpOJAZ/5nCjq5J+IC2CoYx38w/yoNu09
wZO9eaGHqKtRYyR//31Ba6yaoVu7XyYLwFpwIx7o6dmclTt7YWnrgUwWoCDq5m27TvtSkWzPWJOQ
Fg2Z988JJEI9nUSdg0MTPn40MGnBNBg16zN19vpNQn5TuXPnTiZOHMn9+5tMHmv27C0cPfqQEydO
8tdfSjeChzrC2iLJyzldobNhP1KLF/9JkSLOPH68weS4lFG8eEcePgwmPTk6AKwzJ5XSpkEpHUD4
M3h3Cz4FwYd78PGJOAn+9EQkLNICto5g4yiSCDYOIFiIWUXy9baOqq8FC7DJnLycnogJg/hIkMaJ
r2PCRAOB+M/Jy7Fh4nmLDYPIN/D5Rdqdu5SwtAXXgVB9vPhZMQfWlxGJIxCzOjtdhT5i+VGxnFl4
ueM3EwcWL55YA3/Pizs5Am/4JIMsAqR8rvjumJxwSUSot5R6q17xb588JkV26FIQjesmLdg6QnMN
rrhvrokE3l9dVddLLKH+MihvnN6YCrKVFv8qaXebNBifX4rvX9hD0W309nr4cF9z25fnYYmZPjfp
BbucoqyAYzHIUw1+3QaZC6bZ7gY3bcrgpk0B2H/5Cl7TptG5bl02DNUuvtvItxGNfFVLVJVLSwHq
TKqjKFuMj4xndtbZJMaJzLMgERj07yAcCotEgdR/HxJPLxYUu0mxCo2xsLQ2KHZ3H3fcfdwBpcw/
iwQmJegn6r4Hkg6gW+9u3Ft1T2OJ6G+LfLG2tKS9FrmGhOgEptuJT5fHhI9hkjR5DFmnZE22kQMH
0q9HD41jaMK79++pXL8+AGEREWTt0BGJpxe7MnXh9rbbKm173+hNbpek8kvBR+/Yx0cf5/zsZLe2
ClSgSoMGXDl+XK2tcjadYF9eQdJBMrHRoY4L4ELQDc3f+04uLhw7dgyAoXNm47dvHy31RqmKSkOG
cmL6NMXyncs7qddyqpGjmAf7L18B0EjSjWvTOl1JusiYGAp170GJfPlUSIDYpOcAACAASURBVLqs
7TvQplYtg0i6DC1bsaq/YYSeMgRvAeGNJ1L/N/oba0GZSWWoVbRWupF0l59eViHpQCSaduzYoSDE
n964oWkYsyPs40dck0qqdSVxRMdHkxiTSKGmhXE47sDHqI842CV/9po2bcqBAwfSnWgMCgxU6E7+
8ccf/PZb8vX/9N1TJIKEp++eUjh7YY39i44tipWFFb/v/N0oou7mpJs8Dn1MkRxF9DdOgq2VLQmJ
CUQui8RhkAMfF2vXxpzVchavP71ONy042RoZnks98R/gb3TfvA556Vi9I5a9LVUMAL4myElEwVvg
4KCDNC7X+AtHlDawthIpnoiICDRUnKvAolh7RUad+ABZUChZ3AyKJptFMrckJP0hyc6lidnJo0VV
SRkXLojJTMbo0umCnQCvZRAnC0AQ3Fjrv4c5qD/QHtFhCMNlAayb8JA7t+NZIOiXuapZ8+uSAPtP
ZdTpw7Jlyzh27Bi3bgUSFBSMg0MWSpUqhZtbHXr27EmRIoZ/CSsQHwWr8qqWlGXMA310awAEBwdT
ubILb98ad6Pi47OOJ08S2LgxLctof+C7weP9orPs3c0YebmIJE2xFuJfTtc0CU8FiXGwq55I1ACU
7gweej7nD3dxcWkbqjc3PVNVnjEH6ll0Kden3GYJitLXF3v9KLD4hdZ+xqKC9zZu9n0LVUdD7Zmm
DXKsN9xarb6+eGtosk0knL8VfHoC22pC5OvkdTYO0P3+D4daJcg1tYzRh0qJJ8efsPmXzcik4ndG
6dalab2zNaF3QlledrminQwZP//TltfnZ1DHawLZcmsur9WHM/umUrpoH8XYg58MVhCCcng29aRf
EdPcb79GyLXqlFGoew+evxOzls/MnEntMqWRSWVMsZwCMhj2Yhj2+QzPNK1UqRLXDcx2efnyJXnz
5mVft30EblCdgN/P/ZFtr7SI8gsCi519CXui+0GQo7MjDWY1UJQ9FytWjH///dfsk30nFxe8vb1Z
vXq1QlPPmFJMqUyGpVczFa2zGb3tGbvKuKxBU5Gvazdeblivsk7i6UXJAvm5u2yZyrojUybTMCnL
qFWrVvj5+Sm2t2vRgia//IKNtTVPgoLYtW8fV5XOtfz9Ngbt585lx9lzfNy+jcx2ydIOhp5fiacX
E9u3w6d9e71tVfo186Bzk4Js6LlKsS7ld9tAb2+qVa5MFnt7gl++xM/fn5NnkzM26taty6kip9Kc
CKkwuQI3J91MjtMA8iVjxoxERUUBkCdXLi4cOWKWWA4dO0a/ESMUy1evXtVontZjQw963emuyKgD
uDjyHNXniA/jlY+hdu3a3Lt7l2snNWesyEJ34ewxh5OXr1C3oqrZhfy/7JM/JX2seLDQQ7EuLmAC
uE3FGinVRh3lzZHxBAVe1XpsCpMbVHXqtJ1vQ9roQmr7NFvWjL399RukjPYbzdwjc0lcnai3bWrQ
YEEDGpRqwGiP0SaP8TWbTChD8BZY1G4Rg+ubv6ItvZCSAEu53KhRdQ4fNt7kzHyozcD5W1nyeweD
ezRu/BOHDhmu9Wwu3LyZmQoV9BudpQI/Sl+V8PUdXFwErHVWLxFs5g9FmmrttmvXLqZOncw//9xR
WZ85sz3Dh49gwoQJaRHtD3yLSIiGu5vEssFPT4zvX7qzmGmVVhmRhmJP0+RSTucmmjPGNOG6L5xK
kTlksqHEVwxlfbr8tUWNQcsMMDgSI38H1HF2tOay06qjoHZqXHTTGY/3w15P1XVNd3535hWmIOzz
Z7J16EjLGjXYNXpUqscLvRPK+rrriQoVJ5QFahbAc40nOUf1YNL+isg6TkPYMp5Bjwfh6Gx8lvHm
eR50Gv4XANuabuPhgYfYZLFh9EdxIrGxx0Zy2qfeJfBrQYuVLYiKiVJbLydaAYYfLc/MTz5Y2KQd
of729ltWlFuhtr7l1paUbS9qT4U9CSPbkG4ATNpfkUn4MBkfcVnpNUCDWQ2oOaomhuDw4cN4eHiw
dfVqalStmqrj2LRzJxNmzCAkJIQ8efKoGF8YQ9RJPL1oVbMGO0eJ10x66NLJ8fBlCDkdsuCgJMx9
+9kzyg8cpBK/Y7v2fIqKQuq/j3z58hESEkKbZs2Y4+Nj8L60lRFqg0wmw8KrGVF/7sLWWsyePXP7
NnXHjtN7bufu3sOsP//k/dYtBscXn5iITfMW1KyWQOmC+VnVeZWKWYGxBO+ytWuZm1T+nFbzor03
9mIhsaBpheR7fWPJDEv3uiSeOa11e9lSpXDInJksmTPzKTycf+7d41O4ZjH2unXrclILoSaHvERT
biYhh/Ky2xw3ZraYSc2iNfVqYcpCd1FyThZij4mmIHKCDmDNgcs0zG+tk6gr7lKRoMDrOLlU1knU
ASz44w98fX0RvAUsJZbEr4rXer5z/56b1/NfqxB2xiI6PtpobTd5PMN2DqNk7pL0cjOsyiE9SDBz
7ONbIesGbx/M4hOLv4lYNUEfUQdw4cJKfvop/bPFTp1K4O9nkQxt9zN2toZVVshx4MBsmjSpkUaR
qcPFpQeBgQ/Tejc/Sl+/aljbQ78UduZnR6tPJkEsDawpllK0bt2a1q1/TC7/04h4Abf/gNvrIDzI
tDFKdRTJluzGO0ymKf7qIpKLkHSNvDOcmAPYXFks8/yP4PWHKHL/LhNNP5ZnF0m6Sr/DtfkwXyJq
0yXGQcNVppW31p6lmZDb3wbma/iNqTgI6qaPfooc3t7erF27VmcbiUTC8uUr6d07SXw9LhxW5BaP
Q47/KHHnmCmTYgLddeEiNp06xcr+/ej1yy8mjZejTA5GvB2hsi4mLIYpR6owsekVJm0Zj6yLD4tT
JKanNI/Qhn//SS7Bbb8/OeNGblrwrZtIpMTuPrtVlq+tvsaB3gfwkVTC59drrOrfn94sY46ZSbq9
3fZyc8NNtfWCRKDG8BqcnyNmNPt18MOvQ3KG1iQqAnKHWiVnV8FHr8urNjRq1AiZTIa1tTXx8fEA
Wt1gNeHjp0+41KkDQO7cuZMJmBTutIYadDi0Ez93cpLu0rHF6UbSAZQdMIC4Paqfi/IDB6ksH7p6
TUHSCYJAjapV+fvQIaP3FRQYSGKSRtmVK1eoXLmyzvYWXs1I2LcXSVIm28aTp7j3/LlOkk5O7kX7
/cmIFs0Njk3i6cX9FSvIV/I6q7sfpVSeUorPiKkZmP179qR/z54EPX+OIAhpQtb12dyH1/Nfq6wz
tMS2z7LlrD5yBOnpUzrbXbt2jbCwMMLCwnB0dMTV1ZVs2bKZHLOu8xCfGI+VhRUBIwOMJmQe7x1G
kWYLFMvKGXW6EBRoWAbwu/fv6dIlWZs3IUkj29HOkT039tDcVfXzNq3ZNG69EEsiPy/9zM8Lf+bo
0KMG7UsOu352RhM9sjUyBRlaaWolqhauiksBF4P6Cd4CNybeMKi9KTA1u1AZkb6RZM6fichX0XTp
8gsdOjSkYUP175Jr1x5w4MDfbN58HEGwZuXK1dQzQos1tfBt54tvO5HUHVR/ULrpAaYFomPjECTq
9+k//dSHBg3qc/ToxHTRrRd15GQ4l3xPhUq2RpN0AE2ajMLOLgNRUcZdi6agbdsl6UHSGY0fGXVf
K471gltrtG8v7w2lu4rC6j/wbSPqLdzbAlfmqJbtpQb5akK7c+YZy9y4uzFZM01iCZ67dWaTasXK
vBD5Svv2LM7Q+RosdUQYnroy068NFQYf5+YtVV0oZImwIOnZy+BIkZCKixCNGuR6b7+nwVdiYhwc
7ZlMtCqj7iKzZTP26dOHVauSS5smDB9Oj06ddPaJjY1l1OTJ7FWaqD569Iii8ol5/GdYlh0SY5M7
9f/wnzaqkXh6YWNlRbTfn2Yb8+HLEJpOncqDlSvw6SqQ6chcIt+ITrKCRFCU0AKU71ye5hvVJ+23
L26nbPV2GscXBIG/Bv9ltni/Ftx+e5vIbZHYOtgyKkw161Hi6UX83j1YNWtusqOnsvuvPgxhEYtI
zlQu3bo0nms8scmi7t42bO48Pmzbysh9+yhdsKAKKZZa5M+fn5cvdbsAy2FhYcGHDx/InFlJ0zIF
SQcQcOcObnrIP7mLqfK5XjAkP8MWvdDRy7zQlPmXcp3E04vEfXuxsLDg0rFj5MyeerdIJxcXhbGA
trjmde/OsGZeiuUdo0bSuqb2+1OJpxeDmjZhkbe3QTG8Cw8nZ6fO7B47hmbVq5N5YGbeLniLrZUt
Bw8epGuXLlrLLeWoWdGFs9cDcTaAEFIunTQHNBEevTb2YnUXDdITKWBMxqe5Mcl/EpM9J6tl1L29
9IZca3Mrjsmmrw1Ry6KwkFiY3WHaFGgqfR3+y3DmtpqrlXzyWurFvgH7TM6qC3ofRFhkGK4FjZOC
septRfwq8UFE5oGZCZkXQiabTHp6iVgdsJrem3qnaSaY+1x3To84bVDbxMREsmZ14NMn4x8OaEOR
Iu3x8ZlJ586dzTamLvj4+zB5/+RvKrtOOYPOEB24+/fvM2vWMNavH2PWOHbvDmDy5O3cvPkPAAGB
D3n26j2dPX5K9djiA5SAVI+jjJiYOBwdfyU6Osas4+rBj9JXJXy/B/c5BO6sEyfHHx4Y1qd4ayjZ
TiRFJFZpG99/Fa8uwoOd4t9nAyYTggWUaCMSKikdO5WRq5KYHZUrhX7IpelwbryowdVXleQ7f/48
tWrVonPnXxg3rjMlSqiL1589e4sxY1bz8GEIb9+Gqm1PFf72gQtJKqMZ84imKhlzmz7e6oIQ8Vz7
dtus0P+9eN5X5VfdVr6XWBb6vUBe9qqLeJMTotlKQ7c7cHUenFHNeKLTVfXPlLlxazUc64Pa13Hx
1uCxQe/7Ym4HvKfPnlHXywtra2tiY2PVG7w8B9uVjAuKtxaz7v6DyN25Cx8jI4nZ7ae/sR4s8vcn
6M0bFnl7ay0XTGkqoIz2/u3JVDacvIXVn8YrG16kBg+eHmWo/8IUn1SBvYMPoU5HJWOvX0tWvRDL
VAW7RhzyNg857XPAh4v/XtS6XeLpReSfu8jYqrXWiXzwuWC2eGwh7nOcUftWy3R88ADevoXa+k09
ABAEAm7fpla5cgiJiSbrIRqK2Ph4MrRspZvQ0EDSGQJ5mbjy2NN6ZmD82mhTQjUZFl7NSNyXrGMl
L4OWxyXx9OLzrp1ksLZGIpFo/M5MqQcm/1+1ogtvpdq/ZzURV4evX6exz2TF/s/dvYvb6DE63wML
r2a4lSnDqRnTDTrmAr915+X79ypjZh6YmfAlyeWc2oihUq4unLwWSJ6k5BFNRF0xFxceBAaiKb/E
XGSdLl00bWTAi3fvKdi9+xcj6EAk32JXiL+RykTdmwuvyPVTHrZe2kqHasmaU8rH86WcazWVbAve
Aut/W0+3dd306tTJ1sioN78ep+6bpldoagaacr9RfqOY3VKD9Iie/qELQ8meKfXEfEpsvbyV/539
Hyd+P6Fxu1QqpUePJqxbZ17SRxMiIqKIjnYlZ860l7nYeGEjXf/o+k0Qdsr6b6YaNsyaNYtx48ZR
okQhOnasT/v2DXB2VtUpDQ39yKVLd9my5Rjbt5+gS5curFu3TmOGnrmMIzQhIiICV9cK5MiRkQUL
+htU0rt7dwADB/pSpkwFjh49liZxGYgfRJ0SvuuDMxjPjsGNJaJekzHIXBAKNhCJpLw/mc+h81vC
o90QdET8C39meL8c5cXz5jpILOUMPgnnx0PIBc3tLWxE0qJEW8PGl5cfpiBqHj9+TNeuLTh3bqnh
saaAvX0jIiIijeuUUheu223R5TK1WGABspTeqUrI4gw9H4uvF1qL7rbKkJc1xn9GsLb/LrLqyg44
wu079+D1FdiSpNukr8T11GC4vljVgGN7LdGYQ7AEWYJIovbRkaFobmjTwXNuAr9uZdaCZYwZMybN
bvR9V61i4YoV+idi+9uIhity9H4JmYwTWf/WsfrIEfosW643S0Yf5JkhMpmM+YPzMnyx/s+bctaX
rIsPwkYfAHKUzkG/O6J5hLmIOg9fD63bnCrPZ0VNTSW6Mjx8k13jzEnUgWZTCTnkxEjwH39QuFsP
ttp15O6uuwaNK0NGw1kNDdaLA4wjusqXh1u3oFs3JB9EI4m0Jh10Zh7piT02Ph4bK80PMCWeXkzu
2IEJbcXf5/TUpVPGv69eUTRPsku48vFmat2GYnnzcsN3Eb/++iutGzembi11nVlNRN3TkxN5bN+C
BlW0Z5ppIq2U9y8vdZ3ZtYum7ozZsJHZfn5GaQHmcXRUM85wHuPM7cm3sbMWzSri4uLIlCkTj65c
0XqsACWG/kX2M2NUiTqZlMKuFXmchkRdeHQ4mTNovnfWRupIPL14unYNhdKBjNAF5fiUiTrl1wEP
A3ArLjoppnT6fPv2LblyiUZOB7dvp0zJkmkS57HTp/EeIt5/JiQkYGGhKgcgP47WK1uzq88uas6q
Se1itZnVcpbGdvLXYJpWXdbBWfng+8GoPnGJceQbno/QhaFqsRiKnht6suPKDiKWmt/YxqavDR8X
f1TT4Js6dSoTJribfX/6kCFDw3TLghK8BdxLuHNquO6y8y+JDYf+pmvjGiz98ySVSzpRvayzyWOZ
g2BLS5LuO8APok4J3/XBpRmCjork3rNjEKquVWMSspYUib/MTiK5YpcD7AuKE96MecAqo6irZQqi
Q0X9tuj3EBsGH5+IJgqfniS/Ti2ylwOnX6BUB+0Opw93wcEOINViSZ7FWSTjTDVpkJNh5XuJxEwK
mFsoVK4voIb3d2B92eRlM5Y3EvUWVuhx6LQvAL2CxdcfHsA6DTd/ygSmsqba92AqUXeR6vKJfhCY
JPau5bOhArlJh3J5dPxnWJZNLGOVIz2y7TTh8mw4OxphuOan8bLQXRTt8YLH/kNxcnElKPCG1qEK
u7ggQ/dTfaMmY5+ewFolkTVDzvd3BomnF02qVMF/wniT+0v99/Ho1l98DH1KlfqGO7WunlSZXpOv
ctrnNGcmnwHgquQq/Qf2NymWlPDwbczWAYdwTJrn+R3sztp/k8lETeW1Kcm99CDqzs44y8lxusv8
lNFkRRMq9THTtWwMWZc1K+zZA3XqcCsoCJdBg7m6cAEVixTR39cEaCXqDIg5PCpKxalUeUxIJhnN
SdIlRCcQejeUsCdhir+3d97y+dVnNZfcOEsp1gnJdNLB8sFcLfSOSfsr8ilDHIsa3GbSflEn8CAH
qd2vCoN6qT+8USbo1o/rSLcZewm6cV5lmyak/J5UPtcWXs3YOnw4bWtrvreRl2lbGKCLJPH0IrOd
HR+3q2u3Dds5jK4/daVCAVVHPm0ZdRE3llG+137un9pE+QlXVYi6Hd0rUbL3alyqVeLfwEA0KT2a
g6jTRbik3FZxyBDuBj83SwZzalF7dm1O/H4Ca0vxvlwbUZfyGHz8ffDx9FEbL1OmTERGig+Arays
WDFvHg2S9CONxZ6DBxk6bpxi2cnJiadPn2ptL49R8BbwrOCpKG9N+b4orys1oRT3X983iaiz6GVh
kitrypjMkZ1nTqQc98yZM9Spo/2aFucQAQiCG9KXv2PlHkLCvSa08cvK7rYeSAGpLIAGtm5Miwig
sY0bT6UBOCT161akLsKifaxrqpnozpHDk9BQ3W7i5sL+m/vxXOr51WbXPXv1nkJ5sqWaIBu+eCfz
BrXR31AH5mw+zMhO2h8w/sAPok4Z3/XBfbWICRM1sT7ch7AHEPqP+NochJkxkFiKmW32BUSiMFtp
yF0NspYwfcxbq0WyLEFLyUvx1uA2SyTlzAU5saKlzDEiIgJ7+7TJOgoOfkPB/b3E9xSg1jSoNk53
J2Px5CDsaaK7TcZc0EeptHeBpajJlhLaCLqkzLpiRZ15tEaDccs3gmnnszN+vBaC5OVZ2O4GCOLE
dJgBN4or84i6iCkJp1eXYGv15OV0Lv+0tLTk8TXN5iCaiDp5uYuyg5x84qZPoHrZ2rUcORTAHM85
hD0N42PQRz4+/UhsuIayWANh62hLBscMiv/2ee3JkDUDFjYWivUAGRwzKNprgjReStznOOKj4kmI
FR8ARIVG8Sn4E9Fh0cSExRAdFs3nV5/5/OYzskTTfvJsHW1xdHbE0dmRPBXzkLVIVhydHcleMjtW
GTVnGeXs1Jl34eFGZ0mtOXKUg1eusHf8OJaPK0e/6f8Y1T/AfzpunsnfQWmtT6dMxKXcz/kjnZl2
/x0S+wZII46L8ZiZqPPz9SM/+fU3RDRyuO89l+JNi5tt/2q4dAmqGWjcoYEgk3h6Ub1ECf6eO8fs
oWkk6jJkgGjDSlQjQiLUiLO2MZuZcrQKibFJ36dWsRCvqxBaOxydHclROofiWnN0diRHmRwGuSBb
Jpk1yKF8rBJPL95t2UJW+2RdK3PrhCmTVvKS6wzW1jqzGN1Gj+Hve/dU4tYGfZp1T0KfsOLMCua2
mqu2LS000c5euEDnvn1TRdRlGZSFT4s/ad1ea3Ytzo06x67z52k7e84XLXNNiZSkjDI5d3n031Sd
JToxjtszjunNp2vtpwmhoaG0adOG06dPmxSbl5cXO3bswMbGsOtQmagD7SYJmoiyxuUac3DQQaNj
PHn/JPVKGm+G8C2RdYGBf+DiUkx7Ww1E3f529xCGL8Yjizvvt9dhoNUI3nRozLSIAGpYuyFNai+T
BYA0FMGyEzLpER0RGSjFYCYI3gIVClQgcOKX1WDUhtQQdRFRMWw5fJE+LdxN3r/P2n0MaF2f7FkM
01j8j+KH6+sPfGHYOoqlsnlTLx6Zrvj0RCxz0+YemsVZJCsGR6V9LOHBsKYQtD2j1/1UG0knCG4g
WCGTHkQQflb8YIo/gCGcT8xLTSuQffgLux5WRO9poDZGwYK5oP8+zPpjeGs1HOutv11KQwxNbqMA
lYdDnbma2w0MF0uPk/Do1kXiz0/DyjLtHY/MjfO3Qxg/fpH2BvlqJxOV84Xk86Bc7poSKUtd5X36
haoTw8rabRY2MCTtyg4SE414Gh2ZXPY45XoCu2aNoPPYeQZ379+zJ3OXLuWXhaa5naogKRswefDv
15ji7eZNRLyM4O6uu5TdNIbisuz0ul6GiBDdZTd22e2wqBaJZ/fxzG+52+gMpZN+41WIupYVW5p8
DLoQGfWWVmu6KpbH91AXx552/x0g4WD33/HwPZ4mcfxp+SdDEpJlBSRWEjzXelKhi2pWkcTTi9At
m8nRsRPSpmk44a9WzfCsujlzIDERlErR5KXPEk8vTs+cQbkMeQm9o0qOyckyYzGJigoXYHHZh9WV
VpGjyx4FMZazTE4cnR1VyPHn795RIHt27PPaY583+fciJQk1d2AuRix5Y3Rc5oBU6XxXGfq74rXE
04t948erkHQAp06doliVKhpLQo1BZFQUZWrU4OKIc1waeZ6f7ouE0ubTp7n66JFGcmnjyVN0W7RI
L/FUqm8/Hrx8idR/n962155d00jSHb95E6Gpp0GOoYbi7bt3qSbpXn58ybXxup3o6xTorPiMtf6K
SbqUqDwlmaif3ny6SvuaRWvyOPQxRXJoz5rNkSMHp06JZYSXx/xN1Zk1zBS5btQqWovWlUWH9yUd
luhtXyJ3CQ79Y5opQv359U0iypRdYOXLppBusjUynr57ivMYZ7MSdsrxPH36SidRp+gjC0AWIn6+
PaYspmded8Jkp3EAtgpu1E/iW0eWtqSj30exT0IsFlYt+SA1r3lAaqFcGp07S25ezUtHuRgt2HP6
Os3dK6Y6m27qH/uZM6C1yf1/lLumDX4QdT/w38K723B6mFjWqwl5f4L25yFv+tw4qEFe3trhokEO
nRYWFiQmnta6fX4NAUfJz/i6pc485NKlS1QzNItCExbZqJZV6kL3h+CY9OP/cJdInmoqi27uD85K
brHKBF3vF5Apn2r7+RJAxufu73EMnGJU+F8Dasbt0t9IDmXC7tkRWGgllmTr+0zJt8dHqesg5qul
2v/ZMfjzZ/F19jLQNYULbSpQt25dwxtnbMSEjifYei2UiRUt8RlxBgt7sXy6aFJ2na5JXEV3d3x9
fVMdMwBVR4l/IBL/y7Imb5PrJerBmTNncHd3N3rXI0eOZPZs4wSoUwv7fPaUbl0aaWvxJjxjq9bU
r1DBoLJYiacXezyK4POrDJ+uAgPGhBJ8Lph///qX4HPBRL7VrJMpZBzKkgtLKFirIMU8itGorLlL
LMLx8FXVCh3bYQc1M6k+KGialGn312Djsy2MwceEjzSY1UAlg/LhgYcqbq22jrbMs25Cjo6d2JSr
ExJPL87WGomDkwMZsmZQkFSGQEGWKZFn6sSZD2MFa2agP7t60khLpjOOBKzIlCeTgiw7W3MktceM
BSDBbw8Sq9Q/PFHJTEoiE3Uodyqw2H8/c7v/prJOXvIqx5fSpZOjvJOT4vW1x//S18NDEWPTqlXU
2ru7u5MtW7ZUEVilqlcnOiZGJZNO6r8PS69mjM7diPZZyvHU7zGFWyaTMnLCWBfxVqZ/f8I+RxKS
Qn9OG1ISFbP9/BizYSN2NjZ83rUTqf8+hR6ap4cHi2fONOl4QbMZgSnIPyK/VoLkc0wMmdu0Req/
j+kdDHhomY5IkCaQ0167Nl7Qnic4NVetGMnrkKzZem7UOYOJpZROsmmNs6POUmt2LWb+NZNX817p
jfNzzGcABmwdwNIO+nWfAwMDcXV15dixBcjWBABntba9evU+1ar14cCBA3h4qMonpPzsmUrWFc5e
2OS+uhC3Mg6LXhaEzgoF7mhtp+zQKeT1IuGh+HptyGmNbarfEeUctiStk+px+JRI6iCV6tCwTkPI
1sh4+fFlmmUuGoMTV+/R3L1iqsZILck2dNH2HyRdGuEHUfcDJsPHx4fJkyfTrl19fvmlKvnz50Ai
kfDgQTBHjlxm375z9OnThxUrVqR/cCkzW5Rh66hffN9EDBs2jIULF2Jra0OZMoUBePToBeHhn3Wf
C3m20u9So3TU9DnpDTt3nJFOC4DUTSZTivPqxbPj8GdD3W0yZIOMNIOCjQAAIABJREFUeeHdP6IW
WqerydvkJFGGHOJ/ZZIvZdt1JZOdjws1gFYaSFgl0skRKNJjL4//18yoQ/qS+P2ABfPny8TjMIDA
Te6oRNhZZ4LlOSD6nf4xrOyS2yhn0in3K9RQdXmHG7xIujHNmBt6PjHZaffkyZNay5mEHK157C++
luvT9Rgxlx5J233mrsYn6fW/eiao67dt48PHjwwaNMikOHUii7Pq+VloLZLOIJJ5tZOFrJWv45LF
i5s0sZ69eLHKOEFBQRQqVMj4uFOByD9FMtm6eQtsrKyI2LlDa1up/z7FxN9ng0xBhFTsqf+G06er
wMA/xHMbfD7YPMHrwIytbRGsSnCon5jRGvd6A/9n77zDorjeNnzvUsWC2LBgCXaNir1gsCdWsGFX
LLEr9hYbmMQSK/beexdbLDH2GhS7sTcUKyJIh/3+GGbZvrPLgv7ycV+Xl+zMOWfOzM7uzjzzvu+T
ALj/tCHNt122YFmOj5UWrSdvLqPrm41YJcnY5XcIx2gz674mk7tMbsp4l8FrjRcOuTTqt/V8xuRV
kwRBzBAyP8aPjIWZv2mtSmIfey5cxLpNK4uk/Xm7u9MeTHZ3nb13r5pQ9yFCiApNi7p05jBrzx6C
5wsPE34YI1zXLOrfjyWHDxs8bq9fC9Ee4vfCn9u3U6qE8bTosu7ufPnyhUmTJuHvL0Qoip9VXamu
Lw49Y/Heg2z6eJlXo5eQM2tWXcMi9/Qif44cvFy7xugcRMQb4UI9e/Ly/Qdc8+bl4fJljGmjHkmb
J08eFAoF1atXp4ibG5ns7bl7Ub9jsio37tzBs5PgmBgcHEyFChWM9DDMrCOz9N68W3m15FrAPKYP
SD+ByhRs+toYFB7eXHitJdSFzAxh4KaBLOq8SPJ2/plwMV1FOpFzD3W7iusi5FMIE5pN4LeDvxkU
6pyd8/DmzS7c3NSFJ0NUqVJK5SH7GWxs6hMfL5ihKVYotIw5UiO4iX2TlidZxH3bxsqG31v9Ts8t
PQloHkDhwmn/G6xJtmxNv5pIJ1IgewHlsc1sl5nIhZFfdT72tuYFZBw6f5MRnczPKBk8ezMBwzua
3T8Dw2TUqMvAJGQymeQfIk2yZ29KSEgomTNntsxkQs7Crp+E6B9dpEOh9/PnzzN6dH+TXVbbtp3E
xo2Hsb+zTIig6/MCskqrQ6SN/qd2lkNC6qumO6YuxFpnonDW9pggrgGc94ML/nq74uIhpAKLiLX7
AHKUhh463A5FwbaSL9RTiZqaLcNxsj3h+7+tp9m6sG60gIQElVTQ2TLD6ayGmC0TzCiy5BferxFJ
mFQuQYz4tM5kOAVcl1DruQuKtzZpujKZjCYNG7JklvRUVqlYKnLCLDZWIf5VELbJwXcPrlzBRo/j
pLkUrVSJxKQkGjZsyLFjX8eKvnDPXhTKnZszM6brbWPXqjWxe3YD8NvPmZiw0ng9MVE4SYhO4Pi4
tEk5FdFVo66JMprusFY7S9eom3poKg0eNNC7Xm4lR2YtwzazLXIbOZetXpLTJjMf4r/QrFRFrO2t
sc2sX7CLj4rny5svRLyK4Mu7LyTFf72bH2WdxMr51Oq4SY0GBFDIZMhM/Exrik9yTy96//gjywYN
ZGtAS9oN2onc6us919asR1e1eHGuPHhA4r69Jt14Z8uWjYgI446QZ86cobaKY6whkU5c/2nrFqUZ
x79r7vLpruB6Wap3WZxG+DCpYwf8Opp2M5d/cGVCn+ejjEsRbi0y7RpLjG6SQp48eXjzxnIpzboE
lSrDhnPz6VPld12H5R3Y2merxbZpCcKjw4mOiyavY16tdWL0m74oONV9PnTzEMfvHmdOuzk6t/Pq
5EscnB3IXjqHzvWWRtPN1d/Tn0ktJumsB/d0+lMK5yys1k/WW8aHeR/IkVl9vitWrKB3b8s62bZv
v4Bt27brFeVSE8HlPNyZHu49tNxuzcVpiBN/jfiLSoUqkSWLA5GRhmrJWYYVK/bTu7fl65umlrCo
MHIMyfFVousGzdrExJ4tcM6h23TDGINnbWKBmdFwGemuZpFhJqHCf3rn0ouWLb3Yu3ekRcdctuwO
ffsaEUnu74CjvSFWRzFea3tBeEmDqDgp1K9fjxMnLJM+WahQJ54/f2F2/9jYWOzsLltkLprcvv2E
smW7aa9IShDSWRVGbupER9jEOKE9qEczHu4GdzaAa3N4/pe6SYeNgyDCaqaxBmSChOT6aBqRSUo+
P4MVRYS/NaPHVFJkc/nb8H6fdNfJ9CZnyxV8CNedAmhydJ1mXxD6rygs1EQ0ZywxpdmY8298FMxP
FuiLt4UHO4W/y3QTnJANEBcXpywavTIgwGynOICBo0ZxMFm0+pq/fTKZjO9Ll+bAFm1nQ0uTmJRE
0UqVvur+Xrp/n5ojR5G4by8PDj7gn6X/8OjII5ISkoizTmJak2ClY6XC9Qayx+WNjqkodg3Zw4pU
H5KKlHwJGBLqDLF/yGGLpCz4H/DnwsMLRttFf4jm09NPRIdFU2z+MHZ83wfvW8tZF92WT08/8fHh
RwvMRp3MuTMz8t0o/JUxrNpY21szPmaCpAg3uacXeZ2cjKZExoTF8PbWW97dfcfroNc8Pv5Yck27
AtUKUNijMEXqFaHoj0WRW8u1hDBIiaaLi/2CrZ2FHi6aiapQJmJrbZ3m7qD/PHhAtREjyWJvz8Bm
zZjmo34tIPf0InbPbmx0RNz7bd7MlK3blMfx0mghkkkml1FpUjWsHbQ/HfsvX8HrNyHy8tTskThm
cqS8i/Hvgm+J2IRY7KxTTA5K9utP65o1tY5dkbFFeDr9aTrPzjCGRCBRoHu4+T7FOmlHZSYkJRAT
H0MWuywGx3qy6xHO7vlwyKvtsJxWqM7l6vOrhH0Jo+GchlpRarLeMiY2n8gUL+HaXjWqTXN/DN0X
/dJzLMuOPOPqoy30yi44mtawQelu6hx0hpINphLz5TC6Ev67dPmNjRuPpIlYZ4n+qnRa0YnNvTer
LcuUyZ61a8fRvr3pZhqafP78BUfHJsTFxVn8YWZaEPBXAEO3Dk1XwW7NgbME3XtmlmCWGqEtQ6Qz
mwyhToX/9M6lBw0bNuD4cT+T+gxq3ptFh56iSDIcxWFtXY+E2C+C4+czPVERhRtCmyMg+3aK/xcu
nI9nzyzrgOnl9Qv79qUuMi4wcDqenpZLJbCyqqte1P/UKPhHQmTT4HCwTX6yoxpZpcuRdeAHWJRT
vX+L7UK0V6+HkF2lILHoUAqGXUgD28CD3ULEWZmu6ut0GFJUWZGPf5akzo48LXBospioGCN1/WbL
oM2fUMTMsPXZMrDJDL6RKe/V8ASQmZjqDLAgG8RFQM9/wclIetXORsL2yveBmpNhQ0WIeiusMyD6
ubi4EBISonxdtlQpenbuTF13d3LmSHnaHfr2LZt37mT5unXExKa4t/r7+zNp0iTT982CyGQyrp8+
jWM2XU8/FRRxq8j98yc5FOtISyeZssZUZPBiyvUO5N9TW7F1yK5We0pKHSpV10ZTUC3yH/Y4jLc3
3/Lx4Uc+Pvpolsvs3byfKB2aXW3Z36Ve8S5rDO2uuKJoOwfZrmGgUP+s2jvZk7t0bpyKOpGjWA7+
flSXvr6vuL7huslz0EePnX+wpu1o5etjJ0cw53pKpO7XEOr6bu7Ls7fPTOoj1sACaF61qqSagVKI
/hitrCP44sIL3lx/QxYiicSww9tk/NTEvCx5szDs+TCddelK9utP+SJF2DF2jGmTS053NeRCqsnz
s8+5s+MOZ7f/g02ofgOb3GVyU6JFCUo0L0Gh2oVMm1cquXDvHmUKFcLRwQG5pxfNq1bjwJXL6eIQ
qilaiiw/coR+ixbrnEOp/v25H/LK4PziI+O5OkV4uGiTzZYql3/T2o5VHysSl5tgKvSNIIogflu2
MGXLVr3HIbtvdj7N/5TOs9OPMfFGSj05TdFL13h3Ft2gzMD0FV91Rc6Bdjpprem1sJZbc3q0kDW0
+ORiBtQdoHMMfZksmeUe/JtwGpfkrzZRnFMV6mok600yWR0UilM6x4EfUCgUFB5bmOcztFNLvyWx
zthYK1asYMKE8bx9+47WrevQoEElSpQoiJNTVsLCInj8+BX//PMv+/dfIDT0PXPmzGHYsGEWmdvX
QvUcS2sUCgWDZ282WTTLEOm+GhlCnQr/6Z1La6KionBw0O1apWq7rZkKKy77mAQ55PEUG/EvD2d/
r3OcP5p7MLp5PqgfIKnQ+tcma9YsREQc1rmuvI0HNxNtUSQdZ7hrXYY+PEkh3mFVaAOJL4dzKvgl
dSt20ps6vGXLSzqamBqiyadPn3B3r8Tt24ajlAxhY1OP+PgEiH4Hi/UXFVZSsj0010jhmJ9ZiKLK
WQa6JxebFYW2nGXAay+s1hBzej2GVa5C9FzflynLNdMoDUV+aRogiESGwDI9qcUD3mOdNQ8Jxwbr
HzedcWy2gPA3z6SlQx/qDHc3mx9dB8Jxy5RLcHv99BBWFRcEtFp+po+lSIQ5yRKFlDmJLsA2WcA3
OS3r0X7Y6yn8LbcGz91QtIVW14sXL7Jw4UKOHDnC+/fvlcvz5ctH7969GTJkCDlypE96jVT01d4D
mNKsEvYzrzC6TIpQKopwmmKcmLo7cHMQizpVNirU7T10CP9fZjIEy6VlaiGDOpPqUGdSHWRy/dci
5Qf7cj8kRC0iKGu79lyfH4Br3rySaoKdO/gH7s1GM8t7Ft8X0P37YiqGBLg+nfbQKre93vVplfra
JKCJWQKr3NOLysWKEvTwUdqLOsZqwslknJz8N0HLgogMNV7HZ0qLq2TPkoUPmzeZvP1OM2exeZRp
GQDxiYnYWFnx06TJ/H3zJnF7dLsRR4ZGcmXxFYLXBPP55WedY9X1q0vtsbWxsjPjYYcOROGx/GBf
bj0TBNu0fj8Tk5KwadlK57ZEswjNOnQ1Ro7k2dt3vF4v7dpDFAFPT59GBQcX7iy+CYBj8ey0C+nI
Db8bhrp/s/x+8HcmLtMWUiMjI6lYsSIPHz7U2c/FxYXg4GBy5sypc31aIu8j58uiL2Sy0V9TVopQ
l21wNj4vED4XsQmxVP61Mrf8U0ym0ts8AmBn0E68l3prCXXnxp6jVtFayHrL+BjwEScHJ3y3+LLi
zAqiF6dkdmy6tInO1QVBIs+wPLyd+5aIiAiyZtX9eyve/yg+Hsahlw3uh6foFOoc5R4c+XSKGtl0
/04uXnyTAQMG6BXBFArBHTa1Yl3kwkgyWyBi+FswVfjWEN+jhGUJWMkt83ugybHLd3j++gO9vCSU
J1IhLj4BKys5VnLTg2AyRLpUkyHUqfCf3rm0pmfPZqxerduQQU2oS9qHTO5F77EDWT6tvZp45yj3
INyAvfbbt2HkyeOZJvNPG/RHvclkdXGSJ/Ex8bSKUPcK62K7SXg8iG7Z67AhXKFXqHvz5iPOzl46
15lLYmIiPXr0YMOGDVSqVIoqVUrg5JSVly/f8uefV/jw4VNKweiNVeHNP8YH7XAWCui42DrWVxBd
QMXEQHBaVdai04xoG/AeHu6Foz9rR3LNsUpJrTVm/iGO2/Ua5HFTX/fXIAjWU+S4/Smh9l0yjzb1
oGh+R/3bSQ/qCQXrmS2D73vAT6ul9ZstE4QuG8PRLUbHgJT3T6w7OCwO5GamHYi1B7O6CLUYjfHx
HqwpLfw9KAzsVKKvRBdgkTQyhUlLDAl1isgLfOcxmadXjyqXiQLdL80qET7wIIua5lNbrvm3PhIS
EylWubJZos++XvsIXp0yvucqTyr21K7/FBkZyYkTJwgNDcXJyQlXV1cqV66sd9zbz59TbtBg5U1t
5aHDCJo3F5BWwP/Fg/PU9/BhQfsFJu+TPnZdXMX+23/xLioC91JNGdeov2lXVRZm++ftrF4t8TtA
A7mnFyenTaXuuF/SXqyTy0Ffce++fWGZ7nqxLy+8ZFWtVWrLfpr7EweWn2RqsQvKlGhVrGytaLKg
CZX7VNYpElYZNpx/5uquj6XJH7t3M7q1UDtTaW5iIfOIoOVBHOh7QPm6um91GgeY5lKsmfZ6fcF8
yqWhSUy29h2IjI7G292dbWNSokttWrbi6aqVFFARks7euYPH2HE6hTtNxM+6XCYjYd9eve0uPbmE
i5MLMX9G8f6qEGWdv64LBZumrzGOqRy/fp1GC93UxIpFixYxaNAgAC4dO4Zz7twGx/gUHo5bcmmH
yZMn4+fnl2bzFXH0deT65OsUyVnEYLtLo8+RragjpftKfyiiKt58DZEOIN/IfJRwLsGpUSmRa80X
NOfA4APM/2s+vg18lfPce20vrRa30hL1dEcJ6rsXUCCTCe+hfctJuB+ewl/JQf0N7OC3iNPUs/Ug
Rmytt+Z3ivBiSARLrUD2PvI9uYfltojIliHW6ebMgzN4/OHB5wWfyWovfE9mzZqFefMG0atXM519
goMfUKfOUMLDdT8QEhk0S3iYZapwNmzeVuYO7WBSH3F7GSJdqskQ6lT4T+9cWtOsWS0OHpyhc51M
5kF0/F9ksmmAImkfNx8l0Lp0G+7Hn0aeLNRZyTx4kXCa/AYeJNy48Yjy5bunzQ6kCbp/nE8PaU/8
zG00sI3Cxm0bQ76sY8C/J3FVEeoAStl4cC9e9w9zTEwc9vb6i4ZbHCnmD6DfSVVkpSuEP0mpFydG
Q1nZwdDkyxFNgW6EAsLuw+qSkLcadL6Usu7MWMEEAlLSMg2hL4oOhCi6yBDt5QB1Z0Pl4erLFjjS
ZGNODk9Pf/G4YIe1vJgkh4EqtaRMrUO3ND8kxQuRcalhtgzkVjAs2XXsy2th7D7PIWtB88ddXQLC
HkDFQVBforiyKAfEhOkX5TRNZVybQ8u95qXvpgOGhLq0xNTU1zn55xDxWohwLNe5HK03qhuBuLq6
8uTJE7VlmeztqVWtGs65cxP++TPPXr7k1t27WmOfPXsWd/eUmzbbVq1pU6smW0aNUktdNCaY+PnI
mLfLka0/f1tF2S2Jx1QPHBzMq+cUHhWFU4eOOGXJwsu1a8hkmzoXWIPMnQu9e0MW3Q8Kvjg60r52
bQ4eOoSTgwNhUcLndcSIEcxKNot5HfSa5VWWK/vE2CQyo/F1NZEx5FIIm5ptIvpDtFZKLUDlvpXx
fLVCsjDp0NabqJ07lELYzO/+YUSAnt8MDeLi4ti9ezfBwcGEhYURFhZGoUKFKFWqFNWrV6dcuXJa
fRaWXMiH+x8AsMtmx9hwPe70ybwNDydv15T6ZmkpuIrHQLXu3I2nT3HzHaK23Xfh4Th37SZpLjk7
dSYsMpIvO3dIOv/03ezfmn+dLy+Fa4Gi7YuTq7KEaP90Qu7pRfzePTQJaMzRYcJDFplMZpLzrCaV
6tXjY1hYmtcWLTG+BPd/v2+0nVhj0JjYpquu29cS6cQ5nB1zFvdi6tsv51eOWyG31NJfX4a9pODo
gnqFOtXXVlZWKq6tluXTp0iyZ0+J7m69pDW7++/W294SApm8j5yk5ak3EsoQ6/STaUAmAtwG0aeP
afcXCxbswsdnCtl0lEsZNGsT+XM58kv35pLHM1dsS43pRAZqZAh1Kvyndy6tuXv3LqVLvzfeMBW0
bTuPnTvTtiCyJWnZ0oO9e39Pk7FtbRsQF2ekJllqUHVJNYTMCga+V49k0oUokHkfh4L1hAg4SBFU
7qyHwz4p7R2coX9oSl87RxikUqNFTIEEoSbhcCP1aXY0gOcnIHM+6PdK//x0Uby14EKqq88IBSdO
nKBc+DZyZ9efCmIpztwMoUT7hTg7O6vNQXNOkkmIhgCH1KXCqm5bNYJSNAVxbQ6t9qd+bICWgTrT
WnUiRm0ac50F2FgF3qik7puynTQmvcW6Im5u9OrVi5UrVxpsN8NpBjGfBHHde7s3ZbzLqK0fNmwY
8+YJEZ9bVqygZtWqZs1HvAkFdVMPXe6S62c0pNsYoYbpn0P+5NL8FFHftsVe3AcHEHXQyLnwP0zj
eaZFYGli07IVicmRbumdAvv69WsaVqjA7U6dpHUPCFCeD3u67eHGhhtE2Mczr+EtTtUehfsYlZtt
jW0lxiayu+tu7uzQ4f4NNF/WXIjA00DznLt9eTtlq6nXLH3//j0FCxYkJiZGbbmVXE7jBg34vkwZ
HLNlwzFbNl6+esWjJ0+4duMGDx4/1tresWPHaNiwofK1ZtSdxwQP6v1aD4Bx69bzU6VK1B8/Hkjb
908U1DTdb/dOGI9ntWoA3Hr2jPKDfQnbugVHA+JxWGQkOTt1xr10aYOOz5qYcpN/edx5ZY3M730r
kNklFZHkZiL39KJhhQoc/XUKVX+vypXxVwDLfr+bW1tUCqYc7xtzrhEdGmVSnbrA64G47M1LpUnV
TLw1tRyGDBmyO2QnLEBw61zdfTUtK7bUK8ypvp7dbjbDGw1n48aJdOnyo0Xn++DBS4oX1y6BY0xI
cxriRFiANEMdfVhKZMsQ67SZM2cOw4ebd70ksmTJLfr376+2zFTRzVyRLiOSzqJkCHUq/Kd3Lj3I
kiUzkZF/psnYjo5NCA83Xq/mW0NI+U2Lqw7TagwYZYlzSoF+Y5giYqhGsB3qAnc3Qf5a0FF44qpM
dRRxrgxdklNq51gLNcwMOLFKEpgMRdFpjqdJru/B56buPhrj/T5hKOPTKMgxITGJhr9e46TnWWGB
uO0z4yBHKSibLHIqkgQR1FThLTWusKpcmQWnRwnRkVYpbnbMzyzUE+xp/Gm8UcT3a1i8UJNOCo8P
COIzQLdgyF3BeJ9nxwWxLzz5BtouO/y4/KvUxxS/Q9JSsJs4dSobtm/nw4cPemv1+ctSPqtdj3XF
taGrVptLly5Ro0YNihQqxMnAQIvOsYibGzKZjKRkMcnKqyV/T/2duuN+YfL+SihqBsKNOuRwLoLv
I1+t/jsXdyDL/e4WndO3QmJSIs3m606NMQW5pxc5s2Ujv5MT1xfMt8DMDGBtzY2rV4mbNo0q4sMH
E1EV7ADsm7UmV6QdvU+XAgRzCkM18VSF3sTYRJZVWsa7O9pRxgXdC/Jzjn04OjgQHhXFJKdAZQRn
UlISVslRZXK5nItHj5InVy6z9kcVj+bNef5SqME6ePBg5s/Xfj9UBen7zuFsqfaIonnz8mC57vTh
1KLLNELTlEPu6UXcnt1Y63B4Fcnarj1fYmLMSs+Niovi6O2jtKzY0sTZgyJJweWx54V52lpR2a8a
cuu0MyDL0bET1lZWvN24QblMFCf0iXSdq7lxLvk5rFhzVECOu20SI88HU1HPT19aiHWmiClhdz4S
/TaKyGcRlPApbbDt43ePcc2d8huycMsCBnX8evV/jTmnLj21lH51+qW8f0aEunMPz1F7Rm3lsuLF
i/HgwRqLzNXB4UeioqJ1rjP2fj18+5DaM2oTOjs0VXOwhMgW8ikEl1EuGWJdMocOHaJpU8OlAaRy
4kQ89eunuOmaIqDdehxCxJcYapYraryxChkincXJEOpU+E/vXHrx7NkzoqLOULq0ZWqErFp1kB49
piI3o4jlt4K1tTUJCX9bZCyleYO5aEauGUOsF2cKYgppk3VweoxgCiGmuoJ27TDNKDddwppqTTuH
PND/jfF5LC8EES+g1wPIXkx3G0Minb5IrNkyaH8aXH7QXp5Mw2XQw/snOjcsZXyeegh++I7Fqzaz
3Bv4cSWU65WyHdVjs8BRSF+1UkkVMkd4e30RNte0jGAnzqHHA8ihcuxFIbGAuxB9l1pEobdMV8G5
VypRb2BJXuHvJuugTDfD7XWhmnYNYG0P9QLStA7ejz/+yLFjQmp5/549GeOrLUZJ5cHjxzRqnZKi
qvn7rplaqE+YU0Umk1GjShW26ojGUzW6eLiqE53udSF6QTNuxih4dO4gJWs34+E14aa1388duPrW
msuBG3Vup4ibG3740XB6Q9zHuKuJB8d3jKNczU44u2inEvr5yIh4PZxGZRpprftfp+n8pkoBM7WI
xzNi+zYy2+s3xUgt/StUYEm9ehYZy2r+fGU0YBM/P87evMWn3Xv5jYnKNpMVk7X6SXV+DQ0OZVnF
Zfi3uMokp0Bk6/2Yz3w+8pGJI0fSq0sXi+yHIUTBRte1ePE+fXkUKtx4JwXuY3Xt1bw4l1Lnc3zU
eKwzme8tHBsfT6Y2bZnu48PoNil1+hL27UUuk9F+xh/sOHfO4LEs2rsPT9684ebCBZQtZL4jrqWj
cD7eeM+Djf8CkMnZgfIjtGtqmoqVV0uqlyjB+Zl/qC2PiovCztoOK7mVQaFu5PlgfKq6ceOailBn
5Yq71eN0FepMPda3FlyneKeS2OWU9r0hjn953Hmqv3f/qoKNvn199O4RRXMX1RLoNNt7LvQkcJD6
wyl9jp4ymYxLl5ZRrZphMVPkyZPXuLq2JyYmBjs7O6PtpbxvlvgcFf2lKI+mPkrVGJaay38D3SWT
VOu5y2QejGlZium7ZpHFuS/x70OINVK/cMicLQQMl25AGLDtOEPaS7/3O33tPk9ev8enaS3JfTKQ
RIZQp8J/eufSm3v37tG7dwfOnDGvcPfAgXOpVs0LHx8TRKVvnAYNqvDXX3PN6psly09ERpqYsvX5
KWyqLj1SDpngoJolv6nTExCFqgYLBVMGUBd9Ls8QxA0R1eg5gD3N4fFB9T5xEbBApdaCVBHJWBSd
aht96OorCp2a65LiYa6OmjqNlrPldhY6derEcO9KzO6vPxJy2uYr/LLyPCdOnKCeePOqK3pwtkyI
ouuhUs9LlzBnbpTcbBn8/AgcDYsykjg+AK4v0T2P2TLhXOsrrcaTUdaUgY93oZKvIJiZwsLsEBsu
RMu12J66eUS/g4Od4ZlKrUaZHKqOguq/gK127RBz8PX1ZcEC7e9XuVxOiaJFyZUjB+ERETx++pQv
UdrfHY6OjgxoFs7UTQrGrVvP5pVH6Hk2xV05a/6sDA8ZrtXPEPmcnbl49KjOdeLN5tPgYBKC/qDT
vS5cntlUuaxHNTfWXE65aY07OZ6kur+j73ZP84ZUVayb0tPbf/ziAAAgAElEQVSGSavjdfarUK4c
MxrMNGm//hf4ae5PFoveFo8lpE0KZVJSEvLhpp1bUvA9dYr5165BWBgfnfOybscOhnl5cqDvAYKW
p6S2T4ybiNxGePgn9/Ti1y5dGN/OeKSs3NNLGUmXJ08erK2suPCndhaB4t0OivV6SY3QdTxpvpDz
k2pTxK0iT4Ov0abVj4TEOnD+0F5c3dwYuj2IoSWslEL21RPbaT18qt7o2V379zNi4kS1cz+Ldzui
YoUq9Prer/v777PFc4vydZ3JdajrV9foPqvue9TOHdjb2nL9yRN+mjSZ0A3rJdWgk3t6kT1zZj5u
2Sx5e/rYdXUXbSq1SfU4hnhx6BmvTgqRjDnK56J4l5KS+xbw6c7n6Ggitm/TuV7NcMCIUNeqiraL
t7guPYS67mu6UzhnYfw9/Y03TubS6HPYZLERUlglIOst46LTWar/4f5VxZrI2EiyDsqqd/srz6zk
ZshNAjoE0GJBC/YP3q813+svrlPepbza9/CR20d48v4J/er0M7j9gwcPcuTIEe7eFdLxXV2L0rhx
Y1q1amXW/kg9lpY45rLeMsICwsjuYKQETjrM5X8faUKd0qBRcRobmQfxRoQ6UyLdTI2KS0xK4uKt
x7iX1xMQkUFqyBDqVPhP79zX5OXLl9SoUR0np0zMmzeIBg1Sar8kJCRy5Mhlpk/fzJUrd/n0KRz7
NHyC/y1w8eJFatasyfbt/nh7644mOHDgPC1ajOXgwYM0bdrU+KBxn2F3Uwg5Z9pkLBHZpCl41ZwM
tfxSXgdkggSVej2aTrARL2F5Qag8DOomu+8lJcBcFedQqYLTh9uw9nvIXhR6PdTdJuYjLMqpe52x
7ekTv/SJfsbmbUxM0yXUfXkFSwsYF+bm2grHcYQZUTYbKkJRL/X3MTXMzyIYOOiay/oK8O6G5SL5
IOW49bgDOaQ9sVYiirFSIzdNJWguXJkpmG6oUqg+lOsNpUx311IlPj6eO3fu8O7dO5ycnChWrBiO
jtruxEdHHOXCnAvK1w45HejzeABOXYQaYaYKNNmzZ+f6qVN61xdxc0OeuSyPz21SE+rEG1BNoc6Y
O62uG1K5pxcymYzEfXv1mkv4l/SkepMBJu3bt44CBU3mNTHe0ATknl4UyJGDHFmzWjQFNiEhAeuR
Iy02niZ2ixYRW6YMXL+uM1pONX275oiaPG2koN+ixZLOd++OLnQcuJES2XNRrlw5/Y7MKkLdpXh4
eC2YIm4VOTqoFPtqbWBUGUFlEcXrJ8d/pU0ff3bv/ke53NC5HxUdTZmaNZXnvyisLujbl4HNJFwv
JLOj3Q5lnT7brLYMvDOQbC7qDxK2nTlLx5kzlcdH7unF8d9+pX758sg9vXi9fh3O2bVv0A8HBdHM
fwoDmjZlYb++kudkjK9xM39vxW3CHwg1cgs2LUz+ui5abTRdqfVhilBXUf6K1utjuDovJfLZ3Ra1
tFhNLCnUmXOspRpJqLYX235NoabFghYcvXOU2CWxOteLc3Ob4kbwpGDyDM/Du4h3WvOdemgqvzT9
RasvaEfVpSUdlndAoVCwra9uwViVyr9WJmhikNF2hnAe7syq7qtoXl66UYEu7AfYE7M4xnjD/yzS
hbo8Vh7seHqUuoV+NOoILNXcYc7mowxoWw97WxujbQHCPn9h2vpD/DEo/UvC/D/BJKHO/Jj5DP5f
4+LiwsuXuqNmrK2hWbO6NGs2Op1n9fWoUaOG0Qup5s1/QKEYo3ulIhHWlYcPugth60RuLYg2IKTm
NUpl/RrNCLKcZaD7bfU2muJV3xDtaL3ZcsExVNMQQaTFduk1waRE0YH5Il1gG2h/UtpcLMUP01Oi
EGfLBaErs56IR5c66q+HxQnHZHlB6PNCdx99dL0GVwMsV7tOdOOdLdMWUbtdF/4/3A3ubBDSja1T
acwhzlmRKP28ECnTLSUV9ksoLM0n/D043DLRcJWHCf/0ERcBN1fA7fXw7rr2+ky5hBqRrs2gYH2w
d1JbbWNjQ4UK6jX4Il5FMLfQXGVBdYAqfasoUwG3LWjD3X9245htlNoNOWC01pRI7ty5jbZZ2iSG
76q14MESwzU2jQkV+kgK3IfcqyW2rVoTuzuRhWNLM2j6XRJjE/nN/rfkVpVZk20NPdx7mDz+t4r3
Cm8i51m2huunrVvI3qEjIR8/Gm9sAmkp0gHEDhxI1hUriAAtsxFISX/1l/lzYfYFmA09cpTQM5o6
SQoZrWvXNckA4Na1axRtPAWAEj9v4XanJhS585pRO4Qb42szGvFdw4lMriztxgjAIVPK9+OXmBiK
OOfh6Zu3Jol0IJjAqPLu9jumFJ6CIkn4nrhQ9h1HXV+QFLiPJ2/eULR3H5IC95GjYyemd/fRKUoF
7N/PsBUridi+zeLRmIXGFPoqQk6p3mXVXl/1v0z8FyFit0T30uQc24PwbVsl7e/jaSmmIX369GH7
3r20a6lea2+T8oFFfnZ3B7pLO9cuBwWpOWSnBimiWb9+/Vi2TP1asmOVDgypN0jSNkSRzqavDfHL
4mlQugFJiiTksvQvdXPgxgFOjdL/oEnk+gvhN/ldhHYdS4AZf87QEuq83LxY13Mdtv1siVuahiZw
KmztsxVZb5kkoW5C8wn8MOMHzozRLRJJ4c2cN7Rb1o6m5Zqm6v3rUasHWQZlIXLh/15NcksQEvKO
AgW0r6VUhTjx7zWDy1Mrr/4H8Y8ehVC0KMTGJzBfgkinAN59ipAs0t16HMLhCzczRLpviIyIugwy
SE9O+MI1M1KHG6+Fku2FSDawjDAnIoopoDvFUNMcQp/jp6Z48vk5rFCpa2iKOLQ4N0S/F4SLVgac
apcXFKL3DKFvu9HvYHEe06LpDI2n2ldKG83xVhWFT4+lpbuuLCoYIpgruM2zg+zFofst8/rrYrYM
8laFzpd1r9/ZSHDpNebmayri+VtvHlQaYnr/+CjBGAOS08QLWHZ+qeTe7ntsa7MV1YdwrmVC6dp7
teDCayqOrsRbZ2XvvXc8jnFgTL8p4FQccpVTNwtJJr0caodPmMDuAwf0PvDYfeEC3tOmM+lARRRe
C5HtHUx13+o0mNqAqVmmAlB9SPU0n2d6kVq3V31M3bGDCRuEOoGWEF06ly7Npp9+SvU4Uij755/c
vneP37ZtZ/rOnUTu0J3SHv0hmj9ypdQRG/J4CNm/044Q8/ORMSXMk6TAfWTKlIlFf/xBAw8PnWOq
RtStuhzMtekt6Lj1Jben1qHsLycBuB0cTFkVQXpNr6r0WHWFYm5uiFVopUSUioJ6Rw8PNo0cYeyw
SEbu6UWxfPm4v2wp9Ur2o+594YGFzEpG70u9yVc5X8r+KhRYebXk925dGde2baq3ffPmTd68eUNY
stuzk5MTpUqV4tDjQ/TxSLsaoKZw9s4dPMaOIylwH/ERcVz97QoowC6HPW5jtR2DAeIT47GxUr8J
trWzIz4uLtXfm5pGO6kh59Cc3P31Lnmy5lFbXiB/Af6e/xd2tsZrpAG8DXuL75KhXLh4QWvdoy33
KdpREMhVRcF6s+rx90jL1HQ2BWPCZI81PVjTYw33Qu9R0rkk8j6CGKVVe07PON+N/Y5RjUex9fJW
To/WF/1kWWS9ZTyc+pCiuaUZAlgionHL5S1M2T+Fu7/eNd44jefyv8qHDwfJmTN1D4XfvPmIs7Pw
2yA1lTUt02MzMJuM1FcV/tM7l8E3zJsgQUAwJUJORLUQfvhjQZQB6P0MsplfrFmLAAdISHaY0iX4
qK4H/SmH724IqY76Iuj6vRLMJaQiNVrKWD06Y2MYEtT0jd10I5Q28kMmRahbXRLC7mvP0VAaruby
OVbQ77WQzmkOn5/DiiLmpdHqI+6zYIThGwk2mXW3EU1ELJkWKyK6CnvthWJextvrYlEOiAkz35DC
TIKWB3Gw/0Fl5IuIbRZbRr0dlaqi8Wf2T+WvneN1po2KokDzqlUJnDhBa/3QoUMJCAhIU7GubK1a
fImK0inSxXyKYYaTYPDxwimSNbUf8FfPipSu0pqlBXcD4LXai31H3Kmed1eazTE9WXJyCfuCLV9H
TkR8zz9u2Uz2zHo+pxKYOHEiv0ZEWGpa0pg3DxD2IWb3LmytdX8uxKg71bTYcp3L0XqjkHIoinR2
1tZE7xbOm/QSpXVRxM2NIUOGsPxlCDFxggBvqei1hMREbFu15vaiRTx795amfv6sHTqUqTu2c2/J
EgDe3XnH4rKLlX2suzgzfoPhGlyqDBkyRKeDrUiJokXJkysXjtmEm9Xwz5958Pgxb97pjmICmDp1
KuPGjZM8h9Qg9/Qifu8erPSYnIU/+MS9FUKGQfbSOSjZQ7gWKjymMM9mPAOgyrDhXH30iKTAfTx8
+JDixYsDpjt7F61UicSkJM6ePWuxaDqrPlYkLk95SLZs2TIa5K6HjbX0qE9NvH9rz+XLwoO5+Mh4
Hmy4R5n+guHPiXsnqF9KcKf8WgKNlO0WGVuEp9OfIustI35ZPDZ9bSQLdaoGFAnLErCSG49STy0n
/z1JvVn1TDqeljj+90LvUfnXynxZ9CVV4/x/Fus8PNw4fdq8Gu/Xrz+kQoWUjAEpopopwtv09YcY
28206O0MzCZDqFPhP71zGXwDPDsuCA/hj4231SRzPvA+BjnVUzB4dlyIPgIYGqvu/JlaYsOFIvsA
LXZCCR0FnEWxQ8RQlNFsGchthJRM8bVIlyBwriR9bqJDKaSPSFehPzRcrL1uZyPhPTB1TNWxpbbT
HFdf3211BUOPXN/r2FYSJn7v6xjDwl+VG6sIYrWhcW8sFz47Pje198sSmJoeq4v97QRHY0dXwYwj
lVyYfYFTU04R+1l3zRwnVye6HuuKk6uTzvWpRV+NN4CD//xDiym/AmjdsCoUCqVLtyWFjHsPHtDY
25sGDRpw/Lj6Z+73TL+TEJPiht3vWj+c3ZyxbdWahMREJmc/gHeLm+xotwMQ0h/reNRhXKX0ubFP
Sy4EXECOHLmNnIlxE413MANVow5zUQwdmppvHiXt9+3k4IvXFMqZl4Ot2/Cdnf40q4Jr1/Lik1Bb
zJC7q9zTizuLF1HKRag9NsV6ijJNXNHND791QuSag52dWmSeTCbDb8wYuneU7qaXGsI/f6aChwe9
evVi5cqVyvdl3bChdLWAe67o3Bqybi0FfLpzZc4cqg4fTuK+vWoF8h+8ekXJfv15s2E9uZPrX/6R
8w+iPwoP6wq6F6Tn2Z7K9jNmzGDs2BQjqWH9+zOkr+Xq1gFMmDqVjdtT3pvAwEBatGhh0W3IPb3w
bdGceb17m9Qv9OwrngU+oUZYbWRvPGlYoQJHf52i1e7Jkye4uqaYOLVq1ozRgweTL6/gUP7m3Ttm
L1rE9r17lW2Cg4O1Sh2kBk1xpEqZyuyavtMiY1f2qcr7sPdqdelEmgY05dCQQ9+0UGfM9dXQOAqF
gumHpzOu6bh03UdztmWJmnXh0eE4DXEiaXnqHu7+fxbrxo8fT716uWjYsIqk9n/+eYnLl6OYNGmS
ctmgWZsADIpwz0I/UDivkZJAyYycvx2/n73I4iAtqjaDVJMh1Knwn965DNKRxwfhSC+IMrMQfenO
0HQDej+fVwPg76Fg4wC+qXtipZMNleDtNeHvamOEOmmaaIpfhgSOBdmEuluqApNIzrKmp1SK/Ttf
FtInpbQ1hKG5R78XUmtNjaYzNq5qf3OFuh314ctb3cfPlGg7U5ktgzJdocn61I2ja9xyPeDH1QYa
KYRafWkVwRZyFrb+kHqTFdHhWGYFwxN0Nnl26hl/T/qbZ6efqS2XWctQJKi/R9V9q9M4IG3SGw3h
5yOjUp1eePZcqbeN6DgpmjiIhISE4JIsfNSuXp2Ny0xPv99z8CDDxo8HBFGE5sKNd1LgPlbXXs2L
c+q1F8X6Y5BiGnDbJYydFZ8o3TpV962IfA15HfOaPK9vhfYr2hP+JVwtEsw2qy3jPltWgCzg053X
YWHY29gStWuHyf2HDx/OHD0pebIAbYdmxRDttHRd7ZLXoBjiq3/jyVF1iw8d4pf1G/i0dYtWkyZ+
fjx6Hcr9ZUvVlvvXLYfinCeyBFv8W1wli709nzXcPO3t7YmNjeW7woX5e1/aRDYG37xJy65dAZSR
pM5du/EuPBywTDSdqhgr9/TCSi5nYLOmaqLU/stX8PrtNy7NnkXV5AgwfezptofWG4SIxCpubuxc
uzbVczSFOi1a8OyF8P2Q2nsXuaeXXnFNCuPWrWfGrl0onANRrFDwZNcj3l4KBaB4l5LkKJ9LZ78V
K1bg7+9PSIhQ4zlv3rxMmDCBgQMHmrcjRui1rhc/1/6ZmkWFh6D/7ryLva1lzd2ehT7Ho08dreWG
xK/0QIyWM4Q4t9fhr8nnmA9ZbxlJy5PURGxD81ddJ2V7lsCc4/nnrT/5Zc8vXJ14NVXbTkxKZNzu
cfzR9g/jjfWw/sJ6fFb7/L8V60QWLFiAr68vgwa1xsNDEOZPnQpm0aI9+Pj4sFbP9+ugWZvw6+1F
Lscsesc2JTV2wYhOFnOXz0ASGUKdCv/pncvAglyeAWfGkapTRp8Apou0FuZAmvC2OBdEf0h5rene
qsmjQNjrpVugG/wZbLOaNkcxqqqEt2AyYQwpIt3QGJ21ttTGkOrKqkqNieAu4aLeFOHMlKg6Q+tm
y6DbDchdTtp2Dc0nLVJSZ8vAwRn6hxpuJ7qzGjsPU4MYMTosXjBkMYET409wZqpQnNm93lkaNjuO
QiHn4IN9BC3XflrtPsadhtMbWmTalsbPR8b4FV+wsXUw2G5eYCDDV64CtGtmHThwwKQIlypVqnDl
yhXl6+1ttnN3d0rdm79Kh3Cu6BsS96eIFBEhEcxxEZyj81XOx+ug18ht5FS50JRm/lPUxLrnD85R
qLg7fw79U/KcviVuhdxi5A51Y4ZLAZfU9kdVuEwtopCzZugQfOrXN6lvvK8vNnrSBE0R6uqUrcXJ
hsLDmXKLA7gVnzw3+5Ik9tUtZG+rWZP27dsr98FQVJ3quqTEBBSKJKysbSnepy+PQkOZvF+I+v75
0s8UqKYdOZ4pUyZiYlIcC38fP57O3qYV2j59/jz9RowgKjqllER0dDT29imCSWhYGPl9ugvztJBI
J0bPtff4gd3nzhO7Z7dyvVOHjjhlycLjlSskjSeTyShbqhQHt27VuV50u4WUqNu4O0sp0WmpwSjc
fj934Opbay4HbsS9khtnrgYTfGI7rYdPNVrPD0wX7OSeXqwdOpRu9U2PVhRNNb7s3EEmWyHT4feD
vzO+2Xid7e8svknE088AlB9RkUzOhr9r0wJVUedZ4JM03dbbfO+pWjXlQWsF/wpcn3z9qwh1uYbl
4v3c90bb3Qq5RcinEH4q+xON5zXmyO0jgHqdOnkfucEosmHbhjG3/VxWnFnB5H2TeTXrVep3wAjm
HNP169fj4+NjUp/mzZuzf792TWpLvKf/nyPrzGXc4l1ERMUYFOHSon5dBhYlQ6hT4T+9cxmYiBgR
kxqsbKH+AsHMwVTE2lwWSqPTyeI8gklC1oIQkRyZois1cn5moYi+SPfbgsurIWbLhLpjvpHqApO5
xhbiGFJq2IU/gZWuhtuA8XTbpfmg+x0tV02tOenCFPEtrYS6bXWEdF3NdGlTt2tsTq0OCEYeliQx
TjCxMOXYNFpm3mdNCh9uw9rklFuNOUW8imB+0flqqZet1rfi+vrrPD6unebeeJIr1bMlRwMOCgM7
7cL13yK/9rLDZ8xfFCpRW1L7oIePqDp8OACuefPycLnhz71mqq1CoWCKXLfY7b3dmzLeZfhx4iSO
Xxdc+EQRpfnS5hzodwArOysmxKTU0as0dCh3njxgbQNbOvjuUW7z3PqGjBhiuSL86YUhAwnNVGBL
CXZmp8AOHWq0yeh185n5KTndVIdQpwtVkU9fH7etWwkOTRH99Yl1mstVz0e5pxfj23mz+NBhfLek
OMQOez6MbAX1F/3u3LkzmzdvlrQvIh4eHmzbto28efVHeorvA6ROqBPFpFfr1uoU/hzaehMTF2fS
NmQyGXN//51WzQz/JhSp0pmn/2yiS4fmJLo25sIhIWr3aXAwVdyrM25RIHN6/sTxwACmn3fCv115
AOJOjiep7u80SBbq5Ehzifbq0oXrt25JEuvknl5M8+nGmDY6yn1I6GtnY0P0LvPTRRVJCoL8LpEY
k4iVrRWV/asjs0rbKJbph6cztolwzftg17/Y2liwjIoeCnt+p7XsawgypmxTNfJPRLVv8wXNOTBY
v6mZ6rbyDM/DH23/oHut7uZNXCJS9081Uqr5jz+y8A/TIuG27N7NuCkpv9nnzp2jVq1aJs3B4Pwy
xDqTMJb2miHS/U+QIdSp8J/euQw0CH8siGH66ouZgnNlQSRw1u30JZk5VqBI0u+UagnEKCQQBIeA
TJAQI83NVIpoEvsJFjoJbddXEMwjAAo3hLbHzJuzSfXDklMjjVFzMtTyM75dc6LpIG2Eus/PBEMH
gAr9oOESoX/2otDroenjW0qs02P48PjxY4KCgggJCSEqKgorKyucnJwoUaIEFSpUwMlJQm212TLT
Iklny8DOEQZ9MmNHpHGigy/1qy7g5rVyHDnWjS9vtefm5OpE82XNcW0oQTAWz6MOZ6CANBHsa7F0
YkVCX1zHb61pdWeiYmPJ4t1O+frUtGn8UFZd7P+tlz2lIjZye8dtteUKFMiSr1V0CU5i2udrxyiW
e9wjf7gDL09ppzcCbD51mqPL2jBxZhBHGx/krWIvk28dwUpuxUHfgybt09dk1pJZHI81/tvlL/dX
XtmU8S6D93bTort0Iff0okT+/NxbukRS+7Zt2rCzYEGj7VIl1MmyofDtob9hcvorSBPqNEVjcV3u
zl14t0lwwVVNN248r7EkF+HImBgu3LtHI5WIMlNx/bk3T9++BVIn0oli32E/P5r4+VHhu++4FiAc
p+ErVzEvMNCs8aWabBSp0pkmNncYdPYaZa1gZfequK28wqofKrLkglB6w72SG6euBlNMRYgTRTl3
E4U6sa+h+5jsHTqiUCgI36Y7ElAf4kOJPj/9xNKBA3S2WXJyCf3r9jdpXJHYjzEETxeisDO7ZOF7
X8vVpBMRRZAa5Wqw7Xfd35+WpkKXinz6nPJbnZCUQK6hufg0P+1+v3VhjlBXY1oNLj2+hJ21HadH
n6bad9UAWH56uUFn4ifvn/Dm8xtquNYwedvmIusto0PVDmzpo/t9FQW6MwcPUrCA5ZzsReOnU6dO
4eHhkSHWpTNbjl2iQ6PqOpWeTUcu0qhaGfI4GXaXzRDpvjoZQp0K/+md+3/Hh9vwzxy4ZajelQnY
ZRfSLQs3ssx4IKSRLk6uTWJKKqw5iGJAy0Ao2gLmZ4X4SOh8CfJW091WxNSIr04XYXMN0/trIrqd
9rgLOUoZby86yhojZxkhKtAQxkSsTdUh9LKelaJpgwRMFcs0o+qC5sDJEWY61iaLmqkQ64YPH87c
uXN1rivk4kK50qXJkzs3Dg4OJCUmEv75M4+ePuXegweEf/6s1cfBwYG///6batVUz0kz5jlbDjIZ
DE803tYA7++8Z0n5JSQlar+fMrmM+q2uUbvmXvj5MThqRweYzIrCgsNui+1Civc3SFJiAlN62ug1
mpDCgCVLWHr4T8q+cqJtkPZxa7aoGQcHCsJZw+kNcR+jndq8svpKQi6HkClHJmUR+8mKyWRu6020
ASdMhUKBf3c5X7aNZ2bMb0pR5vCQw/8TtVcWn1xM5evCQyGpkXKqolL5ruVptb6V2dvffvYsHf6Y
KVnEccyUiXAJxgGmCnUzdy5ldIhgtBI9ZAgGK2mpCHWgW6wTl+kyURHXOXftxpsN6rU5VY9tz7M9
KeiuX5Q0lHorFUtE08k9vZDJZErR6t6SJZQokJ8d587RfsYfBh1NjWGKUHdjfhkqTXnNsWnN+Ctg
Em4rr1Di8u+sjfNGcfwg2w+to0i/pZxb3I+nwcFqgpwlhboCPt35EBFBzG7TnKBF8w0p70OhMYV4
PuO5SePr4+ON9zzY+C8Aearn5bs2RVM13qGbh4iIieDZ389oXyp9f3eiisdQunSKK657MXc29zYt
CjW1mCL+2PazJW5pHBWnVOTu67vELIlR6x8aHoqjgyOZbDJJ3l56iXWa2+jbty/Lly9Pc/dq1dTz
9svas63vNiM9DJOezrn/qxiLphs6dwvzhhk2QcoQ6b4JMoQ6Ff7nd27QoEH8+ec+7txZh62tto36
q1fvadHiF/r2HUafPmmUIpaWRL6CC/5wc6UQeWYpHF0FoSyt0uZEYsJgUQ7h77QW5g53gzsbhL9V
BQ590Wmz5ah9BIZEg7XEIsLH+sGNZUL7hOT6PKnZP2Uhfrl0oUVKPToRKS6xXnugWEvztmeq8Gau
UFfLT4gMNDaGIklIXx4SrXu9CXOws7MjLlkEmTphAp3atpU4cdNo2r49d/4VbkTmzZvHkCFDYENV
ePuP6cKiHvOLoOVBnJpyioiQCJ3dfpz5IzVH1pS+HTFaNasL9HlhvL0UFjhC3OdvMtpu5ZSaFCv3
E3Vb+Ulqv6fbHm5suKFznbW9NX/3iOSHA8/gRUnOVfnAwYtzsbHSvhAXhZEcJXLw8f5HMufJzMg3
I7XaAUrXVxBEjevrr7PXZy++D30JmJKDKWGehK1dSJZszlhZ2zKmyRjqlUy9e2Za4bXIi9h4QZwS
j0Pr9a0p11VavcmFpRby4V+hzmhqXGJNSYHd0LgxXUsZf9BiilAnDwhQ/lolDBmC0ds1DaGu08xZ
ONjZsdJ3sHJZ0d59aKfYzbSV6rWq1v71Fz0D5pMUuI/8Pt15tW6tzk1EvY9iZu6Zyte6RNTUCnWp
Fekevn5Nib792DP+F1pPncbo1q2Z5tONfosWs/avv0wWqnRRuXJlrl69apGbf1UxLrUUcXNj+/bt
eKvUDJR7etG8alUCJ04w0FOdoStWMH//AZOPf1qLMXXfb6cAACAASURBVK9OvuTFIcGYqGDTwuSv
6yK5rzi3tK5Lpw8xBVbWW8bq7qtxze1KnRLahhPm0K9fP5ZpGBlVq1SJ2jVqkCtnTl6EhHDj9m3O
Xbqk1mbRokUMGKA7OrLRnEYcvytENOsywFj09yIG1tNv+PE5+jPZMqlHMqX1+fHj3B/J75iftT3X
AiCXy3ErV44967VNwRTvdvBdo9+1xHGACpUqs+qXxnjP+JcnV3Yq1xdxc+PqpSs42tno/T4WhXJL
RdbJZLJUu8r+VxkesI1iLnkY0Eb7ekaKALdi32l6e3mk1fQykE6GUKfC/+zOzZw5gFGjDCvjuqhf
fyjHj19BbuaTU4tyfwfcXg+P9dd2MBt7J6g6RhCP0ps3QbAx2Vp74Ef99c4swYc7sDa5HplvBNio
uPyIQtyQKLDOpL1cZFgcyLVFXr3MloFtNkFMANPENV2IkX6mmE1YUqQTxzPUbk8Lw+dpWgp1Yh/V
bc2WgecOKG5ANFviDP0NuBAbmYcYafTn9u2UKlFCb7u0oHbTprx89YrAwEDBjEDCMYt8Hcn52ee5
FHCJpATdF3KV+1Yma76snPQ7CUDXo11xbSQhVVUKi3MLjsGWdKcVI0y/oWi7nUs6cuviVq0IJEOi
XO7SuXl39x0giBkzc88k6r1QA1PRzU851vcDB3En2bXRwc6OWU8a8CYoFLtsdsR+jlX2l8Lt588p
N0gQZVTdG6cPzM0vL2ox0Wk//uuE86RLjS50qdFF8jFIL5rOb0qShnOqKNb1u9kP5++dJY+lGgVm
ZWvFhFjpQoWIVLHuno8PpSSkuUsV6lTr0m3yGUSn7MajKsImT9ZKtdcUzf48uJihq9dzb9dFrXYg
7KdL9x68XLvG4LZeX33N8srLla9Vz9GTN29Rt9z3Rueri7iEBOxbCzXTvnN25tGK5UZ6qOPSoyev
PnygaN68PAoNJSlwHxf//Zdao0aTsG8vcgtGk65Zs4aePXtybPduirta6DvVTDbv3Mkvv/1GaGgo
zs7CZ0Tu6YW3uzvbxoyWNEaSQoG1V0vyOjnpFWqNkd4pew82/svHG4LoXKp3WRyL666FGh0fjX+g
PxMbT+T9X291tinipf0elu54iMMdNAR4xXOKtKyr1fbpPu1araoMXzuSXbt3kWtYLvYP2s/NkJsG
00elIF6z9OzcmUmjRpncv3W3bly9IfyGad77ivXpXsx4gbWVNT5rfDgy9Ihyvc9qH9b1XGdwfF2m
E2l9jqiObyjyVfFuB6X+yErik4ckPFypFOIeXgvGWgYkPKZItf48vXokWai7TBE3IQviSXCwXmVh
5KRJ7Ni3D4VCgbyP3CJinZODEx8DPqZqnP8anyKi2H/2Ol2baD9oHjl/O7N82+noJRAdG8fYxbsI
MBJtl0G6YdIPs2mWdxmkOdbW1iQk/G2WSAdw4sQ84BxNmvzO4cNp4HwX/lhwLP13B3x5bfnxRQo3
hIq+Qkrnt8D9HbC/XbJolZA2zpiqzLWFpHghukpzW6JTas/74FQ8Zbm56a0i93fC/mSxQBTpUruf
JtWi0+ijik0WQezTxBIiHaSNmJwabLNCoLfhefd/Y3jfRMFPY31cXBx2dnasWbiQerW1I7o03fuK
uLkht7Jj55FztG5YJaWhvCAkvVCuq5RLQRE3wfFtw5VgfrCBFp6NCLMtwNmda9W2cfbQIbVtKRQK
FLPkHDrQln9O6TDKAOyd7Kk9pjYTYiZoFeG+6N2YGjWOMH9xAL6PfKkzWf3J/cmTJxkwYAB3795F
Co6OjixYsICuXbumLBzwLuVvc85rXfT8N+XvzTXh9UUo2Q6apy6NJDUUzzyWO5tK479eEH5qjapF
0PIgYsNjlW2cXJ2oM7kOe332AtDrYi9ss9gyxWoK/jJ/tdppfj5+yn63Fi0EIHhtMPt67OMNgiFA
7OdY/FtcZd8E6eLSzsJrWFD6RwbeGYi1V0ul+HKm32jeuDXHuR+Uv3CBNjVrUvxScbre7cqGHhvM
PzAWpse6HkSEakd+TlZMxl/mz9JyS8lWMBvDng+TNJ4oHvnL/EmMS8Rf5k/lPpVpvqy55DklBe5D
7umFlacXiQbEusQky0U8WKmIdO+HDCGn1H46IjN/8fbGe/oMdowdQ2JiPM8ureR+vO601Smdpaf/
5KuUj8mKycRFxjEt6zSlKFrrmleqatPZt25D0Xz5ePT6tckiXeWhw3n1QYikFEU6uacX5/6YYRHX
WE169OhBjx49lGKJXC7n8dWrFt+OPmJiYylVXagZmCVLFqXQkq+bD+/CwyXvs5gKHLphfZocp7Sk
eJeSQEnl6+DpQcR+jEEml1FpYlWsMwsPZB0GOKBYoaCAcwHOrzj7Vebq4y48zAqaEISdtR37b5hf
o7l27dqcO3cu1RGdu5MjzeLj45HJZFrRmAAuOVyU4le+Efl4PVu4z7n63Pi5rivwRVd0niVRrFCQ
Y0gOicKWnO+eruKB8rWNINIBRaq24+m1f1Ta2gByngZfpd3mULZ30m2EM33yZJKSkpDL5cQtjcOq
jxWJy81/sC8er4y6depMWCaYZWkKdRFRMZQqrN+k6MGLN2w7fiVDpPsfJkOo+4YoW9aVhIS/DbaR
yRqgUPyFnVUdYhNP6W13+PB4HBwyERWlJzVOJPKVIPw8Pw4h58yZtum4NhdSUi0gwl28eJH169dz
7NgRHj5Uf8JXrJgrXbp0o2fPnhSUUPhai/N+QlquQx5BFElrcW5pPvgSKhTOHxanvf7TQ1hVXDAa
0JX6KmLOPEW3WJHhCSBLRa2IZS4QGSLU/2t7VHo/zX2xzwEDP+gW76Ts59Hextt8MFLbzlzDDFMY
+DElhXpbXSH6UEpUofuvELwY3HSnc9Biu5ZYZ2dnZ/CC92lwMMT+S5Hq7ZXLHgddUqZDLOpUBfnv
l+n/nZwibm5q60Rh7wcbKF3RjbvXDF9YPw0OZtj48chkMv6e/Dd16rekWYsdkt5b8WbZfbQ7DXcI
DyV8G6/lr34yGmqYkVZxc2Ouv7/kyMGPYWFMmj6dbt3UI+cmT56Mn59fyvxEAb+SL9QL0B7IFDpd
SPl7ZyPBFCcNTWiur7/OwQEHif8SDwjim/d2byp0q8CNDTeU7rbnZ54HBDdM2yy2zMgxg7DHYYAg
Dm1otIHpjkJKfN+rfclbUf2iccKqGLXXqpFf4hgAk4GRq1fj9dtvynX9mjRmcX/1Yu1xEXFMyzaN
6r7VaRwguKQm7BMEwxm7dvHD0vVMchqNS64ejJ37C97TsjGZSgz6PIiOKzuy5ef0KapuiP57+vM6
7DX+Mn+dEYSiWPf5xWe9bfShKtgFLQ8iaHmQSYJdzO5dyigvfZx59YqyOaVKavqR4vCqj2zZtAtm
/9a1i1Kw/bWnLX7rFPRXSS1VZUJ7IQIhyYSsEtsstkxWTOb52ees+WENP02azOT9lcxy4K05UogI
evT6NZtGmuZQrJouu2XUKH7dutUitfKkIIoRISEhuLikpGIWcnHh78BAs+vgaXI5KIgevr58+ZJi
7BMfH4+1tXDbksW7HTKZjIjt0h5qqEZRev+PCXT6cBubYnaWGJPIpTHn1JIpDIl0yoi4xGsUMfR5
lxVStp3WvzjLXkkTYSoUFxx9C+cszKR9k/gcrV2/VgpyuRwrudyiNddsbGyU1yrNmjXjwIEDDKo/
iIUnhAdJohgd+jnFWfpWyC2j4ypWKCj6S1EeTX2ktTwthaewqDDJbY/9c03tYSxAyeTX6imxMo7P
HkBpjx+5e1r/NXyxypWV3wk2VjZ8DPjI6fun8ShhfoplhlinjVwmY3TXJlrLxy3epTfldc/JqyQm
JTGhh/SHdRl8e2Skvn4jiJF0mihe7cOm7isS7gs3KzJZA+TEkwQoFKeRyeoCSSgUp3WOu3DYrwxy
SUOhwS67cJNasr1Q0D+NUCgUyOVygoJWUqlS6tL0goL+pUqV3iQlJakXGheFuUy51KNn0orPT2FF
ctF1Q46loVdgUzVofwpckn/8tteHFyrnS8dzkL+W6XM42gtuJptz2GQGXx1Ra6aQECO4zsptdIuN
+ri5Co7+rL5MFEPMFeniv8D8LNLq1xnCnDRWc8RSXemvUsZZnEuon2atv9CxONb333/P3ClTKFHU
QKHqxBcUqdxCy5FPn1Cnuu7+yk4MjBrPMd+yfOfmxhOJF9daBcH17PsU6ykoEhWMjx6PtX3KcyZ3
d3fOnz+PXC7nUVBQmhoItO3enX+S90ttzqI7Mlhe1F+YHWLDpTkbA/f33+fsjLO8OJdSV8+1oSsN
pzckX+V8am11pbR6b/emjLfwfe5vNRmS5FjbWzM+ejwAuzru4tZW4cZlUuIkZHLDx9u/mxVsmKR8
XdC9ID3P9jS6HwBn79zBY+w4ACbvrwTAgE9Dye3oaLCfn48M2Xo/Yq2TsEuQs7TOXfqdKo3cWs6F
0hfwre8rafuWRLUenYghIU6M4ALpKcGazC82n7BHwo2cKSmxhoQfK7mcRF/9x09VgNMeOC+Kwe2N
t8OIeKdRo07kyZs3bJ5YlPHLhd8yQyYTgE4zCanIPb2U5+T/sXfe4TWkfxT/zE0VIaL3RPQeoq1e
F4skWKxdfXVW71bk6qzonWW11VmsVVcPokaUVSN6CUJ6vff3x+T2fpNg95fzPB6Zmfd95525bebM
+Z4D0GByAxr6NzTZLzklBfu27XB2dCQ6Pt4igk3i7YOdrS1JyclIBIH8rq4mS3c/FSIiIhg3bhyr
VlmmDtRG3759dTzIFJB4+zC3Vy9G+OonYNVh59uWFJkswwjML5VIiE+KhxR4fcSMqhc1ok5v6asa
1Ik6U6WvAD+tHsq+/fsQ+gj8WPdH1nRfY94BpKJPnz4cOXSI03/qVjzIw3cQ7NqBCbU8WXExmAZV
PQkLvoZ7lWo8WNOJ7+90wd0tDx/Wfs+V1xKuHNBP6Lp7ehIXF4ejo6PG69l+eXt2X91N0sokbCW2
Zr/WxhRlGfl+UYwtCALXTp7ENYf+suj0hLunJ3369NH5vN97fY9vFn7DgxkP0jT+qXun+Hb5t8xs
N5Pe9Xqb7vAfxeC5m6le1p3urerorDdE0v28cg/T+lkfMJWJDEVm6eu/EXfvbjK7bUrKVgJTCtLC
sX4qWWf4ycWSv+4y2FJbiEJ1RL+k4m3EUIbPiLNnz1KlShxZszoaJCMthZdX6dSxzrJjxwkcD02m
TSMv6HLZrJvgNGO+HciSRYLTHBJJUEvHVPRVYKQMCz/zImRJYnmtcpx0uHhY4AApiZariz6GWkbS
DdEfFKADc0i6jEAWK5UmP0XC4lSVyDoxMY3XVyCfl+E+AAPfmib1Uom/gIBDtPb25t5FQ+m24O4l
Kl3Vn666e3oiSPQTI+rbvl5ym7BgsXT1UbDqya3FT8MVRGWXy5DPi2mOosrKL9lPo9mcOXMYO3Ys
vX74gd+XLbNsH1Zi52+/ARAaFoYgCDg5OYmqD4ccqtdgdyt49BfUnQY1J6Z9p4M/KP+UH+jOifnP
CTpXj0Q1wbRDdgfqjq9LndF1KNWmFKXa6H+g8We/P7my6orGOu0U1rV117Kj4w4AJsulPLl3lrXT
6zHFNgV5ihzHHI4WppOqXjdLCae65coh27cXqSDl223fUr5jebynTuPPS5eUbYa0ac2CPprqWdtt
U0n+fioOv08AoM8Z8QZ0csvLyPb9xerVqylyywqltRVIliVzcfFFEuQJOttGvhxpkKxTKLikgtRi
ZZ0CQx6IhJp6SawgEfBL8TPaz8XJySBZN2z4cEhJW/pyWiDH8K/e+jH5mRLhjbmfuhSZdcdx8MoV
orZvI6ujGNAkFaSckp7ilPQUfS72oWD1ggb72rdtR5sa1dl/8ZLFJB1A3bJlOXHjhlJJ+qXA1dWV
1S9f4diuPXG7dirX591biDc+z9M0tsTbh9+GDTN5viJjY8nxXWfm9+lN0h970rTPfyN6r+/Nmu5r
aNmmJSsGfprfREM4dVJV9eNk72Rx/zVr1hi9dmhbzRNBkhU3CRoPDJOvzOHjxyjm1C2Iz9xI3j1/
TYsV9zjUX/c38eHVqzg7O5OcnKyxfvfV3VYp4VJWpZB1UFZilsbobMtoZZ3QR0x9FgQBpyxZuH3+
vOlOVqBFhw7cuX+fZZv/4NaLaAbP3UyrOpVo+ZUYgFQqXynmdZpH8wXNNXz+LEWDUg0ImxXG6B2j
kWzU9f/7f8Klf8I0iLoDgSEGSbqf5m5m3rDvPtXUMpHByCTqvhC8evWe4sULWdTnULxp4ir87Ueo
O130PcpRwtrpfRbMnNmP8eO7AGYmlVqBDh0aQYdGTJu2Acutty3AHz7wcB9kLQDDk0y3X+0GkU9U
N/6LskJSrGq7JQmu2tBWbqUHrPXsOv4TXFuiuU5JStrrtm+5XjNQw+B8JFDC9BN3lqa9fEsH1pLb
6kEb7++I/2+uDiPMuDgxR4E3Uk7zAIHEROjYqxfb167V20z7wlh7edDvl81sa9jYWB3unp4EaaWz
AWKAyTwboqOy8XO8btmMk5MTcXFxBvfxQw1PAhNFj5Vinp6svRTMmjqejDoXTBVbqF7Vk60Xg3k8
oxUBOWdxa01X5cU+gE0OLx7saEGJH5/xcJ+uT5iHuzthwcF0HzSI7NmzExmpNsd2B1R/z7MFeYrJ
z8bj04/5Z/c/3Np2i+hXmsrWHO458OzpSdUfq5Kt1Xoat4LGIJbd3tsBzVYaTLi+vOIyBwYc0FjX
7Jdm1B6lqcA96X+SU1LxxmpS4iQkdmIJ2+0dt9nR8W8E/JGXuszku/uMHocCR0Yc4fz81BsFu0Qm
J043q582ghYGcWjYIUa+HIlzfvGzr53oePb2bY1ywJFHK+KcYEfWE37Ekky/x76sdPuDSYmTkLZv
q2ybsGc3rtld2NlnJxmByLhIjiQfocTuEthgQ+zbWJxya96wOud3plr/akglUibL9BNx6mTd4LuD
yVXK8u8t9ZJYuUyOVJAaVTZGbN2CxNtHL1kXEBAAw4YZ3Je5ZayWlrsqkHPVKiL0KOr8uwv4r5cz
Re29MLFjBz7ExJAja1a9Y8lk1v0GtpJO0Tgv6ud3dY3VAPiu96Vyt8oa/fJ2EX0v91+8hLlQKPBA
LMuLiov7Iv3VJN4+rBo8mN5fN9NYXzlHpTSN2bVRI5PHW7JvPx6+ekX87l1f5Ln5VPj17K+s6b6G
Q4cPgQFHjE+FAe36A5A3e15yO+fW2Z4YmUjMs2hinkcT8yyGuNexJLyP12lnCHsuB3OkYzWGHovA
a5cve3qXZeSJt8zODi4u2SDhLDfjK1HV5W+iDTxYePjoEblz685tboe5Zs9DG7GJsQa3ZRRZd378
eWp51FKSdStWrFBey4wdOpQBPXumafyPkZFUri+KQvr3788/9+7ptHn4PJz5W8Qy2fy5XKha1Iup
f05lUmvrksgBsjpkpVbxWpx5cOaLVbBmJPxW/sGiEd8rk+4VOHT+Bq3q6H6vmpP+mol/FzJLX78Q
1KpVkwsXrP9hMIRnz4pp+Ij8e3DG4BZBEJWE1RwacC1bS1LejtPaLvr4Abjb1ic0+TR1fedyfu8+
o6o88UlUOkZXP9wPf3iLfw9LABs9xJM2FJ5XihK39PCfU0B9rKYroHI/68dSQDHfUh1EPzRLsMRV
LBdUh+L43t6E9RU1t+WuCN31p07qwNyyUVNlr+W6ieSgJfjzO2i0ALIaNng1iNsb4GB38e9iLeDR
IfNf893fQLu/jLd5egy2N8NunC3Jycnp6vtiKZq1a8f90FDCw8N1LpR/yfMLce/jRNWPARLYWMIZ
iERdu8Y5aDfrOA1nH8R/RCsNog4UYRYimaddxuvu6cmjoxMNEnXqUJTuvn/wnmfnn/HwyEOenn+q
LDnUh6J1i1LauzSlWpcid1ndGwWLsbUuPA/kWNBQAndopmEaKslTeG0B9DzTk6J1iyq3bWy2UelT
p67kUpAhxqDuQ6fo699Dgv9vlj0RX1t3LU8Dn1qkJNvQdAOP/n5ExKqCuPZ9gfz7GQipqjrFOHGJ
iWT9VtNEfLWPN68PvKZq0ao6Y1qK5SeXI7spY3+yyl9QcU4MHYtUkFLym5J8f+B7g+MqxnAt7qpU
ylkL9dcoR7EcDA3VT5pJvH1oWKEix2eovANZtYqwCxdw1+MT9ylwq08fypfXDJ2ZPTAnY5epDNXV
CcaG4ydwcuYMADafPEXXefOU21w6fcfHbVstnoMpTzj18zshZgJ2TnbKfq82biB/125mEUqbTp6k
27z5yuUvlYQydD6sVdNJvH3w6/wd/p2Nm6BLvH1wsLPTUPB9KmT/KTuRi63zXssoKMiMfLnycXHd
BdMdMrD0NfheMEXiC3PZ5gpR2aPoXqs72YplxyGneQ+Zr169ipeXV4Zep7h7ejLoF92KplJF81Gz
cgFqza1A9JJonAc7pytJlBGkk7L8VWtsb29v9u9X/RY5OjjgN2YMbZo3J5uz7oPvC5cvM3fJEqXF
hwLJycl6Q3yMoU/AIhzk4oOl4Z2/pnihPBb1V+DFhxcUG18MJ3snIhaa78n3b8fguZsBNMg3Q2Rc
Jkn3r0Fm6eu/ERcuBOHgYE9Cwt/pNubo0fv45Zdf0m28T4WlS0cwaJDh2nrHb6UIth1x9ZkEpy6T
dHUN7W+0568ePiTLTwOihF0QGuCW+pty7o9RCIJxJYggCLi4ZOfjxzRceClIhXJdoeUG80kWRVBE
/xciSXdeKv4DkfSpap3ygMQoVTklgFM+GPDKcHuzx42ExamlkGn1YwPoehXyVlEta5N0VYeK58Hc
sc2Z00IzSjEsJelA9Gp8d9s6oq5cNxVR98jC1OZ2f5k+9iJNYaScJAToepWqLXpy7do1AGZMmsT3
7Y2byKcVdVq25PlL0TdH+yHR4pKLef/gPf2v92d0+GjVBoVaUOvYZvoZL90DaDXrJMU8PQm7eogT
Og/UEwEJoJ88CgsORh6+w4yjgsljxjBo0CCWLl1KzhI5qdTVhILk3S34rYJYLlvWuotOeYqc5ZWW
E35b4afZDGhGg8kNmCxvqPqMfXsU3Boq+ykIhDzl8jDw1kAN4ki9LNZP5qfX689/vRz/7gINfSfT
sK2/xjbF2JW6VqLtBuv9URIiE5jlMosGkxuY7WWnvn+FAq1KrypcWyuSdPJu/kTFjeGrUaO5/fSp
Rr8tY0bTeU7qb2VoEH6dv6NIbCz9+/VnaJOhNC3bVO/+5MjZcnELG89vpBWt2Juwl2kO06iKSPZN
tZvKpCRRTeDg4kDCxwRmOs9kfPR4nbEUc15UfBFDHuon4SbLJ3PC7wSnp562uhRWfSyAQ0MPEbQo
yCCRqJEEu38frFwJfftyydUV98BPFEClBW2SzhR5fPqWKjBo8Z+a4SzWJNjuv3iJ2J3GvxsU53FD
0w3MyCqShNI2V7k0bx75u3ajQfkKJvfjOXQoIY/CkAPP1q2lUDoEeKQ3FEo2fSSdHDl/1DGfQPPf
soUpW7Yi27fXKCEp8fbBq0RxLqkRrp8Drk6upht9YkzznWa60SdE1Z+rc+ivoySlJJHbK69lfatW
ZcSIEVohB+kHd09PXr58Sf78+emzoQ+z2s2iz4Y+7B64G9AkvgBuPHxOYMh9bj7UJZ4rFC/EN7Ur
UTRfTo2+hqAYN2VVChIhfQJY5KvlHL9zXIes27fP8L1PcHAwr169Iioqipw5c1K7dm06Va5Mpx9/
TJc5rR45BNehrjyd8xRnB5EU3HIkiMAQ0b+uRrlidPvGtL92wRwFSViegNBHICklCfv+9v9add3d
u3cpU6YMo6W/UKNuQ41t508dY96U8YSFhRH6Lp6FI7/n+WvVA6hMku7/D5mKui8MEyZMYMYM3WQX
S/HiRXEKFjTskfIl48mTnRQtms/g9iwdTvDN31J2vT+JTe5ZpLwdJyrhJK7IU/YiCA2Qy0+lEnVy
QpNPI0GlxDMGsY2Fb5sFjpCSIN50D7bipltxQ529qFjuqkD/F2KprLXQJsOGJ4FEk5v38qqCk5Oc
tWvHUrKkceXl1Knr8fP7lV27dtHuUXuzje1Nzst3n2YCsLXhEQBrS0FsuHmvgzmpqtaQkP9sEkM1
KlppfptWFaUlakI1pWe9evU4e1aVEle2VCk2rVhBrpw5Ldt/Kv48coTBY8ZorDty5AjNmqnKom78
foPdP4gXxSZJB8V5GRYPNg5mKep+vRgsFs7LXnEiJT9r6ngSqJZxEhYcDLJXuFfrCLJIDUUdiIbV
xZpNV7U1AJ0wDEtwsBvc3gi9Hxotm1ZXv6mj877OBv3oFJhqMxmZTIJgI+j4/MllcqbYTAHAPps9
4yN1SSR9WDu9Hm9f/MOYpW+RSqQgR+/46oiJfEPW7MZv1gIKBhD9MtpiEure/nts8d7CpKRJBC0M
4sioIwwIGcDySstpt6kdu45U0kvm7D5/nm9niqm1fn9WZUrrqxrb9/78M21qVNfpd2nZJf4apKlg
zVEsBx8eaaqE1Y/DlKpO0abTnk6U8TWsbEmPkAltzM03l5g3Kl+lyfLJEBEBOXNC69ZIBAmuWbPy
bsvvyjbPevemsB5FRkbCZtEiDXLt0vHlVG88QKdddHw8OTt/T+Ke3RpqL/X0TwCnbzuYJN20YU3C
6oouGxgYuUu5bKq/Y7v2JKb6Zn3JKjoFYaYP5qrp9l+8hM+0aUaPU0HibRs7hg516hhs9ymRY0gO
Piz6YLrhJ0KjuY04MUoMGRMEwSzVW0Yq6pbvWsGs9bPxWeLDnyF/GgxZMIWIiAhy5syZLiWcAL5d
uxJ844bGb7Y+NVqnlZ3Y1m+bkqgzhxiKjU8kMOQB+05f07kBLZovJ3Uql6R2xeLKh2BCH4G4ZXE4
2qWPxY/6/L+kUlFjc7nx8Dkr95wEIHvWLMwY0M6ssYQ+AtFLosnqoN/W4EtDl65d8e1pvuji/dtw
Nv66nDOHRaJ1yq/7mdizlU6ydiZJ96+DRYq6K+wxEgAAIABJREFUTKLuC4UgCBaHJ8jlcrJn/4ao
qDQmd35mVKpUkZAQy0xwV7doiu/BY+RJY9hjSkpt86TdqWVmaUqIXZYX4sLBozWEqqVa9boLrmlI
tlUnetpsF0tTh8YqU0Ht7e2JizuKjU3anuK1a/czEyYEUK1aNevmBrqE0sVZcGa88Tamxjen/a7m
EKYWOe9SDD4+0m1nDVH34pz4etadYXlfBdLiI7j7G6gzBfKZ8boECKmKK13F0Pnz52nRooWm95oF
+Oabbzhw4IDOekVpomAjMClpkmUJrfs7wL2dkM+Ln++0YPr06Z+1fBdEkm7mzJmMGzfOdGNj0FKp
6gt9cC7gzJAHQ5RldMawtOxS3t55C2iROanvrUeeoWxoKqZdDrw5kDzlLS9JOTDxVy7PeKa7DwMw
pXySClIQMOjVZggvLr5gdc3VtN/SngrfVUAqSPH9zZc/evyhMTdj+5cKUja3ecwD3tH762asOaKb
ln561kzqlhPTcC8vv8yBgbrv78pdKnN903Xl8pAHQ3AtLipvjow6wvmA8xpzMjQXU+fz/f33LC61
2ORYlmJNzTU8v6giV9THlnj7UK5IEW4uFX1FL1y4QK2tlpeNpgmrV8ODB1CgAC8fX+PS30vx7qU/
TVJBqGkTdV+VKUPgnNkAOLRtR8Ke3RZNwRqiTuLtw8sN6ynQrTvDjlXAJc7eoEegxMcX5HLqlC3L
mdmzLNrPp4LE20cjTEMfrkYEU9XV0+D2wStWsuyvv4yey+wdO1mcjPup8CURIaA5n2+++Ybl/Zca
bFvCx4Nkg1vVibgU3H1KGmw3YcV9+hbQf81coXMlomKisOlrg0wuS/O5cnNz48kT8WH22sWLaVyv
ntl9Q27fxvt70VagR48erFun+dDLUNlo4dGFcbRz5GH4Q4vnb+z9EXQrlMCQB4Q+D2fp3S4MKi2W
39rYSKhV3oNvalfCxTmLRftTYMvFLXSu0dnkHD41zJ1LfGIS0jX7iIoV/QqlfXzI5aL5QEgx1qrT
q8hil4WuX3XNkDmnBx4/fsyJ4Ic4Z7POKuJd+BvaN6nByj8vMLFHa+X6xKRkRi7cxuJMku7fhszS
1/8C1AnUqlU9KVzYmTFjOlO3rqqk6sCB80il63n/Po4HD0IRBP71JB1ASMgNHB0diI8/ZnafPofM
b2sIDg5NSEhINNzgnL+qHDWtIQwBgkrdpiDp0jqmwrQeIFth6PtUg7iys7MlKekEiYnpU169e/c0
II4bN9ZTsWJ3443j3sIyLSJA3/F+CpIONEk6gNbbYHMNzXWD3mMVXDzggxlPsjMK5pTAKqAoK3Vr
Bt9qnpOvvvqKjx8/pmkqN7feZE/XPciSRQVMo6mN6Hasm/UDtklVvgQITCv6hqkyGZLUp4ufmrD7
un177j18yMqVK+nb19JobU2E3wpnVbVVJMf7iytGid8zNXsWpMXaPoY7akFRxgiGS1dn+E0nKTaJ
7DkWM3nufMjuBuUtI3oUAQ8Axeec59XTYMD0GIKREh+pICV7kewMf2LcD1AbHx59YHVN0bxfQdIB
OOYQCQRtEmvbonZ0GqJJzCjCO+7tEwNWFqSWCh2ZOoVSBQvi/mNvJIJA/XGq76c6zh40JYfGOHLk
+G701SDqFpVYpJzD13O/VhJ1xjAxdqJJsi5nyZxpToTVwOzZMG4cvbt2haANTM8yneT4ZA0VoIL0
ik9MxNHenlq1apG3WTPepFOZlClMdnFBGhMD9+5BwYIcnFaXXhMN+9mWKFCAG48f66yvl0q2Asgs
fFgdm5DAIam/RX0UKr6iPUVSbl7sdOYVmsfTwKdIBSkdtnegXIdyGm2/RGIKVP6OyXv/QGLkIUv1
Y7W51PSc3m0bjp+gx4IFyPbtZUl/Xa9cmVyOrY8vY9u3J3L7tnSb+/8T9uzZw6vDLz7rHJo0bQyA
TJ4+aZ2P1T7LlSpVotdPP5ndt0CBAgZV75uDNiv/nuIzhYTkBBxsHQB4/uG5RvmrJRjQUFfpq0DN
8h7ULC8q6Jfwg14S6+XbjwSG3OdM8H2dEv3SbvmpW6kkVUoXRRvfr/5eSdQlrkhE6CsgX/X5yTpz
gzQc7e2YOVDThkW9XPbbxl4aY72Pef9FEZLqyJIlCxsPnLGapAPIlScvJ0PC8MqvSdnM+O1AJkn3
f4BMRV0mvmgUKpSX5893mW6YBhQs2I4XL/So4hI+iIEHkDafOHVoK8ryVYUuV/S3tWZM9XJZNbIm
JeWUXgWdohw4p6Q+72XGFZwlC3xDqVadOLBGPylXpEhnnj59prtBUdqn3KlETPQ0dhxgOUnXfC1U
MKMs4teSoiegAkUawtOTuu3SQpyur2R+8IUhpDWd1xLicp4gflua2f7Dow/8PfFvbm65qbE+d9nc
fDX8K6r2Sbshv0kokpSHJ4LEDnt7e5KSxETlrh07MnXChPTd3V9/MSx1TAcHB+LjzU+nU8eebnsI
2aj53nD1cGXgzYHYZtHz7CxkFRztJ6pjS2kGIHwI+8DCYgsBaLGgBTWH1tS7zxWeK3h9/TVgRH2l
+Jxql6KrYbbrbOI/iMddZ2wdms5SKTHNCZnQB3PKQQ3hl7y/EBseq+y/ockGHh1/pCSwxr4fi6Or
puLHv7tAj/EncS/TwKw5fD3Jj2PXryuVZIrlyq5F8N2QhwOVntAqRHWz9O3jnux001RraI9rzjEr
FJXmnJcpNlOQy+TkLpWbQXcHmWyvRNWqcO0a7NsHbfS/5uql0QBefb3wfrmappU9OTJVPI63/fqR
O4t16g9z4f3gAfv+FB9qLRxVnL7SS2SJTICCBcHIdawibODHZs1Y0r8fEm8fjkydQtPKlZXbLSHF
LG0/Y/sOft60icvz51Ft+Aidvtc3XOeP7qLyU9rmKvsmTaJ1dcNq6JCQEC5cuEBERASurq6ULFmS
Ro0amT2ftEDi7UP98uWVwRzGMOzaSBZUCVAuK8g3QwERt58+pcKgwXSoU4dtY8fobP8S8aWRA65D
XTWM9h/v01Ml8Anh5l0MEM9Tw9INlWW5Xxq0X0ft5QMhB2i9uLVVr7Ul7xGhj0D88nglSWgpHj4P
J/D6fS7e1n3d70UGsryf1Oowh/REen1uXr79SOEJuRhQaj35c7lgm/8msw/N/mLCJnLkzMWanYfT
dcxubRqwZOthiuTLSbMa5Ux3yMSXiMzSVzX8pw/u/wmCIBAXdwxHRzOSU81AfHwiWbI01X3CpjB5
B1UgRHogeAn8rfb0Lz1CHdSJHLemYgmj+rZU0mXRoqEMGfKt3iG0ibqoe+fJXUlKXPwhbFK32Qn1
SUotw84hqc9L2WkM3ZLJZHWUCidADGxIjlMtGwqF0CbpUn3IzIYlpJQ+QtBCX7z+/fuzcuVK8+en
hW3bttGxY0fjjdTnNCJFJDgtghxeXzGvBBZgY1V4c0153KHHQvmz359EhGpe9NQZW4fG0xojsU0f
A+Q0I0AAwQZGqAp5xo8fz6xZmiVjBfLnp33r1rRo0oQKZcvqHerJs2ccPXmSv44e5cr16xrb6tWr
x+nTltkRqN+Eq8N3vS+Vu1W2aCwAAgRSkm2ZNu5nwHRog4IQyl02N4NuW0DgLMoGSdHw3RkoVJcZ
WWeQFCuSoHLk+Mv99XYzh6ybPTAXY5e9U87PvZE73Y+bUOTqgSJwAlSEl1SQMvjOYJaUWaKx3tQ8
zSULFWqnro0a0S28ImdnnkXa5iqT96uI6WtF3uH5NJfGlZi2d59if37Jfgg2hq/ZpjlMIyUxxSyy
Tl/Srl7cuQNly0LXrrDB/N+3j08+ssBN9d19sMJThBY5Of/LHACShwzBVpIx3wm5N2zg7XtR4fzm
+S2cs+fDKZtaUrIgwJs3kEf3JlTi7cO+ST/jPXWaUhEYumY17nnzKrdnJFGnXn4LhpVyEm8ful4o
hUe4My5uLgwLG6ZR6qdA6RIl8KpcGZfs2fkYGcnDsDCCrug+7Fu2bBkDBhhW9FgKibcPSX/s0fFH
0gdtbzqJtw8hixdRwc1Np23/pctYdfjwF6sg1MbFixc5ceIEoaGhrDq2iq51ulKwYEE8PDzw8vLC
y8vrs8zr7qu7RCdE4+Wm2n++XHm5uC7os8zn6p2rtB0jqqKEPgL3p9+nRN4Sn2UuxhAVH0X2n7Ib
Jeos8ajTxuagzbSq2IocTjlMN07dl2yVzDJLEAPjqM9315Vd9PqtF2/nvycw5D4HAkOIS0jS6JM/
lwt1K5egdsUS2NtlbMFdepLc6mPN23KEkcebM6j0pjSlzKYVEomE7ccuZsjY331di+RkY4XrmfjC
kUnUqeE/fXD/rxgxYgTz589n5sx+jBtnnux35sxNTJiwit9//53O2k9z4yNgaaphfuNFUMV8Ob1J
xLyCFWqBEB6toe1+w+3NwY4m8OS4+Heu8tBDU9WkHRIAhkuDtIk6xbIg1GdlcycaHThEKdtGyOUn
QPYewaYdcvlJE+PJVfNQhzGyKa1qOkvba+9Le10JX/DZo1wMCwujWLFiyuXRgwczqLd1YRHJycn8
0K+f8uYqS5YsxMbG6ja8NAdOj9Wcp6Uwcm5Cj4VyaOghtdRQmDhrGra2ydwuektZivXvgBwCJEbP
0YMHD9iyZQu7d+8m2ECZrIeHB61bt6ZDhw7UrVvXohmE3wpnpddKUhI01aKuHq4GUzzNxcfHH1ng
LpIkReoUodfgtaJHph71W1JMEjOcRcVLy0UtqfFTDZ3xzMWhoYdoUbQly34ZRPjrPOSrnI/+wf2N
9jFF1vl3Fxg9J5q5+ecaVQEaQ8LHBGbl0CTp/ujxB9fXX6f6wOpcWnaJCdETsMuq38vvwY3DbJrb
Av/1cm5tv8XOTjsZfGcwuUqbn6pZ3Lcnj2QiedT1Qkk8wrMpt01rdY2fD4gp1nuqhNH2mjvSNmJI
hZ2NDVcXLlCq7kyRcFJBSpZcWRjz1rTKaFHxRUpiXWdcxY1fOlzzqZOCb/IlsPSV+H670aULFXPn
NtTNKuRavZp3MWLIxbmDc3n99AZt++pJ4z53DurU0Tm+VxER5HFxwc63rY5fHVhOvB0PCaFxJROp
zqnovmABey8EYWdjw7uoKKMk3YpBA+nbvDnZ7LIRnSyWYm/79VdqWkn8dO3fnzMXLgC6CduW4Mi1
a7SY7G+ZivCf2UwoOxaJt4/BMBaJtw8lCxbk7orlVs8to3D27FnqGfA/q1SuHF9Vr45b0aJkd3Ym
MSmJ1+HhPH76lFt37nDj9m2dPlmzZuXatWuULGnY6y2tKDKmCE/naKZZx8bGEn7sdYbt0xhGbxzL
9h3bARWRcvvFbcoV/LKuK4Q+AjelNylfUJUkXXxCcR7OeKhcbresHXuuideDGa2qs6a9PkTFRxGT
EEN+l/zKdcO2DePQzUPcmXrHZP9rd59wNuQ+dx/rCgoaVi1NnUolKZDbJU1zzCiyTrF8ceJFrlyL
Uab0Nqxamm8bW+CpbSUCAgJwq9LAdMM0wDbyGb6+vhm6j0xkGDKJOjX8pw8uE2lAUiwsSk0KqtQX
mlmvjtILuQzmqRnsuniIqY5pwdF+YhmcAvpIiQABvEZAwwC1lZYRdTFJJ/DvMZI5mxYgCPU5HX+a
eg4gSFoglx0yOkV39y6EhT22jHgz0fbcuXO0a9eW16/f4OFRCFfXbNy+/Yi4uAT69P6RFaV/RTLK
SjVdj1uiunGZ1s1l6hyCgoKoVasWkHEeaLfu3KHVd98B8OLFCwoUUCN21eerJ7XXGK6susLR0UcZ
5zce6Sh/5foCXgWoO7auYSLuyjw4OVJMznUw7ynwFwPF+Uqr36MJRL2IYmOzjRokJ4DETkL3490p
WlfXN8ZSyFPkTLEVSw6NKucCBMhVji27fuben/eAtIcL6AuymPz2W1FtXKqDWIZrBMbIupl5/UgI
lxhU5ZlC/Id4ZrvOplCNQvQOUpHlCp82c9Vx/t0FvHutZn/D52a118avtX/l2flnTJZPZqKtH2vq
3SU8m1gW7OrsTOtjBfAIz8YfVR7je81NSdQpoFDh7fJ6RC+/dgzz9ja4L0s86EKPhrLxa9FqYPKQ
97BoEYwdC7PSN5QgJSGFaY7TlMsVf6hIu03tyOboSFR/42SuuWh24wZH/xY9VReMdMe3z3qNkmW9
EAQdsk5dzZYWou7v69dpUtl8Jay6ms7JwYHoHbqfG4m3D1vHjKZmkSK4u7unW7KlAsnJyZRIDXyy
9HrfGr+8vHsL8fbXaszv05uhWuXUqw4fpv/SZUpS8ktC9uzZiYqKAqBQgQIEHjyYbmO/fP2apm3b
EpP6QG7SpElMmTLFRC/LYIj0+Fzlr6/OviCbe3bKDayIwwAHEpYn4L3Em32D932W+eiDXC5H0lei
97y1WtSKA0NUYUFpUdUN2DSA5V0sI6TTg8TSN4bPUh/eRL7h/HjTXqmm8DE6jsCQ+xw8d0PnZtuj
UB7qVCqh9OHTh6SUJHIMyUHM0hiDbSyB9vG+/PiS+nPqc3/6feW6k1fvsPO4eG2TP5cLP/dsrTNO
WrHz+OV0H1MfPgXpmIkMQSZRp4b/9MFlwkIscICURMhVTiRoMgKLsookoAJqhEGzZk0ZO7YVTZsa
/3J99eo9BQu2RaYwj12eH2JTn4oaIxUDBMhZFnpqPtFt3LgRx49bflE4wqMh88PskMt00w/14dSp
YBo0GCwqm9RhjDSZZyOSmmpt/fz8GDmyNi4ulkeuFyjQlufP32iW3yqQkgALtBLqjJS9CoKA3+jR
9Prh05m1zl64kOXr1hlUJZ6MOkHQoiDiIzT90WwcbKjWrxpfB3ytpyRVDguyiOXEliBAgOyFoc9T
022/KMhV78E+jyG79aRZ1IsoVlZdScxrzQtJ5wLOdDvazaqkVGNYW3ctTwOf6pRKGsLtHbfZ0VEM
2JgQMwG75akqWiuJSoXXWdejXdnccjOyZJlhgsgEKaqPrJMKUnqd7cWvq4pa5WcXUCCA6FfROOZw
pHdQb3KVyqUcVx3mklr+3QWE099CWAWLibqZ2WeSGJWoQQ6q71+RYHu56FuOVHxOkqCptBzVti30
f0DWRDsdEg/E8tr1w4cpl6WCFL8UPwSJiWu8ggXh5Uuk+AMwKWlShpep/5RtPLmjVd+tfjI/Wpcs
yYHW1t0Etbl/n/1qidFW+R+qEXbpRdRZ2vbI1Cl8PclPuW91OH3bgfjERGT79iIIAoULFuTsX3/p
jOPuKaamPggOxlYWTdV6TcjjUYXDG1fg7umJxNaBoAtB5LEFkOPuWcXgQyV3T0+zyLqI6Ghyff+D
RQRdkZ69cMyZxI05q3G0Ub0Xjl2/zteT/Hi0ZjVuqeXGXwq2bt1K586dEQSBR9eufdJ9K17X+/fv
U6JE2ktCDRE7I5oMY+jQdPBXtgDJ5WUUL14cgJaDWjDaaQSNf/n6i/P0MzYffQotlywu7Oi/g2bl
mlm8L9t+tiSvtKxcMT3OV80ZNQmaoFn+nCJLofPqzmzvZ/yBW3rjyev3BF6/rwyFUEeF4oWoU6kk
FYsXStM+cgzJwYdFHzTW5R6em/ZV27Oyq/57p8SkZKb/doB3H6ORSATGd2tltVqwSvWvmDh7sfFG
8g90aGr8PbTj70sm93Vqz3oWLzaxr0x8ichMfc1EJgBIjoeFqW5q+bzEctCMwv6OcG+HallN/VSl
SmmuXVvD0aPm3Qjmz58TmewUcIaxY1cwPfdrbCWYd/PdU7fs4vjxE1Sr5sXly3q84YxgXuhJ5pnZ
1t9/Hf49v9ck6eyzwU+RhjtdXahB0h0qf5AmSSeYMsXyiyAFXr7cAwRqluAqoE3SGXk/CIJg8GZH
Hn2BYvX9CLsqpqSO+aYqhQPOM69zTcKCgynm6cnDY3Mo7vM7oYf7M/hUUZa2Kqjs7+7paXDssUOH
UqhAAQRBwB9/2v9QkQpVbii3N/RvSEP/hoZPgP6jAceckBgJ9hYkTylITEtLiz87BNXc4yNgtRt4
74aShr3cAF5eecm6ButIiknS2Wa1p5wZUFevmUuqTLWfiixJ/OxoEEyK12lDZQgPEX0r3ZrqGUET
CqLJo6kHXY92NU+VptjXvR3i95+W0s5/vVxJsCjSaCfETMDOyY7ywSb8GfUg6mUU0a+iqT26Nh/C
PihJutBjocq5SgUpfjLTBKcCXtm2crVGb/weWn7DkhilSgivO74uZ2eeRRAE5HI519dfx8bRhpT4
FKo9zs3+sMV6VXGDh47naPnn2kMDsPHECTaeUJmvF++SB2ym6H9NrlyBatVE5dwLMelxMuAv+DPV
biqNpI2o71ff4mM0F4ujZiLx9qHh3YI0uJefKZIp1KArN2u1x/OHyiSbkc647vZtdtvZsf/AAdTN
IawNKUEuh5o1IT6e1t924M9Llzh9K4Me0Gkhb1cx2bpIahmwNuGlIA5XDBzAqlWrkEgkekk6AJui
3Xm4T0xCdq9aj7BgTUIp9HKQ8jfF3dN4mez5Q4eU71FDcGzXnsTkZIsIyeL58/N03Vry7i2kJOkU
oSuyfXu/SP85hQeYMVJTBRvCgq+onWdPHh2dSIkfn/Fw33Aqf1WdwmVrcGBVH9yr9VD2ehh4gNJ1
W/Hgmu4+FPt1L1mSFStW0K+fbvptWhAy7xpxr2KZ9/cCapSvzo6Zn4aUqdC5ElExUcrlQ4mHObj0
EEFjArngevaTzCGj8GHRB6vJsxSZngA1EzA3JdUYLofpqrtsJDbcfH6Tbr92Y8OP6eTDbQaK5stJ
0a9r0vlrTbuLlgtb0rniz1QsXoiUFBnHr9wh8Pp93n6M1mjnkjULdSqXoGXtSgaZDn2v0dv5bwHD
xKe9nS3SPj4a63Yev8zJq3cBMWW2YdUyZh2jSZIuHVGjuX7v8Uz8t5CpqMvEfwtXF8KJVBWCGSVa
acbvteCllllv6g1sTEwMWbPqKiWsQZYszYiLM6KIMoNMuXPnDvfv/0GbNnXSZU4K2Nk1Jum3KvBK
7QnQV5Ohtr/hTtHPYWVh5WI2/6xERaVfqQnAyZPXaNhQzRvMUImt1vrqK3PSqctQOvho/nArMK5R
VdzWXmZAMRWh4u7pSci1YLILADLcPasSFhzMuEZVmXVC8z1gjKhTb2PQ689a0sxawk2hRNXwPfyX
YLGLSFAqiLtUT7fwW+Esq7BMp7lgI/Ddnu8o1aZUhk5LoZwDGPF8BNkKZjPRQ4SCQPPq60XrlWao
leQpMM8WijSCjsd1NitSUku1LkXn/Z15c/MNyysup+36tlTqZp4PlwZ2NoPHxzTeZ4ZIv9X+Nejj
b57Z8rPzz/i19q+MDh9NQMEAJiVO0hi/UpdKhGwK0bsfY5AKUugyFbkkxWIySPu4DKrqgOyFshP5
PJIhD4fg6uFqdBx1bDp5kpG/riX840e9c9h78SJtXr8y6junGH/AjQHkrZCxiiYFAXW+yQQODVPZ
JOQpl4eBtwZy+fJl5s+fz+njx3FycqJlmzZMnTqVbNl03/8pyYlM/dHBOpJOG4KApI03Lk5OfIyN
tUpRd/jqNeqWK0tWR0eTbY0FSCjW+X33Hf7fdzb6UAiguPd8FVHn1ZawK3voWcOTJReDKZ9KJq3+
8yJNnf5EyNnO5O+LMVWduleeOceoneD64v07CvfoRdPKlTkyNX1LO9MTjx49wrd1a/b9/rvhRrJH
uNf4mbDLm1PP6TX6zJnK8jF+lKhSg0dHRlPix2cc9L5Iqd5bNLq6V/uBsMubAehZw5N1Fy34vbcS
HVd2VCqkgsYEUnN2HQ3dxp0dt8nikLHJzKBKelVAnRwR+ghKsq7mnPS9DrUUpgiwq0+uUrVoVY32
CpLbWuKswKgCvJz70qI+p++dptWiVkQtiTLd2ADyDM9D+PxwnfXl/crj5e7Fhl6fjqwzhGyDs/Fu
wTvsbc27xrz7+BVnQ+5z7e4TnW11KpVg6P7OvFkcqrNN6CMQuTiSbI7mXXMpcOPhc1buOQlAabf8
/NShiU6b2NhY/rqgK5YwFx2aiF6e9hWGs3nh92b1ad/IK83BI5n45MhU1GXi/wh/D4bgpeLfikTR
qp9A5q9Ontg5iwmJzVZBpT4AbN68mR9+0C25EwSFqkGCm42M0GQxVTVedhp7Seo2xzrI42Zq9IuL
O0qRIoV5+vSZ/rnkM204XaZMGcqUGQeIvm9S6XAOH55r+li1cOhQEFOm7OLcOdHjImlWsiZJZ8pL
TZ6iQdLF56xCVNRCvU1thfrIAJn8NCM8GjLswUmKSsDWYwnJoYMBlc+eNho2rEJ4+H7y5GljEdkV
KeQmdy7DpvKzTlzB3bMK3S9f4edB09kTtJtHqUo68Wl7VeVT97DgaxSr3oJ7Z7ZxIC47vq5W/qBK
bEGWWjYR9RSyFbF8jJFyUVVoaQmsQnn4ifzf0guyZBm7zqzh9o7bTEYQffpGXQWukidfOJPlSz7Z
XG5uucmu73cBUHdcXXqd7WV239mus4n/EI9zfmfLvecEG9XrpSj9dmuKtIMYlPHTvZ/IWVIM0jHX
280o1JKnk39vie3LQ0yWi8o6UeOlwnM9T/r1QSqRglyc18JiC3VIOoCQzZaTdAo47JtGvO94q5Rb
2QuZp1CNfB5J7jK5WVR8kc4cC1QtwMurL/Uq7ro0bEiXhg1VK65c4WG1TmyiK4M+DqfCoMG8+fgR
vFUPFQ76+9O8ahXl8mT5ZN7ff8/iUouVyxkF2b69/Pb33zi0a85kuVh+dG7uOY6OPqp8rUpRik2y
TUZvLvy7C0xam5g+JB2AXM7k0mUY9igU1xYtrRqipb95gQoSbx8it28zStJpj5OQkICDg/6U85Qn
63H3XM+xq8H4uL/RUnqh9ltjvYeqrY8vMrnc5PEV7tGTF+/fa6jk4hMTcfq2A7l/vMwbn+dfpHpO
Gx4eHhadr3oOAn9MacZqv2OU7LWevuvPAWK4QKneW5DFv8WjVlMeBgdjY3wovQgLDjapdDSGFadW
sL3fdoLGBFJpZBW9JFiZDuWY89NsOjXiRFE7AAAgAElEQVSzXM1sDpJTkineVjcsw9nBWfl3q0qt
qPmTOLe3V97wcNt9KgypTNbCzjr9MhKSvhIcbPV/3hSoWrQqU/+cyqTW4u9NqXyleB/znlHNR1H/
l/qcHm1ZAjxAZJyRChMDqF+qPkeGH+H60+tULmKdqn9cy3F619+acosUWcoXUZIctSSKpvOaMr/T
fCoWqmiyfWm3/JR2yw9t9G/v/HWoxnEF3QolMOQBg0pvYvySfSy924VBpTfh5GhPnUolqFO5JLld
DL8PKxYvxJJRujY4w+ZvITlFrG74zb8/v+07odPGHAz/WhW4Yy5JB2Bra0tKiuVqzUz8e5BJ1GXi
34dleSEu9enQkGho8uluuA0mhg7+AA4qTwMfH8PeVQpSyd22PpCEDJQkna29I+ExM/X2e/p0i+7K
xan77GKZeWnt2rU5fFilBJTJZIwcOZI9e3bx+LHKk0wikdCkSWMGD/4J71Sz8xYt6tGixSixgTVq
r3maXztZe18nxYB3dgoS3m21Pj0pTx7LwxDu3r1rQuWg2jZvpR/zEEvtFOu0/390SVSW+KYKMUzd
IFy5fl21ECOWsTE8SXWuVxW1nixzdIXEKLEs2VKol8L+cBHy6yb5fS5EvYhiccnFJMXqlq169fWC
kXImS+xEslO7ZLPZStH7MZ3x5OwT1tUTkz1br2xtEUGibtSvULulGTYOylARvwVzEJJjwW0Eu77f
xc0tN6k9qjbNftFfdv7w4UPWr1/P6dOnuXz5MjGpKZw5c+akRYsWtGvXjvbt2yvbz3CeQVJMLSbL
D8Kjg/hXgr9HCTSZq3rf+v8m49Lx5VRvPMDglA8NO6Qk6QwFKii25auUz5qzwriP44Bx+HcXWD+r
Md3H6SoPDaFyD9M3Tk65nIh9F8ugfwbpqO4A+l7pq1yfHJ+MraOey7Js2SA6GuRyissfkK/yCtYV
X8mrcE0lRDM/P1r6+yuXq5UowcV5AeQsmROftT7s7bXXomAKa9CjSROI/IjE24f43buoPao2tUfV
BlSk6xSJSm017sM4HFxUN81Wl7qawK1ePXENPIdsf8aZ2R9MTfI+dVNMYv+mmuoBmoKkS9yzW6OP
XC43+nujvn7hrkAW6tmm3saUmm7gwIHKZYUX3fHp02lYsYLBfm69fuTp27caJJwiGCJq+zYS/tjF
nSjTSZJfChzNUEWqY/3e0Xi0mIOvHyRdnc+ESt2Rp16Cxvw1jPITTgLokHTXF/lyItG0iv77vn3p
2NF6Am3M5tF8daG6UZVa0JhAxiwey62tN3B2Sl9i7O7je3z9k64KM0WWoqEEG9tClWKf2ysvub3y
cn/TXd6HvKVY++LkrZlfZ4z0RmJyInK5nPjlph9Y+u31UxJ1tYvXZl3PdVSWVibkWYhV+45ZGmMV
KfZV8a/SRKaN/HqkwSAPG4kNslUy6s2ux5mxmsFzSckpfIyJIzY+kbj4RGLjRbuH2ATx79j4BOW6
hKRkUmQqKxvFem04OWoq5pwc7JFIBBzt7RhbdxGe0kqcHnwHJwd7BIlAFns7cuVwxsnBXqevKaiX
Dtcs76ERbLGEH+i3sR91Kn6Dj6f4YOvtx2j+Cgzh4m3dAJbSbvmpW6kkVUprCjAWDFddm1UsYn34
2rNUri2rsUokPZiyYLXV+8zEvwOZpa+Z+PLx7paYNgggSGDEZ3h6sLkmvFIr01IvmxwpQ1fJqj9p
VV395W5bn9Dk09hoKcIMKcRE1FP9+fQkbG/0+RRO1pB02n1GJOOSIwcfP+r685we2omkX7bRxB7s
PNcxNGY9A++exMNMRZ1qn1reTOrzPDMOLs7W2Z6QkICjoyNHdu2iVKop8qfA4ePH6TdihOrJ+qEe
8M9mkahb4wEfUy8gWv0OZawkb9LqOaf+Gn6G996pKac4OfmkznqJnYSOOzpS2qe04c6xb2B5Pvjx
PuRQM/AOEKBoY+jwd5rmFhEawaLiiwBoMLmBxX6C6sqnMW/HkCVX+pQqKYigmkNq0mJhC+X6JcXn
8S40ismn46CemAo6f/58RowYodG/QL58dPT1paaXF5XLlydrVjHo5X1EBCcDAzl47BhHT57U6JMt
WzYiI7UUBAEClOsKLUWCyRgp8+tXv/LswjODJN36xusJOxGmXLaUfFJX6gHcvryLp/cCafbdL0gk
pnUxUkHKoNuDyF02t3IZVMTcsMfDWOCm8gVVHIfEVsKkpEkaY+3vu5+rq68iR65Kw+3YEXbsgAUL
QI8ZvFSQ0nJxS2oMrmFwjna+bZU3T3Y2NsTt2MlUu6nK+WQkzt+5Q50xY9k36WdaV9ck9V8Fv2Jl
FT3G3rX3MTnwiu76dIJS0bZ/H9y7ByVLmlX6euDyZRpVrIiTAdWb+vj6Sl4Vy3ldXHi1UbfMTJEu
nlHJ4gBfNW/Oh8hIYlOTR9tOn8HeoCCjxy7x9sE9b15C16zWWGcjkZD0xx7lurx7C/HGR7/X4pcK
UyXHnxLWlr6mxCVzeXIQtSLqGiVxgsYEapB4FUtW4M+A/QbbW4JKP3jyMUp/ab4l5NKzo094fvQp
VSZWx94l4yw2LCl9VJ//9svb6VitY5rSX7XHTEvfl28/EvoinIfP3vDk9XtevdP/Giiw9F5XBpXa
iJ2tDblzOJM/lwu5XZzJnSMbrtmcmHxwDCEvLnN32ucn3M09RykpMiKiY4mIjCE6NoGouHgiImP4
EBVLZGw87z5E8/ZDFCvv/0i/Umv1jpEoi2X1/b4MKr1JuS5fzuzKfwVy56BALheK5BMrD5KSUwgM
uc/Z6w90znnDqkauPY1gV//abL0vPmQ2J0RCG5npr/86ZKa+quE/fXD/aaiHM2SQ4sUs7GgCT9QU
FurEhFHCwzBRp4CbDRpEnWKbZ/8pXFve0MC4akRdgCCWMdoYv3nIEFhL0o1IEZNe1fqdPXuWunUz
8KNqjKgzkPiqgKI868GVK9jaWFPUYh527d/PyEnizbvGd/I8WzGh2LWkSFKnF0mm9t6NiIggIiIC
V1dXXF1dTXRU66/AgFfgZJ2ayRienH3CtnbbiA2P1dmWp1weBtwcYL03R4AA7l9D+8Oa6zdWgTfB
0PcpZCusv68W4t7HMSfXHMAC7zgtbGmzhXt/3gPExMz08hyZV3geUc+jqDO2Dk1naYZKqJe6RkZG
4uIiqnMb1a3LuiVpVymHhoXR2NcXgPLly3MzVWU0tZc9kyrIQGLL09YnKFLiK52+s7LPIiEqQRUQ
keyHYKN5TqSClOZzm3N41GEmRE/ALqudRfOTClIkdhKNUlqxRBezFF3a5GHQoiAODVX5stk42GBj
b6MMnfBL9iP071A2Nd+klyRTvh74g0QCZpSzSAWpMqDDFEr168+Dl6I/Us1HeWhxs0jGkHUSCaSS
g3K5HBsfX/5ZvozShfSn+cllcqbY6Pcz67C9A+U6lEu/qaUSZsGLFlLp0SNo0gRJ6zYmiTpzyDyJ
t6anqTZJZ2djQ4KWmk4bgiBga2vLg8uWKeSNQTpnDut+/50KFSpw48YN5ZwaVKjAiRnT9faRePtQ
smBB7q5YDsCVBw+pPmIER6ZOoWllTRXpm4Q32GBDLgfDdhFfKgRBIIujI/9cuPBZ9q8oY7bmPixo
TCA5yuakdM+yRokNbZJOgc2bN+NlXyVNvnU95vfihFrgjTasIaVuLQkh+kkUpXqUxbVcTqvnZmg+
WR2yEr0k2nRjVPN/E/UGJ3snnB2cSUxOZNXpVcz8aybP51pHTmcZmIW4ZXEAxCUkcfmfMC7eDuXR
i7d62+d2caZC8UI4Z0/B99cGZqkB9cGQV50CY3aOYW3gWmX4wudEepbj3nh+g+kHprO171aDbSR9
Jezsv5N2VdsZHSv8QxTPXkfw7E0EL95G8PB5uFI9aC1Rp/Cmg0yi7v8EmUSdGv7TB/efQXIcLHJW
JYB+LvJJHfPtVJ5gds4wRMvINUCAgeGQJbfe7nPnzmXUqJp6t1kLV9c2RER8UO3/cyjp5tmKHnMK
1JsFNcYabq+AYr4GiCZX1+xERBxIx4mmlhTN0yqb7XkHcqr9mJog6hRYt24dvXqpfMV2rV+PV2Xr
U0AXrFjBghUrlMspKSlIJHrSPtXP20i5+DlJijE6V22sXr2avn01ie6K5crR0deX5o0bkze36j38
MTKSy8HB7Dt4kL0HNcM9PD09uXZNLXEwQIBOp2Bb6jn+9gi4WZbYe2//PXZ23qk3adWjqQed9nTC
3jmDnq5/fCSqFA09CNjTBkL/hJbroVw3jU1K9VRuJ0aHj7Zq9zFvYpibT/SItIZoMgbF/PSROApi
0auvF00XNiVLliz4jx1Lj87pUF5rBIqbUplMhrSHRCTD5DIW9LVh2PJYsM2inHveCnkZcGMAG5ps
oNvf3XTGUi8hdXR1ZOx7M76D1BD3Lo45uefoJap+GZyXmKhwk2SdPpWfsUAJ9eV6E+vReFpjceX+
/eDtzdJ8U3n7OkXZzhx0796dDRvMNwJPSEjA3l78PH3jMYhDFUTPU2OkjcVo00Y8JjUY8mYD/arK
RcUXEREaYXAXFb6rQKvlrXDMYVkJo0JhuGzAAPq3TFWWCgIkJoKd4c+fKaJu0PIVLD94UKmmm9Oz
B6PatlUe96RO3yH9wfzPV/ny5bl9WzQlr12jBptXrjSbvJ+/fDkLV6rUiurX+BJvH6oWL87l+bp5
7p1mz2HXuXMk7/0DgBfv31O4R0+2jR1DhzqGSyr/bWq6DcdP0GOBSum69+ef8alVE7lcnuGknUwm
o1T16iSnpODs7ExUlOUBAUFjA3FrU4z8dVVJ8oZIDUMknfacnLI4cXfHP2bt393HwyxicV3gOl59
fMX4b8ZrrI9OiNbwrTOGoDGB2DjaUG1KLbPaG8OF0At8NfMri8if4KfBJKcksz9kP1Jv1fe4Oaq6
a3efsPf0NY3k0vy5XGjkVYZOGxvy7Bc9ftNmIOBIAGcfnGXPwD2mG2th5amV9GtgOl34S/CsS+95
RMVHUWtmLW5JjSd/p2WfO49b/oDlt641OfBCvPedd/QSRfTcBphCJlH3r0NmmEQm0o43b97w9OlT
pdLGw8PDfLWNObg4Wyw7BPEm+XOUs+rDEldI+KBa1keEBAhQb6ZBkg5g1KhRFC1ahCdPjKSKWYAV
K/ZqknSVTP/Ypju0Sa3hiSAxg1xQkEx31RJ4C2qqaCIiIilXriy3b69Kh4lC8+ajOHzwrO6GnCae
eHkN17u6Z8+e9OwpGunFx8fj6enJ3bt3rZ7fgAEDrDOOHhKtn1zUA8WNXcVy5cwu8XHJnp0m9evT
pH59Fs7U9Eo8duqUcsxZs2Yxdqxck0j8q4tYWqrnMxMRGsGebnuUSafqkNhKaL2ytegl9ynhUkw1
96P9dOfdVo1sWOCAdPgEAGwdbdOkRIp+GU1AwQAAJiVNQmJrxZWZAShIoYlxE/V7nQFzcs2h55me
POEJWbJk0fvekIfvoMSPz3i4bzjuVWpSxy6BUeeCqWILP9TwJDDVfiYsOBjflnX4p8zP3J0vmvTX
9apCrsF72NvTXWPMsOBg4hMSkEgkvHh0hRn9sjFhZRQfEoHoF/BrCaSj/JXqv6eBT3l7x/CTfddi
rkQ8irCYpAOYk3uOwW0uuYoyeskbti/pQMfBOyweWx9ylcjFuwfvAMhbMS9npp+h8fQmKuWcXM4g
VK+fKR85xeewb/fuZn+24+LjlYEFbm5uhIWFKfd35s4rJDdFUunuiuWULFjQ4DhGIQh6E2gVBJY2
4WWo9HnIwyEay1MkUzS+L29uvcnNrTf1TsGjqQcdd3XEIbvuw77QNatx6/UjIWEqDyJJG29ko0bB
0aNwWzexb29QELE7jb8P1Ek6QIOkq1OurEUkHUDIjRvY+balWokSDK1Vk2JVqpjulIohQ4bo/LY0
m+TH39ev6yUbJd4+ONjZEbdrJwB5u3TlbWQkKXv/MKkibH+u0xdP0nWfv4CNqaqv7E5OhK5erXNc
slQF6LVr13TCOgb37s2owYMt3m98QgIz589n/VZNFc/r16/Jm9fy9OVXZ1/weN8js9NSzSHpQPQh
jk9QKbSGDx/OAjUiUyKRMH78eKZNEz1Tzb1u6fVbL72Ex5xDc5jiY14icM05dZCnyAkaE6hcBujS
pQubN282awxtCGsEOnTowPbt20229SziietQV3JlzaVB1L1f+J6cQ0W131/nQvjr3A3ltgrFC/Ft
42pUKV1Ux89MgWe/PGPLxS10rmH5w7GRX49k1I5RFvcD6Negn1lElHy1HElfCbJVMqPtMhrpOY9s
jtn41utbs/ZZeHRhWlVqxcqueuwZ0hkKkg6wiqTLxH8fmUTd/zGePHlCqVIlmT27P0OHan6B5c0r
/gMHIBbQvSieOHE1M2ZsJC4uzrQ5b+xrWK5mFDvovXlKrE+Fm2vh8I+qZUNKpe2NReVHDf0pSup4
8uQpHTt2ZPv2n9I0tVy5fHj37r24ECDAV5PBQsPRNMOaUldFP0XbPzup1nc+p9P09m3xia69vT2J
idZ5hW3bdpznz7OJQRnac+5nxhPMhrpKA204Ojpy584n9vEorhZtVb473Fov/v17LfheUwGguIkP
vXpVv0rPSjRt0EBJCng2aMC4cePEi/YAAYbEQHwErCpMyi+2PLxTnC1rdZOrWixoQc2h6as0TTNG
yiFkVepxRINdVuWmqXZTkSXLgAkicfL8LGytBwfvKn3WzEXQwiAxHIH09wdTEC6mCE+pIKX78e4U
rVsUN8HNJMmjMEH/oYbmzeueyyJpB7Bn61jK+Cu2yNiyuB2DDXDYjg4OtGzalApezVgw7itO7Z2K
/3o5Fw4v4PAof5xyO9A0TzNAztq6a42WiEY8imDgzYE629OKvtLL+HcXyJajgME2pm5Wc5bMyfv7
75XLCpKOZs0YcOMYUvz1ElplfMtw5w/D3y358+fn9evX/HPhAlksNMTP4uiofL2nz5unTJmcV3ge
9e5D8wgPvjrVitL9xXAPJ0cHos24mdWAke8b2b69lBkwEIm3D+cGN+bMvulmh0b4yfyUf8e8jmFu
fsNp5aHHQpnlMktnfdF6RfnhLzG179w/Wud4YWpEgx6ise30GSZ93FycnJTnTZ2wAzgzS3cuxlCi
bz9CX73S2Ke1QQPP3r6jaK9e9G/ZgqNTNckRibcPQ9q01ijR7du8OW82bTR7/DPheh6GfUYkpaRQ
pv8AHr1+DUDr6tXZN+ln1g8fZlb/KlWq6Hy2J0yYoEPemQM7OzumTp2KfIueEDALETQmkIoj9Ke5
ghh0oN3eXEJPG/Pnz2f+/PkARNx6j2v59C0/XXpiqdlEHYBgI7BT/gdz586FX8R10yZMSJO/4LY9
ezQUqv369WOFWoWDOj7EfuBD7AcevXhLwO+aVhm/nfuNHrV78E3tSmbtt2/fvqxevZrx47sglfZC
n0XOmTMhLFy4gzNnbhMYeI4SJUrotJGvlpN1UFZilsbobDOF0JmhxCbG4mTvZLTd2/lvvwhl3e0p
t0lMTsTeNu2VFVJvqVnHpFA7ZvzxJyv/artM957IHGQmvv73kVn6+n+GDx8+UKlSGZ48SR+lgDra
tBnP0KH+NG2a6oWk7jNXY6zSrPyLwtubsF4tCnxEMghGvMisLDn19/cHnuDvbyDeVAvx8YnUrTuG
y5fVjLUDBOj7BLIVsXj/VuOfjfCXVumZNSRdwgdRrWjBGKGhoRQvXpwxY75n9uz+etvcufOELl2m
0abNd0yerHZTH3Ef1pYyPu+gGXB2ovE2nxPzJOJNo2JOMS8hayp5YKCEWBAEgo4eJV8ew6nDAHWq
enLmajDat9Wm0um04e7pyQQmYI/qImryXH+eRdancPbTX9b5NIXkOFjoxKyfx5MQ70DWvFkZ9drI
k+sDneHOVqjyEzReZLCZevqrNvGUmJjIoEGDWLNmjd6+bm5uTJw4kT59+ujdPs1xGikJKfiu96Vy
N+Ol2OqedO/evcPdzY2bgYF628rDd1Cs2XQkWcsTGriZH2p4aijqFH8DyD/uo4y/HXfnt8Tdsyr3
V7Tl23+66ijq1KEwT1coqqSCVCPoQipImTzXX+/7R7uU1FIoEnUb+P2PvfMOi+L82vA9SxErYO9i
NHYRxRa7RmNFjRG7Yuy9iyVKsQYVG1bsLUaIscZo9Be7BhXFApZYsMQu2Ok73x/DNrYvCyZ+3NeV
K+7MO2+ZLcw8c85zGtPEv4nu9Ysif/w8gdxORanXerzW/mM+xzg+87hJqa8zbWcgT5HWofAf9Bf8
GXN/DI4lHUmLvvUJgkCunDn1vmeWoHgfokKjCO0SqjGmY9fuvIuT/CHvrAmmdCEjPpQNGsAp48JN
kE8dRkcUJmb7TzjlzGm0vTHkyXJm2c/SEljylMhDzoI5eRL+RO+xk2InkaNPV00hLo1YZyztNW0B
CY25GYlI09WXJcfpwqZDR0RR1Ojr7cePOHXrjl+PHvh060rXgHmEnj5N9Lq1lDTyNyMtSfJk7GSf
9ln/qagoGk1WpVbO9erDJLXq0/91bq6P4vWNWKOi2+5Lu+lYXfIDTY9Il5aYq6/IW9V870FDAoc5
4odCTPu2bVsWzbZSar4Ops+Zw5aQEARBQC6Xc+nmA9btk0Q0UZRz4PFi7i3SLHLz4+8/MuXXKUbX
Ij0QMVDszAROnbrCkSMvUu8jUvu1UlEKQ4iiFNH2qcU6awtmZn0GBwokrkrEzkY7e0g9mrJ2pdKs
WzybkZO1K7vro1/zWrxLnYYl3nQAfuMGcy0i4wowZZEhZHnUqfFZL84c7OzsSEr603hDK1G58mAi
I7XTSDKKAwcOsGDBfI4ePQaAjY0N7du3Z8uWLcoKhRpcXAJH1Z6ymloMwYrCQ1RUFJGRkcTHx1Ou
XDnq1NETafToJOxolPmiR9qItBbB4KpbMNB5rL6iDZmxDlMiAE30p/tkBAqavm9GzqkpVexc3Ny4
HhFB8xpuHNm7hB/POFP5xAC8TyUCMkDOuDbVeeU2Fv8urhoijKE+lZF1aefX/y6s+wJGx4GteRFA
mUWoZyhRv0i/VT98/AHb68vh2Hj4shN4mBhRJMpVRVJ6XYBC7krBRb2QQ8eOHdmzR7pxrlKxIiHr
15Mju3Ez77Sehn74AaYLVf6CPwjgK9cUfvR9XpSpr7t7U7p2H+rJHivTXevboyHUKaJNRoeEM7ac
DUl/zTQo1CUmJlKudm0Ej/bSGvbVwN/jIm1yXOHAR1d899XgiHccX7tVo8tXtam0s6zyc+Uv+Csj
wUwtoqDzXGD83G1b2Ja49zEM8Dlrch+LSizi7SNVpdsyVbPT64q3lvgmiiIzZDN0ziH+dTwBzlIl
6p6/96Rsq7LExcUx5PvvmTFlilZ7Fzc3rodMoccfZdg1oiYubrWIvriLC/LiVLu4FrvaAyjr5sZt
Pe+14vurmJOudTWeMpWTkZK3j14/O1tbSE7W3p7Kh7fPmT+ykDKKzpqilC5eRL5gVbVVyFNUqUU5
8udg0len6H+qPMVjNa8L8pTIw9gHqdYH+/bB99/Dy5ckJidjb6tbkNIl0il0PnPW1W7GDA5cCOdd
yA5ymhkpqWtOoDm+XcdvEUWR5D27GbJ8BcGHDhG+eBHVv/jC4nEy25tuzJo1LN23X/n66ZbNFHTU
Fro/By7NuUDi6wSzBTdrinQALy+9IH918wRcSL9QpxDoPkVV3rQFPgz50elby5EjR2jePGN8trt2
9WPHjv8ZHN8URFE02ffy3xBZ9ynFOrlcxGawjOHlt2JjI8N/QAeccmtHJC5ZsoRiVa33/TMF2esH
dOpkuABGFv86soQ6NT7rxZmKra0tyclHde77MntjbseLlBixhAdBmj4oMqERIiifBimqkoriCcbX
bM3C8A808AnipL/uSI6vvhrG2bNXde5LL0lJSeTJk5u4uMMmtX/37iN58rRSCQoKzIkOG5sEmf0E
OVAGiJkrIMXcgA0VNbe12gCV+5p2vC5BMzOFuqQPUtEFdf5rQt2G8hBzy3CVYfWCJ81XILgNM3hh
O7V9LWIH7WVluyLUr+HG8YsRlE2NoHPR839ThLrFq1aRK39+Zk4eBj83gP53NOcM0DMMttX515zf
/YP3Ex4sPYWcFDtJtym9Yu7j5Zjzd3V2jtn8MHOa9KLbSSjWgOzZsxMfH0/bFi1YPn9+OmdvXrVA
faKSnZ0d9nZ2RJ3VFqIyEoUwpChq4Sv6KqutCpv98BV9ufHoEb9duMD+c+c5fu0ah13P0MzpJTMm
+in78fe4CEA2Ozu6NWxI10YNaVWjhtHxTRXqAOaPLMSHt8+1UjT19ZEs2DMbzShdXQUlFH3om0Pa
9oZEVcVnQbFfXairqSam6ju+TI0axCckYJsqRhk7P+qilFIM+uorMPA5mtXfgQ4D1lP1K810+IwW
69QRRZE5OeaQHK8pJj7I+56SMZp/L5Rr1+O5B1Bm4CBlimVazFmPtc6B26jRXImO1uhHkc66avgw
7L/tRCEnJx5uWJ+ucQAmXZlKgOucdPdjiCrDRxD1UPI0zZ09O2926K/Y+DlhqdhmbZEO4MWF5xSo
aZ6fnjEBxOh+QaC2uzsh69bp3K/4LUs8MR0azeT7VM/U6IgIqvxwjKtjXij9VQGOz+nA2F/uc/5i
BDM83Hn8/a+s6VTK4Bq8/fwI2b0bURTpu6Evm85s0ivUOeVwInaJqvCNg0M24uOPGOzfGEknlmLT
aJRWxoMmDZVzsETAMve4z02se5/wno7LO3JknPZ7JRdF/NbsIebtBxxzZmfW0E4IQAnvEtycddNg
2rAlBSXSQ1Yhif8kWcUkslAxd+5cvSIdwO14USnEJZ1YylcbRMI37kQUTyAXTyjFOZ+qTdkUe4Km
W0cjBxaGf0BU7PfXHdZ99uwK8uXLq/JXsxI//+xHt25fmyzSAeTOnSN1nSexmSiQcmER1Bht2sGB
AtQc/wlEOkEac6x2RcyMGzNVGBxeuV0AACAASURBVFTHHHElUIBhaQzgL69U/ftbzWqAGUJakW7A
3Ywf09rE3NLeVriW5uuxSSox6YgRr64Px/jpQRLR7VS+W17BuqvbPdRRgdUQKzds4MKFC1Ja7uu7
UrSq4rs1XlSmlJKjoDRfHVVUM4OFxRfy7h+pyt74x+Npt7qd4QMUhSZ2NJaiWo18DxR+diXql9BK
R7bUkFwfCtFFEAR69erFli26faUMiS5JSUnkz5/f7HRnS7l2/TrtundHFEV2dNrBjV03lPOq32Yi
f/XNScPNeQCoULw4FYoXZ3zHjsrjj/ocBU4o16O+ogMXwtl+/ARt/PSnnbSvXRv/ulJaXO/DvU2a
syjKcanQRPdOxaVWuXLw999w+DC2YiKknvOitYry+PxjZXMHJwfiX8drdDHTbibTk6Zrde2T4sNM
+5mIKSILixj3zYy+cIDSdb7lXph2JUBj72+e3Ll5/fo1+VOrPyuERX1CokIIaug9SSUyGaiUqa9g
hKKvTrPnGE0vtQaCIPBD3A/KOR+uOIpT804pRbrs+bMT9zIOUH1v5rTpSIIese7es2c6U17NFelW
DR/GoJYtLVoTQMDOnUzZtJm5Xn2IWLpEWa11rlcfdkzypmvAPEoXLkTirl8tHiMtG+5tsqpQl5yS
gv23qqiQ5tWqcW35Mqv1/18gbNJpbBxszRbbjt44So719lYX6QDkiZ/G/0qfSKdA8XDiVsRMAG5c
CKHPL6oU95QHm3Bx20T0xcMszDcXG6QHBJsephDdqRRl3dxIRn/E3rxUoQ4guHcwv4T/orOduEZU
RtwBrFmzRq9I19yhEbPenaCulYq7z5kziKlTg02OiktL3Io4Ih9HUrloZZPaK9b6KcU6a84hV7Zc
vP6oKhy4ZMdh/n74HKdcOZg55FtmDOqodczDeQ8JPhHMmJ/H8HHFR639C3/6g9x2cpzz6S80aE26
NK+tLISTxedLVo2Rz5xdu7Ya3C+KJwiaMAVBaAZAtqqerG9jx4p/NL/8UmQdZv8obNs21az2hnj8
+DFwkm7dvk5XPyny4zwpYviJmpJfWkhiWWP95tVW51WkJBAUb5zJIp1AukS6pbmh90XInsbTRF1E
+sKIOJJedEXJOZbW3ra6mPY2G3tIem/9OZnLwlRBOO2573nO4GENSsPhY8d078zZROOi9PTFCLYN
qqvcpv7/EjntVEKQY3uD0XRx8fEkJCRQpUoV1ZyPjoF3atVdbbNL2+0lEYZKvU2uXJtellVYphQd
xj0aJwk8oi+5iuQyfjBI824p+csRKMBL7Qjhg6MP4i/449LEBV/Rl36n+in3CYLAygULtEQ68UUo
Lm5uuKTeMCj+/THNPoBuX7vj4uaGrlum6IgItm7V/RuvEBvyV9B/0fjy5UsOHz6sGj8uTv+5sJBh
Eyfi4uamFOn8Zf4aIh1A0skmyItf4tiRcXr7OTFTEulk9jKtz0+bmu5sGjsG+d49ev+b3q0bu1vs
AKDs0rHKKqSK/7oGzCMlzd8372UviL5xjDmDtD8vvqIfDB4Mt25JfxwV3qypqIt0AIkfEjVe9/y9
Z2qhEm0EmYCY6mv37uk7Dh48yK07d3S2jY6IANuiSpEuOuI8yFTRdMZE2Ng3b5QinWptqqg/fXM8
OS9AeW5lHu2Rte9Ani6qgkFvYh4aFOkU/PrDVOZ69UHWvgNTNplXoMUSGlSqBMDXAV9LoqTHRTxD
PJUiHUCNAVJk5tQDblLhj1RfwWN+xwBJYGvt7q4l0hmrDqugx/wFyNp3IGb7T+kS6WTtO3DgwgXk
e/fQvJobsvYdKOjoSJVSpZiyaTOe9esj37vHqr5trU94pDvlNfz2HY3v3qyQEI3v6h8zTS828F9H
lEtVTesE1Kemv/mFlhYEzcsQkQ4g8W2i8UZqTNo5yaiI0qWmZYVR1ImOiODWUrUCW7blODVLdZ1i
UzK1GrasAHsGV1Ju71FMxsjfn+q1AdCFva29yblZSUnXDe7/yr6RFNyQFMmjOPWHeY1T/99Iue2e
HNo7NuamHq106lTpYZM8WK4hFpqKg50DVXyrmHVMWmHyUyCuERnzs2nFYQxx+spt6jqMRRgo8OBZ
DKO7tmDZhJ7MGvKtwXCnQY0G8XHFR43zMHLBNiYsDWFcj29IepF5gQFZIt3/D7JSXz9zpk2bxqxZ
+i8EJw32ZeGW83z8eABOLOXrS124sy6Qf67Mx05oJNWksf0CMWkjHep252Wx+pzeOQLinmCTqxdx
Kf/DUC2ePHna8Pbtu3Sv4+bNm5Qv/1xru4OsEVFJJ6ho14gbSSf4wrYJovg7gtAaUTxMK4ev+SX+
BPpvyxvqH/TRCTg8BL7PLK89MTWiDeh9CQqaX2nMIhbaSB5b6jT80byqvPr8+9S9u3IWgSGPtdtY
g5Bm8FBH5Kg+oVGXUPSVL4gpUH+mdedmLoGCJC7qigQU5SDItNunUmRBYZ4+fZopEVIV6tQhPiFB
O/1SMZ8mgeCuQ3hR7O96wureiwdHHyRsaRgA4/4ZR+6iua3WNwttwCMU9n4HA+/h7yhV3vX60wuX
pi5azVesWMGq5cvZ99NPWvsUxRpAJaSs7FOHB4OPMqfcb2r7zuHiVhuAexERei8glT6BqShEuoJV
CzL0ylCTl3ju3DkNr8xiRYqwdfVqSpcsadLxW0NCmDZHM9Im7bzSRmmtcltFfe/6VO1RFT8vgQlL
n5LLUbNwwZkFZzg8UYqg1jjeBN/Qa9eu8ezZM5ycnNheczu5yW0w7TX40CEmrt/Au1TR0p5k+jme
xDG8BHOvR3F31Sa2DLlnUtoqQMeNHSlQqQBraq8BoHC1wgyOGKxs22h6I5rOaKrVz6tbr1hWXooq
EhHxx5/l8+fTtkULg+s1Bxc3N27dusWXX35pcC1tl7Wl5nA9KTZqEWfxiYnk6OwJwHf16hE62bzK
7pmVCqsewacrms9f5q/z6tHXdhY5OnQkPlFbwDB1zrL2HejdtKnJlUjTovCYm+vVhz7NmlHMqy8+
3btxJuo6Ry5fzvBzNyx8JCvcg0xur+4tZ2djw83Vq3ApaF465edI4ptELs0+T52A+mYmQkmIcpFz
U85QN6ZBhkU53f7pFmV7lDPeMBVTop3C74fjXkp/ZXJBEFg8Zw4d27QxeVxrcy48nC79+yOKIt2C
u7Hj/A6T0nk7dWrMr7/O0tlGI6JOjCUmPg/5cjRNzUz6GlH8H4LQCFE8QdKJpbQ+Xo/jvuNIkJ8w
EFEj3b+8fP8SpxxO2FqQ9ZNrRC7eLzPvAfWnjqy79/IefTf05fjE4yYf47tmD6/evKd2pdL0aaNZ
JdmS9dy8/5SgkCNsfTiC10tfa+yztbXj5z8y1lLE8+taJlmfZPGvJMujTo3PenGmki2bPQkJ/zPa
LilVqDsxurBVxvXwmMK+fcarwJnCuHFdWbhQd+qYIDRClr8eKS9+xMe9BTMvJijTeds6NGKHAaHu
9euqODk5ae9QVA3NLE+tM35wNvUGL9N8vNSEQXXMHX9fF/DYgc7fnszwpjsXACcna2/P5gQjYrW3
x8fC8rza2wfcldIcBz2w/hxNRemLpudcbautO7JOR2EJgJthYWTLZl1TY0Wkl4+PD/7+OlINPzyF
nIUNiyjyZMljr56fVH239hTp3xZwzO8Yx/2lC7YRN0eQr5z5VepMJuENLHNi59bOfNfrF4Of6WLF
ivHrxo0U1nFTqizWkOqjs3NyOwITvDizyBPxRSgRzp6pxRpEXNzcuT6vGV4vJxDSQ/dvs7pQt6XF
Fu4ekUReS6qiqnP58mXatWvHo0ePTGrft29fNmzYwIY5jbG1c6D3xEPKffpSKZdXXM7w68MBeP7o
Git+qKrXE877pTfZ86UpvrGtNhPXR7DgT93Rx19+8QUF8ufn3fv3PH76lFcxuq0Yjh07RuPGjTU3
RkZClSr49YHy1dtToOkMVnfYQJX7zkqPPAXNq1Vj1w9Tefh7NDs67dDYp8+nbnml5by8/tKg6Odc
2pnYe7FKrzpIv8m6KIqUrl4d4evmkEPy2ylbpAi3Vq/SajvLfhYpSSnkKpyL8U+0K+DyzTfwxx8A
3Ll2mC3zv8Fvk6jby84EWvv5cejipQwRnMaPH8+fEZdp3K2b3jb3rl5hb1AQQqvWXOu3QFkNV8Gx
ck/YcS6Awr1V6fuXvebwa2cpPc61lyvfbvlWq98l+/Yxds1ai9f18u1bCvbqzaCWLencoD7fTPfh
+dYtFOzVG/eyZTi/0HiKdHoxpYBErXHjCL8tRX/Wr1iRkwE/Zvi8/muEeZ+mcIMilGpvWTEPMUXk
/A9nqf1jvQwVTaJWXaXSkKomtc0xLAdPA5+SJ3uedI8rCAJ2dnb8fd6ySpjpoWqDBrx7/96kYhIK
FO9BUlISdnb6bQCsibNzW2JjVYWLLP0cVPWrylU/873EhYECb5a+scr7bQkdl3dkZseZVC2m+/OZ
lJzC2MWSr6V379aULKTjmj+VU7dP8eT1Ezxrehodd/OBM5yLuseyCT2V23Sd+5lL1lCxavW0h1uF
s8ePEOiv454ni/8KWR51WWiSkJBoUolwu0ajONHIYBOTKVasK//8Y73oqcDA4Xr3ZQPevZAuBmeE
/8FMQTs6QR/Tpk1j2bI0XihPz0uCSGYJZoECuA6S/p1ZY976Bfbp+KNk7vh/zYJ3D7DokbA1WGgr
RcEp/MTU0SXSgW6RDqQoNvWUzcxmc+oFh6cBUf2pngtXWwdITvW/CsqjushU8y+pVb06oRs2mD2t
ZWvXskDtO/Ly5Uvy5TMghuUsLAnAivdE12dKZittX2QL8hRJpDOjqvJRn6PKVMjhUcNp4tfEjBVZ
RmiXUKJCo8iRfx4TJ3tLcz08GK4E65z3hQsXKFasGPcuXdLZn8JH58jFCMYffATM5su+8dyar17Y
QuBI4DDab7vJ4fXGH6Ac9TlqNZEOoFq1ajx8aP534vupknDq5yVQ8c3P3NhzQ+d80op3BYtXQQQi
z4VQubZ2ipS6SNemTRt+//13APr36kV0xASz56lALpfTrGNHoh9IIn2EoyPV3ryRIsVEEb/UtXQf
s4dT96UHO2kFl79u3qT0gIG8fPsWXzSLWkzdvBldcvnwqOFaEXjqTHk7hbl55gLSuRJFkbCwMFzc
3JDJZNy9eFHvsbpYvWkTcxctArQLkTh27aZTXJuWOA1/wZ/3T99ri60yGaSm3/h5CYxb9FApsiqO
H7p8hbLflD27jXoq/e7nx5J9+5C170C7WrXYO32aWWvUhWvjxjTr1RsqVKRxhYoG25au6sroYCn6
Mfj1Ga5+fZKQFTuU0Y1NbhVhpdNi8ICCb7OzwG8oVZtUpqqo8npS/FaA9D1MT6Tgs9evKdLHC5kg
UKpgQYIPHaJ0YSni1ClnzkwpxKFgfjVN0S3ywQNcR45SfpYmffddpgiG/1Vio2K4tfF6ulNVz0+T
RLqMJumN6amvcUlxJos2+y7vw6Oah979oigya9YsXNzc8GjViqAfM17snTpzJj/t3MnIkSNZunSp
Wce2qdpGKdbs3Pmc777L2IjRy5dva4h0AO6l3HkX/47cDuZlEVz1u2qRyKdIgz0w+gCtq+i3R8ko
dg/fjWyQDHmwKhso9t1Hpq+WLCCWjuuhIaYZokHZBtI5qKn/HPzy5wWOXbzJsgk9tSLyxDUiJbxL
0KlGJ5Z0W8Lrdx95Kc9FUmIidvaGcs7M5+OH91ki3f8zsiLq/p8hk8mQy00PFzYXW9umJCcnG29o
Jt98U4c//tDtE+cgNOKdeALJo1VEEJoiiseAFIRU0U6/SJkm9fWvmXDaJ3MEs1VFpOgjQ4JGRqDP
H8zc8e8fhgO9YKjuynccGwfh0k1hhqS9qhfbSLsm18HQQjs6RHmcLjL7fVBHEWGmmIc+DM1PfV1D
HkvnXI09e/bQsaO2Qa4xhg8fri1mG0MxTzFFElONndNAATz/hNBmMPwVOGiLqavcVvHssvRZG3Rh
EEXci2i1yQgU1UkFmYBPio9qx091AQF6nJXmX7QedD+tcawgCGxdvZoGdcz3HjIVFzc3rt2/T8Kh
l+wbJBVrsYZIZw1+dPyRhHfx+Mr9tPbpi7B79fQWQZPKKwUfhZDl5uVGh40dyJ07N+/fv6dTu3Ys
nKU7zSi9lKlRgxS5XEPMUvit+Qv+OORxYNIb/WmdijmXbl6ae0fuUeC3Wrxoe579rg9od6WkMhqv
QaVKfB3goP3ZStNXr0O92NpyK46lHBkTLaVM3rx5kwoVKmi0renmRq3q1cmTJw+3797lj6NHefde
ldbUqlUrpbhpCL/t25mxXVVl882On1mYY57ytfJ9SxXqTPGi23HqFN3nSRWPH25YTzFDYn8q6U2F
LVSyJN2n6z6v5vLw0EF2JSbR4HZhvr5eFIBd1aP59pILACNvjSTvl9q/W7Wr9aftFSl1fPzj8ab7
YyKt385Gso5ISpHMqhzs7U32wrMmrU60o1PcSIYsX6HctmfaNDxq1zJwVBYKwrxPU75fJZwqOKe7
H3WhLyMj6s5NOUPtucYFQbvBdrxd9pbsdtmNtgXwXOVJ6BDTPsODBg1izRpJOLe2aNewbVse/iNF
iHp6ehISEqLVJuBgAJN3TjZ6jtO+DwcOzKdNm7pWm6uCQoW+49kzbRsgXXMwlWV/LmNEM/OLXYmi
iN0QO94te2fye29tHAbnYsCXqxEEgaDxPYwfYABd529iUChxCYkmiX7J8mTyjy7MSo/f6P6NdM1n
zSqwD+7dZlx//dHgWfxnyEp9VeOzXlx6UfgR7djhT5cupkehKVi27FdGjlzMkydPKFzYOumyhpC8
HKwXubV8+S6GD1d7+hsog9rekj9bRnLuRzg5RRIvttSAxLfQ/3bGjgmwOBuk6HhCaokwtaY0NAqA
8gaMgTMq7XVHI+0qnGnFN2Nily4+pVBnLOVVQdQWqRiDsX4AxiRIBTI+BVfWgOtA1WtTz2ugAIMe
QXBxDj74Xek31/zH5tSflDGG2frY8s0W7h6+S/4K+ZWpmTpZ7ACjP4BgA7s84O5+jbUWK1aMx48f
W903cIKPD7/s3UtycjKzbCXBSkRkhocqgm9W715M9TSezmFtbv9+m21ttjH1/VTsctqREPeWuUMc
NcQ3Q2Li5oDm3I36n1IYA5Spn7rOoyKV+GawK2VbT6W+XQITzkRQ3RZ61nbjdOrPXnREBB1b1+d6
hWncXNRamcZNtiZEhy3W6rdc7dokJiYqBbu7kf9jS5VTRoXQtFFyE55NYEEh1YMmH7mP8m+ZKIrM
kM3QSqUFaO3uzqrhw1hfYLlyW/u17anevzo7V/Xkq5ZjKVpaj3ecFakyfARRqZGVvvukaEFfwR+/
3qJRgU4XRb2+52mslIKcsOtXpRili23HjtN74UKuBC2lSinTikDlL1qUXv4ZU5Bg6d69IAiM/6Mq
uRKkhyu+oi+xd2NZWkaKxLHPZc8PTaUUuLQiY9CXQcTcjqGSZyU8Q7S/mw0nTeb09evU+rIs5/+W
rgtkgkDynt0Zsh59qHvL2drY0GVcXrY2XJupc/gcCPM+TfWpNbF3Sp8FRUp8ChdnnafWLE3xJyOF
urSioD7MnUN65rx7926+/VY7tdxctm/fTjcDKfCgmmfRCUV5vMDwg2aHYQ4kJCVorWvVqlWEhq7j
f/+zLNL07dsPODq2NsmPrOmCphwZdwQbmf7fU32k5z1xn+VO5D+RxK+MN97YCoxYsA2AqX3bUjS/
k1W/A0F/BtHd/Xv81uxhpOfXlC9l+r3tiAXbWDahJ/ZD7Nk1bBe///Faem1vz08Hz6RrXlkVXj8r
soQ6NT7rxWUkly5d4t69e7x8+ZLixYtTunRpKlY0nDKSGTx9uofChfV7DZjK0KGBrFypduEbKBiO
wrIWgQLUGAVNl0j//u4guFhe9c2scXVhiSiVkggnJ0GTRfrbKCKp0jOOLnQJWmnXVmcKNNA0tFey
zEnyGUuL2zD4evmnEeoU8y/ZzHDaq4InYVBET4TWhooQc0P1+lOIjgpibkDe1IgfEyPrDo4+iMvb
sVSokrqGUR/ALkcGT1QTeZKcmfYzDUY5aXEuAM76wejUypGBAmQvAMOkJ98RERFUry75lZw9eJAi
6XiwMX76dHbu24djLhljOslxebie+0cf4NrblW83q25gFu7ew4T167WO9+nWFb8e6XvybAh1YS0t
fl4CwmY/kyL+/LwEfDYkM9NmlkGRDlRCXcqj3URfPE7P2m4aQp3i3wDim71U8LNTCnXGBNTGHh4g
kxEdHW3y/MNXh7N/yH7VhjQFtfOWzcvIv0cqX+sTLsNv32HIiuW0W+SIv8dFpUgW3OceOwe0pG7D
7gbnkRHMDdhK4uQ7+OCHjUd75nr1sbiq6KmoKBpNngJAzPafcMqZU2c7hT8bgoDciGDlUrkyHceM
tWg+prJ00SLkUZEkfUxiTk7pb02rxa2oM7oOoihSrl4fev1VFoDy7cvTbY9uQUD9u6LwsAOwlclI
lsvxrF+fHZO8M3QtChQCIaDleWeKN10WmlwLusyHh++tUpE1OS6ZiLkXqDlDO0LrUwt1loz/qYsR
mErO4Tn5sPwD40PGE9gl0Gh7YaDA76N/p1WVVnrbbNiwgUmTvLGxgcaNXXFxKYKzcy6ePHnFqVPX
CA+/wVdf1eXPP4/i4OCgtx9Dc7Dk3C44tIAJLS2zj5h7YC6l8pWi59qeGfa+bjv0F2ev3qFJjQp0
bqZdjMS2ni3lXpfj+nXdlXdz585N//79WbRI/33Lu4/x5BmTg5TVKcjMDApRiHQKhgSuYvWNocrz
kZiYSJc+A+k1aKS+LnSyNTiIX3/agEymv6RIFv85soQ6NT7rxf1/pUSJwjx8aFnqR0qKnKFDtxEc
HCxtuBIs+UxltKCxpjS8jVaNk1mC0MnJkoigC0vHN2Xu5kS4mcIvLeD+EegZBoVrq7a/ioKNlTXb
WhJNNyJWKj6R2UKdJUVEFmeTouX0Ye1zbym/tIDOh1WvX16FE5Og0wGNZuqVWsc+HEue4qk+N4EC
OJcFBOh3K1OmrLhxnp40HZmtBRdGgQKMS5ai6xSv81WCvpHKJjY2Nsono9kdHJjn54dHK90X9rGv
X7NwxQq2qKXkjBgxgqAgqerirGyzSElMQezjR+XanngO107dUUddGFGnUokS7J0+jS/SGRntL/jj
0tQFrz+9dO6PPhbN5tXV6D7lZ750Ne5rY0o0Haiq6A5efZQpdZxNFuoUGBPsFMU6zBEa00bVeR33
YlPjTcrX6n2sclvFi8gXTE+abnJ/ocNeKKPcFLiXLcOqYcNxL1vG6Pwsxc9LoP9PpVmfLL3Hy5pF
8iqn9HtkaTXTiLv3qDFGOm5YmzYsGzJYZztjqbCt+g+gQl3rp5vp4sLmTZw6eVIZEanA3+Oihhff
7yN/59wyqQBQmZZl6HWwl0Y/XosWs+XoUQBy2tjzISUxw33nIh88oNrIUchTr/9HebRj8cCBettv
ub+N3qVM83vKIlXgsrCaqy7CfcNw99f9cC5LqMsYFh9ZzJjm0m/SmTtnKOZUjFL5DEf0mlJ4IqNJ
z7lNz7GlJpXi5qybZB+W3arrH7FgG065cjBriOoh5P79+/Hw0PQ47NO1Kz09PSlftqzOfl6/eUPo
nj3MTuOhuXPnTvK6VOKXP8NZNKYbdrY2Zp+HtCLd4XNRuBTJx5clCmn0teX3s9Qpk4/GTZsRtMXw
A6ch3dry8rkeW6Es/utkCXVqfNaL+/9OnTq1WbduBFWqlDbatm/fORQq5EpAgJpotdAWBBmMNd0w
12zCF8Kx8TDoIeQuLm3LLDFInyhV9CvobmEYtjkpjArKeYKHYQHBpL50jZt2jcNeQPb8hvvKVxFe
pXnqltkCqvp81Mc39ZjMFkotQdc8AwXosJv9820IDw4HYNyjceQupscAOTOqBgPB7sE8ufiEoVeH
UrBKOo2gFcJ4bTUPs0AB2v8CX2pGHr148YIhQ4bw66+/6uwqV65cTJs2jUmTNP3QgsoFEfO3lDqo
Lvisn9WAB3+fNisdMfLBA7oGzNMSfQB8unfDr7vxqC1FOt/gi4MpXF232KcQNHxFX16/jGbx+NJG
5+kv+FN93QPa91tnUkSd/cNNtJqzn+e+7UwS6lbsPkHLQg/4etgyoi/pr9anFOpkvrRZ0ZzaQxrq
bas+d4DKXSsTuSNSb+VX9faGBEB/wR+fFB9m2Eii0PCo4eSvqPlbd/3hI75fsphzt/7WnH/Bglxa
ugTHHJZHpx7b5cfxPTPx3ZgCgsCiYgt5+49kaO6T4kPMh/cU6KkSoSytRKoQ4yZ0+pZ5fftq7e8+
fwE7Tp7k5bZt5M2t8ntr2r0H1Zo1M3u8dBF5jcWLpZTptEKqrvfy4JiDhC2RHkrEzCxA0DlVVeTi
+fPxYP16/AV/yrYuS88D1hPGNv95lL6LVand5njLZUXTmc6FaX8hT5ZbtdCDMbHsUwp1+6/sp51r
O7P7/S8IdWnnuPDwQsa1GGf0GACZICMlOCVD56cPv71+jG4+Gucc5nshxnyI4V38O6OCpD4U5yy9
7+/hc1HsOXGJ/h4NqV6+pHK74iGnS4kSHNu3z+L+1WnRqRN/35UKcMnlcgRB4E3cG5b9uYwf2v5g
9PjJK37hx2Gdla+TklMI/OkQk/u0Uc17kA1tio1nn+88jWNHLNjGjH6tOXnyJDKZjEaNGuHo6GiV
dWXxryZLqFPjs15cFhZiiThiLmFz4dRUzTH+OQUHv4f+f+s/zhqsLwexesZIz5qNRXKpYw2BZUl2
qZLpuBRJUDU0Bkh+bOZEmqmjmOPVdVC1v/lztQTFfIY9l9IkzTnOXLFUsJEKb4zJHA8R5fip81RP
Bew6cB8VWhXUiqwz2hdAxV7QZovVpqi4uR51exTOZdJn8q1FoADf34C85VXbVhWFD08s+k7MzTOX
xHeqhwqdtnWiao+qetvv6fFJbAAAIABJREFUCu7D5dNb6D5mL+Wr66+wZ4jzf/9NnfG602Fm9OzJ
yK9asrjUYhpNb0TTGfp9TuNexbGgyAKmJ2pGjK2f1YBuY/aQI5d2YQGl8NHHn2JlajPQN4ybYWFk
y5Y+rydzcXFzQ2j2Nb5/SuKc2MePGbHtAWherRq9mjalTzPttesSbvwFf3IWyMmHFx90CnWNfRvr
rWD88slNlvVuR+f+u9jZYycAP3z8Advstjrb62LKps0E7NypsS2bnR2bx43Fs77uG/KkxI/MHeKI
z/okrX0fnn1gQWHJe0+wEfBJVqWKK9NVUzFXuAvYuZMpmzYDuiPo1KPrvhs/nhJGqrlmFPefP2dP
WJhGwY3pidOZaT8T0BbsFPO2S5Ex9YDkkVigUgGGRQ7TaBceHM7+wfvNju5VT2GtVKIEV5cFWezt
u/z2SoaXHWrRsf+fCPM+jb2jPdV/sF5hjfiXcVwPjqT6VMMelJ9SqLN07H+7UKdrfnXm1CFsapjR
Y0t4l8AxuyPX/K9l1PSMkp7zm7aSqqVjmzuH+MQkJiwNoXal0lpVVRW/X9b2+U3LuGnT+HX/fkRR
pOfanmzpvwWZrnsPYOzin5nUuzWF82kKa1t+P0vv1l9pbEuRy7nz6DnlZxbROCdpI/Gy+H9DllCn
xme9uCzM5PFZ2F4PhjyBnBlU/EIxRsMfNSNqghylG/ae5zJmXAWmiFGW9mvq8QttJU+y9IwbKIDM
znC0o7lRY6aem/tHoFRz43NMD4vtISVJe2xTMFZQQh31NRetJ1UZHnDHvPEsJKzjVxzcI6V0eoZ4
Usmzkua8zF13oACF3OFZOLRYDa6DLJ7bX4v/4tDYQzSa1oimM80vpGMyr+/AurK6IwuNCcvA3SN3
2dJCEibdB7nTdmVbZtjMMPvm3c9LILdTUcYvsU5kTMDOncR3lm5E0hZB2DhmjJZwZSha7PLpzezf
OIQf1nxUbouPjScgrxSZ6Cv64ucl8HXn2TRq/wPVKldmz7ZtVlmHMVzc3Bg/fjwld5ck9k4sIAl1
o5e/I/jQIaZv3UZyiu7IicqPnekcror27nygK7+02aF8nfZ8LK+4nJc3Xuo9T6umV+fZrI40ndGU
oz5H9fZjLskpKfRfGqRMv1TQvFo16j2YSdeRO6lYs5NqhyCA2nXjxxcfmV9wvsH5yEURu47fKg3R
8+fJw/Otpgnubz5+xLmbFNX5z6aNFHFWCep1xk/g/JnTjOqXSQ9XdBD77BmbpqkiL9TTteNexTEv
/zyc3Qswpqgqeu528GqNNPOwJWEcHHMQgO57u1POo5xyn8IaYOTfI8lbVtOf93FMDGUGDiIhSfpb
YiyF1VyyoukMI09M4fy0v6ziQ6dO3PM4bm28TjXvGkbbVvWrylW/q1YdX4Ehoe7289t0Xd2V8Onh
ZvdbclJJHgQ8SO/0MoSiE4pyfeZ1HLNrCjCmCk+KqDr4dCmw6RVC7QbbkbRa+8GMuePnGJaD+wH3
KZBb/4NohUA3a8i3OOXSjvgWBIGLx46R18lJa1/P2m6coRJ39rbHNagw12Y3Ue5TFIpKK+6VdnND
1LFdwYePH6lcrx6iqF9s1CewmbLdZpANoUNC6VSjU5ZQ9/+XLKFOjc96cVmYSEqiFA1mTPhJL4GC
VAW13Q7t7QoPtIxC4bWnj8wS6RTtFbTaCJV1+1XpJDleiqQzJYVVnXp+8JWBG9aLS+DoGKkS6ZU1
2vvV1xdcQkpVzkgU81dPiTaH17fBSbcXhwaXV8IRtUiN6iPg0nIYnzHVo9Y3WM/D09K5695vO+XW
3dDf2BKxLmI5/G+E6rWZx6ubv6dX4DALfWtVRI2m2acrRfLSukvsHbCXSTGTcHA232Qa4NRvARwJ
mYz3shfkyG3g+2WAGTYzEOUi7oPcabdaM+3Jb/t2Zmz/WWOb774a+HtcNJpG6+claFSFBTTWOuN7
W3w2JFO+fHlu3bpF5QoV+O3nn/X2lx4UF/mK6yPFfHzkPszoZ4fvhmST+kkbVaexL43A6Vm/PpUm
x+ktwpG2Yq6hNNr0khj/njmDc7MGL57Exmrsu/f3LUqlMexeXnE5L268QEi9/jQ2n6JefXmq1q+6
p5s+nsbGUtSrLwAffwnFwV6qaD0meI0kHn5CNk3yJjYmRvla8d6M++iNY9du2MgFpv1WnWGRwyhQ
yXD09Owcs0mOkz5f4x+PJ1cRKb03ckck0ycEs7t6tLLtjkneeiMhs8hYwrxP41QxL+W/t34k55UF
F3GdYFykA+i7oS8bv99o9TkAhE1K9drTQXrEoKFbh7Ky18r0TC1DOHPnDAM2DSBqRpTWPlPXO/u3
2QxqNIhFRxZx6Nohi4TM9JJ3dF5ilsQYb6iH1kta8/vo3y0+Pj4pnuYLm3Nq0imazG/CsYnHtNqc
vnKb7X+EMWdoJ/LkzK6zn9DQUHp0787tcN3nsGdtN0oWkjF7jTeuQYWJ6HSOjrsSqdDSmwUN7Xm1
azh5vl3OvV2T+cb/INg3IPrcMqOetNEPH9LEwwNRFIlPisfBTnW9Za5IB/DXtbvUrfKF8vWbuDc4
jXLi5IhbNKj2pd55ZPHZkiXUqfFZLy4LE8iMNFdjHmoZ7Q+mLloNvCcVrlAipE+UMXf+H5/BSrVo
RXOO3dMRbu8xP63TlHHU3yNdkXVpq8hm9OfFNickf7B8nI1VoK+JqRVba0pRaAo67oHdHay2xhWV
V/Ai6gUgCRnKG25TvfQsjbhESF1Le5P6UBdbLE0FSxd7OsKLq7ojGgMFtq/vwa0oKZJmxM0R5Cun
Sgedk2sOSR+SrCbIiKIc/7422NpmY9o609Kh1aP7TJ3HLIdZTIufpjPlUkHzatWY6+WFe9kyLBxb
gtHz7zDLbq7WOCHLPIk6/4tSsPL19WXGDMmvraabG79s3GjSnHRx684dWnburBTmPnz4QI5UP7e0
gtj9myd5Eh1O3ZbGiyYojnXt6cqVbVeoM7qO0qNMsba7T5+y5tAfBOzcie++GsgFkZntLin78HHe
q0y1LeLszKDNpSnXvSK3tqvEMgdnBybFaPoYWoqfl0CvCQcpW1VHNXIbG5bs3q2sTqqgfsWKeO4s
qow6VF+fMdRTXAFWDR/GoJaGK6Er0kcdT53EK2CewbaZxeKBA5T/nhawHrvJD0mWySlxoJ5yPf6C
P7bZbfnho3HvI4BOJUZrCHPPt25hu/smYm7HZPiDhqxoOt18ePSea0svWz2KToEpBRzUmXtgLlPa
aBcIsgY310VRvn8lnfvSI9RZ6m2X0RhakznrVUTVlS9cnhszDTyszCBEUUz3NU6/jf1Y31e7aryp
tF7SmpDBIeR2yI3dYDtilsSQ2yE3L16/w3/tXpMiyQz50oIk1K07F0HnmTOIjm9ERKdz9LjRi5Ce
RSHlKS412xB96aKWMGdKtXeFL636+65PjBu/ZAeBo7vq7EffMckpKdgNsf1Xp4BnkWFkCXVqfNaL
y0IPiuip3MUzLjIq8R0E5YGmi6HGaO39gYKUnth6s/Y+a6EuODmVhYRYiHul2jb6I9jqflJlcv+W
pCcqsM8NI9+aflwBV+hz2bwxALqdgmJGLmz/bUJd2jEt6cOc4+/+BrvULowV58GCOezqs4srW65I
3ahFfGix2Q36mOApYun5XpoHkt5pFgJJ6wmHZirav4LVxcDrKjjkxV/mr/wr5Sv6giiHhTYavyv+
gr/OapHWxM9L+kzqKu6gHuFjzjn0F/zxSfZBsDF+TaIu1vjuU0WSKKLOJn33HXP69Ma/r4y8BcuQ
v2hFeozVNJO+dOkSNWqYFoWiTufOnQkJCdF5Y6Mu0uUvl5/hN4cDmhFuhlAcLyIiIGhEwhWtVZSB
5zTTFNULboAqilCdU1FR/K9yKP4eF/HdV4MUQcRGFFjy9TVe59CMGHcvW4aBLVsy4JtvkBm5cfPz
EhgTGI1TfgNG4s2bw5EjenePC1iF42RVpbpZbS9Rt3IFTgb8aHBsddIKd7pSqRWMSSMYfkq2TJ9G
bG2pMudcrz7UDHfi1NxTWt+Z+NfxBDgHgAC+ctW+b6b7cOSy9PdPl7fcdo/t3NovVb+e8m4KKYkp
zMs3L0N+1yZdmUqA6xyr9/tf5umpx9zfey/DBLq3d9/w6OADKg3T7zualhR5CoejDtOqiu6q4enl
za3XOJbTzgRxGOpA/MpM9LvNBIwJceYIdXlG5uFt0FuEgQKCIKTL881SSk0qxf2A+xYf32V1F0IG
p6MIHFDFtwqXfS9jI7NhxIJtvE9+ycbJOu6X9LBixQomeXtz7fRpnfsVQt3IxjU422ChhlCniIo/
cTGCkjKoUa8WU5fvY/L3rVD8RdUn1r15+5ZqjRopH9wJAwUSViRhb6ftBztywTaCDIiOH+MTyeFg
r7V9zsbfmNq3LaIoIhskyxLs/n+RJdSp8VkvLos0RB+Ena2hRFPo8mfGjPH2AawpBU5loP9t3W0y
WuiRJ8MiO9Xr8SKc8YOzamlWnQ5A6daWj5GuSCe1eZl6TIfdULaD8bahX8ODNO+tsXEU79l4URJw
Ly7R3J9WIMzI9y8+FlbklwSZzBTqAA71h2tqT0iHPoXoQ1Cpj9FDt3yzhbuHpcpYU95NwT6X9oWH
FpEboXJf0+Zm6TlPfANBTqqCHAqhq+Ne5n91g48vPtJudTvcB7mb33cGcWTyEZ7t2UjPAdsIs/2L
OqPraDcS5YiBNsyY6EepRqXoe7xvpsztcXQ4wb418RwegrNQnzW1pTRxc8WAZRWW0WJeC8q3L2+8
cRqU4liV0/T9ZRpzj1wj+JDK30s9wgwkMcr7u+8MpgAGr7vNoP4mpIrrmwua58BcoU5B05lNOTrd
sL+cv+BPgykNOPlPc71jhHYJpcaAGmxrvQ1RLtJ9X3e2e2xX9heXmEjAzp2sOXhIK3U1La4Oz+iY
PYw+AU80fNO0sLEBPX586sTcjiHoyyDl69prmtJ2b6BGmyLOzuydPh33smUM9rXv3Hk6zJqlfD3p
u++Y6yX9Xjk5OdF3/gKj87lx9ACHtu/S2DY6WIf9QSrLBw8kOe1pt6vG6OUjdLZXZ3bvXuR0UKVJ
6XtI8DgmhtJeA0gSpPM5qGVLVg3XLCZx/eEj/rxyhZ1nTnPxzl3efpQ8HAURfPZLgvTrHInIBZG8
H7JppVID5MiWjaZVq9LK3R3PBvUpaGJFwaxoOk3CvE9TeWQ1cpXQ81Aqnby+EcuTY/9QcUgVs467
/uQ6DnYOlM5f2nhjK2KNYhAPYx5SIm8JK80ofZiyHkvWLAwUeBv0ljwj82S6EGON98hafcxt+Juy
Cqq5fQqCwO3wcGxtbNI1D1MRRZHS1asrRboRC7ZRsPwdpradiq3MVqvt+7gEcufQbUUyetF2lozV
bfeRNtLOfog9Ad8FMLbFWCutJIt/MWYJdaaXC8sii38rv7SQCgDkLJKBApkIgTIo0UT/GC+vwubq
mRONBVDOEzxCpOIVj8+qto98K0WzpWcMS9JlA003t9cYK28F00Q6MF+kA0mkU5BWpAMoryNkXUyR
KqVam+WpZuDp/Yx8YUHaSMt1mkKdIkVZj1AX7B7Mk4tPAJgWPw2bbGaeD1NFOoAhj81L51Vg76gZ
HSjIEMfKmWEzA98FfjA6Dmwt83OzJrf23WJ7++0AqalvW4Gt1AkU4P0jyFVMo/3peWc5MtmPCU8n
kPPn/LB4sOkVl9NBURd3/DaJqQJDFNgl4ps426w+okKjsMthZ5FIlxyvih7zvfoHL5/coJl4lFVp
qn7a9LOnZrMhXJKXJ/j4JboGzEN34gnYpGRnSPumXIm2xdXFxeS5+Av+uPZy5crWK7QIaGH2WgC8
X3ozL78qNVMh0gmCgL6HpIVcC3Fq7in8DDxE9Qzx1PCq2+6xHafSTspt2e3t8eve3aAnIEiC48Uy
/sy4UIgZgwx4nAJyuZzQ06eNeqLlLZuXbI7ZSHgjfV7PDTxK3JsQsuVRVet9EhtL+5kzCb+tmQYe
0LcvEzt9q3ztUbuWsuLr3adPKTtosDKFepCfn8F5KEgr0hliyaD0FWKYPHEiQUEqkVLx/mxYuJf+
x9ap2nXuTH3Xihy7ek2KIN33AtmhDrSsUZ2R7TxoU9OdiiWKU7FEcYa3baN3PPUiFL77ahh9KHEl
OpoFv+5i67Fjym2VS5Zk5bChNKgkpTjWPlIvS6RL5e+tN4m58jLDougUPDvzxGyRDuCf1//Q8MuG
GTAjiH8Vj0O+jPvb+dvV3xjSeEiG9W8qGVWBNm310y1nt9D7KxOLgP1LiPCJ4M2HN5z48wRPnjwh
NjYWZ2dnypYtS/369Q1WYF8a8j9uPXiKuEbEc5UnIP2OiWtEik4oyuMFj02agyKNN2eOHESeOWON
Zell+dq1zF+2TEOkU4hpuj4nIwN/MpjCK8pN/1wlrkpELsqxH2JP4qoM9FLP4j9HllCXxX+XFQUh
7oWUJtb5cMaM8f4fWF1cKgRhSFwJFCTxZJxpJuMWoS7SjYkHm2xSdJZ6umt6BaBAAUa9w0zBPxW1
sU31mctbHr6/brytor06NiZEdSkobSA1JK3o1WE37GgspdT+W2n/i2XHpU39FWw0otnUI4Ay1cst
ZxF4FQkXl0KNUeYfn7quOVN+ICnJjulJ08HWVxVN2e8WOGe+aa9Rw//xoiSyH+oH30lRY0cmH+F0
wGlV+9Fx0v/XlIa30TDqPdjlzJD5hnwXwvVfr2vMV1GAonmXH2nQ1rgPWmiXUIvT8WZn1xQF8xep
QJcRoVoRbGMXPeTwDm+SzoxiV/+1VG/4vc7+Ih88oNfgP1lxYDfLfztgdHzP+vXp3KA+8X5S9OiV
rVcQEannXc+i9WTPp9t6wFAmw1O3oQhX/Ezq/9L6S9QdU5e/Fv/FkEtD+NHpR4MVdhWsnVGXslVb
mRQV+Dgmhjf162PbvgNyA4IogHOuXAxq2ZIZryYSkGMuKYlSxNiPjj/y7eZvce3tCkgRdecXLtQ6
3m/7dqX/nIJ2tWqxd/o0vihcWCnafUxIYOpm06rGApR0b0i+h6e59Fz/A6hzs1URbf1XriGX2nOJ
Y0u3mzTO4TCpqvuYNWtYum8/AL7U4MH4S+AhRX8enjkTp5ya398VlVfgu68GA34YQLGaxbT6VfDP
P//g4OBAvnySf2Wd0XWUEbm7+uxi/+D97B+8n1F3RuH8hbPW8a4uLmweN5bN47SjNk5FRdFo8hTy
eT1C1r4DnvXrs2OSt0nr/hwJ8z5NzVl1+bKX+Q8czB3HUiHw+dvnZLPVL5akh2dnnlDKQztSz32m
u1XSXn+78umFuowS6dKSmJzI0G1DM1Woe7/sPSN+GsGyHstMan/nzh3KlSuHXK75GymTyWhcrx5F
ChXCMU8errx9y/rgYMIvXyY5Wft+538nzvBr2F0NAevcvXMabe79eA/bwbYkrzbtfkkURYKDg/VW
ck0vNZo0Ieb1a3Lnzo0oioRF3mXXsYsaa/i44iPbwrbRs460zVjFVu9loSwd30Pvfl3X1jJBRuKq
RISBAu+XvSdntoy5zsviv0VW6msW/y32dYFboZInW/+/M26c5fkgPsa44LS6uFRAYazlpcyNoi6s
jHwD9nm0t4PGXCMiIqhevTr+/v3w8elr8lDnzl1n8OBAPnxI4dYtPam9ulhZWDoPOuaiE3PSXQGO
jpZEHHVMEQM3u8GLy5o+ZmnJzCIggYIkRDXVEdmXyuvXrylbtiyvXr3S2tegTh2qVKxIyRIlcMwj
fQ7evH3Lzb//5mpUFBevXNE6xt3dnQsXLmjPA5g5aTryFOmOdPKbyRpRL1bhQC9os9WkppaIgv37
92ft2rWqFLPr5eG37nreUxnkKABDn2nvsxL/hP3D2rqSb5YuDzKDLM7Gkb2NOHuykSQ0GsLKRXK2
t9/OrX23EBHxE/30tktOTmBWfwfcmwzC4/vVWvtNEYkM4S/4I8gERLmo1c/l05tJTorHvckg5ban
Dy7z6FUMaxZ0ovmw/dx9+pTHr2J4GhvL3WdPufv0GbHv31s0F5kokPdDNl7m0r4pLWzzhqcppqUR
gqryre++GsTkSCDvR92piurtj5V/zPFyT4327ZwrF6O2S0VIHixx5u9VkWRLkjFoYy+cc+WiVIEC
5M+TB+dcuZjxvS1lXVtr+fsZRSYDuWlR1pEPHjBj+8+Enj7NV3cL8k2kZlVr9XV/UbgwA1t+w6Tv
vjPa59c/TOP5mzcAOP99i97jxpu1hFPTBhOeKtTpSn1VRNOVHbCYtrUtv0H6pnp12tTUjGoz1Sdz
scti3tx/w7Ohz1i5UlUVc1j//nTv1IkSxSQR78XLl/z622/MXbRI2aZevXqcTvVyenrxKavdpe9n
Y9/GNPFrYtLc9aW8/vjLTqZuVvkG/jRxAt0aZkwk16cmzPs05ftVwqmCttBpTZ7/9ZT3D9/zhaf5
KfkK5h2ch3erjBFT9QmI1hK3Mksk00dl38pE+kea3N6S+Taa14gT3ieUxzqNciJ2SWymPQA1Nucq
VaoQGSmdg+t//UV2h/RHUCYnJ1O2Zk0ASpYsyf379/XOxdLPgL+/P35qEdVOjo5MGz+ezu3b6z8I
CAsPZ9jEibxSq9A9depUZs9WPSA0JMDJBsmQB8uNinQAC3/6g3E9vtG7/97jl5Qumt9gH5/6O5JF
hpHlUafGZ724/zfE3oL1qU81W6wG10GG26cHc26AAwVVZFtGoIgYVKA+p4W2Unqm2r7ixYuxZ48/
7u7WfQJcvfoAli5dS0NDF+bqAljHvVDGQ3/bfV2kNGFTI+nS9g/m+d+pt/+UQt2rSCm9U0e/Fy5c
oFatWoD0BPPIr7/yhRlpeoY4ceYMfYapokWmMQ3b1GBq3wV+qoYZJUwa6DdHjhzExUkRY1Fnz5Ij
u3nFT+YFBbFinZRSdvr0aerVqwfyJFhkr3/c4JLw7qFV16seOTc9cToyO/PSwKOPRbOp6SY67+hE
5Yeups/tz5FwaZkUBWtnmX+SYu79z/Sn+FfFjbRWsWp6dZ4+iFBGZRkS6SIfPODM9RuE377N8WvX
uPmPthjwXXhpqjyWbo7vFnjHlrqmPYgpXagQRZxy8/ruCTzaj6R04UIUcc5L0bx5+aJwIQoU2k/y
h24mr0tdLOy4sSPVvKpptfHzEvDdKEcQBA5evMiB8xc4cvkyNx490mrb/VwZyj1TiXpPnOIo8lr6
nCtEq3oVKtD82TxqjjhH7XLlKOjoaJLoubD4Qt4mxNHnan+2FFnNvfzvqLqmAXum/k6BTiV5JyQQ
++E99548IebDR5PPgbm4ly3DF4UKU6lkSSqVLEGNMmUok+p3t7f/Xi6tv6TRftS78QQfOsSaQ39w
96lxMXKURzsGtmxJ5ZIlAbCxsWHkKm2h2BCGhboklgySfiO/aVaWP/5Ue0iVrSCjg0xP/1av/qpg
Xv55xL2KwzdluiR66iE0NJQuXbrQoE4dtq42b30rN2wgYMkSPD09CQmRTOD9BX+K1irK4/NSmpmx
KOmb725RPnc5k8aLuHuPGmNUlY+Ht21D0GDD6dP/Zs5NPoNgK6PWrLoZPtaT4/8Q/zKe0t8Z9mg0
xoTQCSzwNO7TaAnpFeoSEhLo3bs3oaGhZo9tZ2fH2rVr6dPHuH+uJSQkJ1DCuwTPFz43+RhLPerU
018t7cdSeq7tyapeq8jtoGmF8+zZMwoXLszwAQOYOMK496alrN2yhVmBgdy8eZNy5cpZVaxT5+HD
h3h7e/Pzzz8bbNegQQO2bNmCi45r6xS5nNELtxsV4HrOmc+2qRMNtjEm5D14FkPJQnkN9qFAGCiw
ud/m/1zadBYGyRLq1PisF/fZs74cxP4NDs4wPMZ4+/RgjkB3K1QSmzLLi67XeShUU/V6ZSH4qLrA
sPGWkZJyLOPmksru3SepWrUrZcrouLg0tYiEwuzfnHMXuQkO9tXcZo5Q5z4WmiyEp+dhW23tNpkl
1CmKOaj1++DBA0qVKoWdnR1/nz9v3fH0oEgfCAkJwfNBF82d1l7zIjud0aabN2/Gy8uL9UFBNLNS
ZIZiXXK5JKAYfQ9NjZrVw9IyS4m9Kxn1j7o9CucylkVgXFp3ib0D9mqKMuY+BHgWDltrSn6PJgrg
ie8TmZt7Lo4lHRlzf4zR9s/fvOFg+EV+On6cPy5dMtpeHVcXF+qWL0/NL7+kmWtVnUULNNKuU3wQ
ZPqvZfy8BKavT8TGxo45g3IxNfg9oigye0B2pq3TjICzzfmzyULdDJsZGr4y+oSyhWOK09ZrJeWr
G3ggoUbaohIKyh5twqmoSAqFDdcokAGqKDxjqEfrAcz99gqJOlKSLEW+by8yD8ORChmBAOTOkR0b
mY1WVGTNlGTqdfxW94F6MCjUJYWzZPgqA5ORMdpE4UyXUAfGo+oUAlp607qq1K/P+w8flOnVC4st
pJBrIXr+3lM5B5tsNkyLn6ZxXNG9pXjc3vIqkSClzzafNl35+bu6LEgprv5rESFskuXpp5bw4Ldo
SrZ1SXc/vdf1Zkt/01PAzUGfUDdy+0iCugfpOAJy587N+9Tvqo1MxsLZs+nQ2vyiZq/fvGHk5Mmc
PKvyXj5w4ACtLehLF+kR3czhp7Cf6F67O+tPr6d/g/7p6stS0o41bNgwVq5cqfN3pmdtN+61W8YZ
nwZU+eEY12Y3Ue4bMqAbF5/bcm6vdoZEx9b1uV5hGjcX6X5/XNzcaNWqFQcOHOCbRd9weJymVdGn
jhzzX7eX0kXy06eNYYuLv67d4aslZY3O1W/tHvwG6M8Wmrl+H9P7mXbtAJCUkoT9EPus6LrPh6xi
Eln8h4naDL97Sf/udhKKNci4sVISYLGDlEpqjvDT8MeME+kU4iSAIINxaars/TlKKdIlpYAw7igp
4zOnGlLHjg2Bx2TLVpGEBDWzU3WRbqwRE9SFNtprSuXjx48MHz6cjRs3IpPJcHEpwt27UuTNwH59
WFZ+M/Y2qDy7jKHiKAuUAAAgAElEQVSYV5NUL6R9nU07DqBkM7i+FSr2Mv0YY9zULHVvzo2Zz8ge
bD51h+hLYemehmI8Fzc38ucSeOGn9lm2tkA5NkkSSAvXUm5ycHAgISHB6j4jiv5kMhnBwcEMbLnO
8HqGp6YWHxsH4YtMWndUaBShXaQIgXLtyjHqjgV+emrovXkfL8LVdXB4sGm+l4XcVfNf5gwJrw2u
RyFI+Yq+vPn4kRk/72D5b7/xIjW1UBdFnJ1p5V6DiZ2+5aC/n6ov2xl4v/TGwcmB0OVdiDwXqow2
sxRDIh2A3yaRIyGTKefWjqnB7/HrK8Nvo5xeEw+ZXJFVF+oinY/cR2+7gsWr8PT+JZOFOn0U2J9A
oRfD8dsk4pe6bf/58/x07Djs+8D0/dWZ2U63KJrLwYG65ctz/s1b+lwoR5GDdXnS6i+m7HJlY/9H
eB36gPCovElinyEuODkZbfNF4cIUdHSkRP78FMnrTIkCBShZoADOuXLhnDMXzrlysqWIJHSJiAip
16mGIgZvP3lC+O07XLxzmz+vXNEoPFHa1TVda9JCsNN4qRDyriwaxdHrcVIVZixzblXQYX0H9vTb
A+vXQ79+msMLAk0bNGDDMtP8pAxx7fRpTp49qyxYMu6fcZxdeJb5Becrz/fdI3eVvz3d9nSjfPvy
uDoZL2bQsGFDTp3S7d3q6urK5cuXif91p8b2KZs2KwuALBo4gNEe6fvOWJMw79PkLJ4rU0W69HjS
peX5O9MjwqzB+4T3WiKdn58f/v7SZyl0wwZqVa+e7nGcHB3Zopb6DfBVy5Y8efaML774gjt37ug5
0jgOQx0yTfDoUaeHUoRqPL8xxyceB6SCCo6jHHmzVP/fW2shEzQjePWJdAqe7xoBPtL+5PB59LjR
C5dSBVi19mcSj/1AhYl/cGN+C2rUr4vf+j9oX96RXT9PooKf/jlER0Tg4uaGIAhce6xdMOz/2Dvr
uCjy/48/hxJbDLDFrjtZwO5uQc+6s+/srjvBhLVRsbsLuzDOONtTxAL17MJuMECU2Pn9Meyyu2zC
ov788nw8eDzYmU+8PzMbM695h7bX4dfElDBWkDzu/jl3ndezXnP16VV+zvdzssd7Gf7BLBttrW1V
x+j1rNfkzGQ4ZDaNH4s0j7o0vj1KQcUmPQw2Hp5z6tQpvnz5Qs6cOZEleNGYjDIsDswTJBbkgJgP
qZeL7v4+2KlW1ECXbTubS+1UbU7qHa6+fU2OfBGIfzQYh1FOvOl5kdj87pRsHcjjkGmsmODPqFXX
eXl/Bc9OBVKo/gJivxxS9ReEmoii/vGzZm3G+/cfpBx9kQlhbFkKQc8w/Wv0F6SiH4XqA3D37l0G
D+7Cvn1++vvooUaNgWzZsp88efIYnk/dw0hX2Cvofx9YWrRS89oUBIE7589ja2urv/2XWzhXas/6
tjnptPUNpKsNX05TOLst2w6fIUfC9ZezTKa6ENK+ANO1TZ2tgYH85eODqB09U7oTNLXQk3q145g9
e3ZqVq7MnClTkjTrWFHGn2dCcVV7fFRMJuNmaChdK8oIOJe4DvH9bj5l9UBfJilnmSwxYb+/IAlZ
nS7oaa1lq10WKRdkAkvLL+X5Ran67e+nfqdg9ZR7iNwKvMWmlptosawFbj3cDDcObAVug6WK0+Yy
NxN+9/Mw8n4Z1SZ1T61ejRqxuH8/fb2Nsn/gfprM0/0U/fAWb/7d58eoJR+xszcclqsUDepOrMvR
MUfNynOnFOaO7/SlditfjW0ALdueYtdW416b6l5vo6JGYZtB/2fz2E4fHt85Q5cRxosYfY6JoUm5
QdS+lUfD8015DtpWq0anOnVoUbGCRj9RIUrVi004Fsow2Zn5ZvLx2UcyNAjir0MHuLTsEnt67Ul+
3kBBAK1rxIjIyIS/KCKipP8fv35DRORHwj9G8ubjB569Def1h/e8j/rEx+hoPn2xbMXirpUrkzVX
LrP6GA59FZnTS0qpYZWnKQPlSm89BXMSquHWmbaUctmMS3XPw8Mpkjs3hXM7USR3bkrmy0eBnNKN
ldxKDiL4vB0I2aXQp9DQUMq7u3PvUlJBtZhMxl217+92Ac8InduO28GSWGbo+/3PcePYGqhZLXlh
2YX0u6b5eY+LjiPvoUL0b9mLSoMq0XhOYuGlSpUqce6clAh+5sSJ/NLccLXxU0FBdO7bFwBHR0de
vtSdD/Tw5cs0HCsJ4ckV7/z8/PD29ja5/X///UfZsmUBuDDmLLkqOlLIo4jZ8yaXsJ33sc9pT+4a
eS02ZoVJFTg/OnU88Z8efky++gU0tqkXAAgPDydHjhzcDA7G3kD1z9RAKfpoFz4wRrwint+W/caW
3lsMtps/fz7Dhg0jNtbw9f6sWbMYMsSwN3qxUcW4O/luqoV9moIqBFcQDF4PdqwoY8W5UEq5ViJT
Uz9CfzlHh5ud2NIxL8S/wLl8U8JCLqmiF0AS4cT3uynla6vXo06J8rpM37q/pli38VAwNx8+R96z
pdG2kdFfWLf/DH1/qQMYtvPvM1doWtXwgyRTxUF9CD0FypwpzaRJnRIcKExj2rQNzJy5gxcvUi9P
cxomkeZRl0byiYuLY+jQoRw48Dd370qV73LlyknDho0YOHAglSpVSvkk7+/DcrXwST1iSHx8PDY2
NkRGHiJjxsQkp1KkXDrgI3BKtX3UqKXY2RXVSDKq4uFh2NZA0/PEFL68h/nZYLiClD1PN4C6gNRq
T9IqpErURLqQupdwxXCS9Hf7mnLgfeJa7YpUY1jGcWz8APfuvuDVgzu4+N7lqtwfx6KJCY0PDu+J
g5qbvi5evtwp/ROplmvKkEh3OeHpaIJIFxg4BU/P6skS6QBOnZoH3GXFijl07z41aYPAhBstc/Lg
fRUSz7VBkQ5wrtSee6GhWANslREWPBtnmTvHjp5R3aCd9O9AVlf1G694nF1rExZySgozNkJbT0/+
8tG6ia80EoKnQPhNKew6pXRLfIIaERGhU6RT0qq8ZlWvOBJ/pJxlMrAuQtjFHUanDAsNxd/fn+HD
hydWur29DUoY8apM+G64PbY7GydKglyBagV0Ch179uzBz89PlcDdGFmzZmXo0KFUia1C0KQg08UT
z51SoRYDwvGle/foOW8+Iffva+2px7jffuVtxfO8/3cnaxd3YZzog/bMAQEB9O3bl48fP5pmkzoJ
TkCtW7dm2bJlODhIIcD1202lfrupKBTx+HYVsLVLz+hlhh/E1Bhdg6Njjpo1ve8akcVjZTgVKKfy
rPNdI6rEugk+up98q/PvlEQvIdc/XA2KdAAZMuXk08fXGtv+WrkK/127NLY5Zs2KT4ff2B80G7/s
fiqRDlD977M7aTJ4URS5lHAu/Tss500jO+6/eMHTt2958e5d0rxuLUDu4Qnu4PPMjU//VEmsnqrc
p4NsGTOSPXNmsmfKRGEnJ8kDLlMmcmd3IG/27DSQyXj44IHKOw5QtUkuusKAhz4aSpYCWUwe45dh
w80W6gyT+L2seHkWSPj9iEvMVVfaBJEOoE31atx/8YJLd++x/fQZ7r14kXi+micI5TnmqYRacd9e
7p47p3OsuwkPYED6Tnv37gO3gzZRuPIwHpxNWjVXnRnjxzNx4kTGjEkMcc1SIAvXNl+jbPuyqm2h
0Zd50iIMO9GWldVWqs6PL740a9DALM/nGlWqqNqvDAhAEATi4uKwttb0+q/v4qKq4Auw9ugxus2e
DcChCeOp75I0LyQkhu0BdGjTxizbSrq78yVBMD548CDlG6Z+Ljol9zbfIVPBTDhVMfBgMRnEK3RH
J1gCbZFOe74cOXLoPf7i660U6/6EuRVOUX3MDrIKCb/fQjrCQoJpWc2NzG19mdI0L/kcHlCs+xPu
7R6quq6ZvfUYsycN1Tt+WGgojdu1Y968eQwcONDkNdn0ttEpsPj4+DB+/HjV67aenvz377+kMyJA
eo8fjzA0sYKyt7c3U7Sub+5OvkuRkboFYXGZqCpQkJr0rCEVyhk4cCA9hwxhWcJnTR8b2zvSU+tS
wNldEvCLd1vHPq/aNPM7rtpXuFaC6H67IUNL6I7wmTp7NvXrS9f/nxd9xmu7F36tNa//v5Zn3YAZ
Acwb3sFkr/+RC7YxT01YE5eJTPl7CiObjtRoF3DwLB0bGf9eccpu+m+dOlOmTKFWrWyIy/Q7URhi
xIgOjBjRAThFWNgLYmNlFC9ePFljpfH1SPOo+x8nOjoaF5dS3L5tWmVGJX/8MRVr67wsW5a0eppO
riyVwrgAshaBHvpd1729vfnrrxrkyJG8LzOAnDk9ePMmIrHoQnKKUGypK+Ww6mLZED0Vq0pB+K3E
14YERHUxT+WVdkpv8/r2NTn8+SSCUJMsnabwpudFmpyoygmfYXxRnMRaqEmV7FZ86LeUIuHn2DG9
Ga22ClRZ05mtP40iZG4Vg6ZPmrSW0fbLEzcMigLbDIbtT1ifKJ5MhapXWk+VdOUc/B486rI4Q88H
Rp9sOstk9Fz+L6PLZ1K9VnrN3fhnLaUbDeDBifk0W/iev72ktZdylXFy9VDqzrNlRbkjlOq9FJdK
7kZvZlTeZ9p5Bv0F6HIZclkgzCzhWBpat7ZHnbq3SEczPeoAlm/bxoQJEzRtKN0BmgbobP/6+msW
ll2oeu0j+sClOXBsCKfLrKd6U80w6JpVq9KnWzeqVtSR91AH4RERLF+/nqWrVxMXn3jDo14ZzSj+
Aosy/Un/fbc1NpcukJ9Vg4dQsUTSiy7ljbd7T3eaL20O/gItVsLe64ltGtWty8RRo8iVM/khFTv2
7mWEry9xavnRQkNDcVG76b54fCl7VvVm0LQ7ZHeSHg6Erg4l8Hfppr3O+DqcmnyK0dGjzZ5fFEX8
+joQF/cF70UR2Nja07JWHXadOGa0r/IYCdYC4+L0h7wCtJkylR1BQQzO+g9z3jeQ5sb4YxyfPW6c
LfKKyvcdAbjj9J7QAm9p3r8uzk5OFMubhyJOThr5+xaWXcjr668NirpPH5xnmW9FhLW++Ig+PD7z
mJXVVlJjVA3qTqqrWl+GXBn465XhJNga2NiABXPdqaNLrKs5piZ1JtQxqX+5WrWp28m0tATKaq46
sS7C4EXSzdaTjaPYfkwSX8v80pOalfKz2CvxuOuqFKsLfTnqlPw94G/OLzhPTl7TX5xPjRo1aNWo
Ea11eJWVlLly7cK/FCtfTfr+d6uDb510nKy+mpWtchv1mL739i1169bV2KZdpES70mtsbCx2dnYW
S03gLJNx7do1ypQpY7xxAl1nzWbdsWPkcXDg6ZrVPHv2jHz58iWryIYuSleuTPTnz3yN+x8xXuRt
6GtyujtafGwXuQuXfS5bfNw3F1/ptNdUzyzx9VYKN5AKsISFhoL4niINZiK+CeSBlve/eltVe4xH
AyjbmHMOi44qyr3JifceyutQS4Wd9x42jINHpQdN6nYJPaV5dAlQMXEx5BqWK9XDYNXP3e1z57Cz
s0vV+bTRPleGBMrUFOvM9WbT116XjaaO/fhlOAVMLCahpFy5Yly5ssqsPqbQocN4NmwwHhmQhkVJ
Kyahxg+9uJTg5JSDly93GW9oAn5+AYwYsUhTfNnWQPJiA0lUamPaF8HTpzvIl89yT8oLFPiNx4+T
VuIzyPZGEHYo9fLQqefhA+PzqAso7U9CfkmYKVAgN48fm1ZRK/bkXKxrDsK8WpSGbKqp+drQGs5O
APvsIOuPPnFRPdTW2aYmYXEnEYR6iOIRqYH4gfrtfPhYfijBXvpCD9XEOl0im7lC3amREPMR6qX8
Ak5j/uEizZs3Z9++fWbfDDnLKhAWarlQF2eZjNu3byc+VdMl1mVwhL4pdJWPjYLotzRq25OQS5c4
f/hwysYzgs4LeB1h7zu77OTKuisANF/SHPde7qrm6t9ndy9exMY69XJByqdNY9WGDYBU5CM6R06V
h4mSPA4O7B47FvdiRY2KyKIoMt5qPDbpbYiLjsNH9MHW1pa4uDjq1azJirlzU20t6sQrFBR1kzzH
goODqagmat6/dpi10xogrPUFJGFULsjpeb4necsnPzxsUs8M1Gvnx/Yds5h5vCvFyx7gjXVewqP1
i04+e9xYWPs6v3Woj1vRYlQvU5qus2Zz+kaiR+6Url3wat0agCtBARzZMpKhsx6ZbJe+ghLGPCvl
gpzR0aOxsdcMgPAfnJcvnz8yaonk+hD4eyChq0NVx1F7bGPFDJJQpw4cMy5yJhelPeo568A0+6ys
rBi0ZKlJ85gq1AG8v7iB1Uu01mxGIQkwLtQB7Oi0g6sBVxFQME6UGxU+lLQLeCaFoZmAIRFDKdY5
Bebnpafm9ZE+W36v7sr8Y+epULEi1xPC31b1cqfH7kKMzL2H7qvP6737MFdQ0banbKlS7DNS0TE5
OMtkWFtbazxcsCS3Vt3AsYIjDj/lSJXxy/qU5Zr8msXHNVbx1RShTvKS688va15yeVYL7oWGAlHc
VGSkiZuMO6Gh2Gi0HaohzllaqFt+ajk9akifzXLlynH16lWL58nVtq1w4cLcT/CMNiY+FR9dnDuT
TKt0nhyqTa3G5t6bye+QHysrK0RRTNX1Kynm7k5cfLzO82TomFharDPXi07Zx5Dwpl5YxXvBNqb2
N54HO+jqPar8bG61Zx33TbFXEez6q14WsoawON2edoIg3a+te3eSTll1NuHdu5/JZkI+2jQsQppQ
p8YPvbjkcvnyKlxcihlvaCZuP3Xj0u8JoVfJKAQRF3ccG5ukN8N+levhHRwrCTmxV3lk/TMFrRLF
HeWXUKR4UqeHTe3aYzh+/IRpRvgL0PsJZMpntOnixYvp27cvjRtXxtOzGhUqlCJv3pw8e/aGq1fv
s29fENu2HWfSpEmMGjUqcXwl7Y9D/lrG7VGSuQD00rwxdHJy5OXL7Xwtdu8+jUeLEVJRCCWmCI3D
RTp27EhAQB+dTZTncNSFYwRUqqMS6iAOUTyBYNWQLwcbUuNSO71C3ZgxB5k4cWKiSKxu16mRcE5H
iKwx+y3pVafl5Tdr1iyGDRvG/UuXsLKymIRqEjdv36Zxu3a8ePECJyenpDYqUYp1eSpBh7Mpm1TN
qy5H9uxcPGpeiKOpOMtklC5dmuvXryfdGf2W2Nl5sbWLQf6nL1kLZWVImGaOmfbt27NlyxYuHDlC
zhypc4NliGLlyxMXF2f8BmRJPshbDVpo5tuZkmUKMZExql+/sfFjsba2Zr6fH80bNUolq42jDOHT
XpdckEOWt4gt56m8wpQ8fPWK7WeCOHrlMkevXOVzjO5iNent7Kjn4oJn5UrUKFOWfJltmD7QiZPX
23D0/FYWj3Ul5vNHBk2/q9Hv7KyzHBx2kGt5I9jm/kC1/a9fWuHXrZvetVw6sZyzB2fTb3LSxNj6
SIlQp97u1ZP/WDj6Z50FM9S9pfSJdRlyZuCv10Y8627fhhIlDLexAMk9JgcOHOCAuQ/gvhJz9+xR
/T+nV08G6snr5pfdj88Rn+m3qwG2tcrg4OBgUS+2VatW0c3Ae1guyLl39iFrK61UbatatSptmjbV
6d3XrborJz7ZcfhEEEUzW0lCyqVAnN07MsblCxNDY8lXexSnZ7dL0jf682fscuWiSBHzcsLZ2tpS
v1YtFvv761yj8nhVc5Nx+pLmsavmJuPUpVCjDyedZTJWrlzJ77//bpZtxrix9D9yV8+LQxnzPGfM
odTYUtyccNPi4+oT6kqOKcmtibcYMGAACxYs+CpCjz5EUaSwq6vJQp1S+KlXrx5Hjx7VW/X0dMJP
TFhoKIVlMkQgQ8EGXN89XfUblufX5Zzp/kDTa1AHzjIZLi4uhIaGGg1xDXkUQr+AfgSNDNLbJqWo
i1+HDx+mQQPJI/xYYCCFCxWy2DwR797hWrs2AEuWLKFXL/3RTB2XdySgh+4oB0uIdf+cu87efy8z
Z9hvZvUbNHMDc4d1MNhG3T5TvekG+m9g3nDD46ozeHBb5szRU7Qs/iFC+kmIMUtxtqnJw3hAsEVU
/INg1QRBjEaRcI9sY2evkYdcm0OHztOw4TCT7UojRZgl1H3du8M0vjmPH2/XKdIphZLxrnX17js4
uAeN7Wsm2a/k0n+rmfBpvHRzb6ZIZ2dnp1OkA/AOjqV+BoEvgGDXn0LWNdnfV8ohs/69FEr5cnkl
SvS9qLP/8eMTjRtwbHCiKGNApCtSJD/S041T9OlTFlE8yf790+jTxxN395LkyZMDd/eSdOvWhK1b
xyOKJxk1qoaqj91Iaz7HIc1jTKQ7rJXkvVdS742XL18BNbCyMjJWCnn9+h17977Hw8NbU6TL4KS/
E8CpxGTPr18brlAmiieZ5K79HkgIl1Xo/4FJHD8hZ5S2SAf6RbpvyNChQxFFkSJubjjLZPQYPDjV
5yxfrx7OMhmN27VDFEVNkU4X56dJx/J5MFxKoRdW/3BAusDOkTOnRkJiSzBszBicZTIOHDigU6ST
C3LkGeazdkln4hXW+PhPSCLSCYLAju3bCQsN1SnSOctkqr9EvjA+ONygbS6uUp/CFRoaXcfdCxe4
ePSo8Se/vZ9KIl2CuLq13VbJIy24J4hgY2/DmLgxWFtbExYaql+kUzzAubzmBebaHhU4Y6Rujoub
OzFRLyhcQXqK7CyrYLB9WGgo186cQRAErDw8sfLwpHsOSTCS13rI+AgPANzbuDJ54RgiP3+mkKMj
w1p6snfcOD5t24pid6DOv6htW9k9dgzdGzSgRL68ZMziiO8akRtPKzJzSH76TAjBrXZPzh6aA8Cm
U6ew8vCkzj/TuJ7nHRPO/aUxnrpI1759O9Lbp6NPl9psXdqX/QFDuBxyhkth2REEgQULFhg+UAmI
zUzzANNGWX02Oioc364CDo5F9Va1rT6yehLx6+6BRHHSR/Th05tP7OhoJM9jyZLJstVc9Aly+gQ8
JY0bNza4/1uxftxYjffRwObNydCmrer9PlDNM88r3AvBSmBhy394deoVoihKolGA7ptWU+gzfDjO
MhmPHz82KNIBvLoYTsWumoVsgoKCdIp0AKv/DeHBpWDq1VDrY1WIsJB/6bH6PGGhoTw9Plln3/T2
9uxREzBNJS4uTqdIp8RZJmP6dWUaARFnmRunFvfE2a2+qs3S/ed4cesYyx7pFknCQkP5Q6sKb0q5
Nv8K+eoWSFWRDjC7mEJKWHNmDbN/lby858+fT6ZMmSz+G24q/gsWmCXSqaNPpFOy80KotF/xihb+
QYSFhhLz6B+kn0PJkzDIu7yqrZ0A+n4qw0JDuXxZCk0WRZEHbx7oaQmuBV3xauxF28VtzV6TqUxo
OYElJ6TvoPr16yOKIqIoUv+XX1TXNTWaNePeA/126uLx06fUbdlSNYZr7dqqsQ2JdAAbgjfo3afM
WZdchs7eRF33UmaLdGv+PoO8h+68ruq8niXdc0xYucfkcFpz37N6RTqdY58EMRawItjLifkPj6u2
x345hJBugN6+DRsavn5L49uRJtT9D9G3b18KFDAtT4Yg1OHjy6e8UvtOaTRnOcaCv7y8kld2fuzY
Lgb3H/4kkj7jMMSYBTyMP0mTRVIxg05ZgbiXOPU8z9NF7gbH0Iu/IFW51OM59enTJ+bMGQyc4v79
jcmbI4GYmGPYe53k8mUTcg1cVitPb8SrS7pgq8GOHa/JmLEhHz5EpchOgBkzNlGgwG9ADXLlakHz
5s2Telz1faGzr4pzfirbDx3SH/6sXmFW6b4tikc0tts1+NNA2Kv05I5DBsKcvlOUFzRVatbUEIKW
rV2b4rHHTZmiMebSZctU8+lF/b120itx27EUCon2Dqr3z61bt1Q3ps4yGQ1++SVZQ8bExKjGOH9u
Lz5doJGaIOWfx18S6AQ5A+8MxEf0oXvYcqwr/wmOMo3386lTUnjB3Yu6BX9IfHIeFhqsmreIrBIr
e9dF8WKThojnLCuPs0xGnbH/cDlEuvgXY18l7NMW+zTJkT07YaGhJoVpiMMU4C9QoZeUA2pd43W4
9XCTwiVtbEz2evgQNJlijQYww8ufmDiwE0DxcjfxMVFqa5Kxckhjuge+5PKli9hlzI0Yr8w6Hcun
lyF0D9QfJp0xg5TH8umSxSh2B1IwPBNuPdxUwgbAxW0hjOo3kbmDc+HbNWW5LF+/L8CHd8/4s7M9
NZecoer8o1h5eFI8T16eyZfgvd+F8Yv7UDKf5sOZ+vXqMm9SB/YHDKGbR152rOiLZyMZmTJKycVz
58pC62Zu/L1+MEWy3WF/wBDmTezA1q26UxEc2+mD796nOvcZQ/keiI2JxneNiK1der1t602up/pf
KYIFNNEUfnxEH65uuGp40uXLDe+3IOaIdRGRkSrR68HVK6ltmtl06d9fZZ+VhyfVRnhpCMzzevcm
X9duqv0fl0kJ+zd6bGRl9ZWIosi85ctV3w8PTMhd+Sk6msKurjjLZHxRKBBFkfz58xvtt/XxNrLk
y0KQf6IHz/bt26lQv77O9vu2raSYmxsz1iZNW3D33N+UrejOHT3fNeOmTGFwKjyICgsN5a8yCVel
X45iU6oPNfos1mgzeWQvcpesw9Y9t3SMYHniouMo5FGYLMX0xJhZkIzpDGVpTT6FWhROsm3q/qk0
+SmxqufHjx+5desWzjIZrboYvn63FEvWrMFZJmPJmjVmCx6rf19t/oRav79hoSGsnjkYZ1l51bb1
HfLRKzDC6FCeMk9O3zVceKqla0tqlqjJkE2GK8kmlzHNxtBnfdKoFqUHvyiKBO7ZQ5cBAzSuG439
teralQ2bNqnGMOfciMtEdobsNLjfXLEuJjaOATMCmDXkV6ytzZM53kdGExcfj0MW45+tnJlyUt2v
Oi/DP5g1hzksWKD/2GgjCDVBsAWiqTzjMwML1VZtF4SaPIjSn8bn4UMj93JpfDPSQl//hxAEQUP4
UMdKqIlCPEnldLU4+0UKE426spZae2txcXRnVb9m9jXZ99lYxRnTy0UrsbW1JTY2aSjcWs8mdAnc
n2C/FOpqZUJyBK4AACAASURBVFUTheJkktBXu2r9+fJve9Nt8hegYzDk1p8M3tu7E1On9jZ7Pabi
7NyesLBnum1TYqGKs4sWLSIoKIjr1/8jIiICQRAoUKAglSpVpnHjxtROcFXXi7ZIV2sGlB+uv/2W
OvDiAgxKLB8VFBRElSqWzwdz40ZOSpcuLdmYuwJ01Kqipy8/HRgWQd9cheylwMpwFUiT0FXgwgjH
jh3Dw8ODyEjDFX61KVSoELNmzaJVq1Zm9dMI9dXOV6e9Pzk8DwYnN53Hs3fv3ixdarrXkbW1NTdu
3NCoWvX53Wf8HBIqiVnH4hNnwJt2ZQmISMgJY6TQhTrOMhlN0gsM+DeEstaA4gkXFPnZ0diN/JMC
2davBUcvhuIscycs9KJGIRDl+MXaLOTutn6GJ8JwDp7Tfqc57H2Yvlf6sqXNFt7efovPDF+iu30i
fQ5JzDFpTYoHOFccg6/LXZ4PPsHIcvYs71YB2fLzzK4qY/25ULU1uPLg6HiKD3rD3WXVcK7ambCQ
4ARbXQkLDaFYp1XcXa8/jKxl58786eXFk/5P+Pz+c5LQTF3Czdy/ihH+6p5eTzJt+ixYyNKDB4HE
3HLKKrAAvl0Fjdx4Sn7/tTrtWpRPMp65tOg6X5X3avwftoxbKflc6BKf9AlV9/77h3XTG+K7RiR4
bjAHBh8wKX9bbFQskzNNxkf00cjBqN1XLsgZ+XEkdpm0kooLAnyD60LlsRkbO5YJtolFYD56ZGCm
mFiV161oUS7du4fVq1cM6G64OvnXRKFQMH/fviRVS+fu2csQraJbk7t0wbuNlO8wLj6etmWGI7st
VUvu9rIvhRylB6qxsbFkzZqV6OhonXMWLFiQs2fPkiePedVE1QtIvLnxBnmVmRzp8J6bT54g7tnN
yKFD6d21q5FRTOPW3bs0atMmWd5PgiDwICTEvOJTiscUrjmbB//q98RTx3/BApatW6f3GJvDFf8Q
irYvTsb8ya+KbA51/etydLhlU0hEPvxIpkKZk2w3FoaYPn16Pn/+DEDHtm2ZNNr8gkDarAwIYPz0
6arXyb1fzTk0J29mvQEM/yZqF7Q6tH4GfWZt5dSZYPKlg86d2xJ0+wU3g09hnVAEw6nQTwQH6i/G
p/wNr+dfj6M3j5oUyimKIiv+XaHKqWdpvkZlVXOw62NHzGLdaS2UmGqzucUitDl64QZ1y5c2ub25
x3LV3n/5vbl5EWepU4BPG/Pv29NINmk56tT4oRdnLi9fvsTJ6bbxhimgTx9/Fi9OXpGK+PgTZj/9
MIXKlf/k7NngxA23t8KedkYFh3r16nLkiO4QHPXiB+qvbYSaxIonEcO2k67lB15e+p3sVrEIQgNE
8bjOsaytaxOvVgVSQyCR9bdcMYOUcMpb8o5Tx8TcdNrExMRgZxeso0PymDcvlIEDBxoWwpIr1IEU
6jss3nAbU0iGUPfVUT9nz8/CBrXqv8NFmJ0O4mNStgZLV9MFZuSeQdRLyYt00L1BOBSRbnrPH13E
vjX9qNdmEjVajNJtSwKf+kaRMWNGkxJYh4WG0qFdU8SiTdk4qSUXFPkpbx1FscpNKRz3nn8uhuIs
q4Czgw3bjgRRzU3Gl4T+YaGhrJ01krlH73Fhzxa989y+d4+GrVvrvDmRC3KqeVWj/tT6yAU5vS72
Yqn7UkmM2VIXas8ERxlyuRxfX18L5r5KeTET5Y2LvhxqhsSoZ2EXWepTniJl69NlRKKHrkIUydC6
DTFxcaS3syNy6xadF7a+XQVGLY1kiv0Mjbl37dpFuqjjKVqXLkJOLGfkko8qW0JWhLC7x26NNrrW
69tVwGe1QmMNxo6NOsZy1QGq6rBJxly7Fr6Sh4w2Sluz7XZj6LJEr75KzsUJefKAGLWk/+dnzmTt
kSMIXzm/pz5OLFrI5fwFcC9alIv37mElCMQF6r4WUheSlWQU7Phz908AyFtcAsDayorYXaZ7VBhj
yrZt+G4IQHB6R8zTLKrt+Ryy02hPTpaHS6KIIAikS5eOW8Ep+52u4+nJg4cPU1Rd1dQHKMnh0pUr
/NKli0Wqv172u0iJbqVJ75TBApaZRssFLdnV3zJF4ZQEe52mkp/+QhKmMH78eHx8dH9XOebMiZOj
I9myZkVUKHj09CmPnujON9mhQwcCUhAKrkTd9qCgIKpWrfpV8us5y2Ts27ePpk2bkqFfBnrU6MHc
30xLIVJ7em1mtJ1BeeeUPzjSxhRh7GtjyvvLUJttRy9w+spdZg35Ndk2JEfk+3PuFpxKPuSvRqZV
VI+Lj09WYbL584cyYEDyIk8Mcfr0VapVM/7QOA2LkibUqfFDLy452NraEBubepXcUqrKv3q1G0dH
BwvZArlzt+HFC7VQLH8BakyFil5G+xoSDpVefEqxTinUKZ7twd4jAsXF5cQl7Ds+ogcdH7Tn6dYG
BmZLOG4HusG1NYmbvwdR53kwbKisua3+InDRXRgCgI+PYWlBg/YXKVKYGzdWkC6d+d5qHz5EUaPG
CC5fTgh/OtwXLieEvFhaqLOUsPT/TahTvlZHWVyimCd4puAG4coyKJeyMOWV1Vfy+PRjAMp1Lker
tYa9B5VhlEm8stTWWGZFaW7cuGGRi/iUiFoDvb3Zc+CA7sILSKJLzMcYpmSZoqryqSG4vLsHK4rB
cJEmTZpw4MCBb5r4G+DcxYu0695dr0h3Z98dNjTfYLIYNXtyC4adlb6f21arxmavESb1mzWsEB9m
STmpxC6+zN2TjYB5lvEe0kXxSgMoViwxL6y6V52IiK/oq3rt21Wgxe9LcK+dNK+PXJBTa1wtastr
G51TEavAL7sfIz+OVL1PIKlYd2zsMU5OPJm4/Rt50ymx8kjMCyQAIw644Nf4MtYKK+KtpHxcyhDp
oJs36dy1K817fB/pDpTVXmPi4rD/pTWd69RhXULV3DcBAWTPbNjL6l1UFKPWrsWpnxQeH1z4NQd+
epykXR4HB/LmyI5DRmm8+y9fEhEZSYQJXtdDPDxYn2ucyptOG/XvkT/++INVq1Yxetgwepop3B46
doxeQ4cik8kICQkxq68uBEHAz8eH9uZ6iBtAX3Gb5BA65QKlev2EfQ77FI9lDp1XdGZd93UWHdNY
xdeU8vTpU168eMHbt2/59MmKn38uTNGi5lbBNA9t269cuYKLi0uqFvJylsk4duyYKlJFVTHXjONY
yKsQ50afwymLkVzCySD74OyEzzGcW/drUn5ieS6MuWC0na6iHCn1okvuGG/eR5Iza6av5qFYqFBB
Hj5MuXCtZMiQ7cyePdti46VhMmlCnRo/9OKSS2pUCt216xQtW+rwWEkGxYoV4O5d/QlGTSEmJpbp
04MYrXS/f3cXVhQ3UyTRURI7AX0edcr/QUAUTzC/RWvmZe/LrTW6874kkiDU6Qo3/JYoBTdtTBG3
Bn8CG/35lNSxt09Hz57NmTdPd24OhUJB374zCQg4zJs3b7G317ogVh63QVFgq+OJ9vcg1J30kooz
lPoVmqUs12GqoWut6seu3ytInyvlxySZ/R/9+4hVNaT8jgWqFeCPf81PAv7uTRizhxfm5yodaN0n
INGeBF51fomTkxPVK1VivVry969BVFQUZatVw87WhpG/JXoPCQ/LIp7xwDdGStY+0X4igiAwOno0
kzJMYvQnPWFG/gJ0v8Otl/GUKlUK0F+hLrUYNmYMO/buBcCnC6qQU9AUjrb9uo1rm68ZFOr6LVrE
4v0HAJjfpzf9mjblQ8RTZg7JT658Zeg/+Zqq7dqAB3TpmDTXklIoU3TxZXKANbvX6E+wbClylexE
+fLlNeZX4iP64NtVoFWvNbhU0y+ILCizgDc33qTIq05XqOuqmqt4dOqR1LZ8ebhg/GbJknSdNVsl
aAHcWboEl279+WQXl5CuQ6T63dzUu5GXzPkyM+zJMKw8PInatpVX797hPXcuToWcv6rN2iz3n0Hk
Tc3qm6IoYu3Zkudr19BonA9XwsLInzMHj1au1DOKqiNyq/Gql+rn+9OXL2Rp1x6FKGIlCBwYL8fZ
0ZEcmTPjkMl4uOXOp4G0zOeBYOA+QTskukyZMty4cQOA/HnzMnHUKGpX1wzdOnfpEvJp07iWcAyy
Zs3Ku3fvjNpjDsrQypRWDFcKdBcuXMDdPZl5jdWIfhWNla0V6RzSpXgsbYKDg6lZsyYxeqpdm8K5
c+eoUMH0RPHnRwVRYXKVJNu/t3BJc9Bnu9Jjeeyff9K9U6cUz7N+yxbGTJZ+o7XvrZMj1EHqeb99
j+fTFJti4mKIionCIYMD245e4GTobaPVWY1hbiVWJUpxb8LeCYxtPtZo+88xsdjbpTyNzps3b8iV
K5feVFb6iIyMxsGhKVeuXJVSBaXxrUgT6tT4oReXUpycHHn6dIveaqumULfuEI4e1Z98PSV8+fIF
e3t7YmKOYmtrY7T9hAlriIzMgZ+fWohm5DNYki9ZooCLSzkuXzatol9KsLKqJRWDSIW8dCliRXFJ
4NQmR1no9p/hvqkQ3mhwrtKd4cY63XPe2QG7W+vvb8zOy4vg5mZofzxFZgLfv1edvvOm/t4c8hme
nIRtDVO2jn2/mSRYqnvO/bb7N0q0KJH8OXUw37s0b57fxLcc0O81LMwFDZZCuZ5YWVmpLrjnT5tG
84bGq7aag0KhoFrTpjx/ISXy3bFjh0ZeQW3Psy8fvjClyCCsPFaiiI9DWOuL2MWX6s28qN/OQGVj
tfM6bNgwZs2apdo1zdeXdi1bWmQ9cfHxVGrQgLfhiU/qlcdvVoFZfHiSmHR5WERPFo91JerDK6ys
bRBXjdFYK8DnmBgytJGq4A1q0ZzZPQ17T8XFfWFid3vsM2RjzNpFxEVphsHc2n2LTZ6bAHjQ9QHt
G2RLwWrNo0lH6cn1lXVX2NklMZyxT2gfnFxM85iQC3LGfB6DdTrjv9nXtlxjW/ttRkNgAV5dfYVj
Oaev5k2n7jnnkDETbzcG4NipM28+fFCJc+4Pc9L8SkGVx+gtp/dsqngPnz1ujFOMw9oz8T07SE+l
0q/BnF49EVp4sNXbm7ZTp6o8/tSx8vAkZ5YsvFq/jjxduvLy3TvcixXl/MyZescVBWvGI1X8bbOp
DWXbl9XZruHYcRxOqCwZH7jLYC6jkvvLcqvJNb37VXMrRMZbj9crCj958oSzZ88iiiIymUwjT+jX
wMfHh/Hjx2tss7W1pVTx4mTNnJn3Hz9yVUflb2UYoqW46BtMuWGu2GaxM97YBAIDA2mZ8F3s8tNP
BK7Xn/vMHFp06KA6Hnv37qVZs2Zmj5Faws7Nm5DwDCnVWPHvCrpXN5zPMmPGjHz69En1uoKrKyMG
DaKCq2uSthdCQ1m/ZQu7/v5bY7uh+2n149dwVkMODT1ksv3mtjeV702sC48K586rO1QqXMlguxHL
VhATlYHZQ8yr5qqL5HrjHTj7H40r/6R6bcqx9F0eiK8J1WRTSkREBA4OlotMS8PipAl1avzQi7MU
kZGRODg44O3dgQkTDCcvvXDhJhUq9OLIkSPUrVv3K1mYSExMDCdPniQiIoKCBQtSqZKBL/SlBcDR
FVru1t/GCJs3y2nfPvXWWbVqP86cuaophBRtkSKbLcKTE7C5duLr4q3hToIXplFxRoTdbcFjW2pZ
l4j6cWu9H5wbJ20zNzPEGggLMkVs+l8Jf9W3zrjPMEfNO1IZApuSdcy2l0Q/Hdzec5uNHpKIl1zP
ueTwzs+W2dfjJNGu7wvIkCigVKtWjTNnzmi0z5kjB780b07HNm0oVKCAzjHff/jAvkOH2H/kCKeC
gpLsP336NFWrVtXYNt5mPGK8qHGjPDHdRAQryYsOkuYs+xD+hH1r+3MrJPG7I7tTMRq2n04p95bg
byV9Jotr5jlp1aoVu3bpD2POmiULWbNkIXOmTHz4+JHHTw1XL7158yYlS5bU2CYX5JRpW4aGMxoy
u5AkWOkqbmCTwYo3v0xhznspTUCnWjVZO9xAwRoD2GTcxJg2vzHEP4xsOQup5lDOvT8gdSrr6SP0
2mNGTt5OzJcoVY48AOdaznQ9blrorSGxTV97baFOO9xWyTOr/CwTe5o8trnM2bNHlXfOWhCIDdzF
l9hY0rdug42VNXEKKQ/o+82byJw+vYbN8haXGLvXlU67O7KhxQZVDjeAznXqsMNnHN399Yteqcnc
PXvIZG/PfrkvNby8AVjcvx+91KpPK7Hy8OTk1ClUL1OGiMhIcnSQbhB1iXsAZMiAPDoxTYexc6N+
jGf17MFgNQEz4OFGOhYy78ZWLsixd7DHK9x4qpBvTXR0NNevX1fdpFrCW84QF8adReZdHpsMxh8i
G8PX1xe5XE7mTJm4+u+/xjukAFmtWrx7/x4vLy+mTjXwcEeL1BJ1XFwgQWdOFfZe2Uvzcs3N7icI
x6hSZTRBOn6zK1euTN++feliRkh45gGZ+ThfKqyWnGOZGsf/1J1TzPpnFjv67bDouCnB2DqVwlqB
EQV4PC1pagBz+BwTi421VbJyxmkLfKZ4PloiRDeNH4I0oU6NH3pxaeghNgrmZoJhcSAk31tQib29
PZ8//2O8oZmULz+ECxcuQtgh2K52Uf+tRRz1fG8AJdvDrc3S/6bkJvta3nTr3eHlJeOikaGwV/g2
Ql2OMtDNuGfDV2eWHQzVc7GxuZbkSafEEmKdWv/X116z8KeFql2pJRgY5Om/8OUdFGmO6G9NvKhg
4lXo6RNMviJJq0M/fvyYdevWsWLFCu7fv69zyGzZsvHLL7/Qpk0bmjRpYnD6i0svsrf3XsYpxiUp
JKAejmZOYQGAi8eXcmjTXxDzgX4lYNYNyOvsTv12UylS1nBYfkREBBEREbx//56sWbNSpEgRk+f9
HPEZv+x+Jnl1yQU5V/OF89P0yvj+ligobJjVgtuhUuhs446zqdxwsElz22TcpPKo8+0qIAhWsGYc
grXAlUa76d4haeW1pp3m6Bwra+FSbJygKby07zqHj9o1ZgSBv9cN0mtTr+GLuXbjHrOyL9fYbuq5
FEWR8Vb6PZ20uXvgLgFNApIc/1GRo7DNqBaCExYGzs5mC4GmoO49t9lrBG2rVcNtyBBC7z9Qbe/V
qBGL+ydNaG3l4UmlB7lofK0APgof1Vje+11IF2etYWemLFno8ZXFulGeHuTt2QtFwnW0YnegSoyr
6T1SpwB3+sYNanh5awiS1p4tEUUx6XH48AGsrAhoG8jdA5J3+7g46T1sDIUoYpPgdTioRXM2OPrq
zU1nDLkgp5ZPLWr71k5W/x+NC2PO4jqmAtb2Kb++dHBwIDo62uTCHTVqV+HU8aTikZK4i9Owch+B
scxrxcqXJy4uTsML7NLE87iN0R0mm1pCXWqnxWw0uxEHhxw03lCN4sVh1Sqobl5xTr1oe/RtOr+J
XyuYX/QgNc7B9+ZV9z76PVnTZ02y/c+5W3B0yMyIzonXUCm1PbnCWfC1+1QsWySJ2jJ211gmtJyg
s09K5kvjhyNNqFPjh15cGjrwF8BRBp1TnsBYm5w5c/DmTcorbKlCXZV8T3np5maShE4lFb2k4hvm
eIJ9DaHu5Ag4P12a558+cH8P9NZzE2IJoW5VKag2AUq0Nd9WdYLkEDwF4r98+3Oti/t7oYiBp8/q
x7LUb3BzIwyNBatkehU8D2ZCwUMo4qTPw6ioUdhmSHkOjxSx+qfE0O4zvtI5a7WHeUuG8/aFVDU7
SUGKFPLq6isWlVtEpUGVaDwn0Sv0Xdg75hSeoyFI3N1/l2JNiukaxnTUPqMnAidwYpcchSJRdcri
kI/qzUdSsX7/ZE+hLfrMzDeTj88+amwr278/Nx4/oVrp0tSflh7PVZ7IuskMjvvq6TWWyysR8yUK
a2tbunofpWCJpHdU2Zy28e5lG9XriekmEh8TT2Q7X+p66Bb79Al1AIKtI/tWJQiIinCadtGfxP3v
9frFxCYdZ3Ng8AGC5ybemJsjjMkFOdW9q1NvSj2T2yvHD5oZxKHhh5LOqXa3bAmxLsdvHYmISvRi
VgpW6qIdQOTWLWRIlzS3l5WHJ/VdXDg0QQpv7JH9L1ZWlz57PnvcWN/qEZ12SrlTfwn4hZ87/AxA
5mzZ6D59RpLxUoPulSvx88/SvIOWLGX+vn2AtNbyQ4fx9O1bXr57x+V5c/m5UKEk/f22b2fkmrUa
Yt7hy5dpOHYc6Wxtid6e4JGePj1ERwOa+Q3NOT8VD1fl6qK8fImNNSmEXBfvH75ntvPsb/MA5Tvi
3a0IMhfOgrVdykW6jh07snHjRh7oKbjRsaKM0zFw/4A35ebl5r8JxSjaYhP39v2ZpG3o7FYMjvfl
SO2DWLmP4IMCslnFUMv/BieGu+gcf9GqVbyNimLZsmWA/kISoDuJvyVIbaEuWd5rFrZJlw2z/pnF
0AZDLTJWSvnexDr195oIDDQgcCXX9pSIZvr6GrNl8KyNzBma8nDdNP7fkybUqfFDLy4NNVaVgfAb
X1X86NevHytWLGfQoNa0alWTqlUT8xVcunSbvXvP4OOzknbt2rF58+akAywtAB/VytJ/a+FGV4VP
9e19X0IGR9PGSc21HBsMl+Zq2mdoPksIdabMYypKe/LXhPYnUj6epQi/AdlNSDCrfjx7PTJa3Vcb
9YIQucrkol9/X6lIxffE1nrQ9kjia+WafzsNeRPDVLcuaM+1c1sAaN13Az9XNu8i7LTfaQ57H9br
YTb82XAy5UlMEh/4RyBVhlbB8WcTPodGEaVwWBPO3duXdzi9z49LJ1Yk2edSrTPutXupxDK5lRxE
TSFBKTgCqrDFe8uWUtgpMbRYLsgZHT0aG/vkib6vnl5j4SjpO9jOPhOtBpyg9M9uGuMXb1Kc+z9v
xb1cUuFEH+rinUqAU4Rz42M2SmdN9Ft5uGczfTdLuQbLdPydGU2y6Byv44A1hEdEaIgug+4NwqGI
aTllzs4+y8GhB80W97S96mqMrkHdiXXhzh3IkwfUihGsqbuGsGNhJs/x8NUrCqtVX/2lShW2jZTC
QLXFOb1hngltp3Ttglfr1hrbtPtPyjAJUSES/yVRXB6rGIeNZ0uODhvKrjs6cqtaiP1LlnDrgu5q
zkpbd44ehWelSqRv3Ya7S5dQ4Pc/eLluLbmyJvUU0SXYAWw9fZr2ftPIljEj4ent4a+/oHRpIp9H
4p/XH4AcJXIw4JbxYigbHm2iQ8FED543Hz7g2KkzANcXLqBU/vymLR6IjYplcqbJNJzRkCrDkxYd
+JE5N/IM5SdUxsrGMpVCBUEwWNynY0UZK86FEHR3EwNX5VEJdQ3DAxh9OoRHUxsS1usgHXIKOMtk
hIWGanjU/eQq478Qw8WDnGUylVfdq7MvcKycW2e72tNrc/yv48ldql5KloRbtyw+rApzhRxLi3RH
bhyhyZwmScIiUyKOWVpYS65omFp4b/fmjwpDmbvlsElimrnHIyUi3bwtRxjYTvdDsi0XttCufDu9
fZ++fke+XF8vL24a3y1pQp0aP/Ti0iCxWMSQL2BtmYS+X4VlzvDhYeJr63R683WlPgk37Ooob96j
nsPivJrbDLFWJoV1NktZ1V6D47++nGhLyDw4Ouj/p1Bnztxfg9nppM+RMbRDtQEGfQRbw1UH1YWJ
sbFjNW92vmbxEVPRtslfkKoKz82o19ZXT6+x1Kc8cbGfsbK2of3AHZR0TZroXilW1p9an2pemh4M
n15/Yrrj9CQiSeTzSHZ23UnnQ51TvjZ1/AWLFK959fQai/JvQ2yyHHI90dinr9KrOuaG8xri955n
WbWsMvvXDyb4n7kqG5KTm06nUKcTkaadpLlyNWjNmq66xY/Xbz/SZdAKndVfTcXcY6XdXsNrTs+d
qSmedcqQTSW3lyymWJ48jFyzFr/tiZXllXnZ9GHl4UnbatXY7DVCte38nTtUGp7oOZTezo4R239S
2bTUfSnPLz1X7d9X7hGjy3vgucKTZ8+eMWnHTmx1eOulhCWDB/GlfgOjYiNA3uzZebJ6FUsPHqTP
goX0atSIpQcP6u2bu3MXXr1/n2S/egirerEI/7z+RD6XvBb7Xu2L40+6xXvHwHwGQ14v3r1HhWHD
koxvjE9vPjE913S833mTLqvlK55+b5zzPkOFSVVMCjs2FdOEulBKyWRkajZbJdRd9Iqk88lyzP+1
BDmL/UTZBJEOEkNfi8lkBF0KxcmIpqgU6sJ23sO5VVGdbeIUcfRb34+lXZYme636OHMGtFK0WhRz
RBxBgPh4sLKMDmtw/vNh5ynpVJIs6XU/0DHE4/DHFMiuOyducvmevOoGzAhgwa1OJtvz8sNLpvw9
hdm/zjZp7JSEnxrrH/Y2DOcczkm2333yimL5LfGANY0fgDShTo0fenH/88zLKnkltdrzrS0xD39B
EkRmq13cfiuRYl8HKXxRHW1xAsDJHTpdMD5eagouusJv/QVouh5K6/nhvLsLAlvp3qfEVHu31gPn
RlBhhPG2hvAXoN5CONIP7LLAwPcpG89SmHPu1MXGAnXh8VGdfSdnnEzsp1gAmi9pjnsvPQm+FXHJ
D59NTbRz9imP0ZY68Pi4ScdL3dMLJMGobLuytNncJknbCXYTsLG3YeSHkUn2WVLISsIpb7i8BAZE
JKu7LlFHKdaM2+OKkHBdUrRhUWrOL8yVM+v5L2gjn6MT3/vKCraZs+WllJsnJVxbULyc4Zx++lDP
T6dun/1UO8rlf2m4sxhN085Jb0gNi3TwaPdm+myRPOoC1w/GUAB3k46zUyzUmZszTP39c3ntZXZ1
ldI4+CzJA7166e2jbZvHhInsPa/pUaYUlzK1bcenL5LYn8fBgadrVhu0qb3fNLaePp1EnFKKXZnT
p+djdLTOAhM+og/Bc4I5MOQAIqLqPaZub/YcOegy1Y+Ucv30abbNnUOWLFmIiIxky7+n6d04abEI
bftBM+z39pLFlOjdx6jQF7ZiOQVz5UqyL2eTJoTb2qnCguNj4pmYbqJqv/Z7aN/zv2mcuxHWJubq
VS9GGiBjZQAAIABJREFUYchGdZTnoP/1/uQsndOkPv/fCPY6TcUpVRGsLCfSAfz111/MmDHDoFiX
mnjJ5ZQqVw5fX1+DYa93X91l8/nNjG42OlXsePsWcuRIlaHNEqCsrSWhzlL0WNODg9cO6i168D15
1Y3aOYrsGbLzZ6OkYdVfC59lu4j+Esu0AW2pMqUKQSP152LUptb0WhwZfgQbA9eRW49coG298pYw
VS/6zsvYJTuZ0NvIvUga/yukCXVq/NCL+5/lySnYXPP788AxRmykVIFUmYRfybdah7anmZWNlG9M
SdhB2J6QL+tre53pGlfbDkWsJKQYmm9eVoj5YHhsc+y1xPq0q9B+L+9jc9emJ1T6sPdhTvudBqCa
VzXqTzVcrCDZ838NPjyEsANQrnfiNnU717rA6ysm2a0uMIiigj2remmEkgprffnzzWAy5kgaGpGq
Ip06Zp6DD48/MKvgLIY+GkqWApJngFKkeLpmNXkcHJALcqxsrFDEKQyuQdcaY2OiuXJmHbdC9qgK
SuiiYPFqFClbH/c6vcicLa+GUHdywkmOjTtGieYl6LC3g1HBTZdQJwh27FvXV3+f+I807bpSapu1
CPsWJPWiVKd+u+kIcQKTMkxSbTP3/FrCq84HX15cek5uV93hbsp2W2qEcSNbuMZ2ZYiqsnKrkluL
F1E8b16Dtvhu3Mj4jZt0ikGmhMqqf5bsW7WmzpXcVL6f4K0goLryU65XEAQGL11m0CZdXD1xgh0L
5pNVK2Q126+/8W7TRj29JAr+8QdP3rzVWMPW06eZE7ib28+eERcfT/hG3Z7nSsFMp1gmCDx5/YaC
f/yhGlsZQg+QpUAWhj6SwtiMedMZYsiyZczds1cjV6AhlF7Cf73+iww5MyRrzu+R5yefkqdGvpQ6
HOulWLFi3Lt376uLdc4yKReo8h7w0d4wCjZ31tn2yI0jvPjwgo6VUicRfvv2oCs7jCUwVdBKjVx5
xubO0C8DnxZ+SrXxv/V4pvLPuesEngxJ4qlmdtiygfZR0V9Yve80/dvUTbadpnjj6bMhrZBEGmqk
CXVq/NCL+59DWc31e7uZN8aVpfBP76Q53+DbhOxGv4aFWi7YPe5D1sKa25R29nkOGfXfyCXpY8nz
8yoU1rnq9przF6DOHHDTX2XRaNgrfH2hTjlO6/2wvYn5NqQGV5ZC/hqm5ahTkRgyPWHEOBQK6f8U
FYT4XsW6x8ehbNfEbevdIZ0DtJVujnkVAuvcoPcTyJRPo7tckBsULKflmEa5TuU0ikgAnNw9kZOB
E4lfORKxiy8AJVyaUbnREKOVWlPE7a2w91cYpt+1YGu7rVzfep2ux7py1+E9DceOA5KGzskFOc0W
NWNf333Um1KP6t76y+hZUoxUCnWxMdFMLtMR7rmQadAS/r6YlT/76veE0mbv8o0sPJ6YP1GXyDe8
91xuREnv2bYje/F72fRGxz19IxMTJ05MdnEAkI7XmM9jsE5nmreUsqqy+jyBQktCcdU5t1Iws7O1
JSZWeoCjFG3UwyXBdO+r8kOHcenePZ3ts//WgXdRUdja2BAbF8fjVSvJZ8DNRi7Ikbe4RM4sWXi1
fh1yQU6Xw11YW38tANbprIn/Eo+VnRU+jS6o7GzrKydw1kxsFQpKVKqEUyFnoiMjeXrrJvcuX0Zw
dWP08GFM6Gj4psrKw9OkdSuPo3pbKw9PvFq3ZlZgIGemT8OtqO6Qw5D793EfMjTpPGqqgvq5OFVt
hEqwA8tV73385g2F/uiuWeTCAONtxiPGi//vC08Y8jKzNMrvzS7t2zN+ZFKPaktwOjiYjr2lh07q
937G1rnx3EZyZMxBw7INU8Wu1CwoYYrY07MnFCoEY8Z83XnNaacP2962xC6JNd7QRL6mWPf3mSv8
feaqXgGr26purP59tVlj6rL/yasIQm8/onl13UVVTOFzTCyvIj5S0Cm70bY+u32Qe2h6zKcJdWmo
YZZQZ8FI/DTSSEX8Bdjl8f3dxBsi5oNkd+mOiXZvqJy4P1O+ry/SLciRVKQbLiYV6d7fT/zfVJHu
3zGmFZswldnpJJGuc4iO0NaE42lIpNMmi3OyzNi4cSMZM2Ygf34nxr7rwsWLy7l/fzP372/mxIl5
DB3aDnv7dJQsWZzz53UnGdeJs5owEyTX3y4FlC1bFkEQjP+59EbIUSbJ9uLFi3Pjxg2dY+/tvQ/5
n77I//SlbpOj+MyQcoClqGrrgAj4b1Xy+6cGWQpBkJZHSaeLUgi0Ugh2dJU+R+lzSts+S8UC5FaS
+KRPpJMLcnqe75lEpAOo6TGGKo776H+jP75rRHzXiHQYtpciZesTGxPNyd0TmTm0AL5dBY2/BaPK
EnJyJXGxycx5WaKtJNL5C5LXqhqiKCIX5Niks2HVH48pMnMwz96Go9gdiGJ3oIZIN7uQlC9mX1+p
GqYhkc7SzJouFZFYX28T3JMuzofPeYZDNvM8fZr3MFwcpGXnOSqRLpd7bZNEOoDnz58n2TYtxzSz
bAOYaD/ReKMEcpXVCqUUBK7YSqHoSsEwc7v2WHl4YuXhqSp8EBMby8ctm/HZ48b5szew8vCkwrBh
xOzcoTrvxuizYCFWHp5cmDVTrxfduyip2nhsXByK3YEGRTqAGW2vA9A/QKqA7CP6sLb+Wv58IYVu
xX2Jw0f0QRGTWKlSLsjZfukSVfr2I7pOXUIOH+bQ69ec2LyJu6GhiKLIkqlTmLR5i9E1KXYHJvH+
09dOucbzd+6otnm1aU1MXBz/hIbqHce1SBHVPOo5/xBFSd0A3IsVVZ2HGqenIW9xiZBqH1XrnZlv
plEbjVEgZ04UuwOJ3r4NtyFDsPLwpL2f/vfruLhx+Ig+TEo/Cbkg58sHE3Kffmd8TZEOpO9WURSx
Sp8eZ5kMZ5mMYu7uXLl+PdljRkVFUczdXTXekDFjVPOok87BcI7BiE8RZMvw4ybBX77csiIdQHpb
034LUsrEVhN59dFyxbjW/rGW35ambmXSiI+fGDAjgKZVyxkUr1b/vhqhp3murOIyEdl4zcrx/hsO
pkikA/hz7haTRDqA8XuSeiAXMLFvGmlok+ZRl8b3zY0N8HfH/18CndKDruVuKKoVAvUtQ161vcsy
OEqVXA21Ndfb7I9b4FAiefaZM7+/IAkoPcNMG8cQOuYQBIGoqENkyGBvvL8OgoOv06zZKN4khD7p
tGu4COE3YVVpvXaYS/r06fn8OVGgCVy/HpeffjLQwzDXb92iU58+hEdIucusra0ZGz8WgMz5MjPs
VgdYnCexgyXe03PSw+DolI9jaXR6+4lJKqfOcJpB3IdwvCdOgRpToaJXkqGU4cHGPE788/oz/Nnw
ZJscF/uZmxd3EXJqJff++0dnGxubdBQsWYOCxauRr0hFCpWqhV26jNLOS3Mg7jNU9EIuyFEIIhOa
hwDGvajkghyvcC/8svtR0rMkv+761Wh7S3jgBGwKo+OvzqoxlTiO3sGKPR+ZMMLDrPH0FZMY1W8u
oR+k8+45vDu9XQ0XU1HnztsiDBo0KEV56kRRZLzVeLP6vL7+moVlE7zqXFzg8mVc3f7gcn7pe+rl
urXk7dqNeIUkbil2B7Ln3Hk8J0qCYMsQZ1yeZDd5zpi4OOx/aW1S8QUAezs7Pm3banTctlP92H7m
DIrdgapjOPLDSOwy2yXxrFNWGfbZ40aJ5iXoKGyicv5inHt8j7F7XZG3uKQzR56pXoKiKJpUgEG5
TvV8e8rtkVu3kKltO87OmEHFEsV19r8SFoZs0GBNu/S4IuWYXoGIU3nJ8tmOof9I3//qIbGWQpe3
oC6ub73O1nZbDecp/Y4I23Uf55ZFvrUZhIeHU6VKFW7fvp2s/jY2Nrx+/Zps2fSLbJfGn8NtXEWD
48z8Zyb1S9enXP5yybLDGN/So+5bhLyqoxAVBIYG0so1+fnL/j+FwA6YEcDkvr+QJaNpQma6vun4
ssg8ob/X2l7M+W0O6W3TW8STTSGKXLv/lJ+LmlYdu6BXQR75PdLY9jL8A07ZzS8cksYPSVroqxo/
9OJ+bBJugJusgTJdvrUxpnFvT4LXn54KiuqiUfNNULL9VzMtiWCVvya0P6G77cWZcDxBHPhWYaHa
+fKSO5eZQp2LS3EuX15pgpGmY2VVC4VCobnRX0islJpC8fb169c4OkqejId37qRY4cJGeiSf5y9e
UKWx5P3Vo0cPli1bpml/w+Xwc/eUT/Q9hsAiwp520EKHkOAvMH/ZPN7eesvoT6OxSW+jsY8izVVF
b6bnms7PHX7W6UWnzlfLS6eHyPcvePXkPwJcTjLWbwJWJzwomj6KjvZHjPYV1vqCICI2W4qwt7cq
dNdYH1PaqZMpa26yOOTDscDP5MxTirzO7pSo+EaVn04lhGWOwG1ONB5/LDWYo65ppzm4V/6J/r9V
IbNtPO36rdS4iFD1jXtE02479a8lQyn2LdUfYtug/QxsbGxSJNSBtL4ao2pQd5LpeXfkghy3vyvh
uWgRADN7dOe9ZwifbePxa3wZ+D/2zjMsiqsNw/csKHbFXiOWWJO4Yo1i7wUwsXeNsffeWRZ7wUJi
iSWWBHsDNEbF2I0NRBNLUBFjjVGxCwg7349hh122Lwsm+bivy0t25pwzZ2Z3Z2eeed/3QRaOAJwU
Ct7v2a3XX3AS8EnwMbsdhZc3h2fNpNGnnxpdr62BpuXppkBcc1gndqYU0rTH0XudN8o+StSCmn4n
+7HWY60s1GlFPe3rGT16MLVTRxRe3qhC3HFycWJa7DR5/IQ9u1FYYf9oi6inFba2TpxAx7rJ0VqT
N2xk/q5drBgymAU7d3Fj1Xdmx9Drb6QC/penOrKr7na9+oEDjlegyIts1BpRy+K5x1bqTZzEqWvX
TJpgaEmITWBWVqku4z81LfbW1hvkKJGDQnWKWG78gXGEyHRBdZbq6lpm2/gf9Kd55eZ8Wsz4dzm1
9OwJP/yQJkObFZ3u3IFateDRI8dt76+Xf1F4bGGH1Vazlk1nN9GtVrdUjaFLo4WNODLuiMPG810d
xKu3sfiPTJ/7HqG/wIhKm1g6OvXRgfaIfetOraNv3b4A/HHnEeVLWpmZlMH/AxlCnQ7/6Z37z+Iv
SBE1zvZFM6U7/oKU8jbkb9NtNnwKT36X/i5UHXrYkCKZGlYUgrcpwuItCSD2RNNp+6VGXLF2uztb
wcto6Gs8JVMmuD3c2KW/rPpYuOCvv2ysSK5cOXj5cr9N07WVYsU6c//+A+mFvwC1p0HdGZDwTjIl
iLkhz8daBEFgcN++TBxpoUA+UK/h55w4ar2LliUSEhIoW706z58/J/canSf2nY9L9e5SS3B78Npp
uV168v41XFymFyWnVkhmCdPn+MDgR5CtkNGu17ddoMLdGlY5KH9oke7N4zc0bDaCsJJPZNMA7hyC
Hc0tfj51C/2rBTVf/PAFn/WwHIlh7z4/iA4jdNskoq6E6i0XfveA8OSUY5Wo4tSpU7yMNh2xpRs9
pzeW4MK+HwYlL0ilUNeq+xI5Ik6X6oOq02ZFG5P9UvKr/68cHHfQquOmFYkUgkBCcBCIIvm7d+fZ
q9e0/L04hyrdJ1GR/N6aE5+MucECPHv1mvzdu1sUrgQvb/lKVRAEEoP2WJy/7n4YG1/XUEElqtjQ
aAN9c0rnf1WIO11DulKubTn5OKhC3Bn7cCy5BujPN6BsAHuF64RWvG+TAGdt2yK9evPX8+eA4TGu
NGQo8/r0wXvmTAa0aMHKoUOs26aOYmPOQEK77yNDK5PnnUuanGNyderM69hYDs7wo2kV0+lmcS/j
mJt7LgDT309H4fzhK/Gkd7praqlTB06ftr//pQXhVBnvbrHd4kOLaVyhMVVKpC590BQ6mdwOx5wI
9qGj6bTsCNtBh2qGLvC2UNWvKhd9LqZqDF3yjszLtRnXKJTL+PWMtcxav5dPShfDu35Vu8ew55gO
WxjIsj96pFoAvXH3L9yK5CeTs3W1YLXozjmjPl0GKbDpbGfaxziDDNIbfwEy5/oHRtKYIDFeqqNm
zXy1Ih2kn0hnLJrMWpEuvbFFHIz+2bp2KUU6gAYLDYS6zJkzEx9vPEpIEOojiseT/j+MImtvrr7e
RAUnUAj1SXigZuETDyZ8mgnx2X6y9cvEu93G65Hdv7+VdevW0bev9JSNO6GSUOecVRLp3EdAeEBy
XT4LCIJg0SluSDN39scU4/a5FTzI3t5oGzelUh6nYq+1XNvYz+i6lDg7OxMdEUGePHkQV30EL5NC
/R3lyPzGsI7XBydTDri6EWpOZFbWWSTEJujc7E6X6j9+/AU004+IUQtqSjUpRYVQraGMAhCNHqfg
fsEfVKTT3sw/ORlI3pw6EU4lmyU7Vpt4f98+kRzsVKKKA6MPAFgl0lniyrnthG6bRMzfybUzs2Z3
pePQbZSu3JReE5LTerVGEimj1QDq1q3LfjNCnUVHWHkjH1nfNgW7918k9k0vLp36AQFfqHgWrkkR
LRdWXrBJqPt87OccHHeQhHcJ+lGcSRTt3YdHSWnrsqhz5w5F3ibyl07K6c+f3AOgQ1gp1l2cRfaC
2c1uVyvCasVVURRx8m5HRMBSs4KVtp32V+bmqu8oXdj6SANzgljdiXWpMbQGc3LOkefV12sXqhBJ
iNjsuZnSTUtDUsbV5FeTmZNzDoUb6NctHHFzBCOSthUVGsUPzaRQnwaqBjT0bWh025rgIHJ26syr
bZatKx9u3CC7uqbcn6vLl3Hp9m0AJnXsYHZ/NcFBZPmyPRWKFyciSekYFjbCrMurdqzKzftxLcsT
9lbpR9vLHzn0fPMy6RiE3byFwsubxf2/ZqSnoQuyS65kofDSxkvs6b2Hcm3L0TUkbetjmeLfJtIB
1E3ldJ2zWCc+5M2el5i3ManbmBkEAfbvh1at0mwTBnh7O16kW3NiDcXyFLPcMAUdqnXAb6cfbdza
EBMTg6urK6VLl8bV1dXqMS76XHRoyuqzpc9SNd6Z32/x489nHCJQqTxtOz8tDDzAopGd+TZTdxYd
WsSYZmMsdzLB0q2hdu1DuUIOKAGUQQZkmElk8E9gw2fJN3/DX3zo2VjHsnywu43t6ZfpJULaI9LZ
2xbgxCQDt0ur8RcgUzYrxTfHR1iZEum0JLyUbnxa5mjKm3ebqJhZuunQiEdxKqpiwqfWmyeULPky
+cWT35L/HitKIp2Wu0fNjrNu3TrKly1rcXs//a3h9oUQ+XVC2HzK9fkR8WkIZXukNG14Q+zVIHo3
cef4G4tDy0RHRCAM0K/H4RDBt+vpDyccmyEsfiP4C0x5PcXwBnfIY8hXSaqtmYRWNOgVqpPCP1Yj
vef3T0r7eHWjvOrO8Tt2zSsqKoqwsDBCQ0MJDw/nxQvrz6WPH8fIJgLawvR6Ip0uY0VYllf6zqdg
QYEFTH4pORaeWXLG5n3w6+usZ4yxSlWdmL+jqFyzIyMX3pJNNXw3iExc/syo++2Kb2oYFem0zA5I
28hZS2TLX5UvBmyk2NVV0oJr+mlnG+c3s3nMWdlmyX+PWr1afi+Pzp6tZ/ig8PKmau8+/JVV/9Iv
fvcuni5ZT+UHriwstNCqbapEFc5ZnVF4efPDkaNogoP4zM3NZPvJGzbi5N1Ofq0JDrJZpLuelK5r
isw5MsvfyeL1JcFHm+oKEBUapdf2i9u9qZxQALWgZkGBBQbjPSwWh0pUoRJVNPRtyBGfI7JAubHp
Rr2i/Ev6fy2LopYY6enJk8BAeb90qVKqlHRsvu7P+iTjhrj3xstAxO7ayfnFi6QxRJEdf1p2ZAW4
cnAtmuAglK8KofYMR+Hlja/ga1Vfa9GaXHTy8EDh5c3kDRtNtq3SqwoqUUXXkK7MyDwDtaDmz5N/
mmzvaK6t+v1fJ9IBfPSR/X3PTjhF5eHWRcjlzZ6XZ2+e2b8xK5hoWMo1TQkOdvyY/Tf2596CeybX
v3//ntKlS+HtXQ84offPp30jqlV7S9OmLlSr9hZX198N2kye3ANBEAgLCzM6fuyKWOb9PM9h+5O4
KhHFANtlgmELA6lVubTDosh8vXxtMpX4rGxxMmeSHlypQ1Jn1DZ3iHWRjh4eHnpGbJGzIuW/l43v
YWDUVqTIPz+1PoN/BhlCXQYfDlEj3aT2ivj3RNGBNOehT6GD8eLsegTkTPv5pMRekS41osi5edL7
aAtikrOkoIARVipDwR2gcYDldg7EOVcxRPE4B96IZAUEjSSACEJDxLgNdNn6xOqxPDySarxkKwjv
U+zz0KeQuzQ8joBt5mtOHT58mN5dzBfnNxUNJygEE4HX2XGp2YeJ7ctw/GaC2bGNUrhG8t/KoY4R
2bQRXP8AIkMiUQtqXj14BSNeI1z0N97QfSREbifx26KW0zmLeUj7WKkXLJYK4Q+/2tegWUJCAk2a
NDHr3NuoQQP69uqFeto0enbrRrFixUy2LVKkCJGRkWw7eRKFlzdNWo+22sETgKHPoN4cvfdGK45l
zpmZswFnAf3UyHdvYghZN9DApTZ02yQ0GqnGls+6BD0xboD6Aq4FrC/qHrAskv5flZHmkUNy1E5Z
vH73vlNWj5cWLFkiueE+DE+OGNU9Th37BfMgOkw+PnMH5SH2nWnR1Ufjw+Oc72RxLk+OHPJ7Wa5Y
UQAU3t6yIDS4luQ8XvrvnHI7ZycnXEsnR2+YEzq15O3ajTltLuF/sSG3mxw321bXtTSTk5P1nzOd
/hO+/FLeH0uoRBUP8kjRna7vXOTacyk5FBHBhG+/QiWqePv0LWpBzZ1jklCu7t6dehP1xehGfo1k
4a5XaC/insfh5+yHWlBzr/lpivbuY/U+5c2ZQ09ATYkmOIi6lSqSJ3t26k6YSLYOHY2Ooz2eWYc0
4tLHB6V8SCtZHSUJub+4j2Zhi99QeHnj5TacSxsvGW3/9u1bMmfObJ2TuCAQGxtLEVdXNMFBqLp2
QeHlTeGe5msOT4+fjkpUUaBiAVkUtUa0W7NmjdXzSvmv0sBPEQSBkiVLEmOl2PpPoGRJ+/pFzLlg
kzCZHkLdb79ZbuMo0tK8wvj2BOAEmTKdISpqI0FBs+0aZ86cgYjicapVewucwMOjCleuXJHXuzi7
MGmn4QM0e1EICpwV1ifezVq/lwnfbufbcd2tMthJC4YtDKR5rcry6xcBL2x2jtUycvFmcmQz7Yg8
ffp0+RzSrV07oiMirP63LiBA7ls3taGxGfynyahRl0H6E7ldKso+JgEE2/L+PzhLXGCUDQ5E6RlN
JybCohQ/qj0vQkGl8fYpsbc2nbavLf20NfvGJEpCnTVo3XSt3U5KgUfbL8VyxXgBjcaEsYaDmTXr
OFOnToWVRaXUzpT7ErYIqo2R5pjFFQb8KaVbGsGa1NeUJITNp9v1Hmzrbt0NrzW4KZW8e/eOLFmy
6B/bT/tJAlTx+qnfyAc0l9jeaTtXt181FNwenZdMTwoa1l5RC2omv5pM5u+sTI1Hv0bb9VXeVByY
/Mj/xL59lChmZ8SqCURRpHG7dty+IwkTc+fOZaI9YQ0bldw88ZbANd1lMwhhoy+ioMFjSxxNO821
ahhH1OVzzr4FP6J4/zY5Akmbpqkd27e3wMxABSEbhqdqW/bw05515Mv2EtX6RPwUM+Tln3T5hN+3
JJdHMHYcXj1/wNKxpUlIkH5//GKS3WtVIe5Mj5+OIpN0Lu00bx47TiUXr9oxaRId5s6laGws9w5K
KcnPbjzjm3LfGGzLVP05LcZMIgJbB3Jz/02jfXRFKFsFOm3/sCWLqVraesF2ysYfmLtDii5Thbjj
nMWZqe+mohbUnK7+lENF7qAKcSdoZAzhScKploAyAcRExeDk4oRP8/N2iYqJu/ewvtF6/jwhCUzN
FjSjzjjTApol99TcnbtQtXRpjl+5wv0N6yliJCXO/WBNwpufk6JiQ4LtViLUgpqZbS6SqBDpeeZj
1j9agMJJ+lwd2LHDqkhuLVf/+IPWnaXi8br3GpM3bGTezp02Hdu9A/cStkqKJPLR+NCmTRv275ei
YyuUK8fP27ZZPZY5YuPiqNa4MW/eSA/SoqKiKJWGBk2p4cwZqF3btj5Xl/9GpSG2mULcfHyTbRe2
MaX1FNs2ZgNpJZ6lTN8cPlyKRBw/3rHbefjiIbmz5iZbZimVvkOHDuzYYV95BHvo3n0FgYFSJH96
u8COWLSJGhVL0bPV5w7bpjGKjCvCw4WmS6KYqwVnzzFZv/cUfdoaimjZs2fn7du3RJ47R+bMmW0a
0xRuSuk+7T+uyWQgYZNynBFRl0H6oisG/dtEOn/BQKRLTEykefNmCIJA06Y1mDSpBwMHelOlSjkE
QSDwUtLTmPQQGVKKdGNF20U6j5mOnZMx4l9KIt1Y0XqRDiSRzstI3TljRP9s9bAajYZy5dK+0GuO
HC0lkQ4kUdUYWpGuw0GIjTEbkSmKIm5KJdciI62eg3O1CQ4X6Y4fPy6JdCl5+zdsbeCYDQ196phx
bCB0UihqQU3NoTWNixaFa8CP1fUWxb+Kl0WhzDkyWx0RqO3z/PlzBEGg4sBgvaevjhbpQBJ6jwQF
ydvYtHEjgiCwYIFhCiBIdeKWjiujFw03b0he/Kd1JXBNd1QLffHdIFIicg0Avhq11SKdI9EV6XTx
7S3w/UwPfDeIJCQkkpBg4juYRvQY/j3fbH+B7waRnwNHy6JmSpHOFDnzFGVLlq/xi/HCL8aLxKA9
rKn5FB/XYKi5H+f2X8hRdVqRzrOGFOV6/sYNNMFB3PvyC3m8vB/nNbod7Wc9ZVRd1vYdKNijJ5rg
IAMn1+4/dafl0paoBTVxL6TfyPtPn8oC1IAWLewS6bTRV7aIdIAs0gFMeDKBhNgE1IKaxZ2v8TL2
nbzOe6mh4DXi1ghUokqKPAbZoMJa/vphI2sPh9L3eF85+q7OuDoc9T0qR4i9fvhar4+5yDqAF1u3
cHSOFIUzZPkKvRRikAwkwpufk8dSeHrZXZ1fJap4v3cPP5UazA9PFqNwUsjnCFtEOoBK5cvLfQVn
IChcAAAgAElEQVRBIFMmqUzEnN69pHl6eZO3q3VOlW2/a4tKVHGn7x0UCgVF8+WTx3aUSAeQxcWF
K6dOyWOXKVPmg0UHWcKee/q8n+WzuU+hXIX46+Vftm/sH8i33zpepAMoOq6oLNL16NHDjEgnIgj1
EYT6LLypAaR6x98/Sl4uCPUZezoBhVAfRc4JAPLyNktvGB01MHAw2bJJ12G7hlh5nWwl4dPDKT3Z
+Dl42MJAAsZ0SxORburUqXqRr4/8H5mNjN00ezjnzp0zOlbsilim75lu9baHLQw0KtIJgkAZNzei
IyLsEuk6BT4wujw6IoIls2f/Y881GXw4MiLqMkgfzBRP/1egE9Gj0WjImzc3z5//ZHX3uLj35MrV
irg4G6LxbJ2fLqPiwMnaHxEx6f3B/vdnkbMUIWkN9kRHvYiCNWWs77fERTL70MVERJ12eefOndm6
dZht87KChw+f8vDhR7i767ir+QtSpNyIV8Y7+QvgkhviXujN0RjaH/a+3bqhmjDBUdM2yaPHj6nd
vDlg5Onf/VOwxSP5tQXzAZtIp6i6hNgEZmWdxZeBX/JpNysiD5LmNT/ffOJexjH9vZGLQX/BZPSo
JkGD5r2GrLmykpCQYDRKckYbd9be18ivtW3ir66kXLeVZiMr714+QqMB04k8c9KqJ3Nl3N1J1GhQ
JWWoVa7Zkaad5ppMQVULaia9mIRLLhf4rhjqQQMA0xFZpnBERJ1b6V30vf0bU95MYXb22YhOCdB9
JrzOwxD1HxT8pKDcNi4ujl92pF9hpFbd9SO3tEKY2MsXIXgIqphlRqPZtMYDAMfnzsGjUiUAfg4P
p7VvspimCnGX67EJiIgI+uKYkZCVv6/+zfLKyw2O+8lZJzk87TD5K+Qn57JKfLV0KQlWOLPePXWX
7z2+55dJsZy4chWAyO9WUtaOejwjV63mm7177Y7C06IJDuL9m/fMzjFbPj41Xxel1ZHk+njmPncK
L29UIe7UnViXpnONGwWlJE+XrjzfstnkejFRxC+TH4gw7I9h5CsniSdO3t6IovnIQ4WXN1eWLaPy
0KFogoOIiX/Og3cPqJy7kl67Y7//TryXF82iokyMZJ4OHTpwKTyc0N2m3Y1tjdBu6OlJ9N27Br8b
1rrmCoJAXldXwo8csWp7jsRNqaROnTqcOvVhU+d1CQqSTBGsJTWGGc0XN+fg6IN29bWGChXg+nXH
j6sbSZWWKa/6EVsnTLZTCPVJFI/rhdQITm1B8xpRPMrs6o1R/BjKpAqKpOUvEUVtaQERQWiEKB41
Of64cUEsXLiQzIMyE78y3mQ7W0kZkTZsYSCt63xK6zqpN4vS8uDBA4rpPJQc0Ls3U0aPtrr/w0eP
6DpgANF/SpHMBQsW5K+/kgXm3CNy8yLAutq9izYdZEy35gbLCxYowPlQw4c33WsqGXc6gi+qmzZg
A0moM3e+dFMq2b9/Py1btrRqnhn8K8mIqMvgH8Sd0KQbWc1/QqRr1epzFIpTNol0AC4umYiLCwVO
0KOHg6O3jAlPVot0JIt0A+7at/3jE2GklTXm/AXIZUcF5DVl4LOB1rdPKdKlNDswwtatW4F65M3r
xfPnry22t8TPP5+lU6cAihRppy/SaclpJkqqUs/kWnxdT0pOqiYQRRFRFLn/5AluSiVuSiWDx41L
5ez12bp7tzx27ebN5W0aUMzITUCjpf+aenVqQc2CggtQiSrrRLqkec3KNJ3+5/obF+mS2rA4E1z7
0WDVjEwzyF8kP7lz5TJ5gTd9XzjR4bvBuTLRERFUr1uLnRF/Ua7bSgCeRp6ifDV3NpyRntZ2CnxA
uVqSYFris0bcPHOS0kopRbdLp1b0nL7S5O7cCg9n69q1qDeC7waRjkO3mRXpyjQvI4l0AAMl4xXV
onSIzDVCz9tSZNrs7LMlAezzEHw3iAi7RrHZU184cXFxwbvPt+kyrxJVvja5zneDiJgjBt/eAmJ2
6SZiXK7pcnRc+M1bci25GVu2ysv9d+/Rqyv4ILdUky17liwkBgejCQ7iyrntcvRjTIGsBtsuUKmA
0Tl5TPXgfp43DP/4IL0aN7JKpAMoUbcEr5cX58SVqwhJgpM9It3Vu3ftFuk+HSalNB/wU7Okf38A
MmXPpCfGLRzZn+GRyanPlowUVKKKU/NOoRbUvLz30mxbgOdbNpuMjgMQnARUGinaLm+ZvHKk3btA
yZHYXF9NcBA3Hz6U25XfX9lApANo8Mkn1N20iZ1F7Yug3rlzp0mRLvHRT7gplUYjtLUpXMY4GiIZ
G/3yyy96y7XRdb6bTYubgiAQFBhoUqRzUypxq1oDeCfPQXcuFapq/36vt85NqeT9uTUW5x4dEcHp
06dZty6lCdOHIzra+rapdbW99vCa3X2tYUraZdXKKNLhjrd7d+uu78Vn+8n6RSizqjcGzUtAo7c+
eTmsvCetE4QGZkU6gN9+k0TCvNmNR0zbi7halGu9aVNMHSXSDRw4EEEQKFasmF4mgS0iHUCRwoU5
GpycjTBbJyIPpHp1uYbnsjjOsIWBRkU6QRCMinQpWum96rnjCXXdldxICuCPOPSLCTM3ieiICFql
p/1xBv94MoS6DNKGZXmlm+qSTf+9Ah3IIl1CQgJwgv3756d6yB9/HMTly+tTPQ6gL1wICtuP9Wad
C7ecxe2bw/n54GS64KqMvwAffwH97XO1pJlpccEiOUuYXndGX1R49iyGPHlaAfWAekye/JOUctBm
Itu3HyEuLjm1LibmFd9/v4/q1Qfg5NSQtWsj5X4tW45j27btprdbqIbpda02wtnZ8NUfsNkDGgXA
vq5md/HAgQOygPbToUPc1BHuUvNvQ1AQE3x95bFtisL2F8B9BHw2ABY5INU9DcS6J9efoBbUPI18
ikpUya6l1hDYKhC1oGbqqh24ljFMo9NjTCJU7G5gwKASVbx48YKwFDevpuhWQ8mFU2dpryzENGUm
dlyIoEWXYcQlalANag1AokZD5Jl9uNWQotskY5GLaB5v40zkQ06ErGTub6ZTP2tVq2Zyne7cAXoc
6KG3rEClAjD6vSQub7a+sH1quXQ5BucefnJKqe8GEU5KqZ4V21fkefRzvfa+vQWmdEukQp20qyN0
4uwNzh4KYMcC86KvcK88s160w6/xLdSe4WR748RfP0ipyD8cOYLCy5tVBw5wwE8ti3NlCheWRTuA
3lOlyK9X27bK41au2VEy5ig5HdfHkpAXH/ua+cMKyAJe3z+a6KW5ztu5U9pezHwpSs8KYwktCi9v
/PdLIqHPXncWFrbOQTYlnwwdZpdIB3AlKZqihY+KEZ5tjbY53C6Eb8p9oxOBKKAW1FxYccGgrQBk
aveFnMa6sspKWVgzh1Z8soTgJMhjZ86RmVlHa1PqaQ4UXt5cvWv84ZlnzRpogoPI3+8C/Z7PMbmd
bLVr0/7BAxAE3PqZFotTUrlyZQ7tMp4+J8acpEzLKURHRJAQNp9OgQ/0BC7twwZTold0RARNmjQx
WK4JDsK3a1ezx6xK5com1wFcnNsQN+XnqKoZOrFfvxjBJ9Wq4qZM/t11UypxyuNOpppfc9y/G7mr
DjE7fnREBF999ZXZNumJtYGFqRXpAO7FmHYzdQS9zHuM2I1WpBEESEyHageBSW7OptCIxxndZTSF
qgYSsbYh08ISEMXjiLGLcCqcbDIhLxePM7hEQwRBelir/d8UpUtLD4Uf+T+y20TBFEPL/4jQX3CY
mytI78/or76SxTVH0rRBA73Ue4VCwSP/R/gfNGEElkSPlvan8UrR7NK55dpBf/76628AyiRd/sZf
XsuG2cuo3z5DjMvAOjKEugwcy7NrSa6oz/7dAh3oRdLFxxu/ItL90XRz1v8hLVhjNhWzNmDqecOa
SZ99VoaBA22IEDM1P13G2HEV8iCp4Li94pm1aOdqbY05vb4KaLrCsfPR5ZT5uhVz5sxBFEX27TtN
x44+uLg0RivGubq25quv5nLhwjUSExPp16+f9dstbEaoA+h7Hb4vD/1uwA9V4Vaw+fYpaNKkiZ64
Zsu/y8N80Lx/jyiK+Pj42LRdAJx1atZpEqDZd5LLsyMYK8Iy2+vspOTds3eoBTVBfYNQiSo5/cxa
1IKaCl9UkCJ1+l6zUkAUZLHR3lTPTefPSCJqzeQ07fgUVR7ibwTiVrUBJ8+uorxO5IiiYCe5zfBP
7RdOjaVoPrshuQIOuZJ0s9v5OHQ9nS6uvf4ji7HbPy/8OJ2pyw3TfTrtSN5vTWICvr2lOfluEClV
qhStui9h7eaTDp3TnG/3MztgH77rpc+9dpu6bK55C4WXN2rPcF5s3ULTKlUAmNnmIqV6dWFaniBZ
mBvQogUA8QkJsnDXoU4deX2d8ZIomhhn5HdgRrJxReYsOZjw7d+ys+5H5TwQG2+iV/eCKLy8aZDz
niyStfpGupnY+sVWwzFTkNIQQSWqePPXGwNBKyYmhp07d7Jq1SpWrVpFUFAQL1++1BvHXpGu2qgx
enMwhe7nduKz5PTnfUP28eaxfnR4YnAQiZrkc9eEpxNQiSryV8wvR+CmZMWKFQiCgBgSbLXzqLY2
5OSXk7l1KpA+Ho34ZOgw2UDBGH6f+DK9i2TWkKtTZ248MF7/CFEk+vu15O5s3ilcS/bs2U26n5Zq
NIzbKW6oSzoJBByNZP9LkeV7jnPr1x9BMFK31Aq0Amd8gu3O464tFpi82S+vrMrR42f1bnqiIyK4
dfR7xFeXmZswmEvrBtg15w/F3r2W24Spz6VapEsvDhxw/JheVby4fx/SoMyrzMErB/FWJgvMzZqZ
F/GXbFnM4zs/Uj6vc3Jaq0t1Eh9NYcqFX5hUQaGT7oos2Gn/mSJfPk9WrEi+Vl7UaZGde6TPpOU7
WLn7KN+O606XGtadQ6xBa4iW1UiNYzelkqqj96J5tIWUv+jRL2LlBwEbv5auo6u4VyP+zSOzDwjy
5MrFs8fPmLzL9MPYYQsDqf2J8QwCURTlsi8pCTwXQVVnuB0RgZC0vYrNx3JwaEVOhUfI553o8CP0
8f+Z778obHQcN6WS4GDbrvUz+G+TUaMuAwOuXLlCaGgoV69eJSYmhiJFiuDh4UH79u1RmIod1yRI
qV315kLN9Kv7k2asKgH9boKTC1FRUZQufd9oM60oN+XCEQJrNSI64TiCUF/+MZ1Xpxm3fIJZ1dIw
7ejo0Ys0bDjCvvmdny+lnGoxI4quXr2a9evXcfr0r3rL8+TJTcOP3tK/xntar7Hzq3J4GFxZByMs
pL6aqS+2cOFCxo8fz/jxXenXrw3ly+unxp4/f50JE1Zy8uRlQkJCrKvdoCsOlGwBHX42vk5LeovK
/gJ0PwuFa1puu6IwJLyF+KR6duk010v9J1FltR1mAP6CYeSbbn1AR8z/wa9Q1P6nnmpBTa4SuRj9
p22pFbr9jYps37rCMOM3uLosLrGY0aPGyMfiwoUL1KhRw2FPlC3VQbGEm1KJq6srz549M1i3uMRi
Xt57aZtbqL8AQ55AVkMxdOzYsezbt4/bf9wmu2t2PDw86NmzJx07drQ4T13BzTn7FnxiIxE1Ipmy
ZWLis4ns6buH9pvay/Oru/UdYUdX8+7NMyniLgXZs2Vmx2rzUTWWeP7yLYq8Teic5HapZd6QfMTH
vqJQ+20M+k5Keyn/KA9/FE6O9Ds4w4/zdX8i/k08Pok+CAqBxWNK8uLpn/huEGUxrKmyCgf9/OR+
8fHxfPLJJ9y4YbzQOMDy5csZPHiw0XUKL2989rvj+156747u9uXoHun9FDb6AqbruD1+8YLCPXtR
NG9e7q1PTucZMWIE33zzjUH7XDlz8nmNGuRzdUUURf5++pTT587x9t07g7bTpk1jho7IaAnt8Vnw
VV88KlWiVrlyRtfrmjeoQtxRZFJQ3qs813ZK6X2eqzxx7++u12+UtxeLjDyImZF5Bpr3GiKJZBOS
62IjDw/WfWtbWvXwSZMI+Vn6nVqzZg39+vVj4e7dTFi3Xs+5VkuxkJLc90x+wJap3Rd0bVCfwKPH
SDSRqiy2aYOTk7PV9eAcHeECUKtZM7p068aSFG67KXH54ktKFS7E9SThQRAE+nTtiq89ztQOwk2p
5Nq1a1SoUOGDzUEXa2quvYh8Tu5yeVK/LQc7iRqjXTvYY12WvdWEXArBS+mZZrXpAIqPL84l1SXy
5Uj+fatXz4MTJ+ak3UZT0KSJisOHDaPyU/u+GXNSdcRnoXv37gjv3zNr6lSj692USvIoIPynSSQU
7kIjdyU5207nZz/p97yUUsntiAjW9KnB1+vP6/Uzd95yUyoRRdHkPhw48zstan9isr8gCFRXKtmx
fr2Ve2o9B375hYFjxmQ4v/73senpdYZQ939ObGwsrq55uH17K4ULW1/T4JtvduLjs56YmOfSTVjR
z6Xoif8Cr+9D6BBoJ13MfvfddwwcaFgDBtAT5dyc6+sLdXF3KdklnDu7zaW/1LNvjsZEEGDIkCH8
9ttpTpwwvEGyhocPn/LRRx04cOAgjRs3tm4eloQXbY1CnXOTk5MTiYlH7ZojwJo1ezl4MMp0aqmJ
42OwzlSbtMYWweqb3DD4ESzNBp+roEIXyJs+NwoR/SagXGtjurc5oS5imSTufiBzCbNikhUc9T3K
MfUx0/3DFoFyqMVU8MOTD9NkThNpH0a+Bees3L59m9KlS+PVqhUBc9LvAj8lbkoljRs35vDhw0bX
qwU102Kn4eSSHJH3+uFr/Iv6M/XtVJyzOhvtx+39sKsNwjj992zqmDE0rlePokWKEB8fz7nwcLbt
2cOho0flNm3btiUkqb4VwIyvMpOY+F5PbHPOvoWEN11kEfXCigvkLZuX0s2kp+PqOtVpO2cgP20c
xvS1hqY+Ny79ROCiNvhuEGnbtg0N3bNTubz1YueVPx6grD+Apk0NDQfexsWRo2Mng+UNIotw5PpK
dnTewafdPqW8d3lprik+p1qBycc1GJ/v36NwcqZly5Yc0AlB2bdlC5XNCAijpkxhz0/JtVVFURL+
BrRowcqhQ8xGeKoFNaJzPHSbjWuB0oxceAuQxKFEjYbAcWPpWr8+PXr0kFO/Bn/1FRNH2PkgKgmf
OXPYuFWK5hs3bpxJR2KA09ev4zFhIqfmz6PuhIlGxShjQt2G2A5EHZIMF6a+ncqsbLMAKF67OP1+
7afX19iYZ8+epXbt2ri4uPDH2bN27qk+7o0a8Swmhs2bN9Nj8xY0oogmOAi1oEZQCPgk+jD+0iQW
VNF/kOK7eTN+m7fo7aMeEREweTKKTJktinU5cuRgnkpFWxMRJPawMySEsdOnW30j+ufff+PW72t5
rto0xrQQEM3x8tUrPqtXD39/f8aMGZOu2zaHJaHOESmv8rbSQahLC7OHli2hZZdrjOpT0bED62Du
2JQvX46wsG/JkcPwYb1Dti3UN/t9qj27NmemnLF53IjIP1kTfMJomuu1h9dosKABjxc9tnlcLZYe
BGgFt1LVa/DHhfM0cldyIiky7eOqSvb+GkH5LOgJdZZEOm0bURRJ0CQw/+f5TGmdXBxx/b5T9Glj
+fvi4uJCfHw8t8LDcXJQ4UNtJOB/XJPJQCJDqNPhP71zqWHmzP5Mm+a4ohCWfiz+VSwvCENS/gCZ
dnGyl8yZmxAfb4crUwoBpFo1d86dW4yTk+Mz2bdvP0KBAvVp2LChkbVJbrHmxJJFTlLK41iRmzdv
kjv3NQoUSP3TXV2mTVvDzJkbkhds8ZDcR7VYI9QZa5eW2CoypRS/0nGuNot1uvtmTKwLHQKXv7Mv
VdvctsygFtRUaFeBzrs7W2xrbgyrBL6VRWDQQ+vHefArXAyANlIhdY1Gg5OTJIK1adaMZWbECUew
79Ahho4fD0DHjh3Ztm2bybamjoElAbRatWqEh4fTulkzltu5P6Xd3dFoNFwPD6Z8VU+9dT6VVuN0
7QEqUSXPcfFHi+WISd/eAgJOCIE++CQYT+X27S0YjbID2LJlCxMnjOHPu8nva7mPyxIUHEJ0+He0
7LbYoH/FwUP4435yJPa3gwYypHVraS5JUWqQfMx0j61aUDOj7UU0gjRezXIfc2ahVO/NUWLFlBkz
2LRzpyyCXtl6hR1ddhh9DyO+jyCoX3JKa69Fi9lx/BCxmkz4uAaj3ohD5mQJczczuiKcMVFt34UL
ePrNkNto+2j/9nPyQ9RI40qeudJx1hVLa378MWf8k+vuOTk50bJJE4uf6bpJN5mlrbiR1MV/2TK+
Wb2acWu/x3/PHhKC9qAQBAoGFWNouwH0OtyLUo1LGfSrOWYstx49wiVTJh5sWG84sCAQeOQov9+5
w5zepq8DP//8c86cOcPZQ4coVMC48Yi1uCmVNGjQgKM6Ary1jFq9mnWhh3mxVRIhtd+B8cOGMfRr
62vv2Ur5WrWIi4tj7NixLFxoX73FtMScsOVIkQ7+vUKdIECdOXU5NSnt3HqtPTZPnz6lVCk3unZt
zHff2W74tXTpDkaNCmDv3r20adPG4fPTYiyKLiVdVnXhs+Kf6QldtpJWUbvm+LhGDfm+a8DGAazq
tUpeN3LRZpaOMV8LWpfRo0fLkcFrAwJoUt98/UBdoqKjadyuHQBVqlQhIp2PQwYflAyhTof/9M7Z
Q6tWLdm/33iosSM4cQLq1bMzSuyfgIkb/z59+rB+vQ31x6zCjuOkI3zEt9xEbAlXcuXK7sA5GadD
Bx927EhRp89fgI6h8JFhYWi9NmNFqlT5jEuXlqV6Hm7O9YlKOG5QXPPhw6cUKdIueZu6/BeEOm0f
hKSr2fR1UbZarHvwq2QgYE6o0y531PzNjJXaCDqAJ9eesKzSMtvGMJECa1Lsu74F9nVLijxNZurU
qcyenVxgunKFCsyePt1iUXVzDB43jv06zmV16tTh1CnLNzFqQW2QfgcQOjGUU/NPmTw+giBQuGBB
zhw8aPecdXFTKvnhhx/o0SPZxMI5+xamv/0DhZMCTaJGFuxGPenL4jElASk91tTx102hNcbf969S
oJjxqGqAXQe30XHZJj0BqV2dz9k1aZLR9nLdNkGUUlwFhTw3reCkCnFH7RmuJzhpXecK5M9vci62
Uq5mTeLj4xFF08dHd86z213ifVJV9rc7tpPVxYXbFy/K4okubkolgsKJ2+Fhslhl7nGSm7IG0RHn
KVtVyaWLERj7ZXsXG0vF2rX1jvXIVav4Zu8++Vi9iY0le4q6Ry18VByKiKB62bKcW+TPoYgIWvio
9I7v+7fvmZ1d+r65lnYlJkr6DuuKddr2QUFBtGvXzuiNpsqzGg/67mL1l9Jnz9K+l1UquR4RgbFY
1LLVqjFu/HjmXbkKQKmB17nV5g8A4l/HMyfnHOpOrEvTuYaRnCkjCPUQBObt2MGsrdt4uc18DULt
e9utfXtmTzdf01WXCb6+bEvKZXTEvYbCy5uf1b40ryo5WLdt25Z9+/bJ6229WU6Jau5cNmzZIr/+
6KNfuXOntv0TTmNMCVuiRuTlzRcOSXmVt/UvFOq046X13B0x/u+//05UVBSPHj3C1dWVSpUqUTkV
v/O65B6RmxcBLyzPIeo+q3YfI2BsN6vGTe1+ax/gpYdYFxcXR/latQzOQ4oBCjSrNIwL2MbCEYZR
79bi7u7OxYsXrW6fJ08enj59arqcVAb/ZWwS6jI+If9HNG/ezIRIl4gg1EcQ6vOe5LprglCfEv3P
gvhUXqZIameKf7NGx9+XTN7wr1+/ngkTQoyus5UXL94gih62d0whMGWuXNyoSKe5v48izdczurXp
J0P3lhk6HS5r1IRfTAT47djhR758Ri76LIl0SSmA5kQ6QaiPS80fTY+DZaerIkXyERBgxL0x10eG
y0xx2n4xJ10YFgMjXkoiXeU+pOdzCOXa+UT0m2C54R9b9F+3N1Eb0JHurUbGWt9wvSw6pEak83P2
Y33D9baPUW20gXnG0lJLTY9ToQuMTTTYj1mzZumZfKxcvZpJM2emysW3S8+eemNaK9IBBiIdwKn5
pvtXrFiRNUuXGoh0uvORXusbq9y9fISKNaoRct3w5iI6IoKePXvy9u1bveXd9nVDk6hJnmPOZ2z7
VqpzZ0qAAzixdw5lKjcz22bP6j7Jf585g5N3O9lxVeHlTYdvAxFFkfm9u8nmDqZEOl2azm3Gz4Gj
CVzsidoznAopasipQpLrpGmjD1KKdEs7V5eP5Y4XonxMx3T00DvGfRq646asbjCHyHPnqFurFr/8
8gueqzxNuplqP7tT9kiGF+927iCriwtnDh40KtJpuR0ehpsy2UV466pZVGuTFNmqeUGlhp4GBcDr
GZp2ymTNkoUNy5bpbfObvfuoV1kSUvN1624g0gEcioggV7Zs+PWQIkW+CTGsxJ8pWyZ5P7UiHWD0
mJgS6QA23E1k9ZclKatUUn70fnm5m1LJLE93Hsbpf9YSwKhIB3AzLIy5c+fKYtvTaCci70umEZlz
ZEYlqmg6tylqQc3rh6/1+upGDv4cHq4/sCgycfZsHmzcYNGdVnuuyFe0qE3nmmKlStnuFG4GTXAQ
j2Key/Pdu3evPH5sbCwbduxI1bmxdMWKeufGO3dq4+kJTg4wLE8LVpjw2Do36bRDRbp/K3XSz3Q8
1XzyySd4eXkxYMAAOnbs6DCRDrBKpBu2MJBCeXNZLdIBiKvFVDnLhoWFsWnTJtyUSu6ZMsJxAG5K
pVGRDmDOl3NI0CQQG29o+mcL4eHhNhm2xcTEZIh0GVhFxqfk/4iDB42n/GjuSheSTTt/Qcrr46zr
xiMovkhua8ZxSIu3979UrfvR8CZGl/nz5wP1qFixP2/fxto8/PbtR4iNrUHu3C3N3tgY8Fe4wQ18
Tt9sJpsrirXi0aHvWbJf+uFLFl4bsKR+E1bc1bBnx1WDdXHvwcXMtJ4+DeHYsWPSC38B6phxtnqZ
VOR6VCz9+/c32SxqyTDGnT5M/PlVevNxc65PApDFgkCny4gRHQwX9o+2uj+/+llu8yFxyfqMR44A
ACAASURBVAMBOWFUHFxZL6UdpyNWiXXhAeDWIvm17t8pcbRYt6IQakGNWlDT52ifVAl02uginwQf
xv1le4oKn/tItQWT2N1zN4MuDbLQSZvebPp99fDw4OrVq3a7+YqiSK9etpU8MBeV+PbJW5PrAK5f
v07TBg0MlkdHRPBD51LoX4LEyW62JT5rxLXzYQzvYthX2z97dukhxZxcc6iW8IKPW38MgHMWZ3x7
C4hfBNBfddZAgJuZZabe68PbpxD9h3Re+/X6dYasWKEnwim8vBkYXgSFlzf7w8JoV7s2hfIk3wRr
goPwcQ1GExzE62DLjni7e+0GQBSg3sn5tNkWTffR0kOgyPsPODl/HprgIL3fiMePH5uMSBy59QIn
/RqRya0THXIn99kVVYDoiAiiIyIQX19g3dFwo/0BAr/7jiZNmsgGCvGv9J/YaI+D2lMaQxXijksm
6WqhcMGCZve3VFV3oiOSnUsnLt/O0/t/0HzZNdzcG3D1qO0PwBrUTU7pO5Qklh1LqusY8/q10T4A
L9++paW7tI97z5/Ht5vxm1JjAr9aUPNqzSaLohbAb+v6U6pGS66cPGSwrkKVymRFkyxSV61rdURJ
/n4XeHngYyoMHkyWL9sbzDlHkRyoBTVLSiYbNWiF49a+asO5h4WRI2tWOV3YEgEBATadaxYtcozr
pC69GjdCExzEqWvXUHh5czk6GpDqRh07dixV50ZjDuchIZAUQIqz8z9LtBs0CLyNvG3/FpfXlNhy
WWzNWFY8g/q/wZSgFhv/Xk51LZAnp83jiqtFOq60bPxkiq5duyKKIpocOWTB3C+V5T7OhYXJY3nq
PJg0xsSWExm1aKvFVN8MMvhQmHqIl8H/EYoSbRHFtjxaN5ESw/RDdyMTjtLuhxcE9bJ8EadFre7r
6CmmPTak4l27dl3+O3PmzPTr15r58weTM6e+eHbp0k3q1BnCsGEjmDdvHh072iFgrikNL27rLxv0
kLqH2pns8jpoFaJ4nMJO9TGoAiZKFzDJF0TSH6J4jEUeZqLjkjh16hQNtDfenxsXfgFY7Qa1JAv0
2rVNp46UGX0ZUczEyGXuTDij/0TLLhlKk5BigZGLk1xu8DLaeP8/tkF5+8PfrSLRjrqEWnTFrYrp
f2GhFevMpsHWTeHS2OEQ7Ggm/X1yGnjoCCVVh0l1DFNZr+57j+95fb0LqgP3oPnqVI21ts5a7v16
L1VCHwAjXsnnleij0bjkMm8wITNWI/XrfAyK25/G5Qi+LS85V5o6FgsKLMAlt/H9EkXR9AOJxLv0
3HpbT6DoVqMWZ8IjKJz0xa9YVcnuE+ZTSQYtW05ImXsU1dykX0Ac56rd5ocv69AjJyz860v8UooP
SaXtfPSWe0n76OVNh7p16NW4MctTRLb59hZ47rGKNmpJzL+2YjnlixWT17sWkOqEtR8UaHa+AL9u
C2eh52Xc/8yPJjiIwzuT01198oZQMd9i6W+Nj2TikCiyZ88eWtSqZWLEd3j4HDEUexKj5T97N/6a
40mnnXggs5n5TXkzhdnZZ+ule+bKlo2XSRGMWZvk493hp9w7c8/ivgLcvmgoEDbu1Ix7wOr2pQyi
6SCRI/FQ2cp6binTV2t8/LFV8wIY6eVpdr1KVOnVrltYaCF4gmuXrnz11Vd8Vq8el08Y1q/NWXUo
t88PBeCPxa2AVoB+DT/t39EXzasJbbp04ZNPPuFx3GMee99HsdabhKA9OHu3Y0lwMKO8vAzmDJKw
OO6vcWQvKAnamuAgCnTvgcLLm8SgPcnfTVG6KNAkmYtY4wj7T6BuxYpogoOYt3MnyhEj02XeCUmX
FwUKwJMnjq+nZg/BwfqvHV2bLj1J8VG2m6NH4YsvLDb7vyJnFkMRburKXdT9rGyqRaodYTtS1R+k
kklaMW38+PFGfhegSuXKVK5QgRLFi/Py5UvuPXxIWEQEDx490mtXpkwZm6J4i+TPnS6p3RlkYA8Z
Ner+rzBuiJD48BqV6kzjdeb83P/jO9m1VNfRVPt3JkGKdMK5NOL79UbHc3JqSGKiAwrFpxc3dkLu
MlDQ8Ifhg6IVZMp6w02di9CxIqGhoTRtat2Nv+77mHrqQWIcrKsEX98y3cxA+HS8GUdKmjQZzeEB
2eCezraMia9n58BJMwVw07r22/n5cHyi/ds50A/cR8LGKpCzOAy469j5WYFJsc6U4G3JhddzO5Qz
EhFpgVPzThE6KZRBlwZR6LNCkhBYpi0Usa+ukFpQ02FLByp3dlTaicjxlo2o//NR27tuayQ5UH8V
6aC52MbN/TcJbB1oUqR79/Qd8/PPNytomioWrXsRHh0RkVSb7ARuytqQ2QOX+JPE6aw3hptSSYE9
RUl8lB9vl0ZkXelK7vKzKFy0HD2nniEgp79J4wvt8n0bh3Ll7FYmLHtidBu6Lpo+Xbvg29V4OYHY
dy/IklWKoDRlSjFo2XJWHThAg8giNPyjCAAzvSNI1GgY1rw++Ya/5svAL8lT8zXrZtfH5/v3etGM
tapXZ9vatQbj9qqplEW4TsvOs21oDemYJT7j0zrNqNmqD2t9hycds+pER1wweTy114NqQc3hibGc
vHqVaZ07MXOrZDCyY/Ikvvz8c3leRxoc4dixY3bXGPp50ucM+vkdpVqqODLX+jtrN6WSKVOmMOe3
3wHj5hApMeb4aou4o5v+qvYMJ/K7lXxctCg/b99OBRvEQVt4+uwZ1Ro3RhRFCgYVk4S6FKYZg1u1
Ytlg49G6kSGRbPbabPA9UHh506RKFQ7N0IkiTyropfDylk0r/k1oHYjTU2jcvh06dfqwgl3Kum7h
fudw96lpdX9PT0/27jVMA08NLi4uLFiwgOHDh9vU74cfoGfP1G8/5THptrobm/pvSv3ARjh3+xxT
d0/l0BjD6Nl/GrN/mi2bP1hjGGEL6SF0nT17lkuXLhEVFYWrqyvFixfHw8ODkiVL2j2m9jj4BPng
5/0Pz6rJ4L9ChpmEDv/pnbOVixcvUrWq6bQQx/EvS311ZGF7R+EvSNE0nY+ZFDlatKjFgQPp50R2
964bJUqUsHy8QgfDvWPQ56q86Mcff6RHD/t/TC0xb14gEyeutGwkAfDuKSw3U4w9rT8L3+SC+Fep
24454SudMCrWmfpsbGsMd5PMSEa+Bees1vUzg1pQ03RuU+pOTBE9sPZjJlz3ZsFCf7P9XV1d8ff3
p2/fvvJ4qY6iS8ERnyM0zOeFMPKVfQM8vwlrP07391gURfwUfjRQNaChb0Ojbawx6kgrV7eKtWvT
sFEjfFv7UmdiFKE/XufoHjVdv73OxuhANkRvJF6jH6HbvHBTpleawpZckvAm9vJF4eSMz/f67a78
+SefDpNuMEd4tmVJ//5EXtpHuSrmXfYObBpDi26LDIS65tN9CL10ifjdu3B2cjIQfLTCglqhRpEl
kelvpZsFXXdYlahCEARuhoXhnAa5d2WrV+fFixdkyyZFhWvFoDMLF1J7nJT67VWzJnumSfX/Xt57
yeISUuTf8oLLefz4cbq597kplVSrVo0sjZtw+vp13u7YTpbMmeV5p5VQB1La8uUfLrO9ehRXizzn
+ZbN5E5KwXb0/us63JbeV56oJAMJ0J+7wsubtjVqEDx9msmxAsoGEBMVg0qT/F0t2rs3GlHk0caN
Oht1g+hoFF7e/Pn99xTPn8+h+5QemDXQSCPCwqB6dTh0CJoaenqkKd98A1o97O8LjylQ3XQq+vz5
85k4caLesm/nz6dt8+YOndObt29Rz58vG4loOXz4MI0bNzbZ7++/pWjF1PDllzB4MDRrlrzsVewr
Xrx7QXHX4qkb3Agz9s4gh0sORjcb7fCxHY1WTHO0SAfwJu4NOYfnRLNKY7nxP4gpK3Yxe/CXQPqI
jRlkQIZQp8d/eufspWLFUly7ttFyQxtxdm5EQkLK1MN/OP80ke7ecdjaQKpD5pTZoiCTmJiIn9/X
qNVfpdmUXFyaEBeXFLJxeTUcGmD+mJk5pgULFuDx410Om9ubN7HMmHGYuXPnJm9bS4Uu0Gaz6Tlq
ERT6hf8zZYMRbxw2R6PbbrhIMhxI7TgAHQ/DR6YvftMSA7HO3PfJkrhoxXfx7um7fF/3ezpu60il
jlLx+GHDhrFsmWRWUjB/fravW0fJEiWs3ofg/fsZMXmy/Pry5ct8+umnVvc3xf1z93l24xmfdv80
9eeZdDxPJbxLYFa2WXTZ04Xy3uWNtjk04RCnF5y2StgUBIH2np74z5hhsa01uCmVdO7cmS1btjDU
aS4Fekym8EdK/prZTm8+5oRX39YlGLQyBP/wGRzN8ZCIjTlIfC6Jx2UH3mB4uaEMLTsYhaDg9rUj
lKrYyOK8dAW6b2e1YMTZLExs3545vZNrAqoFNWrPcFQh7lQfVJ02K5LFv8i9kWz23IzYy1ceJ+zo
KvY2eojgJOCT4COnKzpKFPrj5k1adOjAyZMnqVu3LjXGjCHs5i0mtm/PvJ07qVWuHGcjI9k9dQre
KVJv/7r8FyurrASShUSAJvXrszYgwCHz09JvxAgOH5eiwkVRpOaYsVy4eRNIFmQexcQwe9t2AgYO
MDqGI4Q6LWpBzYw2F9EoRN7t3IFLpkx89tln/PbbbwDs27KFyhUq2DTmn/fuUb9tWwCKFi3K/fv3
ATj95Fcq5CpP3sx5Te6LtdFkfk5+FK5amAEXko+RwsubW6tXUapQIWlBUjjS0d9+R0SkkQPOhR+C
6qPHEH7rVrqn8i5dCqNGpW+U3XffwcCBxtNetd/Lj4oX57iDI+fsQStA58qVixcvLJsc2Iop59ii
44ryYKHjDQs+UX3CoTGHKJK7iMPHdjT1fboR0HMeyo+tvz6yheBLwUzeNZkr6itpMr6jWR10nP7e
+uVFnrx+Qv4cjnNVzyADI9gk1GXUqPs/5Nq12+zfv59ff92Kn1+/VI+nUDRAo9H8+0Q6gAqmnVHT
nZVF4M2j5BtyKwrtOzk5oVavA6By5dJcubLBIVNJSEikatWh/PbblWSRDiyLdDfMi3CPH/8NQM2a
NRg/3pOOHS3fABujaNEvOXr0FOXKlWPu3KRHp4tTWKGYEulS0vk4bNFx4X3/1nRbR5FakQ4kQfH9
W9je5IOJzcq184n4eiLKNfMsN85RTErlNEXV4Wbr1akFNaWblpbFF2dnZxITE2lSv36qhAuvVq3w
atVKfl3W3Z2EhAQePnxI4cKF7R53Ta01yUJRrwh4dRdy2nmBrK1NOOw5uOS23D4VzMo2C9cyriZF
OoDTC05bPZ4oiri4uLAzJISlc+bgrXOsbaFVp05ci4wkISEBp6SosgI9JlPo4nJa9G7Jxpk2PHwq
cI/hfdawM0cCUIDjc+fgUamSQbPgB3uZFjaIR5HJ36+S2UsyvdIUvIq2NWg/avVqAkL20iRrFJrg
G3rroh49ks0YAD2RDqBc23KA5FCrFf2qNRzAXqQ6dSAdy6ioKNzKlMFJoeBWSidPK/n1/Hm6Jpn8
aB/W6oo/Tt7tGBJTg+WR5wEMRDqAQp8VQuGsQJOg4ajvUXkcX19fvdRmn/Hj+aq7bdEbm3buZIqO
sKtSqQjVGhmBgUgHULR3n3QTZVSiiuJ119I/XzBZ23fAd181Lideltfny5ePZ8+e2TRmtmzZ9D7b
Wtqd6sBjb/3z5sttW8nVqbP8+v2e3WRt3wH3UaMIX7IEU/gkSnVl1YIan0QfBIWAJjiIwj178/jF
c+n4JdWsayiKlOj7FTN79qC3mSiofyoXFktGFukt2I0cKf1btUoSz16/hqSgyzRj0CBpW66VksVc
R4v6jkI7n32HDiEIAvv27aN169YOGduUSAfw8MVDh2wjJVceXPlXiHTDFgZy3G8T1WZUI2x6mOUO
duBVxQvvb62vZ/6huXTDsGxMgdEFMqLqMvhHkeH6+n9Kq1at8PNbD9SjY8cAatQYyJs31jmZBgef
QhDqc+yYBqiHRvPvCnWWWVsW2qRN3QqbWV1SX6QLyKG/3goh5sqVKKS043p06bKM2rUHc+aMdU+2
1q37CUGoz5IlYUA9nJ0b8ttvKfoeHmp5oOD2somEOc6dO0/Hjj5APUTRg9q1xyEI9enY0YeVK4MI
Db3A9u1HWLBgMy1aSOtmzTou79+DB39Trlw5/UENjCSs5NR0w2VX7Y84ffPmDbNmzaJSpQoIgkD+
/K40a1aTTp0aM3CgNwMjvejUqTHVq1fE2dkZQRBo0aI5u3bZGGk44g0oUvo0pz9VVs3ht2E+sMcL
2v9suuFAneLzxkToxgFSZONN/XSZWVlnydFRPQ9JBWwEQWCBWk10RITDo3duXrhAdEQERYoUsc2d
WQeDaK4CVWDVR6mb2FhRMmk5NDB145hBm5Y54uYIk232DdkHmE95TUlcXByiKDLD3192Y1u5fr3F
foPGjpXbt/b0RBRFnJyc2LtuIKreAjN3bGbw5cFsbLKR3B9ZFjCXhoSg8PLGL8aLm8/fyo6YxkQ6
AK+ibfny0H0eeyf/O9/0tCzSTbg8mYJBxSgYVIzlXxZlf7Gl/PhtV4LWnkGjSRacBy1bTtkBAxl4
rCKqEHeL89SKdYBsBuDX15mwo6soXbo0oihy5epV+di4KZV06teP0+fOGYwVFxfHdxs26LUdOHas
7IR3/+lTFF7etHCvKtc96924MSeUjwHzKYTT30vnzmPqY7y4I0XH+Pr6ymNrNBquRUfrbduaf5F3
71JgT1F5HF9fX3mbCi/vVKdKbDt5MpUjQL9T/ThRV3LB9m0ThlpQs73TdgCePn1q4Cj68b6KZh1H
37x5YyDSrY5aayDSAeTIksVg2budO4iIuk2FFEYoxlCJKrZ12CY7ED/6YQPPt2xOdn5NEuvurvue
+Tt38sORIzYdm38SFxYvkj/X1jjbOooBA6TD6OwsCUhv0jBI/9NPpUjocn0qAtLv46KZM82KdBWq
SmL6wzNrACnSre3qm5RJ+g4ChC3ypJQ2Bfvv7ZTxWkyVqkpeAVPbujN0X3KEWsri/31rKjG3y22a
NSM6IoI2bdpQy6RRTgaOQDfVNfxP+x7uWIu4WjTpMPtPYvvhC0bTf8XVIl+tT7sMpQwysJWMiLoM
2L59u03tvbzqIYqT0mg26chzM2YI6YlWtNCKcft7w3udS5zMtlumb9myxab2ffvWo2/fOeYbRSy3
LnLLY7ZN2xYEgTNnzppcP368FYNYEX1okrtGbkL294ZKvQyXpyA4OJgePbrxyy+LqV5dSnXKnh2m
Tq3P1Kn2OHYmG2HMmxfIpEnf8f79e5ydTZyqU9Th+hAICgUV50zk+sThVGjXInWDaSPHxops77Sd
q9uvMi1uGk6Zk29gBUHgyunTZM+WzaC7m1LJlYgIsotPcKvaVMeo4Lxeu4+VSm5ERMg3F8ZuaKIj
IvDu0QNBEGxyEEuMSzQuYo0VpajP0al4z4bFwG9r4LQv1PG1fxwjbGwiidOWBLgLK4ybEVjD33//
Lf89cOBAo85uuqxYsYL9oaF6y3x7C1Sp2xP1BpFTm7+Vl4+6M8roGE9evqRgD0ng7dGwITMKhTLQ
L4xlRbfauxsya+bc4fmb6rzatpWwg/7Ubz1VXtduZk5Of5pLelEcPmtUBMXVEvAyq4nR9JEj6/4S
JffX9dOpsqqXHG1Xvnx5RFHEOfsWEt50Yf/+/cyaNYtuA/RTPzNlysTgwYONfoa1wkXkdyspW6QI
Ci9vrixbRsUSxVF4eTPnRB2WVVzG0GumH9KoRBVqQc0StyX4aHz0xG1BENi2bZtV+2uM2qEetC/+
BeMrjNWbr4C+gBj3/r3RqL+U5M0pPQAbtXoNHxctave8tNSdWJd+ZSuzttIVKaV5uyR2T303Fecs
yefsBDGByNZXzYxknOm/+9K/tOmsh7j373HJlPywRitIlf66P1FrzLtfd97VGc17jfxQIVe2bMTv
3oXCy5uOdeuyVRShShWuXLpE2QEDcVI40a3Bh3WhTg3az4uTdztJRE6nCDsXF0mwe/1aEuw2bIBe
li8tbOLyZdg39CJtltUAYPywYXzZ1jDiV5cj/p1wUypxylWBW8e/BuDKsg7kajKHF4elh63tN94l
Yl4zRh5+xZLPpH4v/8feWYZHcbVh+J6NEAgQNC0enKKLW9FCBcgursXdJVCczWLFghUpUKBAU1w2
QQvFoWgILVA0BHdPIJBk5/sxWct6sknp19zXtVd2Z86cOTOZlXnO+76PCJmA4LtaIhsnvIdij4N7
0gyYIo2+h5ND1aofhwvvx0bienTflE5aRLszjPx6JC0Xt2RT3+S7waYUh85dodUXlSyuW3lsJSu6
rEjlEaWRhmXSIurS+G/yMdSmuxEijWNYvGEsywqYp48OfJ36Y0vMwQD4YqHtNrNdX+TcIV7fSn4f
7Y5B+kRFmN+/NGsWHx/P0KGtkQS1IygUWXn9epdepHMlI0d2QBQP4+7+h35/efPmMW2ku27meLp8
/87gnsmbEoVXcnulnZvy8gMMz2Msp4b9HLoSggRabWiFSlSZiHQymYwTv/1mUaTTUUpeHr/yxhW9
Y3n76BzdNY+oUEHOHw+i0Ull9tKCNL/8AsDbt46nQ0/PbiMNePA7+PsXh/uySJkekkiXHHE6EUsq
LOHm/pt2Rbrn16T/mStMN5YsWWIzwkgURfr0MbhZBnYW9CJVs16rmVhoEbVin1nsWzFpMmr/MGQK
JRnSpdNHzhU6P4yxy6JZMOozCtYvaGLsYA3fPKY3oGev30CmUFJr5Cier/0VbYgGby8vaivGmrQr
ma4bT5dXYlXeEB4r79FsmD/5nxlSn5dFLNdH4/lq8tD8WCteffqap5cNDrSBq0Q2LTaUZ3D38CJw
lUjsh3dM6uapF+lAipI/evSo2Tn88OED8+bNMxmbV/MWyBRKHq5ZjTZEoxfptCEavUinDdEw8sVI
k/FYo+nPTQGYKJvI31v+ttveUU40OMqIEgH4avIgUyhpWbMGAGUSufylb9GSrWNtOHknsGbYMECq
Z7d9goVI6iSw7PpUYjdK39m61GZdFPDcAlIaau4Q542UfDV5eKiw7ui9fuR3pG9h7pStDdHwPCrK
oegxmYcMlagi5mUMakGNu5sb2hANZ29I1zjnz4MgcH3pEioVKcLZ6x/J5GYyiNdsQxuiYfSq1cgU
Sn0adUqTMaMkJHXqBPnySaKdK8nh/YGYhKSYWAfK0NQdtpEzx04R//qyftnN8HDOByUIOe+O4v3F
92T5aiaaAINBXJ9C7gze94K/VvakYOWveXDjHHjUgLiLnLr1gmG9/xnnTAvBxCYcG3UsdQbykTBg
VjAxH2LNosZ2Dt5Jrekpa/g3rcU0rj66yuo/XF8L3RWMXrTZppnGvyUqMI3/BmlCXRr/TfJ8br9N
ShKxA7YpJaFFSHgbXt0Ir29DrJEz7z8tJuo4Oxvk/Wy3EbWQq1rqjMeYZX7myyoMtr1NpeGmr3PX
gHePTZctyGrycuzYTri5HWfOnIHOj9FF3L27DjiCp2eilNd/OrIuIQI0nW8Onh89bb1d/R8Mzxea
Ogpe2ngJtaCm/uT6CdFn5uKjKIp86mvd1Q5g/9AyNJz8u9ESNzJ8Up7930/nuRaq5/J2KpS8TbNm
BAcHO9RWLagZE2VDMJC5w86OTuzdBrrow2QS9SCKh+ceMuzeMLttfyj2Az4FUrZGXmLUXdxYNf0L
ABM31YmPsuFb2pc/gv4AYPX+A/r0tpY1a6IKrYA2REOGdOkAiH7zhPHL3xP95gljlkbR6XfHwlqa
9pLqfuoEuou3b6MN0XBk+jSr28gUSqYdiSR67c98U7GifnnMK0N5iZ6Fupuk1G6puRGfh5lZql5G
w0Pf6AW86UVvkX+xVHtKJyx6eKZHvX4141q2I/LyQYeOAyD01GlkCiUf4uLQhmjw9fHRp74amyx8
kiWLfpvclXLz9oltobpc53L65xtaJD2CzhpPl1ciR/czBPWQUpLO/+BcuvufkZEAJv8LV0TU6XBL
52Zw7zWqQ/jq9ivJnXpuXaf6k/9WyWLKqzGtata0uu7lurVkSp/eoTRYAK8sXvrIyKeXn3J96RKu
/LiYzK3bkLVNWxAEiuXJTfURI3j00nwC69/I9507oQ3RcOn2HWQKJXHxlmujpgR37kii3eDBrhXs
0icE68798UeC7WTKXAk/Rw5vT/1klfGkVWR4OKT/nIsJol1keDhCzlbcCBnKyC1nmNcgK5nK9+fm
6d3kKlxe36ZKgazMXiLVQVx5KhxHSvP5yeXUtHEtO4Kt2nQ6ahSWRP4XL14ka1//BgbN/pUFwzvg
lfh3YgJHryc/9d8efwb+SecVnVN8P0nhzVv7ZZ6CewSjFf+lZZ3S+L8iTahL479HkABtj9hvl1Is
yApbm5iLcKGtoXvqzO46xWw38HUwNaF1KteySZw2rKOe9YLaANSZ6fAuTp06BRxhypSeVtsIQm1W
PhCJu7gaQaitXxb36jbZWu8HYGql+ky7rDVadxdBqE3jLHUI/esZQxtJkTNT1/3FZ+nrMPa0dfHt
w4f97N49S3rxMYi58zOCdy4+aVyfl2cvEHP/kVObqwU1FzdeRCWqyP95Qi03bSzcNX2fBgQEUOmL
L2z2VajzapY1MRYBZdStV52bJ2YTGXaAknX99ZZLupQbv4qtrPa3futWeva0/r/XMSXDFMcizQJE
OD3DfjtHcIFYF5Q7iLzV8pIpt+0U+8d/SUL2kEjLKaau5nKYhsDOAiUqNuXZw6smIp2OPEsrUvPQ
NNT+YWw6dkwfOdepvrlJzcwBvri5ezJzgC+e6Qy3kPMLWxd9Htw6x8QdJ00EOkt963gb9czElGF6
P0lgO6ROMEKw81Yt06EMses+sLfOLpOaeF37DOTil3+zcNtSvYA38sQlAleJ5CtaU1/PzhYyhRLl
5Mm83bRRLypN37yZfF27mbiHAjxYbTAl6nm6JzN97X9eJnbcdRUyhZKRLVrwWHmPQ8J5dwAAIABJ
REFUAl17WGwzpZNt8ftcRITLxmMLY7Gu0z6DEFz8YDHUgpqgXEEO9VPWJ/lOq6/Wr+Pqvft81tfO
BJsRKlHFvVP3UAtqiubOzaVFi3j19i0yfwUIAh+2biFXp4/z5jupdKpfD22IhnYzZyFTKLn+IGVM
Bywxb54kMCkUyRfsvHKkRxTBy0ua0Bo7ZYpLUkpTis2hofjJ5Rw6dIijLqgZmZj+/fsjCILZo6Cf
n8XlvXpZdov+tzFgVjDzh7W3uO7YsWO0adMGYY3psZcvX55ff3V9ve6PMTJtys/bbUbT6WhftT1u
vf6hLKE00jAiTahL479HBtsROSlKkCClVCYWV3SpuMuLGJZ9DAIMSJFyHc/ZbrM2YUbU3bzIdYrx
UyHD8+fJTLeKfw+KTVA6URHZs7OpUuW9Q110y10Xj9I/mSzzyPItp9dYdsxz98kLSPfuirLNyNZc
coId07YMXcp78uSZ7fSVr7+uyqZNH1ENkD5SYelCg7sSMXcFWmO3YGO+NJyjSe6B+hpJrTYkEssC
RFhvWhNp1qxZPH32jNmLFlns2iwqAIgMP83BA1LUFbKsXDoYyjWjKILI8HAiz1qOPvCTyylQwH7a
WszLGKoPrW63nZ6j4xxvaw+dWPfQRiSjFXSCSvc/7Lt/Ly672On+k8LLp7cI7CxQvLyCvIWrUb/5
JIbNMaQAvvvwQYoA+2ItM7dt0UfOhYy3fk73rh9J895rAKhc3xBl1PG3jryIsBxhMWTZMvIMDOSH
Pr3tCnQAr96+JWP7bgzyb6IXbAoUl67fg4EHKd22tN1jb7yosdV1pX77jP5Ne/G8fRCPlfeYUkZK
MRt0fjiLmufGV5OHkluKcOXNFbPjkCmUdKwnCRJenlKkarHefRi9arV+rIcuXCBeq01W7S5XinVa
UUSmUJLTx4fvO3fCPUFE1IZo+Gx3WX27SevXM7qleQqoMaevXE3WWJwhdpOUBlt43hCGP5Iitzsf
kMStqIdRqAU107JYj8b01eRhddWVLhmLNkTDlXv3KNnPASOoBMp1KqePrsuTPZv+emg2eQpXatTQ
18H7f2PjqJFoQzQc//syMoWSmA9Wvr9SgJAQSbCbNy/pgl3WklIGQOOEjxBd6rvOoKW2nZp1qYFW
q9WPZ1JQEKIoUru26Xe8swFviaPpdOLTy0ePDN/vRo/zhw9bXB4bFaXf9t9K4np0VatWNRHk+vfu
TQ25nLA9B0yOfdJ33/HLypVm4qUreDX/FVvCnDRKS0EePH3lcNvn85xz7k4jjZQgTahL479FkAB9
nYv2cem+A0TLIt2gKJj9EXq7OFrL7/7xlB+LMT9khlc3pecBIqy07NroMEvyQdEWcCFRAdmDAQ53
oX08nn1Rh02WieJhinhZjwATxcNk/W4GoniYhb2HEw94yGrT8uBeln5tv+j8unVrpSeF/V1as8wp
LKTdlpwxmldhFyy3L9OdSd9NYOrosYyfrrYdhWYhYkwURTwzZ8ZPLifaidpxzvDDsmX4yeXExsYS
mZA2Z4t5BedRf4plQdYiQz+49v8VIEKOMk71OdFdEnociQL8qepPDrdNKrt+GUxgZ4EsOQoQuEpE
3UVGjwl/kDNPSTrPmatPa30VHY3s93aoQivYTD815tjOGZSt8S2BnQUadzaIvIUaSmK/TlQ6FxGh
rz83t2dPJmQNwcPN/qy6TKEka9t2TMgawlyj6MuuYw7po91KtjR8Rn1a/lOL/aTLnM7qPupPlq6v
8W+vmETQLawwTx99d6n5dc7+NJxJ3dORb4wC3215+NU3kBzdz9C+naHWnkyhZIdqgokoV2/MWKsi
nU64cQTdNSIimWC8e/7Ooe2McVc2xV3ZFG2IhkdrVjNlw0a0Wi3eCW6nf3/9J76aPDyIeYgq2H4k
yIELhs+i8IibTo/HGdw8pTTYsTvkZOrRnoNd/tCnDqtEFX3/6sv7V+9RC2rUgpqd/Xfqtx0YNsRu
ymti1h2xnR2gDdFw6/Fjp8U1lahCEATUghptiIYcmTNzd/FiEATOzp3zfynWgSHCzsvTM9WdYgcP
NohOggBGZsd28c4rGaVs3mwq9ukEu1t37qA5dMjMYXnDtm1Wekw6T54+ZcB335nt68G7d/rxWEtB
jYqyuNgiDx6ALptdEATy5MqlF5+mjneuBmXgyJH6bf9tgl30u/ecvBjBguEdmDFjBoIgULZUKTYs
XWoiyGmCg2naqBFZjUobAJQpWZLFs2aZiZdBkyYhCALp0ztmgGSJzOkz02lFJ8Lv2K4HnBrcvP/U
oWg6HVkzZP3oIgLT+O/xESoDaaSRguSwH9Xgcv5cCnt7Wxa8ggQo1xc8vEE0qpHyMUTTzc8EXlnt
t/sn+PBG+tvPfqFzh3inc6MUSJyf5uPTmFevdtjcXBQlge4Lo+eGv1K9tDFn9pu1BwgeI7kVPoyX
lsVqTcU+W2zatFl60jTknxPq5nhC5vxmi7NWr0B49++QLzekeeqcXCfMmIwgS6j/8f4VpLNR9yxA
ayYYz5w5k5kzZ+p/TGfLkoWwgweTdRjPX7ygQj0paqpAgQIOO71OdJ/IhLgJzu8wQIQDQ+ynaTuK
u5eJa64tLm64iBgvOiy83TvlnHjgDKEre3P24FICV4l88+08ju6YzsEtKhqMvKi/SZ7Tswerhpqn
3F4NtR8ppTOgAHBzN697OD52PEOyjEWmUPLzkCFORZS9+/AB75atEASBeM02mymoG1oaarfVmVDH
4X3oqDf1HrpbT2F1IIEIFtOB2w8Nlc7bE3g29AhZcxoij08+O4X/4ebk6C5S72wNfs+0h+KZiiNT
KDn0vR3Xb0Abq0Xm4cD8rgCCKJ2LGdlnOCXwejRthjaRK+f4BFOXNxsMTr2PlffY8WAn2TrYvwG8
+9RgOtJpzhwy2zCjcRWT4tW4C2rU/mF8tXgKd8Rg1IKattva6s+HWlBzetFpTi+SomEP7Xb8s19H
x6DZtK1luzh89KaNZGjZihojvuP4TOfS7lWiip+q/kT+cy/4ceJuunTpyp0iRaCJv0ltw/9HjOs2
ygSBOI3rRS1rGAt2V69C0aK228vcDe9LUbRct23QoEEMGjTIZFnbtm35zhlF0AF8fHwICgoidM8e
p7d1Zu4td27dsQpUksvZ9PPPTu/PEpHh4XQdMIAuXbrws4v6TClOXLjBmb9vMaBVfQRBwN3Nza5J
lqO0VChoqVAwfd48BEFw+DdRYqIWRCH0FBCX/bP3NUG/7nFKqAPYO2wvcdo43GVpckka/wxpEXVp
/Hd4dBY6/5W6+5yXwbpIt6c7IECDRXBismG5T8FUG55NYqOg/0cY+q0TpGTukD677ba28LBQ6jhA
C599a7Lo1ePbNG8+O+n7SQG2bz8OpKxzl1P0tOy8K18+g/Du3wHSTWmpVqWkSA2ZUZHeBVksbmtA
gGIt4VGY2Rrd7Py2kBCz2fughQu5c8+ywHT2/Hna9+pl0r5i/fpotVpEUXQoig4g+nE0Db5vYL+h
Nc7/mPRtreFA3bpNbTZRb6LtVE4duhpuro6mu3IulMDOAv5dl+gFp20/daP2kuNMePIVfRYu0tec
G+zvb7Kt8oNUR2qtYi2emew4HhtFRoxfbprGPnrVatybN+PaJ69RhVYwS2/NnDWRy7IRt588wbtl
K3aoJhBv4wZeWB1ImTGmP/JLNHXOJdrLZ73e3VVH4CqRwM4CcbGGwti6CCBd+m1Gn09NxMPqXaew
V36Ex8p73PWPpHim4tT6qQM5up+hxfWGfHvSev2xobeHMslzkkPjVWlNrxVHo/FkCqVZ+u0n30r1
5yoWKWzW/sdlZ7nX/DqfaPLa7PfNO8Pd/4Vbt/TurymNSlQxZqecexklF1aVqGJ9i/X686ESVahE
FYUaFGLhtqW0+FqJWlCze/Buh/r/vGRJ4rWOFTx/u2kjJ65coVGg8ynJPU72YPyH8ZQeHUP4/HnI
mvij3SON8f81ss4YbYiGOM22VI+wA0mIKlxY+hiz5WwaF2NqhqET6+yxbt06u+7blh7Vq4tER1te
9/LlS7p3t19OwRLOCHWFCxsc2S2JdMY1+sRnu1ka8QEQ8ZOXB0TmXpXOmaUiIysXLGDVqlUW1nw8
BP26h4zpvfQi3ZbVq7l+9qxJm0mNKxh+51Twt1u30E8uJ7GtysjBg/WRhknln65X9/RlFFP6Nnd6
uwafNcCjt2VTjjTSSA3ShLo0/pVERUXRvXt3BEGgZcu67Nw5Ezhi+/HJW7Nly5ePokaNsilTTPYH
H4iLsR7dcmGFJAwBHDMK0++ROoWvbTI3HfR7bL+dMTnL2m+TXIwFiKFWzBYKWa/zZELznZaX//2L
6esFWdmyZStQi0yZvnGs7xRi0aKtbNnyhCZNRlpusMx+PbXkcOHCBTZu3MjSpUtZunQpR363cg6N
0KzwJrz7d6hEFSVbJaT/lXHyR7z/RvilotXVtWrVMrtZyJ4nD9/262cm4PnJ5UxbsID2WfKbtNdq
tU7/EJ31ySxqjKjh3LEYMyQmZSIhdWJdtHlhdJ1IUHt8bbN1lngR8QLBzXVj1KW4Fi/vT+AqUV+L
TKZQ0jzkmV6cu7BwgcXtM+XYSNm41/rX/S5YL5Yf2Fkg8GfpM3bxWMPnU+DatZJJQcsWaEM07Lqx
0OL2TXv+bHF54Z698OveA22IxsRJNDFTM04F4M+7ztUkvLbzmv55xuwbef5AqsFmLJZGHowkcJXI
glEl+PGXmcgUSjzcpLRLXfqth2cGAleJRFzcJzlbarZRrqDpRNCxkCh96uwvVaUb08ZHlPhq8vBp
SD6uvJGiFjPny+zUMSQWdm2JdZfv3kWmUCIIgolI9z42lievpf/16dnmkyU7zpwhnYcHj5R38dVY
F1UB8mQ3TOr4V6ns0DEkl413NjE5To0qtAIgiVoT4iYw6tUo1IKaB2HS+3NzoIbHynv6c3Zy/kl9
aqyotR6Fslsd6NR4tCEadoeF0W2ec665OlSiilWfLeP7IzXw+PIrtOpAcmXLhk+btvY3/j9A99mU
2oKdTCYJb1WqWHc4fffYXOESRfjkk5QZ0/Hj4O2IrauTeDioifj5wfXr4O3tTUSY+SSevp1cjl/F
5oxqOYZehTwxZE0IzG1dET+53KrHj1/+/Fy6dMm5A0glhs/fQO9mdSldWPrcK1qoEBXKmv8GH78j
jMiwrYzcGkZkWCgA88d05ZkWOtSuwI04aFBZcu6tUkFOThuqQHLFukezH/1jBg2BP2nw8U5aCu+1
Kdd4/e61/YZppJECpAl1aXz0tG7ditat62MssGXMeI7ly7sgiofZtGkSjRpVS1Lf3bs35vjxhYji
YZYu7UhiIc/PLzdLly51vuMgQUppC7Ay222cnmZ8o973ofP7cjVnZ0P8B0if07H2PxWCEm3sG04k
F+PzZCu1r9l2x/rLm0ioeJ9QZFaw/rH45k0UUiRbLTZufEimTF87tq8kEhFxHze3urx5Iwdq0a/f
bJo3tzEr+Pp2sve5evVqs6LCXdu3Z8+mTWSKj6dKsWJ8VbUqX1WtSv4cebjVIJy5U6dSpmRJk208
BU9W1VuFSlSZRNYBkqGEcUTjrk7mA0mMkw6nKpWKyMhIizP+p06dov+ejaZjchKdCUaySak09wAR
ZB4m50wXEeXouA9MkFyck5Tam4jAzgIrJn/ON9/Og69/1d/sakIXMiFbqP4m2B7v3knz/W22tAHA
J7/1tOlmvQwREY/u/oVMoaTcwEEEtmuHNkRDFm9v/fUaSCCCICAvU4au7dvTr1s3evRRm70XZJ/X
IvLxY4fGGhsdS40RNegz6gYAdcbbT3l193JnfXMpxdPdex1Rz1qRIYP5zc2qeqtQTJrMsGvl6Lfh
KJNz7ef9VvOi3R/i4igy+ge0IRpiop4R2NmQwiRTKLm2dInZNjtqScLRQ8UdimcqBsDYvyboXWf3
PNxr9zjAMbFOplBSsl9/tCEas8jE9C0kgdI45dUY4/qBj5X3uPvunlXBrpENQTWl6B82GJDOw8Q9
kjgoUyhJlzkdKlHFixsvGFxgMNPKGCLqdVF2KlGFzEPGRLeJetFu36h9Jv1nSGe9pqE1tCEafv79
9yQLTcPuDmPki5EEXWpAlrHjuHvsKL8EBOCmbMoLZwqM/YvRfVZ9iItDplDSeY6Lyhc4gC5SThCg
Zk3D8ienLU+sPnqUfEdZa8TGQpxtzyuncbQc2q2EIH5vb2+u3rhhtZ1kFrWF6QfOUKzxEE5v/R7B
WxK0lq0JpXMpbxZeTRxDJnH77l1y5crl1PhTgwGzgpk1qDUZ00vv/379+rF3i+OGDYOmrqRiBTnB
h8P4qpKczqFnEZ9v4bEWnmihsLx8iozbN5MvYePDuPzwcor0b40dx/50OuXVmCK+RfAZZKM8Sxpp
pCBpQl0aHyXnz5+nX79mwBE2bBjEhg3Jc5BLKpGR6+nV6zPgCF27NrK/wdWNBhGudFfLbYIE6H7d
8roMKTT96QwHA5wTD17dhMvrbQpcycZYoGmS6KbtlunNS5LZkJD2NszCj7a9fcwWtWrVijdvotEJ
d1CLsWN3Iwi1qVt3MCtW7ODxY/sWZufOXUOtXknu3M1xd6/Htm3P9P0VKtSG+Ph4MmXK5Ngx+Moh
tLVjbROhEyKCpk83KyocOHIkJWwUyWnWuDHb16412SZ04690OdgFQRBYtGiRuVgXG214fmmNY4Mc
GuvSCDT58hlcGDrR6e1m5HCu7pZdUqq+YPoceoHz/pn7aGO1To378KTDDkfeWSOws8CNC7/RatIt
epzKjkyh5GVUFNoQDb99+xn5M3vqo97sER8v8sehhgCUaGY7fVTsFEi5mp149fYtMoWSpdpv0YZo
OP+DFE2ku94vHj9uWnD7l18IHDmSkYMHs3LBArP3gsfpU2hDNHz9tW2RPuqhJFo0nNGQJSWl6/vO
iTu2NpHaz2xI/Pt43L3XmaW7AgQ8MBjcuC17ohcNxix5Y1Yj78KtW3g1b6EXFTNkykHgKpE7147p
hZrCn1o2tkjMlDITeay8R/+mvfjq04b8cG0hvpo8+GrycPiJdUOD8R9Mi7rr6rE9ePFCPwZLoqex
kKQzkTAmd+cuZsJk3vR5eKy0LNalRl26xGTxMNzcjXs/jqmHJGdo3bGVbFWStfM3sd5nvZkIB9K5
U4kq+v8tubYem35ML9ptbrdZ325eaKhT49Kd7x93OZZia4lBNwbxdLOGovmKIO/4LV4eHizds+c/
kQqrw9PdHW2IhhWDByFTKPFq3iLV9i2KcOyYJMIdPw5x0VYyDHA8DdZZ3N0dj4BzFEe053TpDFGF
UVFRfN2qlcV2prXaZFzdMZfKzUZz89hqABqWyYc6+BhDilmO8tJqtWTN+nHVaU7s7Arwww8/sGf/
fitbmOMnl1Og0fecXdAO5Zz9qL6ugJCtOZHh4eSUwY3wlJt0L5evHJ+N/yzF+rfErj+SX/JIXCYy
YtMIF4wmjTScI02oS+OjY+PGiZQr95pFiyzXkRGE2vpHA6/anIiFuNuHEWQNeHPpMB6eDWndTboZ
C9+8Hnf3+sxbf0m/7XPR0A9AvXS10VUuKuhRh6rTLUclrVw5GjhCoUJW6uE8OiOJJLZErp9LQQZf
yJJQb8eRVM7UJEiAWvaLiqcqunP0SUXwyAjFEwlRm750zX4e2/hx8qd51IklpkyZgiiKHDwYRrdu
0/D1VWAs5Fl6lC/fDZVqBffvPyEuLo6mTZsm4xjCJbHYCbJly4YgCBzQaIgMDyfkV/suio5QomhR
vbgxPCBAilZKLNY5i8wd/L6UXH9dhI/cecfgfDXyuWz/gPSZcTEF6+EEiOQ+lMfEedQeoT2lm39H
a9kZc/HURgI7C0Rc3MfEFwqKjllIY/VEvag0t2dPAjsLFC79JRXrOl5yIF3m9cjORjrUNl7rLtUF
Cw5GlW0799dIYlmjRo0QBIGb584RGR6Ot5MCztVTp4gMDyfi2jWbaUBBuYLM0kUj9tova1BlQBVm
pC9qUaQDyNzLcJMmv5PNZJ2ubh3A9M2bKTtwkEURLH+xzwH4scJ91F2cS0XyX+rP6UWnGVi0vz5l
tnbOWky6NFUv3L3XGmoBJjaf2Nl/JzKFkjyduzCvV0+bIp1vFh+GKBQWx/HQimskYFGsy+RioW7U
qFF6sdc7S0YpijidJ1u3bgUgTozjaiPTtLlRr0aZpMF2ONpJn/L65y9/Wk0PzlEihz7Krukq6fvh
wroLqAU1gghDl/3k9PgnVqlM30bfmEWM2nqULVuWO3cMYrN7eneu79/F3E9rseHIcUavWq1PDX3y
6pXTY/q34iaTSRGrWzYjUyhxVybjO9xJRBFqJFRfsBFYlmJiXWCgJBS6iswOfLV/+GD6ulSpUnZr
rzmLn1zO/fv3XdpncrEk0gG4ubnR21bdTVlB+haUPod1v8kOTf2GigPWElQvGxFGgubpsHCsfSP4
yeXc0oUyJoPUrFd39Py1ZEXTGTNrzyyX9JNGGs6QZmOSxkfFy5e7aNXK9o2hKB5GJtSm6sSlMKUX
b86ux6PmGkTtPgShtpGjppbayzMSF2eYacqsHE12z86IsdJNccbaGzBUq9Gyf7s/be0YJkVErOX+
/a3kzt3MsHB9bbh7xH4k2rNL1tukkqtQcHAwBw4c4ObNCERRJEeOnNSpU4f+9RNmDquMSpVxOMSc
hOnaxsGwo4OVc5cCqYO978IS2wXKP1pqTYP3LyGdPZMGKaros2LFOHfggNk6P7lcPyOte+4nlyNz
S8emPceokMMdP3l58hUqyZEtwQDUbVCLgrU6slJlKr78feKEfn+iKEpusCWBkh0dj6bT0WKPSyPQ
8nVuaeZOawuXpbwmZncXKGW9mH9ykASAQFSzWmPr/fLixQt9BEHYT9br/lhj34ZRHN0xnYkvFICC
iQkpl4kxdmJ1lp0DpbqI55afo1iTYmbrQ0+dRjl5MuXudkQbtkLa31HpeqxZsybHEyLoksveLVsY
Nm6cRTc83euht4fqa4z5FPHi1fUYs34S45t3C31jzAW9fF27ce/ZM7w8PZF3kRP+s3QMe4bu4as5
X+nbBa4SGd7Ri9mvvrKanitTKLm1Yjn5cuQAYMmECmTKmof2Q+1HZlXoWQG1oKZyP9M6b+NLjmF8
yTH61w0PfcP5l3+SPV12/hbNRShHUocfv3zF7B5JK0r/WHmPJkeaUsBbqtuZOUN6/rh82arwZ4/Q
0FAGTRxM+xWS2ZBbB0/GdBhv1u4M5zjzlzTps6jhD7x4aCooqkQV8W6BTG58jo3znvNLTRFBEBh2
V7rRVgtqRr8ebdUkpVyncpTrVA6QIuzix4hMbnxOf34zfprRJOpSx8WLFyld2uB6375FC6ffB39d
uoS8bFmev3wJgJ+fHzdv3iTo0E88+O03vh4YTIfps9CGaFi6Zw8hJ0+yfULy0+b/TeiuazdlU0RR
JF6zLVl1vZwhXz7rNexAWp4rFzwwL12aZFQq2/t0FntCXZcucDlR5uSFCxfo3r27yW+WpPLy1Svk
derQqFGjjyrt1ZpIp0MUpc+R0F9/pUxJ5ycf7eEnlzNkyBDy58/vkv5Sywl23d5TfF7OjmWyg/zT
rrVp/DcRkmq3/C/h//rg/t9wd3cnLs5cMEiMm1CbEoPmcHFeRRp41abQV5/y0/5MaN8sB+Dvo4co
WWs8olaDYo0bIZ2kb/4pleoz7qxUUEMUDyMItVnUwJtfDkez//1hvARDipdB7LPOp5+25OHDR5Jo
kL8+tPrd9gbGdel0r3W0OQh57dcvcoZu3bqRJUs0s2cPSNL2w4Yt4OVLb1asWGG7YeLjchX6SLoK
kuOntX0Yn0f/DVDMchqE3W3B+v/H0vqPDd14dbXc7Ix13rx5lCtUiIJWfnj5yeUgZMKDN8SK6IW6
G8dCKPx5SyLPnaKwYg43Qoaa/EAuXl7OhXPhWMuI8ZPLEUWRawM7UHTmAlhoFBXkzPl18XV3f8MO
cre2bUTyQ7EfGHh1oMv2aUYKvJdm553Nm3tv9OJioCIb6lCDeFC7Rg06t21L9cqVyZA+Pa9ev+bY
yZP8tGYNYX/+qW+3bt062rRpY9b/uvnNuHx2GzNefkOM6IFm3DirxfoPbg3E3TM9nze2YoZih3fv
4pmRwbSelw6ZQklGLy/OjuvCrcuHONYmvX79rSuHKVC8NoIgWLyRKyKXc91ouUGYrkhk+FmTZYnp
O3w4H0SRffv26QVIY1dP4+eBnQUqeobgv8zfrB9An+5qLAbn6tSZRy9f0uurr/ixv8E4Qy2ocfdy
Jy4mzuQ8uCubkjlDBhZWjcbNzYPWAzeZ7CNT6zZEx8RYFMoiLu5j9YyGqH42N1bp06cPS5Y4FlkM
Uo3IwMBAAOLi48k0rB6Z6kshP/2a9SRQG2hxO+PUSVtCoyNCn3H7uT17MmTZMqe2A6jWuTpfDG/o
1DaW+L7cZLRGDq2+mjw8XV6JcTvK4y7ITOpAHgw8yCH1ISbET0CQ2Rd5ZAoluwIDYc1jTsw9oV8u
IqJGuv4uHj/udPSoI3zZogVXb9ygYMGCnDx5kmyffEJfnxFMOjSMT8p+gkyhZE7PHmbOzf8lZAol
Phky8GLd2hTbx8UFf1JqgMFMQBDg7FmoUMG8rSuFNR3u7q6vV2cJe2MvW7Ysf/0lpTqeO3iQrFns
T1geOHqUrgOk38kLFy6kXz/rBkVm40kFscmeSAdSvUBPT4C5wFBKFC3K7o3OZVckJnjjRsZOmYK3
tzdRKVB/8nn0c7IPyf6vEsBS4/+dxv89Ts3cpEXUpfHREB4eDtiv6aUFLs0fijAfvkgH3TZtoOnw
7sg8WyPGSmYMglsWELKyo0tthM5AuirwPg5RPExc+HIK9Jduvvru3UW/BIFOFA/zYe8saoU5VuMr
LOycdGPtiMgWJEC7Y9bXu1Cky5QpI2/e7GLFCis18hzEIPAdIVu2Jjx/nopqXlY6AAAgAElEQVSp
LMeMZuFtiXSJcUaks4Q2zhDZ2PchLHasftNHR56adpsMGTLE7uxzt7zRrMk8CC4aXALdvPOD+MFi
+10Tm5Ox8kCrIp0xGf1y8v7nb3C+HHoCg9+5VNh6uv+YXaHO09tylIvL6PtQqvnoU9B+WwfYN3Kf
XqQbNWoU06dPp0rFikSGL7e6jU/mzDRq2JBGDU3FicoNGtC2bVu2b99O48aNmdjVHa02nokvFHSs
N4e3Q4fYHEtgZ4FO3+2lUKkGSTqW8YF/MinQ1NVOK4q4K5vqa0Xp9hO4SuRYG0mgWDevKW0HSyYF
C6ZPt9j39fBwSlcsT1S8aBJFOmSlNGFzOKg9PuUt37wtnjXLJO3qaqjkkmox6vJxfuostfxZn7gm
3ehVq5m+WapDZk1ciouR7ox1wp5MoeSLcuXYO0mqu/j6+V2z6EVrIh1AoVINCFwl8vjuBRaNLcP2
ixU5e1b6rhzWr59T0SoTvv/eIPbly4d/z16EKMdJTqaCyKdb86GVaRlcdCBjS0pR3DqRrmqxYpy6
ds1a10liTLgKwSO3w+0LFSlMu60dXCLSAYw+P46xf01gRL5hFDtUisfKe/wwZgGDG+9FFVrBRJyt
G1iXuoF1UQtqqg6qytfzbNdD9MmQgW8CA9GGaPTRladPn6ZKlSouiR61xW8J12jr7t3x9fVl55kz
LK1UichnfZnoNhFtvIYHL17g3bIV0ZuSJxz8W9G932zVZEwuRTua1uwURdBqLQtbujRYV4p18Zb9
GFzKlCnwu5358D+NJpdkMndE0f7ASpcubRYV/bFgT6Tz94ft2yEiQvf/HAIMYVai76Wp48bRvmVL
m/s6Ex5On4AAnj57BkC5cuVS9Lxk885GZT/TSb2IiAgiIiLIlSsXpUqVSlb/jgicznJuwjli42Px
cHNxccY00rBCWo26ND4aSpcuTdGi9sUlUTysf+yLOUw1D2g0bznaDxv0y7VxIQDEaxPaxszSR8m5
y7tza2FF/WtRPKwXCzwbDufkSPuh3RUrDib32jww9IN9kW1Pd0n8yV3DsGyFUcpWG/vRe47w6tUr
4uMP8ebNLpf0Z8zz59uJjz/Eq8R1Z65vs7xBcjkxyfD8KxsRfWHzra9LCluNZv0tGXvE/gtc7Q6N
gLZH7aaH5khIe7PFhNAwrgV3M1nmJ5cjyKQi6fG3V+Enl6MYJaW+9t0SwbNTP3DbAW+AXAFz+ft0
bag7235jS7h7Qe7qsNg1Bixlf5xqs36eWlDT+1xvl+zLKhk+kVyUXcDD8Iccm3GMb/d8iyAIzJ83
j8jwcDYsty7S2eL0vn1EhofTpEkTBEFgRlRzAleJaEM0rHJApAtcJSZZpAP4fqah3pdfXT/U/mF8
PUGlrw0FcO38Tuo2CzTZ7nKY4ab43kPLrtrF5eU5ePikybLI8HCGlM/Mwp51mRbXl/MrHault1Zh
iJr585c/TdYJu7uxeU0Ts22yfrLJrCbd9M2bbTrhToiXJjN88knvRZlCyaK+ffUiHUDmbHlN6tbJ
FEra1Prc/jFs/h31aqhVubK+ptGgXo7XEgSYOHq0ftuvixUjdMJ46tSpQ1tNWwRRoG/zHsya/z1j
S46iyZGm+GrykPkbSeQ8efWqmQOsMZ84ECWjIz4him108VGkL/2Qv1/bdxz8YlgD2m117Q2ejpl3
ZhPdQUodHXhRmgxT+0tp5onTg1Wiimu7rlmtXacjcaSWKIo2RTrdDbxf+ZomrxM/bz5ksum68pV4
9/IelqSPDcuX06lNGxpVqkSFwYPx+aoYE+InoBbUPNwSSfSmjcgUSv3/47+I7v3s0bQZMoWSmMTF
1pKBp48nz84/NVkmk0niTevW0nNjXF2zLqVq4BkzbhzUr+94e1GMs+j6nvihi8D72LAmNN2/L53r
zz+H0FDp3BdMNLc3fPhwk2O8EBGBn1xu8zF57lz2Hzig3yY8BUX+6OhoBEFgRLEmwBH9o1ChezRo
kI5SpZ6bLI+PP0SlSiUZNcrx0jyNapS138hJ5PnkePZJ4QnbNNIwIk2oS+Oj4tq165w44cGBAynn
OpQcGjQYBtTibPtz0GIXyByYVbmwwtwo4oVRtEDeWi4Zm4/Pn7i5mb+ljc03jJF5mtfDStzGGDc3
GT4+f/L+vaFQOKdToLhqUMIxlOwkCZzW3HMBDgx27b4jE7ngKRJZ3s930H31nyBnWSjXF8449j95
8uSJzQLMxjd5uue6G++bYYdMXs9vW8rkdX4r3yy1GjcmnZGtm7zkTMIXGRXMmetkfF274/D2MbyO
dG47K5SaPZ6Yu+Ziztsnb1OmLp0lAkQQk38zu6T8Ekq2LEmRr4pwdOdOfZ1AS8SdnUHrYMcKZ0eG
hzNhxAiHo2OSU4/OmBzZ03Ht/n3U/mHMLnYaVWgFfptk6tgbPLsxdZta/z99P2eOxeVXws+Rw9vT
5DrX0X/ZQXaOtP4ZXapmTebPT5gwuCJFB+iula0dJWMBD2/D98StK6YOqRmzb+TGZalumkyhRKZQ
IrrZj7rRpUS+uiNNnvQ/UJI+31iOvApcJVKllVTXbO0I2851giDoo22H9DF3u04KPwYFERkezuVL
lyihNET+3Nx/k91DdrOy7CqeLq/E613FqNrAhxzdz6A42txiXy+jo3mw2nHjlYlr1wEQGx/H23O5
ef7hBflCrYvhY/+aQLWuNayudwVD/gggdwkpuk/3f15VXXKCTyzKDbw6UJ9CffePuzb7fZvw3SyT
yexG0vnJ5USesxzl7yeXM/NSPFvmjjNa+gHEOD6r29jqjcPE0aMBCJs7l44VKgLSe6HIN0VQC2q0
IRr6L/6RdM0s/2//K8Ru24o2RMO0zZL5xPmbN13S7/XgKxaXb9ggRddlyAAHDxqWu1pcy5bNfpvk
8IkTc3Ipkd6bmlgS6QRBeuTIIR3b0aOO9xccHGxXsDx37hxlypRx8ZGYIgltR/D2DkMUD9utSa7D
zU3GmTNLmDatMXAEWWLlOREDZgXTqEbKHMvKritTpN800rBEmlCXxkdHtWrVqFdvEFCLAwfiaN06
lW6QrZAx41ecOOEB1GJf85uGdDs/2+kogOXUPONIp2GuyRdIn97L6jpD5OAhBKEO0U/uASDLWxkQ
EYS6/DZhoL6gY8TrWJuCXUyMUR3B+8cgfc7kDt/AqWmACNXHw6XVzjnhemR03Th0FG1mv83HQr25
0GCR4XWACDG2U8lFUcRPLufb3ikcKYZ08zdy9GhiYkwL6suXzyD8UoJ4EJ+ECIMAEZa5JlXUwycT
12ea1+GaW3CuS/p3mNnOOXEmRi2oEWQCOfvnxN3dnby5Laf8Le5ak2ZLTZ0pi1SuiUGK19Iq2Fwc
6NahAz07daJ8+fJWxxDYWeDR3b9cItK5+bfgsfxniubOjSq0AstKd7LYbkhQpNmyBq2n6Z//8ccf
LnUHLFShArGxsQwcKNUtFE42JkMO8zpgY6LGcHKeFLEXuErk77OSgOfuvY6oZ63I0bkVMoWSV+vX
oQ3R0Cq4JSE9QuzuXycINv2lGTmivPi1iXXH5jPv/VhQJoLQldbf64IgcOK33yyKPH5yOe9vbsOv
fE3EJxsprDCInsbPbZ3fUwlRmYEE6pcVb1KcTzp2wtNdKjlwct8rHivvEfK5NEmic5OdeTkIgGzt
2lvt3xKT1q8HYNnu3wComaM6d/wjyBNagIuvDNd+fHw8Y/9KPeODrht7MPZPaX/aEA2ROV6zoqYk
tKgFNRtbmwrhKlGFKEr1Dx+cNXcD0IZoyNjKsbIdAJFndlKwquXvt8jwcEaUTPwZ5IlXjQns7FWU
KedtFyMTRZHtJ/7Qq0CZcmdCJao4GHiQXAOe8H7rFmQKJaeuuja9+d9GYLt2aEM0lCtYkJwdvkWm
UHLx9u0U29/bt1C3rmTYUC9BHxFFScD75Zfk9//sWcpF1VWsCFYCos34fxHpLl6UjkVXWlIUpYfn
vzCgq2XLFsCRBKEt+Wi1h4AjVK5sbpzx5m0Mqu5JMw1yhC41uqSaa20aaaQJdWl81NSrV48NG/YD
tYBazJsXRpYsjdi40b7pRFKYN28TglCbwMDf9fuMinpLtWrVJIHt3XPHa2LNdrffVnDNW7B3bwcK
Nb/Zj3vpTnjnzGOyDLR8Nek8Q49IP74LZbYdJejj4y09OTlF+lvMdt0LpzgizcjzxyTna491sB4x
lCxSyY03WVxaA/kszEwutD/FLYoibl5e+MnldB80yKXDOn3unD6tIi4ujv79+1tsJ++enpevzR08
HUZnoOECSs9TmaTAqgU1Y6LG2NgiBQgQk53SOyF+AvXq1eP6mTMW14svjjL9XDRbexl+6PrJ5Vw/
fUxfCuD8vuV4Wfk4GDtsmNXUGF0U3Sd5kzejnbdLV2QKJcL+VmhDNFzfJUUd7Rq0i/TZ0pvtM0uO
AmZ9GBtXVKtWjatXr+Inl7M8mXemfnI5n332mT7C+PGFxwCMeCKJzo//emzS/tDEQ/rn6+c3x917
Hdov1iJTKKlUpAjaEA2Z0kvHVKpNKc4ttx9Vrqt5te1bSfiL+N3cLRbAu2UrenzZkH5T/qJmoxH6
VFhLfOrra3VdiRYLLUZh6VLgdfjJ5Vy2Y3CrExkLzx+CIELly9lpVr2aWcTf+JJjeKy8x4gSAfQ6
05cc3c+w8c4mS11aRSYIPHjxnOMzDc7O9/xv8TruNUsjfgJgwiXb6aUpggA58kslCKoVK86dbNF8
MfULAC5tvGQWXZevRj5UooqllZdaTYd99fYtSqWSktWrW91tZHg4uOfm5smthtfG6xK3TeDyouaU
7LeRceVsfyfqahOKWi1r8uXTL68bWFcfHfhy0Rrex8aamIf8l3kS/AvaEA0RDx8hUyhZumeP033k
qu1YDcbXr+HAAYOo9vatFHVX1gWZgunT22+TFMIcNCGvVQt2ub76S6oxYFYwayZ1QBCgZElJmHv7
9p8eVfJo164dmzZZKo8Rb5Lto3vunnMg4n0N7sUWI97XWMwI0nH69BI8EymXoxdtJmfWlM1+uTnt
Ju/j3ttvmEYaySRNqEvjX8XgwYN5+fINrVpNQCekQS2ePSvJTz9d4csvJ5Itm8Ik3TPxI3/+drRr
t4gVK66Z9AG1GDx4HqIo6t3qAIh5LokAOctCgIMpaU8vgKUitsapkwNfJ+0kWODOHQci8zJ9wdyv
7/FpkW4my2YPrkeWTz9lbi3px/fEDv3pt2CB1W4qV06IyDiakBZTIOl1p0yYaxQVmBSDgOzJKzxr
lcRRfS4ShFzK7i7J2vzgwYOIosjn9eqZ1CzZsXevU/28fvMG//bt9dv3HDpUn1bh5mYlSizyN6ih
5vb9b6TXq8sl7SB8CsLPpZO2bSKKBw4FILhRMBO0qRdlY4KlGokO8PqO4XMld+7cnEowA0hMwXoD
uJnopryAm8CTd3Hsei3y66FwPDzciXnvuJWfNj6Oid08kh1Fp0sBvfvzSrQhGiaqpDvI47OO69t8
u+dbu/38vtFcYC1atCiiKDLnxx/xk8v1bn+OsH7rVv21/fDhQy5cuKBft7jMYryKPjO8LrvYZNt3
z9/pn0/etBbtF2vxcHNDG6Lh1Owgh8egQ+d8OvzRcADSZU5HfEy8RQHn3YcPLE04zmyfFDGpW+cM
7uITxh18bLbcLX9n0/T4s+v4ulY3s3aJ+a2UFK05YXsFFO9KsPWPEzZr6LV068XU9D/TKl9Lau2v
h68mj15os4WPtzS5VK14cZPl1bNXo2Xe5rRfav9aSil67+hH7ry5OT5LEhFr/zGTgAcB+vWTvSab
baPSqpigleq/vX1quItP7+lJ1rbt2LZtG2/fvWPujz+m/AEYoXP01iEIAt/evWsmxqlEFTf332R/
6Y1oQzRpYp0R/lUqow3RoKhSBZlCibuyqdW2ffr0QRAE/aOAfyGT14kfbm5ufDCqiyeKMHWqJNiF
hEhRdT17Jm/8b9+6PqruwwdJgLNHVBScOQNfO5Ds8rHRunVCWmtUB169Sp2af6nF2rWWjZge/TSS
jKUa6LN+QMoAin963qTdHx8Ok04Aa/kWHz6YOowMa/dlssbrCH7Z/fDqaz2TKY00XIXwsTrduIj/
64NLIxXQiTLOCkfW3CiNRR4XuVXqePt2LxkypOwXx9u3MWTI0BD29YN8dWB7W0lw9HTB7JWdc3P3
7l2aN2/G6dNnaNv2C4oVy0eGDOl4+PA5wWt2E/0ujhUrVtKmTRvH9ndwKJydC5nywhuj9D57/zdr
bf5JjK+3xNfej7mgj3mqlCN8/vnnHDtmw604EenTp2fPnj3UcuRXNcDhkRCxA7pcgCCB8EsjkJec
mfTzGyTAwFfgmTlp2xsR3v07dm/OxqiXjhcvdjlJcLVVC2qaBzenTHspmk0QhBRxfvSTy3n27BnZ
EgoTLZ9Ug9cv7jF09q0k9+nRtBmiKBJnZCTg5bOemFfSe9pYhDKuGWipDp5aUOPZK4jRS2xPiEyZ
MoVx48bZbKOjcuXKnDp1ymz50WlH+X307zQ5kJuKdXuajLVS30o0XtRYqjHm+5aVUeXR1l/Lm+Bl
eGe2Hr1m7AKaGJ1IZ9w2e/HsPLvyjHqT63Hr4C067u2ob1vo00+5vtQ8pTvxebN1rfjJ5USGh1O6
gpzTe8byWUMponpfWDhfNZ3DjRBJ3F4aNJrlh+9yUrPG6rHpBB2ZQkntq7modyUXav8wlj72J3/N
/HwZZPlGK/Fx6/hEkxcRkRMNjlLIu6DZNiXy5uXy3bsWt3X3cGdkWCpHzFpgcmk1P2zfwZBly5CJ
ArEhW5komwgCIFpxEcZwnenWyxRKPmzdgrubGzKZDFEUObpzp9X0d1dQpFIl4uLirDpEamUy3Jv4
Wzz/akFN4S8LM63ICV5ERXFv1c8pNs5/K8Zusfnz5+fOnTsADB8wgAE9ejjcz9t370wiLU+ePEmV
KlUAcHODAQOgaFH47rvkRXE1agRr1kD27EnvwxhHU1n/iZRXoaeAuCxpO33+3HCORvywkekDWvF/
os0l4ojNtYJQmzjxMO4JUXPH7u+nurgDj7r3iT2Ym5M5lcSOaMO0ckvY0dWykdDy5Vfp3r07E5Zu
Y2Iv6+K2K5mzdw5DGw5NlX2l8X+FU2/ztIi6NNKwxK5OhptkV4l094wqv/q5fsYnQ4aGlCjh+I82
ZylRoock0gGcXwzFEwSxFBLp3r9/T6lShdC5PuXNe5NTp2YjiodZu1aFWt2NkSM7MGfOQB4/3UF0
9B7atMmtbx8aOo3etmqvnZ0L1cZBk/X2x9cxUd7FBRtOtB8FRtdftIOFXSxw9OhRh1zTdI/j7QY4
LtIB1J4Ozy7qX8pLzjTUq0sKASL84IMr5mg0K7wZeqV7svtJFgEi/GkusNhDJ9IBvH792qV12UAS
WpYtW0a2bNmIi40hsLNA9/HHkyTSdZ4zF5lCSeip08Ru22oi0gHExdn/X3p4Ws63eh/zxu62Y8eO
dfj6tiTSAfw++neyF89uJtIBNF7UmOmbN6P2D2NlVHniotuiDdUwc6DzEZO/HDxoUayaEDeBZ1ee
0eLXFhwYd4BqQ6sB8E1CZLglkQ6kenknfpvHjP5S+mV8fLzVa0Un4F0ICyd9zlZ645giMvQiHUCv
gO8dFukADhd7wLn8zyh1Pyv3Tt7ji++/MKvPZo9Hyrs8Vt6jkHdBnrx/gq8mD7UPfKFfnyGddZOa
j0GkAxh3QcUgf8kRWCuIZGzUUhLfEi5/a6muKlGlTycNyh1Ejy8b4plg1qDVahFFES9fX30kqLJD
8t1st+3cqe9PXrcusbGxVkU6gI0TJ1qNnFOJKr7d8y2tFuXkZN/JpG/RkjbTZ1jo5b9LvGYbYmgI
bm5uHAkN1b/3nBHpADKkT6/fNjI8nA9PnyIIAp06dSI+HubNg4ED4dat5EVz7dwpGR44y/XrSd/n
P1WXrmKBikQ+i3S4/dKl0ljnzZPMN0QRFm0+wIz/W5HOOvEP/qZ4wRZ807UzunwLUTxMjVymqfXV
PWvTdlcWqyIdQPfu0m81T4/UK1UztOFQ8n2Xz37DNNJIBmlCXRppmJBQ6+rSmqRF9QQJ5qKOjnVG
AkYL5+uPOMLly1eAWhQp0sVlfUq1IWol9I1URy6lIsoS+g0IaEu6dKe4eNFxd7/E+PvXZMmSb03C
6s2oOQlyJ3L4MxKO9PgmKpq/5x8WcBLTNpH917mFhudD3sOx8akyDPnyGSb13ZzC7yupj5IzCe8x
0k5jGwSIBufgJHIl5AoqUcXfY2Ymqx+XsDd5zpuZMmXi0KFD+Mnl9B0+PFl9rV6/Hj+5nJcvX9Kj
Rw+ePrjMj+PLJynVNXCtVJ9tSf9+aEM0+FepbLFd9HPbBfIDOwuMXfbPFfHRCSgDLltOoZUplIxe
tRrZ7+2Ii26rX956gHNiVNe58+g0e47FqCTBTbrFC+kpGVD82vhX1IKaPWHn7LrHVvtyMN8tfMrk
Hun1EVh+cjk7nUx7t8fkoCD85HJu3rxpIth0yVWdkHK3aHlWioSbnG4ymXJnYlHpRSbbB65dy4WF
1ksy6MiZLiePlfc4XO93lkb8RI7uZ7gksyywyiy4pP+T5CtguOl75xFH/8yjTCLp1IKa+6ctuzOr
RBVVB1Ulz0Ap/XrgEoM4W7FiRb3YrJo0yaS8gfHj29696T9iBGMmTaL/iBFUbtDAYjvN3r36/l68
sG1YBNBm3DgiMmaymeaqElXEv49n1JYyBA8PSEuHNULn4hvhaKE2B8mXJw+R4eEEBwcb6gqK8CAh
AD85Yp1WC3nzOreNJRfTXLnsC3B58sCNG87ty1XULlabQ1cO2W0nCFL9vl69pOMZPFhafjj8KtVK
FU7hUf6z1Ktn+fenW67PuHJzMztXSL+njX+rC7mVxF3ti5BbiSge5t4V6xOWMlkdQKrvN65rExeO
3D53X9h24k4jjeTycf1KSSONf5K1NaUb/GFxSReiBJm5qAOgNapz5p5C1XaNuH79Brq6e/nzt6dt
W8cLZc+cuVYvzkEt85nyU9MsbZZ0XidE4RSSvmBv395EUJBl04GkIP0APYJGY/uGVU/YfJftO1VY
mA3y1DS89ikIF5YbXrt5wgnzOkcpRZLFuha79U9LFFyZvEF0vwYbv7DfzgrrlOsA6Vhur9iQvLEk
lwDR9PPDBtYikWrXro0oigienvqb7WsRlo0HEnPkxAn9NvOXLUMURXx8fJjS05sjoVMZMO1vhw8F
oHT/AcgUSnp//TXaEA1eNizsOnb9g3TpTH+mCO4fX9xBw5kN9c/3DDWdhHmwehWy39sx/u0Vk+Ul
K7d0uE7c7SdPWLV/v23RTYDY6Fg67JQiptT+YQzc73jdznE/vdOPRxRFho4bh59cTomqVR3uwxIt
u3TBTy5n7+HDkhvoRdOJkOHjOjB2h1yfqgsg7yKn1phaTM86Xb9s4tp1lMznXPRCxjvFeLq8EjHX
spOt/Xl8NXkQjaJtR4c7lvKcWnTa3lX/P9aGaFhc92/e3H9jItYtq7KMBSUsC5afj/oclaii6Tk/
Fu7YabFNs2bNrEaMqiZPpnPPntT58ks69+zJufBwi+3279/v9LH5vY3WH5c1Ea5AnQKoRBXfe03l
9uiFyBRK7jx96vS+/p+wV7qgX8MKjD7ygg5V5JxLKCeqc2XW3g/WL+taRU60lT4iwsLInCkTheTZ
6LjBg5mXPfh2vfTouCFpj04bPag324NRu8uy+UIg915dsrJ3A5aEOntOr1evgrs7FCpkt/sUoU6x
Ohy6almo8/WVBLp9+yRx7t070/X3n77kzqPnlC+ePxVG+s9x4MBBKldOmRTRli0noNVKtcMzpXDp
H0uIy0Sm7pya6vtN47/Dv8DOMI00UpiXN2B5EcndMzmRYrbqSc0xuhkdnLrRH7dv33Gq/YgRtRgx
YpHllbPdYai1kq5JZJmf9LdZKHPmDGToUPMImgZetZn85jDVEhwo09XZxPtD5m6zMqE2Iu6IovmN
hFJp5IBqyehDx8WfoaGF2bvEzqKbv0qxyEiniEkU0VC6m3kEXf76qTceDGKdfHnSUpi8vJ4ka3uy
FIHb+6X/s2DFxMIKiWuDPT92hvzdbEd1pThzPB36bLq00fbN0I4dOwApxTFHjhy8fPnSbp+fffaZ
mVhvqSacPRSTJrP99Gm7EV7GrN1wizUrTd0rxTiRz0dLhgPf9/FJtnFFctBF09UYXoPju4Ko8U0A
39xYBP6gCq2Am6cbefLsJi66rdXURVucnHeSt/Uz8MXYcXbPm0orpT+eXSqZh3x5MS+VanyGNlaL
zMOxOVmdycSQoJvExEi2radPnzZJh5XJZIwLCKBh3brky2NwEL9x8ybbf/uNZatXExVtkASWLVvG
aaMUvUFLluqf60QblbYCaxquYdCNQcwvPJ8l5Zcw9t1YfEv7MtFtIhPik2boMiE4mCK5cnH9wQOe
/1oObYiGmPgY8m8vjHbke3pvtFzk3Jg5FSbxzoKfyog/x2PJEHlq2Ukmr72KlWLYpuZOj12mUDK+
TRty9uxMzI4t+vRWgBcRL2zWMNxyZx4yhZJhGcYy9twwshd3rFhYgwYuMoaygEyr5ULWrJR+8YIX
69ay/fRpmlS2HEU7PnY8tw7fQhVagV1nz9Jn4SKnPjf+XwgLCyODDRvVd5eWsfOJlshaWekANKsk
vU9v7h1L/O1VFGoEN8MdS3X+88gR/ORyIlqbfp5OmgSBgVC1Khw/bnlbW2zfDk2MPJ62XFATcnk6
8QmTT1m8cjG45kaKZK9qJtRptWDDvBiA4sX/mZRXHXWL12XIOoOjaWgoKBQwciQ8Nvfd0SOKIgs3
7WdKH+c/G/6NnD4tuc/XqFGW48cX2mltn1evolmw4CybNh0AYGDQr/wQ0D7Z/SaFsVvHMqbRx1FC
IY3/P9Ii6tL47xLzQhJetvpLN8GJ3T2dwZZIZywKpbNeY+Gj5/5xyIO/VwEAACAASURBVFYcZJZu
T5LJAElssiTS6ajuaW7RLr2OYU80uMtqo7WV5op0kwlIgmMmK3kZ8Q4KkZG/OdYupame6Gat6mjz
Nq1+T3W3WvnyGZzvmXQjhmSl0YL0fpzt3FzU4jKLzW5+kz0OVxAgwk+Opcd0PtDZbhs3NzdevHhh
MVqmW68TJq8vXTKIf7t+GczBrYFOiWMyhRLFpMmEjLcvNhkjirB1g+V6h19MlaIl37+zbhSROV/y
DUUcQXe9fL74MDKFkjE75UT/LEVkBrkVNEl3TUzgKpGfv69rcV3mfJmp/vtU+i1a7PB5c/dy5/K2
y6j9w6ge4UvH3zoSlNs5R9nAVSJZcvjpo+sqV65scj3Ex8ejnjGDzxs1InP+/ER7eJA5f37qN23K
7EWLeBMVZdK+h5FIZxxJpRPpjI8ta6Gs+vM5Jf0UHoQ9YEK85G76YesWp44DIOLhQ1YPG0o6D8N3
lpebF4+V9+i9wb5IB1gU6QBmlp3EseumLvCJRTqAmKsXLS63hruHO3kTCnypO7Tng1s8+WtJN6C6
c6ON1TLiyQib4q82RMPcBhd4fuM5akHNrcNJN3lxFe4JkS8+GTKQIV06ygwYaLVtgdpSdJ3ik3Ko
QisgUyiZvnlzag31o+Dvv/+mYjkrLujRB/ms/UKTaLutZ8L1r93yd2bv7I7Mu2pjUtIBxo+H+Hjp
kZRUWH9/09fNS6v4ueVb1rSOZU3rWH5Q3KZIdilqN/L+M31E3oozfXBzsy0O/lN16YzxSe9D5IYZ
CAJcuyYdryjCNDuJJ5rD4f8Zkc6Y48f/BGpx7lxG3NzqcvnybYe3VShG07XrCqAWPj5fM3bsWP26
OuWLuX6wDiIuE5m+e7r9hmmkkQTShLo0/psECVLKYMD/2DvvuKa1N4w/KRscoLhRi3tbwI0o7nVZ
Dpy491VxT7Tg3lfcojjwpyKoCDiuG7fgoHrdC1y4QUQ2NL8/QnfSJm1x9uunH2lyzslJKW3ynPd9
XhIYojkkXy3rigH2XZj3y4sF4zT7ufy07HMGBtP4t+nCxoKqhywEzKs5F2QeFvnUBf/xEaVgb9oJ
nayAPLF6kQ6AYmTQSG6RhgAAR1/F55kfuY+hT9YWAVr4K25jjCD7/imD9dcF4PHCdZobpiZQ/3fY
rLBZELwcd8bqkJ6mHAWpgYzP9NGutm00LOt/D3JSWTXju/J1OkzwlqbIz1e9+/EfRMDRdThcvfw1
jvHp61fw3D3QcPwEiKMiETWX++/QpEgo3LpVUNtGuFPMuK9299qcj8kFiUjCc/cAz90DTmZUBJBJ
Pg9Hx1CRiykZVDTLg4PM6cGJD+nTpqYIYlDrnTUebGKIbqZhTiZ149I3rqp0jpoEHSYk0XXqsLGx
QZ06dWBjY6NxPIlIV8TCAqO7dEZOXh6MChZOCJ7icRyGUvYRkUMi8SXxCwLcbmGRsXbp+/1WrETq
/lDVHSw/FgaenYPZd+ZKHyN8Ze/J891ld+NX+8nSn+TbS4j4Vynvjel4IYPxcjtlXfAtKwviqEi8
tkmHP+EPQCbWrSi1Qhpl9yWROTK25uapEJJC7O64W6v3gT6plZqKj2ZUelrbBg3QtZETxmxU//4u
KyhLFcyIdkQn6zp/lHdd//79cfHaNfqdVq4KIt2eOBEcCi41iVK98CxqEqq3nYKJNajrgR1xIlip
OdbmnTulPnV0xMZSAhRXsY5Ln+y0klIBb2ijzXCd1h0+YSY4cFc1ctTM7MeKdCkp1Hk1agSgnTdI
kqqYy4ZxK/fAszWNRc4fhIODA/Lz81GrVn9IbHZyc5vh9OlsBAU9QHj4OyQmVpTuA1wQFXUJO3ao
2qKMW7kHPds2+r4noMTMg9ovShswoA6DUGfgz2IVQT2GPNRPQYS010BOGtCd3g/mtyHxJFWUQJ5P
d3UfV0noSk/Pom12OkuW9goA2ZeoyLvOQQeRkKN4o0uX9iobn8mlhSVt1ig+lwiNP4pcDuczRcza
60xf8MzNULpTKyRfVWOCXb4FcL0gxbWBXJXec5QoWqGvO7Leqskh0US/q6zEugAiAFOSptDusxvg
hQ/HY7Sfgz4Y++m7RUU2by0rJJCfnytNdS1jV19NL0BcUM1z4f79EEdF4va6wvN79B9EqL2xLEyh
Lj+HilIJcLuF9g2plMpulrcBAKNFo3EvTHFB48ycM4xjzdyUgvx8xb9Lu8FDsHLoUPS+rp3xUo33
xeG2lQplidsQByEpxKlp3ItD+O8isWxsSWSm67bAxHP3kDrDfcvMxMYxY2DevQdyD0cAkEWBfrxP
fR+4B7vDtjYVVRZoHwgACqmfXEj88AGmxoqRtX5+7IVjO1vFy+RSw4bIPZMJxefuqo9cejCdXWRj
uXrlZT8PpF6X5H17Md8tHvnZ1DGEpBA8E540/TXQPhBBjYJUxpJEK957+RJ+WX4Y/2Q8AogAxPjH
sJpLYVAqR3YdsWzwYNxJfIGDLHIqhaQQNiaW0ui67Nzv+132o1BOPS8MNu/ciaVr1ki9vtQhEd6O
6XjJO2fOHBAEgSZNZsPT8xi6dz8NF5fVMDcvitatKauOAzMOYbd3LnrWC8C4qIr4O5ISyaOigJYt
dTu+thAE9TA1pV6LGze49R+3cg/WT9W98vLviImJCdq3b4+RI0eiV69e4PP5rPoJavx4j7+klUnI
yqW/fzFgQBcMQp2BPwOJQDeFpB4laupn3KCK6gU/+RvrPhf1c8wfwcFOVFECec7oWPAhuBr1fx2Z
ibiVVQfcvPmIoYNuXLtmAktLS2CL+iidX4rJDHlZTPzDbNxfWFg3bohi9Wvh6QqGql3N5wG3N6tu
LyjqUdKlCd4fYRY6NLFk5zkQUylTbnUPf/ijaNGi+MRgXv728E/gRzj8ObUwQINK0RcduBWfDACY
P8QY+Xk5GlNdjTw8qcgygqBS7kaM0On4YyfcoE0ZlS8EYGSs/r1cuVVlneZAR05eHiVEmlHRXeKo
SJxcMB8AYHK7O17wLNCij2qF0c+PPisUnJDH3NIaC4bKzoXn7oFDs2djsif3yKG4x08Q4EaJ4o7D
HQEAx8cdBwDU9KiJO/+7w3nMGRs/w8LKhnXhC2VMPL0AyALYxFGRMPbwRLZcKqvkd7Wxriy66u/7
f6PlTOpuXBhNnYuQFGKBCfs0UiaWLdc+TWm/yyLpz52OzVFtYFSKoSe3v0+v5s2RXuATaG1lhSPz
5sG0pyxVbm7OXJSsURIBRADs29qjzfw2tEJm0q6d0hTTEtVKQEgK0XJGSwQQAUh5/gMi/EkS/8lF
YF5evgwlixbDh1TNEcOSdNgXM9ZjRZFlf0R0XaNGjaSVmPUt2J0uqAZeoWpVTt8fJAl06cI+Uo4S
93JRvrwTJk4EJk4E0tMXwdeXRIsWi8Hnd0WlSu3h6DgZo0enwcHhLCZOpPzxOnf+HzZt2oT17q+w
weMNrl7LRXiWCQ4d1VBlQk88fEidp7m57FxIErBSF57IgEGk0z9zNh/CcHd6i4zvSbni5WAxtvAL
BRr48zAIdQZ+byQCnVuYfiLolMfmMmaFH7QEqCtM5/n6AlDGUftxvzyj/u8SorDZyWk4vLz0V40v
IyMLgAuaNWtGbfiWREWXyWNeQqUfI3atlDb8oPyLfS04F0r4UR6JxkUsYdOMIdWD30lj/8oj+nLy
iTtw4IBUgIuPjUWiSMTqcSw0FGXKlJH2lafhliXs0ngLk+L2VKo9DffDdEzhl8PYmID/IALzduTB
1Iz5jqRE337guXsgP/KwXs3eg4Kfqmz7eP8jCBCo2rEq/AfzMDc4m6Zn4cFz94B59x4IeE7dFMh7
GT65fQx5txvgSZP6ePbAjbZ/i6ktGMdu12ux9Bjvd4egSQ2WOVRKNJs6FVdWUNGp8sUGAogAVGpZ
Ccf+1j4Mxn8XiQXDzBC9Y5TmxgV4LFyIfLEYY7pQ1hDxgVREspgkYWKk+bOr3ZJ2yONRn9USEWpu
7lwEEAHIy+K4SCFH8+HMvwu1ZH7As9SCz3ur8nCyo1EqeJZaz0tCcHAwDs5STKXq2sgJJAGMtp4h
3Tbu0TjU6VkHCWcTcHTMUfTc31NFrCtbIIrJi1rGFsYQkkKsrbb2h6TD1lcqYuNavx7K+gxkLRZV
dK4Iv2w/CKMdUX3YSFQZrtvCwK8ASZJISkqSCnYTZ2tnXn/01CnpGONnzgRAwtd3HOdxJP5wbHzi
6tTxga+vCby9b3I+Tq1aA/Do0RiMGJEEAGjR3AS7vXORJ87F4PDCE0bKlKHOTVKsIkvHYCmDSFc4
pH5jZynwPbg5l/v724ABTRiEOgO/J9HelMDUZAYlMtXopd/xT42iqsSqI1vuYrRSO/0e/3uxuRzQ
W433W2MtTfY1pPBFRJwH4AIbm27ajQ8gMPAAli27AktLukgWpeObFmE/cG8lT6lVP+hjNOkq9z7j
UoDAH7PqV9KlCTux7a/9tJsF25YxR+UV8PTpUxAEgcGDB0vFtxUB7G9EK9nZ4fmtW0gUiRB3+rSK
YJeRoIWvob5RFpkL+G/ff3oZ/tAWHwxvN0dtFJ3Ely15395CqcbYr7dqNJxoJ+XH1PtQ7+9qTiQ5
16IWFhBHRUJ8L12liuqO5T2wwLIGLl5V41WqBpe/ZlHpfBGHUKp4ca3G2HmGijptVrMm5mTQRHoB
mJk6UydhZm5wNjr3X6MQAcjE9SdPcCTuOgBg0/HjsDI3R0N7e/CHDef0nlnUTebDJZm7kBRisdVi
vLzIbER+6xm1EHR99WrptrN3qIjCqi2rsT6+hPTYs1jclPr8IYpWwOyrw+gbinW0VwBw/Phx+qGj
IhHU6iHmG8+XbusV3gtd13dF6stUGJsZS1OE38S9UegHAK8/fVYYTygWStsvKbpE53mzJZXGgkIc
FQkjD09O4whJIY56TsWgYLs/IrquXLly0iItjVq0kApuyo+GrVox7tsZFiYdIyMjAyRJFYoYNYoS
pjLobVoZIUmAxwNq1VLdl5CQgIkTgY4dd+t87lZW5TFxIlCnTgMAQEnLitjZKxM+YSb4lpOs8/gA
MHAg9Rr4+gLv32vnyUfHiWt3DSJdIbB459Gf6nV1rOSIhUe181I1YIAJg1Bn4PfixFBKBHp6mBLo
XDSUXtKWO0Gaq8SulzPY7nW6cOZR2KS/A+zUhJXX7F2oh09J+QrABYmJFWFh0QGenrNpU2O/fcuE
n982EEQrrF0bD8AFvr6BmDFjhmLD25uBIuVV+kOsW2W0705eFtDjX+37/iBYVVCtKVf594q/7GeC
AJnLHEVTpUoVVK9eHYkiEe5dvqzbRAGUtrVFokiEQyEhUrFOELwcn88zmHt/Nwhaofv11dc6j7xk
dHF06L0M6w89xbYdz1T2m3h6wdjDkxKsCkGgAwDrMgcQsl21eIdoByXYPH/8L3qM2Vsox5an+dRp
4Ll7wMrcHOKoSKTuD8WyElTK5NwcWZGAW/HJWHdsHeZmPNb6WDx3D8yziaKNMnt5iV1VvKGBa/Fs
K+VTZmxBLSIdG3dMIaoO0N7rTYKJqQXmbs+B/yACYobPzdz8fDSdMhUkZCJRWhglwL/8yK0AT0N7
e4XoRcnc5+XPQ9SIKBwedJi237w9ewAATtWowhrFLS0xcetWAIBVSQ4LMwDuzt6IwBHUZ0qxNl0w
6/JQ5sb5n5n3seTVG+YFgZ7OLeDf9Sa+vpJVPG78d2MMPj8YoZ6huLLyCoSkENuabkNiTKJsWpGH
UWko/byFpBCeuzy/W3RdcUtLxFSsqLJdUgmYCzXcakiLTfDcPXDoqhYLWL8gc+bMoa3aTZIkEhIT
GffFxamm5gPAli2UMPXggVyRBJaQJJCToyhqtW7dBoGB9jqepSodOtxB0aJlpc93e+ciPukIhhzQ
IhcVwJcvMt+5kBDqXAID9TVbIDs3D09f6+Cxa4CRpE/MRXR+FHMPz9XcyIABDhiEOgM/lDNnzqBB
g3ogCAKVK5dDjx6uWLZsNIKCpmHvXiGCgqZh5swB6NKlOUqVsgFBEPDx8cGtW0rm9KuNqZtXh/GU
QDcpp/AmzTXl1YLJs+Ynh+t5chnX9R/qZ5bj8/l8ZGZm4fDhi3ByGg75SlCAC4oU6YiFC3eBJElM
mDCBeaDTY4BRb1S3p7/ldg7KhTUOf+fV/EALVimjtEwRA+cm6nc+HGAl1km4qnjjWH3237gzRjVa
KDMzE5ZmZgpV8OSh8/ap0nExkHcT1Xx2AuLXjAnMjg0aIFEkkop1r0IOMbT8joz9CGQoXvynf9A+
kudmTBD8BxGYtTkVRa0pIXv0OCoaauLWreC5eyA67jpyD0cgL5JeGNEX377Ri7EZn6hQj31r3FG/
WV9WY5EkkJLCzYdLEkEnqGIPcVSkVGACgKyULLhvc5c+N7YKRfq5J5ja8B8FMYnr8cRRkej1N30k
aeQQzYKoxMvMvkwZhe3XN1C/wwYDqCgUebHuyKgjWs1Xgv8uEjyeEa13nZlXdxjxeFLhRSLWyf+s
TKk6qt+TPHcPabosnVg37uE4eO7yxOIii1X6HruhmIZ0c80/uPuCEj2TX7KPwFncYAGijlDiW9s9
0zAukF7BcK0rEVnpP0lqLacvVENHnVp1AAAHZ81CxSGK4lrYjBkwNTKG9d8+Ctsrt6qMKUlTcGra
KWna87++/0pfK4IgUNHWllEIq929NoSkEKdnnkYAEYAPdwtXXHB9Tb+woI1YB1DvD3FUJP5rcfKP
iK5TB5sqzEw4OcmKJGRlUQKWt7fmfs+fyyLQSpasAQeHc1rPQRPDhr3D2LEyr1YX/kDs6JkOnzAT
Nb1khIRQ8wwMBKytZb5z+uZT6jecir2Hv3u21f/gfzg/ayoxuZXElWeai+MYMMAWg1Bn4LsxcuRI
VK9eCcBF6aNdO1PcubMJJHkBL16E4eDBBZgxoz9GjnRHv37tMXKkO5YuHYXjx5fj48cokOQF7N49
Eo6O6dIx7t4NgcVsHpbmLgFKF3LJc7bilXzEy9hfcDUt0LJwRDoJMZMKb2wmXqiJaiQ1VztTQLmw
xrMo7vPRBZ1SuQnglh6XjLVAELwct0doV86+waZFKkKfpaUljoaGauhJgi9wQEYKFa1CmCj+Du0F
AvAdmmg8viB4Oaf5FgoWtsCmMprbscB/EAHbcrVpU1157h7w79cP4qhIuDVprJfjaYKuiIQ8TJ55
DRs2VCkQsmgPD/Z8Pm3xkKAgxSqZEoHOp00biKMisWnsWIX9UcOpv3GHYdR3jEPTf5GX3gdnVm4A
zjPfyb6JpVkYkDumRLiq28RbRfRyGOaA5KeaRaWi3r1VBDCJsPX11Vd47faSbk+6QXk9vbz0EqRY
9894/10k/AcReHb3JACZF1ru4QgFwWRNVBTGdWO2Mmg6oanGY03/LPu7l0//nPBkAm002IWlsnTO
KmVlUTiPzzzUeCw6zvZfgcUNFig8JLTYJ/MMo9vfvTN77zp3d0oM9mreDG8+q0boZUUcBACVcy5S
rghmp8+W7ht9ezQmvZyEACIAJEnixfZgAFArZLVf2h5CUojNgs2FGmGXmZ2NGDUpvtqKbUJSiLOO
k2Dh1gNd/b+//97vhLk5JWCFhVHprWzSQHk8I/j4aB9dzBZT06Lg8RRvYXd752LowaJISqMvSEYQ
gLExleJKklSKKxeCgoJgbW2t8l2CbfTFqkpZF0WPdk2wfPlPcM3wm2Fhxk6U/RE4L3X+0VMw8Bth
EOoMFCo9e/bAt28nAVxEUJAPnjzZo/dj1Ktnj8ysM5g50xnARUyf3g+B+oxdl/D8CNCI/ar4L0va
ayBfg1H7KfaG4goUVpQeGw50ALz1uMprYau/sbggKY6iiZyvzPsq/fgV3vobFjAXZ6gzUG1fQfBy
ZL5gFkBoST8B42ojYGmjmnIFnh0VjUcyR+IaGxkhL4+K9nqyZCNju+/GFDHwVrc0XP9BBPx3kahc
U5bePuifNeC5e6B7r1IQR0XCWpvydlpSqoKGaMV+izE76Jv06YsXL6Q3RUP79FEpDvLs1i3cvnCB
tnDIlg0bQBAEeBYW4Ll7wNTYGOKoSOyaRB9tGh8cD+8DlCBnYR2GyAOtkJ+dD3TYjanvpjJO+cxs
+orF6qLLJLTyUy5co0puvvq0/X8q/aPwfGtjKv1z7L2xmG80n64LZ/x3kbApVUUqroijIlFh0GDY
FpMVPpm8LRhrR41kHMNxJFWY6MGhBwCAT1+/SotQSLAoYYHmk6m0aDKfRJATJbYWKVeENqW3ZZ06
tMe6uf8Gl9Njzew79GlPTNuZ8PLy0thGHBWJALdbSLqepLDdxNIE88TzAAAry65EsYrFICSFmM+b
j9yMXOl7zra/+miUeXnzMPn1ZAQQAQj3Duc0fzZYmJrCtWtXxv26iHWu/q7IjD6IJgHkHx9dpy/E
Ykrc8vamBK/TDOue48d/PxuRCRPEOHZMsUDO9h5pePTxIgLOUN9p5cpR842Opuafx6EGTY0aNRSE
tyMREThz6BDr4lSJIhFE58/j9vXrCuPoEvFoAJiwai9WjGcR5vmDELppF11vwAAdBqHOQKFQrFhR
ABdx4MBEFCnyfc3rly8fA19fRwAX8eLFC/0NHOEGtF6pud0+uYpyhZmCW1gEVQQma7jYuhMEVO/O
bdxMbt5EeiWtIM2moqv+xhyrdD4aCmR8dz7dY97X68wPny/P1ARl/mqH5Cs0lbK67JL9/CGetv+j
+TIxns/naz6gVWfMc36FRm40F3i5qajbxAkrdp5k7J6Xnw9jY8r7K/1poubjFToEsFfVy40Nl44u
k4p0EgKjo8Fz98C2CeMhjopE2M52yMnhGGmqIylf1H9eksay/ba2tuDz+dIbIk81N/10HAoJQaJI
hEFeXiCjo/BmaxBj2zOzKLGtdo/aMLYKRUaKNypVtMRCc8o42qoMs5iZcDZBZRuTSOe/i8R/1/ZJ
n1vzNVdpNvPqjpGd6NPg+W340p/pUkd19auTx3YEtYg1s8RxnIuPw9uUFHz6+hXiqEgU8+6NL6H7
1PaXpJY/jqaicUoP8MGGMaNV2nVc1VH689tbb/EwQhYdJzmfcDUelUdv3MDUqczCqjKz78xV+2DT
Xlfs1VQ17TRGtfonQRAQkkKkv0/HQjPqPSopwLGr7S6IoyKRnPZNpZ8yRSsUVfE41CdPi6j3Csw9
HMG5wIQ8/qQ/DloPhlWX7nj0huPCjgFawsIowattW0oA6yBXq6tUKZqKEhLIdPwb6YzAQAKBgQT2
xN7ReCxJ28BAAi8ZLklPnOissi3/+XAEdDqH4Rv74+1bar5u9MW4VUhISJAKaqMHDlQQ3dYtXQrb
kiXZDVSApYUFFvv5KYwTFhwsPUZ0dDSn8QzIvit+Vvzd/WE0UnNVcwMG2GAQ6gwUAhfx9esxxr0E
0Urhf0XEGHWKuUgDmXwc8peX9GPIqFz5JUaN0sOKKpdIMPlqnLyfNzybFi7n6X6Q29gbSyuOPUKP
Iqomgiqq+sr9ihzswv73k/ygcOeiB4oL6qC4Q108TVST7rjbkXazvNddQkIC+AIBcnPpPzsk3nUD
Jy3BjWgqGvHZ0amAsROe7h4MmBTHvbib6CUoTdvf3sEBd+/eVTh25muOvoaFwRQS2F5T+jQTmRq7
+A8i0LLbDKlIx3P3QBmfgfB1c4M4KlKhoEGRkvqPpGEiKPipxrTXvwZvBkBdqIdu3croSSjBe08S
ADGqOzJbIvjPmIFEkQi2trZIS0ujbXNp6SUUKVsExlahyEvvI00BI43yMGG+ZmsDwojq8C4lRWMk
3cFN/TSOJ+HIdcqDbvPfY2n3Dzo7CACwoc4GAFBIgSXzqd+/PsQ6+Ui6xTtz0E64CPNsZHYAJIBi
luxSP2+H3NbYRl503N99P0g5gykhKcT9lsw2B27zF2DFihWs5vIjiPtfrMq2Fx/o32PiqEjcK58C
3yKqYh1AvRb5OfkKwmyLKS0QQAQgL/Iw62izXmG9ICSFWFd9HQKIAIjz9CPgV0tLwxW5lGRljHg8
5HOYJx1eIV5IP34IoXbbwHP30BiBaoAdPB4lgJ06Bbx7BxDEFfTvT59SHhhIIHBtETxKZO/dFbWF
ndBBEDzweEbSiq3x8UD79oA4zxjbxu5h7VtHjUXgbHS0VFDrwVbd40iNqlWlx7Dm8UAQBGcv1T+V
w+fjETiZnUftj6Ru+bo/egoGfhMMQp0BvaLsGcFE3ldqdTP3wlrczwMgfgue5SRATF2Q2hm1wltS
IsTlgzAZpPWctmyZCk9PHcS6VYTmCDMJog3aH+dHU5hpqRttgU6UP47UD65YpcI5FhPKvnJMlGrA
fsyxnxSfF3aUWiKHSq9pGqqA/qgUZCWMLMxRsoTmm3M65MU6kiRRvXFj1Gqq2euKLXl5eeALBGjY
sCHq1lW88Hok/IehV+FjZGQkS6UZ9hgEQcAf/thcbBOtV05kZCTuxYUrRNHx3D2kFVzf7w6hPY5Y
Dx5mbBk7QXM6YqM2o+Dp6QlB/fqoXqWKyn6+QIBhHZ3gtV421rbBTbEvjorK5Du6gi+gLwaQKBKh
mFyqpoT/df4fAGDG1woKQmKETwTQfyFKVNZcLKjN/DYQPU9A+UGDNaa7ztyUwlhNVRn3BQtxdtEi
je0+PaA+pyRFJap2qqrg8TZPPA+56RqqmDMgEVGSdu2UPhdHRWJpWndMcq0DI3d3hYIcmiDFJKLj
riNksnofU3mxbj5PMYU3wI0qNpWdqrg407aB7LP907MfGOGthuSznzQ3kkMcFYl1be9hdYXVtPuV
I+Kqd6sOISnEgoLXjIsINv7JeKqvyQK9Rdi1eP9eYxtxVCTmh7J/D9EhJIXIOxSBFo4jYerFMRvA
gFrKlgUaN9ZQnIawQif3C+wGJN8iIYu9GDxhQr60YquD0prMbu9c+ISZIDdffbV7giCQKBKhfevW
qtP5GC4tSMUXOBT8L8Bc72YYeIh6/64Z0Fzhu4UvEEByBrGPe/BG4QAAIABJREFUXoIvENCWmalk
R9lulChRApmZmhfa/nROX7//o6fAijv+dwxedQb0gkGoM6BXvL3ZeV8ZF6sAkqS+tGsZA0BBuSjI
hI4y0h8Jtd5RbIiM1NLs/x8ToJoHQKj+qVy5cgWlS5cCQRBo1Kg2OnduhkbD14OYCpQKMMaWIpt1
mvN3JfMz0KoQDW8zPwP1CqrXHRtQeMehg6sA6cSh0IUFtzQInWGTei0h7ZXmNj9Juq5N8UfsK8Eq
UXflHHyKobzaSJLE0mXLwBcIUL9lS63n8/jZM/AFAlRr1AgkSSI+XjX91qrK9xWanzx5IhXerp08
SeuHw+THNmHcONRr6o2AEOrGvOqIkRBHRWqs4Gpm9v0uEVxb0UczKhMZGYnDu3cz7j+bXgcR41TF
uGOzOiPxVgzneT078QwLLGuqRPvd+Z/m1C0JLrNd4DhxokaRDgDMLa0xf4ixxnYfUlMBAK7166lt
55ug6Jg+J2MOnp14BgDSaqkEQdBWTtUEz90D0XPnYt2oUShrY0M9n0eleubk5WHV5CUgQcB/EIHs
LNVoxdzcXPj6+krf1/4F/9ybNsH0fv2wdu1atceXiFDFKhaTCkdikpRGPK4ovQL39sssAE4toMSp
Bfv34+QUDose35Gb11WtADaNHQsTT2bfuiqly2Cq03nG/XTpq0JSCGE0Fa3MNWJNSAqlkZj/+ur2
Ou738dHcCMD2U6fwkKFSLFt4xjxcvx2MFaLWBu86PdOiBfPnh68vCd8J31DL3oWxjTyBa6nK40Na
s2sPAKFqiknt9s7FpthBjGKdRKRTh1mHpbitdBsyfUQrfPyQCvLbDaRPkkXxRk5xQWL8WVTrSH3e
7B/mAcKkFNRdbSWKRLBkGXX8u3Lv3j0sXrwYzZs3R9GiRVUWHEuWKo0np0KwY8cOfPrEbUHjR2Co
/mpAHxiEOgN6Zd489RfWAKQCHQCYtJpAvQl55SFOXw3wymBLBxO8zr8AnrQtD2Qe5W9DlOiCIgxj
qT+mFpEh4lxAnAd4yG5mra0p7z3gIlq0yMeHD4dAkhdw40YQ/v13BW7cCAJJXsDHr2cxalQdadsS
JYrjM031tp+GjbZA42ns2m6rAnRT7zekwJ0gYNwX2fOHHPrqyvtb3PvUHazbMfe76tafieSH7IuZ
GFsAGb9QteHyzRWi47hgYlMcSaEyId7X1xckSSIyKgp8gUD6aN6pE0L278dHpQu8+Dt3MGXuXIW2
nj4+IElS7edG9Tnj8C5KTSVhPUIQBGrUqCEV3krbcitkcuHIESSKRLh49CjI6CjEr2In+N6K7aK5
kR6wLX8Ip48zL/KkPGOfFrSuXRrsm6qKGl2XcBcUYg88wgLLGioiXVoSJTpNCUyi66YCm8IR8pQo
XVXh+d19d1XalPUZCP9+mtNkJT53kveysQUlAk5OmqwQRcclBfbp27fguXvgS+g+uC1YgL+7dYWp
V3dUKVsW3RrJRFLJefvvInH32j74DyJQokQJ6Y2XqakpihgZ0YrL4cHBiL14UeFGbcoU+s+/r6+o
wjkBRACMPTxBkkBvl5bwy/ZD7NpY5KRRd9gSbyPhnr1IeKbqHfizMqpzJ+SLmSOMnm6j/BXV/f4Y
xbojlFi34lAE53kJSSHeid4hgAhA+vt0zv0BoHdICC6rSX+VkBi8DXXG/g2xNtdySvgm+CI5cBeM
3DwwesNPUBjoFyc8XH8WCWd3UqmqRWpyG3Po0DFq909osR+H7s2H3yltq5fz4NFEoLCl+9xT8OlW
FYPaDsfWYc4A8pADwPdMGvgObSH+QBVHWn0pHh14H3FFu6Dl344ZM2bQRv57uLnh1ZMnmDZmDK6d
OKHynXBs7x4M8PTE0YgI8BmquZ87p8eCcTrybtW7Hz0FA78BhFYCxq/Db31yPyuxsbFo3DiLdRps
YdKs2Rhcu6Z6k6OR44OA+yHAFBLDhg1DcPBgvc1p4MAghIQwR4R8d7hGnOnaflVB5OSU72BUz3au
8pFlXFNCkx8BO5RMlAsjrZTL676lAlC8CtDnoua2oS2BPpd0m5uuxC4Cms4BAIiGTYcgeDnw8gwQ
3p7aX7M38BfzirlCPxa8ffsWmZmZsLGxgY2NDZKv3ESJFk6cp83lmNrCZrXf2VGAi7dErFfe+AIB
qlWrhidPnug+QT0g8X5jYrVXR6RFtoBQ7I9Lly7BxcVF42uiDXyBQCpoDRlxDeWCT8GMFCukWQKU
2EG22wP/049px5GIIS8CimLnjfOcRDoJGWmfYFnUFgtMF8DYzBiz0mYp7Oci/sl7lMlvG/94PNbV
WKeyXfl85Sk3cBDef/mCnRMnYkhgoNRDrHvz5jgwa6Z0bjN69kAxS0vM6tkTzs7OuHLlCurXqYPo
vXtZvwZ0SFLQ5K9dpeITAQT8RS3OZBwIh7kpZXfwOPoxwnqGwS/bT8FPr7J9ZQyI0t5WQ9+UOFlc
RYzkuXtgu+8EDA1cq/H3zXP3QFS5Efhry1+MbejeC5K+uQcOwchUOxP0hDMJCGkfgplfZsKsuBm3
zgRB5S2yoPaYsdgzdQocq1bV3JgF7++8Rzm/kVr9jRqgIAgCvr7sfn+BgdS1lm2z2+jfVNVmJDCQ
AIiy8J3wFl9FrbDjPHUN4zWORCU1b02SFCMwkN03oE+YCda6vYCNBRW5Z2VlhZrVqiEihN4C4nuw
Y+9eBCxfrl1QwU+Op6cnIiOpv6/mjRtj39athXo8ewcH6ev4o1/PWnNr4eECeu9GA38snFKZfryS
YuC3o2nTpuDxWqNNm7n4+PGL5g6FwNGjV7F06WXtRLp3cVKRrnz5UnoV6QAgJGQkKlYso9cxtaYw
fekk44+hWVVy4Z5mpdWxaVKWVbg0R7fjlKipuu0fln54XOBpToeTYloMyPnKru0b5gqJ343SDkAu
VSZGGllXqZ1s/yPN/kSCbcuQsH6XxnYAUK5cOVSpUgU2NjYAgJfB2vkfVZs+Sqt+bKlQoQKG9u/P
uH9sB0fYN3LDZQaRTiJqKJMoEuHp06es5rB4eeF6wixYck9jEYm0ImcBkrq2aVmQ0uzcRb/RfvIi
nXWZAxg5rBqtSJeXmUf9UEGzyLnzxnlpeiFXlo+jvO9azmiJnG+KOVfWffpiu+8E1mPNy59Hu31D
3Q3gGfMUoqymvp+KGP8Y2vY8dw+8//IFj7dsxuA1a5AfeRifvn4FjyCkIp2EZQcOYlbPniAIAgnP
niFRJNJZpAOo925CfDwIglCI5ClStojC0qxEpAOAGm41MPX9VIXzdPCdiBcJ37GgkQZexCXSRgw2
4PNxoKCK7SsN6V7GPB48ktTfBDNVcZ3dqxdMenbHxnraRZjZt7OHkBRiqfVSzv51hxazvx54sGkj
mkxmGVnOgjINykAcFYkKrfui3ICfR7T9lahXb7hexpGIeL4TuBdqIthc6xWw2zsXr1PvYnc8ZXOS
np6O+Dt3sH3PHs7H1QePnz37LUW6ZcuWgSAI5GVkSKPiClukA4CE+Hjp8SSRdj+KR48e4dixYwgL
C0NQUBCOHz+Ox4/pF/gMGKDDINQZKDTOnYtBqVJueP3aHgTRCikp9BX19MXNm4/QoMEYAC7o1m06
Zs6cqbEPLXuaAlNIPHnyBElJh1R2k0mRMK6xSfqctvJsTjzepuYyVqV99eoA7t27R7vvu7GKACZw
TFdZrcVquyWNKNlEy98NW7KSqf/ZFAGJVbpJyFNvOkyP0oWAWM85Dq9igEkcxjS2APJYGhM3HI0f
Hnxcsi7wWSYICYKX4/ECzWn0ChAEspK0S/etMY+96CFPkZpVcW+qZjN/bUlKSsK8afQp6Zn3t+LY
RzESbkTD2ZEyrmYS5ugYN3w4/P39NbabF8Dei00bAhb+p7ENGacoypEkic8pKZzOl4m9Bw+CLxDg
wQOqSrKxVShS3vVEWjh92vwiS+r33WOMZtFJW5EOAOzrUKnALrNVfZq+ZmRgcLt2KtuZIHjU51Nu
hmKqqzhXjLm5cxXaWpW2wuVliuI9SZIKkWg1Ro2WRiCVHuBD63X4YnswihYtipIlSuDqiRMq+6Up
6UuZi4jYF7RROZ+CKFNvb29ptcRv7yihn+k1N7c2h5AUwiSfh2leXridkIAK0ZWxuMECxuN/T3YM
DKbd3sXJCSfjRXi+bSsqDx2mdoycwxEgCWCuEXNEJEAv1i30obxj55U/r1OhCHn/um1Nt7Hq033W
LE7VWLlUrGXLm/P78G/HyQrjzps3jza9ju7RvHlzpBb4Rv5plCql/eccHYGBBAIDCWk0HQBErCcQ
GKhdtCcd9ct2hI/DP9KqsCRJYv6KFeALBLj38PtEQKV8+QK+QICOPXr8diIdQRCYPXs2EkUibKCp
si35/J+ygbItOb1nNao2bo63ObL98v+LUx+jWmNnvM4g0b+JzKYEAFzbu2BIQBDtPOQFu86dO+v7
NJGWloZ69eoxfi7wYyth+eLFCNm2DedPnsSyRYvQqX17xvYNGjTAt2/f9D5PA78uBqHOQKFjZ2cH
kiRhY9MVgAvu3CmOKlV8UKmSN0JCuPsGicVirF17ABYWHTB06A4ALgBc4OQ0HHfuaBFBJ8+5iYDD
OABAcDDzxWr+k30qIpxRwXPCqBtg6oDy1u3QevJcuu4AgPDwVbrNlYagoCAQBIHu3Vvj0aM9kHjk
SR7Z2Wfxv//NRaNGtdF8px1ywb50PQCqYivbCLzCjtZTx4aSQA/Vm0NWnBjKvY9yGq+xObCniXbH
pyOsDbf2BE9WXVcT7TcBq37wV0GxysAnReG6rHsHJH9Rb5SvTO3F07TyubOsbIc3odGc+wFAbsqP
uDkjUbvfBp3SP01NTZGXl6fHOWnHpAk0EalKEI9Vi0NkZmbi4sWL0gv2m7e5VQ72nTULfIFAGslQ
q1YtaQouQQBXV19F8ynNafuSA/1Rv1lf2n3vv3zB/XLsPfWYGDTjDLbNbyb1lJMwJZhe0GHDYivF
RQkjUyNpqqu8ODMncw4Wmi8EAGTl5MDIwxMAJdLJp9yqS7+taGuLb9++4ebZs4zzSRSJcHVmI9R2
ULzx+stvIfgOrZGg4f0tqZYoFZ7cZOIqk9j0fstOrD4bCtthN5ArzgNJkvjwWHPl0cJkXcs1MDGh
/y7u4CBAXn4++KXZFVvJOBCORd1EuLFZfRVlOrEu8+ABJJtnYdKrSTpXdRWSQtTuXhsBRABuBqkW
yJAnPz8f4WZmCAoKQlBQEMLDw5GWpn5hV/Je1CeV3SuDjI6S3jS/LogEZfMYN2QIbEuWlPbt25f+
8+F3JDf31xUWdnvnwv+MMyZE86W+tG79+oEvEKCqoyOys7M1D8KR+i1bgi8QwMHVVaMX7q8IQRDo
6e6O57fUe0QnikSI2DoPz3f6wO95czy7fhUtmtAvvlVxHY6n1y/DzpJadIq4IZJe/8ScvogbhzdC
3RJ7okiEEzQLRtqwYMEC6d958eLFIZw8mfFzISYqCrs2bMCGFSuweO5c7NqwATHR0Yzt5/j6KhTS
WLJkiV7mbODXhUMulQED+qFBgwZ4/jxR6/48HjBhQmtMmBCov0lJuBUoFZe8vJgrThlV74u8x4rm
tfnkSdibtgaZT1VfI8kLlJi3qgPtGN2700fbcWHp0qUoVuwDxo6lzNNHjqyNkSOZC2yYmZlgwICO
GDCgY8GWa9J9BNFK/QXDFX/2E7s8lz4lNFa36KPExER06tQB1tZm+PtvD7Rr54QKFagUsa9f03Hm
zE1s334Mp0/ycLB2HrrytTjIw31ANx1TtPKygHfXdRtDF7gIdVSHQpsKa97fAOoNkT4t1rA28i9/
w9MHfVGNz74AiSR1lqt33MdTF1GhjxunPgDQYEPhReQIhULUbNoUj2JjlfYo+tZdvkX9rCzcqRPy
Vm/cyOoGYcaU2uwnzJEBQ67ifzvoxTAJi0ZYAaAXX1u2bCk9h7y8PEaxQ5mBAwfi8LFj0ue5uWJY
WIdJU3DJfGrMjis7KvSTiBdl7OrTjltxyFC8S0lBzutDmG9EVfxrt4R95JvkPJYtW4bVq1cjOTkZ
I4TU36Y/4a/QbtKkSZg0aRIqVWJXfdjI1Aj5OYpRS37ZfgggAhDjH4NyjuUU/OlmJM9A25pjsOAw
FW3KVqQzKtienp4OSwsLVnPLJKn3qkSos6w9FIkL/Vj1lWc3eqM/2Q8BBQIOnd9ejZt1YNMT+Ntz
JCXseQBbe2xBv60+sG9mz/mYurKx9Tp8TWW2KWhTX/ZeK1fCBvsvXkJvF+aK1uamphjbuQuaHFsA
8Wj1vmsSgVbyOpmZmODvbl1hPdYHYjKS0c+OLc4znOE8wxl5WXkIIAJwosEJXL1zVbq/epUqGDN0
KLr/9RecbyqKecnPn2N/TAy27d6NWLl9FStWxMuXLwGovie1xc7ODm/evMGBnTu1Xvxo2bQpniqd
gyTl7ncTYpS5fXslnJyYi5GtCySgfDXy6VpDBBZcfkr87ZR97rh41OmCfzsqgnhwuAWq27ZAvlx0
p50wEW8XVYc4X3FRy9TUFD3d3FCvTh1UsrND8aJFkZqWhqS3b3H73j0cPnYM6emqGSvXrl3DVw0i
9O/AyvnzNbbhCwToPtwfl68sRpM+DgAA+l9xHkB+K+jTCM5KzjLH53eHaePxMNdwvESRCP/73/8w
YMAAjXOjQ/L3nCgSYaC7u1ZjaKJZo0Yqn0F/yueIAXoMEXUGDDAwZMga2u1EeQ8FkU5WedYcCTnn
Fdqqq0rbrRv3GxF5cnPPYeZMZ6lIpyvUXKkKtbRcDQB6s6uyi2sLgSE06QOxSznPy8/PD3FxQQAu
gs9/hUePtiM2dhMGDuwsFekAoFgxK3h5tUJ09FJkZsega1eqQm929lkIBA3ZHcyW/gacFb3OKD5v
NAXYr7sYCwBoqL6imQp5mVT6K1umiIFdOpy7Pkh+pLLJaOAllCwRjy9fa3AaShC8nLU5uXyfDyfO
a26oBM/cDPkZLNOMOeLv74/s7Gy8//hRr+PyBQIcP36cVdtF8xvia1rhlKsLDdPsEZabkwEAKFG9
hNp2xsbG0ugETY9du2RehstXP0D1ukcUfPLmGzPfZPC8tmHMItV04FvPnuFjaipyD0dIU00BoOVM
ZlEFgEr1OhMTE7x68gQnw8MZV92f3rwJS4KAo4ODSupMcnIy7XH8sum/b6Z9mIbzAecx8uZIAMAi
C2oxxaxPT7g+LQeXGTM5RdJJ/uqsrKyQkan+74IvEKBav22InNcf3WdsVtlfTZL+5NRL7ThpmZnI
MsnH02hV30CJ2NTwhBOcz7RGuzJt8Sm4EZrfcldIk907Yje+vmPp66knbu6/gZRk9dGX8v5Kb5NT
0JcmjUyZ9WNHA4A0KlIdypF160ZRvps8dw8ISSFaC1vrHF1nYmECf/ijbfvmCu/jU4cOoftfzIUv
Ori6Yn9wsEKfhTNnSt/rX7580TmyjiAIVCxXDokiERrpIZVeHvm0uxUsfm+/KrVqVfnRU0BcnO4L
Zjt7ZWJOmzPwCTPBlrjZqLoOeB3AR35ersp3SEpKClp37IjE9++xMzwc/qtWYWd4OO4nJqKFqyte
vnxJ+93TtGlTnef5K5Cbq/maIVEkwupxnvAJikP05GbgCwQwrkhljxTnEdTCDc8KgDHMCTH4AgG2
nohTGWfMoef4HLcOLzWsTTdwcdFKpOvWrZvUboFOyJe3cZD8zBc4gvwYDr5AAPexVGZV/yYCVGvS
DMv2UpVp017dRLWmzviQJxuHDvnPkR49enCev4FfG0NEnQED8vBlHgb37z9AXl4MjI31v4yXny/G
q1evteq7ZcsWjBpVByYmhfPnm5x8pOC8XVV32jFHGUrJywJaM1yUckiRqF69Gp482YGFCzux7kOH
mZkJRKL1AC7CyMhVYbVUhf6xQKCldgeq1Fbx+Q09pTY/DgfaczT4zk4Fitpx6/NJx7RxXUl7pbqt
SAXYFHuIJwn9YX16LKfXQTR8BueouqSwoyjdqTWnPgDw33hhoVV/JUlSYSVXFzKzslC7WTM8f/4c
9vbso4ccm/6Lp/e5RxtqYsuGxqzbCgbp9yYaACxtwnAkojUSH6uujhcpW4S2T35R1c/tC/fuwXXW
bNaRPe7u7oiOplKt9wYFoUUTbmnyxkZGGDloEEYOUjS/T8/IgK2tLUiShLm5OTJphLLVdqsx+fVk
6XPLUtTn3efHn6URVm1qjYb4ISWACKMdVUS6fBpPOgAwLkiRlWfExInYukZ10Uv+vXxq7yrcOb8P
Dwu2hfWnqjE+1fB+5wsEuHLlCor37oNjV4SIbUy9pg3t7TEnY47UT7B0ZAUAQEyb06hTrDY2h2bA
pk9fwA2AXNTdug5rMOc/+sIb+ubAhDA8Old4XlgSAYvNcqByZJ28+OXq7wpXf1dplWBNgrk8+vrc
kqe1s7N0PEkxIJIk4Tx9Bi4vX8ZpLIIgcO/KFVhZ0n/n8wUCNJ1xDPv7lmccgy9ojOI8Ma5fPIoa
zp1pz1USLTpixAhYW1tzmuOvQFzcVUycyLx/PMuKsMoUE1yAL8uP/bt3VwFgtprhwoW3udjkCVxK
NAFALzhZWlpi5MiRejne74bkmiV6717Ur1OHto3y34myzcHtW/EKzx/Gy/Z3iGOfOSChnrMzvtFE
OGrixIkTOHbsmMZjSPbzQ2U/kx/DEXFDhNnNBHghpoTkp3HX8OX0LNQY+BKPQwbhaexF8B2aIDFe
VYCkOwZfIMCFCxfQqpWeggAM/PQYIuoMGJCQlwn0UIwyMTZ2xcCB+jWLnzlzC4yMuIsBEkaNov/i
a2/eCtdygeVN28I7LB0E0QoEQR2H/HQZC27lSH31CKIV8u/uAn9cPO1YxsZGsLYuKttwcjhgU53d
BAMtgEZT2Z8QDceOrcCTJzt0GoOO/PwYrFo1Trbh9UXFBlyi0Nhgy81jjZYj6iti0pKdCpgyREYy
IRjL/Tj6hE6oK6C6/R6I9tELJ0xIq8dyoM6yWSDz2Juafy9IksTRo0elq7X5Yi5pzcCwCRPAFwhQ
u1kzkCTJSaQDgMQX3C9wNWFsFYphg6tqbGdW8D4WDNavUFei7EFkpHijratisRtxHvXaTnmrWFky
gAgAiiZj7nbFCqxHrl9nLdL16NEDBEGAl5cnXSXnKtKpw8rSUlrxbuf69SAIAkZGigtNaW9U066E
pBDra66HefceEPNIuD4qJxXnAtvfUxDpKtraMlbREytFsZIkiVMxMVixfr3aeXfoNwVPr53XmLok
D18ggIeHB5o3p1KnOzeiouM2HD2G+f37w9jCGGcjzmPPRqqi8wePN6hTjErjLl4gzDwJ2oIAt1sK
EWOL6s/Hk5jCrcq3VLBIK5Hu4KxZsClSBBc4FKJqUW8Eq3bKkXVGPB5K9O2nsH9djXXSlG5NGBkZ
Ydzw4YwRKACQfnWhTgVhEkUiXDhyBARBoIy1NfbEsI+IvnbtGszNzBhFusgpLth+RYTYZV0B8Su0
DTiBO5ejCubvgIwU2ffV7Vs3YWpVVuNcJcKiAf3z9esXnceoHAhsvgm88AWKmFL+dfFJR6QFJwyw
R97r70fyz6ZNlOBecO3Dlc6d6cV3tng1EuCh2AqV5dQW67ajkHN3NwDg9ulggDBjPV6iSITWrbW/
fzTw62EQ6gwYkLCvBe1mquCFC4oW7UK7ny3FinUB4IKlS/+n9Riayow3N22FGXF52O9tgalXzmBQ
aQIfSYCwdcY8p/b4+yTly2RJAMb1g/FiC3PU15cvMg8n/BcMDGVx87K9BtDCn82pMLJw4Qh07dqM
dt/iRm2x9KGiSMFUWZeJKVN6gyquAfrU1L9CgZfMBujqB1e6EPh0V7tKufJw8porIOcrYGHLrU+7
DdyLVugTDVVqBXVWcBbeuFaPNbW1we1RszgdQ3IckkPVQm3o2rWrNH3mbUaGXIqF+ofn4ME4ff68
TqbVVlb6j96tV5ddZEmZZ5SZctEKRTW0ZAdJUiJh8jv6FJIFJswpVKTXWhgZyW7ajD08MX5LEK1I
Z26tKDsRBIGhvXohUSRCoJJBtCRFhi8QgIRqCoz881n9WisUXpD/WR6J183zW7ek3xteu9XbJMyK
aICAfH8EuN2SRtIlnwpDABEAnrsH9k2bhhfb6YtZ8Nw9sHzIYJQvWVLx3EgSI8ePl52fDj47MZcu
gS8QoIqjI0iSxOHDh1XScMdv2YKNWfPR5HQLPCAeYV/X/1F+dErpm0XMzTF3N/VdHOB2C9udtyPU
MxQAEDY+FONsxyA1Sfebf3menH+MRfXno+Qh9aIOE17Nm6GDQADXWbNZtRdHReJalQ/w57FLXZUX
63IPR+CLUgSKkBRiXv48BBAB2OHCvJA2YsQIVKpQAVPHjWNsM/JIMuqOOUTN810YcgEscnPERxJw
aeoAvkCAy8kkTi3szvgeB4BKdnZIFIlw2G8O3n/5gpUREezOVSjEumXMEXi+Z9LQ1hLY2KkIwKuI
s8JOEE4UIh8AYWQPS5uKssaZj8F3aKrXyMFfjXv3dMt80IVTpwZpbqQG+7XApBOUQDfaSXGfQ/m/
sNubiqrzCTNBUpqqRYcBeiTXHKNnzpT+DQ8cW/gLwlUdHaXHW7N5M0iSxOnTp7Uej00arzzyn1cR
N0SIX90W1TxXyvY5eiHx1mlUEQjgMXUDannOVej7VM0lf1YhFDcx8HNjEOoMGJDwQf1FVlraNwAu
yM9vgSpVBqJt24lIT6evM5SRkYUJEwLB5w9AXl5zAC74+lX3yljW1uqjpK7mXABJXsCI8m2xorkJ
dr4/i9Km/THHoT3E5AVs6NgVADBq3RI0K8nDsywWomEIhxWxlCdAc+2MpyX4+Q3U2IZOnJNFC7YG
j4V4t4YmHQsAULM3ENVdY3/WaCO06QMzjhF1APAqRu/T0JkKMo8vbaLkoEHcVqb6LO0uJG+PYnfz
rA+cnZ1Z+7H993iGzse7da2z5kYcKFYqHKI4zWOmp30nLXhGAAAgAElEQVTEq3Mf9Hbc2XNvo0qt
KAU/OjrKNFSMstvvRUVl+a58Jt227OBB1LSrgIRtW2nH8NwpSwP18/PD2cOHUa82c2GOiBsi7Otd
Bl02Ky6IfIuZA7cVF9FqRTxAfsa+B9kKXjlsxAGJv02DAQ0AAI+iZDebbefMkfqRATL/uVSLHKmH
W4DbLcx63YKxiMGFe/fQtZET5oSEYM3w4Sr7GzRoAJIkkZWVBXsHB+mNzN/TpiH1K7Mv3O1799Da
zU3afqq/P0iSlNoXWPZU9a6zHXYDWxttQmL6C3zweAOnyjIfuhWlZZYMX8P2I/QitWBz2G8O+p0b
gIrNK+Jd/DsAQLly5bC+01qsaqx7Svv7h+9Q+aodwsZRQmB8x+tITNfsz0hH2KVLnNp/+N9uzP9L
ffVFeZQj6+j834SkEB/ufWD0rtu2bRtiotVX0T7p1xanC6pC8sp6o7qTF7a+EqMUAbzKJpEoEqF/
20YYceA5q/c4SZKY7OmBOSG7NbYFqJS2EWryNSXH7LpM9npHXI+HEYCEm4fk2l0HLGogMV654I8i
USw9QX9VTp3ST0VNbbh5c4tW/fzPU1F0CROAf1jojLu9c1HGqgp8wkzwPFl9VWUDMo4fPy69HunV
t6/KYqLvrFkQ/fcf53Ejjx/HXzTjvUlK0ls1XZIkUb2xeosO+c8neT9NolQvOBgD1q4L8PTwVOyJ
k+yjMpmeF7T7d15Hhb7V1CgztZo2NRSV+MMwCHUGDHDEyMgIz58n4OzZm7Cy6gDAReVhadkBa9ce
QGLiCxgb6y8aJSWFeYX/dNYFNCsI9tiWFFOwlQcydw8WxZ8GAVlxi9V/O+PqpxhUURPsZWFRUK32
423VSDE6VhHA8Gea2xUakspI7NJf3r59q7iht1y/7FR9TQqo0g14e01zO33DNaIOAGppkWZb2PSO
kXtCchbraviN59TeqhqfuxgIcC5e8b3IS++D/+1L1GmMqlWKYO0G/aUDZmSwiz48FsIckcOVEWPi
MKC/PRIeaa7WNlo0WuH5w8MPgRZRsClFmaZP2roNs3aF4N6GDYxjnJp+SvrzokWLUIXPV3tMr0YC
TL9tj39HKxZOqT/xKKKnueDlHklFZOpzTpeUolAPSjDiuXvAv18/iKMiQZKkNJLOsmcvFM80hfcB
bwQQAXCuXRum8fSLUgDgOms2jsybh9x8MXo600emA4CZmZmCiOzp7Y1mnToxRoPOWbIEhw4flrb/
KFdU5cj168jKyZFG0029PQNBoTuQcd0OSx6uwAePN9K2EvEp42OGypx6OTvDf+9eWPbsBecZztjr
thenZ8qiL7KysrCo/nxY/1sU/y44ptJfHfuG78H8OkJs6xWk4GdVwaI8mpxmfp00MapzJ2w4ym4u
tsWKAQBKt+3NenzJ63XJhRL5lVOaAaoqcPul7RFABCAnTTEdnMfj4eVr9R68yjekJuIE1BkTDgCo
YEoZyYecvo6tPew5vdezIw6xLi5Rq1at75Ka9+DxY0yYNeu3v8E2MWGu/FpY7NxZEebmXJLmKSoH
Av6tqSg6LhjxTLDbOxf2JZzgE2aCfDJPcycDUsaNG6eymNi9Tx8IV65knSUgeZy/fh2bgoJUxitT
pozmiXCAJEmq8JGTk+bGhcRkPz+dI9IN/JoYhDoDBn4xsrP152nExPbtR5GZmQVsLsetY3EW1b/M
1ZtRf/zILEbOvnEWM2vxFKrpSn6WF+jEaqrtSlhWWilSwk5P5qzKoubXl8De5tqPZ63Zx0tv/brt
owTXnwlCTk0+SEWECoKXI/nSddZDCIKXI+v1O9btrapVZt1WQjmvH5f6o4mAhdxXq5WZPJ19VI46
IiJfI/OLN6u29+LC9HJMY6tQzJ5RF3VqFVPbbkcr5nQ+shp1/uM2b0FgdLRGT7rPjz9Lf7aw0Ox9
GXFDhIuhssqnkoqoJEyQKBKhphGQRZSERxWegrgg+fmfx9xSryWRc63q1gUAGHl4Ss+pn4kDZqXN
QljPMNwv9wUDz1alCg4wpFDumMjxbreA4cOHIyMjgzka9L//4OjoqNIvMycH7gsWSudbOrICVjZc
hlzzXOQkFcMGx0CVPsqRYgAwr28fjHf7C6LnCRBHRWLEuvWY/HoyUp6nYGsTxUjJadOm4WbYDSyq
Px81zKrjzpx4LG6wADt6bsPeIf/Dpo7rsbjBAlhFm2NR/flYVH8+nsc+U/EIlPDB4w3sovmcXzPP
Zs2waexYjN/CPoooyN0NH8+FqVQIln8oV0OckjRFKjbTFQkBAOcZzhCSQiwptkThdc3Pz0crNdVc
lSNQACCXBI6NonxwL8dRPoutbHnIT6c+t+07M0fqV3NygljOt1McFQm3+ZqrgD548AAjR44sVLGu
WceO6OLt/UfcYK9YsQJi8fcUrkh8+cLsbUtHnU1A7wPcBTplCBDY7Z2L99+ewSfMBF+z9Rf5/acx
cOBAiEQi6ef+m9QHrLIFDh48iJYt1VdV1xckSSJ4+3a1afiFcUzJ8e4+fvxHfIYYUMUg1Bkw8Ith
ZmYGwAUlSmiODOHK1KkbkJvbDEOHLqU2pL9jH03Hph0A1FR/k16qlP6rS6qiVL3WUr8rcAp80lEk
qdFTu34l6+p23J+RxH+lP1o3aoDHi9Sb1Mvzcmc467bVZ/2Nj6e5pZiV+asdnq/ZzqnP9+LJPTeU
qcjOu6mw6dXvEkxMvs+lx+Go1zArth956X1gz7fS2P7lxZcq2wKIAJDVbsF/FwmeuwcS3r9nXd1V
0j+jwFMwJyeHto0kRUaCJAXm6d7hVGodgBM3RTAHEHjwskrqa6JIhEk1mMOj5VfiN7k+AACFc5CI
djx3D8zInoWKobmwGtAbucZiTPDtic+PPyOACID3AW/kZSneiPPcPTCorVLF60IkMycHVj17QRwV
idKRFXAj+SaqFqkCp1PNsOPfIOR9Yq7arSzW+ffti1YzKU/KfLEYGQX+P73CemFE3Aja1E6f2MEY
VMMH0VHRIEkSSY+SkHDjOZLfJoMkScyezT4F/nk37lGqh2bPwn8vNKfNlixZEgRBoGa1aujQuLFC
ShbdY9G0aahfp45UuCtSrghaz2stTX/+nKZahESCkBRKK8dKohElN5l7DxxgdV5M6a2dl15FokiE
c0tV/RVfvXkDvkCA4//+q+Lf69O2Dauowy1btoAkScxculR6U3z4GLfISWWqOTlJx3r7/v0fdYO9
dq0xsrP16+3IhEjEflGxRziwXQTcHwPs1/KSio7yRWtit3cuipmVhk+YCcZFVdTcyQAjPmEmKF+s
1o+eBi0DBw6UioSv0tIUovuqN26MvQcPaj3242fPpMU3JI+nnz5Jj/fokcEb8U/FINQZMPCLkpyc
AsAFoaFv0LTpaI3tmcjLyweP1xqAC1auDIWJSUH+7CoCqMTyBqxIefYHLM8m5ccFdevqZhBMR1BQ
FAAX1aixMUrRVmzPm4nWKxSf9z5PFdrQhtIO2vXTNhJvCglEq3o//WzwzM1QuoMLUq7RVy5WhmsK
7Jt9UZzn9PU/7pUcvxfvX3nB2CpU6/5jR7Gs+qyBKzEd9DKOJuYvuguSBLK/sk/5A4COKzuqbmwR
hcFr1qBbo0Y4KpzHeS6pL1NBkiRqNGnyXavgeQwYAL5AgKysLKRmZIDn7oF35xTfA/IiXcaBcJib
mgI8oMd1PhbmUsLLzNSZAAEc7HsQiyxkVdBXRkTAv18/5cMWGsdv3oRVz17YubYXykTa4YPHG7hd
8sL5Nmdxs8M12FTVXFVTItb9U/Ef6bYzixbCxNMLe6ZOwd+bNiu0VRbrTrw7BX1hyjNF6cgKnPs1
njSZUSyOi4sDQRAYOXAgEkUinORw83hk3z4kikR4FBsLgiCQ3yofJWuUhJGYQKn+AzT2F5JCXF5+
WfqakSQJ/+XLwRcIcFCDZx0X3r57B75AAJdu3UCSJNq3b6/SxrtlS05Rh/v27ZPeFIfLVdiW91MM
2b8fl2JjcSk2FkdPncL8FSvQonNnlbaPnzzRm0fWr8imTdbIyWEWdvVB9+4XEBOj2YL2QzqV5nqw
FzC0kD96d3vnYr37K4yLssOCs4bKnFzJyvuGuW1jfvQ0WNGyZUuF6L6kpCTE/fcf5/RdqU+fnx+C
goMVxqT7XDPw52EQ6gwY+MXp06cPYmPvQeKP988/N2Bk5ApHxxGYOnUDgoKiEB5+DsuX70XPnnNh
ZOQKO7s+SEiwA+ACY2NXhbQRBXqd0TyBVQQw6o3mdpKUCFZCHXDv3nMALjAycmXVXh0ODsPx6VNt
jBy5QnNjAPA6ApzRwR+r0VTF5/tbU4U2tIGl19z79+/h7u4GCwtzEFOBEuX4mD59OvPvVh2P2UVB
fDcajKDdbN2kIT6du4r8TGb/LHkEwctxZ6wfq7a1F08HyfG145mZcmr/vclL74Pps7SrTLh2tRNy
cnQrjNJv0BU0aVxSc0MdMbYKRQ+vivDysOPct/kUWZp63Lo4AMCtChMQcvYcoufNZepGy/RPlDC8
pjJVuIYkSdy6dUt6cZ72TfcCQ3TUad4cfIEAFfl8kCSJXTExqDFqtIK4k/4+XSrSWfToieyIQzA3
NcWl+/cR0O0WaidRVXmbTWqG3PRcCMVC5OfkK1Sznb5jJ+b14SaEaovd4CHoFjAftsNuwIffH+89
XqN0ZAW8dX8JUx61uCTKUO+LJqFNQBt8ff0VZ/3OInV/KNrNkX0mbFIy/VcW64qZ6Kf6sIRn3R7i
/tcHnPrk5FHfpcpebJs2bULTplT10dGDB2s9JzMzMySKRGjfvj0+9P4Av6PsF4uEYll0XYx/DLKz
s0GSJFZs2CB939dzduZcSVE+2qR5586shDCJAM2VS5cuqaTZDRw+HG+/fMHO8HDsDA9HTFwc6jk5
of+aCypt7e3tOR/zd2PjxqKIjWVXbZgrCxd+Q6tWlFUJSVJiHd1XdeVAICtP9zRXrqx3f425bc9j
VEQp+ISZaO5gAAAw4pANatg6/+hpaIWtrS0iIiJYF/ki90Dh+f3799GsWbMffRoGfkL053JvwICB
n4JJkyZh0qRJug2yigDGpWhuR3LwRZKkgHKM9JJU+EtNTUXVqlXQokVtHD68CDwe8zrDhAmBWLfu
IM6fP49WrVohPl4ubFw5mo4uZdfYAhBtANqxT60sNHjM4g9BEMjMPA1zc1OUKQNERU0HoBw1dhkA
EBf3ACdPfoCfHwuhqsJPdrHUIQi4U+AZlfpcwQux+qyxuD1iJhpuXcpqKFvX5hDn5oFnov7rz6yM
LUTDpkMQzL7qY4MNmn2RfjR372ufltTY+QRuX++idf+wAy+xd5f2JvpsMLYK1VjVlS3HJxzHoR5R
+O+uHad0VwkWJf/P3nnHNXG/cfx9YSouFHEr7llBnFXB3VoVcGJtXXXUvfeMOFtXHa1bW7dV+VnA
1bq3VkXcW3EjDnCggMD9/ogJhKzLYGjzfr3ygtx914Uk3H3ueZ5Pcm26pA9JyOxkVKlSRXVynvI7
LFfOnCyZM4da1aoZNcfTZ8/oPWwY5y5cUG27ePEilSpVAhRizkCfFjxdu0atX/aeChMJ+1at6dqo
IXY2Nvx74ybeo8eQFBxEgBBAgBCgEl1SpjfOyjeLv3u+5sRszRsfobdv41nSxGheHch8/bAr8AaX
7teJ9HvEsjsrmHBxkpphBMDiawdwSNDjkPQR74neHJAf4Mi0IzScmhw9/TQ6mqTgIAYvX868nsk3
B1K+BjebGSeqGSK7bXbqH2iscSym0LdvX60ppG4eHlw+fYbGc8I43v0upbo/ZEXTS8i6rKRLHQ9u
nDpImZoNVG6ESsLDwlRp0wG+fly5cY8KZaTV75SLcibbTuZQwCHkolzNvOnOnTuUNPI9ovxfbixJ
wUFka+fP2y3m1bv09/fH31972Y4hf0tzDf2vceKEHGfnonTpollSwBTWrSvL8+fXgWxq20URevSA
WbPA2RlOPrJMHTpzWdpKYX7z54WxbL82i7X+xonT/yXOPgrm97YxGb2M9OM7EfbWg8bSzO+s/Hex
RtRZsWJFnfkfa/w45DLcdq6t9Np0EebZ2efMmZPnz18QHHxUlaqr67FgwVZEUTTpxN5ipH5dbLMo
Xi9jeadpgjBoUDvgCKJ4GEdHaVFcNWqUZ/z4esAR8uUzENX07dHMZyqhZIXmBZ778p8kp7UW9G/O
pYG6C5OnpNTIXkYtDUEwzTE2HdkZVJ9qtf82qe/lK6a7Ia/fFE78G9Oir0o3N5x269P6MOcvRJks
0h2UH9TYFuATSpas+Y0W6U4vSjY6Kfm14v06xV5dxBUEQe2OelR0NO27d+fU9ev4du5sMFWmdrNm
bNmzhxqNGxN6/rzaWJUqVcL52w5kadOWpOAgNdFJeVzyEE9kvn7Eb/sfy/r3J89331Nr+HDVsSpT
RE8vOk2FthVYVm2Zavu7yHfsv3CBmmU00/mHr7JcncZ5wcHIfP1w6X6GuKX7ifR7hGtQIX4s0YOn
fprRc5ffPqbVOTdJY6esVxe9aSMABToryi0sCNmutf3U7FMRsPz3ovK4pLJ9oiL9+tjMn7Frqajd
Fhsby7mDB7W2L+8ko2L1ajTwSK7FqjyK3t4lKFOzPs37aBpwANw8fRpBEHgydRmVhg+UvEaAiQkT
kYtyFlderBaVWKJECZ2RJvcP/E/rdnP+l19dvMjkvlK4mz4l2T5JoqLuM28eLF+ezXBjHaxaVYB5
8/go0mlnxQrYdk8RRVerUMaLdClpX3m6SqTrtNmOboGWjcr9HFhw3B9bPTelP0siDZveWbFiFeqs
WLGSjJgECe+liW8ba0MVI9JDo01M/bQkUqLp0oqE98ZFICqJSi44rkj1OcL8+cZdMKXm6dO/uH3b
9HplmRGPlTMli2SVF0/j8rCpBttlK1sy0wtvpnDm+Ncm1auztTVdpOjS/SQymXH9nfMqIifL+ekv
Lm3rtImNa2rjXtlwjTJdHJqsfme71dTpVLGJ4OSaHUaPpXTLBOi4O7m2lzZzgtT4+/tzPpXwpu3x
6NEjhg8frnUMma8fj1b/wftAzRR2ma8fiUF/AcmGEmdv3Sbq7VsNQXLYk2Hs7LeTdlva8eRsckSU
UuibX1xT3Dl48ZLBY5SCzNePaR/6MnRKOSL9HiEi4hpUyGDkWdmInJLnGPNaYSTxi5N6ZGBScBAn
rmnWm1ywTiE4vX74WvIcUgmpu434JO1mI6lpVq0qu86e5cty5Uj8mPN3//59nHNpv7m2fH8o4WFh
bBidbMhQv+9K6jnBksN3CA8LY8di7f9TlDVr81VWiHwfYoyPCupzoY8qKtHQZ6BI/VZGlxwwRBEX
F5NSYKXyV3uFQGRFNzExb5k3D0RxELt3G65refXqGt6/782QIfD69ROD7YvNV9SguzdIkQqbRlUF
zGat/wdWtXlD161ZrWmxH+m82Z7V7aSVL/ms+O6/WcPSinFYhTorVqwkM9cGqo+Q1vbxCWi4UPrY
bw2fbGUq7HOYP0Z5CxRaf3xS9eu7d3u1NhEEb35/IlLNoR6C4P1xWyO9w5YsWYjixd10NxhqgqiY
wRgj1mUpKi2CJWtx41zccnpWMqp9RpEQ863RYt2pI1qMFiQycZzxr0vB4lUBKNdSu1AXF5ekSnXN
ls38Sh5N5zUFwG/qVIL+PYVPjn9NGie1mJGjcPJ3yc2daXfDYseZM6q6c1kdHDT22/i15PzCBdj4
tVRtO3rlCtWHajcnyJZfEQVzd99d6k2sx5yCc9T2R4dH80vRXzT6mYvd901x6X6GZ20eMtv9Z3qc
7kWF3e4WSQ9NiX325AiOHkfKqu2rM3KU1j5yUc6iSos4OOmgRddSM08NCodIr23mMzk5QrNiv36U
KVOGUjrSpgt/fCuEh51ByNuO28HJpTFSugdro1KdOqxevVr1PHebDpLXmBq5KGfk85EECAGsabRG
Z7sbWyxfcsLUenVSqVs0zYb+rJg/fz7Xr29g3jxUj86dQ+nU6Szz58eptv39d2eWLl2Cm5v+8VaF
KUS6lBF0oggrV8Ily9wzSBP+aPuOtf4f+Pvmwv+8YFc8d9WMXkLGsTcDs36sfBJYhTorVqwoUEab
eUuoyTXXBjoamcqqJYUzXTE2mq7Vdriy1rw5m603rz/AneSIHicnR53NuhWsT6hQQW3boeFdGXMk
HBuXYVr73L2r5/gEWXIa9CeEVLGuxKAfJLUrM34AFwdIS5UFKN6vs+S2GU1CzLfExCRIbm9qxJqt
0yYmjjVeqMvlohAusubVfB+eOfuSFq0OWaweHUDNQTVpKp9EyL+nkYd40qWn6fXIshdKTm8a8kAh
jPx49kc2NN9g9jq1IfP1Y8+5czrTdL+dOQu/mjVxHzCQ60sWA7A7NFRVk04XclHOmsZrqB9Qn7dP
3qpMKeSinLab2vL6wWvu7rtrseNw2VCc9SOHqkS5podbMLLccK42vWCgp2mMezcOgELRTgA4tm6j
s62yPt3o6NG8vPmShaWNuFElAWOEyKSPRgrTOnfi6gNFGnBCQgKRz59bbD1vY2J4GxND586K77SJ
lX2JsTevzlaWPFmQi3Js7G0IEALY6LtRo821DZYXfwH6NmvGpXv30mTs9a3AzRpVJ4kuXdSfe3p6
UrVqVUDz5kIb3R9HtSi61AwaBC9fQg4L3G9NS74uPYC1/h8IjzpHp812bL8m0fDsM2HtuSEEND6R
0cvIOCKPZPQKrGRyrEKdFStKync03OZz5cPHPAGpqaBiEuQz8i5YnOn1rczmaqqLY5cvDPcp7AW7
0kB0WSq9FpECaX+TpMgJJMUuVtvmNbwbi3+U4/7jD0bO+ZGE96b1Swva7E7+Pbit3qYeK2dyY6rh
i2ipop5N1iwG26TkzZVMkOYtkQFDzpKQID0FY+GiG4YbpcKnubHveUhKTMClQFmt+2ydNlGtam72
7Gxg9Lj6kPn6UTSvC89mrUL8ZgXF6+pPudXHt9vUBcTaI2qzrOoyCtUoJCkFVir5O3VWRdGlrkWn
5ENiIvly5eKvkydJCg6idMGCACxvtVpS/T2ZrYwAIYCxb8dyK4UpwNZvt6qEvMk2k806DpcNJXBe
Wo7n393F310RuekaVIjd3tspk91wjUIlFdtXNGpe2yy2FP5S4Q48fkcVbN8pticFB6ncVZVryWmX
fNXfen1rBtwcYNG/pXIeYxjTti1ZHRzI0qYtoihSo3Fj3Dw8zF5HPR8fKtWpo+asOmlqdwCOzzpu
9vjf7/oeuSinQ3AHjZTY2JdPzR5fG7/27kXNYdrTxS3BDP1B7FYAT0/44w/p7bduVaSypqTYfDh8
33AdOm9veP0abGzg9m2jl5quuDlXYa3/B1qUG0HU+0d02mzH5af7MnpZac65x5r1QP9TVFuQ0Suw
ksmxCnVWrCipnnYncJmeBdmli3TzHE2r7ZYkPXLH4uz8Xv15l7SJztBK7lQX+28fW3wKUTyMkLex
6nfFz33I8nsTfXU1odO1RzNt3nxA/8B9IuC6eW55FsMtha3ezUCDzV2b1uPliVCD7SovmkrkroN6
21T4ebRRdZNuz1kuuW1Gs2pZTRxz/im5/ZARhl/TlNg6bWLbZi9jl0X083Byuqg7TC747QaOOf+0
aBSdkv95htO1USOW9e/Pr+V+hbyaZgXGULB6QbXnTWY2AeDRv4qoqciLkWaNf+vJE1UtOkNim0Or
1izcvl3Vbskuhehd+X5uSXNN+DBBMU6HtshDPFXbB9wYgCiKyEU5MjsZ+V4bJ2grcQ0qxMtNXxDV
S1EXbsbVnymxo6xREWaPXrwAoPYw412Fux9XCFDtN7TjnX2CSnSsqyP9NSXK2muWItLvEQGXk+tn
3n2qXbRaPiC5Puy7uDg+fBQVRVHk7t27uHl4ULG28a+Fu7c3bh4elC1fXk2kS8nXe+do3W4qclHO
iMgRkmrYmUvM1i1plgLboZK1Vp0hzp3TvU9X9FvWjwHVgVeT01y9jUg1TkyE8HAINHzakClwzlKI
tf4fqJiv0WdtPtFpsx1zm386NzXThDID4J8vM3oVVjIxVqHOihUled3h5raMXkX6Y6y7Z2KcafOY
YqRgCRbnU3/uNSN95//B9PS51JQqZYGadyn45psh+htkzQfbTXPqzGhyVavMi0MnSXynPypQ5mDP
k22GXVDP9xxtqaVlOqTWq5PJZPzYvSBDRoTqfHzTYhqOjrpTtKXy7u0LsmZzUT0v776D5t8UJPaV
5d+PXebO42Khl6walFxQXzhoei0uXSidRrPkzsLiyosNtNZNDv/2DF2xkqTgIGxk+k/jlKKEUqT7
OTCQvouNn7ttYDtskgSGPx3OzR2Ki6vcpXMzWaYQtcbHjscvqgzyEE9G/v6HpDHbHPPHfXcNnq+s
plrflCvTcc9VmTvNdTs8amPiekWZgdQCqVTGvB7D1m+3ks3RkUXeV1hUcRFnbt1S7Q/7SnepB0uL
db/dSv77nLyu/XXo3qSJ6vdfe/ciIegvomNiAHBzc0MURTZv2aLmFOzVvDkLli3j6KlTHD11il9X
rKC+j49am1W//44oivz9t/bvxLZu1YhxsPxNt6x5syIX5UxMUDjapqVglxQcxNPotLFqrWNcSdP/
HF/q0SR8fbVvj4lRCHStypnu5tqoEdSoAQa+LjMdSvOJ4TvL0WmzHfGJmSjLwUxalJNYD/tz5/lJ
w22s/GcRdN0x+0z4rA/Oiuns3LmTqVOncOLESXx96+Lt7Y6nZxmKFcuHs3N2oqLecP/+U44cucDf
f5/m2LEL1KxZnbVr11O6tPQ0nEyPUqSTGiE3RzDdKfX3CvDyavo6rWoTIY2Zf0kB6G0BE4zU6+hy
EVwk1uxaVx06nlY9/eKLSly8aPpFvpL9+z/QsGFDww03ecG36VBHQ8p7K+XrKPHvGHXyHDIHe3JW
0Z8SF9Z9JB4rdddnfHPlJtkrSPvsP9n2NwVafQWX2lIAACAASURBVG24YSZDacyQkiJFq9C2/UqT
x1z4S00SEoyva3Xj/A7yF/Xgl9wrmJK1bJpE0YFCyKrlXIKv1+RCLsqJuh3F/Mm5mbTatO+pfWP2
cfSnoypRThsBQgAFPAvwJPSJ3nba1urk6MibzdIiIFOLdDJfP/LlysWTNauZYjeFpIQkyfPLfP2Q
b/dUnVUp+/3s/DOjopIjz+x8WpIoiHqj/Nod78D1N9dZX24b7gMGqtpKcXUFOH/+PH///TcXL17k
6tWrREVFcScighyJTng1roGXlxf16tWjVq1ako5NydzCc8lbIS9dHLeqIgflolzyuma5zmJ4xHAE
I92NtaGcs/uCBfxzLowHv6/SaJOQmIitjQ2giJr8kJgoKZXZXGS+frxdtZGsLmlTw3RH+4o0//My
65qu4/bft7FxsGF87HiLzmHj11Llfmxp1l2EjhKqa1hRZ/9+SH1KUupX6FEFxtRVmERYAmdn2LwZ
UmjdnxSbLoxhx7XZ/N72LbYyzbp+6U1cXBzZs2dj1akBOtvEvvtAz7q/qqJ0O222Y62/efUuPxs2
CFYH2P8WRp0gfGL3FqxYMY2sWbOwePEw4AhwhGbNsnP8+ExE8TBBQdMZNqw9DRpUoUSJgjg7Z6dE
iYLUr1+FCRO6cPTor4jiYU6enEPp0hGqMVasGIW3t/EpXZmGFSUUP6UKVw8Pg+wTcqc6PVPTubW+
kUWqOxyzzFr6pkpzW23EWbzvFrWnFy9eArz44gvT6s4pXGG9pIl0oBDpjI26TCsqdTO6i3OtKjzd
aSDFF6jw02heX9IdxZO9QmnJjrIFWn1N/LOXkteYWUiI+ZZnzxURs2XLlmfIiFCzRDqAAUNOMWRE
KO3bGye0xb6LZsS4+6p1pQUyXz++qlKFH64km7AsKGVezZijPx012GbMmzE8CVXcAJBS2+3Kgweq
OnRSRboSPXoioi7Subm68mSNwsGzwWTp9f26zpvHtnFjkScpxLncpXNzeIoixT6lSAeQKCj+n+iK
iHINKsSW2hu58HUo7gMG8uGvbbyMf6lVDKtbty6CIGg82rdty50rV/AsV45Jw4bxx4IFHN68mfW/
z6fVV19x7/p1evfsqbVv2bJl+fBB+wXi0IdDubPnDrmzZWeyjyLF++VN6Z/jEZEjmGwzmQfHH0ju
o4tZ7j8BcOLadWqWKaO1zbczkwvPK0W6+SEhZs8thYkl0i4yvdx3QwHouLujzjp25pIY9FeapcCO
258mw37ylDNQ8jP1KUmx+XCrP4yuYzmRDiAqCooVg0mTLDdmevJt5RkqkavTZjv6B2dcGGfJigXZ
cmWMXpEOwDGrHWtDh7Du3FAcszpYRbqUVDavvquVzxurUGfls8XHpwVKUe3du3/o06elRcfv0aMF
hw9PB47w4EEg1ap9Yhbjr+4aF132Zz0YEm/6fFnzmt7XFA6PgvjX6tuqDjZujJwl4KEFosmymHHs
Odzgz/oamy9evAV4UbCgP9OmrdE7RKdOU/H1nQl46aw79EnwdQrR6OlZyd3KjOtvUGSzz5ubO7/o
F6WyuhWWPOfV8Z+me1tBt218WacXzXwt4FicctyiI6lQ8RvJ7T0b2zBpgOlmDoaYsG4ddStUYHfA
JB6fSVE30jYe1k5Ms3kB7LPZq34Xk0Re3tItBsl8/VgQHGJUpNTl+/cJj4xE/Nin8fgJVClRgjsr
kmsn1hlZR/J4a/YfwK9mTUBhAvDy5ksOTEwWv4N+0FzbyBcj1YSVcRcnUnR7SZUYpxQO3yS+oc3x
9kT6PeLUqVNqotoP/v6Eh4VpPP7eupUxQ4bQukULvqhQgaKFC1O0cGG+qFCBxvXqMWrQIILWrdPa
9+fx47G3t1fNsX695vt8wMbSiMDPTc+zsMxCnraQXq9QLsoJ7h7Mn62l133URhe3TrgGFeLaw4e0
qFFda5v/nUh2S1zUpw8AQ5avMGteqfxW93KajV3Sr7v6869KIhflDH863KKC3dstm2k0zrKRegD7
Oll8yM8CHVncGjRZB35/aqa5GhL6jKFMGRg1StOo4lPCVqYQvH71faBKjX0VG5Euc+cvkI9154YS
sM74m2grjvVj3bmh9OzZIw1W9glSaQLEmlez1srni1Wos/LZ0b17d+AIISGGC0FbiiJFXDlzZh63
b2/ixcei1pmaOQL0MrJYehEzHRazuprX3xi0RYANfGPaWFskRp6lJQ8P6dz1+PETxo1bDnjpfKxd
+zfBwWZEWrT4E96YV1zfIHZOxrVfp/3iVRdSHF4NtSkzYSAXB0hLFRQTMqgmo5n071OGWrV7pcnY
XzebRuky9fW2+ff0C2ydNrF/4y0u/yFdjDWGmf/7H9M2b+HwT5pRQeJ30xn1zLx6hIVrGRZ0lamj
MhsZC0trOhTLfP3I2f5bkoKDWNKvr+S5fw4M5Iv+A1TCnsfAQey/cIGz89SjiQUbaVeoHxITub8q
Oe2yVNNSqt/fv1DUSwr7I0ytT5lCBbkb81xVu801qBDTvpjM/RYK68WotwqX8TYD8tDo4Nc86HEX
QRBoUL++mqjWuF49ycctlSqVK6vNMX7MGARBUNVVTJkKHGuXSKJtEpNtjYt46He1H2ValGGqw1TD
jfVwqIHC9bFFdcPfdb2/aQooIijHrtF/48Zc6hcsR5xt+n+/Obk6IRflqvdVgBDAFv8thjvqIKuD
AwcvXbLgChWUym01ldCGlCD+YvNhT0cI0lKKVKrQJ5UsWRSRep+yWKdkdrNrrPX/QE7H/HTabMf0
g43TbK6K1d2YndqgzQTq9c2BvX3mztIZOnQogiDg7V2F5ctHEhW1E2UAiPKRlHSI48cX069fawRB
wM/Pl3fv3hk30c1Fll+8lc8Cq1Bn5bNi27ZprFzZVW8bQfDmxx3RzK3bSG8bgN6/XlF7LgiNIPEu
stzTtfYrWbIQefJcydz/fOYIkKcCZCtkXB9/M/M5jJnPXAQb9ee2WcAum2ljWcqtNnX0YmZJJ5VC
WX9YlsbpFbnLGtnB+MhAqWLd5WG6L7BlDvY696XEIX86R5CaSWJiotGOrqbQwm+uznlsnTZRo3oe
EmK+5d3bF5xaeMri88t8/dh0+LDWCLWpjoq/e5Y8prmXKmm/TZrhhVyUk5SYRJbcWVRRQikFuld/
Gjb4SInM14/95y/wW5/equcVixbVG413KED3TQBQ1D4r7JJHY90AM10UNR2r9ammtr9F9epU6tcf
16BC1Htan34tf+Ts0mTRNc933+PS/QwTS4wj9KtT7AsMJDwsjKsn1Ytqz29fTWVysPWVqPi9ShVC
nycwpblnsgmCp49q38hFwcAH1b4SjRQiW7kqHniM0DRIOBgSQnhYGNc/RvPt27eP/tf60/egIh36
2ckXlGtZjgAhgPi30iPKq3Srwvi48WZFf5XPoQghctFhh5kzq3qNOGUq5y9BwSbPKYX9S35O0/Gl
oBTs2m1upxLttvfabvQ4aZUC2zLtgoE/Sfz8YN8+3fuLzYc9d/SbRYgiTJtm+bWJIrx+DW3aWH7s
jGCt/wfG1t8LQPfAnHTabLnrkcbtPBizrLXFxlt1agA5chl5kzaNOHToEGPHdiKlCDd3bitE8TCH
Dy+gZ08fnJ01HXhlMhm1a1fit9+GfCynNIKsWc+qxti/fz7FixfT6KfGw7SvLWrl08Qq1Fn5rGjV
ylvv/to56iHk+IJlzXOptrnZenM7CXxzat69X9K/AoivUX5UctslINh24c6TsXrniY/PpEVKlOJQ
VyPSVvYPhPzGRS8BJCUl0b17dwRB4KuvajL1WAzLsg/n559706ZNPezsbClcuBD796fBa5XaYXaQ
4btb0dHRjB8/HkEQsLOzpUmTGowe3ZFl2YezZctkNm2axLJlI+jVy49q1cojCAL58rmybt06y68/
Nc3SYQ5D2EgTqEwmh4ETGSW5zbsCkiLWORbMp3NfxdnjJBXMKSs3Ms06gxk++ny6ztdvUHItt4uX
ojWMLF69uE/Ce8u6S9r4teSLYsUInTdP6/6EhFgEC6S9Zssv/aZAlwNdeP9SEZlWw727SQIdfCzw
v2Uze8LC6PPNN8h8/RjRuhXrhw/T2+/MEt1upv4//8zugEla9ykNE5I+JNF8UXNOL1IY3nTw9mbR
ZUUEXqTfI+q71kMuytnee7sqctCl+xki/R6RI0cOwsPCtI4PMOjPM6r9bXMq5gs/d47WjasxYUco
4aHbwLYi4aEhqn2bl00E7AgPC8NFBtt2K/6esaJA9B79UfbhYWE0btyYPGXzkPeNIsJucdVfab+t
PVlyZ2FGduPrslnaETYla4YO1br9feBWbP0sW+ojvbn113LDjT6iFO3ev3xvVGrsoEGDEAQBMSRY
az3D1A9XV1eWLFkiaez5X0P7QMmH8NkTrEM7fvBaIdLdGwRNSsD9+/rHGW/5TGUAcuSArVs/j+i6
lKxs84q1/h84/2Q3nTbbMf6faoY76SCLkyNdx1o+w2TRgV44O+cy3DCNqFChPHCEevVkTJ/+o8XH
b9jQk7t31wFHEHS9weI/vZrGVtIH24xegBUr6YfIiTcgir9p7BHQYcMScwshe29E8SAAL8WSiOJS
BNv2iAnm1aBJd4x1eFVybqHkPrNmzeL69cOsWDESmQxWruxqMMJRwRHu339KqVLfER9vRh08gKBW
BpvExMSQJ08epk7tzvDhCnEgVy6YOvVrpk41xa0zuY5d3br9yZevJIGB/9NsVjsAjqdInYyJAKf8
hocv/z2sqwod0yYVUBKD49J2fKlC3Q9XYM7He0zvn5lU/89j5UxeHj9L7tra60qWHNaTsB6j8Fih
PXIkrMcovQ6xADJ7Ox5tDKZQB1+j15feNP56PF9UttxdcinY22elVOl6hD/uw5pVX2oYRryMuAlU
tth8u86epYiLC+cX6jGL+H4ajSsaNoOwJP/EKfK5yvmWAxMDoZRGE8qfTm3bMbdHdwb7Gn7vvY14
q3Pf1mPH2TxKu7g1MXEiAUIAU+ynIBfl7Oy3k+p9q7O39C/EHvHUaK8UrIblH8bN+1eZMGECvbp0
Mbi+4h4e3NYj5unjeRK428H99d34cc2/vBhc02CfE7t3kytXLqLFaH4LKqR6TZU19wKEAKOceiH5
2I3tp0SX66xPjercjoigZH7F/5DTc+eq9hXMk9ukuYwh7nUcDjnSxnXy2vq5lGrZ06g+7ba0U/2u
FOuK1ClCt6PdePHiBS4uLmrtRw8erFcoTs2Tp0/5ad48+nysBwhQrFgxwsPDtbY/mcbVIj4lChbU
3NY9BAbVUI+i27kTevfWPY4uwc8SCEJyKuynXMpXG+4FmqoMHP6+uZB154YytO42qhRsIan/qlWr
WH5UegkGY1m4vxvx8fHY26fxDeFU3L69iStXlklu379FT37bGY6YtMek+UTxMHCEvXvjaNw4RXqy
w6eVgWEl/bBG1Fn5DyEgislpPkOPJsfhu8kg6FXyPsWXKeBUCjFpb/L2D6sAO4MiXXCwhdxCLcXz
j3VYjBXplhSAxosNNsufPx9whBEjarFihTRnzNQULZqP+Ph9wBFsbc24h3DrL/XnKY5ZcTfrCE5O
ocTG7lGJdJbk6NFfCQwcAhwhMfEQTZqk+Gf8ZaponSUFpA/8NO3TEg2Slum62YtKbJhiDUtNT8eN
On6WxHfvde4v5N+cpDjtonH2itpdGFPzbG/6ij6m4OZWIt1FOiU+LX8hIeZbvmuvKdK+iLhhsXmO
Xb1K84DJhK80XGhfqsnCihUrcHR01Ii6mcQk1e+lS5dmjY56YXvPn0fm60fZQoWQi3KuBV/DLqud
0dFXMl8/3m3dwoZDh+nSsCEOrVoTn5AgSaTTR7Fu3YlYq7/WWe+w5CvqJ+UjcA0qxFO/hyBq/56Q
i3LWLt3EIpff8PPz449N+iMHhzX0BIfS2OhtpZ3lXWoyapviO9N7VihjK9sxZ/8ZZlzQ7zY4c+FC
/PwUqZBiovpxKIU2UyLkzImsG1pGdz5gpznJ4lzVUiXJ+31HAO6vWsWinTtNmk8q23sbn2oqlZiI
e2b1V0bZ/RrxK4Ig4OLiwt1z59TqE/bu2tWoMQvky8f8GTPUxpg2dqzq8x6WSvSbmXZlwj4pDh6E
R6l05mLzYaUPVE4VvG7oLevjk/ZRb6IITZvCe92nB580X5cewFr/D1Qp2ILugTkkpcbaVzFcyzEx
5i0zO/9BJ89fUjykF2uU//6d5LaWoFcvP0qW1F2SZ3o1zejB33ZcNyjS7e77PXltvNFXxbNxYwde
vXqVvKHwpx0BbSXtsAp1Vj4zvKhc+QejeoQnHLboByFr1q/w9TWvGLkhvLzqMm5cZ1IXNdX1eOPw
CPsxtixdutS4iWIiwF3P7U0gJmYPERFbjT4GfSQkHACOULasNEFExfxUtaVaKS8kFK+DSoBNJ2xs
ZOzZIweOMGCAmQVQitS3xJIyJ7FR4PKF8f0STY/yKzn8R15fvMarUO0noHm/8ubSYO0X1iWH9jCY
Pvup0KqdZT+7xtJ3wEGt2xMSkv+2MU9jTB6/YJeufD1RLs01db/2C4XmzZurLsYdHBzYvGoVTapX
5/qpU1qdRZWPvVu3Us/dnXVLlqgLeoWL0NjdnaTgIOpVqqSa58M7hYgkRdD588hRVbSXo709HefM
YfX+/WwZM5oPf22T9uLo4cHz57jmzKm3TT73fDjmdMQ1qBAT/hivNeorJa5BhXi+shr+W/3ZUX0H
CQkJuHl46Gw/Z38od08lmwUoo59UUVCy4oSfWa91X8/Vp+hTXKbeHhljKuu+KD1w9Cjbduxg9erV
1Npblxd/KCJundomR2qZK9Zt9Nmo1TxEH6PLj8Q1SPsF5clUFfZfvEk2TRqchg6w2QR7fju713DD
DEL5WdsW+Lvq86gz7cwM6tasqRr/zoULCIJAYqLiEr19RXCzmkrQIIUPWbH5EBOvuxZdiATPq3bt
DLcxh+bNm/HoUSmyZJF2fq3tcfnyGgoXzsf335tvupCWrGzzWi3SrtNmO6bsVy8DJPVz88+AVVy8
FGXyWirWKErTpqZktBhPeHg4S5cOl9RWWaM8JWO7jEAQvHGfdAs3W28SgF/qNkKM3E6xeeslpSv+
88/HL4eo81ApjXK6rXzyWIU6K58dFy7cIiKiNAMGaK9DlFYMH/4b4MU7PVE65pA3r8vH2ndHOHJk
BtOmSU8LyZ49K/Hx++nVqwJwhGnTeqpOJnUyRzAYgXfv3hacnBw1tjd29OZkisAF2zLJUXmp/+lp
+yeo5Pr1lezda8TFQEKs2tNHDh6kTEvVhSB4I5LSNOTjmhLv8dO1JLVtyp/Ku2YANqn7aWHhwsGK
teTTnm5pEP8DpvWzJEMT4eg4y4/77DzkNSLN0YR0V20416xC5K6DOiPnKi+eplOQy1LYcDSkrtTa
zELVqsbXnrQ0Do45mDpVvzvmg+MPTBq7ZM8fefH6NW+3bJbUXvZY3dBEebGfL1cu1cX4jX//pWZV
4/6uXl9+qSbg/VDPG0EQyJs3+X08MVERbasUgkQ9uVePXryg45w5KvHxy+EjANg3bSq+NWpIXle2
Atpr6flMniJJ2Cyxoyz39z+mX8sfKVSjECE/6r7KVop0iUF/UfKrkkxMmsiExAkM6D0ANw8Pnjx9
KnndlkYpGP7Qv7/qdb8Tc5c/BivqTL5PVY7BHLGuQ0gH2v+vvdF9jzY8KKnd3qlTVL/Hb/sfNmlU
qy6gbQcOln2cJmObS7ly5Wjj46MzrVUpDvtUr6JXKNbWZ96WA5Qdsktrm6ru7oSHhallBHxmGZQm
YfdRG1fWonMyM7tx82ZwdjZ/XSlxcHBAKbLt2DGGixd/N2u8ihWL8/DhVtav7w0c4fbtTeTL52qJ
paYZyki7CQ0PMWr3F3TabMfR8LWsDR0iqb+NUzZGrukqub02mg+RWALFTNzc3IxqHxGTQGBU8qd5
xppThP3ZnsRExfVB0ylnGHn8A4JrC8pLfH+vWvXxe2RffaPWYuW/hVWos/JZkj9/fhYuDAS8cHBo
zJEjF9Jknhkz1tGgwXjAi9mzjS8ALoXTp0/z9u0/PHu2zWJusuPGdcbG5jg+PnVNHuPEiRMUK6a7
vtqX9t46hSt9glZqHjzQYxWWktRpmcNEHBzOGewmCN5MD92jSqgUBG9yVtBeMFe1L+k58vwTVXfN
cskg7IX+lColzgNu6V+3PhZlcB0LQQantDsem8WzC5DViJPYXimEm0TzahqWHtefi/11Gwi4L/+J
J4GaF2ZlA4bojLhTUrS7NPfPjKJufc16nSm5HPgl82ZX1Xgs1WK4oK3dvNlV9aZ/KLl4Rb8jtClC
3bNXrwiPjCRum5ZakToY8kBxgfH8+XMEQeDax4g5+UjLRk/KR44kPCyMti1aIAgCsbGxKnOGtU3W
MjFpIpNlk7X2HbN6DUV+6KYWNXfqxg1OzZlNgy+Mi0r9ooP29jvO6DaYAHgaG4lrUCHuNL/Obx9T
mwKEAEKXa0/Pn3blJ659cxFIjs4QBAG5KCfPkjwkJSbx5ddfq5xa04v+I0fi5uFBqWrVEEVRJdJt
fRDIzGxr6NywATvkivd6YlKSWl+lWLe2yVqj53X9wtXoVNgy2UvT8ZRmTT9bG/XE4IaVK1OxXz/V
c4/ixY1enxSGdErbdHlBZvrlyfXr15kzZYreNmU6/c4lQfn+j2F/DNT1VLz33Dw8CNs6Go9+gXh6
ehAfkyxIDm7XQMto6qSM3pvRyLRj+Fx4/Bg6B0LT9fodXY0lOtoy43h6lgWOEBeXttGhJUsW4unT
QOAILi4ZZ5wglZ+bXmSt/wfqunWS3Oerhd34opJ5Cqqzq3QjJnPJn19/PeuxZxRGd6J4mPxOtrRx
FlRZOaJ4GHf/flyaosj6+WdCNT4kJWfsPEk8bLBkw65dJxS/xFvozWzls8Qq1Fn57ImLi8PLqx/g
xf37xahSpT8FCrRm0SLj0oOWLAlCELxp3/5XwAvwYsyYpRw4cMhQV5MpVqwo1avHki2bekqnr2t9
AMSoM8gcu+Bmq1v4Snz9BDuZ9v0hITPQGnEmIZruwAH9EV4n4g/rTDU1JgW1ZUsvw41eXNG62cVF
f+pWZPDP2BRuyJgqyQWxRfEwr65od6JV7ZO5cGpicvTNi8TDeOSRJqK+N6fwyfvnpve1FPaa9vRm
89xIId0mRQHzxebfpXZf/pPOyDlBJiPyH+3v14Q3hlMy7y3dYNba0orY2FhkMtNqQb5/uoN58zpK
artwtuHos4KF3LVuz1VCcUFjrFAXExtLvk6dSQz6y3DjFGQvmJ03b96QN29ewsPCcHTQLJRfsoqH
SlASn22hpO8vyft8fwES1QQn5e+XYjWGUhWzz5JF8f3u3tmdO3vvqC7yUws5zt924I99+9Si3WS+
fuTLlYvqpUsbdawAZf3Kamwr0LkLLzas19nny31eRH+IUktz/fYv/bU+599cyOxN2uuZyUU5k20m
cz3kOqIoEhERoXrN3Dw8KOnpyZVU6Z2m8ODRI9r98IPa2DW9vNQEOiV9QwfSbb7CdOSbj9GTdi01
L+rkopw7e+/odc7VhxSxzj5FdNY/EZpiwryePTS2XX2Q7GJwdt4vyHz9TFpfRlKmXf+0neDSfO78
q6zB6ES3Op48TEq+aebRdgbRx37iZRLYO2lxQpDId5UMt/mc+XILrPCB3RbOALWM2cMRQkO1p4dr
ZFcAWe3rE7D6gtp2WYp2OVyTc3LtZN7osul5/jyEa9d0f8dmJl68eJHRS0gzIiKe07Wr8U7eqTG2
fNKzZ9EkJUmrhWvFilWos/KfomjRopw7d54nT57Rt+9clIKblEfv3rMRRZE//0wft9dZs2Zx7572
f+bBkQcRBG9kuYeTFLsaUJwoCLJGH39viCB4cz8RbHIU4CuDodgpxLr3zyStb+zYsTr37Y09TK0U
ulXCjWSXtNQinSHRrksXw2YW/FFR/flHkXHSJP3ReK6+o0h4MEljLao12RRjdDmZ9n0o7pqlRIoA
GRsbBz9cVd94U2LUT7frGS/WDXhteVOJR2aYr8S9MtxGAh4rZ+oU69yXztC6z2PlTK5NmKN33Kh/
TXOsTGvyFzAcaVOxzQkGDz+r9lCRoP4eTt1uUK8xqn07bxiOetRWB6ecbznAOKGu1bTpZPdvL60m
nRZy5MihM2VuSnNPeq0/y/5Buq++kyIU89b9WhFNGf6vIuKskmaFABXKCJyWq5PTFJURW9OyTAMU
glzUpo08WbNa1Ubm60f7unXVthlDMW/NNKOn0dE4Z9OMaqizrx6NDn7NiUZHKJtdXeBLKfilFr1a
HmtLpN8jftoaSLyO6Ea5KOd/Hf9HgBBAvnz5VOKZKIokJCbyjb8/2w4coHazZmpCm9THH3/9Rd1m
zfg3NFRt7PHjNesC/XxtFpF+j6hSooRqm42e6C65KGdHnx3Mcp2ls40+lGLdi+uaF8QRUVHMSOGM
G+n3iDr71OtH9W3WjHuRkWrb1gxVTz2L/V8gGw6ZX5916NCharUWxZBgtec2NjYcO2YZIy2PfuZf
QOsiPCyMG+fCEEiuXzijth2h586p9oNAeNhpzbqIwPVfvtE7/obAQLXnoyQmBXxODNwNzTfC/cFp
N4d5JQcNl0RRn8ubd/EH8X/8K4X6hiIm7UIQvLmZkPy5Wt02K+4TFTcVDJ1zlytX1Og1ZAQVKpZP
9zlXrlyZbnP98cdOwAuZrJ7BtuYyadLvgBd58/ogU/5PiX0K/qbX4LXy+WMV6qxYyaT8/rsEgSpF
BRRRPAyiMv1SQEzaTrGsJpwlLXKV7A774IGb8eMbQe7cLQgONlBd+MxszW0nFGljkyZNYseO12mw
MuN59SqG588/nvTkLqe+M1ii0YRzmYxPfzWTpKQkevTogSAIlCxZGH//hvQ6WYaWLb3Im9cZQRDo
0kUzxSs90CfWlRrRi/hnLzW2xz7OuNpa9zMpkwAAIABJREFU5vBDD3MdG6VfJXmXNly0pd23mpEN
ecrkMWpF/RYvIejUKZNFOkN061yVNUt2UOKHdTrbyPK3JjwsjF9qPyYBwL4e4WFhlGgiPWVcKc7J
RTkJsQnkbuKvcUzKKKmNI0foHOfEiRNanWl1udRqE18EQSCrbzaONTrEvvp/65zLMZcjbg3cNFJ2
jz8/ofo9dZpmSkZHj6bF0hY6I8wGDx7Mo0eP1IQ2qQ+5XK5z3tTMuT6PSRs2cHZecqSkMs14nL32
cUa/Gs27Z+9YVWeV5HlSIhflbPTbyNqv1NNoZ2zZymBfH7VtN9+mKp0A9F28RO15x/r1+WpCcnq6
va0tHefov6Ggi1mzZqneB7HR0XrNUy4fP07b1q1V7c1CEHiwP9BwOy0YMinRRodFp8htgftPL6Oj
GTtlippgvcmwYeZnRbH5sKAp7OgAMZlQg7hz5455A4giJDzHxkbgWnTy37nVohVcmDrAzNVlLiKf
Srtxb0mWrzDS9M4CJCUlAV4EBkbi5PQVb99aptZ4/fqDGDhwC+DFpEla/j/8Lz/YZrXIXFY+T0zL
e7FixUqaEx7+ROe+w8O7EJ10mBcrRpK3+Xac+BiKLyjD2EQEWQvuJhzm9JiO7Iz7aJhgKOIr7Dej
aoUVKVIEKEJi4iFsbCyr+1evPoSXLyVESx3ScqF6XA5fKi5UmjdvDigidtLb9RXg7t0njB37PzZu
TJsahhlCm90QdUMhHEqgevVq9OrViB49WiCTwYoVXVixwpAYp7jbvGHDXqZM+ZOrV6+p786aD959
FMle34ccRY08CO14rJxJWI9ReKz4WW17tnIlCes+Eo+VMzXa6yN7BeNTEtMHqVel0cybrVloafBw
zXS/y4FfsueuevRcloKdyCZhqkKFq6h+P7/2PFyoR54uxgl1i3ft0inSPX7ynn0HnrJvfwT7Djzl
SUTyifhIQYaDmIStk/7PaKH2y9mUezUlPKvRqkMvABLvr8bNYzV7QxURN4nPL9G481De2blyyg8m
j+zF+uO3uHNUf1iN0liiSrcqnFuliOxJSEwkyOMeg/aqRwzLfP3o2qgRnRtq1tLMnj07b98qkq7c
ihbl9N695MhuXrr67F9/VRNeDh06hLe3ejmFUVGjVCKbTZKM1l5fUiikmEEn2JRU/bEqnj09CRAC
VBGF6U2k3yNkvn5M+k7TAXhG0zCmaenjkMOB3mG9WeKxRMteafS/1p9bu2+xe9Bums5vCsDC7duZ
/6O6aVSk3yM2P9iKf5G2qm27zp4lNXvPn1d7nhQcRGJSkt7owNQIgkDuj0YqUsji6MjJf/5R6w/6
jVH0cXXDXIo0NN4t3cbGhhcvXpAnTx7s7e258e+/Js1vLEpx0NTj/RxQGkYA3LkDKQJTJeGoJ/I4
NaIIc+fC0KHGzVGiRAlA+vcSwO2tbT+muwqIYlXV+XTK82pBaITXlMVAIjvjILuUc+5MTk7n9KsZ
p+TOnbvpPqeSNm3a0KZN8ndOXFwcY8aM4ZdffiFHjmx8+21DqlYtg7Nzdpyds3PnzmOuXbvPv/9e
49ixC7Rt25apU6dStqwiyvzgQe11W61YkYrwmf9D+awPzsp/AdNC4wWhEaIoPd/Cza094eGPJdWm
00WnTp0YOrQBVaqYJ0zY2zckPl6aMQO/2EOSjrY6jmPMmDGcObOPPXtMizCQQlTUG3Lnbk5ERAT5
8uXT3uj9C1jkkvzc7y8oJbGW0J7e0MT0i0KLIOG9UqlSSS5d+sNiUypOij/OKSbB3BQROia+b7Uh
JiaSFBuHjZPmnU5tYt2FPuOovFjbJTwkvo/FJosRVx/pxJARUk8gtQh1ghODh2legGgT6lr+eAK3
HNJs0H6Z5QlAQP1KFHg7kA5BHZhbeC4AI9+NZ98Bhch29txLjp9QTwFParQR2b4OADjnsqf2ly60
bV2UqlWcqVBef63KSRW/RrhSG7koRxRFZDKZZHHCErh5eKhd3AcIARTYXYvevy0iKTiIACEA1y9c
6XOhDzJfP8oVLsy1hw/VREmlKLJ940YqlU/bdKXytWrxPjYWe3t74uLi1NYNEOATSlJwEKV2luNW
s2s0mxTA7tBQyZGOiXGJTHWcyqioUTjmSr/PjmtQISL9HnHs6lXqpHoN3QcM5OK9eyT8bxsyW+1i
1+lFp9nZb6dZIuOp+afYM2oP42PHI/P10/qaKdepRFu7emPGcGiGevqorvFSk5SUhI2NjUU+A7fv
3qVRq1YmiVd/emWl/ZF3Zs2/ZcsW/P39AZg3fTotmzUza7zU9Bw8mD0HDwK6BbolZ6F35jYAN5tZ
x+F/1+BEt+RtgmB8LTkfHwgxkESRElPmAJg8eTITJxo2BklLjh4VqFvXdEO39EAQBJNcXDt5KiOS
ZawNNc5FZPGAkxw7etzoOdONmPvgZJkbwzw/CS61LDOWlU8Fo2K3rUKdFSuZnHLl3Lh2zXhnOak0
aDCBAwcOKoSXvs8gi4vBPlL45pumHD58iOnTf2TQoLYa+48du8jMmRvZseMEr169wsnJybgJom/D
ylLa9w0TjRIdHz9+TJ8+vQkODqF163q0bu1No0ZVyZ8/t9b2V6/eIyjoKNu2HeXcuRvI5XLGjRtn
3PpBq1Ot5H4WFKZMYoETDNSe11K6dClu3vw9zaZ2cWnJ8+cv1F8/C78eUf+GIchsyFUtlTOmKGoU
x7k2fjblpg636PxpSVRUFJOnG3/XOuHNWX5d+qPquVrNulQsmVON2I/nF+X8DtC0dA6D42dxtKH5
NwXZs9SVSasVfZXijy7x49SNG3w5fITJ6a5HfzrK3qteCGsmqc2hFL7SSrBLSkqihKdCmEx9HhYg
BOB/vzvlixRW2/ZPxYdsPTKT0Nu3aV6tmmqdJdzc2P+XfuOMhLMz+e5aRzZ/X1DSdkP7lLh5eDBr
1iyGDx/O1cCrbG67mQCfUFy6n1GJSTJfPyLWrsE1p37BNDUBsgAQdf/tLUlMQgzvE9/j2q67zveS
zNcPeYin3vWsa7qO23/fZuSLkWTJnUVnO0MECAEqwVMbJ16c5Ms8tVTrkvr+L9qtG/dX6U/RFQRB
6/vezcOTqwdDaLjkCce73yXMuR3dangw70gY+/+3hzurRyHr+w+rW2ueQ6QWo6VgCaEuNbVq1eLU
qVNq27JmyULX777Do1IlypUuTc4cOUhISODZ8+dcvHqVXXv3sv+I5k3TyZMnM2HCBEnz7r4FTXWc
rnzqpIyiS4kpItq6ddBRmk8RAB8+QGQkFNJvHK6T5s1rs2PHz4YbWpDSpb/j5k3jncwzgjp1a9Nn
oTQh6cHSdYxdqjtVVqrgV/iVL/Xr15fUNt3ZIMB3FjrX3PkFNLtombGsfEoYJdRZa9RZsZLJuXYt
nMuXcxMXJzHKTCJOTl8BXgqRTomFRDqAXbt2ExPznkGD5qPNnKNOnb4EBR0hISHBeJEONEU6M4Sa
ggULEhQUjCiKBAYe5PvvJ5M/v5/WdYMX5ct3ZPToJZw6dYn4+HjTRDpzGPgG7mk6AKbvGrSLdDNn
ztQp0qV0UEv5POnRDkIuvmBIM0VElGv16ZTPUo9xp7W/558/N87N0xSca3jwbM9hkuJSGSEIgkYd
u3JTh3N56FSdY727m7lOyk11crPNLj0spPew5NTYa0H6i68rmT7FnTq1pddgvP/smVkiHcC+Mfvg
dFON7aIosn//fpUhwU/z5pk8R0rGTZuGm4cHJTw9tTqOKmvPFc+u/l08s+kFvrpcmALOzvhMngIo
BJUrJ07oFekSI3Zqrdelt4bXh4sM2CPNpCU8LIwRI0Zw+fJlyrdRRKHl6RpKv5Y/cmVLshu3sSId
gDxJTuOfGht0RrUExXeUwcXBhYi1awy2FZN0/6/puLsj2QpkY2aemWalQBoSJ/2OJqdnNaum/XP5
5XDNshAv3+jyolTg4ODAsV27dOxNonanEZwYXU215ccKtmw+9paA9vYceZ6kVaTLTJw8eVKjhuGj
x48pWLw42w8coOvAgdRr0Zym7dszLCCASdtvM2j4cK21D6WKdAC9dqThQWUQb+OhfaB2kS4uTvEw
liZNjGtvZweFCxtup4sdO44DXhrnJpbmzZt3ODo2Brw+GZEOYOcOXd8FaUemFeksTfR/rHilFZOw
CnVWrHwCVKxYEQeHhsTEeCII3rx8aZpBwsKFgVSu3BfwIiYmRbHUrU0yPkLLGFamSq8t1VKzjTKq
LjOTuq7aZYnujXbZFH+zjEbL69uhQ0m9XQTBm3FnE9U3Jon4Vm5F7taKO66Rp8fStYo9z14k6BzH
xcUZynUwfs1GUHpMPy72n6ix3WPlTG7NVC94/OGV7s/k3d8MX/ynJ0WLWihtQyqC9MiiwO8CEeKk
FVd2697DfOMI1/sIV7VHDDRo0EB1UR4Lak6ilerUIWT3br1DL1u9mrI1a6r1y50/v1aBDpIjowrX
Kszqhururhd+/w2HHA4ECAHM6vYD586dI1fOnGTNov+1Ldl0rCo6KmzPfsQXIZTqqC6kh+3ZT486
VbiT9LFP9U4sbJJT6z5thIeFUamSwgk3Kms81XJVY3D4YLb4b9G7NinUGVUnzcW60Kgwnvo9xL5V
a72C4syuXQlvDpNtJutsAzDs8TBktjINYw1TCBACePdMM6pstntyFNCsH7pp7AdFtGlq3m7ZrBKD
tREfH0+hAgW07gsPC+NcyHrcPDxV2/qsO8NvX2VTmKYcm6HTNCVP7txEpnKnzSzkypWLcePGERQU
xLUL54h69ZrIyEguXbqEy/er8fX1zeglZjpqroTlofCnjhKCjo5gL63igRq6KoXoo0UL4/ukRvF9
rLgR6+7ej6ZNdZv0SCE6+i21avWhXr1xgBfZs39NbKwJymUGk9OIGyxFenVkbegQnY/PgvaWMZng
zU3wNdPUxMp/AqtQZ8XKJ4STkxOiKJI7d3PAi6ioSnTpsgJB8MbZuTnVqv1IkybD8PDojiB4U6BA
O2bOPIHyBGTAgHlcuKAl1Dqjo7OMJTqV853fNu3tZHbat2cWcqUSHHd3ld7X07i6H+lFkSL6zUhE
8TDTqqq7P8qKtEAUDzPrx+F8AIh7wKJ8/VnWVLcI8eOPLaD5huQN5341Y9W6cV/+k1Yn2LhI9Rpp
Hitn8vLoaa1jfIiSFp2UXthLvIKaN7sq27ZP5dWbF8S9i2Dl/Opa210O/JJ5s6ty5MQmkhC5deF3
5s1OjvKp3eUfrf1SU7J8CO2DPjAlZCW2TpuwddrElKyKosy16+/htyU3uXNXERFkTLqfXr7+gyrd
FUYWS6vodpv7/fff1aJpbt+5w4F//1UT4VI/3okiERERav0WLFigdfyUx/P9ru+JOBeh2p43Z05K
5s/P6FejAYjreIXbt29TppT+XDo3Dw8W/p1ci1CQCVqTLgSZkGKzSGKKU0P1fYbZsOEPdtb7HzmL
KS7wLCGw1RlVh4lJEwkQAriz1/IXN00PN0dAoGpJ/TcZhrduxWqZtNqOEz4ooq3MPX65KOe3Cr+x
vZe6S3Nnt448eKeIzClfpDAXwsM1+tatUEHrmD917UJCYqLWfW5ubuw9dEjrvk6d2lGqpje3wjRf
g8kje+H9w1bu7Bmrte+Lly9xdZVuVAXg9o0ROZAW4vyS8WrPwzPnv9kMpdh8ONUdhqRRaa2PJf8k
ExICRr619HL+/AV27z5JyiwKUazL0qVX6NFjNdWqDaJkyc6ULNmZatUG0avXOlasuK7WPleubzh5
8hKHDn3aZhLpzdMH0Rm9BN28DAUbC9VMDSkD2YpbZiwrnzXWGnVWrPzXyQz1zowhdRRXy2Ao6aO+
L+XxZObj29df4bSbEmPW+lse6GdaGqNFSEqA07Og5hjVJnt7e+LjpRuZmEpISDQ+Pj5pWqcuJdpM
JFJv09ZG3/aMRIqZREqxTQ0hG4OHJV/MazORUNK+32kKZJF2T/CXWZ5M6iKo6tOBZo06URSx8Wup
JtIdPfaM/QefsnXbA65cNSyKelbJTRV3Z2p/mYdTWxuwMDCcsJWhbO+1Pd3dRrO2bUdWB3uer1+v
2nb5yiu2VpzH5FK2lMlRiZvXFHfxRbcr8CI/E58+Y0rWsiS+68DmVauo4empa/h0wc3Dgzdv3lBi
X1mer6ymVsctQAhgWvMw4rfruJliJPNLzCf6brTF/k4FgovyxPe+ZOFX5uvHnHP1ef3wtaQ1GKqx
qIvBy5ezeOcu4rb9T22slOOkNJWoPGAgFxZqisB9Fi1icd++Wo9D1/HqqlFnKk8iImjavj3R0cZd
hCe8f4ttlvR1ndRWF09XDTZjCLkBPtJM0jMtj97A2gswuo7htvfuQbFips3Tty8sWmRcH0dHiI01
bT4r+vHxaUH7yenz5i2f9D1Vq2ZS5xVL1ae7uxaKtAFbaZkDVj47jEr1sk2rVVixYuUTQJdj6qeE
UqTTxTAR/qgIXS+nz3qMIUsecMgFcSbeRYx9adn1GIvMFo6OVRPq4uPjadOmPoGBU9Js2hEjFjFr
1sY0G18bHitnaghuHitncr7naNyX/6R6/ubyDbJXVD+pzV7BPCfktCDq5T2cc+u/ktJnFpGSim1O
UNHM9Zw+9QfgafDuWmqRDqBunbzUrZOXieMqGTXnRp+N5M19HxsbgeLtvuBu3wP8tuQmV66+4tbt
N9y89Yb7DyxbzF6NLG/5ovz31PIoxNoN4Xh6OFOxQk4qVsjJVmDdSi86eCfXTpL5+pF0ebKiRprN
ZOSimOamF4Zw8/Dg/PnzhLzcgXBK8/WXi3KwYNrqoDuDWFFzhYZoZSotC/lSY+gwo6Izp3mfYcAG
aReuclGuMIYwcr0LQrZrCGzKsZTjLK+W7Px96d49reMs3f23VqEuKTiI8MhI3LSEIokf31eWeE8N
HDOG4F27TKrXZ5slG0/PHiBf1Yx153QyIYUzNT5lICbeMmNlBNWWg7yeNJHOXNFszx7j+1hFurQj
JGQ7a84OQSZL21IyZ/bfouOwTCrSAeT6wnAbKZzoDMU7WWYsK589VqHOipX/Mr/YZ95oM22Y6pL6
8jq8i4SsFsyPsAgC9I9SP64Dg6GBxML1w0QIbApt9NfKSlMEG41NgYEHyZo1C+/eSUt5NAZb2wYk
JKSoXeezGUL8LT6PNrSJdXnq1VRrc3vuCo3ouSI/tEuX9RnD6lWtJQtx6cH5sD8J6dkE98RAnW0s
lu76kRvbbyAUVtQ5zO1sT/HEGHp2LIZ9trS/mtZ3LPk6daYvJdVEOoDc2RXRRcLHC6YAIQBRFAkJ
CcHNw4Ps2bJx8ejRtF04sGPPHvqNUNRwUgowjYO+4fmlahpt93wUe6Y6TmV87HiN/abQ41QP4l7H
ESAEMPD2QJxLOJs0TstjbfmrzlY8VhsXLqU0ZNjiv4V2mw1/tk0V63o1/VrnWHJRjl8hH4qElOCB
j+504Fx6jJpK9Oip8z0omikCx8fHU6ZGDRwcHMwy1bi24ZcMF+qu9IEF/8LAGuaNM2Y/LND0rcn0
GBtRaIqJREpu3TLcRhumuMxakUb2+97EuGk6H1uSOYMtE3WdJtz7E5pdMH+cy9OhfRre/LPy2WGt
UWfFyn+VBwfB5hO6vXt2rvpzbWvPoSNCaGgCLDahSnFGEDrfuPbhf6fNOqQyNAG2NNLY/O7de8CL
woXbWmQahSubl7pIB1AmxYXy5rS/oHNfNoOEN8mOt4U7tlKrYVd8QFeNPva5cxFzMzzN12YM799b
qCiyhXjz+im/35yN/7Z48hfVPGG3tEgHQJHrCA/Lqm2akX2GZefQgr5jqTp4CM9eaabvOrRqrZYe
qxR8Hp54iI+PD6IosnnLFrUaeWEXtdQjNZHew4YlO+AuWKBmiOEaVIhJdsvJkz07jvb2DLg5gJ+d
FWYHS3btYkjMCBLjEs0SbFLjkMMBuShnQckF3NljWt26K6+uIPP1I2yBkd+5wJg3Y9RcbQ2h/HvN
yjvL6Lm0jaVMqY1L0q+KvNy4gXs6TBySgoOoNmSozr6iKBIbG6v6u5fw9OTw8eM620+ZPVvVtkyN
Gqr+5hDxb/rWz3XImUfr9jknzB876Lr5Y6Q3pqT9DvlMfAOsJNOqVSu61tBeX9USjPLZhI2N5k3f
TMOxby0zzvlxYCPdXMuKFatQZ8XKf5XNDWDwJ+RCdXCY+nNta++s585/ZnSBjXmi+OmU3/QxhomK
yMiM5P5+nbsePnyKssDy+vX3EQRvBg6cT2KidhvJiIiXDB/+G3Z2DblwISfJxZwlXOQ/OGjC4o1D
sLHh7bVbRJ1IrvHmvvwnIoIU+To5PSpwefg0jX63Zuk2KsgIHB0duX3rYEYvA4A9uwOwddrEjSdV
SYj5loj7rQBYvuq2ykzC4iIdIDbYiO/KZEfHnEWlO9yZgszXj/pjxuo8FpmvHw52dqr9pxclm5N8
0FL8Xy7KWVl7peqz0bRpUzXjCr+OHQmYP1+v4YWUx/OEBHbt3asa9/79+6o1lNxRjki/R/RfspQX
b97wbN1acpfKTWy0QqDZduIkObJmZeTzkRZxQdX2Guzou0OnacPp06dZtmwZP//8M8uWLWPPnj1E
RUXhGlQIz0s/mPS+uvjrrzh+Z3yUrFyU8+75O4sYbMhFOX91+Yvh3Qdx+dUVKupxci7eo6fOfY3d
3UnS892qjIgTRZHExEQ69elD6J07jJw+nYatW9OiY0cmzp3L7RcvWLF2rdr771Pky8lrtW4PHwQv
Mte9jTTlp2PQLdh4ka54cZg713C7tEAUwd09Y+b+L5DwIYEetY0sHiiBzfKbPHr42OLjWpQirc0f
48IEy9S4s/KfwirUWbHyXyTyHHSS5l6XKdBIedUu8uCQS/84mU2se6soBE7vJ+rbV5XVbKuPjK41
6DUDErWbCaTk+++//+h8uRUbm3qkdElTPvLn92P27E18+PCBypUrS5s/nSNDc1V35/nBkyS+U1y5
CTIZESHJkR/aXF5FHS6LGcm37cwQiC3IwQMrGd+6I12iCmDrtInCJf4CoGe3kiQ1UtQi3HfgKbZO
m3DM+adF567SrYrq98H3Blt07JTIfP2I3rSRgzOm69xf2CUPx2clp02nFOo6N9QeLVrqm1J6BbBV
q1apiSemPHQV977y+ipf5/+K72bNpomHBwBOjtpd8bLkUUQRWEKkSo3NEBsmMQlBEDQe3bt25dA/
/3Dv+nUO/fMPkydMwK1YMZ61fMyfo0aqtW3Tpo3BuaqUKMH8j+Jek5lNWFl7pVFrTWmyYS4tV7dk
wPUBbM21hZFtTLuQ/KlrF2z9WhrVp1WrVvz555/cvn2bixcvsnr1aho2bGjS/JmJDzGvyedZX+s+
AfBclq7LyTCKzYd+1WCVr+G2qdFiPpyuXLBAdqIV3cS+j2V8+w0WG69z1XkEB4dYbLw04dJU8NJd
ksOocaxYMRKrUGfFyn+RtZ7gWsVwu0yLAbEt6qbufZlJrIu+rX171A3jxsnoY6oxGuY5ZNz8/VMI
Y7FR6TJl6TF9uTQo+WLbY8XPqhRYj5UzVRF39+/fJ5+rK1VWzaJOJXd8atWlTNFiCIJAq5YtzU4N
M4fvvvsuw+ZWcvjAHFxcXECWyIjIESTEfMvDOy0pVSEEW6dN7KzYD4BGDfKREPMtsa/aE34vBlun
Tdg6beLt24T/s3feYU3cfxx/XRiiuK2j4sC9WsWtbcVtnaDWgXvPulr3r1VEbeuoe++tFCeOulGh
7hX3qoqz1o2KMgL3+yMmJGRdwgFa7/U895C77+c7AuFy977PsDGD/cgd/qoLdc2YznyVt/3nzpHW
1ZW7S5caHX9y6QkALyMjWT7IvIjY7s92APy908HETkmgxoE6zC0/k8CwMHaPNRaespfMzr0j94yO
yVlRd8CAAXqBbevGjYSr1Wa3bWvX8uuoUQwfOJBfR41i9YIFnA8LM2tbrnhx/ZhuFgTH1t7V2HD4
CG6uroQV/If7R+/bvXa9WKcyL9Z9P28+rs7SUkinzZaWTbu2cqtWqEWbl4HWC+/Ebw2mzeSkh+R+
7JyfP8pqe60CSRu/pmfS+qcEulDXDIm+zuPi4mjVqhXZs2dh7twfiYraD4SZbKKY8PrYsfmUK1cc
N7c0bNq0iZTg7VuwEOmtIBPh1x8xvu2OJI/zd3BG4uMtPHT/kDhv/bwgCbkqxip8cihCnYLCp8a+
vpAriVmRU5LEAtSAN7b7LLVRkS+1hS0dz68mvM4irYqgRZxSUShLbZwNbqrnmM8xlByUWTTBKD9d
iV+HEnnzDunSpuXqydM8WLcVp8NqzsxYzP21wQT9NI75A4dxYOIs7q8NZnbrrjzbvIcH67bS5dvG
/PKLachscrN5vTw5BB3l9Kk1BDTwRAgcYXT8brFlFO54iLnX0zAuXTEiIxMEOc/87mgi/dBE+uHm
5qQX7a5ceyV53juhd+B8dbNtMW9se4dKYWXIAZu59R48e0bdUaOJ3LDeok3WNtYFVX/RnzUN11i1
kZscwR489tV6BDerWkV//N5hrTjX91Jfln691KTfiJcjkuRNtnDhQgRB4OyJE3qBbYFMsXbtW7XS
j7lh2TIEQcDV1dhbt1mVKryMjOTthvWMXLHS4bli/hfDGNG8F+Dcvn2I3rzJ5LglUf/ct6dp/7qD
xd9rxnTpyNCqtdX1BP112OH3kpzk/qpBis3195ZFVtuX+UCTQMfH/7GKbZvUJHE+ugYN6nP48Fwg
DCenIwQF9efJk6307dsMNzfbXuxVqpTizJlFREXto3nz7EAY797tw8nJiefPk6difdq0kPMjSUf8
MXP1yjXal53Kj42W2923Y4XptC87lTFjxsi+rmQhQ+Gk9Y99BYW6yrMWhU8ORahTUPjUODcP2h1P
7VVI448axvtZioCL5Sp2gLa4gRR0ud1iXju0NNnpmijTtAQhUa1WIwgCixYNg0F7MfeE23CrXLkU
jRo1lHnh7/lgqgen7Dp0lWBXr17ogMj8AAAgAElEQVTN+fXbeHniHDeW/kG+7PbdLYzv3JPOBb/k
wbqt5MmRcnca4eG3mDvzmxSbz5BZ0yoTFxOHmOMO/tEJXmwqH1+OTJ7E1Xnz2LqxOqPeXuPZmYc4
uweSPpuxoOXsLOhFuxLFMvL2bZxeuLt333J1teXVlyOoTcNJ5fL6Uvn4UserjFWRrtvMmeTt0tWs
TZFGReyar8R3JZIlrNQchiKdyseXjSNHkqdzF2K3bGbpN6binCFpMmkfKDiyVkEQyOLiQrhazeoF
xjkfPb28KFihMk80ID7RFtX4sk4TANpVSsi3p2srVVNbfjMu8gGFy3oRmWiuL0uWJFyt5sbJkwiC
wMKF2rjHIrlzG9lVHVxV8nsZOnQogiCQ/bPP6GkgCkrdQnfs0It2t2/fNl7H/mr4i/7MKDCD1fVX
m8wdacNzNy54C27NbYf+pjTlfkilhGcWuPCv431L54TXH2haYJ1IV7hwIXTXCzt3/sTXX38p6zxp
06YhLu4gWbNeAsJwdXWRdXyA9ZafeSjIzOOHz2lfdip5InzoUmkm9248NbG5dPwuHcpNo87nw4gT
Y4mPi2fYzlKpsFoHONoJmliJ0JHC+kxQ2b4UCQoKOhShTkHhU2KKAD+kcj4ze7h/yHi/q4SQUOF9
5ShRgkv9DzEwKyPs/riedgmCAITh5fUaUQylR48mkvodPz6fHTtGAmE8fbqd1atNb+iSxKyM8o73
kTDv3+vUdMpI7myfyTLe8RmLeLBuK5kypszvMzr6LefOBqXIXDq2Bw9Go4llXA9nyrkkCFUqH18W
9e9HhcLGT7E3d9yMJtKPN89a8kXZP3F2N+/aki6dk164y5snHWkzB+HsHkif/idNbAvWKWhxfUkR
vVQ+vkRuWE/urFkt2qwMOcCyffstCnn5q1moYG2BVhtaATDeLXnz4Bx5elQv0nmPGEnV4sUBePj8
OU4qaZeUOjH04UnpCcQFQSBcraZSuXIWbW6dOk7FCtpceU75OqGe15ginbTFATaf0opdurYLaztQ
uMUcnNw9qGZDKwhXq+nVq5fJ8UX9+1FkqLTs9YIgsHTxYsLVak7t3y+pT2KKFS6sF+0KFixIiRIl
9G350uUjMCyMgbcHUvVHU/Fw3dChNsf/qkRxh9aVnLjnys/LGx9O4rFwO4srJGbBB5gaWCfSlSpV
kL//Xm7W5uqfm3F1rsHvq84hPgxGELzJ/HkbAOq4eXPs/WVlpg6HER8G41x0nr5vFc8GpG1mvnpv
TEwIEMaNGwliyPt0lw7TogUIH0DAxKdEjRo1iI3VMLLVStqXnWq0/dZ7A6IokitXLjqVmwXAk8g7
qbxiidx23GsaUEJeFZKMItQpKHxqqKTlvkl1EnuU9bHzUfZUiaXeB4sQH6efb9OmTZQqVQJBEKhR
oxy//tqT9evHsm/fNIKDf2PBgqF069aYPHlyIggCAQEyerEkrmS7yNNoV1u+PgxRtJyPSCqffZaJ
9u3zc+rUIjQamfJ8paZ3YpFmCa8vLU+xaY/NXMzodskj9F5esJrR7VNGRA7ZN4GnT5L45Fgi589t
4Mb1A/p9n8XarOU9Z8/m+0YN6Va3rkmfl+Ev9a8vnm2IJtKPL8tZFux0vHvZCk2kH/NmVcSz6Fac
3QP5tvEB8DpA8zXmE/A7uzl2jpy4caM+1DWtq/XQsM7Tp1v1tsvxZQ4ADl28yPEpv0ua31/0Jy46
jvjY5Mv70/RwQqj0X5cvc3jSRKP2LAWzSBqn15leLKpkPdTQXjy9vFi0/QQAcXdXUKjlPG6s6GDW
9ubVx4iv/jHbZo6ju3aRPn16o2Pd6talUI+eAOwatMtiX0EQuHXmDGcOHpQ8ny3C1WpuXL+uz6V3
qu5RFu7SrqFQvUL4i/5GYl3rara9ZkN++QWVj69sa5SLK2tTxqvONaO0z27ZJBSVWHPB8b7JgU6k
K1DAg0uXVpi1uTv3ByrNdCJGc5AhHbTCtFORNjzb8y03JZxqjp4ZYNOmSJFH+tc1akhaulUkpnhU
SAU6BLmwrMUbOq7/CNK15E5CBEp8DPjJk0ZD4dNFEeoUFD4VpggfUHiiDba1NN5Pmw3S5ZDeX2Kh
jN9//53p0wdAg+4wOBQIo3nz7Fy6tBBRDOXgwRn8738daNmyJnXqVMDX9xt69fJhyZLh3L+/AVEM
xd+/FobhpU+ebEMQBMfEr8TVS18lPHUcN647cXEHTboIgjcqp5oce2R9vu9qdqNRd9ML8QoViuPs
fJQ0aWSonNpyv/2FMOTCxyBZ9a4uyT5dyxYteLBuK3mz2/G5dIBejZpye6UMFccksGp5a0IPJu9N
8fLFdXkbrQ05HdNJYMwK7TnJ2bcpp/7+m1mJPJcSFyQw5MIZrWAH4OweSOfux6zOHX7dB02kH7u3
10QsfYhiVfbi7B6Ibwtj4fundz/Z/b5UPr70a9TIqvgGIIqizbx1AHkq5wGg5v9+omIR6WGwQ58M
ZZzrOMn29pA45NXwPaR3cyPouyAG3Ey4Kf/h7g8Wx8pVNhf5vfPLGq4brlbTo7E2/6pTvk6Eq8/i
6aX9LmhWQRv6CloRr+4PKyjfshXnZjblQAyUsuHG87/x4+nUqZPZNn/Rn+MzzKeT0HkCqsx4G3p6
efF0U1+8y2nn9ixbSX9chxixlWI/7DQ79s0zZ4iJieHMGa2b1rHogybrChACiI7QPgCSIsLFbw3G
vUVLm3Ypyd19KePt+9VYaR7m0Uko4P38neN95abo7IScdLdvW37gsXvrBWq1156zBcEbgLgb63Au
vZRCMt5FZs2aCQBfGbTi2FiI/kDDjD91KufVnl/+V2MfcfEfeIRPjSQUzQjKCCr5Q7sVPi0UoU5B
4VOhQMolZU4y1zcY7/c1zXthlQ7v40uemA+ZcXNLA4QxZEhlBg2S96Yke/bMiGIozs5HiYzcy7lz
55I8ZpEihRk1yvxNIkB83AGqfl6LJeOm4JK2Ae+AOllrAAkX1hsPLOHwUst5MqKjHQvHMiJfLVha
LOnjfOBs3ryZ6d91TLH5XF1cUM9PYgiGRE6fXM2saZWTZezlSxoSqZnL1IllGV06IZdZtrbtyJYx
I2emTzfps7P/TmqOM80llxhNpB/LF1fB2T2QwiW3SVrP/VtN0UT6EbzBm0lTr+DsHkjRL7br2ze1
s12p8F1MjF60crdQKdQQJ9+mNkU60FbzdIR0n2kryy7zXuZQf0sYinS9Zs8xeq8qH1/+Xb2KK5uu
GPXJmNd66HbnQ50BiLgbYdUOtN7EXtXNF/8A9GGt4Wo1QvaW3Nz6AyAQrj7LmhMJed6E7C31r4N6
lKbMgC36fUtEvHrFgb/+Ys6cOSZtDcqXp/LgITbXb45MAlQfd4T9i9rw+uBPlPvBfkH+9tmzlC9f
HoD01cJN2v1Ff6Z7TmdjW+ljf2UQUvupoHn7mpzlbZ9nAC73gekfSZpfS3yzDC72kWbbY9c+tnVs
pL+WAK1HnSgewqX4bLN94m6se28fhyrbb0RtGYv/OesK5+efewBQSaZaZxJOxwqpQL+qa5l9tC3F
s1ej8wbzldA/CAKT4PG3VgA/63lBFRSkoAh1CgqfAlMEaP5naq9CGmEjjfcTe5nZw0rj/EHXrl0D
woiKMp8vxRaGF6oABbPXs2rv7u5GmTKvqFrVjoTMib0epwj07WtdZBUEb5w+K83Nvx+hiYoknVCT
fc8PIgjeRMQneAtFiMopXw4qRVkOq245vDN52vrqt7ydzAt6HUf1MrLL09aXtgvXWRw3e6bMVChe
Mslrl4JGE8tv40py6+Yh28YSOH50MdMml6Nn7104OwtUrfIZqrLdqNr+AV983483797x7yrzQuQ/
Z/7B+2dvs21m1x7px9+Xm5Am4x8mnnI6DvofNDk27McSaCL9uH6xMdv/fMC4dMVot8X6hXbhnr1w
b9FSkvAGpl5oyYW/6M/dsLuyjWco0gEs2rOH10F/GNmkdXWl5lhpQoch/qI/0/ObCrSJ0Wg0RL59
a+RtlhIUq1yZMt7eiKJ5b/Qd/qM5eeMGKhcVASr7vAP/mlCXSFxxKT+cLwftYH3HvHavT33hAtmy
Wa90PfzFcIo3Lc7Pry0LnYbsHTf2gwyBTU7OzR9ll/006867HzRdtsIfLcDV4Gts+PDtljsAcfGh
iKJ2E3L7orneBxCIvdqPfVGhVHnvOBSx6muE3L56W3DSvw4oY/l7c+XKXVy6dBmAdDJpNyVT5utS
wQGO39NW/FjR8gMWs+IdDFtV8tIpyIhy16ag8BFy+fJlBEFg9OjO2Kr0CWH6sE4I4/LlVVSsWJK2
bdumzuJtcWKC8X7ivG1S8TDOyXPv3j2KFXts0Vxw0eYCk+yIH/+Quxm0ubXE5zstJksGOHp0LmFh
pt4YUtmy5S+r7aIYiubJbH5beRz1H621B2PvsiJ8J5ldtfuC4I0oHnR4DZLp+xiu/WHbLjmovzzZ
p8jrkcdiW562vhy998LomBgbQZ62iW56xVeE3HxEYkIPBpraGhDsP4HZs817MMiNm5sbwZt+4KJ6
BDExlqunWuNVxAP69c7Ekb/mAjDxVy9iYuK1eeXCvuOXSZe4fO8e0Ztte67ZS/Sr1gRv8MbZPZBC
JYw97A6NPQTXK1js27ihB5pIP0a8vcHlKxH6KrKxBrnfnH2b0r9JY7tEurcb7C9H6GYj150lBCdB
lrDSeDGev2od1O9XGTKE5+vWmtgFCAF4j5IuqJrrb4uYmBji4uL0FVyTk1pNm+Lp5cWQIUMsinSG
jIoZZbHg9BoLZSgzfDuZ8LPanHrhajU6GcPQu0/I5MO1aZYf1DTt0IGnT7Ue52/+slyApFSrUvi2
qS5ZTEwJQflD4u/N9iWeC/zwCuRKYtYJ6FwGPDIYH584cSInT6aOC1qGDPXp2PEXo2OXLiV93EuX
oHLyOIcrJJGRNfYCoBKc6BD0gYaHOhL2uqMUtHhh205BQSKKUKeg8BEQGRnJiBHt0YltJUs+QxRD
GTu2m91jlSzpycmTC1i7tg+GYl6hQpYrIKYYiQtIJCWnnl+Y9uef2mTiefOGWzVf/lMxBMGbyRfi
8HT2RgPwej/h8RDy/Xcs+CdhLYk966RQrVppihY1qGT54C/4xkKFxkTv+5CP5bAsw8ISohhKmVbf
I4oHwCUfHfO7Ex/7h4mdOcaPlym0Mm122O4nz1j2UsogPHiOdS8TRzn2+1wrrQL31wbrtws/N9W3
5DEqOKEysru/NhiJpU9oli2fI8t2mL179zBnxjdMm1yOIYNyMmtaJW7dNP9ZunplJ7OmVWb8mGJM
m1yOJQubUKhQISObCTmv0+mb34js242/0s4mwzHzyf7NcWax/SUTNZF+3LzShMNHnugLT4iuUQjH
Gkvqv77kdH0VWRcXFeMW7tGOs8+PAY2lVVvWedLZK7rdyfaGU9Mcyxk4WjMagJmFZzrUH0BEpNCf
xSmaQZsj79i1a5y4foPM7u56m/xdu9G2urfVCrq20FWBnVFwhk1blUqFKIqIosixq1f1op2nlxd9
hgxxKDfovGXLjMbpPmQIN2/fRhRFxo83PkdvOWbqSvUycJ1FDzRRFPnpl1+SRVj09PIi2iARl9Od
vEy7bvnvXb5neQIanyFACEDzzvbv6UPxqstXu4VtoxSmah5tIQZ7KWy5EHSyc/YR9K8E1S3ouRUr
VgSqceJEGhPhTG7i4uLJlKkRUI3XryNN2kNC5JnnxAl5xlGQl5I5augFuuUt33HpXxlSr8jJWsH+
QhJvbsO3J8A1c/KsSeGTRBHqFBQ+YGJjY1m2bCTu7meYMKGX7Q5J4ObNFUDY+8qiqcDZWYkOCGbN
7OaKNkH069fWvYL2xpXg7vFR6JxmVAAZatGi73by9xlPu8+163n78BKoMlgcxxp58hiENv31M1Qa
adk4EaJou2qfo3TtOoGff5axAqN7LvnGcpSo57IPKQjWP5P3124x2s9S0qCohWiwHsG4eiTAyCIf
fpk6Dw8PNBoNwZsGMW1yOZNt5/af0GhicTcQchLzppo/JVvNZ5p/BPFbg4l43MJq5da6kxIqwG7r
IS33nDm+/io7mkg/fhh6hvHOZXDLYtt7xLOmp9G+yseXwHPBeuHu2fNovbfdqrXhZsdQ+fhSu0wZ
s2222F3qPiXz2h8OqcNf9OfFTcef7ucMzsPtRgnFYb4aOszE0+re06cUGfqGDnulC67m8Bf9eXn7
pW1DA1q3bq0X7URRpGXbthSpWNFIdJOyRURHG42zd+9ei3Mu2bOXxhUrGh3L+D5Wr2TLklpvzUSI
okjfvn3x9PLi7v37dr1Hc1SsUwdPLy9EUcTVQPxtXLECv12ZaKUnZM2QHn/Rn4nZJtqsDhy/NfiD
EOuKt7FclCQ1qeuANl3TU+5VSOP5OxgnsVh8pUqVWLlyF1CNESN2UKpUJ6Kjk570f+XKXVSoMAio
hpNTdSIiXlm0PXkyydMBIIqQQk7oCnbi5qy9DnISnJlwqH4qr0YGthYEZ8vXPgoKjqAIdQoKHyit
WrXCxeUYXbqYe6oThyB4W/Xsig2difeMhPA6J8GbWBGyqrT9Gs24YbZfXNxB7t1L/iqTDx8+ZMOG
DSxcuJB9+/YRV7qvscFg6zcRkmhzRP9y9epbVk1Xj/Mhb6W6+JdxIlwT+v7kKHBqfmMKfVGC9Gi9
0tLlLoUYtwNUudHc6qe1ytqAd5vrWB0/OjqWkJADCQfuHwLByin4R2OPB2GqCqhG6dLyVTSNi4un
d+81LF2ahMpW5uj9DyxMWc+vlODumi22jSygymIpn6HImBnDGH9D9/e2LVBnzZLF4XWkJmPKeVM4
LpChwdrw9lu33wBarzdLYt1XQ78CoEJvy6Gq9jBtcjl+btGGS9XKkTaz9WqSnUK0HponZp9A5eOL
JngLlwwKCnyWLY1etOvQ1hOX9FrR7n+jtAVkMrZqTbo0adg7bqzJ2Hv27CFHjhwIgmBxexgaaLV9
3rx5kt6zIyGwifPSqXx8+WeladVoAEFl/TP77PozSXMWrFswSeG6Xbp0IT4+3kh0k7JJ/T0C7Dh1
it4NTENRBUEgqs9nZvMfAsyZMwdRFPFu3FgvEKovXJA875r16/X9/vfTT2bDcRuUt/0/8nTNGiLe
vuWntz/xW6bf2N7Lem6yIc2aERuXhDKnMpClmLQq7knBJX0mu/ssbgL119jXx5I3W3ISJ0Kd1bCp
lf19J0yYwKVLt0iTphZQDahGYOAD6tcfr78GLVSoDRUq9KRQoTa4u9dDELzJk8ePYcO26ftANTp2
/IVTp05LmlcuoQ6gf3/5xlKQj0XNX3D1iVY9XtUqloD91VJ5RQY0vmqfvZKXTiGZ+PAf4SsofKIE
BVm+uvh38XB+Wz+fES202XJ1gp16bg28+h5EcM1F9N5veKv+A0HYyB1NKPGAq8pbHwIpCDVg4EGz
4+fNmwOVSkV8vAxiGbBo0SImThzLtWurcXLSilO5c0OLFjmBnO+tjrzPpQcHD56lpiDw9u1b0qZ1
rPqhdpKq2p8vbtCnTx969uzJwoVJ8/xwhG3bDtOkyQj7OgnmPRvPn/8bgJw5c/Dw4Xr979Me/P2X
8vx5embNmsX8+dISjNvN63vJM64tet5NEAnFeOtiqJ2obHjUJcazXYI3yt05fU3aE+ejc0mfh9sL
becy7NMg9b1c7EW9XA1fhtHxRRa9V5azeyCaSG2YtE6s0+0DnJxzkorfa72XGs1rxKn5p2Rbz8rg
uqwE0mT8Azc3JyIeWw6v29l/J/Gi7ZxdsW8S1t6p21He7mhGi+Zaj7jbt29TsGCCC86XJUuycdky
8uWxnPPQGhqNhqH+/vTtm/C5WrZsGZ07dzay8xf97Ra/dj3aYyTSNRgzhjQuLuTMbBzSo/O20oXZ
WmJrt610CbP9gKHDng4ECAE8PPmQ3BVz27XmlKRhhfImx+KCt6Dy8cWfclb7Ggps+fLl4949aedJ
Hx8fm7nyGlYoz4iDti/rs/i1IX5rMD+9/Ynzq88TIATow48TM6lL5xQrgpKalOnjWKjnFTsL0ldI
hY910dlwU0axys/PDz+/5E1vcdVOncQaq1bJN5aCvPxyoDarWmm9NcNfnE3l1bznj7TQ+p10e0Wk
U0hGBClJcj9i/tNvTuG/y9WrVyle/IlNu4wqb57Fh+IqaAU4Qw+7mEMtKLu3ARcD3FFlmIv4NtRA
pEsQ7Kzj+BOu+Ph4hg9vx+TJpgKFvWjX6+C/8+6ucHGZUd43T8/83Lq1EpUqeZ2KAwKW4e+/1Hzj
FEFaDj7DvH05y0N7y2LFrFmz2L17F1euXObFi5fkzZuHGjVq0bVrV8o4GH7nMJeWQ6nOKTunDsPf
WVLyHBpw584dnI+ck2gtkqdtQn66+2st3+SKYhzDJv/AOvUdSfY6PNr4SFxL6vPy9kumj8nC2Bc+
Rjf8M2ZfI3t2N9q2TnAzMRTrEgsI1gQFqYT9Gsb+a96MWWH8uTh67CnVau8zEgpVPr48WbOa2Rmn
Mjp+tM3QZx23Hj2icM9exG8N1vf5688/yZM7+e/SdbnQHj16RM6c2ocgIT+HEPZrGP7xtn93G+9v
JjzyDoOLDdIfsyTUpPuuBcM3fWn1b6Ly8cV/Wzm7/m5y/J2TC2uile69lulYhqYrmpq1SW4OPQ6l
eg7rOVTNvQdbv/PUFute371OhnxFU23+j5UBu2DmRxhVKAjasNUPdTwFedhzYw71inyv3+8Q5KIX
7uRm4MCBjPKJ4rPM1h/+r9xxhb/u52fhQgkFZhSRTsF+7Hrir4S+Kih8gBQvXtxqe9w/V8iRpR7f
dO6EYb0kUTxENndnGnZqB0DWzzKQJl1X4iMTEmKnfS/m2SqI4OHheFmz7Nk/Q6U6LItIB7pCCGE8
fmy5aqtFvn0vlL39V38oPPwOKlV1YmOrkCVLI1nWqOP776fRqNFvQDXLIp2j/Gs9bKR///5s376D
mzdv8/z5C86du8CMGTNSXqQDrUh39r+THObo0aOSbaWKdACC4MTkYTO5N2+g/tivf6duqJncmBPp
AAb2K0bHrsa/V2thsAC7f9ydpLWE/BSC8KCIyfGqVT5DE+lH1lwbSZv5D70wkS2DNh/lWJVp+Kol
CvfsxZmxAQiCwO2zZwlXq62KdM/UQXiWlac8YbhaTbhaTa5cufQiYa3xtSQ/tux3ZqAkke7e06dE
xcbS+VBnq+N9kd/+WL+SLUrKUrE2pZnUpTO+e1pybqVUQV9+VE8+IyouyqrNgV9Nvcd0npdRL833
vTzX8arlcnBl7bRUnd8aXgtSewXmyT/j4xTpkoN6ljJPKKQqhiIdwPymDlzj26Bxo4ZwehAzOgo2
RTqAjo1KsLBXOjg9iEvWyg8rIp1CCqAIdQoKHygqleWQRKfPS/D4xR7+XKqt+prgHSfw9E0IO5b3
wsV7AKEDcxEdtcvI5p2o9ayz5VH34IFjX5jPnz/nyZPNJsfFh8FGefXMC4WxCII3byyMnSPHNYfW
BMA80wIHLi4uvHjxCl0OlcjIcpQp0xcnpxp07z6RgwfNu+KHhz9iyZIdVK8+ABeXWkyfflo/xpw5
m9ix40/ra9G8g/x1rdvo+CJRyNiSwubtPkRCUik5TCb5Kxhnz55dkp1hOKsUzzgdQsaEPEzXHtoR
dvGBE9AuDQtfVbfqjZNYmNOJdTUCapjYHptmWnXTEsWLFzfJ6zaGMYzZf8Po2MyZCZUyX1ZaScYm
O1Dtb8OJk9rcakUbS/fkUfn48u+SxZQtW5ZwtdqqF56nlxciUL7zr4SfPW7UFntiMQCFvbzQkOAp
Z1g9VNdmjnC1mo6tWxvNf3jiYatrzxHswT8+d43ey4ofBpm1zd+1G/7bypHf27oQ1/Kbr7mb1dIZ
3UKf9S0BGOskXRz9EBjSrBnlZkkvEJQc/HXlMj9ftO6NWP2LL2j2y68mx/1Ff2YXm826JutM2orn
yZOqhSVu7zCfH1EO3j5OWoGPF9Z10VQh/wy4M9C23afCli3vGD16NHXr1qFChXLUrVuHKVOmEBER
kdpL++TpGJRQEMfdNYu+GqwcrBlfn+1jHffELRW1iFyfZTRtUEQ6hRRCEeoUFD5Q4uPjGTQo+Ys6
JKZ790kkJeT1zBnLF9RORdogiqEsbVgb0ObJSxDuqgMuxD+zfqPTt28z+xfV7X3hjFjrlV/d3d05
d+4CcXFxLF68nRo1BmCYDFm3eXq2pFu3CRw6dJbY2FgGDTJ/M2uRjfWhmfUk3nq+TeSV9/KmfXN9
inQ3+B09kce7pXbt2jZtEuecy9PW12gzPP7XfeMbhDztOutfL/I2rQpriCaVk7tL5VrwNd46wd0N
+y3aODsLaCL9KF1hp9HxqbkeU3viP3bN9/TpUyMBbtKoUXoPM2vb3h079H2qPn/Gv6tWoon0I3fu
tDi7B9JmWxtJ86t8fInatJEcOXIQrlZbtfX08mJY4HGjGAhDMc6lUncANFhOJmytDWDsyIRzaen2
pdk3Yp9F28TFI4r26k1aV1c61KxpsY+YwXaF8Dbe3lz0sL/yrL/ojxgvEnH347yRPjVPvnyK9nDu
1m1Whq+2aRd8/LjZ40P+HUKlfpXMejQ+XbOGObYeQn2EnJ8/Kkn97wyEB69lWowMKCIdTJ8+nYCA
rkAYEEbatKcYO7Yue/f6c+rUDPbu9Wfw4EpkynReb1O3biXGjRuXugv/BBETuXv3rLQEUUx6fuyw
xS1p18B6dJIUHu3uysUgg9zWikinkIIoQp2CwgfM9OnT0YlDlSr1TrZ5nj17RffuK4BqLF68LUlj
1alju/Jc1z+1N+6ieJD4x6OZW68e/8QfkjT+3Lk/2r+ozO+90GZ+IKXT74eCk6ttOx19E+UrnGJf
UYNUY7AI81M5KfxKL9s2qYDfsI5mRTzXHF9h65NRske75F2cDFwLvsa6TcWZuDIaZyfLgk5URGua
tQojcPXXLF91W3/8xa0XJtT0jkEAACAASURBVGGwXQ93NTtGYKC2OuqfQUFGAlyZL76QtNbZkybp
+6ydM0cv2uXxSKfPWTcuXTGr4Zi6EFFXZ9vJ/AfXKkePxX/Rt3gak7Z7kdr8POLr83iW/Vov+KmA
qHePQZUNwKjNFjExMVQZVMVie/7thY1EumevX/Pvy5dEblhvsU/bY4UZ8+pnm3MX/vxzTnrazrdq
Dn/Rn+n5pzvUN7mo62X9fPJNyZLs6x/Jjr4yV9KWyF+XL0uyq1TUNPxbR6FvC5ktQpI1Q3oOnD/v
eL7YD5Q7e/9I8hhfyZzlwlE+ZZHu7t27hIXNAcIYNKg8/v62C9gYsnfvFEaNqgGEcenSyuRYooIZ
VrWK5fGbW/r9ap4d6bje9LtRKjExMXB6ENXKesixPAC+KJQNTg9SRDqFFEcR6hQUPhJOnLgEVCMu
7is8PFozZYrjF5cvX74hXbq6jBixA6hGtmyNWLx4sSzr3LTJckht3I11eg867+LZEJxbIWSvw/d7
o8glAMShyvYbGazkz2vXzsEnnjIVFUgV0n6W2itwnEj7vKI+ZPrNmWq1/f7aYKubod2pyROpX+YL
3F2dye9RgNnDJnN/bTC3pg+3uY6du3cl+b0kN+s2FcejhbR1btvxgJLFM9KjT4KXT+n2pQHjnHV5
v9JWUH109pHeLlu2bLRp04ZwtZrqX38ty9p1op1h2Kgm0o/lbvlwzWB63k37XQtyZ82q3x87dqxR
iGpipoSc4acKCV6ThoJbXncX7dwZShN+NiFU9ZZajVvaHISf0T7kMGyzxOs32pBTV1dXXv9j3uXn
92vTGPfFGKNj2du1J+IPy3kCR61eQ5EnZsKBrPDmkX3hrzo8Knt8MPnqAsPCLIYC6wid8BuHw5OQ
oiGJPHz+XJLdsd9/t2mjE+seX0hIg7Fh5AicfFOnUMaHzB+Wi0anGJ+ySDdjxgzy5btDtWqlZRmv
VKkCQBj9+6dS+o5PjMF/FjPaX9Uqlh6bsjg0luuFYXIsySzD99h2RFBQkBNFqFNQ+MhwcnLiwYOH
DB48G8NwzCdPirN+/SOGDAnGz28OrVrNolev1UyceIQDBzRGtpkzN+Dt2ygmTJgg+/oaNhxs9riQ
29coN96hK5sRNUGAYY49J5v589as2ZO0BX4s3miJ+TFRNqqP5X3ksx0y+rHQLyBpIVKG5PIozuLh
v3Bt+UYOT55OUy/peVQ8rz+UbR3JwZhOAqExP9Kjybd29Yt948dnuTcxJfcUmq1KCHFP7Fm3oLw2
e3tQUBDPnz8361nWrpJtT8qJPQeieffUoqh2/cQJI7Guc9Rdpno8wdk9kJlzrgPQadp0omNjub98
md5u1KhRVKhQwapYZw6pHnJSqPfdd3z5zTd676cLay6Y2MTGa1h4cxEdPdvrj0mp7vlLUBDfjPzG
rvUcnSq9GIsh3Y9pQ4ANxaLUotuMmeTKIv3m8da+W7aNUpET12/YtPEX/dnWaxvT8iUUc4jfGkzW
Nm2Tc2kmZC4ijwCTXFTx0AplUohLhmeGX87/dEW6u3fvMnBgOZPj4sNgnIvOs9o3NnQm3jMeWWyf
NasVx45Jz4uq4BiCYCpH5MtsfxE0rzJfyrEci0zs/zX58srnqaegYAtFqFNQ+I+QPXt2WrZsye+/
/05gYCBBQUEsWLCA4cOHU9NKniG5cXNzo0SJHrKPGx8fz7t3SXyapfOqi07FvEdvH0OR5vb3E2zn
g/ogabkPpjsexuAwX3ZPeH1anvC52rVrc/fJv7YNk5Ghi2aTr7sfz4+cRt1tGOpuyff02BFGdXJi
85PqhKybIrlPowYJ4dENvv2cN/+Yel9pIv1YuORv7c77f+PWrVtbFbc8vbzwLN+cpzuHUq7XQqMc
cCcfvmH4whkUrlqHyh1ME+uD1hMtMc+uPUMT6Uf3LoVwdg9k1YEDZoWtkydPsmPHDu0a7BTsksLk
2bPx9PIir6enUYjixcCLpPssnZGtx7b8XG+YECqp8vHlztIlkuap/at9AvyJWSfssjekS1gX5pW2
fsOdEryLiZFkN61Hd8Y3UbOq7qpkXpF5nAXb4dcAVYYMkWTX7Ug3ep3pxdQ8CR7FlYoWZcaMGXz9
9ddGeSHTpElD/fr1Wbt2rUNrt0SJtg6kvJCI++eesozjLPGO6p7Mlx8tN8Bh+6I8/1OEhi6y2v56
zf/w2xiLq0EhM5XgjWdXrVfyW/UfFoqbaXF2Nn3IoSAvK1tGo4mPNjo2qtZBuwtLqJfa/l6KjXiO
e6UZCBUSttIDQyTPcXdLS7vWpKCQFBShTkFBQXauXLkKVKNChUHExlqqSyiNiIhIrl/PiUpVnbRp
bZdWl8TszPKM4wjzcoKPg0VCej0w3v9YvOripN3gyko9g4v3gz/INmzVAfKL0PawNkTrUZr1q/J4
LZmE15JJALw8dT7VhbumTUpzX92Xc38etKtf8AZv1m/UVhtdNLUsQVk8zdr16FqY3zIUM9tmjnC1
mvDTm9i24RCDx3Y3KtxQMXd6vc3xVf+zOEbZ0qX1HhX+oraa5p7Be0iXzon42uuY/u1kk6q1Oho2
bIgoioiiSH0/P71o5+nlxZOnTyW/D2t06NNHP2bBcuWYvWgRoiiyb59p4YjB/yR4OycuHqHy8UUT
vIW8n1kPs/951WpUov3nHU2U498D+b7Jx5dtv/xgQmBtMbBJE+JIejJ0R/HL10r2Md2zuzP4wWAE
QaBEsWL0L1GcpjVqsHbuXKO8kNdPnGDBxIl8XaoU86dMwc3NTS/iFSzoeDXufHVaER3xTMZ3lMBX
AfIIqjf7Q/01tu1uSItOlsSmq7C+BWRMhWdhyUm+fNJt27evZ9MmXhSN/iPjxVDuLNemUYnK0xAx
LpB1r8z3rVAh6QUJFGzTZYNpEa1VrWIlF5YoW+Jz20bxz3GtvYq3iYa8cPgCQgWJLrFA81qOV5JV
ULAHaY/dFBQUFBzg1KnTAJw+fZoqVSpz48Y6PD1z2ey3cuUuevWawrt3UWTKBJkyybiowaJW4Joi
fHx569KbKcwQFw1OH95V+rBhwzh9OoS1a0eRc3Ao2spqxgwdOpfp0zfw6NEjsmXLlvKLdJAverbn
4kLblRXl5mXpQlgKushcobRetIt6+C9XR2k92oqPH4Lb5zmSfW0NvupC5SIXGLPtvEP9x/16kZbf
5WNi1olcEv1xdg/UF3LQIQgQ+aI16TOuY0SE9un7y4gIMps5Qaw5keBp12WJ1ptLV/ogsReeNa+8
s+fPU6WKcSGGo1OPUv/GHL0n3YDvi+LsHsjbF61wdTX//PPKlSv61xqNhkyZMvH2rfUq1FJYsWIF
oUeOSLJVvXf5SSzSuTZrzq3Fi1AJtgW4X9evx/tv2+dwuWm+pjkX1l4gQAjQC6YfOldyvUyVectn
MQ0DNMfxKdbz1J05c4by5csDoD50yOz/mTUa1KlDgzp19Pu7Q0L0oeSOFKS4umYqZfr+Ync/a7x9
8oCsJcrLNt4VCfr7q2jbNlK4GwGhd6D5f1BHKm1HpLO3d39CQ2eZHBc1GgRnJzK0+5XtrrUteqZk
/SwDadJ1JjrKfE7VXr1+Z8GCatIXpOAQaZzNF3vruD4Nq1rF2ux/dnVrSfOo0mcl7mBCFddy38zg
bJT29fcn45hT0Xb0yqbJDSXNpaCQVBSPOgUFhWSnfPnyxMZq8PRsiWGuvPPnM7FvXzS3bnkYHe/Y
8RfevYtKvgUV1lXZ/MiEOjAVF6e7pc46zLB48WLWrvUHwpg0qQn7908jZ86sFu0nT+5LbGwI2bJd
JiYmhIIFC6TcYpPAi9evGLsmZcv8dVw0nVKlSkmydcudU+9t5/Z5Dr2n3fMjp632E0WRsmXLGoWy
Sd12HV1OwEoQBIECBQpw4oR9oY6Xrxq7M2gi/cj2uannqZOTwLC3N8iceyOiKOJVvbrkOW7bmQPO
08uLMmWM8+ToRKIrM+eYrHfEz2qL3nWGODs7ExkZqfe2S8rWsWNHu95T1f3VOPdtwuegZN/v0cTF
4ZnDtpi7V63GI1s2mrtbzh0UFRVl8tkQt21lDGPMfm6crFQETkxqCnT2CkvxW4MJqniLiDspn2ah
QlZpwlPFIkVoNXGi2basWbNSvnx5vaecvSKdOb6tVcuoUMuKFSvs6n/tj5lJXkNizs+XL+8owN/9
bNu8kcHBPE6E1hthun1pQD8avrQj1VhoqPnz+uc1/yT2ck8A3sbsJ+Z97mNdDmQxfhcu3gMIHZjL
okgHsGCB9ZydCvKwuPlLYuJMH16tahXLwhPdrPYdMWKEtElUxiIdwJm/Buhfr952R9o4QLdu1tek
oCAHikedgoJCqlHansemcuK75b1XnSrlveoyF5J/zEsroFQn+ce1g2LF8nPt2mpAemiiIa6uLty6
tRIIY8qUEwwebL4oiV3UWwR7kidUdcH2Lfh8VY15/Ycmy/iGdFk6i/0h0nOoJEbnaQdwod9o4t5F
kaNBDXK3aGhULAFgw/LlVEhiTrXrN2/SukULwu/d0x+7ePGiJKHRUIxp6pPHrI0KGPr2bw6GPkYU
RQRBoH7t2syfIj0vni08vbwoWbIk6kTinsrHF3/KEVhgiYlwNHVSOaZOKoezeyAXzzakeFH7KqMm
FxOzTKTOhDqEPD5AhSzl+dxN6xHXZOw4rt6/b7N4hI5vR/sTvzWYm3tumrSVLVtW/7uypyjGP48e
6T+D9+/fx8PDeqLuATcHpIpXXYepUynrQOjmdM/pKb7WYhmkh2VtOGzqjeni4oKTk5PJ33Fco3Is
eZAQM6Zrj7k8n6Jt53Pz8A6KfdOIc2fVuAO9u/tx5rEzJ7aaeh+Hq9V4enkRERHBgAEDTNrNIcbH
SX5fUrmzJ5Aqo+R76OLiBGNDYbTllGeyeNQVmQW3pP3aPkrsEeq0VCOx1/6/N6Xl27TEv/8+J2dO
X9uGCrLRbWMms95zR+6uo2cly3/PbRuWMaFlG4fmFF8mVOle/5P0c/ztC/sdmk9BwR4UjzoFBYVP
E51Ad8K8R0Gy8OwSdPs76eMkFhd3dU76mA4SExMDhL0X6QwRcXGtS6uupl4Qns5W7mKAwYMrUaRI
4aQvzrCgxMK8SR8vEVuPhHHafLSGLMTExpK+YXX27N0r25hfzh5L2aWT8WjZiK7t2hnllwpXq5Ms
0gEULVSIg9u2GY0b/+KF3osqLs78DXfiHGRLFlQ266E2WjMaJ0SqfZ0d96xBiKLI5u3b9bnabt6+
7dC6v2nYUD+GKIpcunTJqF3l48uEzp0Y+Xqk1XE0kX4UL5pRknddShD1MorjzU4RHnmHWeW0hVVU
Pr52iXSVBw9hYT+tu1ChegkPGx4/fowgCGxZvlz/t7aHz3Pl0vf7ffx4E+E4MVkKaquupnS+urWH
Qjk9fZrF9lmzZpl4C6Y/EMKVZufo27Ur3dq3p17Nmma9Cv/5558UfCfGJK5i++rVKzQaDdeOHzex
HbXjDOFnNoNzKcLVx7X/K5X6UbTtfACc3D2oZpD7ff7iQHZ2yUTlX0zHAq1YN3Dgf69U6ZKz1tsj
kijUtdv83xbpAKpWdaRXNfbvj2HGjA1JmnvFil0EBj5QRLoPiOUt3lotLHEx0DGRDs1rVHV263fr
2ZFFJmReU8fmVFCwA8WjTkFB4dOl2m8QNgIqDU+Z+ZZ/IZ8HX/XJcMjAmyuVcu7duBFIqVKmIauu
QnVi34eYAAhCbdK4uRL1bqf+2NxhYxm36Q7//G36pPTGjWXyLvT1fXnHe4+Pjw8AI/w60N9Xvmpg
+do3syhoOcru3bupX78+t8+etSmI6HimDqJ851/tFmASkzFDBv0Yzs7aS4/E4YQqM2UTNZF+uGb4
g5jXCflnBCft2mMionjzrBVpMwfx7mUr/Xju7u5G+d/y581Lo3r1qFS2LM4uLryMiCD0yBGCtmwx
mmvdunX4+RnnxdNx+99/yZA2LcOaJ1RsPjHrBJX6V7L4njWRfqTNHIRvEw8CV31t0S45mVtqLgAL
bi7kWgOt8Lho9x4ypUvHjYULJI9z8sYNk5xm8fHx5MyZ0+Zn4+tyXoSdUfPCxmdpUO/eDOrdWxsu
ayXU1F/0J0AIYO+wvdSdVFfye0gOdP9H1apUceh/RBMXh4eHh/79OpK7zRwiIgK2/8cfrlhObFwc
Lu9DkJs3b86aBbY/F20rVta/38WdK+K1+KSpUdwjyo89SvjZOaZt/2HuDIQ7EZD/fbRwq9atWR8U
RJlvO+JRvBIx796wfOAubp49yIoVK+wKX88/Qzv+fx1PT8f61a5dm9q1tZU/CxTwpFGjcsyebbuY
1JAhc/jnHyfWrFlDp05KPrrUYlmLSIttq1rFMv94F3pXNr02lHg5Y9qvSoI3rXjqE/jHUvjoUDzq
FBQUPl0qvc9r8bFUTzWkwpDUXgGAWZEOIEYMRRC8EQSd91w8UZFLULm/T+n/OoSBOz3MinQ6hg5N
/rBSuZgQuArnWpXpM2tyksapOaw/Hm18ZBfpDh48SP369fX5ocwSf5t5t43LoUkR6V7GA8Tg6SUt
iX24Wk2tatVM1jEq1ny+qKmTynL9xmuT45OyTUIQ4N3LVkbea4nzv/25axe5CxQg6M8/Wb5+PYdO
nqROw4Z0ydPIyM6SSAdQqEdPIv5ImKNC7wrsHLDTor2Ody9bsWpp1VTzrnty+QlztiSIdCtCQug1
Zw4vAtdJHiPtdy24MNs0Wbu58EgA8cl6CvlMo4CXFy8MdCfdZ8nzvdempwXvzaoVK1KrVi2raxoV
O4ojk6UV0UgOsmbNiiAIem/AVfPnOzSOs5MTt8+eJVytZldQEIIgEBoaarujDR5HPZFsm8UvwRtl
48aNtOvVy2aftSeP6T3qdJyb2ZQDMVBK9/ctXx/EeIp0lqeqaroc5kPhk4J7rvyyjwlQPN9n/O/P
VwQcglJ9/2DMQZFmI1dQqdn3fNN2OB2mHWDMQZHb+TsScAi+aTuctWvXWh3zUxHp5OL27XBmz96E
Yf5jS9vvvweyZo2Ekr0KyYqzypW4eMuFI0492CzPRPFvDaq8CopIp/DBogh1CgoKnzZdLmt/7uuT
uutwhKyJ8sFNsxwakNKkFaoTG2MoZMQxq+VAGs58H7OToSaaiyuJfWu5MqIslWA72IhDkpGcOXOy
9UgYHm18+HpEf1busy3kAPgGjGDL83t4tPHh+j3pyYztoWbNmpI9fgpYCX/1LFsJzelJFO28GvHZ
Nm7FQ2YVHJvWiZx1x+vtqpWzHkK7dJax8JMn3nLxmH59ilLSa4fRsZ+jfzba10T6UezL7Wb7lyxZ
kp9++okdO3awd+9egoKC6NGjB+9eS6u6qvLxNQkRbTSvEQBxMbYFVRcXFZpIP5zdA3n9RiNpTjmY
lG0Sc7Ys1Fd4XbR7D12mz5Ac7qojOjaWUvny2dUn7u4K+i45RBYzmnBv74J4ennRqI/54gDrFi3i
wIEDVsdXOavIVjRbiofAgtaLLlf27En2Mk1M8aJFCVerqV69OhUrVkzSWO/i3km2fRudEIuZ6X3R
iHOJwr71qAoQfmoN4KYVKU/Mpvvyk1RwhjIDthiFP+te31jewexQX9Wvb1cxkeJtf5RsK5XSvcfK
Op539RoEHIIRW5+Sxl16jsq6vSZyw6Mto/fFEBVlei5URDqFT4VuGy3/3yxu/pJ5x+wroJSYd+GX
ESotAkBwzYh46j8eR67wUaMIdQoKCp82WUtAyQ5wbj4zZ84kX768JlUJGzVqyJ49e5I2z8EfoIV8
ucYA6HLVeD9eA28eyjuHDdKlq2f2+DvxEM4u7voKa+BC/43r2d4tB+GaUEBAFA/hki6z2f537jyS
XsnLGjkMBKMpKfeVF37nDiOXzMOjjY/N7dTVy3z//fcptjZb5HMSmHnwOjN+TsjJ5enlRXTUMxC1
wlTM+SWs+HUOnioo6OVFgYHrOD65IcNqlWPdtQjuxVsa3ZQh6X/n/ON2Vm10QpcOJ1ftDf7W7lv1
x65daGyX59q6lyG0yWzdc8ucSGfI+DTjLbYlRhPpR4b0ziniXRf9Kprfl87Qi3QqH19GrFhht0iX
pllzu/sAOOXrRJmdXSlQqYlJ2/zQW/x9Mowd85J2g9TvWj8ElcDUPFOTNI4tvEeMpPF74UwQBA5u
28bOoCATO/HJesLOr8SznLYScbtKCeeedpW8OPteo9Wcm0q/vW8szheuVnPq1Cl2795t0cYWkRrL
IWSJ6VHP+BwuiiId+vSx6PEoB55eXvgHBKDRSBeui3zXm3iNZW8be3n35CH5asuTrqB9hw4EHILa
Yw8maRwnF1cmHnej68wEr0pFpFP4lIgTrZ8T8mcpiygaX2DEx0tMGRB7l3QG1+FizCuECjP0m6qG
4+dcBYXkQBHqFBQUPkl01SIhDBr0gMGhDBhQlrt31yKKofotLu4gO3aMpF69tFpbwhg5sj116tS2
b8LT0yF/HfnfSOK8dEuSoaqsFd6+fUeHDrbFClG0r0JW/vzy5XszWEUyjPlxMHHiRNs33qoC9Cmg
4tDpswyoUZSB438w8o5J45aNcPVpACoNXkPnKbtQAbfUanK+v5qYFHKGNsUy2fQ2mr98uf71LNGD
jBlse4Me2lubP3cZC9FnE2VuTyzo2cLVzXL2aJWPLy+thIjqQnVFqTcJ79Gt8d59aR59jpB/f2FW
HFgMQIvfJpAve3aerbU/tCvWRgi2xky7kL0lN7f+QL2fN3L7xDYOn1GjAqPPkrNLBoufkcLly7Nk
ibSKjaPjRvP6wWti3sRIsneEvy5fJvjnn/T7nnktF6bp0HEqveZtsdgOsGv1H+zbvIfLc1tYtAlX
q6lfv779i32PSpB+eb+g3/ccvnLF6FhERARHjx7VF1d5Eyld+LPE/tBQo2ItPXv2tHuMa3+Y98J0
hPMLRssyjpOzM0W6yxPeqyN/GW8CDkHp0acUkU7hg+TIkSMMHDiQokWLmhTIKVWqFJ07d2bnTmlR
BYb0r2o9LUPDYj/Qcf377+2IS7BWoMPoJD5Id4DB08JsGykoJBFFqFNQUPikGDp0KI8fb0UQ/jLw
9rKP337rxb59Y4AwVKrUP40eCQfX4QK9rvtwvuY8dIIihBERsYuFC4eSL9/n9JKQe8gRVq3aTc6c
38ky1pYtYYjiN7KMpcc1g7zjfYQMGzaMQYMGyeIl41x+GEHtcjvc39PLiwnTpyOKIgGqAOIkJL0H
+Pqr7Ph8l/A/+/0V816I9oh1Kx7tpLunaXW/LtNn8HPrVmRMl85iX13xi7FO9ofPaSL92Bx8H5f0
8nvXPTzzkCZjGtBgegOK9e7DpqNHCV+y2O5xbHkTiqJI4fLlk7JUEx4/fYomLo6uXbtK7lNvSj1+
y/CbrOtIjNTiK5tPqVnZuyY/7LRcvKbx5FCiTyxn4sZbci3PBHdny59bc1Qbbuq9XKVKFX3+xi++
/lovsvm2a8eNW7bXHhIWRimDfv6TJunHc5Sra+XzngzfbT0nnBSqfvU1o/cnXzj7d7UrJNvYCgpS
eP36Na6uriZi3Pe9e5PJ1ZUFkyebVI+fGhDAFwUL8tvYsSb9MmXKZDUHb6W8Ldh8aZxpgxgHe7+B
tQKrNBrWb8gEmUpBW5FbLyRe47nkQzw10OIWf/Bbyb+XzYefSrZVUHAUQa4KUx8o/+k3p6CgYB9Z
smTkxYsdtg0d4PvvA5kzx0J1O00UrCoLXa6Yb3eAkydPEh6+k5YtazrUXxC8ZaswaIiLizOxsdbz
S5mjZUt/xoyZRalSpWRfE3ExMP39E9h+LyCN+XDbT4GYmBjSpNH+LhbPmEGd6tVTbO4CZcsiiiLX
rl2jaNGiAPyS7hfWFPXisrqR5HGc3QPRRGoLP+hylPmL/lbtrNEmcy3WvQzR7z9//YbP2rWTFPJ5
at4pdvTdYXZ+qUhdp1RyBHvw2PcB6Vq0JComxqHQ1TM3b1Lpx8Fogq17h4FWxBo9dChd21kPX7ZF
wXLliI+Pd+i8ZO1zkFQMBUs3Nzfafvcd/sOGyT6PIZ5eXrx+/Zr06dPb1U+31qfRT/kszWd295PC
3r176dGjB3fuWM+nWaNGDVasWEE+O/MbWuOPauloHSaPJ2pSx5oyZQpvKgyWZS3WiI1+x/h6aZN9
HgUFQwwfTpw5cICsWbLIMu7N27ep3ayZft/c+b5DkAurSvwEF97nIC3QAaquNLKZfbQt/aoaiO2n
B8myPsmUn56y8yn8V7CremHqu4IoKCgopACxsQfMinQJVUm1qARvBKGWSdvugd2p72Zsa8icOX64
u1u4mJ6RVjaRLlu2rEAYFStGOSzSAe+9CcMICJDuuSKF2FgNhtXUhg3bpq/+WqhQG7JmbYwgePPd
d9P599+ierv160OSR6QDcHJNeD1bnovNjxVXV1e9V0u7nj313i6eXl7UatpUtnlG//ab0dhBe/bo
RRidSBcgBOAvFLJLpANjj7nKAytbtRv7y0V69Dlhdbx1L0PomrcxAOGPH0sW6QAq9NF6vCSlqIEm
0o9JU6+QJuMfDo+hI0ewB8v3LELl48ux3yc7JNIBVPjhR4si3dzJG4z2RVGkS9+++r/1ikDpXoIN
WrXS94uLi3P44YFOoJO7uMSTiAij/aioKFYFBSV7/raDBw/aLdIZYo9IBzCyheUw3MTUrVuX8PBw
o4rJhpt6zkhEUeTAgQOyinQfErt3704RkQ7AJU1aRu2Ltm34H+Nt8mUGULBAREQEgiDQqmlTIw85
uUQ6gEIFChiNXbl8eQRBYG4XATZrPfVdnNzgyzHQVtRuiUQ6gH5V19IhKCFlRomWKVe1t1YfmarP
KijYQPGoU1BQ+M+TN28e7t0zn/dCL8Y5exL/9AfIVBaVUAtRDNG3/e/UAX4p70QjN292RNkKl61m
emiKYJpLzgGKF/fk6lV5c+HoEMVvJId3fZRMMXhvMvwt/oscPXqUr776Spaxxo4dy6hRoyy23/3r
Lnf/ukutXx4Q87q106nljwAAIABJREFU3eOfOv2cCuWzAlpxRnASGK0xn3PqyrVX1KkfwoPbloVI
nVedPZ5FOs4sPsO2Httk8eZKinddjmAPvm/ak4AmZ4jZvAlnOypqGtJp2nSWDxpo8XxQvn5vTu+a
b7G/r68vW7dutdhuSGBgIK1b2//3t0SAECCrV51Hp860/OZrpvfoYXR84cKF9OrVi6WzZlGrmplz
vgPUbtaMm7dvJ8nT2ZHPb3KwvlZmWoZYrujtKHJ61G1vWZzG66/aNjRDwCFZlmAX4+q4oolNvlyM
HxpnzkC5cqm9ik+HTp06sXLlSou5Qz29vAhXq4k8Op5SfTYQrlbrH1j8rVZT+P3rz/0WE9TwNfW6
DWHSqhCaFM+Ep5cXGTJnJ2jLLkpkNv+95OnlhYuLCzExMURpXuPmLC2cddOlsTQvNRoeH4J7KSOg
ieWm/bevlxWSE8WjTkFBQcEQNzfrpzpRDEWMXUmDnANRCd6AhmiDtl/KO3bD+34EWXKkiaJoUaQz
9PxL7CGYcNx68YunT7c7vjiF/wRVq1a16CVja7t3JZxlQ2fo962JdADLqi3j+ue5HRLpACqUz6r3
qhNUAmKcZXGjRLGM3L/VlO69j1u0cVSkAyjXXXs3+eD4A7v7JkYT6UeeAqvIn7+ASW4fW9uTpg8Z
oxrLuBrVHRbpAFYdOGD1JuSs6z9W+wcHB0v+3Mgp0gEMeTREVq+6f168MBHpAHr27IkoivQbPlzv
Ebg7JMTMCNYZPGqUvr9P06bJko5AKokLSiSF+GQSlJzTOu5lmJjSvezPLQmkWl7aUfs+HZEO4Kpj
GqqCg1gT6XQUavArpfoYe1SHq9U4G7w+OqICeUvX5MrJ0/T3S0itceHgXtrVspzTNFytJjZWW9XZ
zTkDi09KKzbz4vJvsFaAjMVwqiRfsRlLpK82XxHpFFIMRahTUFD4z1OzpvXqebrQzF1Roe9DQp1J
XAvy5Mj2/BltWQizyBQV9H9lXx8z2Lo5SLyudyHTjI5vO7YCleBNlIX+2bP/x/O2fW4QInnvYKot
479KnuL5yV1EWpibzuupZ1/rIam20ET6kb9IMKPjbFdvFAQYOawUOfOaf+Kev2s3Woe+dngtHpU9
WFzF/oINADdu3DAS3F7824uFv08ySdAtZTt/6BCh27cbjdeypfQKyiofX2K3fLxhPe453QEY6+yY
CGMvkZGRetFx/qpVRuHeUrZS7/M2iqLI1KnyFEq4/9ZyIQtrmCso4Shyeb0lpngbmUqgiiL56rRy
qKv/gXi77A/P68yYGoLRNr7pFw7NnafYp+Nidu1aaq/g06F27dqsnDvXpl3Gf4PotMjyAy9DQqe0
JVPZvkbHepR0tmCtJVytZsaMGQAcur3M+gTRz2CtQLfvXtLB2RncchEXZ9//pr1EvovlzVtLV9EK
CvKjhL4qKCh8Ejg5OREXdzBZ5wgPz4unp6fxQZnCXgVBsFilVlsYIlT/WiOG4vT+9eGoUL5KA0ev
POHrkt8RLYbiYnYUMBu2+19CCX9NdkZU68m4fXNwSWP+U6YT6eQqoPD4SRTzF/2NKmALcTFxksIe
E8+dtU1bnFQq2l9VMe20aS4cqQQIAXQK6YRnTU+btv7+/owdqxWTLh4+THp3d4fnlYIuRMnT05Pb
t2+btak3ajQZ0qVl48iRVsf6UMIrrREgBJAxb0Z+uPtDksb5GN6rISofX4LmdqJFnuYO9ZXzvcoZ
pio3x3/pQeWfFtnd78iRI+yNtS89wJgalr1vai2JxbuQdfEiMf4pV/8nVWnSBLZtS+1VfNjcjYA7
EXDxMdx6ATeea39G2JHS0N0FCqd7wbYuWa161OlCXw1f675X9p1RU6dcQnsxLy99VIqhncq9ELcO
b7Q4R6fvv+fgX38B7wtKtIo1NVorgFNaaG18btHZi6KIcCZp532LKAUkFJKOXe6Y9n07KCgoKHyk
xMXFUatWTUJC5Pe0uHLlDsWKtcXT04zXW4a8ssyhfagSZqEt1ObrqiWyE29B6APYseMojRr9x4U6
hWRnQthCOub8lpX/7jZpe/3gNUOfDKVLj2Ps21lLlvlyZHdjwuTLvI3+mQAhADFeRFBZvw7SFaPQ
RPqxdN8+XkZG6gWKwRU7MeXkCofXs6LWCptioSAIuLu72wwzkhPdXINHjXov+psK1fvOnZMk1HwZ
nUP29cmNv+hPgBBA9Kto0mRM7B/930b94pxDQl3Pb7+VdR0Z8hWVdTwdt7Yvp2DjzkkaI3zXGoeE
uu869KT30ot29em7TUOODAmh6BfG5mVjiNbrMaRHbrxDHts13osXL8giY3L/D5UbN1J7BUnj30it
kHbjOVx/pv15N0K72UO+TPBlDiiSVfu6aDb4Iof2bj9fJu1WLck1W7IgdIGq337L0d2m392A0feV
7rW5YwDXEn23SfmuW7N+PYcOH9bv9/8qUVGitQKoXLTFJczgXzuMexEXyZvpCyKL/4L71Z9szmkP
T/L9RHZZR1RQsI3iUaegoPDJkSdPTu7f32DbUAIjRuxgwoQJ5huvrIUSbWWZB7Thr/Hx8mexjo6O
JU0aeYSTDxrFoy7F0BVnMERubzpDnN0DGfVWGysltZiAs3sg8bXXGYlT5tYtlfjYeMa5juPn6J9x
cjWfI04QBH4bPZo2za0JKSKeXmUJP7ObgvWXcGvP/8zNhqdXecLVZyHqEp5V2hGuVrOqtzfx/Tbh
37E14Wf2W5zB08vLSKyzx5sq/MIDPL/0kGSbmpz+f3v3HdbU2YYB/D6RpaggOHHhrErV4B4oOOuo
Yl3UXUetG/fetu5RB86qdeKsey8c9VOrgHtVResEZTnY5PsjAgkkIeMkYdy/6+IinPOOJ62MPHnf
91l7A4d/Oax3cYmrjx7hU1QUmlStKnJkxiNp6wmPkVE463FSr/5P3r5FmcKFRYvnnHdLNFp6TLTx
AOBolypo5XvLoDH0Xe0nShGJxH8xvXE5AIBg44lpx1VXV1ZnuofqRHtWY2EBxMcbZ+zoeOB2cEoi
7UVEyte6KGGXkkCrXDAlkWaXSd8bKFiwIEJCQkz6JhKQsuI79b/rf0MuoeypBkDF0YDrgnTHSbMK
78Zwg2O7+/QDXDoZp4gbZUtcUUdEpMnLl++SH//88884ePAv+PpORePGms9/mT17C+bP34lXr17D
9utWtblzNaxCO9pN1ERdYqL8/I3OnRtj1y5xDkzv2XMdNm/Wf7tfptJmF3BIv3OJSDe+4WcxxOVH
rLi7AwmxCfjV5lejJekA+Sq51p5+qHXwPF7/8xpONZ3S7ZPYxBffW47CqrWPMbB/ueS4T60/iGZ9
2+ocg8RSvqL2V+tfVSaHvLy8MGrw4HSSdJAn6QIDgcSXECytAADlf9qKh4vsUM77Pf7d2htlpNXw
JDAQSAyB56aUv/umXIlE0Or8mJb4QeMcQYGBySvr3oaFYdWgQRrbK8VXuShath+DY3+l/8LJnKr3
r45/j/+rdyXYuqPHZKptr0nuRNzVu2+5/r+I+pxDAlWvAjfEx5f/ij6msQWMs8GBq6n2Iwo5dE7S
AcCAPwJEisq80kuWJSQAJZemP05Ssqy8o/KqM03JMhsLoKaT/INSBAfLV3dWrFgRD75W87h/5Qpy
2tiIOk/I+/eo2bQpAKB169bKCbq3p4GzzYC8FTHjy2NsUbOCTpUtneOUk3XVf8fgwYOxorcl9Kn/
8K7YBLhUL6R7RyKRMFFHRNnaunXrsG6ddltgJk5sgIkT1xo5ovTt2iVf8VOjRkVcv657POfPB2Lk
yA24cSMAmzdno+2u5RUO1T/QDvDU/UUSaW/F3R3oYt8YFSLcjZqkS3LzdjhqAVhXa126iRnFFWSn
z76FtNZxBF6TF53ZMOp3vRJ1QMqWy09vPiF3EeUKlUFBQfjOzU1jf2epFMtP+Ke5LkgEpfdhEyBB
DgCQFMCBXwrAeZX8eiEJoOtx2k69ftI5OXMi/pGOs5iH119emCHMwN6ue9Fhewdzh5PtdD7/Cfe3
LkTF7qPNHYqSXAWL6dzHz88PEDxEi6FAA/3ebCtcVipaDOpExysnzhS3b+oiaWtm6lVnhWzTT5YJ
w4HnItUOId3cV6gAnbrCaYc2bTB8wAAUL6rdqupHT55g2Zo1OHwyZZWvhYUFEhISlIuk7bAGEmOB
rokp21t3qT9RWZ0/2odj753p6PDtdACAj48PAGDRokVo4uQPaXnNG1h/XX8NcGqFyZMngyk6Mjcm
6oiIjMG3PtD7gVGnuH495Y+psWPHYsGCBejevTlatKiNQoXyISzsI27efIKdO8/h+fO3uHfvHsqW
LQt39wa4cWOoUWPL8P7NfCtlMqMKEe54YHfe6Ek6AHj5tB0sbKPR6csB1JHWwdWbytXpvLy8MH78
eFSbOg3t6tRJvt60cWFc9muGlWseY9Av5fBd/3YGx7LIaVGaZOHVq1chCILGbUVK9yTF8OSIPMFR
tUkjCA5O+HdrUjt/lf2u+qc9O0gVZ6kUr1+/hqStJ24uX6bVc8qskpKnTNSlr3j+/KKPeWvN1AyX
qKsyYJbOfXx9feHU1UOv+VznRcMVwOvAA1g7XP7zJeTCZPw2UIJJqzQXb1FFm5Vm6cljBTjlAYrn
BQrmBvLnlJ99ZquQGylkK/8o7wi0LicvUhARLf8cHS//+C9Sfu1FRNoiBklnsl16oToG95JAw5Ly
z+UcDH9OJL7U21HXrFmDzv364c2bN1r1L1OmDKZOnYpDqs6+O+ICRNyTF2n4UYcKGBpYW9jin5d/
JSfqkowaNSr5cVhYGMaOHYsD+/9Cnjy54e7RBPPnz0f+/PkxubooYRCJgmfUEREZg0jVXklcK9oL
WPePJW69lG+NKFSoIDp16ozly5ebObKsR/FMuk6Wa/U++y097du3x759+5K/9nBzw889eqB+7dpK
7fYeOoRVGzbgX4Wqp3v37kX7r1tRj598g4lTb8L/SgsMrNAJqx7s1iuez+8+Y2HhhSpX9b158wZO
Tk4mPwNIkbNUim7dumHkjBmoMWKkXlsdv23eF3dOrjdCdMaxv9d+3Nx8U6ctsJmt4isgjzl/3+sI
9nylV/8vMTHIZS3uAVuRzx8gb8kKoo23s6EtvC58Fm08bTVu0hTuU0+LMpZiJdjpfrr/nZAVK79e
fQXsvAscfgTEJAAvhgMlvhbZlAjAlnaAm8FFE8jstn/9t195GlB5usamfk83wKN0H72mUVs1lsi8
dNqEzUQdEZHY4j4D68sBA16bO5Jsz8LCAvHx53Tq063bLGzbpt9h7CSnqnCEIYUaUouNjYW1tTWs
ra3x8OrV9DuokZiYiNLV5GdTJv09JEZicYYwAxJLCabETlF5P2fOnIiOjkbZUqVwWiHJaCzzli7F
qo0bAcifZ0JiIizb/WBQIur8oetwb1NDrBCNbo3rGrwNfKtVsq5wj57o5uGORX37miAy8RiaqAMA
6TBvBC4TYcmWAjEKQCR54LsEFbqMEGUsXfTv3x9Fu4lz9AUTdekTBEDVS1Sff4D5l+WPG5YAtvxg
2rhIByGXgFNfj1epuwko1dOk0zNZRxmQTok6SfpNiIhIJ8tyM0lnZnny2AK4qHOSDgC2bZsC4CKc
nXnStK5kMpna6q6+4Wcx6/uRBs/h6OgIa2trBAUGGpSkA+SVlIMCA5OLKwQEBCD+84/YHdffoHGn
xk9FYpz60+KioqIgk8ngPXIknKVSOEul+KZ2bTx7/tygeZPExcWhZefOyWO/+vABMpksORlpaJIO
ABqt0337oDn9EvALAODib+kXOAiOiMh0SbokVe2rGNT/VlCQOIEoELMAxDdewwzqH/lcvyMpvLy8
dO8ke4/pHgJObl6GL5+jEPLgjFKSTrDUL9Fdcqnyx4gT8vPkMqsVK1bAzs4OgiAkfwCC0teCIKBO
nTqQxv6N597y8+u2/AAceaz832KD+RYrU0KUfMXcdgE4WgUo4CY/b66rzORJOgDY3CkGM85ko3OY
KcvhGXVERJSluLp+g48fjxs8TlDQTkRGHkfevC1EiCp7mCmZiV/ejlN7Jl2H8T1xbPVetByg33lh
1atXR1hYmMqto85S+SHrRX78A/8br/oF8LbVv2Han8fw6MqlNO9UBgUGwlkqxZcvXxD/+UeDztUT
cshfjK+osAJDHgxR227IkCEYMkR+/8WLF3B1dUVoaNoT2+3y5kXlihVRolgx2OXNi4jISIR8+IA7
Dx7gzdu3Ksc+duwYWrRI+2+3zujRiNi5Q5+nlelNiZ2CWVaz0GBS1n3x9nPpjJdg9Lr4BRFP78Gu
dCWDxxIkOQzqf2v1FLjN0X1be5MmTXDpvH5zXt7gjcsbUldGEDDt1D86jxX87A6ee3+r9v6SK/Jk
VWSqI7/aVwDGu8nPnDO3QoUKJVcYBYDO7drB78ABOOTLp7HflevX8Uu/frj7ICXZOn78eDyfM0ep
3ZIrwO8K7+FMcwf6GL8GR/YT9RrY97WohGUeoP27lEIQIjn52AfNyw3Wq68gSFC5cDMEf3qKgrlL
ixoXkSkwUUdEJKYrvwIN55k7imzL2toKMTFn0lwXhIaQyS4AAGSvD+BqAU/Us2qIeNkFNLdpiNPR
F1SOlzevLY4cmY/WrccaNe6MKCAgAB06dMAzhTPdFA0bNgxLl6ZskZshzMC+mrWxpvZxtQmuSm5S
XD/yN14/egGn8rofOOTv769dMYbECHSY6Isbx1d/TcDVRA6JLZ74+6HbgElwlroiKDBAZf9cuXJB
JpOhk+VaWNhC72SdxFKCDw8/aN2+RIkSaJ5QFb6ytFtuQ0NDcePGDTx79gxhYWHIly8fChQogGrV
qqFkyZJaz/EuPBzXHj1Gnpw5te6jTrXYIgaPYWoSSwnKtiibvOozK+pcvKNB/bt5GGdf5fFeNeB1
8YtRxtbFq0tHTDeZkB/TT0fg6OKBuHvpCGJiE1Gn+xw07a5f4gEA1g+sDZ+f1J/RN6KO/EOdiBhg
QwDwRwDwKVb53vDaQB9XwE7cYwoBACEhIShYsCAAYNeGDaj19cgBXdSpUQNHdii/yTB84sTkyqRJ
K4ZV/TfocxA4o/CrbNsPPPNOZ7enA7e/Vit2qA60uC56Yi61rQEj9E7UAUB7l6novSc3Nnb8JGJU
RKbBM+qIiMTEIhJmpnpbmyA0lD+wcEbi8w7JibpE2QU0tWmIMzHye7K4zWrGzborcJJUr14d/v7y
aqKdPD2xYMaMdPuc8vPDz8OHJ3+t7d8Uoa9D4DvjDwxeo33FQ5lMhhw5cuBZQNoEGyBfUZeUqEt6
nPK5JoIC/0nTTt04MpkMC36chDE7fsOW7UHYtOUpTh9rrHWsSdI7qy7JqFo/oc0wL3h0b6nzHNp6
HhyMUv1+FrVAwphhK7BgmfoVgxnVSpeVCLkXojJZ5zVvPh68fJnpquGGhYXhm6mdEbz8lMFjvQ4N
hZODuGU4Y8LfwypvPoNXxAHA85M7ULK5fgn0nQ1y6Z0wLF6hOvqtuaFXX7EMrBicnPAytuh4YGOg
fIVecKrcYOtywPj6QAk7zWMkJeimjB6Nvt27Gy9YAKVcXZW2+GtjQyAwQ2Gl5PDamhOd2lD8XapI
EARUcXFBsSJFkldGR0RG4u9r11TG7OrqiuvXr0MiMfFJVZc6Ay++rjrNWQRodgkw04o0sc6ZG3bI
GcvaBBkeEJFhdDqjjivqiIjEZGH4ShUyDsUVdQCQSwCeJirfy47s7OwQGRmJgb17468NG3Tq28zD
QynplXplgzoOTgVQtbFu5zMJgpDuuM5SKSwqDcG6DqWSt8Kmvp/0Ob3Kq2N2/Ib9i7ahx6hu+L6V
E7bvfI6uXtqvXgOAfGXyIexJmMY2U5sPwaJrf+o0rj7ETtIBwKKgU1iAzJWou3DhAo44H8HRe0cx
XZiutp2wIqUSdOvWrTFu3Dg0aGC+hH3jxo1x7pz6Mzft8uYFAAgr1L8O6NmzJzZt2pTuXE0nT8G9
lT66B6mBtX1+g5Jkih5sX6x3os4Qm1YuUPNWkOmYKkkHADYWwMAa8g913n8BttwCNt0EwqKV7w2o
8gkTGxdU+7PWWSrF3cBA2Mrew9m1aZp2qn5OJ/0MVzXms4AAvHrzRqvfFUn6SNNui02dvOstBaan
s9A06XcfAGzy8YG7jr9LVblw+TJy5EhJbH/69Am2tiLuXY68D1zuAYR+TT7nKga4HwLcdok3Rwax
rE0Qi0tQpsNEHRGRWPxGAd7m39qTnQUFvYWzc+E01xUTcYKTJ+oA+JQov6Zu22t2IAgCOrRpg0Wz
xCkMEBQYCJlMBkEQsH//fnh6eqpt6+bVTK9KsL8tXoxJI9MWpVB84XZ8/HoAQKkW077e+ydNG1Wc
pVKl7bw7Z61Hu1HdkM/eCjltcqCexylc9mumdazD/h2GGcIMxEfHw8Im7Z9cXewbY0uw8SsMS9p6
ip6kywxiYmJgY2OjdK161aoY0Ls3Vs6erfU4J86exfAhQ+B/S7lyaUxMDKysrESJVRXFF//L587F
xiVLDBpv3ebNSmOqS2Y8ePnSoHnUKSAVJ9EZ/uSO3n3tSrvo3bdx48a4qOc5dWK4d34P4G7Y1max
5c+lfrutIORJ92eui2sDWOJj8tdpE3GJcJZWS76WtFJanaJFiqBPt266PYlUVCXvpp+Xry5Msrg5
0KFiyvdoes9THw3r1VMaN3fu3ADk1coVv4/TFXweuDZQnphL4roAqDhavn01Aytup/48Rl1t6RzH
ZB1lKtz6SkQkFm57NbsXL16gRAlxKmcmsbBohPj4eFHHzAgEQcDDq1dhba18INFSrxpY8lD+fBee
D8BYd1c8CgiERarXBZpWNiTd1+ZvDF2TdYIgwMHeHv5+flr30YazVIqiRYvipUKSInVsnz7Fw9Fp
L2Iita8AOSfvHMR+jE2zzVKfJKU+bNp3wKfdu2CRw/Ath6l9CY9CLvuMtYo4MTFRaRWKMV5AJ1FM
GOj84lkDY774TxITE4NvatcGALx7905ppZYxE7tHu1RBK99b6TfUwJCVeW/+dwJF6n6n99xlazRB
j0Vpz0E1BXeZHzw8PMwytz4EQUj3mIE+xSXYkncI4u4uw9OTE1G6uTyBPmDLDazuUT0lMSdYIihA
u+MLAGDq4sVarR7Vl6OjI0JDQ436PaqOs1QKOzs7hIeHp1yMDQMCxwP/rlVuLJ0LVBpn2gBFdOfd
aXxbqKlo48lkiRh9rCIWtXoo2phEOtDpjwQTb3onIsqiggOAwrXMHUW2V6JECYh5ntyhQ+FZMkmX
JHWSDgC8d17HpZmNAAjoaCcgEYCFANSvJsWLz7HJyYn2uQUIlgXUjh0UGKhV4sI3/Cy62Gt//ptM
JsP70FA4S6Uo5eqqdT9VPn/5AmepNDmp+DLVSiLf8LN4fO1e8te5c1sgJtILFrbaV02dECk/h++Z
wknmXfM1MUmSTtLWE5tHjjBKkg4ActnnxJJffY0ytq7ev38PQRAwceTI5JU3xn4RrTjPmKFDIQgC
wsI0b3XWRBAEFClUyCSxW1tbJ88zqF8/pe9V19LGO48q6v0bo42dnsjnDw1K0gHAv9fNk6Sb/V0u
LHzjYZa5jWnqIX883tYHACAp2BlTujVD3vxOGF855WdW1bLF0HP4QgApyfEljxLUjlmraVOjJukm
TJiA0YMGqf0e7VZLCs/a8t9NpRt0x7k4+bWAr39KyEJ2o0xb5dWxsX6TUGHMSchCdiMgHuhcU4q7
ap5iUGAgJo8cKf+eTfxa3tcqH1Brjby4g+JHJk7SAcC3hZoiOv5j+g21JAgSLGr1ED13GW8lNJFY
mKgjIhLDlmpAt6vmjoKSNYCtrf4vyCwsGgFogDZt2ogXUgby999/o4ba7UNRcJt6TmVV1BK2KX/c
Lr4UgGaSEFwWYReJrsm6pDOIbt68mZxoc5ZKsWlH+gm0ibNmJbd3qVcv3cPHpzZPewZb/OcfdUrW
AcDmpvJCJV3sG2N7mPFf7Fu2+wGta9RAZzc3o84z6ppu/x2MYfLkyShQoACCAgMxsHfvNPcV/40o
fh2vdM8VsRemKLUrpfA4pZ/q5PDQn39GUGAgHBwcMHfuXJ2fQ8+ePbFi/nxcOal6K7SzVApn15oA
opTiS0RK8sKnaw2sepao1AdA8ot/dRbNmoWq336LnF+rAfsMHKBz/NrqcCrEaGOn59ZqzUVdtOUS
skeUcbSVmBCPmOgvONwFKLk0/fYZhUwm07hNVTHRlfS475gFuHX6qNK1A3sOY2Yv9+RrQYGBGFFe
9ZsPg8aMQfD796LEr87cuXPRtaPmLcg7r/rDWSrF0/MLtRqz/PAjeLCgefLXcdYSvPqk/vdSp6Rj
JSRGKNGbwey/p/0xBdr6s1MUPnz5T/RxicTERB0RkQ42btyIDh06oEyZUsibNw/KlCmF1q1bYelF
ZOmVV5nR589fADTAixclUahQO7x+rf6P9w8fIuHs7IU5cy4BaJDl/1/Wr18f19WsBuhZqy4A+Yv8
sX8rZ+GWTvgJPSZsBAB4dvwekraDUM9S/TzyFY7a0TVZBwCVK1dOTrTJZDI8ef1aKSmj6kNau7ZS
H33pkqxL2vZqqu2uRXr2gkOePDg0VZzEhCbW8cZZraeL3377TeMKtKDAQGzxKoX8HjOUrlkoPJZA
BquGsxAUGAhrAYgD8ExxzPhAbP8nEJ62wJoXiVAnKDAQEyZoX804yZYtW/B98+Ya20yuKkEV17qY
Vl3+TfcsMBClpVI8FWH13YGtWxEdLa8GUOebbwweT5OdDXIZ1L/09z/p1e/VpcMGzZukY8eOmNHI
dC+hJtRL+X303BvouBuousZk0xskKVlXrmZNo8/lLJXi6KlTBv1cF4/mbb+KVG3llcmAe+/U/5zJ
To4+WCT6mBIhByadrC76uERiYjEJIiI1/P390b9/N1y/nnLmR+/eZdG793AVrScA+F/yV+3bT4a1
tRN8fTPGtrCyiPOwAAAgAElEQVTsrESJEnj37oPGNo6OQFDQaxNFlHHEJySk2Ra5+ZryC4b5Ci8g
vOf8mfz4wB7NL3q1PaNOkW/4WfQv8wPWPtmnU78kmzZtUrvl6dbZ66jkJoWFlW5/+nSe3EftvaRk
XXSEFyxSH+KXygO786gQkU7pQBFEfPmCkIgIxB/Yb/S5ACDq6F/438mbqNu8qknmSy2peIlGCf+h
x85nCApUXdzEWSpF+37TAQDHZrZH7ppDkSb/bCHFqAa10apafjjkEecsOl31+/Mq5rScDUD5+yOz
vesusTRsFVCFbmmLyZhaYmIiHIqUhPcOcc9ETa34kw2wcVf+GbSnk/xzyaXyxF1GJ5PJsGrVqnTP
NdXHxStX0GPAgOR5TOHatWto2bkzju1SXR11m+LvUElhNJIAjRSuCQU64cnBlCZKldMLdIIrgP1/
+2uMoU3XrrCwyB4v42VGOnJ+SNmzKFHTAv9dT4CLS2l4etaHVFoW+fLlAQCEhX3EjRuPcOHCLfzv
f7fRo0cPzJkzB0WLFjVKPESpsZgEEZGC48ePw94+CHXq6F8ZLrXw8E+YPfsc5s+fL9qYRGIwxqH1
Pw8fjlN+fga9aDLWyjN9x53UaCB+O7dK7f2376Jxwz8UrVs6qbzf1aEJtoeewQxhBprNb4Z6Y+rp
HIM22sychSPXr5u8wqu5q8pqc2h9kqTD6ZPaKz6OOjEaFcedBgBc8A9E42ry7bFJ/arUro7hi/ah
j5vmlaL6JKmDg4PhXLIk7l+5olM/sThLpZgxYwamTp0KAPjn8WPULFfOaPPt/7442h3Wf+vZm6un
UKS29hWYAcOKUKhjZW2DSSejRR0zSa0vx9CyZct025VcCjwbBkjMkz/W2dGjR9G6dWula00aNsSQ
fv3gWqVKmvbRMTHYtns3Nm7fjpevU95Qs7S0RExMjGhFXHQxadIkzJ49G+cOHkQpHVaOi8FZKsWY
MWOyzd+UYlRqjYqKQr16UgQE/CFSVHKOjm1w4cLfcHER7zUDZWk6/bBioo6I6KvcuW3x6dNxo40/
c+afmDp1vdHGJ9LHw4cPUaFCBQCGJewW+fhg+bp1KFGiBJ4/N3yVSTfHptj24bTB4yj67/4zODoV
QC673Dr10ybB9+eWZ9i+IwgnjzRS23eGIN96mboCrBh6Ll6CrX5+ZkmY1Ww5EP8cU5/INLbo6Gjk
zJkTty5eRN48ecwWR2h4OKp5eCA2NhaWlhr2hKthY2ODmJgYk1eSdJZK4ebmhosXLyZfG+CzEqsH
DzLanIYmzc55t0Sjpcd06nO8Vw202HRd7znVadGiJepO0C0WTd49vY2VvSvr1GfvfWDkycyxwk6V
AwcOYNasWbhx40aae9bW1vjll18wcODA5N9VGUVSknDN4sX4rrFuRzfo4pSfH34eLt/NkcVfu6dh
SKKuc+fO2LJlAKytdf95rKsFC65gzJgxRp+HMjUm6hRk6SdHROKxtrZGTIyapEDCcwg5f4MsNmUL
rE+jJqh44gwapyoc9SYiDk72TSCTXVA5VP78bfD+fbhYYROJRiaTQSJJ2URXpVIlbFyxAo4ODirb
+/71FybMnJn8datWrXDkyBHR4klMSMTHDxGwK5hPtDEB/VbVadsnNCwWxcvsx+fQzmr7zRBmiJ6o
67dsOTacPm3WVW2eHSfgwJ45ZpsfMM4KUW0lF24w8O/qxMRE5Pi6Hd3YzyMp5rt376JSpUpK90r2
6YvnG4z7xtK7G+dQqHqj9BuqoE+i7/XlY3Cql/4KNX1VdGuLH387mH5DDVZ0KoSQ4Hd69y+5FLgz
AMiT9WsMZCglS5bEixcvAAAVy5fHoe3bDdqaGh8fj7bduuHew4cAgGLFiuG//7Jn8YOxx1wwv+Vd
nfv9++8OlC1r2DZVQWio9u95VTZvPo6ePX8zaE7K0nRK1GWPze1EROlQm6RTEH5yMZZ+aYu4HSfg
EAdYC0BpS3csvXsEbb9pBZnsApzsm0Cwyq92jPfvD4kZNpFokiqpJjlz5gwatWuHyMhIle179Ohh
1Hf2JTkkGOfWD6sf7RV13HajuuncZ2ngNq3aOeSzwufQzrCw3YGpHlfVrggUM1kXExdnliTdsWPH
MHz4cDx69Cj5miCor3baq1cvrFu3Tq+VZtqSyWR49+4dChcuDADIaWNj1K2kFWrXRnRMDAAgJCQE
+fOr/9mvLYlEkvx9pbilb/fGjajpqrrirLYOHjuGYQqFLhISEpSS84r+M3LlTADwG95a9K2o6iTG
xRg1SQcA9y8dxKFDh7Du/BtUb9Nfp74LPfPjY/h7TDMgSQfIV9TdDQFabc+8q+syI8VV5KdOnULZ
GjUMHvPkyZNo1ky37d1ZUfNyaSuvp2ffvt/www8NVd5ratMQv368ANcTs1FwpzsittTXbtDE12iz
JQ8O9VK/artnzxaIizsHS0v93oAgUsQVdUSU7cXExMDa+pr6Bl9X1C2r9xRD/eQvvBe7NUHtc2fQ
wKohElO921bBsiEexKl/B27WLD9MmWL8aoxEWcGeOX+ieqv6KFVVvPOy9FlVFx8br3UhioT4BFjb
7Ub85x9V3hcrUefqPRw3nz0zepIuMjISdnZ2yV+PHjIEQ/r103mciMhIuHp4IDFRXs2wcuXKuHXr
lmhxqrJ8+XIMGzYszXUPNzd069gR1aVSONjbp7kfGhaGU35+OHbmDPwuXUpz38fHB4MGGW9rqCoD
BgzAmjX6lfucPHkyZs2apXV7U5w7mBgXg8S4WFjk0n27sq4r6i5N9ILb7J06z2Oohu4euPbPddT8
YSiKlK+G+Nho/HvtOG6f3o65c+di3LhxRpt7+nlgyy3gyVCjTUGU4bRu3QpHjqivvJ06Udd030T8
GnEerhYN8UV2AV2Ke2DXK0vIEk8lr6hTXFlXy9odsyLO4zsb9THI2zMNQWlw66uCLP3kiEhMF9Nv
IpoGJpyLKPOb6DEAs/1WizbeyXX70fzndjr10aUabVIi0MJ2h8pknRhn1RXu0RMfPn5E3H79KuRq
49OnT8jz9cw3Y2zD3L53LybOmgWJRIKEhATRx9fk8OHDWL16Na5cuYIPH9JWhXZ0dESbNm3QsWPH
NAffZwemKhCi71l1uvYzRiGJzKLkUmBxc6BDRXNHQqSf4M/PUNC2lFZtBw0ahJUru6i9nzpR97Tz
BXzrUxxvT6xNTsrlFIAvifLHTyPPoHTeJgjb8T3gOQoOORshRnYhbWVwBUzUkRpM1CnI0k+OiMRz
9+5duLiEGn2e4cP34vfffzf6PERZjdiVYDeOWYbeC9KutDJ0/tTtVCXrgu8EY1XlVXon6iw826GA
nR3ebN6kV39tmPK8t+NnzmDAqFF49OgRyhmx0ihpz1SJuisze6PO1I069/t70o+o/9sOrdtn50Qd
IH9B5LyU22Epczp4fy7aVhyvdft37w6gUCHV5+uaBt+QJ5V0StSpPpiCiCibcXFxQVxcHaPO4eo6
lEk6Ij35hp9FF3vxquqdXLdftLGSnFi7H5veKld/jP/8IyxslRMKBb8tCCBlZZ0uOsyZA4/KlY2e
pKvp6qoySZcYvB81B6zBTT9fxENekMB1xGEkvt2Bbyf5AV+vObvWTn4MANW6TsH1PZOw4G7a6n0t
mjRBUGAgypcvb7TnRBlTnakbkRAbrXO/Cl1HGiGarEuAPElXepl8SyxRZnLlv106tS9UyNNIkWj2
4UMkmKQjsTBRR0T0lfyQ8wb48qU6ypXT/cB5VX74YRJu37YH0AABAaavREiUlYiZrPMNP4tF3aZq
3X7r+1NITEjU2Obd01ewsklbbjH+849Y5vMIHbuknHWWtJruzY03WscgaeuJDvXq4/Sv2p81po8c
Egl2b1S9yklSsC1CrqyC5/B5ydsWer+biaT/Mokhf8Gp81rYCTFK/fy3z0L8f0/RvaL6DUNBgYFK
BRQoe9jTRPeVL44utRB6/4bW7e1Kcd8nADwdBkx3B1zXAo/S7vgmypD+C7+tR68GePasGKZM+UP0
eFI7fPgy4uLqwNEx+x2TQMbDRB0RUSq5cuXC48cvADTAiRNfIAgNsXKldudA7dhxBoLQEOvWPQDQ
APv2XUDlypWNGi9RdiJmsu76kbRFAtTJYZED491+Vnu/i31j9Jw7WO39YYPLY/mS6rAvtCf5mgwy
TK4xGfPmzcP48eMxfvx4zJs3D/v378fLly+V+kvaeiJ46xZ0dVddyU5M7du0UXvvs98yBAUG4tHK
9mj/x1MAwLDt11C2hbzia7lmM3F5Yi3c9P8bZTunnCu4aVhzTAjtiSL8y5NScV+sXzX0B9sXa922
yi/GTW5nNgH9gYK28vPriLKqUqVKYdasTQAawMamKfbvF+886mXL9qBEia4AGuD778cZtaI5ZU88
o46IiIgyneGu3fF7wFaDxpDJZLh64ALqtHPXqr2+5+QtWLAAY8eOVXmvetWqqFWtGvLmzQtAXmH1
32fPcOvuXbwLCUnT3s3NDRcvGrf4jSAIJjmbLrU3795h3c6dWL9+vcnnJmWmOqMuiT5nyGnbJzEu
FhJLK31Dy/I8dwJvPgLXdC/kTGQSPXZZYkvntMcmGKJv377YsGED3N1d0avXd2jXrgHy5VOuQP32
bSguXryJLVtO4tChvzF69GgsWLBA1DgoW9Fpy4CFsaIgIiIiMpYJf83H+pFL0HfxCL3HEAQBS3+a
gToGFqlQlcCrW7curly5AgDo0KaNaImvE2fPKm0PNcYbrvPmzYOzVGrSZN3te/fQpmtXVsrLpqzs
jHfw++1101F10GyjjZ/ZHfCSfy7JYhOUjaxfvz7dN4UKFwY6dfJEp07aH5NBJBZuQCAiIqJMp1Ap
J/RdPAJ9in1v0Di+4WdxbPVerdqO2p52+1zUxy9Y//xg8teCIEAQBOxYvRpBgYEICgzEolnibbv7
rnHj5HGDAgMxbexYCIKAiRMnijbH2LFjIZPJ5EUhvhaDMJaBo0fDWSrFvtOnmaTLxn44/BK7G9sb
ZewHvizipI2kJB23wxIRmR8TdURERJRp+TzYhanNhhg0xubxPlq1q9GqPg4s3q50rU/x75HLLjcO
HjyYvGVU1Uq0pITXjzWlSl/HXpiCWADdakkREC9vq/jYWeoKAGjXsj6+GaFcURYA+nTrhqDAQMyd
O1f0QgwymQwvX75MTthVbSjO+XhnL15MHjNfwYKQyWTc7kpIjIs1dwgEecJu732gy1/mjoRIrnDu
suYOgcjkuPWViIiIMq2cuXOhx+xBBo3hc2+n1m13zPwDniO7Jn/tvVG+JcbT0zPdraKV+mxFFf1C
xL4d41Bhuvr7zwIC0PrHH2FnZ4eIiAg9Z0mraNGiySvdrl+/nmaFXYH8+dG5XTvUcnVFhfLlUahA
AURERuJDaChu3LwJ37174X/rllIfFxcXrp6jNLwufkHQie1w/q5r+o0BFKjqZuSIsq8OFeUfJZcC
9wYBtjwnn8yocuHm5g6ByOS4oo6IiIgytXI1KxlUCdbBqQAGV+ysc7+u+Zqgzg8eAICLR46k294u
cKHOc+jiyI4diIyMNNr4NWrUgEwmU/rwDwhAgWLFsO3AAbTt3h3OUik8PD3Rf/Ro3H7yBL+vWJGm
z507d4wWI2VuV3/VvqJBhW4jtWqXw8pG33CyvefewN1gbocl83Ip1MTcIRCZHFfUERERUabnG34W
Qyt3wbKb2yFIdN8CGv0lWqt2Rb8pmfzYyialkmQ/b2+c2LNHY9//+QdqPPPthxrye/XTFKhMQCl3
+cq9JY+aY0T5HFrFagrFihXDtGnTzB0GiaxmuXJmmdfrwmet2zrVbYFPr58ht1Mpje3qzthiaFjZ
Wq2i8oTdiBPAocfAv4adNECksypcUUfZkJDFtx5k6SdHREREyro6NMH20DN69e1T7HtseHlYY5uo
j1+QM08ufA7/CFv7PMnXBUHAnytWwMPNfNvxnKVSJCQkQCLhhglK3/HjxzF16hT88891fPddbdSq
VQGVK5dGvnx5EBb2EWFhHxEQ8BgXL97G3btP0b9/f8yePRuOjo5GjcvPuxU8lh7Vqu31hUNRY/Ry
o8ZDykouBTa0BZpozo8SEZEynd5FZqKOiIiIspQu9o3hG37WaP1W/Pwb/t59Jk3bpGIO6Z1VJ7Zh
Eybg4LFjiIyMRJ48edLvQNlS0aJOGDWqPUaO9BJlPBeXXujYsQdmzJghynhJdjbIBa+LX0RvS+KJ
TwTKLE+pFEtkbBHR72BnU8jcYRAZgok6BVn6yREREZFq+ibrujk2xbYPp9MdG4Da8R0cHBAWFgYH
e3v4+/npHIM2NmzbhpkLFgAA4uPjkSNHxtkOSxmHtbUVYmL0W2Gqi+joWHh5LcWBAwdFGe/+1oWo
2H10uu3SS9SF3r8Oh4o1RImJ0rryCvDaw4QdGd/FoM1o4NzT3GEQGUKnRB33RhAREVGW4xt+Vq8C
E4kJiVq1K1PtG7X3QkNDIZPJsHP3bjhLpckfdVu0wDV/f51jio6JwbAJE5TGunrrVnJxBibpKDUX
l0oALpokSQcANjZWOHBgDD58OIL4+HiDx7u1ZqoIUQG3VoszDqlW5+v5dS6rgP+MV8eGCP+F3zZ3
CEQmxWISRERElCUlJet0WVnnG34W01t4Y/px9WUOi1cshcFrJ6U7VtOmTaG4c+HevXvo3r07AgIC
tI4HACwtLbF8+XIcOKrduV2Uvd2+fRt3765Re//y6C5wW/QKibILAABBaAiZ7AI6F/JArXOnMLqS
Bayrrkf0sQKw9HiN+EcDIQjukMnOQxCaQBb/Bw7Hl8L31mnHdnTMC+B/ABoY9BxabtU9oa3KO38/
UcYhze4OBN59lp9fx9V1ZAwvI++aOwQik+KKOiIiIsqy9FlZ9/CK5nfuJ+ybjyJli+kcS6VKleDv
75+8Em5o5S7JjzV9xMbG4pdfftF5PsqeChZ8qvF+/UWv8H5HI3T765PS9d3BiRhdyRKAgNhbmwEA
CY99IQgNk9s4WMZDsOilMkmnqEqVynrFniRvyQrY2SBXuu3sSlU0aB4STyFbeZKu2VbAfZO5o6Gs
5r/wO+YOgcikmKgjIiKiLM03/CwGVeikU3tNW2DzFRan6qWbV1NRxiFSVKCAvfqbn68gT/upcPCa
ge0dWind+m9XM9iUnoBL65dgxpWTAIAc5bpA9nXlHSBDaJyAB/u9cDad+g3Pnz834BnISYfMTbdN
tRFLDJ6HxHWqO3C+l3x13ZIr5o6GMqOoqCisW7cObm71YWlpCUEQsMLzPwiCAEdHB7Ru3QobN240
d5hERsViEkRERJTlhb39gK2TVmHo+slatU9vy+zRlXvQalBHvePRt9gFUXqmTp2KmTObmTkKw7a+
JjG0quvpgY3QdNU5UWIh/XA7LGly+fJl1K9fH4cPz0Pr1nX1Hmffvgvo0WM2IiM/QiLhWiTKkFhM
goiIiEhRvsKOqN6qHq4eOK9V+zrt3NXei3wfji0TVxoUzy8+Yw3qT6TOzJkzIZGo//drbKdORYs2
lmDgC+6qA2aJFAnp67k3sCEQ6CNOQWDKAmQyGWxtcwK4iHr1EiCTXTAoSQcAP/zQEJ8+HYdE8jeA
i7C3txMlViJzYaKOiIiIsoV6HRrjyj4/hL8LTbet95/T1J5tFxESZlAcXewbw6NbC4PGINIkMTER
MTG1MHiw6baGys+ya4BmzcRbzdf5/Kd028gSVW9Tj40MQ4GqbqLFQvrrIwU2tJWvrotNMHc0ZE4d
OnhAEC7h8+eTRp0nPPwwgItcXUeZFv/lEhERUbbh/ec0fPwQrlXblgM6qLweEWxYoo5bXskUrK2t
4ePzF4AGuHRJgK1tcyRoOHtRVzt3nkXOnM0g3+baAMY6Tie9ohKBPuNVXr88tbsxwiEDPPcGrHLI
E3aUvYSEhAC4iL17Va9yTSpao1i8RpOXPvL91EMXn8OtAxshSJqrbJeYeB7ARZ3jJTI3JuqIiIgo
WyleqbRWlWB7zh2ssp1j0YJo1retXnPrWoGWSAxubm74/DkKOXK4A2iABw8KoG7d0RCEhujR41dc
u3ZfZb+QkHDs3Xse9esPhiA0xNChu5CUmPPymoaoKPG2uapTQKr5vLtHu31UXn93g2fTZVTPvYER
J4CKhp0gQJlIrlyB6bZRTNIJQkNcXTMDji0P4vzonzDhYhB8Hsbj7fYpKNJyG2oMCwAALB9shart
NuJm6AmNY1tbWxn2BIhMjMUkiIiIKFvSpqDDEJcfseLuDqVrMVExsM5pjYT4BOSwyKHTnH+MWIJ+
S0boHCtRdnasuytabg1QeU9dwQlDC1GQaZRcCmz5AWhYwtyRkHFpXtUmCA0hk11I9fk8BKEpZLIz
yde75HXHpLDzSPy1D6pM25CmvzoXLtxEw4ZDRHs2RHpgMQkiIiKi9PiGn013hduKuzvQvYDylhrr
nNYAgD+8F+k0Xxf7xkzSEekh8vlDc4dARvLcG6hblNths7pjx67o1D7szq+wL9xVKUknCO7wjTwP
t9xNkC9/HgDAcK8RyGnviWgNSToAaNZslN6xE5kDE3VERESUbWmTrCtesZTK637bjms9T/jbD9j4
6ohOsRGRnNfFLwhYOlqnPo4utYwUDYnNMoc8YXf6adqE3fTp05Ezpw1+/fVnPHmyA/KVWfKPS5d8
0K1bM9ja5oK/v78ZIidttWw5Bh8/ql/hmrQaLumzvUtDhL/1TXVPXrU9POoMig+W/0P5fecSRIUf
gLWGub/7bjRiYmIMfQpEJsWtr0RERJTtpbcN9tnNxyhVtZxOffRtS0RpqdvKeuTHb9F6x50014MD
LqCgq3YH01PGIgiCxm2MmuzYcQZlyrRGzZo1RY6KxCCRSL4WeDA+mUwGb+89WLZsmUnmI0qHTltf
magjIiIiAtDVoQm2h55ReS91ou1z+Ef0c/bUKvn2LPARnKuUgyDR6W80IlIQE/4eVnnzQZAonwv5
5MB6lPHsq3Qt7lMELHPbmTI8EkHp0qXw9OlmUcZ6+PAF8uRpBCcnJ1HGI3E1a9YUR49OgqWlhehj
nz59HU+f2qJ///6ij01kAJ5RR0RERKSrbe9Pw7tqN5X3hm2YAlliyvt/lSq54LgsAG3qfoch7fpi
QNuf4F61HgRBQJ8+fZT6TvQYwCQdkYGs7fNjl3ueNNdTJ+kA4OaqSaYIiUQ0ZkwX0ZJ0APDNNyXg
5PQEzs4lRRuTxHPq1GlYWjYC0ADe3nuQL19rRER81mus8+cDkSdPC+zdGwygAZo2HcEkHWV6XFFH
REREpEDVNtXSpUpjfPshsLa00mmsY1fPYPuZvZBI+N4okaFenNmDEk06prl+b9NcVOo1PvlrVnzN
XNRtdZW9PgBLj9eIfzQwnf6aK35++VIduXLlMjhOIiIDcEUdERERkb58w8/i4RX5mVe7du3CmpGL
MM1rpM5JOgBoWbsJtkxciYZV64odJlG2U6JJR7zz90tz/f62xaYPhkSjKcmW8NgXgtAQiLsL6cjr
ydcFwV3r8QsXLmhQfEREpsZEHREREVEqvtPXonRRZ0T5B8PGSlM9Oe30bdkNm8avQMkS3IZFZAg/
71ZprsVHfTJDJGQKOcp1kSfyLF0QuLgG6lonJei0P9ssf3574wRHRGQk4p/eSERERJTJFf22FKZJ
R4s+7syuY1CoYCG8C34n+thE2UGtiWvSXHsbJcPatWsRFhaGmjVrwto+vxkiI31VqtQT9+6lPZ9O
cPJE/CPla/+LkVcMlclSCv+kVyHWx2ed4UESEZkQz6gjIiIiUrBp/Aqjz7H55C6c8df84pKI0lq4
cCH+Obgd4zs20ap96McvaDVjHWJiY40cGRkiNPQIHBzyij5u3rwtERnJFZdEZHY6nVHHRB0RERHR
V+vHLIVFjhwmmWvEqikIjQgzyVxEmd2CBQvgGvMMjnlt9R5jzIaDOB34UMSoSEwFCzogOPiAaOO1
ajUbR48eE208IiIDMFGnIEs/OSIiIhKPS6kKGOs1xKRzng/2x4YNG0w6J1Fm81vP79GqRkXRxhu2
63+4eOmSaOORuAYM8MTq1fofPVCmTC88efJUxIiIiAzGRJ2CLP3kiIiISBw7d+5EdEBImuuxH1+g
/8oFaa7bOFTB6p9/VjveO/8VGHcqZeXOn+OWq23ba65pk4NEmUVMTAzurZlslLEHrd6L/91jMicj
O3XqFJo3b459+35Du3YNVLaRyWRo1WocHj16h3//fQJB0Om1MBGRqTBRpyBLPzkiIiISh7pz6Q5t
Go69bxPU9lOXgPtp3lCt2gHA0WcXsXPnTi2iJMo+cuXKib9NkMR2HZY2EU9ERCQynRJ1rPpKRERE
pEHqJFv/eUORdCy9DGn/8ho+X56kywFAfYovRW1HFwMjJMpaypcra5IkHQBsHtkdPRdvNclcRERE
2pCYOwAiIiIicypSuIjae216/Z7m2q+NSyU/Tkx1TxZ1B+EywMGln9ZvnTrmddCyJVHW9+rVK+wc
+oPJ5qvsXATFC/J7kIiIMg6uqCMiIqJsrUllN53aTzz7LPlx6vqwvZetAQAs/r4q+t3VfkzPtp44
cFC8aodEmdXLnYtgZZG28vKdu3fQa+1x5XNtBMD/d9VFB2LD/0OdaSlbygf07In+1QuqbHtwcl/8
8ccf6NevnyGhExERiYIr6oiIiChba1bdXeu2/eYNRfzXxxtTbYnt/fVcut/Hqj+PTp37gXd07kOU
1SxYsEBlkg4AeqZO0gGADKjmvRB/vFZe21rde6FSkg4AVm/ejGreC9XOXf3LQ7X3iIiITIkr6oiI
iIi0oFggYuO45UpbW5//vUB+Xl2uKrDXo+ige5V6BsdHlNmV/HAXcCqg8l67tp6Y2qRcyoXEj6g2
Qr6CdeX81ej3+yAAwPur+5ITerU69MXqhvmAmFeoNtYXAHA9DqhhqXr+ggXyIzjkvSjPhYiISF9c
UUdERNU+W4YAAAaWSURBVESUDsUk3awRy9OcP7f58gsAgOzLLfw0byh+Ulh5l9R/+En1K3YK2DmK
GC1R5lROTZIOgHKSDgAkeZIfCpZOyY+bb3+S/Hh1w3zyB9ZFk6/1H6O6wjMA/DW2m7ahEhERGQ0T
dUREREQa9FZI0q0ftxzFrcSf49X7N+IPSpSJfFupktZtn714obSN9caCdtpPJItWe8vW2gjf3ERE
RDri1lciIiIiNTauGKZ0LlZfhaQdAAwfvRzSHMCUMWnPpVM8z+7PcZrPrfM9uw+bDIyVKDOrWTRP
+o1kUag23EfpUqmq2hWDkSBtlWYiIqKMiCvqiIiIKFvbff6guUNA7z69zR0CkVn1aVo7/UZCTvgv
HY2tQ1NW0D27eQl1F19Nt2uaQhREREQZFFfUERERUbYWKnxSe6/3kGXQN4X2Rzqr6BStWbNGz1mI
sobcOa21blupbFn4Lx2dvP015vlFAJoTfdom6u7fv4+KFStqHQsREZHYuKKOiIiIsrXLly+bdf6V
BzeYdX6ijCA2Lj79Rlooq/DqRtVW11wuLTX2/+abb0SJg4iISF9M1BEREVG2d++5+oqsxnbi8lmz
zU2UUWw5d139TVkUqnkvxOA/TyIiOh7PXrxAdYViEoJF4eTHu5aMTn5cw3shEhMTlNpe6u+iMQ6J
hC+PiIjIvPibiIiIiLK9QXNHp9/ISOzt7c02N1FG4XPkUrpt/hdwC43G/Y4Oi3YpbWW9sai7UrvT
g1O2wdYYsSS5beEqTUWIlIiIyLgEmSxLH62apZ8cERERiSd3Llv4DJtn0jnz1HJC+/btTTonUUb0
9OlTRBxepbHN5mPnsenCLXyOl8Hd1QVzuzaBoKH9nhNnMff4TTSpVQ3zurhrFYfrsAU6RE1ERKQV
Tb+u0jZmoo6IiIhIrqBDASzoP80kcz0QXmHOnDkmmYsoM7gwbxjy6FBUQmy1Ri5BXLw4Z+UREREp
0ClRx62vRERERF8Fh4bg973Gr8C68PAaJumIUlkVEGzW+ZmkIyKijICJOiIiIiIFAY9v426Q8YpL
XA69jdt3bhttfKLMynfHDrPNXWPEYrPNTUREpIiJOiIiIqJU5u9Yjj7zvUUf95nNe6xZa/wVe0SZ
VdPp600+56eoGCQkJJh8XiIiIlV4Rh0RERGRBlZWVlg3Uv/VNp+jv+BzUQFjxowRMSqirMvK0hJX
Fw03yVxRsXGoN/p3k8xFRETZFotJKMjST46IiIhMJ7dtbszuMxF2tnm1an/kyikUr14WixYtMnJk
RFmPqZJ1rPJKREQmwESdgiz95IiIiMg8fHx8MGzYMOS0tkHpIiXxOSYKT18FoZRzKezesxvVq1c3
d4hEmV7OnDa4PG+o0ca3btoblSpVMtr4REREXzFRpyBLPzkiIiIioqysYIECODHlJ1HH3HTmH/x+
wE/UMYmIiDRgok5Bln5yRERERETZQaWKFbFt4PcGjXHp3lMMXb1XpIiIiIi0xkSdgiz95IiIiIiI
spNvypfD9HZ1UaFYIa37uE/wwfuwcFhZWRkxMiIiIrWYqFOQpZ8cEREREVF2dfnyZdSvXx8VShRB
nfLFkTenDW4/f4Nztx6jWbOmOH78BCQSibnDJCIiYqJOQZZ+ckRERERERERElKHplKizMFYUGYRO
/zGIiIiIiIiIiIjMhWvBiYiIiIiIiIiIMgAm6oiIiIiIiIiIiDIAJuqIiIiIiIiIiIgyACbqiIiI
iIiIiIiIMgAm6oiIiIiIiIiIiDIAJuqIiIiIiIiIiIgyACbqiIiIiIiIiIiIMgAm6oiIiIiIiIiI
iDIAJuqIiIiIiIiIiIgyACbqiIiIiIiIiIiIMgAm6oiIiIiIiIiIiDIAJuqIiIiIiIiIiIgyACbq
iIiIiIiIiIiIMgAm6oiIiIiIiIiIiDIAJuqIiIiIiIiIiIgyACbqiIiIiIiIiIiIMgAm6oiIiIiI
iIiIiDIAJuqIiIiIiIiIiIgyACbqiIiIiIiIiIiIMgAm6oiIiIiIiIiIiDIAJuqIiIiIiIiIiIgy
ACbqiIiIiIiIiIiIMgAm6oiIiIiIiIiIiDIAJuqIiIiIiIiIiIgyACbqiIiIiIiIiIiIMgAm6oiI
iIiIiIiIiDIAJuqIiIiIiIiIiIgyACbqiIiIiIiIiIiIMgAm6oiIiIiIiIiIiDIAJuqIiIiIiIiI
iIgyACbqiIiIiIiIiIiIMgAm6oiIiIiIiIiIiDIAJuqIiIiIiIiIiIgygP8DZBGWZuP9xaYAAAAA
SUVORK5CYII=
"
>
</div>

</div>

</div>
</div>

</div>
    </div>
  </div>
</body>

 


</html>
